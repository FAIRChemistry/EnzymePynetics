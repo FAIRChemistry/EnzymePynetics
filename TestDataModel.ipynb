{
 "cells": [
  {
   "cell_type": "code",
   "execution_count": 53,
   "metadata": {},
   "outputs": [],
   "source": [
    "from sdRDM import DataModel\n",
    "import matplotlib.pyplot as plt\n",
    "import numpy as np\n",
    "\n",
    "%reload_ext autoreload\n",
    "%autoreload 2\n",
    "from EnzymePynetics.core import EnzymeKinetics\n",
    "from EnzymePynetics.tools import ParameterEstimator"
   ]
  },
  {
   "cell_type": "code",
   "execution_count": 54,
   "metadata": {},
   "outputs": [
    {
     "data": {
      "text/plain": [
       "EnzymeKinetics(id='enzymekinetics3', title='test irreversible MM', kinetic_models=[], measurements=[Measurement(id='measurement18', species=[Species(id='species25', name=None, conc_unit='mmol / l', initial_conc=0.5, species_type='substrate', data=[Series(id='series24', values=[0.5, 0.3644854817261172, 0.26342082614495876, 0.18911029730907936, 0.13507619854228237, 0.09611819057303306, 0.06820762065153442, 0.04830485333484994, 0.034160437082733246, 0.024132875363550937, 0.017036342307101854, 0.012020366602019189, 0.008478109651294722, 0.005978153688854039, 0.004214590282762656, 0.002970893213232844, 0.0020940108248797087, 0.0014758522649185415, 0.0010401279274423667, 0.0007330218757907535, 0.0005165793991943711])]), Species(id='species26', name=None, conc_unit='mmol / l', initial_conc=0.01, species_type='enzyme', data=[])], enzyme_conc=None, temperature=37.0, temperature_unit='C', pH=7.0, time=[0.0, 1.0, 2.0, 3.0, 4.0, 5.0, 6.0, 7.0, 8.0, 9.0, 10.0, 11.0, 12.0, 13.0, 14.0, 15.0, 16.0, 17.0, 18.0, 19.0, 20.0], time_unit='min'), Measurement(id='measurement19', species=[Species(id='species27', name=None, conc_unit='mmol / l', initial_conc=2.0, species_type='substrate', data=[Series(id='series25', values=[2.0, 1.569516923490442, 1.2100248901425266, 0.9174066670621502, 0.6851366875818905, 0.5050421925557563, 0.3682762683103367, 0.26622606625686046, 0.1911602863758995, 0.13655977482123025, 0.09718402777037388, 0.06896920883625109, 0.04884689456949333, 0.03454511927047541, 0.02440532173305027, 0.017229017917752217, 0.012156483500162504, 0.00857420017429145, 0.006045954460889596, 0.004262408928448321, 0.0030046126231969388])]), Species(id='species28', name=None, conc_unit='mmol / l', initial_conc=0.01, species_type='enzyme', data=[])], enzyme_conc=None, temperature=37.0, temperature_unit='C', pH=7.0, time=[0.0, 1.0, 2.0, 3.0, 4.0, 5.0, 6.0, 7.0, 8.0, 9.0, 10.0, 11.0, 12.0, 13.0, 14.0, 15.0, 16.0, 17.0, 18.0, 19.0, 20.0], time_unit='min'), Measurement(id='measurement20', species=[Species(id='species29', name=None, conc_unit='mmol / l', initial_conc=4.0, species_type='substrate', data=[Series(id='series26', values=[4.0, 3.3314940265802093, 2.7291770249856264, 2.1969313450723083, 1.7368606593474134, 1.3486781412200664, 1.0293741765134272, 0.7733374028387807, 0.572956918234275, 0.41954222346175263, 0.3042888761129524, 0.21904734904543413, 0.156781701646602, 0.1117334978098535, 0.07937677544036345, 0.05626007519092634, 0.039809208815929836, 0.028135086352006768, 0.019867498685462698, 0.014020857722379529, 0.009890537373247264])]), Species(id='species30', name=None, conc_unit='mmol / l', initial_conc=0.01, species_type='enzyme', data=[])], enzyme_conc=None, temperature=37.0, temperature_unit='C', pH=7.0, time=[0.0, 1.0, 2.0, 3.0, 4.0, 5.0, 6.0, 7.0, 8.0, 9.0, 10.0, 11.0, 12.0, 13.0, 14.0, 15.0, 16.0, 17.0, 18.0, 19.0, 20.0], time_unit='min'), Measurement(id='measurement21', species=[Species(id='species31', name=None, conc_unit='mmol / l', initial_conc=10.0, species_type='substrate', data=[Series(id='series27', values=[10.0, 9.014848259300036, 8.06179527698335, 7.144800673375277, 6.268311928950545, 5.437248020972423, 4.656921669254372, 3.932866262976856, 3.2705309091155335, 2.6748168737237505, 2.149464940038742, 1.6963723909775295, 1.3149985370912927, 1.0020698566127553, 0.751749426259512, 0.5562793161785449, 0.40691770989552617, 0.2948942576229412, 0.21215188169558497, 0.15177463434952831, 0.108127228926348])]), Species(id='species32', name=None, conc_unit='mmol / l', initial_conc=0.01, species_type='enzyme', data=[])], enzyme_conc=None, temperature=37.0, temperature_unit='C', pH=7.0, time=[0.0, 1.0, 2.0, 3.0, 4.0, 5.0, 6.0, 7.0, 8.0, 9.0, 10.0, 11.0, 12.0, 13.0, 14.0, 15.0, 16.0, 17.0, 18.0, 19.0, 20.0], time_unit='min'), Measurement(id='measurement22', species=[Species(id='species33', name=None, conc_unit='mmol / l', initial_conc=15.0, species_type='substrate', data=[Series(id='series28', values=[15.0, 13.90360745163819, 12.826231258525885, 11.769988897467153, 10.737304494447198, 9.730953331390248, 8.754108262361743, 7.810383978912784, 6.90387107791713, 6.039148211393449, 5.2212514293625025, 4.455575136702814, 3.747666272723041, 3.1028784698204706, 2.5258650681718455, 2.0199361188261964, 1.5863803112509045, 1.2239304704409646, 0.9285827943809541, 0.6939013886295122, 0.5117642650746206])]), Species(id='species34', name=None, conc_unit='mmol / l', initial_conc=0.01, species_type='enzyme', data=[])], enzyme_conc=None, temperature=37.0, temperature_unit='C', pH=7.0, time=[0.0, 1.0, 2.0, 3.0, 4.0, 5.0, 6.0, 7.0, 8.0, 9.0, 10.0, 11.0, 12.0, 13.0, 14.0, 15.0, 16.0, 17.0, 18.0, 19.0, 20.0], time_unit='min'), Measurement(id='measurement23', species=[Species(id='species35', name=None, conc_unit='mmol / l', initial_conc=30.0, species_type='substrate', data=[Series(id='series29', values=[30.0, 28.76776725048138, 27.54194854235051, 26.323014936939547, 25.111487847618747, 23.90794604735632, 22.71303381403288, 21.527470339468877, 20.352060884921805, 19.18770983211912, 18.03543574383351, 16.896389744259277, 15.771876190622983, 14.663377453787515, 13.572582605926526, 12.501420576175885, 11.452097939896705, 10.42714102809542, 9.429441694060694, 8.462303525321602, 7.529483109469235])]), Species(id='species36', name=None, conc_unit='mmol / l', initial_conc=0.01, species_type='enzyme', data=[])], enzyme_conc=None, temperature=37.0, temperature_unit='C', pH=7.0, time=[0.0, 1.0, 2.0, 3.0, 4.0, 5.0, 6.0, 7.0, 8.0, 9.0, 10.0, 11.0, 12.0, 13.0, 14.0, 15.0, 16.0, 17.0, 18.0, 19.0, 20.0], time_unit='min')])"
      ]
     },
     "execution_count": 54,
     "metadata": {},
     "output_type": "execute_result"
    }
   ],
   "source": [
    "enzymekinetics, _ = DataModel.parse(\n",
    "    path=\"/Users/max/code/EnzymePynetics/irrev_MM_enzyme.json\"\n",
    ")\n",
    "\n",
    "enzymekinetics"
   ]
  },
  {
   "cell_type": "code",
   "execution_count": 55,
   "metadata": {},
   "outputs": [
    {
     "name": "stdout",
     "output_type": "stream",
     "text": [
      "[[0. 0. 0. 0. 0. 0. 0. 0. 0. 0. 0. 0. 0. 0. 0. 0. 0. 0. 0. 0. 0.]\n",
      " [0. 0. 0. 0. 0. 0. 0. 0. 0. 0. 0. 0. 0. 0. 0. 0. 0. 0. 0. 0. 0.]\n",
      " [0. 0. 0. 0. 0. 0. 0. 0. 0. 0. 0. 0. 0. 0. 0. 0. 0. 0. 0. 0. 0.]\n",
      " [0. 0. 0. 0. 0. 0. 0. 0. 0. 0. 0. 0. 0. 0. 0. 0. 0. 0. 0. 0. 0.]\n",
      " [0. 0. 0. 0. 0. 0. 0. 0. 0. 0. 0. 0. 0. 0. 0. 0. 0. 0. 0. 0. 0.]\n",
      " [0. 0. 0. 0. 0. 0. 0. 0. 0. 0. 0. 0. 0. 0. 0. 0. 0. 0. 0. 0. 0.]]\n",
      "Fitting data to:\n",
      " - irreversible Michaelis Menten model\n",
      " - competitive product inhibition model\n",
      " - uncompetitive product inhibition model\n",
      " - non-competitive product inhibition model\n",
      " - substrate inhibition model\n"
     ]
    },
    {
     "data": {
      "text/html": [
       "<div>\n",
       "<style scoped>\n",
       "    .dataframe tbody tr th:only-of-type {\n",
       "        vertical-align: middle;\n",
       "    }\n",
       "\n",
       "    .dataframe tbody tr th {\n",
       "        vertical-align: top;\n",
       "    }\n",
       "\n",
       "    .dataframe thead th {\n",
       "        text-align: right;\n",
       "    }\n",
       "</style>\n",
       "<table border=\"1\" class=\"dataframe\">\n",
       "  <thead>\n",
       "    <tr style=\"text-align: right;\">\n",
       "      <th></th>\n",
       "      <th>AIC</th>\n",
       "      <th>kcat [1/min]</th>\n",
       "      <th>Km [mmol / l]</th>\n",
       "      <th>kcat / Km [1/min * 1/mmol / l]</th>\n",
       "      <th>Ki competitive [&lt;bound method ParameterEstimator._subset_data of &lt;EnzymePynetics.tools.parameterestimator.ParameterEstimator object at 0x288b573a0&gt;&gt;]</th>\n",
       "      <th>Ki uncompetitive [&lt;bound method ParameterEstimator._subset_data of &lt;EnzymePynetics.tools.parameterestimator.ParameterEstimator object at 0x288b573a0&gt;&gt;]</th>\n",
       "    </tr>\n",
       "  </thead>\n",
       "  <tbody>\n",
       "    <tr>\n",
       "      <th>irreversible Michaelis Menten</th>\n",
       "      <td>-5478</td>\n",
       "      <td>140.000 +/- 0.00%</td>\n",
       "      <td>4.000 +/- 0.00%</td>\n",
       "      <td>35.000 +/- 0.00%</td>\n",
       "      <td>-</td>\n",
       "      <td>-</td>\n",
       "    </tr>\n",
       "    <tr>\n",
       "      <th>competitive product inhibition</th>\n",
       "      <td>-1384</td>\n",
       "      <td>140.129 +/- 0.02%</td>\n",
       "      <td>3.983 +/- 0.07%</td>\n",
       "      <td>35.179 +/- 0.07%</td>\n",
       "      <td>1000.000 +/- 0.01%</td>\n",
       "      <td>-</td>\n",
       "    </tr>\n",
       "    <tr>\n",
       "      <th>uncompetitive product inhibition</th>\n",
       "      <td>-1130</td>\n",
       "      <td>141.259 +/- 0.05%</td>\n",
       "      <td>4.055 +/- 0.19%</td>\n",
       "      <td>34.837 +/- 0.19%</td>\n",
       "      <td>-</td>\n",
       "      <td>1000.000 +/- 0.13%</td>\n",
       "    </tr>\n",
       "    <tr>\n",
       "      <th>substrate inhibition</th>\n",
       "      <td>-1130</td>\n",
       "      <td>143.767 +/- 0.06%</td>\n",
       "      <td>4.222 +/- 0.20%</td>\n",
       "      <td>34.052 +/- 0.21%</td>\n",
       "      <td>-</td>\n",
       "      <td>999.999 +/- 1.12%</td>\n",
       "    </tr>\n",
       "    <tr>\n",
       "      <th>non-competitive product inhibition</th>\n",
       "      <td>-1057</td>\n",
       "      <td>141.386 +/- 0.13%</td>\n",
       "      <td>4.038 +/- 0.45%</td>\n",
       "      <td>35.017 +/- 0.47%</td>\n",
       "      <td>1000.000 +/- 30.44%</td>\n",
       "      <td>1000.000 +/- 14.06%</td>\n",
       "    </tr>\n",
       "  </tbody>\n",
       "</table>\n",
       "</div>"
      ],
      "text/plain": [
       "                                     AIC       kcat [1/min]    Km [mmol / l]  \\\n",
       "irreversible Michaelis Menten      -5478  140.000 +/- 0.00%  4.000 +/- 0.00%   \n",
       "competitive product inhibition     -1384  140.129 +/- 0.02%  3.983 +/- 0.07%   \n",
       "uncompetitive product inhibition   -1130  141.259 +/- 0.05%  4.055 +/- 0.19%   \n",
       "substrate inhibition               -1130  143.767 +/- 0.06%  4.222 +/- 0.20%   \n",
       "non-competitive product inhibition -1057  141.386 +/- 0.13%  4.038 +/- 0.45%   \n",
       "\n",
       "                                   kcat / Km [1/min * 1/mmol / l]  \\\n",
       "irreversible Michaelis Menten                    35.000 +/- 0.00%   \n",
       "competitive product inhibition                   35.179 +/- 0.07%   \n",
       "uncompetitive product inhibition                 34.837 +/- 0.19%   \n",
       "substrate inhibition                             34.052 +/- 0.21%   \n",
       "non-competitive product inhibition               35.017 +/- 0.47%   \n",
       "\n",
       "                                   Ki competitive [<bound method ParameterEstimator._subset_data of <EnzymePynetics.tools.parameterestimator.ParameterEstimator object at 0x288b573a0>>]  \\\n",
       "irreversible Michaelis Menten                                                       -                                                                                                      \n",
       "competitive product inhibition                                     1000.000 +/- 0.01%                                                                                                      \n",
       "uncompetitive product inhibition                                                    -                                                                                                      \n",
       "substrate inhibition                                                                -                                                                                                      \n",
       "non-competitive product inhibition                                1000.000 +/- 30.44%                                                                                                      \n",
       "\n",
       "                                   Ki uncompetitive [<bound method ParameterEstimator._subset_data of <EnzymePynetics.tools.parameterestimator.ParameterEstimator object at 0x288b573a0>>]  \n",
       "irreversible Michaelis Menten                                                       -                                                                                                       \n",
       "competitive product inhibition                                                      -                                                                                                       \n",
       "uncompetitive product inhibition                                   1000.000 +/- 0.13%                                                                                                       \n",
       "substrate inhibition                                                999.999 +/- 1.12%                                                                                                       \n",
       "non-competitive product inhibition                                1000.000 +/- 14.06%                                                                                                       "
      ]
     },
     "metadata": {},
     "output_type": "display_data"
    }
   ],
   "source": [
    "pe = ParameterEstimator(enzymekinetics)\n",
    "print(pe.inhibitor)\n",
    "pe.fit_models()\n",
    "\n",
    "# order of y0s does not match order in implemented kinetic models"
   ]
  },
  {
   "cell_type": "code",
   "execution_count": 56,
   "metadata": {},
   "outputs": [],
   "source": [
    "y0s = pe._get_y0s(\n",
    "    substrate=pe.substrate, enzyme=pe.enzyme, product=pe.product, inhibitor=pe.inhibitor\n",
    ")"
   ]
  },
  {
   "attachments": {},
   "cell_type": "markdown",
   "metadata": {},
   "source": [
    "## Test KineticModel"
   ]
  },
  {
   "cell_type": "code",
   "execution_count": 62,
   "metadata": {},
   "outputs": [
    {
     "data": {
      "text/plain": [
       "ModelResult(id='modelresult5', name='irreversible Michaelis Menten', equation='#TODO', parameters=[Parameter(id='parameter6', name='k_cat', value=139.99999997847823, standard_deviation=1.941721384697543e-09, correlations=[Correlation(id='correlation6', parameter='Km', value=0.9142541220927958)], upper_limit=12322.327495186193, lower_limit=1.2322327495186194), Parameter(id='parameter7', name='Km', value=3.9999999977466065, standard_deviation=2.3610069690129153e-10, correlations=[Correlation(id='correlation7', parameter='k_cat', value=0.9142541220927958)], upper_limit=6161.163747593097, lower_limit=0.006161163747593097)], AIC=-5478.488289715518, BIC=-5472.815725901614, RMSD=3.5606567862629054e-10)"
      ]
     },
     "execution_count": 62,
     "metadata": {},
     "output_type": "execute_result"
    }
   ],
   "source": [
    "model = pe.models[\"irreversible Michaelis Menten\"]\n",
    "\n",
    "res = model.fit(pe.substrate, pe.time, y0s)\n",
    "\n",
    "model.result"
   ]
  },
  {
   "cell_type": "code",
   "execution_count": null,
   "metadata": {},
   "outputs": [
    {
     "data": {
      "text/html": [
       "<h2>Fit Statistics</h2><table><tr><td>fitting method</td><td>leastsq</td><td></td></tr><tr><td># function evals</td><td>16</td><td></td></tr><tr><td># data points</td><td>126</td><td></td></tr><tr><td># variables</td><td>2</td><td></td></tr><tr><td>chi-square</td><td> 1.5975e-17</td><td></td></tr><tr><td>reduced chi-square</td><td> 1.2883e-19</td><td></td></tr><tr><td>Akaike info crit.</td><td>-5478.48829</td><td></td></tr><tr><td>Bayesian info crit.</td><td>-5472.81573</td><td></td></tr></table><h2>Variables</h2><table><tr><th> name </th><th> value </th><th> standard error </th><th> relative error </th><th> initial value </th><th> min </th><th> max </th><th> vary </th></tr><tr><td> k_cat </td><td>  140.000000 </td><td>  1.9417e-09 </td><td> (0.00%) </td><td> 123.22327495186194 </td><td>  1.23223275 </td><td>  12322.3275 </td><td> True </td></tr><tr><td> Km </td><td>  4.00000000 </td><td>  2.3610e-10 </td><td> (0.00%) </td><td> 0.6161163747593097 </td><td>  0.00616116 </td><td>  6161.16375 </td><td> True </td></tr></table><h2>Correlations (unreported correlations are < 0.100)</h2><table><tr><td>k_cat</td><td>Km</td><td>0.9143</td></tr></table>"
      ],
      "text/plain": [
       "<lmfit.minimizer.MinimizerResult at 0x287d01570>"
      ]
     },
     "execution_count": 9,
     "metadata": {},
     "output_type": "execute_result"
    }
   ],
   "source": [
    "res"
   ]
  }
 ],
 "metadata": {
  "kernelspec": {
   "display_name": "kinetics",
   "language": "python",
   "name": "python3"
  },
  "language_info": {
   "codemirror_mode": {
    "name": "ipython",
    "version": 3
   },
   "file_extension": ".py",
   "mimetype": "text/x-python",
   "name": "python",
   "nbconvert_exporter": "python",
   "pygments_lexer": "ipython3",
   "version": "3.10.9"
  },
  "orig_nbformat": 4
 },
 "nbformat": 4,
 "nbformat_minor": 2
}
