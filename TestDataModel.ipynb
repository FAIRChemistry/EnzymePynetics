{
 "cells": [
  {
   "cell_type": "code",
   "execution_count": 1,
   "metadata": {},
   "outputs": [],
   "source": [
    "from sdRDM import DataModel\n",
    "import matplotlib.pyplot as plt\n",
    "import numpy as np\n",
    "\n",
    "%reload_ext autoreload\n",
    "%autoreload 2\n",
    "from EnzymePynetics.core import EnzymeKinetics\n",
    "from EnzymePynetics.tools import ParameterEstimator"
   ]
  },
  {
   "cell_type": "code",
   "execution_count": 2,
   "metadata": {},
   "outputs": [
    {
     "name": "stdout",
     "output_type": "stream",
     "text": [
      "EnzymeKinetics\n",
      "├── id\n",
      "├── title\n",
      "├── model_results\n",
      "│   └── 0\n",
      "│       ├── id\n",
      "│       ├── name\n",
      "│       ├── equation\n",
      "│       ├── parameters\n",
      "│       │   └── 0\n",
      "│       │       ├── id\n",
      "│       │       ├── name\n",
      "│       │       ├── value\n",
      "│       │       ├── unit\n",
      "│       │       ├── standard_deviation\n",
      "│       │       ├── correlations\n",
      "│       │       │   └── 0\n",
      "│       │       │       ├── id\n",
      "│       │       │       ├── parameter\n",
      "│       │       │       └── value\n",
      "│       │       ├── upper_limit\n",
      "│       │       └── lower_limit\n",
      "│       ├── fit_success\n",
      "│       ├── AIC\n",
      "│       ├── BIC\n",
      "│       └── RMSD\n",
      "└── measurements\n",
      "    └── 0\n",
      "        ├── id\n",
      "        ├── species\n",
      "        │   └── 0\n",
      "        │       ├── id\n",
      "        │       ├── name\n",
      "        │       ├── conc_unit\n",
      "        │       ├── initial_conc\n",
      "        │       ├── species_type\n",
      "        │       └── data\n",
      "        │           └── 0\n",
      "        │               ├── id\n",
      "        │               ├── values\n",
      "        │               ├── values_unit\n",
      "        │               ├── time\n",
      "        │               └── time_unit\n",
      "        ├── temperature\n",
      "        ├── temperature_unit\n",
      "        └── pH\n"
     ]
    },
    {
     "data": {
      "text/plain": [
       "ClassNode(/EnzymeKinetics, class_name=None, constants={}, id=None, module=None, outer_type=None)"
      ]
     },
     "execution_count": 2,
     "metadata": {},
     "output_type": "execute_result"
    }
   ],
   "source": [
    "enzymekinetics, _ = DataModel.parse(\n",
    "    path=\"EnzymePynetics/test_docs/irrev_MM_enzyme.json\"\n",
    "    # path = \"irrev_MM_with_2min_delay.json\"\n",
    ")\n",
    "\n",
    "enzymekinetics.meta_tree()"
   ]
  },
  {
   "cell_type": "code",
   "execution_count": 15,
   "metadata": {},
   "outputs": [
    {
     "data": {
      "text/plain": [
       "[Species(id='species0', name=None, conc_unit='mmol / l', initial_conc=0.5, species_type='substrate', data=[Series(id='series0', values=[0.5, 0.3644854817261172, 0.26342082614495876, 0.18911029730907936, 0.13507619854228237, 0.09611819057303306, 0.06820762065153442, 0.04830485333484994, 0.034160437082733246, 0.024132875363550937, 0.017036342307101854, 0.012020366602019189, 0.008478109651294722, 0.005978153688854039, 0.004214590282762656, 0.002970893213232844, 0.0020940108248797087, 0.0014758522649185415, 0.0010401279274423667, 0.0007330218757907535, 0.0005165793991943711], values_unit=None, time=[], time_unit=None)]),\n",
       " Species(id='species1', name=None, conc_unit='mmol / l', initial_conc=0.01, species_type='enzyme', data=[])]"
      ]
     },
     "execution_count": 15,
     "metadata": {},
     "output_type": "execute_result"
    }
   ],
   "source": [
    "enzymekinetics.measurements[0].species"
   ]
  },
  {
   "cell_type": "code",
   "execution_count": 5,
   "metadata": {},
   "outputs": [
    {
     "name": "stdout",
     "output_type": "stream",
     "text": [
      "[]\n"
     ]
    },
    {
     "ename": "ValueError",
     "evalue": "operands could not be broadcast together with shapes (6,20) (6,0) ",
     "output_type": "error",
     "traceback": [
      "\u001b[0;31m---------------------------------------------------------------------------\u001b[0m",
      "\u001b[0;31mValueError\u001b[0m                                Traceback (most recent call last)",
      "Cell \u001b[0;32mIn[5], line 1\u001b[0m\n\u001b[0;32m----> 1\u001b[0m pe \u001b[39m=\u001b[39m ParameterEstimator(enzymekinetics)\n\u001b[1;32m      2\u001b[0m pe\u001b[39m.\u001b[39mfit_models()\n\u001b[1;32m      3\u001b[0m pe\u001b[39m.\u001b[39mvisualize_model_overview()\n",
      "File \u001b[0;32m~/code/EnzymePynetics/EnzymePynetics/tools/parameterestimator.py:45\u001b[0m, in \u001b[0;36mParameterEstimator.__init__\u001b[0;34m(self, data)\u001b[0m\n\u001b[1;32m     35\u001b[0m \u001b[39mself\u001b[39m\u001b[39m.\u001b[39m_measured_species \u001b[39m=\u001b[39m \u001b[39mNone\u001b[39;00m\n\u001b[1;32m     37\u001b[0m (\n\u001b[1;32m     38\u001b[0m     \u001b[39mself\u001b[39m\u001b[39m.\u001b[39msubstrate,\n\u001b[1;32m     39\u001b[0m     \u001b[39mself\u001b[39m\u001b[39m.\u001b[39minitial_substrate,\n\u001b[0;32m   (...)\u001b[0m\n\u001b[1;32m     43\u001b[0m     \u001b[39mself\u001b[39m\u001b[39m.\u001b[39mtime,\n\u001b[1;32m     44\u001b[0m ) \u001b[39m=\u001b[39m \u001b[39mself\u001b[39m\u001b[39m.\u001b[39m_initialize_measurement_data()\n\u001b[0;32m---> 45\u001b[0m \u001b[39mself\u001b[39m\u001b[39m.\u001b[39minitial_kcat \u001b[39m=\u001b[39m \u001b[39mself\u001b[39;49m\u001b[39m.\u001b[39;49m_calculate_kcat()\n\u001b[1;32m     46\u001b[0m \u001b[39mself\u001b[39m\u001b[39m.\u001b[39minitial_Km \u001b[39m=\u001b[39m \u001b[39mself\u001b[39m\u001b[39m.\u001b[39m_calculate_Km()\n",
      "File \u001b[0;32m~/code/EnzymePynetics/EnzymePynetics/tools/parameterestimator.py:275\u001b[0m, in \u001b[0;36mParameterEstimator._calculate_kcat\u001b[0;34m(self)\u001b[0m\n\u001b[1;32m    274\u001b[0m \u001b[39mdef\u001b[39;00m \u001b[39m_calculate_kcat\u001b[39m(\u001b[39mself\u001b[39m) \u001b[39m-\u001b[39m\u001b[39m>\u001b[39m \u001b[39mfloat\u001b[39m:\n\u001b[0;32m--> 275\u001b[0m     rates \u001b[39m=\u001b[39m \u001b[39mself\u001b[39;49m\u001b[39m.\u001b[39;49m_calculate_rates()\n\u001b[1;32m    276\u001b[0m     kcat \u001b[39m=\u001b[39m np\u001b[39m.\u001b[39mnanmax(rates\u001b[39m.\u001b[39mT \u001b[39m/\u001b[39m \u001b[39mself\u001b[39m\u001b[39m.\u001b[39menzyme[:, \u001b[39m0\u001b[39m])\n\u001b[1;32m    277\u001b[0m     \u001b[39mreturn\u001b[39;00m kcat\n",
      "File \u001b[0;32m~/code/EnzymePynetics/EnzymePynetics/tools/parameterestimator.py:271\u001b[0m, in \u001b[0;36mParameterEstimator._calculate_rates\u001b[0;34m(self)\u001b[0m\n\u001b[1;32m    269\u001b[0m time_intervals \u001b[39m=\u001b[39m np\u001b[39m.\u001b[39mdiff(\u001b[39mself\u001b[39m\u001b[39m.\u001b[39mtime)\n\u001b[1;32m    270\u001b[0m \u001b[39mprint\u001b[39m(\u001b[39mself\u001b[39m\u001b[39m.\u001b[39mtime)\n\u001b[0;32m--> 271\u001b[0m rates \u001b[39m=\u001b[39m \u001b[39mabs\u001b[39m(concentration_intervals \u001b[39m/\u001b[39;49m time_intervals)\n\u001b[1;32m    272\u001b[0m \u001b[39mreturn\u001b[39;00m rates\n",
      "\u001b[0;31mValueError\u001b[0m: operands could not be broadcast together with shapes (6,20) (6,0) "
     ]
    }
   ],
   "source": [
    "pe = ParameterEstimator(enzymekinetics)\n",
    "pe.fit_models()\n",
    "pe.visualize_model_overview()"
   ]
  },
  {
   "attachments": {},
   "cell_type": "markdown",
   "metadata": {},
   "source": [
    "## Test KineticModel"
   ]
  },
  {
   "cell_type": "code",
   "execution_count": null,
   "metadata": {},
   "outputs": [],
   "source": [
    "import plotly.express as px\n",
    "import pandas as pd\n",
    "import plotly.graph_objects as go"
   ]
  },
  {
   "cell_type": "code",
   "execution_count": null,
   "metadata": {},
   "outputs": [
    {
     "data": {
      "text/html": [
       "<div>\n",
       "<style scoped>\n",
       "    .dataframe tbody tr th:only-of-type {\n",
       "        vertical-align: middle;\n",
       "    }\n",
       "\n",
       "    .dataframe tbody tr th {\n",
       "        vertical-align: top;\n",
       "    }\n",
       "\n",
       "    .dataframe thead th {\n",
       "        text-align: right;\n",
       "    }\n",
       "</style>\n",
       "<table border=\"1\" class=\"dataframe\">\n",
       "  <thead>\n",
       "    <tr style=\"text-align: right;\">\n",
       "      <th></th>\n",
       "      <th>0.5</th>\n",
       "      <th>2.0</th>\n",
       "      <th>4.0</th>\n",
       "      <th>10.0</th>\n",
       "      <th>15.0</th>\n",
       "      <th>30.0</th>\n",
       "    </tr>\n",
       "    <tr>\n",
       "      <th>time</th>\n",
       "      <th></th>\n",
       "      <th></th>\n",
       "      <th></th>\n",
       "      <th></th>\n",
       "      <th></th>\n",
       "      <th></th>\n",
       "    </tr>\n",
       "  </thead>\n",
       "  <tbody>\n",
       "    <tr>\n",
       "      <th>0.0</th>\n",
       "      <td>0.500000</td>\n",
       "      <td>2.000000</td>\n",
       "      <td>4.000000</td>\n",
       "      <td>10.000000</td>\n",
       "      <td>15.000000</td>\n",
       "      <td>30.000000</td>\n",
       "    </tr>\n",
       "    <tr>\n",
       "      <th>1.0</th>\n",
       "      <td>0.364485</td>\n",
       "      <td>1.569517</td>\n",
       "      <td>3.331494</td>\n",
       "      <td>9.014848</td>\n",
       "      <td>13.903607</td>\n",
       "      <td>28.767767</td>\n",
       "    </tr>\n",
       "    <tr>\n",
       "      <th>2.0</th>\n",
       "      <td>0.263421</td>\n",
       "      <td>1.210025</td>\n",
       "      <td>2.729177</td>\n",
       "      <td>8.061795</td>\n",
       "      <td>12.826231</td>\n",
       "      <td>27.541949</td>\n",
       "    </tr>\n",
       "    <tr>\n",
       "      <th>3.0</th>\n",
       "      <td>0.189110</td>\n",
       "      <td>0.917407</td>\n",
       "      <td>2.196931</td>\n",
       "      <td>7.144801</td>\n",
       "      <td>11.769989</td>\n",
       "      <td>26.323015</td>\n",
       "    </tr>\n",
       "    <tr>\n",
       "      <th>4.0</th>\n",
       "      <td>0.135076</td>\n",
       "      <td>0.685137</td>\n",
       "      <td>1.736861</td>\n",
       "      <td>6.268312</td>\n",
       "      <td>10.737304</td>\n",
       "      <td>25.111488</td>\n",
       "    </tr>\n",
       "    <tr>\n",
       "      <th>5.0</th>\n",
       "      <td>0.096118</td>\n",
       "      <td>0.505042</td>\n",
       "      <td>1.348678</td>\n",
       "      <td>5.437248</td>\n",
       "      <td>9.730953</td>\n",
       "      <td>23.907946</td>\n",
       "    </tr>\n",
       "    <tr>\n",
       "      <th>6.0</th>\n",
       "      <td>0.068208</td>\n",
       "      <td>0.368276</td>\n",
       "      <td>1.029374</td>\n",
       "      <td>4.656922</td>\n",
       "      <td>8.754108</td>\n",
       "      <td>22.713034</td>\n",
       "    </tr>\n",
       "    <tr>\n",
       "      <th>7.0</th>\n",
       "      <td>0.048305</td>\n",
       "      <td>0.266226</td>\n",
       "      <td>0.773337</td>\n",
       "      <td>3.932866</td>\n",
       "      <td>7.810384</td>\n",
       "      <td>21.527470</td>\n",
       "    </tr>\n",
       "    <tr>\n",
       "      <th>8.0</th>\n",
       "      <td>0.034160</td>\n",
       "      <td>0.191160</td>\n",
       "      <td>0.572957</td>\n",
       "      <td>3.270531</td>\n",
       "      <td>6.903871</td>\n",
       "      <td>20.352061</td>\n",
       "    </tr>\n",
       "    <tr>\n",
       "      <th>9.0</th>\n",
       "      <td>0.024133</td>\n",
       "      <td>0.136560</td>\n",
       "      <td>0.419542</td>\n",
       "      <td>2.674817</td>\n",
       "      <td>6.039148</td>\n",
       "      <td>19.187710</td>\n",
       "    </tr>\n",
       "    <tr>\n",
       "      <th>10.0</th>\n",
       "      <td>0.017036</td>\n",
       "      <td>0.097184</td>\n",
       "      <td>0.304289</td>\n",
       "      <td>2.149465</td>\n",
       "      <td>5.221251</td>\n",
       "      <td>18.035436</td>\n",
       "    </tr>\n",
       "    <tr>\n",
       "      <th>11.0</th>\n",
       "      <td>0.012020</td>\n",
       "      <td>0.068969</td>\n",
       "      <td>0.219047</td>\n",
       "      <td>1.696372</td>\n",
       "      <td>4.455575</td>\n",
       "      <td>16.896390</td>\n",
       "    </tr>\n",
       "    <tr>\n",
       "      <th>12.0</th>\n",
       "      <td>0.008478</td>\n",
       "      <td>0.048847</td>\n",
       "      <td>0.156782</td>\n",
       "      <td>1.314999</td>\n",
       "      <td>3.747666</td>\n",
       "      <td>15.771876</td>\n",
       "    </tr>\n",
       "    <tr>\n",
       "      <th>13.0</th>\n",
       "      <td>0.005978</td>\n",
       "      <td>0.034545</td>\n",
       "      <td>0.111733</td>\n",
       "      <td>1.002070</td>\n",
       "      <td>3.102878</td>\n",
       "      <td>14.663377</td>\n",
       "    </tr>\n",
       "    <tr>\n",
       "      <th>14.0</th>\n",
       "      <td>0.004215</td>\n",
       "      <td>0.024405</td>\n",
       "      <td>0.079377</td>\n",
       "      <td>0.751749</td>\n",
       "      <td>2.525865</td>\n",
       "      <td>13.572583</td>\n",
       "    </tr>\n",
       "    <tr>\n",
       "      <th>15.0</th>\n",
       "      <td>0.002971</td>\n",
       "      <td>0.017229</td>\n",
       "      <td>0.056260</td>\n",
       "      <td>0.556279</td>\n",
       "      <td>2.019936</td>\n",
       "      <td>12.501421</td>\n",
       "    </tr>\n",
       "    <tr>\n",
       "      <th>16.0</th>\n",
       "      <td>0.002094</td>\n",
       "      <td>0.012156</td>\n",
       "      <td>0.039809</td>\n",
       "      <td>0.406918</td>\n",
       "      <td>1.586380</td>\n",
       "      <td>11.452098</td>\n",
       "    </tr>\n",
       "    <tr>\n",
       "      <th>17.0</th>\n",
       "      <td>0.001476</td>\n",
       "      <td>0.008574</td>\n",
       "      <td>0.028135</td>\n",
       "      <td>0.294894</td>\n",
       "      <td>1.223930</td>\n",
       "      <td>10.427141</td>\n",
       "    </tr>\n",
       "    <tr>\n",
       "      <th>18.0</th>\n",
       "      <td>0.001040</td>\n",
       "      <td>0.006046</td>\n",
       "      <td>0.019867</td>\n",
       "      <td>0.212152</td>\n",
       "      <td>0.928583</td>\n",
       "      <td>9.429442</td>\n",
       "    </tr>\n",
       "    <tr>\n",
       "      <th>19.0</th>\n",
       "      <td>0.000733</td>\n",
       "      <td>0.004262</td>\n",
       "      <td>0.014021</td>\n",
       "      <td>0.151775</td>\n",
       "      <td>0.693901</td>\n",
       "      <td>8.462304</td>\n",
       "    </tr>\n",
       "    <tr>\n",
       "      <th>20.0</th>\n",
       "      <td>0.000517</td>\n",
       "      <td>0.003005</td>\n",
       "      <td>0.009891</td>\n",
       "      <td>0.108127</td>\n",
       "      <td>0.511764</td>\n",
       "      <td>7.529483</td>\n",
       "    </tr>\n",
       "  </tbody>\n",
       "</table>\n",
       "</div>"
      ],
      "text/plain": [
       "           0.5       2.0       4.0       10.0       15.0       30.0\n",
       "time                                                               \n",
       "0.0   0.500000  2.000000  4.000000  10.000000  15.000000  30.000000\n",
       "1.0   0.364485  1.569517  3.331494   9.014848  13.903607  28.767767\n",
       "2.0   0.263421  1.210025  2.729177   8.061795  12.826231  27.541949\n",
       "3.0   0.189110  0.917407  2.196931   7.144801  11.769989  26.323015\n",
       "4.0   0.135076  0.685137  1.736861   6.268312  10.737304  25.111488\n",
       "5.0   0.096118  0.505042  1.348678   5.437248   9.730953  23.907946\n",
       "6.0   0.068208  0.368276  1.029374   4.656922   8.754108  22.713034\n",
       "7.0   0.048305  0.266226  0.773337   3.932866   7.810384  21.527470\n",
       "8.0   0.034160  0.191160  0.572957   3.270531   6.903871  20.352061\n",
       "9.0   0.024133  0.136560  0.419542   2.674817   6.039148  19.187710\n",
       "10.0  0.017036  0.097184  0.304289   2.149465   5.221251  18.035436\n",
       "11.0  0.012020  0.068969  0.219047   1.696372   4.455575  16.896390\n",
       "12.0  0.008478  0.048847  0.156782   1.314999   3.747666  15.771876\n",
       "13.0  0.005978  0.034545  0.111733   1.002070   3.102878  14.663377\n",
       "14.0  0.004215  0.024405  0.079377   0.751749   2.525865  13.572583\n",
       "15.0  0.002971  0.017229  0.056260   0.556279   2.019936  12.501421\n",
       "16.0  0.002094  0.012156  0.039809   0.406918   1.586380  11.452098\n",
       "17.0  0.001476  0.008574  0.028135   0.294894   1.223930  10.427141\n",
       "18.0  0.001040  0.006046  0.019867   0.212152   0.928583   9.429442\n",
       "19.0  0.000733  0.004262  0.014021   0.151775   0.693901   8.462304\n",
       "20.0  0.000517  0.003005  0.009891   0.108127   0.511764   7.529483"
      ]
     },
     "execution_count": 42,
     "metadata": {},
     "output_type": "execute_result"
    }
   ],
   "source": [
    "# create datafram with measurements\n",
    "df = pd.DataFrame(dict(zip(pe.subset_initial_substrate, pe.subset_substrate)))\n",
    "\n",
    "df[\"time\"] = pe.subset_time[0]\n",
    "df = df.set_index(\"time\")\n",
    "df"
   ]
  },
  {
   "cell_type": "code",
   "execution_count": null,
   "metadata": {},
   "outputs": [
    {
     "data": {
      "text/html": [
       "        <script type=\"text/javascript\">\n",
       "        window.PlotlyConfig = {MathJaxConfig: 'local'};\n",
       "        if (window.MathJax && window.MathJax.Hub && window.MathJax.Hub.Config) {window.MathJax.Hub.Config({SVG: {font: \"STIX-Web\"}});}\n",
       "        if (typeof require !== 'undefined') {\n",
       "        require.undef(\"plotly\");\n",
       "        requirejs.config({\n",
       "            paths: {\n",
       "                'plotly': ['https://cdn.plot.ly/plotly-2.18.0.min']\n",
       "            }\n",
       "        });\n",
       "        require(['plotly'], function(Plotly) {\n",
       "            window._Plotly = Plotly;\n",
       "        });\n",
       "        }\n",
       "        </script>\n",
       "        "
      ]
     },
     "metadata": {},
     "output_type": "display_data"
    },
    {
     "data": {
      "application/vnd.jupyter.widget-view+json": {
       "model_id": "10b54d5fc3bb4d559fad98dc4f580fdd",
       "version_major": 2,
       "version_minor": 0
      },
      "text/plain": [
       "HBox(children=(Dropdown(description='Error Bars:', options=(('Show Error Bars', True), ('Hide Error Bars', Fal…"
      ]
     },
     "metadata": {},
     "output_type": "display_data"
    },
    {
     "data": {
      "application/vnd.jupyter.widget-view+json": {
       "model_id": "cfb94a3accae44c694a9ed39a969e278",
       "version_major": 2,
       "version_minor": 0
      },
      "text/plain": [
       "Output()"
      ]
     },
     "metadata": {},
     "output_type": "display_data"
    }
   ],
   "source": [
    "import plotly.graph_objects as go\n",
    "import plotly.offline as pyo\n",
    "import pandas as pd\n",
    "import ipywidgets as widgets\n",
    "from IPython.display import display, clear_output\n",
    "\n",
    "# Initialize Plotly in notebook mode\n",
    "pyo.init_notebook_mode(connected=True)\n",
    "\n",
    "# Create a sample DataFrame with multiple data pairs\n",
    "data = {\n",
    "    \"x\": [[1, 2, 3, 4, 5], [1, 2, 3, 4, 5], [1, 2, 3, 4, 5]],\n",
    "    \"y\": [[2, 4, 6, 4, 2], [3, 2, 5, 2, 3], [1, 4, 2, 3, 5]],\n",
    "    \"error\": [0.5, 0.3, 0.7],\n",
    "}\n",
    "df = pd.DataFrame(data)\n",
    "\n",
    "# Create the initial figure\n",
    "fig = go.FigureWidget()\n",
    "\n",
    "# Iterate over each row in the DataFrame and add scatter traces with error bars to the figure\n",
    "for index, row in df.iterrows():\n",
    "    scatter_trace = go.Scatter(\n",
    "        x=row[\"x\"],\n",
    "        y=row[\"y\"],\n",
    "        mode=\"markers\",\n",
    "        name=f\"Data Pair {index+1}\",\n",
    "        error_y=dict(\n",
    "            type=\"data\",\n",
    "            symmetric=False,\n",
    "            array=[row[\"error\"]] * len(row[\"x\"]),\n",
    "            arrayminus=[row[\"error\"]] * len(row[\"x\"]),\n",
    "            visible=True,\n",
    "        ),\n",
    "        marker=dict(color=\"blue\"),\n",
    "    )\n",
    "    fig.add_trace(scatter_trace)\n",
    "\n",
    "# Update layout properties\n",
    "fig.update_layout(\n",
    "    title=\"Scatter Plot with Error Bars\", xaxis_title=\"X-axis\", yaxis_title=\"Y-axis\"\n",
    ")\n",
    "\n",
    "# Create a dropdown widget for error bar visibility\n",
    "dropdown_error_bars = widgets.Dropdown(\n",
    "    options=[(\"Show Error Bars\", True), (\"Hide Error Bars\", False)],\n",
    "    value=True,\n",
    "    description=\"Error Bars:\",\n",
    ")\n",
    "\n",
    "# Create a dropdown widget for point color\n",
    "dropdown_color = widgets.Dropdown(\n",
    "    options=[(\"Blue\", \"blue\"), (\"Red\", \"red\"), (\"Orange\", \"orange\")],\n",
    "    value=\"blue\",\n",
    "    description=\"Point Color:\",\n",
    ")\n",
    "\n",
    "# Create an output widget\n",
    "output = widgets.Output()\n",
    "\n",
    "\n",
    "# Define a function to update the figure based on the dropdown values\n",
    "def update_figure(change):\n",
    "    error_bars_visible = dropdown_error_bars.value\n",
    "    point_color = dropdown_color.value\n",
    "\n",
    "    for trace in fig.data:\n",
    "        trace.error_y.visible = error_bars_visible\n",
    "        trace.marker.color = point_color\n",
    "\n",
    "\n",
    "# Register the update function as an event handler for the dropdown widgets\n",
    "dropdown_error_bars.observe(update_figure, names=\"value\")\n",
    "dropdown_color.observe(update_figure, names=\"value\")\n",
    "\n",
    "# Display the dropdown widgets\n",
    "display(widgets.HBox([dropdown_error_bars, dropdown_color]))\n",
    "\n",
    "# Display the initial plot\n",
    "with output:\n",
    "    clear_output(wait=True)\n",
    "    display(fig)\n",
    "\n",
    "# Display the output widget\n",
    "display(output)"
   ]
  },
  {
   "cell_type": "code",
   "execution_count": null,
   "metadata": {},
   "outputs": [
    {
     "data": {
      "text/html": [
       "        <script type=\"text/javascript\">\n",
       "        window.PlotlyConfig = {MathJaxConfig: 'local'};\n",
       "        if (window.MathJax && window.MathJax.Hub && window.MathJax.Hub.Config) {window.MathJax.Hub.Config({SVG: {font: \"STIX-Web\"}});}\n",
       "        if (typeof require !== 'undefined') {\n",
       "        require.undef(\"plotly\");\n",
       "        requirejs.config({\n",
       "            paths: {\n",
       "                'plotly': ['https://cdn.plot.ly/plotly-2.18.0.min']\n",
       "            }\n",
       "        });\n",
       "        require(['plotly'], function(Plotly) {\n",
       "            window._Plotly = Plotly;\n",
       "        });\n",
       "        }\n",
       "        </script>\n",
       "        "
      ]
     },
     "metadata": {},
     "output_type": "display_data"
    },
    {
     "data": {
      "application/vnd.jupyter.widget-view+json": {
       "model_id": "a3217ad74fd54cf19612d8a29a069b28",
       "version_major": 2,
       "version_minor": 0
      },
      "text/plain": [
       "HBox(children=(Dropdown(description='Error Bars:', options=(('Show Error Bars', True), ('Hide Error Bars', Fal…"
      ]
     },
     "metadata": {},
     "output_type": "display_data"
    },
    {
     "data": {
      "application/vnd.jupyter.widget-view+json": {
       "model_id": "532beb621c88488f87dbb7c11d2dd4c6",
       "version_major": 2,
       "version_minor": 0
      },
      "text/plain": [
       "IntSlider(value=0, continuous_update=False, description='Measurement:', max=2)"
      ]
     },
     "metadata": {},
     "output_type": "display_data"
    },
    {
     "data": {
      "application/vnd.jupyter.widget-view+json": {
       "model_id": "3dc2b7997ba34d99bd32ec2f414217bf",
       "version_major": 2,
       "version_minor": 0
      },
      "text/plain": [
       "Output()"
      ]
     },
     "metadata": {},
     "output_type": "display_data"
    }
   ],
   "source": [
    "import plotly.graph_objects as go\n",
    "import plotly.offline as pyo\n",
    "import pandas as pd\n",
    "import ipywidgets as widgets\n",
    "from IPython.display import display, clear_output\n",
    "\n",
    "# Initialize Plotly in notebook mode\n",
    "pyo.init_notebook_mode(connected=True)\n",
    "\n",
    "# Create a sample DataFrame with multiple data pairs\n",
    "data = {\n",
    "    \"x\": [[1, 2, 3, 4, 5], [1, 2, 3, 4, 5], [1, 2, 3, 4, 5]],\n",
    "    \"y\": [[2, 4, 6, 4, 2], [3, 2, 5, 2, 3], [1, 4, 2, 3, 5]],\n",
    "    \"error\": [0.5, 0.3, 0.7],\n",
    "    \"color\": [\"blue\", \"red\", \"orange\"],\n",
    "}\n",
    "df = pd.DataFrame(data)\n",
    "\n",
    "# Create the initial figure\n",
    "fig = go.FigureWidget(data=go.Scatter(mode=\"markers\"))\n",
    "\n",
    "# Initialize the slider value\n",
    "slider_value = 0\n",
    "\n",
    "\n",
    "# Define a function to update the figure based on the slider and dropdown values\n",
    "def update_figure(change):\n",
    "    # Get the selected data pair\n",
    "    selected_data = df.loc[slider.value]\n",
    "\n",
    "    # Update error bars visibility\n",
    "    fig.data[0].error_y.visible = dropdown_error_bars.value\n",
    "\n",
    "    # Update point color\n",
    "    fig.data[0].marker.color = dropdown_color.value\n",
    "\n",
    "    # Update scatter trace data\n",
    "    fig.data[0].x = selected_data[\"x\"]\n",
    "    fig.data[0].y = selected_data[\"y\"]\n",
    "    fig.data[0].error_y.array = [selected_data[\"error\"]] * len(selected_data[\"x\"])\n",
    "    fig.data[0].error_y.arrayminus = [selected_data[\"error\"]] * len(selected_data[\"x\"])\n",
    "    fig.data[0].name = f\"Data Pair {slider.value + 1}\"\n",
    "\n",
    "    # Remove connecting lines\n",
    "    fig.data[0].mode = \"markers\"\n",
    "\n",
    "\n",
    "# Create a dropdown widget for error bar visibility\n",
    "dropdown_error_bars = widgets.Dropdown(\n",
    "    options=[(\"Show Error Bars\", True), (\"Hide Error Bars\", False)],\n",
    "    value=True,\n",
    "    description=\"Error Bars:\",\n",
    ")\n",
    "\n",
    "# Create a dropdown widget for point color\n",
    "dropdown_color = widgets.Dropdown(\n",
    "    options=[(\"Blue\", \"blue\"), (\"Red\", \"red\"), (\"Orange\", \"orange\")],\n",
    "    value=\"blue\",\n",
    "    description=\"Color:\",\n",
    ")\n",
    "\n",
    "# Create a slider widget\n",
    "slider = widgets.IntSlider(\n",
    "    min=0,\n",
    "    max=len(df) - 1,\n",
    "    step=1,\n",
    "    value=slider_value,\n",
    "    description=\"Measurement:\",\n",
    "    continuous_update=False,\n",
    ")\n",
    "\n",
    "# Create an output widget\n",
    "output = widgets.Output()\n",
    "\n",
    "\n",
    "# Define a function to handle slider value changes\n",
    "def on_slider_change(change):\n",
    "    global slider_value\n",
    "    slider_value = change[\"new\"]\n",
    "    update_figure(change)\n",
    "\n",
    "\n",
    "# Register the slider change event handler\n",
    "slider.observe(on_slider_change, names=\"value\")\n",
    "\n",
    "\n",
    "# Define a function to handle dropdown value changes\n",
    "def on_dropdown_change(change):\n",
    "    update_figure(None)\n",
    "\n",
    "\n",
    "# Register the dropdown change event handlers\n",
    "dropdown_error_bars.observe(on_dropdown_change, names=\"value\")\n",
    "dropdown_color.observe(on_dropdown_change, names=\"value\")\n",
    "\n",
    "# Display the dropdown widgets\n",
    "display(widgets.HBox([dropdown_error_bars, dropdown_color]))\n",
    "\n",
    "# Display the slider widget\n",
    "display(slider)\n",
    "\n",
    "# Display the initial plot\n",
    "with output:\n",
    "    clear_output(wait=True)\n",
    "    update_figure(None)\n",
    "    display(fig)\n",
    "\n",
    "# Display the output widget\n",
    "display(output)"
   ]
  },
  {
   "cell_type": "code",
   "execution_count": null,
   "metadata": {},
   "outputs": [
    {
     "data": {
      "application/vnd.jupyter.widget-view+json": {
       "model_id": "94dcfefa0a3c4fa795daa8dfe9908dad",
       "version_major": 2,
       "version_minor": 0
      },
      "text/plain": [
       "FigureWidget({\n",
       "    'data': [{'type': 'scatter', 'uid': 'c8a96094-8c15-4055-a49d-6ce636c429ca'}], 'layout': {'template': '...'}\n",
       "})"
      ]
     },
     "metadata": {},
     "output_type": "display_data"
    },
    {
     "data": {
      "application/vnd.jupyter.widget-view+json": {
       "model_id": "7ccdac31be7a4f7497809b838a4ea1b2",
       "version_major": 2,
       "version_minor": 0
      },
      "text/plain": [
       "HBox(children=(Dropdown(description='Error Bars:', options=(('Show Error Bars', True), ('Hide Error Bars', Fal…"
      ]
     },
     "metadata": {},
     "output_type": "display_data"
    },
    {
     "data": {
      "application/vnd.jupyter.widget-view+json": {
       "model_id": "24e969bf3e9046f2b8ba8d084b9c56c9",
       "version_major": 2,
       "version_minor": 0
      },
      "text/plain": [
       "IntSlider(value=0, continuous_update=False, description='Data Pair:', max=2)"
      ]
     },
     "metadata": {},
     "output_type": "display_data"
    }
   ],
   "source": [
    "import plotly.graph_objects as go\n",
    "import pandas as pd\n",
    "import ipywidgets as widgets\n",
    "from IPython.display import display\n",
    "\n",
    "# Create a sample DataFrame with multiple data pairs\n",
    "data = {\n",
    "    \"x\": [[1, 2, 3, 4, 5], [1, 2, 3, 4, 5], [1, 2, 3, 4, 5]],\n",
    "    \"y\": [[2, 4, 6, 4, 2], [3, 2, 5, 2, 3], [1, 4, 2, 3, 5]],\n",
    "    \"error\": [0.5, 0.3, 0.7],\n",
    "    \"color\": [\"blue\", \"red\", \"orange\"],\n",
    "}\n",
    "df = pd.DataFrame(data)\n",
    "\n",
    "# Create the initial figure\n",
    "fig = go.FigureWidget(data=go.Scatter())\n",
    "\n",
    "# Create a dropdown widget for error bar visibility\n",
    "dropdown_error_bars = widgets.Dropdown(\n",
    "    options=[(\"Show Error Bars\", True), (\"Hide Error Bars\", False)],\n",
    "    value=True,\n",
    "    description=\"Error Bars:\",\n",
    ")\n",
    "\n",
    "# Create a dropdown widget for point color\n",
    "dropdown_color = widgets.Dropdown(\n",
    "    options=[(\"Blue\", \"blue\"), (\"Red\", \"red\"), (\"Orange\", \"orange\")],\n",
    "    value=\"blue\",\n",
    "    description=\"Point Color:\",\n",
    ")\n",
    "\n",
    "# Create a slider widget\n",
    "slider = widgets.IntSlider(\n",
    "    min=0,\n",
    "    max=len(df) - 1,\n",
    "    step=1,\n",
    "    value=0,\n",
    "    description=\"Data Pair:\",\n",
    "    continuous_update=False,\n",
    ")\n",
    "\n",
    "\n",
    "# Define a function to update the figure based on the slider and dropdown values\n",
    "def update_figure(change):\n",
    "    selected_data = df.loc[slider.value]\n",
    "\n",
    "    # Update error bars visibility\n",
    "    fig.data[0].error_y.visible = dropdown_error_bars.value\n",
    "\n",
    "    # Update point color\n",
    "    fig.data[0].marker.color = dropdown_color.value\n",
    "\n",
    "    # Update scatter trace data\n",
    "    fig.data[0].x = selected_data[\"x\"]\n",
    "    fig.data[0].y = selected_data[\"y\"]\n",
    "    fig.data[0].error_y.array = [selected_data[\"error\"]] * len(selected_data[\"x\"])\n",
    "    fig.data[0].error_y.arrayminus = [selected_data[\"error\"]] * len(selected_data[\"x\"])\n",
    "    fig.data[0].name = f\"Data Pair {slider.value + 1}\"\n",
    "\n",
    "    # Remove connecting lines\n",
    "    fig.data[0].mode = \"markers\"\n",
    "\n",
    "\n",
    "# Register the update_figure function as the event handler\n",
    "dropdown_error_bars.observe(update_figure, names=\"value\")\n",
    "dropdown_color.observe(update_figure, names=\"value\")\n",
    "slider.observe(update_figure, names=\"value\")\n",
    "\n",
    "# Create a container for the controls\n",
    "controls_container = widgets.HBox([dropdown_error_bars, dropdown_color])\n",
    "\n",
    "# Display the plot and controls\n",
    "display(fig)\n",
    "display(controls_container)\n",
    "display(slider)\n",
    "\n",
    "# Initialize the figure with the default values\n",
    "update_figure(None)"
   ]
  },
  {
   "cell_type": "code",
   "execution_count": null,
   "metadata": {},
   "outputs": [
    {
     "data": {
      "application/vnd.plotly.v1+json": {
       "config": {
        "plotlyServerURL": "https://plot.ly"
       },
       "data": [
        {
         "customdata": [
          "data"
         ],
         "hoverinfo": "skip",
         "marker": {
          "color": "rgb(95, 70, 144)",
          "size": 10
         },
         "mode": "markers",
         "name": "0.5",
         "type": "scatter",
         "x": [
          0,
          1,
          2,
          3,
          4,
          5,
          6,
          7,
          8,
          9,
          10,
          11,
          12,
          13,
          14,
          15,
          16,
          17,
          18,
          19,
          20
         ],
         "y": [
          0.5,
          0.3644854817261172,
          0.26342082614495876,
          0.18911029730907936,
          0.13507619854228237,
          0.09611819057303306,
          0.06820762065153442,
          0.04830485333484994,
          0.034160437082733246,
          0.024132875363550937,
          0.017036342307101854,
          0.012020366602019189,
          0.008478109651294722,
          0.005978153688854039,
          0.004214590282762656,
          0.002970893213232844,
          0.0020940108248797087,
          0.0014758522649185415,
          0.0010401279274423667,
          0.0007330218757907535,
          0.0005165793991943711
         ]
        },
        {
         "customdata": [
          "data"
         ],
         "hoverinfo": "skip",
         "marker": {
          "color": "rgb(29, 105, 150)",
          "size": 10
         },
         "mode": "markers",
         "name": "2.0",
         "type": "scatter",
         "x": [
          0,
          1,
          2,
          3,
          4,
          5,
          6,
          7,
          8,
          9,
          10,
          11,
          12,
          13,
          14,
          15,
          16,
          17,
          18,
          19,
          20
         ],
         "y": [
          2,
          1.569516923490442,
          1.2100248901425266,
          0.9174066670621502,
          0.6851366875818905,
          0.5050421925557563,
          0.3682762683103367,
          0.26622606625686046,
          0.1911602863758995,
          0.13655977482123025,
          0.09718402777037388,
          0.06896920883625109,
          0.04884689456949333,
          0.03454511927047541,
          0.02440532173305027,
          0.017229017917752217,
          0.012156483500162504,
          0.00857420017429145,
          0.006045954460889596,
          0.004262408928448321,
          0.0030046126231969388
         ]
        },
        {
         "customdata": [
          "data"
         ],
         "hoverinfo": "skip",
         "marker": {
          "color": "rgb(56, 166, 165)",
          "size": 10
         },
         "mode": "markers",
         "name": "4.0",
         "type": "scatter",
         "x": [
          0,
          1,
          2,
          3,
          4,
          5,
          6,
          7,
          8,
          9,
          10,
          11,
          12,
          13,
          14,
          15,
          16,
          17,
          18,
          19,
          20
         ],
         "y": [
          4,
          3.3314940265802093,
          2.7291770249856264,
          2.1969313450723083,
          1.7368606593474134,
          1.3486781412200664,
          1.0293741765134272,
          0.7733374028387807,
          0.572956918234275,
          0.41954222346175263,
          0.3042888761129524,
          0.21904734904543413,
          0.156781701646602,
          0.1117334978098535,
          0.07937677544036345,
          0.05626007519092634,
          0.039809208815929836,
          0.028135086352006768,
          0.019867498685462698,
          0.014020857722379529,
          0.009890537373247264
         ]
        },
        {
         "customdata": [
          "data"
         ],
         "hoverinfo": "skip",
         "marker": {
          "color": "rgb(15, 133, 84)",
          "size": 10
         },
         "mode": "markers",
         "name": "10.0",
         "type": "scatter",
         "x": [
          0,
          1,
          2,
          3,
          4,
          5,
          6,
          7,
          8,
          9,
          10,
          11,
          12,
          13,
          14,
          15,
          16,
          17,
          18,
          19,
          20
         ],
         "y": [
          10,
          9.014848259300036,
          8.06179527698335,
          7.144800673375277,
          6.268311928950545,
          5.437248020972423,
          4.656921669254372,
          3.932866262976856,
          3.2705309091155335,
          2.6748168737237505,
          2.149464940038742,
          1.6963723909775295,
          1.3149985370912927,
          1.0020698566127553,
          0.751749426259512,
          0.5562793161785449,
          0.40691770989552617,
          0.2948942576229412,
          0.21215188169558497,
          0.15177463434952831,
          0.108127228926348
         ]
        },
        {
         "customdata": [
          "data"
         ],
         "hoverinfo": "skip",
         "marker": {
          "color": "rgb(115, 175, 72)",
          "size": 10
         },
         "mode": "markers",
         "name": "15.0",
         "type": "scatter",
         "x": [
          0,
          1,
          2,
          3,
          4,
          5,
          6,
          7,
          8,
          9,
          10,
          11,
          12,
          13,
          14,
          15,
          16,
          17,
          18,
          19,
          20
         ],
         "y": [
          15,
          13.90360745163819,
          12.826231258525885,
          11.769988897467153,
          10.737304494447198,
          9.730953331390248,
          8.754108262361743,
          7.810383978912784,
          6.90387107791713,
          6.039148211393449,
          5.2212514293625025,
          4.455575136702814,
          3.747666272723041,
          3.1028784698204706,
          2.5258650681718455,
          2.0199361188261964,
          1.5863803112509045,
          1.2239304704409646,
          0.9285827943809541,
          0.6939013886295122,
          0.5117642650746206
         ]
        },
        {
         "customdata": [
          "data"
         ],
         "hoverinfo": "skip",
         "marker": {
          "color": "rgb(237, 173, 8)",
          "size": 10
         },
         "mode": "markers",
         "name": "30.0",
         "type": "scatter",
         "x": [
          0,
          1,
          2,
          3,
          4,
          5,
          6,
          7,
          8,
          9,
          10,
          11,
          12,
          13,
          14,
          15,
          16,
          17,
          18,
          19,
          20
         ],
         "y": [
          30,
          28.76776725048138,
          27.54194854235051,
          26.323014936939547,
          25.111487847618747,
          23.90794604735632,
          22.71303381403288,
          21.527470339468877,
          20.352060884921805,
          19.18770983211912,
          18.03543574383351,
          16.896389744259277,
          15.771876190622983,
          14.663377453787515,
          13.572582605926526,
          12.501420576175885,
          11.452097939896705,
          10.42714102809542,
          9.429441694060694,
          8.462303525321602,
          7.529483109469235
         ]
        },
        {
         "customdata": [
          "irreversible Michaelis Menten"
         ],
         "hoverinfo": "name",
         "marker": {
          "color": "rgb(95, 70, 144)"
         },
         "name": "irreversible Michaelis Menten",
         "showlegend": false,
         "type": "scatter",
         "x": [
          0,
          1,
          2,
          3,
          4,
          5,
          6,
          7,
          8,
          9,
          10,
          11,
          12,
          13,
          14,
          15,
          16,
          17,
          18,
          19,
          20
         ],
         "y": [
          0.5,
          0.12447567692830606,
          0.019960320650536746,
          0.0027777340525783987,
          0.00037739178494144575,
          0.00005110241736529471,
          0.000006916271670401575,
          9.355921135662191e-7,
          1.2764152738987018e-7,
          1.662181797476243e-8,
          2.4731755621975885e-9,
          1.695276922234353e-10,
          -4.570883742242394e-10,
          -4.049082720663581e-10,
          -2.0288015120698547e-10,
          -9.046894004324869e-11,
          -5.370921069395337e-11,
          -5.0118270303583214e-11,
          -4.652732991321306e-11,
          -4.2936389522842905e-11,
          -3.934544913247275e-11
         ]
        },
        {
         "customdata": [
          "irreversible Michaelis Menten"
         ],
         "hoverinfo": "name",
         "marker": {
          "color": "rgb(29, 105, 150)"
         },
         "name": "irreversible Michaelis Menten",
         "showlegend": false,
         "type": "scatter",
         "x": [
          0,
          1,
          2,
          3,
          4,
          5,
          6,
          7,
          8,
          9,
          10,
          11,
          12,
          13,
          14,
          15,
          16,
          17,
          18,
          19,
          20
         ],
         "y": [
          2,
          1.1232291079467236,
          0.45193016962833155,
          0.10704967212547695,
          0.016773782167206083,
          0.0023239530587613336,
          0.0003155387853579023,
          0.000042722960867086135,
          0.000005780959172212631,
          7.831814634145625e-7,
          1.0687351174712718e-7,
          1.3851915007566145e-8,
          2.040670573765795e-9,
          9.74448694797671e-11,
          -4.4902960746497904e-10,
          -3.7990015888096576e-10,
          -1.865649908186595e-10,
          -9.155478550058083e-11,
          -4.593905311853478e-11,
          -4.3019321877849134e-11,
          -4.0099590637163485e-11
         ]
        },
        {
         "customdata": [
          "irreversible Michaelis Menten"
         ],
         "hoverinfo": "name",
         "marker": {
          "color": "rgb(56, 166, 165)"
         },
         "name": "irreversible Michaelis Menten",
         "showlegend": false,
         "type": "scatter",
         "x": [
          0,
          1,
          2,
          3,
          4,
          5,
          6,
          7,
          8,
          9,
          10,
          11,
          12,
          13,
          14,
          15,
          16,
          17,
          18,
          19,
          20
         ],
         "y": [
          4,
          2.9544411821230314,
          1.9714517660508317,
          1.0991656521892363,
          0.43626269426540176,
          0.10163332388311495,
          0.015810406814396945,
          0.0021875410521696053,
          0.0002969604820669566,
          0.00004020712272837163,
          0.000005441591627638083,
          7.357134932713721e-7,
          1.0029853594738096e-7,
          1.3014306704386367e-8,
          1.919299220490774e-9,
          9.335536039061473e-11,
          -4.4560654440657953e-10,
          -3.6611411600387075e-10,
          -1.7982446411297785e-10,
          -9.360699615708772e-11,
          -4.2036423867914405e-11
         ]
        },
        {
         "customdata": [
          "irreversible Michaelis Menten"
         ],
         "hoverinfo": "name",
         "marker": {
          "color": "rgb(15, 133, 84)"
         },
         "name": "irreversible Michaelis Menten",
         "showlegend": false,
         "type": "scatter",
         "x": [
          0,
          1,
          2,
          3,
          4,
          5,
          6,
          7,
          8,
          9,
          10,
          11,
          12,
          13,
          14,
          15,
          16,
          17,
          18,
          19,
          20
         ],
         "y": [
          10,
          8.843490102964246,
          7.696820124626513,
          6.562790994524559,
          5.445537613405304,
          4.351486816399081,
          3.291296149458361,
          2.284128885646573,
          1.3678199003812792,
          0.6215515677876131,
          0.17394185853170652,
          0.02974786936412752,
          0.004196428196898992,
          0.000571286933492874,
          0.00007737939172193308,
          0.000010473094329421882,
          0.000001416284836030386,
          1.9258648667288956e-7,
          2.5199863362724628e-8,
          3.6708799922155456e-9,
          5.293090607119627e-10
         ]
        },
        {
         "customdata": [
          "irreversible Michaelis Menten"
         ],
         "hoverinfo": "name",
         "marker": {
          "color": "rgb(115, 175, 72)"
         },
         "name": "irreversible Michaelis Menten",
         "showlegend": false,
         "type": "scatter",
         "x": [
          0,
          1,
          2,
          3,
          4,
          5,
          6,
          7,
          8,
          9,
          10,
          11,
          12,
          13,
          14,
          15,
          16,
          17,
          18,
          19,
          20
         ],
         "y": [
          15,
          13.818322541923681,
          12.64095701251402,
          11.468685804329315,
          10.302520339768307,
          9.14379815342144,
          7.994336082357431,
          6.85668309212966,
          5.734558524468267,
          4.633659630918717,
          3.5632625462531213,
          2.539672479758561,
          1.5943027342466634,
          0.7926320416629501,
          0.2562122298339372,
          0.048570780279451095,
          0.007031808731420777,
          0.0009610889132117329,
          0.00013024787294595375,
          0.00001763020774334378,
          0.0000023860575379694033
         ]
        },
        {
         "customdata": [
          "irreversible Michaelis Menten"
         ],
         "hoverinfo": "name",
         "marker": {
          "color": "rgb(237, 173, 8)"
         },
         "name": "irreversible Michaelis Menten",
         "showlegend": false,
         "type": "scatter",
         "x": [
          0,
          1,
          2,
          3,
          4,
          5,
          6,
          7,
          8,
          9,
          10,
          11,
          12,
          13,
          14,
          15,
          16,
          17,
          18,
          19,
          20
         ],
         "y": [
          30,
          28.793066683085673,
          27.587193236637965,
          26.38247120596357,
          25.1790045291863,
          23.976911684781555,
          22.776328614817455,
          21.577412184516216,
          20.380344966343046,
          19.185340760920504,
          17.992652274485668,
          16.802581037156223,
          15.615490687075226,
          14.431825059531054,
          13.252133296927324,
          12.077105214263089,
          10.90762382618763,
          9.744842213836652,
          8.59030439623125,
          7.446138603335537,
          6.31538466823579
         ]
        },
        {
         "customdata": [
          "irreversible Michaelis Menten with enzyme inactivation"
         ],
         "hoverinfo": "name",
         "marker": {
          "color": "rgb(95, 70, 144)"
         },
         "name": "irreversible Michaelis Menten with enzyme inactivation",
         "showlegend": false,
         "type": "scatter",
         "x": [
          0,
          1,
          2,
          3,
          4,
          5,
          6,
          7,
          8,
          9,
          10,
          11,
          12,
          13,
          14,
          15,
          16,
          17,
          18,
          19,
          20
         ],
         "y": [
          0.5,
          0.1255113504243603,
          0.02074303736337415,
          0.0030353389058110965,
          0.000441892155344711,
          0.0000653438144441144,
          0.000009843655011921364,
          0.0000015100489014586448,
          2.3703950232609742e-7,
          3.732474320908884e-8,
          6.119480804547284e-9,
          1.079873935573552e-9,
          1.9367087843556174e-10,
          3.603777367581063e-11,
          1.469092967238514e-10,
          5.849683597047135e-10,
          2.312470679253763e-9,
          6.060464609469637e-9,
          1.8602069529431806e-9,
          -2.3634905110669746e-11,
          1.0713501862068308e-11
         ]
        },
        {
         "customdata": [
          "irreversible Michaelis Menten with enzyme inactivation"
         ],
         "hoverinfo": "name",
         "marker": {
          "color": "rgb(29, 105, 150)"
         },
         "name": "irreversible Michaelis Menten with enzyme inactivation",
         "showlegend": false,
         "type": "scatter",
         "x": [
          0,
          1,
          2,
          3,
          4,
          5,
          6,
          7,
          8,
          9,
          10,
          11,
          12,
          13,
          14,
          15,
          16,
          17,
          18,
          19,
          20
         ],
         "y": [
          2,
          1.1271970875637363,
          0.46235740381110996,
          0.11544297019908949,
          0.019554248431043773,
          0.0029686575181439344,
          0.0004489778542153176,
          0.00006895472229739062,
          0.000010784416096745367,
          0.0000017179062731316587,
          2.7885500785160035e-7,
          4.5467078488399685e-8,
          7.685417874147982e-9,
          1.4087018438837756e-9,
          2.606914144552786e-10,
          4.979261697619319e-11,
          1.0498931154265472e-10,
          4.832270892414734e-10,
          1.7956257689191309e-9,
          5.159194290397153e-9,
          3.826748313358229e-9
         ]
        },
        {
         "customdata": [
          "irreversible Michaelis Menten with enzyme inactivation"
         ],
         "hoverinfo": "name",
         "marker": {
          "color": "rgb(56, 166, 165)"
         },
         "name": "irreversible Michaelis Menten with enzyme inactivation",
         "showlegend": false,
         "type": "scatter",
         "x": [
          0,
          1,
          2,
          3,
          4,
          5,
          6,
          7,
          8,
          9,
          10,
          11,
          12,
          13,
          14,
          15,
          16,
          17,
          18,
          19,
          20
         ],
         "y": [
          4,
          2.959523011329346,
          1.9901247505169077,
          1.1345463251404677,
          0.4776714584677264,
          0.12510571160504255,
          0.02226678133888531,
          0.0035232233068691427,
          0.0005536063293481323,
          0.00008824948030533709,
          0.00001431932235498868,
          0.000002365191262864309,
          3.973375008351284e-7,
          6.854618159675212e-8,
          1.1492398169254546e-8,
          2.20562995422154e-9,
          4.198310742083711e-10,
          8.320922454341635e-11,
          3.854255994695537e-11,
          2.5276746912490205e-10,
          7.775376547304005e-10
         ]
        },
        {
         "customdata": [
          "irreversible Michaelis Menten with enzyme inactivation"
         ],
         "hoverinfo": "name",
         "marker": {
          "color": "rgb(15, 133, 84)"
         },
         "name": "irreversible Michaelis Menten with enzyme inactivation",
         "showlegend": false,
         "type": "scatter",
         "x": [
          0,
          1,
          2,
          3,
          4,
          5,
          6,
          7,
          8,
          9,
          10,
          11,
          12,
          13,
          14,
          15,
          16,
          17,
          18,
          19,
          20
         ],
         "y": [
          10,
          8.849230951836606,
          7.719489345293567,
          6.612995789062596,
          5.532998107129533,
          4.484438101092707,
          3.47522475358402,
          2.518838765462437,
          1.640010725557328,
          0.8869162522577786,
          0.3461115432011248,
          0.08705739045840104,
          0.01641965369362344,
          0.0028733104415490083,
          0.0005025151967991655,
          0.0000891426008232243,
          0.000016079788964161126,
          0.0000029496976196589216,
          5.500059157999378e-7,
          1.0530975764427045e-7,
          1.9571756408488888e-8
         ]
        },
        {
         "customdata": [
          "irreversible Michaelis Menten with enzyme inactivation"
         ],
         "hoverinfo": "name",
         "marker": {
          "color": "rgb(115, 175, 72)"
         },
         "name": "irreversible Michaelis Menten with enzyme inactivation",
         "showlegend": false,
         "type": "scatter",
         "x": [
          0,
          1,
          2,
          3,
          4,
          5,
          6,
          7,
          8,
          9,
          10,
          11,
          12,
          13,
          14,
          15,
          16,
          17,
          18,
          19,
          20
         ],
         "y": [
          15,
          13.824201171577146,
          12.664301443484947,
          11.520792984608349,
          10.394331407414901,
          9.2857973659231,
          8.196389190342506,
          7.127768019191344,
          6.082293671960601,
          5.063426036737509,
          4.0764472470907895,
          3.129838696241019,
          2.238085052877319,
          1.4276425477386325,
          0.7486909401883485,
          0.2827434216835188,
          0.07181247708547865,
          0.014459495673720717,
          0.0027495625481263703,
          0.000523529022365986,
          0.00010104771357623538
         ]
        },
        {
         "customdata": [
          "irreversible Michaelis Menten with enzyme inactivation"
         ],
         "hoverinfo": "name",
         "marker": {
          "color": "rgb(237, 173, 8)"
         },
         "name": "irreversible Michaelis Menten with enzyme inactivation",
         "showlegend": false,
         "type": "scatter",
         "x": [
          0,
          1,
          2,
          3,
          4,
          5,
          6,
          7,
          8,
          9,
          10,
          11,
          12,
          13,
          14,
          15,
          16,
          17,
          18,
          19,
          20
         ],
         "y": [
          30,
          28.799078768749087,
          27.611139872238898,
          26.43611975735336,
          25.273962637606733,
          24.124621476557095,
          22.988059210264836,
          21.86425022591492,
          20.753182044419578,
          19.654857793294692,
          18.569298641185902,
          17.496547340776132,
          16.43667251584467,
          15.389774150522168,
          14.355990656456026,
          13.335508163873364,
          12.328572774795132,
          11.335507305283132,
          10.356733980638259,
          9.392806089674977,
          8.444454046871096
         ]
        },
        {
         "customdata": [
          "competitive product inhibition"
         ],
         "hoverinfo": "name",
         "marker": {
          "color": "rgb(95, 70, 144)"
         },
         "name": "competitive product inhibition",
         "showlegend": false,
         "type": "scatter",
         "x": [
          0,
          1,
          2,
          3,
          4,
          5,
          6,
          7,
          8,
          9,
          10,
          11,
          12,
          13,
          14,
          15,
          16,
          17,
          18,
          19,
          20
         ],
         "y": [
          0.5,
          0.25419157719973445,
          0.1596040520039628,
          0.10613496565103188,
          0.07256714352381896,
          0.05041295214001906,
          0.03537180156811899,
          0.024979932035031033,
          0.01771835459378306,
          0.012605447493997456,
          0.008986677236939212,
          0.0064161668506243635,
          0.004585646853048327,
          0.0032797733982861984,
          0.0023470012054220618,
          0.0016801342865065824,
          0.0012030651153409353,
          0.0008616224048854886,
          0.0006171683120575771,
          0.0004421123449071229,
          0.0003167315617076401
         ]
        },
        {
         "customdata": [
          "competitive product inhibition"
         ],
         "hoverinfo": "name",
         "marker": {
          "color": "rgb(29, 105, 150)"
         },
         "name": "competitive product inhibition",
         "showlegend": false,
         "type": "scatter",
         "x": [
          0,
          1,
          2,
          3,
          4,
          5,
          6,
          7,
          8,
          9,
          10,
          11,
          12,
          13,
          14,
          15,
          16,
          17,
          18,
          19,
          20
         ],
         "y": [
          2,
          1.4743834019989217,
          1.202833729180362,
          1.01436306275001,
          0.8709310769440886,
          0.7564734403311653,
          0.6624303276645926,
          0.5836121235636854,
          0.5165989410197562,
          0.45900124513754054,
          0.4090753221534027,
          0.365505414652136,
          0.32727199829870557,
          0.29356788389764266,
          0.2637425484441481,
          0.2372638801723441,
          0.21369112464342088,
          0.19265524227920694,
          0.17384437450815982,
          0.1569928540917936,
          0.14187278258475336
         ]
        },
        {
         "customdata": [
          "competitive product inhibition"
         ],
         "hoverinfo": "name",
         "marker": {
          "color": "rgb(56, 166, 165)"
         },
         "name": "competitive product inhibition",
         "showlegend": false,
         "type": "scatter",
         "x": [
          0,
          1,
          2,
          3,
          4,
          5,
          6,
          7,
          8,
          9,
          10,
          11,
          12,
          13,
          14,
          15,
          16,
          17,
          18,
          19,
          20
         ],
         "y": [
          4,
          3.3057963731031417,
          2.89485679165987,
          2.591157676953306,
          2.348358898297225,
          2.145944876472841,
          1.9726990470891448,
          1.8217018355557928,
          1.6883322062751702,
          1.5693252277955334,
          1.4622745775066328,
          1.3653474882222418,
          1.2771108424038196,
          1.1964195863801954,
          1.1223422424153795,
          1.0541094503364696,
          0.9910774304627504,
          0.9327013397558602,
          0.8785155016215774,
          0.8281184212552452,
          0.7811612545632053
         ]
        },
        {
         "customdata": [
          "competitive product inhibition"
         ],
         "hoverinfo": "name",
         "marker": {
          "color": "rgb(15, 133, 84)"
         },
         "name": "competitive product inhibition",
         "showlegend": false,
         "type": "scatter",
         "x": [
          0,
          1,
          2,
          3,
          4,
          5,
          6,
          7,
          8,
          9,
          10,
          11,
          12,
          13,
          14,
          15,
          16,
          17,
          18,
          19,
          20
         ],
         "y": [
          10,
          9.094914496766767,
          8.457293565499253,
          7.94954317349012,
          7.522400694872471,
          7.151478122684015,
          6.822589544804978,
          6.52662333113549,
          6.257316841108672,
          6.0101475167236895,
          5.781723775189795,
          5.569425322373788,
          5.3711782829637515,
          5.185308166982695,
          5.0104400674603164,
          4.8454288309191345,
          4.689308770101685,
          4.541256721254279,
          4.400564338748853,
          4.266616922557145,
          4.138877063695238
         ]
        },
        {
         "customdata": [
          "competitive product inhibition"
         ],
         "hoverinfo": "name",
         "marker": {
          "color": "rgb(115, 175, 72)"
         },
         "name": "competitive product inhibition",
         "showlegend": false,
         "type": "scatter",
         "x": [
          0,
          1,
          2,
          3,
          4,
          5,
          6,
          7,
          8,
          9,
          10,
          11,
          12,
          13,
          14,
          15,
          16,
          17,
          18,
          19,
          20
         ],
         "y": [
          15,
          14.017064911027152,
          13.274035573172302,
          12.662255094348433,
          12.136354243048858,
          11.672228623527205,
          11.255256687644712,
          10.875779004234795,
          10.527020225783454,
          10.204011459760242,
          9.902980839801113,
          9.620985425605443,
          9.355676826841437,
          9.105145750363572,
          8.867815191883569,
          8.642364836076391,
          8.42767620550924,
          8.222792040434866,
          8.026885582939945,
          7.839237033513729,
          7.659215180534175
         ]
        },
        {
         "customdata": [
          "competitive product inhibition"
         ],
         "hoverinfo": "name",
         "marker": {
          "color": "rgb(237, 173, 8)"
         },
         "name": "competitive product inhibition",
         "showlegend": false,
         "type": "scatter",
         "x": [
          0,
          1,
          2,
          3,
          4,
          5,
          6,
          7,
          8,
          9,
          10,
          11,
          12,
          13,
          14,
          15,
          16,
          17,
          18,
          19,
          20
         ],
         "y": [
          30,
          28.914476085932307,
          28.005478160306478,
          27.213660628281957,
          26.506909915505897,
          25.865522774320656,
          25.27637951569994,
          24.730223719217303,
          24.220235973245124,
          23.741220756152764,
          23.289111947765807,
          22.860656553696757,
          22.453203921062745,
          22.0645604696535,
          21.692886413349502,
          21.336620808164007,
          20.99442576998175,
          20.665144333797244,
          20.347767983529515,
          20.041411289401452,
          19.745291891237546
         ]
        },
        {
         "customdata": [
          "competitive product inhibition with enzyme inactivation"
         ],
         "hoverinfo": "name",
         "marker": {
          "color": "rgb(95, 70, 144)"
         },
         "name": "competitive product inhibition with enzyme inactivation",
         "showlegend": false,
         "type": "scatter",
         "x": [
          0,
          1,
          2,
          3,
          4,
          5,
          6,
          7,
          8,
          9,
          10,
          11,
          12,
          13,
          14,
          15,
          16,
          17,
          18,
          19,
          20
         ],
         "y": [
          0.5,
          0.2548474174699551,
          0.16097157372202306,
          0.10800449113641722,
          0.07472707619426602,
          0.05268899778604337,
          0.037633333182029556,
          0.027136444035668457,
          0.01971271294181181,
          0.014406554003119111,
          0.010582680745556006,
          0.007808682863836897,
          0.005785109082307343,
          0.004301867515511272,
          0.003210044456433032,
          0.0024032359278438474,
          0.0018049023582977627,
          0.0013596831882710723,
          0.0010273337923194354,
          0.0007784762598099198,
          0.0005915803255281409
         ]
        },
        {
         "customdata": [
          "competitive product inhibition with enzyme inactivation"
         ],
         "hoverinfo": "name",
         "marker": {
          "color": "rgb(29, 105, 150)"
         },
         "name": "competitive product inhibition with enzyme inactivation",
         "showlegend": false,
         "type": "scatter",
         "x": [
          0,
          1,
          2,
          3,
          4,
          5,
          6,
          7,
          8,
          9,
          10,
          11,
          12,
          13,
          14,
          15,
          16,
          17,
          18,
          19,
          20
         ],
         "y": [
          2,
          1.4760847640222035,
          1.2072242726216575,
          1.0216359810657174,
          0.8810545996707949,
          0.7693130433797662,
          0.6777992512629429,
          0.6012973238516159,
          0.5363760071789565,
          0.4806435471697248,
          0.43235982609001483,
          0.3902164366234572,
          0.3532036164067799,
          0.3205254426918274,
          0.2915435341698074,
          0.2657383506557646,
          0.2426818189291157,
          0.22201746073889292,
          0.20344569214842786,
          0.1867127157140173,
          0.17160201503007588
         ]
        },
        {
         "customdata": [
          "competitive product inhibition with enzyme inactivation"
         ],
         "hoverinfo": "name",
         "marker": {
          "color": "rgb(56, 166, 165)"
         },
         "name": "competitive product inhibition with enzyme inactivation",
         "showlegend": false,
         "type": "scatter",
         "x": [
          0,
          1,
          2,
          3,
          4,
          5,
          6,
          7,
          8,
          9,
          10,
          11,
          12,
          13,
          14,
          15,
          16,
          17,
          18,
          19,
          20
         ],
         "y": [
          4,
          3.308275121362305,
          2.901744052627188,
          2.6031836729527034,
          2.3658683237490297,
          2.169083493606214,
          2.001492342344639,
          1.856096623394483,
          1.7282215590372914,
          1.6145646625539547,
          1.5126931474204817,
          1.4207556989276355,
          1.3373064677409732,
          1.2611920349558414,
          1.191475895358466,
          1.1273862439811402,
          1.0682788730792057,
          1.0136100940405448,
          0.9629166345110703,
          0.9158003866073143,
          0.8719166684939106
         ]
        },
        {
         "customdata": [
          "competitive product inhibition with enzyme inactivation"
         ],
         "hoverinfo": "name",
         "marker": {
          "color": "rgb(15, 133, 84)"
         },
         "name": "competitive product inhibition with enzyme inactivation",
         "showlegend": false,
         "type": "scatter",
         "x": [
          0,
          1,
          2,
          3,
          4,
          5,
          6,
          7,
          8,
          9,
          10,
          11,
          12,
          13,
          14,
          15,
          16,
          17,
          18,
          19,
          20
         ],
         "y": [
          10,
          9.09857075106623,
          8.468462687103479,
          7.970209353657013,
          7.553842100649886,
          7.194588392674075,
          6.878016814669287,
          6.594844438609169,
          6.338682193480125,
          6.104910550211702,
          5.890061455721258,
          5.691453065430202,
          5.506961164743531,
          5.334869593434837,
          5.173768616491123,
          5.022483757956581,
          4.880024491018363,
          4.745546522604598,
          4.618323482617226,
          4.497725255481451,
          4.383201243460197
         ]
        },
        {
         "customdata": [
          "competitive product inhibition with enzyme inactivation"
         ],
         "hoverinfo": "name",
         "marker": {
          "color": "rgb(115, 175, 72)"
         },
         "name": "competitive product inhibition with enzyme inactivation",
         "showlegend": false,
         "type": "scatter",
         "x": [
          0,
          1,
          2,
          3,
          4,
          5,
          6,
          7,
          8,
          9,
          10,
          11,
          12,
          13,
          14,
          15,
          16,
          17,
          18,
          19,
          20
         ],
         "y": [
          15,
          14.021228037835732,
          13.287311542483945,
          12.687451915649534,
          12.175386479253396,
          11.72651058948695,
          11.325878867942485,
          10.963603460882705,
          10.63273858924682,
          10.32818309265675,
          10.046059453434601,
          9.783338451833536,
          9.53760002906586,
          9.306874528708239,
          9.089533557951869,
          8.884212607182514,
          8.68975494727835,
          8.50516996368826,
          8.329601674328472,
          8.162304573267656,
          8.002624709189906
         ]
        },
        {
         "customdata": [
          "competitive product inhibition with enzyme inactivation"
         ],
         "hoverinfo": "name",
         "marker": {
          "color": "rgb(237, 173, 8)"
         },
         "name": "competitive product inhibition with enzyme inactivation",
         "showlegend": false,
         "type": "scatter",
         "x": [
          0,
          1,
          2,
          3,
          4,
          5,
          6,
          7,
          8,
          9,
          10,
          11,
          12,
          13,
          14,
          15,
          16,
          17,
          18,
          19,
          20
         ],
         "y": [
          30,
          28.919380504248686,
          28.022259783319353,
          27.246947500228888,
          26.560120659282482,
          25.94133921496666,
          25.376986243350487,
          24.857445907922465,
          24.375626037981284,
          23.926116506789704,
          23.5046775891923,
          23.1079127708893,
          22.73305068900054,
          22.377794712240537,
          22.040216096416867,
          21.718676284751076,
          21.411769123050384,
          21.11827717827796,
          20.83713796689652,
          20.56741768799469,
          20.308290393254897
         ]
        },
        {
         "customdata": [
          "uncompetitive product inhibition"
         ],
         "hoverinfo": "name",
         "marker": {
          "color": "rgb(95, 70, 144)"
         },
         "name": "uncompetitive product inhibition",
         "showlegend": false,
         "type": "scatter",
         "x": [
          0,
          1,
          2,
          3,
          4,
          5,
          6,
          7,
          8,
          9,
          10,
          11,
          12,
          13,
          14,
          15,
          16,
          17,
          18,
          19,
          20
         ],
         "y": [
          0.5,
          0.2118716647213057,
          0.07744010322026744,
          0.017876526338864687,
          0.0027949700868525355,
          0.0003872162445347685,
          0.00005257586178000336,
          0.000007117887840668757,
          9.633274531103988e-7,
          1.2961820765102238e-7,
          1.8286341337920765e-8,
          2.643542786081738e-9,
          2.778270220740542e-10,
          -4.940712074167592e-10,
          -4.013992218854329e-10,
          -2.3045262576466424e-10,
          -1.1406090373328234e-10,
          -4.6550363513255934e-11,
          -4.3702779818729454e-11,
          -4.0855196124202966e-11,
          -3.800761242967648e-11
         ]
        },
        {
         "customdata": [
          "uncompetitive product inhibition"
         ],
         "hoverinfo": "name",
         "marker": {
          "color": "rgb(29, 105, 150)"
         },
         "name": "uncompetitive product inhibition",
         "showlegend": false,
         "type": "scatter",
         "x": [
          0,
          1,
          2,
          3,
          4,
          5,
          6,
          7,
          8,
          9,
          10,
          11,
          12,
          13,
          14,
          15,
          16,
          17,
          18,
          19,
          20
         ],
         "y": [
          2,
          1.6199220690978573,
          1.4211827907902381,
          1.267454024415575,
          1.1375771668451664,
          1.0231346584761096,
          0.9197623565685381,
          0.8248576949923327,
          0.7367277712605099,
          0.6542063267546041,
          0.5764594005568228,
          0.5028789312709004,
          0.43302276467296963,
          0.3665828870584079,
          0.3033751499618094,
          0.24335209792861592,
          0.18665184396145482,
          0.13372083022518738,
          0.0856133980311507,
          0.04471990317782961,
          0.01592310045989442
         ]
        },
        {
         "customdata": [
          "uncompetitive product inhibition"
         ],
         "hoverinfo": "name",
         "marker": {
          "color": "rgb(56, 166, 165)"
         },
         "name": "uncompetitive product inhibition",
         "showlegend": false,
         "type": "scatter",
         "x": [
          0,
          1,
          2,
          3,
          4,
          5,
          6,
          7,
          8,
          9,
          10,
          11,
          12,
          13,
          14,
          15,
          16,
          17,
          18,
          19,
          20
         ],
         "y": [
          4,
          3.6063593453199254,
          3.4049839115032867,
          3.249279040675865,
          3.117617341401152,
          3.001436179419451,
          2.896299350772911,
          2.7995556344995283,
          2.7094706769275527,
          2.62483631571127,
          2.544770987510339,
          2.468608090811735,
          2.395829044254861,
          2.3260210061714783,
          2.2588489603778483,
          2.194036621585039,
          2.131352951487745,
          2.0706024377291823,
          2.011617889974537,
          1.9542550156898741,
          1.8983882798625684
         ]
        },
        {
         "customdata": [
          "uncompetitive product inhibition"
         ],
         "hoverinfo": "name",
         "marker": {
          "color": "rgb(15, 133, 84)"
         },
         "name": "uncompetitive product inhibition",
         "showlegend": false,
         "type": "scatter",
         "x": [
          0,
          1,
          2,
          3,
          4,
          5,
          6,
          7,
          8,
          9,
          10,
          11,
          12,
          13,
          14,
          15,
          16,
          17,
          18,
          19,
          20
         ],
         "y": [
          10,
          9.598603614193772,
          9.396281492043576,
          9.24000027350042,
          9.107895365838887,
          8.991338166340272,
          8.885865073091187,
          8.788810885166967,
          8.698433101369472,
          8.613518410903385,
          8.533181759352747,
          8.456754020862627,
          8.383714754151928,
          8.313649679692935,
          8.24622262417615,
          8.18115634113088,
          8.118218995689471,
          8.057214388487685,
          7.997974718393044,
          7.940355145868516,
          7.884229621666209
         ]
        },
        {
         "customdata": [
          "uncompetitive product inhibition"
         ],
         "hoverinfo": "name",
         "marker": {
          "color": "rgb(115, 175, 72)"
         },
         "name": "uncompetitive product inhibition",
         "showlegend": false,
         "type": "scatter",
         "x": [
          0,
          1,
          2,
          3,
          4,
          5,
          6,
          7,
          8,
          9,
          10,
          11,
          12,
          13,
          14,
          15,
          16,
          17,
          18,
          19,
          20
         ],
         "y": [
          15,
          14.596919571758654,
          14.394439814360432,
          14.238074369686723,
          14.105910879000978,
          13.98930791293219,
          13.883796652040903,
          13.786709310521957,
          13.69630191788449,
          13.611360256468723,
          13.530998669361097,
          13.454547611292986,
          13.381486346840703,
          13.311400364858386,
          13.243953322493914,
          13.178867835830157,
          13.11591196978542,
          13.05488943155002,
          12.995632350114205,
          12.93799582723295,
          12.88185376246967
         ]
        },
        {
         "customdata": [
          "uncompetitive product inhibition"
         ],
         "hoverinfo": "name",
         "marker": {
          "color": "rgb(237, 173, 8)"
         },
         "name": "uncompetitive product inhibition",
         "showlegend": false,
         "type": "scatter",
         "x": [
          0,
          1,
          2,
          3,
          4,
          5,
          6,
          7,
          8,
          9,
          10,
          11,
          12,
          13,
          14,
          15,
          16,
          17,
          18,
          19,
          20
         ],
         "y": [
          30,
          29.59524988761513,
          29.392629766949007,
          29.236193559128413,
          29.103983125940484,
          28.987344909977743,
          28.881805244267984,
          28.784693950729753,
          28.694265720992597,
          28.609305519681328,
          28.528927146045984,
          28.45246069278127,
          28.379385153763415,
          28.309285823970274,
          28.24182620941504,
          28.176728812418,
          28.11376160727794,
          28.05272822723198,
          27.993460738848103,
          27.935814194265685,
          27.879662447282648
         ]
        },
        {
         "customdata": [
          "non-competitive product inhibition"
         ],
         "hoverinfo": "name",
         "marker": {
          "color": "rgb(95, 70, 144)"
         },
         "name": "non-competitive product inhibition",
         "showlegend": false,
         "type": "scatter",
         "x": [
          0,
          1,
          2,
          3,
          4,
          5,
          6,
          7,
          8,
          9,
          10,
          11,
          12,
          13,
          14,
          15,
          16,
          17,
          18,
          19,
          20
         ],
         "y": [
          0.5,
          0.28173921468137525,
          0.1895947186657757,
          0.13216601462194819,
          0.09343044268594194,
          0.06647855916704908,
          0.047455156728876235,
          0.03393251144330671,
          0.024285025709704523,
          0.017388987096335618,
          0.012454590798128896,
          0.008921817580824873,
          0.006391719505326352,
          0.0045793804126631945,
          0.0032810370145701746,
          0.002350853338563869,
          0.0016844043629829003,
          0.0012068994368631372,
          0.0008647670223146315,
          0.0006196252989855368,
          0.00044397739706492914
         ]
        },
        {
         "customdata": [
          "non-competitive product inhibition"
         ],
         "hoverinfo": "name",
         "marker": {
          "color": "rgb(29, 105, 150)"
         },
         "name": "non-competitive product inhibition",
         "showlegend": false,
         "type": "scatter",
         "x": [
          0,
          1,
          2,
          3,
          4,
          5,
          6,
          7,
          8,
          9,
          10,
          11,
          12,
          13,
          14,
          15,
          16,
          17,
          18,
          19,
          20
         ],
         "y": [
          2,
          1.6602962637669385,
          1.4914568963836592,
          1.3635468396753856,
          1.2574326220820529,
          1.1655362883225415,
          1.0839320207741259,
          1.010274913188001,
          0.9430326166614676,
          0.8811392883113275,
          0.8238186742403198,
          0.7704849970653503,
          0.72068348700189,
          0.6740527241619367,
          0.6302997319031962,
          0.5891828621516764,
          0.5504996943075486,
          0.5140782495744503,
          0.4797704512552724,
          0.4474471875824039,
          0.41699448073666096
         ]
        },
        {
         "customdata": [
          "non-competitive product inhibition"
         ],
         "hoverinfo": "name",
         "marker": {
          "color": "rgb(56, 166, 165)"
         },
         "name": "non-competitive product inhibition",
         "showlegend": false,
         "type": "scatter",
         "x": [
          0,
          1,
          2,
          3,
          4,
          5,
          6,
          7,
          8,
          9,
          10,
          11,
          12,
          13,
          14,
          15,
          16,
          17,
          18,
          19,
          20
         ],
         "y": [
          4,
          3.6289989919558705,
          3.4429863541883083,
          3.2999947694221325,
          3.1796421609654213,
          3.073879224714091,
          2.978540282490918,
          2.8911373060120678,
          2.8100433401387175,
          2.734125406633122,
          2.6625570533686864,
          2.594713507583262,
          2.5301088911060656,
          2.468356558898501,
          2.4091428679327618,
          2.352209281096228,
          2.297339725317208,
          2.24435147972813,
          2.193088402523296,
          2.1434158504313148,
          2.095216780284875
         ]
        },
        {
         "customdata": [
          "non-competitive product inhibition"
         ],
         "hoverinfo": "name",
         "marker": {
          "color": "rgb(15, 133, 84)"
         },
         "name": "non-competitive product inhibition",
         "showlegend": false,
         "type": "scatter",
         "x": [
          0,
          1,
          2,
          3,
          4,
          5,
          6,
          7,
          8,
          9,
          10,
          11,
          12,
          13,
          14,
          15,
          16,
          17,
          18,
          19,
          20
         ],
         "y": [
          10,
          9.60825554912791,
          9.412064007385453,
          9.260689667816958,
          9.13283287846767,
          9.020096590265045,
          8.918138959415794,
          8.824368186247328,
          8.737090039345473,
          8.6551249566695,
          8.577612568022094,
          8.503902446527448,
          8.433488725693048,
          8.365968728004534,
          8.301015710538238,
          8.238360204246211,
          8.177776890106662,
          8.119075072745552,
          8.062091666497139,
          8.006685902200758,
          7.952735271656718
         ]
        },
        {
         "customdata": [
          "non-competitive product inhibition"
         ],
         "hoverinfo": "name",
         "marker": {
          "color": "rgb(115, 175, 72)"
         },
         "name": "non-competitive product inhibition",
         "showlegend": false,
         "type": "scatter",
         "x": [
          0,
          1,
          2,
          3,
          4,
          5,
          6,
          7,
          8,
          9,
          10,
          11,
          12,
          13,
          14,
          15,
          16,
          17,
          18,
          19,
          20
         ],
         "y": [
          15,
          14.603442313484726,
          14.405039454332593,
          14.25191116698448,
          14.122532377035679,
          14.008420165022244,
          13.905189051299553,
          13.810221477651357,
          13.721806510745463,
          13.638753038402283,
          13.560192303660415,
          13.485467573222946,
          13.414068089699935,
          13.345587298983032,
          13.279695318613657,
          13.21612009914803,
          13.15463417005027,
          13.095045018764358,
          13.037188006679045,
          12.980921027009542,
          12.926120408115066
         ]
        },
        {
         "customdata": [
          "non-competitive product inhibition"
         ],
         "hoverinfo": "name",
         "marker": {
          "color": "rgb(237, 173, 8)"
         },
         "name": "non-competitive product inhibition",
         "showlegend": false,
         "type": "scatter",
         "x": [
          0,
          1,
          2,
          3,
          4,
          5,
          6,
          7,
          8,
          9,
          10,
          11,
          12,
          13,
          14,
          15,
          16,
          17,
          18,
          19,
          20
         ],
         "y": [
          30,
          29.598555210808815,
          29.39796700319424,
          29.243131076591325,
          29.112288363463556,
          28.9968666666732,
          28.892435073901588,
          28.796349167717565,
          28.70688059180505,
          28.62282615873368,
          28.543308340148986,
          28.46766380615026,
          28.395376670033045,
          28.3260363110121,
          28.259309552335388,
          28.19492164041024,
          28.132642840644575,
          28.07227872670903,
          28.013663028937458,
          27.956652235194017,
          27.901121447161003
         ]
        },
        {
         "customdata": [
          "substrate inhibition"
         ],
         "hoverinfo": "name",
         "marker": {
          "color": "rgb(95, 70, 144)"
         },
         "name": "substrate inhibition",
         "showlegend": false,
         "type": "scatter",
         "x": [
          0,
          1,
          2,
          3,
          4,
          5,
          6,
          7,
          8,
          9,
          10,
          11,
          12,
          13,
          14,
          15,
          16,
          17,
          18,
          19,
          20
         ],
         "y": [
          0.5,
          0.31357620932173325,
          0.11632298369140895,
          0.02045808501586801,
          0.0028584308788960414,
          0.0003884248471474846,
          0.000052597134889009404,
          0.000007118695653930798,
          9.624400753805843e-7,
          1.316949354765802e-7,
          1.7048618051034116e-8,
          2.534530733360258e-9,
          2.5495057544558846e-10,
          -4.586427459958417e-10,
          -3.805662320968068e-10,
          -1.9738855446135283e-10,
          -1.0403153911980552e-10,
          -4.5720399384035e-11,
          -4.286233141101763e-11,
          -4.000426343800025e-11,
          -3.714619546498287e-11
         ]
        },
        {
         "customdata": [
          "substrate inhibition"
         ],
         "hoverinfo": "name",
         "marker": {
          "color": "rgb(29, 105, 150)"
         },
         "name": "substrate inhibition",
         "showlegend": false,
         "type": "scatter",
         "x": [
          0,
          1,
          2,
          3,
          4,
          5,
          6,
          7,
          8,
          9,
          10,
          11,
          12,
          13,
          14,
          15,
          16,
          17,
          18,
          19,
          20
         ],
         "y": [
          2,
          1.941376815999983,
          1.8810756922508125,
          1.8189458023580831,
          1.7548125261528071,
          1.6884719075975825,
          1.619683241431744,
          1.548159310018329,
          1.4735528378190692,
          1.3954376187574045,
          1.3132813404667913,
          1.2264053230018208,
          1.1339228767905714,
          1.0346408350235217,
          0.9268952819372085,
          0.8082637011525221,
          0.6750422341043837,
          0.5213523337637164,
          0.3389595620197164,
          0.1382387916886084,
          0.026065633512566105
         ]
        },
        {
         "customdata": [
          "substrate inhibition"
         ],
         "hoverinfo": "name",
         "marker": {
          "color": "rgb(56, 166, 165)"
         },
         "name": "substrate inhibition",
         "showlegend": false,
         "type": "scatter",
         "x": [
          0,
          1,
          2,
          3,
          4,
          5,
          6,
          7,
          8,
          9,
          10,
          11,
          12,
          13,
          14,
          15,
          16,
          17,
          18,
          19,
          20
         ],
         "y": [
          4,
          3.969948725499228,
          3.9396756573775913,
          3.9091757904951305,
          3.878443979265464,
          3.8474748668122154,
          3.8162628871193016,
          3.7848022456094017,
          3.753086924604638,
          3.7211106565865832,
          3.6888669121780056,
          3.6563488869809455,
          3.6235494797603742,
          3.5904612916728715,
          3.5570765827786803,
          3.523387256990605,
          3.489384848857552,
          3.455060499140065,
          3.42040492100557,
          3.3854083707005476,
          3.350060624705732
         ]
        },
        {
         "customdata": [
          "substrate inhibition"
         ],
         "hoverinfo": "name",
         "marker": {
          "color": "rgb(15, 133, 84)"
         },
         "name": "substrate inhibition",
         "showlegend": false,
         "type": "scatter",
         "x": [
          0,
          1,
          2,
          3,
          4,
          5,
          6,
          7,
          8,
          9,
          10,
          11,
          12,
          13,
          14,
          15,
          16,
          17,
          18,
          19,
          20
         ],
         "y": [
          10,
          9.98779974882736,
          9.975584742936457,
          9.963354928722255,
          9.951110260679378,
          9.938850682582068,
          9.92657613105121,
          9.91428654598223,
          9.901981878211092,
          9.889662073183846,
          9.877327075433834,
          9.864976827894724,
          9.852611274023909,
          9.840230356400758,
          9.827834019848641,
          9.815422204080916,
          9.802994852114447,
          9.790551905417091,
          9.778093304903491,
          9.765618991561478,
          9.75312890590307
         ]
        },
        {
         "customdata": [
          "substrate inhibition"
         ],
         "hoverinfo": "name",
         "marker": {
          "color": "rgb(115, 175, 72)"
         },
         "name": "substrate inhibition",
         "showlegend": false,
         "type": "scatter",
         "x": [
          0,
          1,
          2,
          3,
          4,
          5,
          6,
          7,
          8,
          9,
          10,
          11,
          12,
          13,
          14,
          15,
          16,
          17,
          18,
          19,
          20
         ],
         "y": [
          15,
          14.99183953253387,
          14.98367465269438,
          14.975505353588918,
          14.9673316272313,
          14.959153469159945,
          14.950970871137873,
          14.942783825418315,
          14.934592324254508,
          14.926396359899684,
          14.91819592460708,
          14.909991010629927,
          14.901781610221464,
          14.893567716432495,
          14.885349322645725,
          14.877126421488864,
          14.868899005589054,
          14.860667067573432,
          14.85243060006914,
          14.844189595703314,
          14.835944047103098
         ]
        },
        {
         "customdata": [
          "substrate inhibition"
         ],
         "hoverinfo": "name",
         "marker": {
          "color": "rgb(237, 173, 8)"
         },
         "name": "substrate inhibition",
         "showlegend": false,
         "type": "scatter",
         "x": [
          0,
          1,
          2,
          3,
          4,
          5,
          6,
          7,
          8,
          9,
          10,
          11,
          12,
          13,
          14,
          15,
          16,
          17,
          18,
          19,
          20
         ],
         "y": [
          30,
          29.995906204405607,
          29.99181185195736,
          29.987716942436542,
          29.98362147559043,
          29.9795254512821,
          29.975428869257122,
          29.971331729276272,
          29.967234031100322,
          29.963135774490055,
          29.959036959206244,
          29.954937585009663,
          29.95083765166109,
          29.946737158921305,
          29.94263610655108,
          29.93853449431119,
          29.93443232196293,
          29.930329589305693,
          29.926226296131237,
          29.922122442210036,
          29.918018027312556
         ]
        },
        {
         "customdata": [
          "substrate inhibition with enzyme inactivation"
         ],
         "hoverinfo": "name",
         "marker": {
          "color": "rgb(95, 70, 144)"
         },
         "name": "substrate inhibition with enzyme inactivation",
         "showlegend": false,
         "type": "scatter",
         "x": [
          0,
          1,
          2,
          3,
          4,
          5,
          6,
          7,
          8,
          9,
          10,
          11,
          12,
          13,
          14,
          15,
          16,
          17,
          18,
          19,
          20
         ],
         "y": [
          0.5,
          0.3145824684215604,
          0.11963014531790793,
          0.02228440736492203,
          0.003344599345522106,
          0.0004966112270392882,
          0.0000748519635950426,
          0.000011490227564979754,
          0.000001796094999282475,
          2.851513674222889e-7,
          4.688703799673996e-8,
          8.285109408277659e-9,
          1.4852641050881e-9,
          2.7001242595536107e-10,
          5.035708599760958e-11,
          1.1467456297850699e-10,
          5.183773262550386e-10,
          1.509700592419977e-9,
          3.757692844657497e-9,
          4.921312309602526e-9,
          1.090833493267457e-9
         ]
        },
        {
         "customdata": [
          "substrate inhibition with enzyme inactivation"
         ],
         "hoverinfo": "name",
         "marker": {
          "color": "rgb(29, 105, 150)"
         },
         "name": "substrate inhibition with enzyme inactivation",
         "showlegend": false,
         "type": "scatter",
         "x": [
          0,
          1,
          2,
          3,
          4,
          5,
          6,
          7,
          8,
          9,
          10,
          11,
          12,
          13,
          14,
          15,
          16,
          17,
          18,
          19,
          20
         ],
         "y": [
          2,
          1.9416730015094756,
          1.8822909825362235,
          1.8217551475426879,
          1.7599528388720094,
          1.696754714632696,
          1.6320111010189517,
          1.5655472832239128,
          1.4971573574862174,
          1.4265959832909905,
          1.3535671909922793,
          1.277708824632663,
          1.198570477030632,
          1.1155812252084878,
          1.028001376845636,
          0.9348474023511815,
          0.8347724281967429,
          0.72587108919149,
          0.6053719854474305,
          0.46929741534709213,
          0.31353661961367346
         ]
        },
        {
         "customdata": [
          "substrate inhibition with enzyme inactivation"
         ],
         "hoverinfo": "name",
         "marker": {
          "color": "rgb(56, 166, 165)"
         },
         "name": "substrate inhibition with enzyme inactivation",
         "showlegend": false,
         "type": "scatter",
         "x": [
          0,
          1,
          2,
          3,
          4,
          5,
          6,
          7,
          8,
          9,
          10,
          11,
          12,
          13,
          14,
          15,
          16,
          17,
          18,
          19,
          20
         ],
         "y": [
          4,
          3.9700990228237845,
          3.940279297583099,
          3.910539571112807,
          3.880878636942405,
          3.851295275527567,
          3.8217882524910056,
          3.792356318495314,
          3.76299821374335,
          3.733712666163254,
          3.7044983901947197,
          3.6753540855553846,
          3.6462784377522204,
          3.617270118796787,
          3.5883277858247364,
          3.5594500778979,
          3.5306356187253862,
          3.501883014377073,
          3.473190851495021,
          3.4445576998515812,
          3.4159821062972893
         ]
        },
        {
         "customdata": [
          "substrate inhibition with enzyme inactivation"
         ],
         "hoverinfo": "name",
         "marker": {
          "color": "rgb(15, 133, 84)"
         },
         "name": "substrate inhibition with enzyme inactivation",
         "showlegend": false,
         "type": "scatter",
         "x": [
          0,
          1,
          2,
          3,
          4,
          5,
          6,
          7,
          8,
          9,
          10,
          11,
          12,
          13,
          14,
          15,
          16,
          17,
          18,
          19,
          20
         ],
         "y": [
          10,
          9.987860579848384,
          9.97582756229453,
          9.9639001248783,
          9.9520774425571,
          9.940358700623234,
          9.928743090244598,
          9.917229805895943,
          9.905818046202626,
          9.894507014789324,
          9.883295920280053,
          9.87218397625642,
          9.861170400799322,
          9.850254417095227,
          9.83943525338049,
          9.828712142840901,
          9.818084323611684,
          9.807551038300849,
          9.797111531692718,
          9.786765054553832,
          9.776510862647278
         ]
        },
        {
         "customdata": [
          "substrate inhibition with enzyme inactivation"
         ],
         "hoverinfo": "name",
         "marker": {
          "color": "rgb(115, 175, 72)"
         },
         "name": "substrate inhibition with enzyme inactivation",
         "showlegend": false,
         "type": "scatter",
         "x": [
          0,
          1,
          2,
          3,
          4,
          5,
          6,
          7,
          8,
          9,
          10,
          11,
          12,
          13,
          14,
          15,
          16,
          17,
          18,
          19,
          20
         ],
         "y": [
          15,
          14.991880205231006,
          14.983836907849135,
          14.975869433381392,
          14.967977069760185,
          14.96015916572359,
          14.9524150532446,
          14.944744071314535,
          14.937145563882764,
          14.929618880333159,
          14.922163375209625,
          14.91477840860582,
          14.907463345094957,
          14.900217555875976,
          14.893040416077463,
          14.88593130569869,
          14.878889610160135,
          14.871914719811132,
          14.865006030097316,
          14.858162941275388,
          14.851384858628913
         ]
        },
        {
         "customdata": [
          "substrate inhibition with enzyme inactivation"
         ],
         "hoverinfo": "name",
         "marker": {
          "color": "rgb(237, 173, 8)"
         },
         "name": "substrate inhibition with enzyme inactivation",
         "showlegend": false,
         "type": "scatter",
         "x": [
          0,
          1,
          2,
          3,
          4,
          5,
          6,
          7,
          8,
          9,
          10,
          11,
          12,
          13,
          14,
          15,
          16,
          17,
          18,
          19,
          20
         ],
         "y": [
          30,
          29.995926596583264,
          29.991893188702235,
          29.987899404945555,
          29.983944820040318,
          29.98002906935992,
          29.976151778610657,
          29.972312575925386,
          29.96851108986037,
          29.964746955979635,
          29.961019811416115,
          29.95732929682099,
          29.953675057013506,
          29.95005673947124,
          29.94647399474167,
          29.94292647822594,
          29.93941384865497,
          29.935935765777728,
          29.93249189360316,
          29.929081899582886,
          29.92570545410865
         ]
        }
       ],
       "layout": {
        "hoverlabel": {
         "namelength": -1
        },
        "hovermode": "closest",
        "legend": {
         "title": {
          "text": "Initial substrate (mmol / l)"
         }
        },
        "showlegend": true,
        "template": {
         "data": {
          "bar": [
           {
            "error_x": {
             "color": "#2a3f5f"
            },
            "error_y": {
             "color": "#2a3f5f"
            },
            "marker": {
             "line": {
              "color": "#E5ECF6",
              "width": 0.5
             },
             "pattern": {
              "fillmode": "overlay",
              "size": 10,
              "solidity": 0.2
             }
            },
            "type": "bar"
           }
          ],
          "barpolar": [
           {
            "marker": {
             "line": {
              "color": "#E5ECF6",
              "width": 0.5
             },
             "pattern": {
              "fillmode": "overlay",
              "size": 10,
              "solidity": 0.2
             }
            },
            "type": "barpolar"
           }
          ],
          "carpet": [
           {
            "aaxis": {
             "endlinecolor": "#2a3f5f",
             "gridcolor": "white",
             "linecolor": "white",
             "minorgridcolor": "white",
             "startlinecolor": "#2a3f5f"
            },
            "baxis": {
             "endlinecolor": "#2a3f5f",
             "gridcolor": "white",
             "linecolor": "white",
             "minorgridcolor": "white",
             "startlinecolor": "#2a3f5f"
            },
            "type": "carpet"
           }
          ],
          "choropleth": [
           {
            "colorbar": {
             "outlinewidth": 0,
             "ticks": ""
            },
            "type": "choropleth"
           }
          ],
          "contour": [
           {
            "colorbar": {
             "outlinewidth": 0,
             "ticks": ""
            },
            "colorscale": [
             [
              0,
              "#0d0887"
             ],
             [
              0.1111111111111111,
              "#46039f"
             ],
             [
              0.2222222222222222,
              "#7201a8"
             ],
             [
              0.3333333333333333,
              "#9c179e"
             ],
             [
              0.4444444444444444,
              "#bd3786"
             ],
             [
              0.5555555555555556,
              "#d8576b"
             ],
             [
              0.6666666666666666,
              "#ed7953"
             ],
             [
              0.7777777777777778,
              "#fb9f3a"
             ],
             [
              0.8888888888888888,
              "#fdca26"
             ],
             [
              1,
              "#f0f921"
             ]
            ],
            "type": "contour"
           }
          ],
          "contourcarpet": [
           {
            "colorbar": {
             "outlinewidth": 0,
             "ticks": ""
            },
            "type": "contourcarpet"
           }
          ],
          "heatmap": [
           {
            "colorbar": {
             "outlinewidth": 0,
             "ticks": ""
            },
            "colorscale": [
             [
              0,
              "#0d0887"
             ],
             [
              0.1111111111111111,
              "#46039f"
             ],
             [
              0.2222222222222222,
              "#7201a8"
             ],
             [
              0.3333333333333333,
              "#9c179e"
             ],
             [
              0.4444444444444444,
              "#bd3786"
             ],
             [
              0.5555555555555556,
              "#d8576b"
             ],
             [
              0.6666666666666666,
              "#ed7953"
             ],
             [
              0.7777777777777778,
              "#fb9f3a"
             ],
             [
              0.8888888888888888,
              "#fdca26"
             ],
             [
              1,
              "#f0f921"
             ]
            ],
            "type": "heatmap"
           }
          ],
          "heatmapgl": [
           {
            "colorbar": {
             "outlinewidth": 0,
             "ticks": ""
            },
            "colorscale": [
             [
              0,
              "#0d0887"
             ],
             [
              0.1111111111111111,
              "#46039f"
             ],
             [
              0.2222222222222222,
              "#7201a8"
             ],
             [
              0.3333333333333333,
              "#9c179e"
             ],
             [
              0.4444444444444444,
              "#bd3786"
             ],
             [
              0.5555555555555556,
              "#d8576b"
             ],
             [
              0.6666666666666666,
              "#ed7953"
             ],
             [
              0.7777777777777778,
              "#fb9f3a"
             ],
             [
              0.8888888888888888,
              "#fdca26"
             ],
             [
              1,
              "#f0f921"
             ]
            ],
            "type": "heatmapgl"
           }
          ],
          "histogram": [
           {
            "marker": {
             "pattern": {
              "fillmode": "overlay",
              "size": 10,
              "solidity": 0.2
             }
            },
            "type": "histogram"
           }
          ],
          "histogram2d": [
           {
            "colorbar": {
             "outlinewidth": 0,
             "ticks": ""
            },
            "colorscale": [
             [
              0,
              "#0d0887"
             ],
             [
              0.1111111111111111,
              "#46039f"
             ],
             [
              0.2222222222222222,
              "#7201a8"
             ],
             [
              0.3333333333333333,
              "#9c179e"
             ],
             [
              0.4444444444444444,
              "#bd3786"
             ],
             [
              0.5555555555555556,
              "#d8576b"
             ],
             [
              0.6666666666666666,
              "#ed7953"
             ],
             [
              0.7777777777777778,
              "#fb9f3a"
             ],
             [
              0.8888888888888888,
              "#fdca26"
             ],
             [
              1,
              "#f0f921"
             ]
            ],
            "type": "histogram2d"
           }
          ],
          "histogram2dcontour": [
           {
            "colorbar": {
             "outlinewidth": 0,
             "ticks": ""
            },
            "colorscale": [
             [
              0,
              "#0d0887"
             ],
             [
              0.1111111111111111,
              "#46039f"
             ],
             [
              0.2222222222222222,
              "#7201a8"
             ],
             [
              0.3333333333333333,
              "#9c179e"
             ],
             [
              0.4444444444444444,
              "#bd3786"
             ],
             [
              0.5555555555555556,
              "#d8576b"
             ],
             [
              0.6666666666666666,
              "#ed7953"
             ],
             [
              0.7777777777777778,
              "#fb9f3a"
             ],
             [
              0.8888888888888888,
              "#fdca26"
             ],
             [
              1,
              "#f0f921"
             ]
            ],
            "type": "histogram2dcontour"
           }
          ],
          "mesh3d": [
           {
            "colorbar": {
             "outlinewidth": 0,
             "ticks": ""
            },
            "type": "mesh3d"
           }
          ],
          "parcoords": [
           {
            "line": {
             "colorbar": {
              "outlinewidth": 0,
              "ticks": ""
             }
            },
            "type": "parcoords"
           }
          ],
          "pie": [
           {
            "automargin": true,
            "type": "pie"
           }
          ],
          "scatter": [
           {
            "fillpattern": {
             "fillmode": "overlay",
             "size": 10,
             "solidity": 0.2
            },
            "type": "scatter"
           }
          ],
          "scatter3d": [
           {
            "line": {
             "colorbar": {
              "outlinewidth": 0,
              "ticks": ""
             }
            },
            "marker": {
             "colorbar": {
              "outlinewidth": 0,
              "ticks": ""
             }
            },
            "type": "scatter3d"
           }
          ],
          "scattercarpet": [
           {
            "marker": {
             "colorbar": {
              "outlinewidth": 0,
              "ticks": ""
             }
            },
            "type": "scattercarpet"
           }
          ],
          "scattergeo": [
           {
            "marker": {
             "colorbar": {
              "outlinewidth": 0,
              "ticks": ""
             }
            },
            "type": "scattergeo"
           }
          ],
          "scattergl": [
           {
            "marker": {
             "colorbar": {
              "outlinewidth": 0,
              "ticks": ""
             }
            },
            "type": "scattergl"
           }
          ],
          "scattermapbox": [
           {
            "marker": {
             "colorbar": {
              "outlinewidth": 0,
              "ticks": ""
             }
            },
            "type": "scattermapbox"
           }
          ],
          "scatterpolar": [
           {
            "marker": {
             "colorbar": {
              "outlinewidth": 0,
              "ticks": ""
             }
            },
            "type": "scatterpolar"
           }
          ],
          "scatterpolargl": [
           {
            "marker": {
             "colorbar": {
              "outlinewidth": 0,
              "ticks": ""
             }
            },
            "type": "scatterpolargl"
           }
          ],
          "scatterternary": [
           {
            "marker": {
             "colorbar": {
              "outlinewidth": 0,
              "ticks": ""
             }
            },
            "type": "scatterternary"
           }
          ],
          "surface": [
           {
            "colorbar": {
             "outlinewidth": 0,
             "ticks": ""
            },
            "colorscale": [
             [
              0,
              "#0d0887"
             ],
             [
              0.1111111111111111,
              "#46039f"
             ],
             [
              0.2222222222222222,
              "#7201a8"
             ],
             [
              0.3333333333333333,
              "#9c179e"
             ],
             [
              0.4444444444444444,
              "#bd3786"
             ],
             [
              0.5555555555555556,
              "#d8576b"
             ],
             [
              0.6666666666666666,
              "#ed7953"
             ],
             [
              0.7777777777777778,
              "#fb9f3a"
             ],
             [
              0.8888888888888888,
              "#fdca26"
             ],
             [
              1,
              "#f0f921"
             ]
            ],
            "type": "surface"
           }
          ],
          "table": [
           {
            "cells": {
             "fill": {
              "color": "#EBF0F8"
             },
             "line": {
              "color": "white"
             }
            },
            "header": {
             "fill": {
              "color": "#C8D4E3"
             },
             "line": {
              "color": "white"
             }
            },
            "type": "table"
           }
          ]
         },
         "layout": {
          "annotationdefaults": {
           "arrowcolor": "#2a3f5f",
           "arrowhead": 0,
           "arrowwidth": 1
          },
          "autotypenumbers": "strict",
          "coloraxis": {
           "colorbar": {
            "outlinewidth": 0,
            "ticks": ""
           }
          },
          "colorscale": {
           "diverging": [
            [
             0,
             "#8e0152"
            ],
            [
             0.1,
             "#c51b7d"
            ],
            [
             0.2,
             "#de77ae"
            ],
            [
             0.3,
             "#f1b6da"
            ],
            [
             0.4,
             "#fde0ef"
            ],
            [
             0.5,
             "#f7f7f7"
            ],
            [
             0.6,
             "#e6f5d0"
            ],
            [
             0.7,
             "#b8e186"
            ],
            [
             0.8,
             "#7fbc41"
            ],
            [
             0.9,
             "#4d9221"
            ],
            [
             1,
             "#276419"
            ]
           ],
           "sequential": [
            [
             0,
             "#0d0887"
            ],
            [
             0.1111111111111111,
             "#46039f"
            ],
            [
             0.2222222222222222,
             "#7201a8"
            ],
            [
             0.3333333333333333,
             "#9c179e"
            ],
            [
             0.4444444444444444,
             "#bd3786"
            ],
            [
             0.5555555555555556,
             "#d8576b"
            ],
            [
             0.6666666666666666,
             "#ed7953"
            ],
            [
             0.7777777777777778,
             "#fb9f3a"
            ],
            [
             0.8888888888888888,
             "#fdca26"
            ],
            [
             1,
             "#f0f921"
            ]
           ],
           "sequentialminus": [
            [
             0,
             "#0d0887"
            ],
            [
             0.1111111111111111,
             "#46039f"
            ],
            [
             0.2222222222222222,
             "#7201a8"
            ],
            [
             0.3333333333333333,
             "#9c179e"
            ],
            [
             0.4444444444444444,
             "#bd3786"
            ],
            [
             0.5555555555555556,
             "#d8576b"
            ],
            [
             0.6666666666666666,
             "#ed7953"
            ],
            [
             0.7777777777777778,
             "#fb9f3a"
            ],
            [
             0.8888888888888888,
             "#fdca26"
            ],
            [
             1,
             "#f0f921"
            ]
           ]
          },
          "colorway": [
           "#636efa",
           "#EF553B",
           "#00cc96",
           "#ab63fa",
           "#FFA15A",
           "#19d3f3",
           "#FF6692",
           "#B6E880",
           "#FF97FF",
           "#FECB52"
          ],
          "font": {
           "color": "#2a3f5f"
          },
          "geo": {
           "bgcolor": "white",
           "lakecolor": "white",
           "landcolor": "#E5ECF6",
           "showlakes": true,
           "showland": true,
           "subunitcolor": "white"
          },
          "hoverlabel": {
           "align": "left"
          },
          "hovermode": "closest",
          "mapbox": {
           "style": "light"
          },
          "paper_bgcolor": "white",
          "plot_bgcolor": "#E5ECF6",
          "polar": {
           "angularaxis": {
            "gridcolor": "white",
            "linecolor": "white",
            "ticks": ""
           },
           "bgcolor": "#E5ECF6",
           "radialaxis": {
            "gridcolor": "white",
            "linecolor": "white",
            "ticks": ""
           }
          },
          "scene": {
           "xaxis": {
            "backgroundcolor": "#E5ECF6",
            "gridcolor": "white",
            "gridwidth": 2,
            "linecolor": "white",
            "showbackground": true,
            "ticks": "",
            "zerolinecolor": "white"
           },
           "yaxis": {
            "backgroundcolor": "#E5ECF6",
            "gridcolor": "white",
            "gridwidth": 2,
            "linecolor": "white",
            "showbackground": true,
            "ticks": "",
            "zerolinecolor": "white"
           },
           "zaxis": {
            "backgroundcolor": "#E5ECF6",
            "gridcolor": "white",
            "gridwidth": 2,
            "linecolor": "white",
            "showbackground": true,
            "ticks": "",
            "zerolinecolor": "white"
           }
          },
          "shapedefaults": {
           "line": {
            "color": "#2a3f5f"
           }
          },
          "ternary": {
           "aaxis": {
            "gridcolor": "white",
            "linecolor": "white",
            "ticks": ""
           },
           "baxis": {
            "gridcolor": "white",
            "linecolor": "white",
            "ticks": ""
           },
           "bgcolor": "#E5ECF6",
           "caxis": {
            "gridcolor": "white",
            "linecolor": "white",
            "ticks": ""
           }
          },
          "title": {
           "x": 0.05
          },
          "xaxis": {
           "automargin": true,
           "gridcolor": "white",
           "linecolor": "white",
           "ticks": "",
           "title": {
            "standoff": 15
           },
           "zerolinecolor": "white",
           "zerolinewidth": 2
          },
          "yaxis": {
           "automargin": true,
           "gridcolor": "white",
           "linecolor": "white",
           "ticks": "",
           "title": {
            "standoff": 15
           },
           "zerolinecolor": "white",
           "zerolinewidth": 2
          }
         }
        },
        "title": {
         "text": "Kinetic Model Overview"
        },
        "updatemenus": [
         {
          "buttons": [
           {
            "args": [
             {
              "visible": [
               true,
               true,
               true,
               true,
               true,
               true,
               true,
               true,
               true,
               true,
               true,
               true,
               true,
               true,
               true,
               true,
               true,
               true,
               true,
               true,
               true,
               true,
               true,
               true,
               true,
               true,
               true,
               true,
               true,
               true,
               true,
               true,
               true,
               true,
               true,
               true,
               true,
               true,
               true,
               true,
               true,
               true,
               true,
               true,
               true,
               true,
               true,
               true,
               true,
               true,
               true,
               true,
               true,
               true
              ]
             }
            ],
            "label": "All",
            "method": "restyle",
            "visible": true
           },
           {
            "args": [
             {
              "visible": [
               true,
               true,
               true,
               true,
               true,
               true,
               true,
               true,
               true,
               true,
               true,
               true,
               false,
               false,
               false,
               false,
               false,
               false,
               false,
               false,
               false,
               false,
               false,
               false,
               false,
               false,
               false,
               false,
               false,
               false,
               false,
               false,
               false,
               false,
               false,
               false,
               false,
               false,
               false,
               false,
               false,
               false,
               false,
               false,
               false,
               false,
               false,
               false,
               false,
               false,
               false,
               false,
               false,
               false
              ]
             }
            ],
            "label": "irreversible Michaelis Menten",
            "method": "restyle",
            "visible": true
           },
           {
            "args": [
             {
              "visible": [
               true,
               true,
               true,
               true,
               true,
               true,
               false,
               false,
               false,
               false,
               false,
               false,
               true,
               true,
               true,
               true,
               true,
               true,
               false,
               false,
               false,
               false,
               false,
               false,
               false,
               false,
               false,
               false,
               false,
               false,
               false,
               false,
               false,
               false,
               false,
               false,
               false,
               false,
               false,
               false,
               false,
               false,
               false,
               false,
               false,
               false,
               false,
               false,
               false,
               false,
               false,
               false,
               false,
               false
              ]
             }
            ],
            "label": "irreversible Michaelis Menten with enzyme inactivation",
            "method": "restyle",
            "visible": true
           },
           {
            "args": [
             {
              "visible": [
               true,
               true,
               true,
               true,
               true,
               true,
               false,
               false,
               false,
               false,
               false,
               false,
               false,
               false,
               false,
               false,
               false,
               false,
               true,
               true,
               true,
               true,
               true,
               true,
               false,
               false,
               false,
               false,
               false,
               false,
               false,
               false,
               false,
               false,
               false,
               false,
               false,
               false,
               false,
               false,
               false,
               false,
               false,
               false,
               false,
               false,
               false,
               false,
               false,
               false,
               false,
               false,
               false,
               false
              ]
             }
            ],
            "label": "competitive product inhibition",
            "method": "restyle",
            "visible": true
           },
           {
            "args": [
             {
              "visible": [
               true,
               true,
               true,
               true,
               true,
               true,
               false,
               false,
               false,
               false,
               false,
               false,
               false,
               false,
               false,
               false,
               false,
               false,
               false,
               false,
               false,
               false,
               false,
               false,
               true,
               true,
               true,
               true,
               true,
               true,
               false,
               false,
               false,
               false,
               false,
               false,
               false,
               false,
               false,
               false,
               false,
               false,
               false,
               false,
               false,
               false,
               false,
               false,
               false,
               false,
               false,
               false,
               false,
               false
              ]
             }
            ],
            "label": "competitive product inhibition with enzyme inactivation",
            "method": "restyle",
            "visible": true
           },
           {
            "args": [
             {
              "visible": [
               true,
               true,
               true,
               true,
               true,
               true,
               false,
               false,
               false,
               false,
               false,
               false,
               false,
               false,
               false,
               false,
               false,
               false,
               false,
               false,
               false,
               false,
               false,
               false,
               false,
               false,
               false,
               false,
               false,
               false,
               true,
               true,
               true,
               true,
               true,
               true,
               false,
               false,
               false,
               false,
               false,
               false,
               false,
               false,
               false,
               false,
               false,
               false,
               false,
               false,
               false,
               false,
               false,
               false
              ]
             }
            ],
            "label": "uncompetitive product inhibition",
            "method": "restyle",
            "visible": true
           },
           {
            "args": [
             {
              "visible": [
               true,
               true,
               true,
               true,
               true,
               true,
               false,
               false,
               false,
               false,
               false,
               false,
               false,
               false,
               false,
               false,
               false,
               false,
               false,
               false,
               false,
               false,
               false,
               false,
               false,
               false,
               false,
               false,
               false,
               false,
               false,
               false,
               false,
               false,
               false,
               false,
               true,
               true,
               true,
               true,
               true,
               true,
               false,
               false,
               false,
               false,
               false,
               false,
               false,
               false,
               false,
               false,
               false,
               false
              ]
             }
            ],
            "label": "non-competitive product inhibition",
            "method": "restyle",
            "visible": true
           },
           {
            "args": [
             {
              "visible": [
               true,
               true,
               true,
               true,
               true,
               true,
               false,
               false,
               false,
               false,
               false,
               false,
               false,
               false,
               false,
               false,
               false,
               false,
               false,
               false,
               false,
               false,
               false,
               false,
               false,
               false,
               false,
               false,
               false,
               false,
               false,
               false,
               false,
               false,
               false,
               false,
               false,
               false,
               false,
               false,
               false,
               false,
               true,
               true,
               true,
               true,
               true,
               true,
               false,
               false,
               false,
               false,
               false,
               false
              ]
             }
            ],
            "label": "substrate inhibition",
            "method": "restyle",
            "visible": true
           },
           {
            "args": [
             {
              "visible": [
               true,
               true,
               true,
               true,
               true,
               true,
               false,
               false,
               false,
               false,
               false,
               false,
               false,
               false,
               false,
               false,
               false,
               false,
               false,
               false,
               false,
               false,
               false,
               false,
               false,
               false,
               false,
               false,
               false,
               false,
               false,
               false,
               false,
               false,
               false,
               false,
               false,
               false,
               false,
               false,
               false,
               false,
               false,
               false,
               false,
               false,
               false,
               false,
               true,
               true,
               true,
               true,
               true,
               true
              ]
             }
            ],
            "label": "substrate inhibition with enzyme inactivation",
            "method": "restyle",
            "visible": true
           }
          ],
          "direction": "down",
          "showactive": true,
          "x": 0,
          "xanchor": "left",
          "y": 1.15,
          "yanchor": "top"
         }
        ]
       }
      },
      "text/html": [
       "<div>                            <div id=\"e258b82d-22bd-42fe-9ae2-6d52c9f4314d\" class=\"plotly-graph-div\" style=\"height:525px; width:100%;\"></div>            <script type=\"text/javascript\">                require([\"plotly\"], function(Plotly) {                    window.PLOTLYENV=window.PLOTLYENV || {};                                    if (document.getElementById(\"e258b82d-22bd-42fe-9ae2-6d52c9f4314d\")) {                    Plotly.newPlot(                        \"e258b82d-22bd-42fe-9ae2-6d52c9f4314d\",                        [{\"customdata\":[\"data\"],\"hoverinfo\":\"skip\",\"marker\":{\"color\":\"rgb(95, 70, 144)\",\"size\":10},\"mode\":\"markers\",\"name\":\"0.5\",\"x\":[0.0,1.0,2.0,3.0,4.0,5.0,6.0,7.0,8.0,9.0,10.0,11.0,12.0,13.0,14.0,15.0,16.0,17.0,18.0,19.0,20.0],\"y\":[0.5,0.3644854817261172,0.26342082614495876,0.18911029730907936,0.13507619854228237,0.09611819057303306,0.06820762065153442,0.04830485333484994,0.034160437082733246,0.024132875363550937,0.017036342307101854,0.012020366602019189,0.008478109651294722,0.005978153688854039,0.004214590282762656,0.002970893213232844,0.0020940108248797087,0.0014758522649185415,0.0010401279274423667,0.0007330218757907535,0.0005165793991943711],\"type\":\"scatter\"},{\"customdata\":[\"data\"],\"hoverinfo\":\"skip\",\"marker\":{\"color\":\"rgb(29, 105, 150)\",\"size\":10},\"mode\":\"markers\",\"name\":\"2.0\",\"x\":[0.0,1.0,2.0,3.0,4.0,5.0,6.0,7.0,8.0,9.0,10.0,11.0,12.0,13.0,14.0,15.0,16.0,17.0,18.0,19.0,20.0],\"y\":[2.0,1.569516923490442,1.2100248901425266,0.9174066670621502,0.6851366875818905,0.5050421925557563,0.3682762683103367,0.26622606625686046,0.1911602863758995,0.13655977482123025,0.09718402777037388,0.06896920883625109,0.04884689456949333,0.03454511927047541,0.02440532173305027,0.017229017917752217,0.012156483500162504,0.00857420017429145,0.006045954460889596,0.004262408928448321,0.0030046126231969388],\"type\":\"scatter\"},{\"customdata\":[\"data\"],\"hoverinfo\":\"skip\",\"marker\":{\"color\":\"rgb(56, 166, 165)\",\"size\":10},\"mode\":\"markers\",\"name\":\"4.0\",\"x\":[0.0,1.0,2.0,3.0,4.0,5.0,6.0,7.0,8.0,9.0,10.0,11.0,12.0,13.0,14.0,15.0,16.0,17.0,18.0,19.0,20.0],\"y\":[4.0,3.3314940265802093,2.7291770249856264,2.1969313450723083,1.7368606593474134,1.3486781412200664,1.0293741765134272,0.7733374028387807,0.572956918234275,0.41954222346175263,0.3042888761129524,0.21904734904543413,0.156781701646602,0.1117334978098535,0.07937677544036345,0.05626007519092634,0.039809208815929836,0.028135086352006768,0.019867498685462698,0.014020857722379529,0.009890537373247264],\"type\":\"scatter\"},{\"customdata\":[\"data\"],\"hoverinfo\":\"skip\",\"marker\":{\"color\":\"rgb(15, 133, 84)\",\"size\":10},\"mode\":\"markers\",\"name\":\"10.0\",\"x\":[0.0,1.0,2.0,3.0,4.0,5.0,6.0,7.0,8.0,9.0,10.0,11.0,12.0,13.0,14.0,15.0,16.0,17.0,18.0,19.0,20.0],\"y\":[10.0,9.014848259300036,8.06179527698335,7.144800673375277,6.268311928950545,5.437248020972423,4.656921669254372,3.932866262976856,3.2705309091155335,2.6748168737237505,2.149464940038742,1.6963723909775295,1.3149985370912927,1.0020698566127553,0.751749426259512,0.5562793161785449,0.40691770989552617,0.2948942576229412,0.21215188169558497,0.15177463434952831,0.108127228926348],\"type\":\"scatter\"},{\"customdata\":[\"data\"],\"hoverinfo\":\"skip\",\"marker\":{\"color\":\"rgb(115, 175, 72)\",\"size\":10},\"mode\":\"markers\",\"name\":\"15.0\",\"x\":[0.0,1.0,2.0,3.0,4.0,5.0,6.0,7.0,8.0,9.0,10.0,11.0,12.0,13.0,14.0,15.0,16.0,17.0,18.0,19.0,20.0],\"y\":[15.0,13.90360745163819,12.826231258525885,11.769988897467153,10.737304494447198,9.730953331390248,8.754108262361743,7.810383978912784,6.90387107791713,6.039148211393449,5.2212514293625025,4.455575136702814,3.747666272723041,3.1028784698204706,2.5258650681718455,2.0199361188261964,1.5863803112509045,1.2239304704409646,0.9285827943809541,0.6939013886295122,0.5117642650746206],\"type\":\"scatter\"},{\"customdata\":[\"data\"],\"hoverinfo\":\"skip\",\"marker\":{\"color\":\"rgb(237, 173, 8)\",\"size\":10},\"mode\":\"markers\",\"name\":\"30.0\",\"x\":[0.0,1.0,2.0,3.0,4.0,5.0,6.0,7.0,8.0,9.0,10.0,11.0,12.0,13.0,14.0,15.0,16.0,17.0,18.0,19.0,20.0],\"y\":[30.0,28.76776725048138,27.54194854235051,26.323014936939547,25.111487847618747,23.90794604735632,22.71303381403288,21.527470339468877,20.352060884921805,19.18770983211912,18.03543574383351,16.896389744259277,15.771876190622983,14.663377453787515,13.572582605926526,12.501420576175885,11.452097939896705,10.42714102809542,9.429441694060694,8.462303525321602,7.529483109469235],\"type\":\"scatter\"},{\"customdata\":[\"irreversible Michaelis Menten\"],\"hoverinfo\":\"name\",\"marker\":{\"color\":\"rgb(95, 70, 144)\"},\"name\":\"irreversible Michaelis Menten\",\"showlegend\":false,\"x\":[0.0,1.0,2.0,3.0,4.0,5.0,6.0,7.0,8.0,9.0,10.0,11.0,12.0,13.0,14.0,15.0,16.0,17.0,18.0,19.0,20.0],\"y\":[0.5,0.12447567692830606,0.019960320650536746,0.0027777340525783987,0.00037739178494144575,0.00005110241736529471,6.916271670401575e-6,9.355921135662191e-7,1.2764152738987018e-7,1.662181797476243e-8,2.4731755621975885e-9,1.695276922234353e-10,-4.570883742242394e-10,-4.049082720663581e-10,-2.0288015120698547e-10,-9.046894004324869e-11,-5.370921069395337e-11,-5.0118270303583214e-11,-4.652732991321306e-11,-4.2936389522842905e-11,-3.934544913247275e-11],\"type\":\"scatter\"},{\"customdata\":[\"irreversible Michaelis Menten\"],\"hoverinfo\":\"name\",\"marker\":{\"color\":\"rgb(29, 105, 150)\"},\"name\":\"irreversible Michaelis Menten\",\"showlegend\":false,\"x\":[0.0,1.0,2.0,3.0,4.0,5.0,6.0,7.0,8.0,9.0,10.0,11.0,12.0,13.0,14.0,15.0,16.0,17.0,18.0,19.0,20.0],\"y\":[2.0,1.1232291079467236,0.45193016962833155,0.10704967212547695,0.016773782167206083,0.0023239530587613336,0.0003155387853579023,0.000042722960867086135,5.780959172212631e-6,7.831814634145625e-7,1.0687351174712718e-7,1.3851915007566145e-8,2.040670573765795e-9,9.74448694797671e-11,-4.4902960746497904e-10,-3.7990015888096576e-10,-1.865649908186595e-10,-9.155478550058083e-11,-4.593905311853478e-11,-4.3019321877849134e-11,-4.0099590637163485e-11],\"type\":\"scatter\"},{\"customdata\":[\"irreversible Michaelis Menten\"],\"hoverinfo\":\"name\",\"marker\":{\"color\":\"rgb(56, 166, 165)\"},\"name\":\"irreversible Michaelis Menten\",\"showlegend\":false,\"x\":[0.0,1.0,2.0,3.0,4.0,5.0,6.0,7.0,8.0,9.0,10.0,11.0,12.0,13.0,14.0,15.0,16.0,17.0,18.0,19.0,20.0],\"y\":[4.0,2.9544411821230314,1.9714517660508317,1.0991656521892363,0.43626269426540176,0.10163332388311495,0.015810406814396945,0.0021875410521696053,0.0002969604820669566,0.00004020712272837163,5.441591627638083e-6,7.357134932713721e-7,1.0029853594738096e-7,1.3014306704386367e-8,1.919299220490774e-9,9.335536039061473e-11,-4.4560654440657953e-10,-3.6611411600387075e-10,-1.7982446411297785e-10,-9.360699615708772e-11,-4.2036423867914405e-11],\"type\":\"scatter\"},{\"customdata\":[\"irreversible Michaelis Menten\"],\"hoverinfo\":\"name\",\"marker\":{\"color\":\"rgb(15, 133, 84)\"},\"name\":\"irreversible Michaelis Menten\",\"showlegend\":false,\"x\":[0.0,1.0,2.0,3.0,4.0,5.0,6.0,7.0,8.0,9.0,10.0,11.0,12.0,13.0,14.0,15.0,16.0,17.0,18.0,19.0,20.0],\"y\":[10.0,8.843490102964246,7.696820124626513,6.562790994524559,5.445537613405304,4.351486816399081,3.291296149458361,2.284128885646573,1.3678199003812792,0.6215515677876131,0.17394185853170652,0.02974786936412752,0.004196428196898992,0.000571286933492874,0.00007737939172193308,0.000010473094329421882,1.416284836030386e-6,1.9258648667288956e-7,2.5199863362724628e-8,3.6708799922155456e-9,5.293090607119627e-10],\"type\":\"scatter\"},{\"customdata\":[\"irreversible Michaelis Menten\"],\"hoverinfo\":\"name\",\"marker\":{\"color\":\"rgb(115, 175, 72)\"},\"name\":\"irreversible Michaelis Menten\",\"showlegend\":false,\"x\":[0.0,1.0,2.0,3.0,4.0,5.0,6.0,7.0,8.0,9.0,10.0,11.0,12.0,13.0,14.0,15.0,16.0,17.0,18.0,19.0,20.0],\"y\":[15.0,13.818322541923681,12.64095701251402,11.468685804329315,10.302520339768307,9.14379815342144,7.994336082357431,6.85668309212966,5.734558524468267,4.633659630918717,3.5632625462531213,2.539672479758561,1.5943027342466634,0.7926320416629501,0.2562122298339372,0.048570780279451095,0.007031808731420777,0.0009610889132117329,0.00013024787294595375,0.00001763020774334378,2.3860575379694033e-6],\"type\":\"scatter\"},{\"customdata\":[\"irreversible Michaelis Menten\"],\"hoverinfo\":\"name\",\"marker\":{\"color\":\"rgb(237, 173, 8)\"},\"name\":\"irreversible Michaelis Menten\",\"showlegend\":false,\"x\":[0.0,1.0,2.0,3.0,4.0,5.0,6.0,7.0,8.0,9.0,10.0,11.0,12.0,13.0,14.0,15.0,16.0,17.0,18.0,19.0,20.0],\"y\":[30.0,28.793066683085673,27.587193236637965,26.38247120596357,25.1790045291863,23.976911684781555,22.776328614817455,21.577412184516216,20.380344966343046,19.185340760920504,17.992652274485668,16.802581037156223,15.615490687075226,14.431825059531054,13.252133296927324,12.077105214263089,10.90762382618763,9.744842213836652,8.59030439623125,7.446138603335537,6.31538466823579],\"type\":\"scatter\"},{\"customdata\":[\"irreversible Michaelis Menten with enzyme inactivation\"],\"hoverinfo\":\"name\",\"marker\":{\"color\":\"rgb(95, 70, 144)\"},\"name\":\"irreversible Michaelis Menten with enzyme inactivation\",\"showlegend\":false,\"x\":[0.0,1.0,2.0,3.0,4.0,5.0,6.0,7.0,8.0,9.0,10.0,11.0,12.0,13.0,14.0,15.0,16.0,17.0,18.0,19.0,20.0],\"y\":[0.5,0.1255113504243603,0.02074303736337415,0.0030353389058110965,0.000441892155344711,0.0000653438144441144,9.843655011921364e-6,1.5100489014586448e-6,2.3703950232609742e-7,3.732474320908884e-8,6.119480804547284e-9,1.079873935573552e-9,1.9367087843556174e-10,3.603777367581063e-11,1.469092967238514e-10,5.849683597047135e-10,2.312470679253763e-9,6.060464609469637e-9,1.8602069529431806e-9,-2.3634905110669746e-11,1.0713501862068308e-11],\"type\":\"scatter\"},{\"customdata\":[\"irreversible Michaelis Menten with enzyme inactivation\"],\"hoverinfo\":\"name\",\"marker\":{\"color\":\"rgb(29, 105, 150)\"},\"name\":\"irreversible Michaelis Menten with enzyme inactivation\",\"showlegend\":false,\"x\":[0.0,1.0,2.0,3.0,4.0,5.0,6.0,7.0,8.0,9.0,10.0,11.0,12.0,13.0,14.0,15.0,16.0,17.0,18.0,19.0,20.0],\"y\":[2.0,1.1271970875637363,0.46235740381110996,0.11544297019908949,0.019554248431043773,0.0029686575181439344,0.0004489778542153176,0.00006895472229739062,0.000010784416096745367,1.7179062731316587e-6,2.7885500785160035e-7,4.5467078488399685e-8,7.685417874147982e-9,1.4087018438837756e-9,2.606914144552786e-10,4.979261697619319e-11,1.0498931154265472e-10,4.832270892414734e-10,1.7956257689191309e-9,5.159194290397153e-9,3.826748313358229e-9],\"type\":\"scatter\"},{\"customdata\":[\"irreversible Michaelis Menten with enzyme inactivation\"],\"hoverinfo\":\"name\",\"marker\":{\"color\":\"rgb(56, 166, 165)\"},\"name\":\"irreversible Michaelis Menten with enzyme inactivation\",\"showlegend\":false,\"x\":[0.0,1.0,2.0,3.0,4.0,5.0,6.0,7.0,8.0,9.0,10.0,11.0,12.0,13.0,14.0,15.0,16.0,17.0,18.0,19.0,20.0],\"y\":[4.0,2.959523011329346,1.9901247505169077,1.1345463251404677,0.4776714584677264,0.12510571160504255,0.02226678133888531,0.0035232233068691427,0.0005536063293481323,0.00008824948030533709,0.00001431932235498868,2.365191262864309e-6,3.973375008351284e-7,6.854618159675212e-8,1.1492398169254546e-8,2.20562995422154e-9,4.198310742083711e-10,8.320922454341635e-11,3.854255994695537e-11,2.5276746912490205e-10,7.775376547304005e-10],\"type\":\"scatter\"},{\"customdata\":[\"irreversible Michaelis Menten with enzyme inactivation\"],\"hoverinfo\":\"name\",\"marker\":{\"color\":\"rgb(15, 133, 84)\"},\"name\":\"irreversible Michaelis Menten with enzyme inactivation\",\"showlegend\":false,\"x\":[0.0,1.0,2.0,3.0,4.0,5.0,6.0,7.0,8.0,9.0,10.0,11.0,12.0,13.0,14.0,15.0,16.0,17.0,18.0,19.0,20.0],\"y\":[10.0,8.849230951836606,7.719489345293567,6.612995789062596,5.532998107129533,4.484438101092707,3.47522475358402,2.518838765462437,1.640010725557328,0.8869162522577786,0.3461115432011248,0.08705739045840104,0.01641965369362344,0.0028733104415490083,0.0005025151967991655,0.0000891426008232243,0.000016079788964161126,2.9496976196589216e-6,5.500059157999378e-7,1.0530975764427045e-7,1.9571756408488888e-8],\"type\":\"scatter\"},{\"customdata\":[\"irreversible Michaelis Menten with enzyme inactivation\"],\"hoverinfo\":\"name\",\"marker\":{\"color\":\"rgb(115, 175, 72)\"},\"name\":\"irreversible Michaelis Menten with enzyme inactivation\",\"showlegend\":false,\"x\":[0.0,1.0,2.0,3.0,4.0,5.0,6.0,7.0,8.0,9.0,10.0,11.0,12.0,13.0,14.0,15.0,16.0,17.0,18.0,19.0,20.0],\"y\":[15.0,13.824201171577146,12.664301443484947,11.520792984608349,10.394331407414901,9.2857973659231,8.196389190342506,7.127768019191344,6.082293671960601,5.063426036737509,4.0764472470907895,3.129838696241019,2.238085052877319,1.4276425477386325,0.7486909401883485,0.2827434216835188,0.07181247708547865,0.014459495673720717,0.0027495625481263703,0.000523529022365986,0.00010104771357623538],\"type\":\"scatter\"},{\"customdata\":[\"irreversible Michaelis Menten with enzyme inactivation\"],\"hoverinfo\":\"name\",\"marker\":{\"color\":\"rgb(237, 173, 8)\"},\"name\":\"irreversible Michaelis Menten with enzyme inactivation\",\"showlegend\":false,\"x\":[0.0,1.0,2.0,3.0,4.0,5.0,6.0,7.0,8.0,9.0,10.0,11.0,12.0,13.0,14.0,15.0,16.0,17.0,18.0,19.0,20.0],\"y\":[30.0,28.799078768749087,27.611139872238898,26.43611975735336,25.273962637606733,24.124621476557095,22.988059210264836,21.86425022591492,20.753182044419578,19.654857793294692,18.569298641185902,17.496547340776132,16.43667251584467,15.389774150522168,14.355990656456026,13.335508163873364,12.328572774795132,11.335507305283132,10.356733980638259,9.392806089674977,8.444454046871096],\"type\":\"scatter\"},{\"customdata\":[\"competitive product inhibition\"],\"hoverinfo\":\"name\",\"marker\":{\"color\":\"rgb(95, 70, 144)\"},\"name\":\"competitive product inhibition\",\"showlegend\":false,\"x\":[0.0,1.0,2.0,3.0,4.0,5.0,6.0,7.0,8.0,9.0,10.0,11.0,12.0,13.0,14.0,15.0,16.0,17.0,18.0,19.0,20.0],\"y\":[0.5,0.25419157719973445,0.1596040520039628,0.10613496565103188,0.07256714352381896,0.05041295214001906,0.03537180156811899,0.024979932035031033,0.01771835459378306,0.012605447493997456,0.008986677236939212,0.0064161668506243635,0.004585646853048327,0.0032797733982861984,0.0023470012054220618,0.0016801342865065824,0.0012030651153409353,0.0008616224048854886,0.0006171683120575771,0.0004421123449071229,0.0003167315617076401],\"type\":\"scatter\"},{\"customdata\":[\"competitive product inhibition\"],\"hoverinfo\":\"name\",\"marker\":{\"color\":\"rgb(29, 105, 150)\"},\"name\":\"competitive product inhibition\",\"showlegend\":false,\"x\":[0.0,1.0,2.0,3.0,4.0,5.0,6.0,7.0,8.0,9.0,10.0,11.0,12.0,13.0,14.0,15.0,16.0,17.0,18.0,19.0,20.0],\"y\":[2.0,1.4743834019989217,1.202833729180362,1.01436306275001,0.8709310769440886,0.7564734403311653,0.6624303276645926,0.5836121235636854,0.5165989410197562,0.45900124513754054,0.4090753221534027,0.365505414652136,0.32727199829870557,0.29356788389764266,0.2637425484441481,0.2372638801723441,0.21369112464342088,0.19265524227920694,0.17384437450815982,0.1569928540917936,0.14187278258475336],\"type\":\"scatter\"},{\"customdata\":[\"competitive product inhibition\"],\"hoverinfo\":\"name\",\"marker\":{\"color\":\"rgb(56, 166, 165)\"},\"name\":\"competitive product inhibition\",\"showlegend\":false,\"x\":[0.0,1.0,2.0,3.0,4.0,5.0,6.0,7.0,8.0,9.0,10.0,11.0,12.0,13.0,14.0,15.0,16.0,17.0,18.0,19.0,20.0],\"y\":[4.0,3.3057963731031417,2.89485679165987,2.591157676953306,2.348358898297225,2.145944876472841,1.9726990470891448,1.8217018355557928,1.6883322062751702,1.5693252277955334,1.4622745775066328,1.3653474882222418,1.2771108424038196,1.1964195863801954,1.1223422424153795,1.0541094503364696,0.9910774304627504,0.9327013397558602,0.8785155016215774,0.8281184212552452,0.7811612545632053],\"type\":\"scatter\"},{\"customdata\":[\"competitive product inhibition\"],\"hoverinfo\":\"name\",\"marker\":{\"color\":\"rgb(15, 133, 84)\"},\"name\":\"competitive product inhibition\",\"showlegend\":false,\"x\":[0.0,1.0,2.0,3.0,4.0,5.0,6.0,7.0,8.0,9.0,10.0,11.0,12.0,13.0,14.0,15.0,16.0,17.0,18.0,19.0,20.0],\"y\":[10.0,9.094914496766767,8.457293565499253,7.94954317349012,7.522400694872471,7.151478122684015,6.822589544804978,6.52662333113549,6.257316841108672,6.0101475167236895,5.781723775189795,5.569425322373788,5.3711782829637515,5.185308166982695,5.0104400674603164,4.8454288309191345,4.689308770101685,4.541256721254279,4.400564338748853,4.266616922557145,4.138877063695238],\"type\":\"scatter\"},{\"customdata\":[\"competitive product inhibition\"],\"hoverinfo\":\"name\",\"marker\":{\"color\":\"rgb(115, 175, 72)\"},\"name\":\"competitive product inhibition\",\"showlegend\":false,\"x\":[0.0,1.0,2.0,3.0,4.0,5.0,6.0,7.0,8.0,9.0,10.0,11.0,12.0,13.0,14.0,15.0,16.0,17.0,18.0,19.0,20.0],\"y\":[15.0,14.017064911027152,13.274035573172302,12.662255094348433,12.136354243048858,11.672228623527205,11.255256687644712,10.875779004234795,10.527020225783454,10.204011459760242,9.902980839801113,9.620985425605443,9.355676826841437,9.105145750363572,8.867815191883569,8.642364836076391,8.42767620550924,8.222792040434866,8.026885582939945,7.839237033513729,7.659215180534175],\"type\":\"scatter\"},{\"customdata\":[\"competitive product inhibition\"],\"hoverinfo\":\"name\",\"marker\":{\"color\":\"rgb(237, 173, 8)\"},\"name\":\"competitive product inhibition\",\"showlegend\":false,\"x\":[0.0,1.0,2.0,3.0,4.0,5.0,6.0,7.0,8.0,9.0,10.0,11.0,12.0,13.0,14.0,15.0,16.0,17.0,18.0,19.0,20.0],\"y\":[30.0,28.914476085932307,28.005478160306478,27.213660628281957,26.506909915505897,25.865522774320656,25.27637951569994,24.730223719217303,24.220235973245124,23.741220756152764,23.289111947765807,22.860656553696757,22.453203921062745,22.0645604696535,21.692886413349502,21.336620808164007,20.99442576998175,20.665144333797244,20.347767983529515,20.041411289401452,19.745291891237546],\"type\":\"scatter\"},{\"customdata\":[\"competitive product inhibition with enzyme inactivation\"],\"hoverinfo\":\"name\",\"marker\":{\"color\":\"rgb(95, 70, 144)\"},\"name\":\"competitive product inhibition with enzyme inactivation\",\"showlegend\":false,\"x\":[0.0,1.0,2.0,3.0,4.0,5.0,6.0,7.0,8.0,9.0,10.0,11.0,12.0,13.0,14.0,15.0,16.0,17.0,18.0,19.0,20.0],\"y\":[0.5,0.2548474174699551,0.16097157372202306,0.10800449113641722,0.07472707619426602,0.05268899778604337,0.037633333182029556,0.027136444035668457,0.01971271294181181,0.014406554003119111,0.010582680745556006,0.007808682863836897,0.005785109082307343,0.004301867515511272,0.003210044456433032,0.0024032359278438474,0.0018049023582977627,0.0013596831882710723,0.0010273337923194354,0.0007784762598099198,0.0005915803255281409],\"type\":\"scatter\"},{\"customdata\":[\"competitive product inhibition with enzyme inactivation\"],\"hoverinfo\":\"name\",\"marker\":{\"color\":\"rgb(29, 105, 150)\"},\"name\":\"competitive product inhibition with enzyme inactivation\",\"showlegend\":false,\"x\":[0.0,1.0,2.0,3.0,4.0,5.0,6.0,7.0,8.0,9.0,10.0,11.0,12.0,13.0,14.0,15.0,16.0,17.0,18.0,19.0,20.0],\"y\":[2.0,1.4760847640222035,1.2072242726216575,1.0216359810657174,0.8810545996707949,0.7693130433797662,0.6777992512629429,0.6012973238516159,0.5363760071789565,0.4806435471697248,0.43235982609001483,0.3902164366234572,0.3532036164067799,0.3205254426918274,0.2915435341698074,0.2657383506557646,0.2426818189291157,0.22201746073889292,0.20344569214842786,0.1867127157140173,0.17160201503007588],\"type\":\"scatter\"},{\"customdata\":[\"competitive product inhibition with enzyme inactivation\"],\"hoverinfo\":\"name\",\"marker\":{\"color\":\"rgb(56, 166, 165)\"},\"name\":\"competitive product inhibition with enzyme inactivation\",\"showlegend\":false,\"x\":[0.0,1.0,2.0,3.0,4.0,5.0,6.0,7.0,8.0,9.0,10.0,11.0,12.0,13.0,14.0,15.0,16.0,17.0,18.0,19.0,20.0],\"y\":[4.0,3.308275121362305,2.901744052627188,2.6031836729527034,2.3658683237490297,2.169083493606214,2.001492342344639,1.856096623394483,1.7282215590372914,1.6145646625539547,1.5126931474204817,1.4207556989276355,1.3373064677409732,1.2611920349558414,1.191475895358466,1.1273862439811402,1.0682788730792057,1.0136100940405448,0.9629166345110703,0.9158003866073143,0.8719166684939106],\"type\":\"scatter\"},{\"customdata\":[\"competitive product inhibition with enzyme inactivation\"],\"hoverinfo\":\"name\",\"marker\":{\"color\":\"rgb(15, 133, 84)\"},\"name\":\"competitive product inhibition with enzyme inactivation\",\"showlegend\":false,\"x\":[0.0,1.0,2.0,3.0,4.0,5.0,6.0,7.0,8.0,9.0,10.0,11.0,12.0,13.0,14.0,15.0,16.0,17.0,18.0,19.0,20.0],\"y\":[10.0,9.09857075106623,8.468462687103479,7.970209353657013,7.553842100649886,7.194588392674075,6.878016814669287,6.594844438609169,6.338682193480125,6.104910550211702,5.890061455721258,5.691453065430202,5.506961164743531,5.334869593434837,5.173768616491123,5.022483757956581,4.880024491018363,4.745546522604598,4.618323482617226,4.497725255481451,4.383201243460197],\"type\":\"scatter\"},{\"customdata\":[\"competitive product inhibition with enzyme inactivation\"],\"hoverinfo\":\"name\",\"marker\":{\"color\":\"rgb(115, 175, 72)\"},\"name\":\"competitive product inhibition with enzyme inactivation\",\"showlegend\":false,\"x\":[0.0,1.0,2.0,3.0,4.0,5.0,6.0,7.0,8.0,9.0,10.0,11.0,12.0,13.0,14.0,15.0,16.0,17.0,18.0,19.0,20.0],\"y\":[15.0,14.021228037835732,13.287311542483945,12.687451915649534,12.175386479253396,11.72651058948695,11.325878867942485,10.963603460882705,10.63273858924682,10.32818309265675,10.046059453434601,9.783338451833536,9.53760002906586,9.306874528708239,9.089533557951869,8.884212607182514,8.68975494727835,8.50516996368826,8.329601674328472,8.162304573267656,8.002624709189906],\"type\":\"scatter\"},{\"customdata\":[\"competitive product inhibition with enzyme inactivation\"],\"hoverinfo\":\"name\",\"marker\":{\"color\":\"rgb(237, 173, 8)\"},\"name\":\"competitive product inhibition with enzyme inactivation\",\"showlegend\":false,\"x\":[0.0,1.0,2.0,3.0,4.0,5.0,6.0,7.0,8.0,9.0,10.0,11.0,12.0,13.0,14.0,15.0,16.0,17.0,18.0,19.0,20.0],\"y\":[30.0,28.919380504248686,28.022259783319353,27.246947500228888,26.560120659282482,25.94133921496666,25.376986243350487,24.857445907922465,24.375626037981284,23.926116506789704,23.5046775891923,23.1079127708893,22.73305068900054,22.377794712240537,22.040216096416867,21.718676284751076,21.411769123050384,21.11827717827796,20.83713796689652,20.56741768799469,20.308290393254897],\"type\":\"scatter\"},{\"customdata\":[\"uncompetitive product inhibition\"],\"hoverinfo\":\"name\",\"marker\":{\"color\":\"rgb(95, 70, 144)\"},\"name\":\"uncompetitive product inhibition\",\"showlegend\":false,\"x\":[0.0,1.0,2.0,3.0,4.0,5.0,6.0,7.0,8.0,9.0,10.0,11.0,12.0,13.0,14.0,15.0,16.0,17.0,18.0,19.0,20.0],\"y\":[0.5,0.2118716647213057,0.07744010322026744,0.017876526338864687,0.0027949700868525355,0.0003872162445347685,0.00005257586178000336,7.117887840668757e-6,9.633274531103988e-7,1.2961820765102238e-7,1.8286341337920765e-8,2.643542786081738e-9,2.778270220740542e-10,-4.940712074167592e-10,-4.013992218854329e-10,-2.3045262576466424e-10,-1.1406090373328234e-10,-4.6550363513255934e-11,-4.3702779818729454e-11,-4.0855196124202966e-11,-3.800761242967648e-11],\"type\":\"scatter\"},{\"customdata\":[\"uncompetitive product inhibition\"],\"hoverinfo\":\"name\",\"marker\":{\"color\":\"rgb(29, 105, 150)\"},\"name\":\"uncompetitive product inhibition\",\"showlegend\":false,\"x\":[0.0,1.0,2.0,3.0,4.0,5.0,6.0,7.0,8.0,9.0,10.0,11.0,12.0,13.0,14.0,15.0,16.0,17.0,18.0,19.0,20.0],\"y\":[2.0,1.6199220690978573,1.4211827907902381,1.267454024415575,1.1375771668451664,1.0231346584761096,0.9197623565685381,0.8248576949923327,0.7367277712605099,0.6542063267546041,0.5764594005568228,0.5028789312709004,0.43302276467296963,0.3665828870584079,0.3033751499618094,0.24335209792861592,0.18665184396145482,0.13372083022518738,0.0856133980311507,0.04471990317782961,0.01592310045989442],\"type\":\"scatter\"},{\"customdata\":[\"uncompetitive product inhibition\"],\"hoverinfo\":\"name\",\"marker\":{\"color\":\"rgb(56, 166, 165)\"},\"name\":\"uncompetitive product inhibition\",\"showlegend\":false,\"x\":[0.0,1.0,2.0,3.0,4.0,5.0,6.0,7.0,8.0,9.0,10.0,11.0,12.0,13.0,14.0,15.0,16.0,17.0,18.0,19.0,20.0],\"y\":[4.0,3.6063593453199254,3.4049839115032867,3.249279040675865,3.117617341401152,3.001436179419451,2.896299350772911,2.7995556344995283,2.7094706769275527,2.62483631571127,2.544770987510339,2.468608090811735,2.395829044254861,2.3260210061714783,2.2588489603778483,2.194036621585039,2.131352951487745,2.0706024377291823,2.011617889974537,1.9542550156898741,1.8983882798625684],\"type\":\"scatter\"},{\"customdata\":[\"uncompetitive product inhibition\"],\"hoverinfo\":\"name\",\"marker\":{\"color\":\"rgb(15, 133, 84)\"},\"name\":\"uncompetitive product inhibition\",\"showlegend\":false,\"x\":[0.0,1.0,2.0,3.0,4.0,5.0,6.0,7.0,8.0,9.0,10.0,11.0,12.0,13.0,14.0,15.0,16.0,17.0,18.0,19.0,20.0],\"y\":[10.0,9.598603614193772,9.396281492043576,9.24000027350042,9.107895365838887,8.991338166340272,8.885865073091187,8.788810885166967,8.698433101369472,8.613518410903385,8.533181759352747,8.456754020862627,8.383714754151928,8.313649679692935,8.24622262417615,8.18115634113088,8.118218995689471,8.057214388487685,7.997974718393044,7.940355145868516,7.884229621666209],\"type\":\"scatter\"},{\"customdata\":[\"uncompetitive product inhibition\"],\"hoverinfo\":\"name\",\"marker\":{\"color\":\"rgb(115, 175, 72)\"},\"name\":\"uncompetitive product inhibition\",\"showlegend\":false,\"x\":[0.0,1.0,2.0,3.0,4.0,5.0,6.0,7.0,8.0,9.0,10.0,11.0,12.0,13.0,14.0,15.0,16.0,17.0,18.0,19.0,20.0],\"y\":[15.0,14.596919571758654,14.394439814360432,14.238074369686723,14.105910879000978,13.98930791293219,13.883796652040903,13.786709310521957,13.69630191788449,13.611360256468723,13.530998669361097,13.454547611292986,13.381486346840703,13.311400364858386,13.243953322493914,13.178867835830157,13.11591196978542,13.05488943155002,12.995632350114205,12.93799582723295,12.88185376246967],\"type\":\"scatter\"},{\"customdata\":[\"uncompetitive product inhibition\"],\"hoverinfo\":\"name\",\"marker\":{\"color\":\"rgb(237, 173, 8)\"},\"name\":\"uncompetitive product inhibition\",\"showlegend\":false,\"x\":[0.0,1.0,2.0,3.0,4.0,5.0,6.0,7.0,8.0,9.0,10.0,11.0,12.0,13.0,14.0,15.0,16.0,17.0,18.0,19.0,20.0],\"y\":[30.0,29.59524988761513,29.392629766949007,29.236193559128413,29.103983125940484,28.987344909977743,28.881805244267984,28.784693950729753,28.694265720992597,28.609305519681328,28.528927146045984,28.45246069278127,28.379385153763415,28.309285823970274,28.24182620941504,28.176728812418,28.11376160727794,28.05272822723198,27.993460738848103,27.935814194265685,27.879662447282648],\"type\":\"scatter\"},{\"customdata\":[\"non-competitive product inhibition\"],\"hoverinfo\":\"name\",\"marker\":{\"color\":\"rgb(95, 70, 144)\"},\"name\":\"non-competitive product inhibition\",\"showlegend\":false,\"x\":[0.0,1.0,2.0,3.0,4.0,5.0,6.0,7.0,8.0,9.0,10.0,11.0,12.0,13.0,14.0,15.0,16.0,17.0,18.0,19.0,20.0],\"y\":[0.5,0.28173921468137525,0.1895947186657757,0.13216601462194819,0.09343044268594194,0.06647855916704908,0.047455156728876235,0.03393251144330671,0.024285025709704523,0.017388987096335618,0.012454590798128896,0.008921817580824873,0.006391719505326352,0.0045793804126631945,0.0032810370145701746,0.002350853338563869,0.0016844043629829003,0.0012068994368631372,0.0008647670223146315,0.0006196252989855368,0.00044397739706492914],\"type\":\"scatter\"},{\"customdata\":[\"non-competitive product inhibition\"],\"hoverinfo\":\"name\",\"marker\":{\"color\":\"rgb(29, 105, 150)\"},\"name\":\"non-competitive product inhibition\",\"showlegend\":false,\"x\":[0.0,1.0,2.0,3.0,4.0,5.0,6.0,7.0,8.0,9.0,10.0,11.0,12.0,13.0,14.0,15.0,16.0,17.0,18.0,19.0,20.0],\"y\":[2.0,1.6602962637669385,1.4914568963836592,1.3635468396753856,1.2574326220820529,1.1655362883225415,1.0839320207741259,1.010274913188001,0.9430326166614676,0.8811392883113275,0.8238186742403198,0.7704849970653503,0.72068348700189,0.6740527241619367,0.6302997319031962,0.5891828621516764,0.5504996943075486,0.5140782495744503,0.4797704512552724,0.4474471875824039,0.41699448073666096],\"type\":\"scatter\"},{\"customdata\":[\"non-competitive product inhibition\"],\"hoverinfo\":\"name\",\"marker\":{\"color\":\"rgb(56, 166, 165)\"},\"name\":\"non-competitive product inhibition\",\"showlegend\":false,\"x\":[0.0,1.0,2.0,3.0,4.0,5.0,6.0,7.0,8.0,9.0,10.0,11.0,12.0,13.0,14.0,15.0,16.0,17.0,18.0,19.0,20.0],\"y\":[4.0,3.6289989919558705,3.4429863541883083,3.2999947694221325,3.1796421609654213,3.073879224714091,2.978540282490918,2.8911373060120678,2.8100433401387175,2.734125406633122,2.6625570533686864,2.594713507583262,2.5301088911060656,2.468356558898501,2.4091428679327618,2.352209281096228,2.297339725317208,2.24435147972813,2.193088402523296,2.1434158504313148,2.095216780284875],\"type\":\"scatter\"},{\"customdata\":[\"non-competitive product inhibition\"],\"hoverinfo\":\"name\",\"marker\":{\"color\":\"rgb(15, 133, 84)\"},\"name\":\"non-competitive product inhibition\",\"showlegend\":false,\"x\":[0.0,1.0,2.0,3.0,4.0,5.0,6.0,7.0,8.0,9.0,10.0,11.0,12.0,13.0,14.0,15.0,16.0,17.0,18.0,19.0,20.0],\"y\":[10.0,9.60825554912791,9.412064007385453,9.260689667816958,9.13283287846767,9.020096590265045,8.918138959415794,8.824368186247328,8.737090039345473,8.6551249566695,8.577612568022094,8.503902446527448,8.433488725693048,8.365968728004534,8.301015710538238,8.238360204246211,8.177776890106662,8.119075072745552,8.062091666497139,8.006685902200758,7.952735271656718],\"type\":\"scatter\"},{\"customdata\":[\"non-competitive product inhibition\"],\"hoverinfo\":\"name\",\"marker\":{\"color\":\"rgb(115, 175, 72)\"},\"name\":\"non-competitive product inhibition\",\"showlegend\":false,\"x\":[0.0,1.0,2.0,3.0,4.0,5.0,6.0,7.0,8.0,9.0,10.0,11.0,12.0,13.0,14.0,15.0,16.0,17.0,18.0,19.0,20.0],\"y\":[15.0,14.603442313484726,14.405039454332593,14.25191116698448,14.122532377035679,14.008420165022244,13.905189051299553,13.810221477651357,13.721806510745463,13.638753038402283,13.560192303660415,13.485467573222946,13.414068089699935,13.345587298983032,13.279695318613657,13.21612009914803,13.15463417005027,13.095045018764358,13.037188006679045,12.980921027009542,12.926120408115066],\"type\":\"scatter\"},{\"customdata\":[\"non-competitive product inhibition\"],\"hoverinfo\":\"name\",\"marker\":{\"color\":\"rgb(237, 173, 8)\"},\"name\":\"non-competitive product inhibition\",\"showlegend\":false,\"x\":[0.0,1.0,2.0,3.0,4.0,5.0,6.0,7.0,8.0,9.0,10.0,11.0,12.0,13.0,14.0,15.0,16.0,17.0,18.0,19.0,20.0],\"y\":[30.0,29.598555210808815,29.39796700319424,29.243131076591325,29.112288363463556,28.9968666666732,28.892435073901588,28.796349167717565,28.70688059180505,28.62282615873368,28.543308340148986,28.46766380615026,28.395376670033045,28.3260363110121,28.259309552335388,28.19492164041024,28.132642840644575,28.07227872670903,28.013663028937458,27.956652235194017,27.901121447161003],\"type\":\"scatter\"},{\"customdata\":[\"substrate inhibition\"],\"hoverinfo\":\"name\",\"marker\":{\"color\":\"rgb(95, 70, 144)\"},\"name\":\"substrate inhibition\",\"showlegend\":false,\"x\":[0.0,1.0,2.0,3.0,4.0,5.0,6.0,7.0,8.0,9.0,10.0,11.0,12.0,13.0,14.0,15.0,16.0,17.0,18.0,19.0,20.0],\"y\":[0.5,0.31357620932173325,0.11632298369140895,0.02045808501586801,0.0028584308788960414,0.0003884248471474846,0.000052597134889009404,7.118695653930798e-6,9.624400753805843e-7,1.316949354765802e-7,1.7048618051034116e-8,2.534530733360258e-9,2.5495057544558846e-10,-4.586427459958417e-10,-3.805662320968068e-10,-1.9738855446135283e-10,-1.0403153911980552e-10,-4.5720399384035e-11,-4.286233141101763e-11,-4.000426343800025e-11,-3.714619546498287e-11],\"type\":\"scatter\"},{\"customdata\":[\"substrate inhibition\"],\"hoverinfo\":\"name\",\"marker\":{\"color\":\"rgb(29, 105, 150)\"},\"name\":\"substrate inhibition\",\"showlegend\":false,\"x\":[0.0,1.0,2.0,3.0,4.0,5.0,6.0,7.0,8.0,9.0,10.0,11.0,12.0,13.0,14.0,15.0,16.0,17.0,18.0,19.0,20.0],\"y\":[2.0,1.941376815999983,1.8810756922508125,1.8189458023580831,1.7548125261528071,1.6884719075975825,1.619683241431744,1.548159310018329,1.4735528378190692,1.3954376187574045,1.3132813404667913,1.2264053230018208,1.1339228767905714,1.0346408350235217,0.9268952819372085,0.8082637011525221,0.6750422341043837,0.5213523337637164,0.3389595620197164,0.1382387916886084,0.026065633512566105],\"type\":\"scatter\"},{\"customdata\":[\"substrate inhibition\"],\"hoverinfo\":\"name\",\"marker\":{\"color\":\"rgb(56, 166, 165)\"},\"name\":\"substrate inhibition\",\"showlegend\":false,\"x\":[0.0,1.0,2.0,3.0,4.0,5.0,6.0,7.0,8.0,9.0,10.0,11.0,12.0,13.0,14.0,15.0,16.0,17.0,18.0,19.0,20.0],\"y\":[4.0,3.969948725499228,3.9396756573775913,3.9091757904951305,3.878443979265464,3.8474748668122154,3.8162628871193016,3.7848022456094017,3.753086924604638,3.7211106565865832,3.6888669121780056,3.6563488869809455,3.6235494797603742,3.5904612916728715,3.5570765827786803,3.523387256990605,3.489384848857552,3.455060499140065,3.42040492100557,3.3854083707005476,3.350060624705732],\"type\":\"scatter\"},{\"customdata\":[\"substrate inhibition\"],\"hoverinfo\":\"name\",\"marker\":{\"color\":\"rgb(15, 133, 84)\"},\"name\":\"substrate inhibition\",\"showlegend\":false,\"x\":[0.0,1.0,2.0,3.0,4.0,5.0,6.0,7.0,8.0,9.0,10.0,11.0,12.0,13.0,14.0,15.0,16.0,17.0,18.0,19.0,20.0],\"y\":[10.0,9.98779974882736,9.975584742936457,9.963354928722255,9.951110260679378,9.938850682582068,9.92657613105121,9.91428654598223,9.901981878211092,9.889662073183846,9.877327075433834,9.864976827894724,9.852611274023909,9.840230356400758,9.827834019848641,9.815422204080916,9.802994852114447,9.790551905417091,9.778093304903491,9.765618991561478,9.75312890590307],\"type\":\"scatter\"},{\"customdata\":[\"substrate inhibition\"],\"hoverinfo\":\"name\",\"marker\":{\"color\":\"rgb(115, 175, 72)\"},\"name\":\"substrate inhibition\",\"showlegend\":false,\"x\":[0.0,1.0,2.0,3.0,4.0,5.0,6.0,7.0,8.0,9.0,10.0,11.0,12.0,13.0,14.0,15.0,16.0,17.0,18.0,19.0,20.0],\"y\":[15.0,14.99183953253387,14.98367465269438,14.975505353588918,14.9673316272313,14.959153469159945,14.950970871137873,14.942783825418315,14.934592324254508,14.926396359899684,14.91819592460708,14.909991010629927,14.901781610221464,14.893567716432495,14.885349322645725,14.877126421488864,14.868899005589054,14.860667067573432,14.85243060006914,14.844189595703314,14.835944047103098],\"type\":\"scatter\"},{\"customdata\":[\"substrate inhibition\"],\"hoverinfo\":\"name\",\"marker\":{\"color\":\"rgb(237, 173, 8)\"},\"name\":\"substrate inhibition\",\"showlegend\":false,\"x\":[0.0,1.0,2.0,3.0,4.0,5.0,6.0,7.0,8.0,9.0,10.0,11.0,12.0,13.0,14.0,15.0,16.0,17.0,18.0,19.0,20.0],\"y\":[30.0,29.995906204405607,29.99181185195736,29.987716942436542,29.98362147559043,29.9795254512821,29.975428869257122,29.971331729276272,29.967234031100322,29.963135774490055,29.959036959206244,29.954937585009663,29.95083765166109,29.946737158921305,29.94263610655108,29.93853449431119,29.93443232196293,29.930329589305693,29.926226296131237,29.922122442210036,29.918018027312556],\"type\":\"scatter\"},{\"customdata\":[\"substrate inhibition with enzyme inactivation\"],\"hoverinfo\":\"name\",\"marker\":{\"color\":\"rgb(95, 70, 144)\"},\"name\":\"substrate inhibition with enzyme inactivation\",\"showlegend\":false,\"x\":[0.0,1.0,2.0,3.0,4.0,5.0,6.0,7.0,8.0,9.0,10.0,11.0,12.0,13.0,14.0,15.0,16.0,17.0,18.0,19.0,20.0],\"y\":[0.5,0.3145824684215604,0.11963014531790793,0.02228440736492203,0.003344599345522106,0.0004966112270392882,0.0000748519635950426,0.000011490227564979754,1.796094999282475e-6,2.851513674222889e-7,4.688703799673996e-8,8.285109408277659e-9,1.4852641050881e-9,2.7001242595536107e-10,5.035708599760958e-11,1.1467456297850699e-10,5.183773262550386e-10,1.509700592419977e-9,3.757692844657497e-9,4.921312309602526e-9,1.090833493267457e-9],\"type\":\"scatter\"},{\"customdata\":[\"substrate inhibition with enzyme inactivation\"],\"hoverinfo\":\"name\",\"marker\":{\"color\":\"rgb(29, 105, 150)\"},\"name\":\"substrate inhibition with enzyme inactivation\",\"showlegend\":false,\"x\":[0.0,1.0,2.0,3.0,4.0,5.0,6.0,7.0,8.0,9.0,10.0,11.0,12.0,13.0,14.0,15.0,16.0,17.0,18.0,19.0,20.0],\"y\":[2.0,1.9416730015094756,1.8822909825362235,1.8217551475426879,1.7599528388720094,1.696754714632696,1.6320111010189517,1.5655472832239128,1.4971573574862174,1.4265959832909905,1.3535671909922793,1.277708824632663,1.198570477030632,1.1155812252084878,1.028001376845636,0.9348474023511815,0.8347724281967429,0.72587108919149,0.6053719854474305,0.46929741534709213,0.31353661961367346],\"type\":\"scatter\"},{\"customdata\":[\"substrate inhibition with enzyme inactivation\"],\"hoverinfo\":\"name\",\"marker\":{\"color\":\"rgb(56, 166, 165)\"},\"name\":\"substrate inhibition with enzyme inactivation\",\"showlegend\":false,\"x\":[0.0,1.0,2.0,3.0,4.0,5.0,6.0,7.0,8.0,9.0,10.0,11.0,12.0,13.0,14.0,15.0,16.0,17.0,18.0,19.0,20.0],\"y\":[4.0,3.9700990228237845,3.940279297583099,3.910539571112807,3.880878636942405,3.851295275527567,3.8217882524910056,3.792356318495314,3.76299821374335,3.733712666163254,3.7044983901947197,3.6753540855553846,3.6462784377522204,3.617270118796787,3.5883277858247364,3.5594500778979,3.5306356187253862,3.501883014377073,3.473190851495021,3.4445576998515812,3.4159821062972893],\"type\":\"scatter\"},{\"customdata\":[\"substrate inhibition with enzyme inactivation\"],\"hoverinfo\":\"name\",\"marker\":{\"color\":\"rgb(15, 133, 84)\"},\"name\":\"substrate inhibition with enzyme inactivation\",\"showlegend\":false,\"x\":[0.0,1.0,2.0,3.0,4.0,5.0,6.0,7.0,8.0,9.0,10.0,11.0,12.0,13.0,14.0,15.0,16.0,17.0,18.0,19.0,20.0],\"y\":[10.0,9.987860579848384,9.97582756229453,9.9639001248783,9.9520774425571,9.940358700623234,9.928743090244598,9.917229805895943,9.905818046202626,9.894507014789324,9.883295920280053,9.87218397625642,9.861170400799322,9.850254417095227,9.83943525338049,9.828712142840901,9.818084323611684,9.807551038300849,9.797111531692718,9.786765054553832,9.776510862647278],\"type\":\"scatter\"},{\"customdata\":[\"substrate inhibition with enzyme inactivation\"],\"hoverinfo\":\"name\",\"marker\":{\"color\":\"rgb(115, 175, 72)\"},\"name\":\"substrate inhibition with enzyme inactivation\",\"showlegend\":false,\"x\":[0.0,1.0,2.0,3.0,4.0,5.0,6.0,7.0,8.0,9.0,10.0,11.0,12.0,13.0,14.0,15.0,16.0,17.0,18.0,19.0,20.0],\"y\":[15.0,14.991880205231006,14.983836907849135,14.975869433381392,14.967977069760185,14.96015916572359,14.9524150532446,14.944744071314535,14.937145563882764,14.929618880333159,14.922163375209625,14.91477840860582,14.907463345094957,14.900217555875976,14.893040416077463,14.88593130569869,14.878889610160135,14.871914719811132,14.865006030097316,14.858162941275388,14.851384858628913],\"type\":\"scatter\"},{\"customdata\":[\"substrate inhibition with enzyme inactivation\"],\"hoverinfo\":\"name\",\"marker\":{\"color\":\"rgb(237, 173, 8)\"},\"name\":\"substrate inhibition with enzyme inactivation\",\"showlegend\":false,\"x\":[0.0,1.0,2.0,3.0,4.0,5.0,6.0,7.0,8.0,9.0,10.0,11.0,12.0,13.0,14.0,15.0,16.0,17.0,18.0,19.0,20.0],\"y\":[30.0,29.995926596583264,29.991893188702235,29.987899404945555,29.983944820040318,29.98002906935992,29.976151778610657,29.972312575925386,29.96851108986037,29.964746955979635,29.961019811416115,29.95732929682099,29.953675057013506,29.95005673947124,29.94647399474167,29.94292647822594,29.93941384865497,29.935935765777728,29.93249189360316,29.929081899582886,29.92570545410865],\"type\":\"scatter\"}],                        {\"template\":{\"data\":{\"histogram2dcontour\":[{\"type\":\"histogram2dcontour\",\"colorbar\":{\"outlinewidth\":0,\"ticks\":\"\"},\"colorscale\":[[0.0,\"#0d0887\"],[0.1111111111111111,\"#46039f\"],[0.2222222222222222,\"#7201a8\"],[0.3333333333333333,\"#9c179e\"],[0.4444444444444444,\"#bd3786\"],[0.5555555555555556,\"#d8576b\"],[0.6666666666666666,\"#ed7953\"],[0.7777777777777778,\"#fb9f3a\"],[0.8888888888888888,\"#fdca26\"],[1.0,\"#f0f921\"]]}],\"choropleth\":[{\"type\":\"choropleth\",\"colorbar\":{\"outlinewidth\":0,\"ticks\":\"\"}}],\"histogram2d\":[{\"type\":\"histogram2d\",\"colorbar\":{\"outlinewidth\":0,\"ticks\":\"\"},\"colorscale\":[[0.0,\"#0d0887\"],[0.1111111111111111,\"#46039f\"],[0.2222222222222222,\"#7201a8\"],[0.3333333333333333,\"#9c179e\"],[0.4444444444444444,\"#bd3786\"],[0.5555555555555556,\"#d8576b\"],[0.6666666666666666,\"#ed7953\"],[0.7777777777777778,\"#fb9f3a\"],[0.8888888888888888,\"#fdca26\"],[1.0,\"#f0f921\"]]}],\"heatmap\":[{\"type\":\"heatmap\",\"colorbar\":{\"outlinewidth\":0,\"ticks\":\"\"},\"colorscale\":[[0.0,\"#0d0887\"],[0.1111111111111111,\"#46039f\"],[0.2222222222222222,\"#7201a8\"],[0.3333333333333333,\"#9c179e\"],[0.4444444444444444,\"#bd3786\"],[0.5555555555555556,\"#d8576b\"],[0.6666666666666666,\"#ed7953\"],[0.7777777777777778,\"#fb9f3a\"],[0.8888888888888888,\"#fdca26\"],[1.0,\"#f0f921\"]]}],\"heatmapgl\":[{\"type\":\"heatmapgl\",\"colorbar\":{\"outlinewidth\":0,\"ticks\":\"\"},\"colorscale\":[[0.0,\"#0d0887\"],[0.1111111111111111,\"#46039f\"],[0.2222222222222222,\"#7201a8\"],[0.3333333333333333,\"#9c179e\"],[0.4444444444444444,\"#bd3786\"],[0.5555555555555556,\"#d8576b\"],[0.6666666666666666,\"#ed7953\"],[0.7777777777777778,\"#fb9f3a\"],[0.8888888888888888,\"#fdca26\"],[1.0,\"#f0f921\"]]}],\"contourcarpet\":[{\"type\":\"contourcarpet\",\"colorbar\":{\"outlinewidth\":0,\"ticks\":\"\"}}],\"contour\":[{\"type\":\"contour\",\"colorbar\":{\"outlinewidth\":0,\"ticks\":\"\"},\"colorscale\":[[0.0,\"#0d0887\"],[0.1111111111111111,\"#46039f\"],[0.2222222222222222,\"#7201a8\"],[0.3333333333333333,\"#9c179e\"],[0.4444444444444444,\"#bd3786\"],[0.5555555555555556,\"#d8576b\"],[0.6666666666666666,\"#ed7953\"],[0.7777777777777778,\"#fb9f3a\"],[0.8888888888888888,\"#fdca26\"],[1.0,\"#f0f921\"]]}],\"surface\":[{\"type\":\"surface\",\"colorbar\":{\"outlinewidth\":0,\"ticks\":\"\"},\"colorscale\":[[0.0,\"#0d0887\"],[0.1111111111111111,\"#46039f\"],[0.2222222222222222,\"#7201a8\"],[0.3333333333333333,\"#9c179e\"],[0.4444444444444444,\"#bd3786\"],[0.5555555555555556,\"#d8576b\"],[0.6666666666666666,\"#ed7953\"],[0.7777777777777778,\"#fb9f3a\"],[0.8888888888888888,\"#fdca26\"],[1.0,\"#f0f921\"]]}],\"mesh3d\":[{\"type\":\"mesh3d\",\"colorbar\":{\"outlinewidth\":0,\"ticks\":\"\"}}],\"scatter\":[{\"fillpattern\":{\"fillmode\":\"overlay\",\"size\":10,\"solidity\":0.2},\"type\":\"scatter\"}],\"parcoords\":[{\"type\":\"parcoords\",\"line\":{\"colorbar\":{\"outlinewidth\":0,\"ticks\":\"\"}}}],\"scatterpolargl\":[{\"type\":\"scatterpolargl\",\"marker\":{\"colorbar\":{\"outlinewidth\":0,\"ticks\":\"\"}}}],\"bar\":[{\"error_x\":{\"color\":\"#2a3f5f\"},\"error_y\":{\"color\":\"#2a3f5f\"},\"marker\":{\"line\":{\"color\":\"#E5ECF6\",\"width\":0.5},\"pattern\":{\"fillmode\":\"overlay\",\"size\":10,\"solidity\":0.2}},\"type\":\"bar\"}],\"scattergeo\":[{\"type\":\"scattergeo\",\"marker\":{\"colorbar\":{\"outlinewidth\":0,\"ticks\":\"\"}}}],\"scatterpolar\":[{\"type\":\"scatterpolar\",\"marker\":{\"colorbar\":{\"outlinewidth\":0,\"ticks\":\"\"}}}],\"histogram\":[{\"marker\":{\"pattern\":{\"fillmode\":\"overlay\",\"size\":10,\"solidity\":0.2}},\"type\":\"histogram\"}],\"scattergl\":[{\"type\":\"scattergl\",\"marker\":{\"colorbar\":{\"outlinewidth\":0,\"ticks\":\"\"}}}],\"scatter3d\":[{\"type\":\"scatter3d\",\"line\":{\"colorbar\":{\"outlinewidth\":0,\"ticks\":\"\"}},\"marker\":{\"colorbar\":{\"outlinewidth\":0,\"ticks\":\"\"}}}],\"scattermapbox\":[{\"type\":\"scattermapbox\",\"marker\":{\"colorbar\":{\"outlinewidth\":0,\"ticks\":\"\"}}}],\"scatterternary\":[{\"type\":\"scatterternary\",\"marker\":{\"colorbar\":{\"outlinewidth\":0,\"ticks\":\"\"}}}],\"scattercarpet\":[{\"type\":\"scattercarpet\",\"marker\":{\"colorbar\":{\"outlinewidth\":0,\"ticks\":\"\"}}}],\"carpet\":[{\"aaxis\":{\"endlinecolor\":\"#2a3f5f\",\"gridcolor\":\"white\",\"linecolor\":\"white\",\"minorgridcolor\":\"white\",\"startlinecolor\":\"#2a3f5f\"},\"baxis\":{\"endlinecolor\":\"#2a3f5f\",\"gridcolor\":\"white\",\"linecolor\":\"white\",\"minorgridcolor\":\"white\",\"startlinecolor\":\"#2a3f5f\"},\"type\":\"carpet\"}],\"table\":[{\"cells\":{\"fill\":{\"color\":\"#EBF0F8\"},\"line\":{\"color\":\"white\"}},\"header\":{\"fill\":{\"color\":\"#C8D4E3\"},\"line\":{\"color\":\"white\"}},\"type\":\"table\"}],\"barpolar\":[{\"marker\":{\"line\":{\"color\":\"#E5ECF6\",\"width\":0.5},\"pattern\":{\"fillmode\":\"overlay\",\"size\":10,\"solidity\":0.2}},\"type\":\"barpolar\"}],\"pie\":[{\"automargin\":true,\"type\":\"pie\"}]},\"layout\":{\"autotypenumbers\":\"strict\",\"colorway\":[\"#636efa\",\"#EF553B\",\"#00cc96\",\"#ab63fa\",\"#FFA15A\",\"#19d3f3\",\"#FF6692\",\"#B6E880\",\"#FF97FF\",\"#FECB52\"],\"font\":{\"color\":\"#2a3f5f\"},\"hovermode\":\"closest\",\"hoverlabel\":{\"align\":\"left\"},\"paper_bgcolor\":\"white\",\"plot_bgcolor\":\"#E5ECF6\",\"polar\":{\"bgcolor\":\"#E5ECF6\",\"angularaxis\":{\"gridcolor\":\"white\",\"linecolor\":\"white\",\"ticks\":\"\"},\"radialaxis\":{\"gridcolor\":\"white\",\"linecolor\":\"white\",\"ticks\":\"\"}},\"ternary\":{\"bgcolor\":\"#E5ECF6\",\"aaxis\":{\"gridcolor\":\"white\",\"linecolor\":\"white\",\"ticks\":\"\"},\"baxis\":{\"gridcolor\":\"white\",\"linecolor\":\"white\",\"ticks\":\"\"},\"caxis\":{\"gridcolor\":\"white\",\"linecolor\":\"white\",\"ticks\":\"\"}},\"coloraxis\":{\"colorbar\":{\"outlinewidth\":0,\"ticks\":\"\"}},\"colorscale\":{\"sequential\":[[0.0,\"#0d0887\"],[0.1111111111111111,\"#46039f\"],[0.2222222222222222,\"#7201a8\"],[0.3333333333333333,\"#9c179e\"],[0.4444444444444444,\"#bd3786\"],[0.5555555555555556,\"#d8576b\"],[0.6666666666666666,\"#ed7953\"],[0.7777777777777778,\"#fb9f3a\"],[0.8888888888888888,\"#fdca26\"],[1.0,\"#f0f921\"]],\"sequentialminus\":[[0.0,\"#0d0887\"],[0.1111111111111111,\"#46039f\"],[0.2222222222222222,\"#7201a8\"],[0.3333333333333333,\"#9c179e\"],[0.4444444444444444,\"#bd3786\"],[0.5555555555555556,\"#d8576b\"],[0.6666666666666666,\"#ed7953\"],[0.7777777777777778,\"#fb9f3a\"],[0.8888888888888888,\"#fdca26\"],[1.0,\"#f0f921\"]],\"diverging\":[[0,\"#8e0152\"],[0.1,\"#c51b7d\"],[0.2,\"#de77ae\"],[0.3,\"#f1b6da\"],[0.4,\"#fde0ef\"],[0.5,\"#f7f7f7\"],[0.6,\"#e6f5d0\"],[0.7,\"#b8e186\"],[0.8,\"#7fbc41\"],[0.9,\"#4d9221\"],[1,\"#276419\"]]},\"xaxis\":{\"gridcolor\":\"white\",\"linecolor\":\"white\",\"ticks\":\"\",\"title\":{\"standoff\":15},\"zerolinecolor\":\"white\",\"automargin\":true,\"zerolinewidth\":2},\"yaxis\":{\"gridcolor\":\"white\",\"linecolor\":\"white\",\"ticks\":\"\",\"title\":{\"standoff\":15},\"zerolinecolor\":\"white\",\"automargin\":true,\"zerolinewidth\":2},\"scene\":{\"xaxis\":{\"backgroundcolor\":\"#E5ECF6\",\"gridcolor\":\"white\",\"linecolor\":\"white\",\"showbackground\":true,\"ticks\":\"\",\"zerolinecolor\":\"white\",\"gridwidth\":2},\"yaxis\":{\"backgroundcolor\":\"#E5ECF6\",\"gridcolor\":\"white\",\"linecolor\":\"white\",\"showbackground\":true,\"ticks\":\"\",\"zerolinecolor\":\"white\",\"gridwidth\":2},\"zaxis\":{\"backgroundcolor\":\"#E5ECF6\",\"gridcolor\":\"white\",\"linecolor\":\"white\",\"showbackground\":true,\"ticks\":\"\",\"zerolinecolor\":\"white\",\"gridwidth\":2}},\"shapedefaults\":{\"line\":{\"color\":\"#2a3f5f\"}},\"annotationdefaults\":{\"arrowcolor\":\"#2a3f5f\",\"arrowhead\":0,\"arrowwidth\":1},\"geo\":{\"bgcolor\":\"white\",\"landcolor\":\"#E5ECF6\",\"subunitcolor\":\"white\",\"showland\":true,\"showlakes\":true,\"lakecolor\":\"white\"},\"title\":{\"x\":0.05},\"mapbox\":{\"style\":\"light\"}}},\"updatemenus\":[{\"buttons\":[{\"args\":[{\"visible\":[true,true,true,true,true,true,true,true,true,true,true,true,true,true,true,true,true,true,true,true,true,true,true,true,true,true,true,true,true,true,true,true,true,true,true,true,true,true,true,true,true,true,true,true,true,true,true,true,true,true,true,true,true,true]}],\"label\":\"All\",\"method\":\"restyle\",\"visible\":true},{\"args\":[{\"visible\":[true,true,true,true,true,true,true,true,true,true,true,true,false,false,false,false,false,false,false,false,false,false,false,false,false,false,false,false,false,false,false,false,false,false,false,false,false,false,false,false,false,false,false,false,false,false,false,false,false,false,false,false,false,false]}],\"label\":\"irreversible Michaelis Menten\",\"method\":\"restyle\",\"visible\":true},{\"args\":[{\"visible\":[true,true,true,true,true,true,false,false,false,false,false,false,true,true,true,true,true,true,false,false,false,false,false,false,false,false,false,false,false,false,false,false,false,false,false,false,false,false,false,false,false,false,false,false,false,false,false,false,false,false,false,false,false,false]}],\"label\":\"irreversible Michaelis Menten with enzyme inactivation\",\"method\":\"restyle\",\"visible\":true},{\"args\":[{\"visible\":[true,true,true,true,true,true,false,false,false,false,false,false,false,false,false,false,false,false,true,true,true,true,true,true,false,false,false,false,false,false,false,false,false,false,false,false,false,false,false,false,false,false,false,false,false,false,false,false,false,false,false,false,false,false]}],\"label\":\"competitive product inhibition\",\"method\":\"restyle\",\"visible\":true},{\"args\":[{\"visible\":[true,true,true,true,true,true,false,false,false,false,false,false,false,false,false,false,false,false,false,false,false,false,false,false,true,true,true,true,true,true,false,false,false,false,false,false,false,false,false,false,false,false,false,false,false,false,false,false,false,false,false,false,false,false]}],\"label\":\"competitive product inhibition with enzyme inactivation\",\"method\":\"restyle\",\"visible\":true},{\"args\":[{\"visible\":[true,true,true,true,true,true,false,false,false,false,false,false,false,false,false,false,false,false,false,false,false,false,false,false,false,false,false,false,false,false,true,true,true,true,true,true,false,false,false,false,false,false,false,false,false,false,false,false,false,false,false,false,false,false]}],\"label\":\"uncompetitive product inhibition\",\"method\":\"restyle\",\"visible\":true},{\"args\":[{\"visible\":[true,true,true,true,true,true,false,false,false,false,false,false,false,false,false,false,false,false,false,false,false,false,false,false,false,false,false,false,false,false,false,false,false,false,false,false,true,true,true,true,true,true,false,false,false,false,false,false,false,false,false,false,false,false]}],\"label\":\"non-competitive product inhibition\",\"method\":\"restyle\",\"visible\":true},{\"args\":[{\"visible\":[true,true,true,true,true,true,false,false,false,false,false,false,false,false,false,false,false,false,false,false,false,false,false,false,false,false,false,false,false,false,false,false,false,false,false,false,false,false,false,false,false,false,true,true,true,true,true,true,false,false,false,false,false,false]}],\"label\":\"substrate inhibition\",\"method\":\"restyle\",\"visible\":true},{\"args\":[{\"visible\":[true,true,true,true,true,true,false,false,false,false,false,false,false,false,false,false,false,false,false,false,false,false,false,false,false,false,false,false,false,false,false,false,false,false,false,false,false,false,false,false,false,false,false,false,false,false,false,false,true,true,true,true,true,true]}],\"label\":\"substrate inhibition with enzyme inactivation\",\"method\":\"restyle\",\"visible\":true}],\"direction\":\"down\",\"showactive\":true,\"x\":0.0,\"xanchor\":\"left\",\"y\":1.15,\"yanchor\":\"top\"}],\"legend\":{\"title\":{\"text\":\"Initial substrate (mmol / l)\"}},\"hoverlabel\":{\"namelength\":-1},\"showlegend\":true,\"title\":{\"text\":\"Kinetic Model Overview\"},\"hovermode\":\"closest\"},                        {\"responsive\": true}                    ).then(function(){\n",
       "                            \n",
       "var gd = document.getElementById('e258b82d-22bd-42fe-9ae2-6d52c9f4314d');\n",
       "var x = new MutationObserver(function (mutations, observer) {{\n",
       "        var display = window.getComputedStyle(gd).display;\n",
       "        if (!display || display === 'none') {{\n",
       "            console.log([gd, 'removed!']);\n",
       "            Plotly.purge(gd);\n",
       "            observer.disconnect();\n",
       "        }}\n",
       "}});\n",
       "\n",
       "// Listen for the removal of the full notebook cells\n",
       "var notebookContainer = gd.closest('#notebook-container');\n",
       "if (notebookContainer) {{\n",
       "    x.observe(notebookContainer, {childList: true});\n",
       "}}\n",
       "\n",
       "// Listen for the clearing of the current output cell\n",
       "var outputEl = gd.closest('.output');\n",
       "if (outputEl) {{\n",
       "    x.observe(outputEl, {childList: true});\n",
       "}}\n",
       "\n",
       "                        })                };                });            </script>        </div>"
      ]
     },
     "metadata": {},
     "output_type": "display_data"
    }
   ],
   "source": [
    "fig = go.Figure()\n",
    "\n",
    "colors = px.colors.qualitative.Prism\n",
    "\n",
    "for i, data in enumerate(pe.subset_substrate):\n",
    "    fig.add_trace(\n",
    "        go.Scatter(\n",
    "            x=pe.time[0],\n",
    "            y=data,\n",
    "            name=f\"{pe.initial_substrate[i]}\",\n",
    "            mode=\"markers\",\n",
    "            marker=dict(color=colors[i], size=10),\n",
    "            customdata=[\"data\"],\n",
    "            hoverinfo=\"skip\",\n",
    "        )\n",
    "    )\n",
    "\n",
    "successful_models = []\n",
    "\n",
    "for model in pe.models.values():\n",
    "    if model.result.fit_success:\n",
    "        successful_models.append(model.name)\n",
    "        datas = model.integrate(model.parameters, pe.time, model.y0)\n",
    "        for i, data in enumerate(datas[:, :, 0]):\n",
    "            fig.add_trace(\n",
    "                go.Scatter(\n",
    "                    x=pe.time[0],\n",
    "                    y=data,\n",
    "                    name=model.name,\n",
    "                    marker=dict(color=colors[i]),\n",
    "                    customdata=[f\"{model.name}\"],\n",
    "                    showlegend=False,\n",
    "                    hoverinfo=\"name\",\n",
    "                )\n",
    "            )\n",
    "\n",
    "buttons = []\n",
    "buttons.append(\n",
    "    dict(\n",
    "        method=\"restyle\",\n",
    "        label=\"All\",\n",
    "        visible=True,\n",
    "        args=[{\"visible\": [True] * len(fig.data)}],\n",
    "    )\n",
    ")\n",
    "\n",
    "for name in successful_models:\n",
    "    visible_traces = [\n",
    "        name == trace[\"customdata\"][0] or \"data\" == trace[\"customdata\"][0]\n",
    "        for trace in fig.data\n",
    "    ]\n",
    "    buttons.append(\n",
    "        dict(\n",
    "            method=\"restyle\",\n",
    "            label=name,\n",
    "            visible=True,\n",
    "            args=[{\"visible\": visible_traces}],\n",
    "        )\n",
    "    )\n",
    "\n",
    "fig.update_layout(\n",
    "    updatemenus=[\n",
    "        dict(\n",
    "            buttons=buttons,\n",
    "            x=0.0,\n",
    "            xanchor=\"left\",\n",
    "            y=1.15,\n",
    "            yanchor=\"top\",\n",
    "            direction=\"down\",\n",
    "            showactive=True,\n",
    "        )\n",
    "    ]\n",
    ")\n",
    "\n",
    "\n",
    "# if col_color is None:\n",
    "#    fig.update_layout(showlegend=False)\n",
    "\n",
    "fig.update_layout(\n",
    "    showlegend=True,\n",
    "    title=\"Kinetic Model Overview\",\n",
    "    hovermode=\"closest\",\n",
    "    legend_title_text=f\"Initial substrate ({pe._substrate_unit})\",\n",
    "    hoverlabel_namelength=-1,\n",
    ")\n",
    "\n",
    "fig.show()"
   ]
  },
  {
   "cell_type": "code",
   "execution_count": null,
   "metadata": {},
   "outputs": [],
   "source": []
  },
  {
   "cell_type": "code",
   "execution_count": null,
   "metadata": {},
   "outputs": [
    {
     "name": "stdout",
     "output_type": "stream",
     "text": [
      "substrate\n",
      "substrate\n"
     ]
    }
   ],
   "source": [
    "pe.visualize_model_overview()\n",
    "print(pe._measured_species)"
   ]
  }
 ],
 "metadata": {
  "kernelspec": {
   "display_name": "kinetics",
   "language": "python",
   "name": "python3"
  },
  "language_info": {
   "codemirror_mode": {
    "name": "ipython",
    "version": 3
   },
   "file_extension": ".py",
   "mimetype": "text/x-python",
   "name": "python",
   "nbconvert_exporter": "python",
   "pygments_lexer": "ipython3",
   "version": "3.10.9"
  },
  "orig_nbformat": 4
 },
 "nbformat": 4,
 "nbformat_minor": 2
}
