{
 "cells": [
  {
   "cell_type": "code",
   "execution_count": 1,
   "metadata": {},
   "outputs": [],
   "source": [
    "from sdRDM import DataModel\n",
    "import matplotlib.pyplot as plt\n",
    "import numpy as np\n",
    "\n",
    "%reload_ext autoreload\n",
    "%autoreload 2\n",
    "from EnzymePynetics.core import EnzymeKinetics\n",
    "from EnzymePynetics.tools import ParameterEstimator"
   ]
  },
  {
   "cell_type": "code",
   "execution_count": 2,
   "metadata": {},
   "outputs": [
    {
     "data": {
      "text/plain": [
       "EnzymeKinetics(id='enzymekinetics3', title='test irreversible MM', kinetic_models=[], measurements=[Measurement(id='measurement18', species=[Species(id='species25', name=None, conc_unit='mmol / l', initial_conc=0.5, species_type='substrate', data=[Series(id='series24', values=[0.5, 0.3644854817261172, 0.26342082614495876, 0.18911029730907936, 0.13507619854228237, 0.09611819057303306, 0.06820762065153442, 0.04830485333484994, 0.034160437082733246, 0.024132875363550937, 0.017036342307101854, 0.012020366602019189, 0.008478109651294722, 0.005978153688854039, 0.004214590282762656, 0.002970893213232844, 0.0020940108248797087, 0.0014758522649185415, 0.0010401279274423667, 0.0007330218757907535, 0.0005165793991943711])]), Species(id='species26', name=None, conc_unit='mmol / l', initial_conc=0.01, species_type='enzyme', data=[])], enzyme_conc=None, temperature=37.0, temperature_unit='C', pH=7.0, time=[0.0, 1.0, 2.0, 3.0, 4.0, 5.0, 6.0, 7.0, 8.0, 9.0, 10.0, 11.0, 12.0, 13.0, 14.0, 15.0, 16.0, 17.0, 18.0, 19.0, 20.0], time_unit='min'), Measurement(id='measurement19', species=[Species(id='species27', name=None, conc_unit='mmol / l', initial_conc=2.0, species_type='substrate', data=[Series(id='series25', values=[2.0, 1.569516923490442, 1.2100248901425266, 0.9174066670621502, 0.6851366875818905, 0.5050421925557563, 0.3682762683103367, 0.26622606625686046, 0.1911602863758995, 0.13655977482123025, 0.09718402777037388, 0.06896920883625109, 0.04884689456949333, 0.03454511927047541, 0.02440532173305027, 0.017229017917752217, 0.012156483500162504, 0.00857420017429145, 0.006045954460889596, 0.004262408928448321, 0.0030046126231969388])]), Species(id='species28', name=None, conc_unit='mmol / l', initial_conc=0.01, species_type='enzyme', data=[])], enzyme_conc=None, temperature=37.0, temperature_unit='C', pH=7.0, time=[0.0, 1.0, 2.0, 3.0, 4.0, 5.0, 6.0, 7.0, 8.0, 9.0, 10.0, 11.0, 12.0, 13.0, 14.0, 15.0, 16.0, 17.0, 18.0, 19.0, 20.0], time_unit='min'), Measurement(id='measurement20', species=[Species(id='species29', name=None, conc_unit='mmol / l', initial_conc=4.0, species_type='substrate', data=[Series(id='series26', values=[4.0, 3.3314940265802093, 2.7291770249856264, 2.1969313450723083, 1.7368606593474134, 1.3486781412200664, 1.0293741765134272, 0.7733374028387807, 0.572956918234275, 0.41954222346175263, 0.3042888761129524, 0.21904734904543413, 0.156781701646602, 0.1117334978098535, 0.07937677544036345, 0.05626007519092634, 0.039809208815929836, 0.028135086352006768, 0.019867498685462698, 0.014020857722379529, 0.009890537373247264])]), Species(id='species30', name=None, conc_unit='mmol / l', initial_conc=0.01, species_type='enzyme', data=[])], enzyme_conc=None, temperature=37.0, temperature_unit='C', pH=7.0, time=[0.0, 1.0, 2.0, 3.0, 4.0, 5.0, 6.0, 7.0, 8.0, 9.0, 10.0, 11.0, 12.0, 13.0, 14.0, 15.0, 16.0, 17.0, 18.0, 19.0, 20.0], time_unit='min'), Measurement(id='measurement21', species=[Species(id='species31', name=None, conc_unit='mmol / l', initial_conc=10.0, species_type='substrate', data=[Series(id='series27', values=[10.0, 9.014848259300036, 8.06179527698335, 7.144800673375277, 6.268311928950545, 5.437248020972423, 4.656921669254372, 3.932866262976856, 3.2705309091155335, 2.6748168737237505, 2.149464940038742, 1.6963723909775295, 1.3149985370912927, 1.0020698566127553, 0.751749426259512, 0.5562793161785449, 0.40691770989552617, 0.2948942576229412, 0.21215188169558497, 0.15177463434952831, 0.108127228926348])]), Species(id='species32', name=None, conc_unit='mmol / l', initial_conc=0.01, species_type='enzyme', data=[])], enzyme_conc=None, temperature=37.0, temperature_unit='C', pH=7.0, time=[0.0, 1.0, 2.0, 3.0, 4.0, 5.0, 6.0, 7.0, 8.0, 9.0, 10.0, 11.0, 12.0, 13.0, 14.0, 15.0, 16.0, 17.0, 18.0, 19.0, 20.0], time_unit='min'), Measurement(id='measurement22', species=[Species(id='species33', name=None, conc_unit='mmol / l', initial_conc=15.0, species_type='substrate', data=[Series(id='series28', values=[15.0, 13.90360745163819, 12.826231258525885, 11.769988897467153, 10.737304494447198, 9.730953331390248, 8.754108262361743, 7.810383978912784, 6.90387107791713, 6.039148211393449, 5.2212514293625025, 4.455575136702814, 3.747666272723041, 3.1028784698204706, 2.5258650681718455, 2.0199361188261964, 1.5863803112509045, 1.2239304704409646, 0.9285827943809541, 0.6939013886295122, 0.5117642650746206])]), Species(id='species34', name=None, conc_unit='mmol / l', initial_conc=0.01, species_type='enzyme', data=[])], enzyme_conc=None, temperature=37.0, temperature_unit='C', pH=7.0, time=[0.0, 1.0, 2.0, 3.0, 4.0, 5.0, 6.0, 7.0, 8.0, 9.0, 10.0, 11.0, 12.0, 13.0, 14.0, 15.0, 16.0, 17.0, 18.0, 19.0, 20.0], time_unit='min'), Measurement(id='measurement23', species=[Species(id='species35', name=None, conc_unit='mmol / l', initial_conc=30.0, species_type='substrate', data=[Series(id='series29', values=[30.0, 28.76776725048138, 27.54194854235051, 26.323014936939547, 25.111487847618747, 23.90794604735632, 22.71303381403288, 21.527470339468877, 20.352060884921805, 19.18770983211912, 18.03543574383351, 16.896389744259277, 15.771876190622983, 14.663377453787515, 13.572582605926526, 12.501420576175885, 11.452097939896705, 10.42714102809542, 9.429441694060694, 8.462303525321602, 7.529483109469235])]), Species(id='species36', name=None, conc_unit='mmol / l', initial_conc=0.01, species_type='enzyme', data=[])], enzyme_conc=None, temperature=37.0, temperature_unit='C', pH=7.0, time=[0.0, 1.0, 2.0, 3.0, 4.0, 5.0, 6.0, 7.0, 8.0, 9.0, 10.0, 11.0, 12.0, 13.0, 14.0, 15.0, 16.0, 17.0, 18.0, 19.0, 20.0], time_unit='min')])"
      ]
     },
     "execution_count": 2,
     "metadata": {},
     "output_type": "execute_result"
    }
   ],
   "source": [
    "enzymekinetics, _ = DataModel.parse(\n",
    "    path=\"/Users/max/code/EnzymePynetics/irrev_MM_enzyme.json\"\n",
    ")\n",
    "\n",
    "enzymekinetics"
   ]
  },
  {
   "cell_type": "code",
   "execution_count": 8,
   "metadata": {},
   "outputs": [
    {
     "name": "stdout",
     "output_type": "stream",
     "text": [
      "Fitting data to:\n",
      " - irreversible Michaelis Menten model\n"
     ]
    },
    {
     "ename": "ValueError",
     "evalue": "too many values to unpack (expected 4)",
     "output_type": "error",
     "traceback": [
      "\u001b[0;31m---------------------------------------------------------------------------\u001b[0m",
      "\u001b[0;31mValueError\u001b[0m                                Traceback (most recent call last)",
      "Cell \u001b[0;32mIn[8], line 3\u001b[0m\n\u001b[1;32m      1\u001b[0m pe \u001b[39m=\u001b[39m ParameterEstimator(enzymekinetics)\n\u001b[0;32m----> 3\u001b[0m pe\u001b[39m.\u001b[39;49mfit_models()\n",
      "File \u001b[0;32m~/code/EnzymePynetics/EnzymePynetics/tools/parameterestimator.py:79\u001b[0m, in \u001b[0;36mParameterEstimator.fit_models\u001b[0;34m(self, initial_substrate_concs, start_time_index, stop_time_index, enzyme_inactivation, only_irrev_MM, display_output)\u001b[0m\n\u001b[1;32m     70\u001b[0m \u001b[39m# Initialize kinetics models\u001b[39;00m\n\u001b[1;32m     71\u001b[0m \u001b[39mself\u001b[39m\u001b[39m.\u001b[39mmodels \u001b[39m=\u001b[39m \u001b[39mself\u001b[39m\u001b[39m.\u001b[39m_initialize_models(\n\u001b[1;32m     72\u001b[0m     substrate\u001b[39m=\u001b[39m\u001b[39mself\u001b[39m\u001b[39m.\u001b[39msubset_substrate,\n\u001b[1;32m     73\u001b[0m     product\u001b[39m=\u001b[39m\u001b[39mself\u001b[39m\u001b[39m.\u001b[39msubset_product,\n\u001b[0;32m   (...)\u001b[0m\n\u001b[1;32m     76\u001b[0m     initial_substrate\u001b[39m=\u001b[39m\u001b[39mself\u001b[39m\u001b[39m.\u001b[39msubset_initial_substrate,\n\u001b[1;32m     77\u001b[0m     only_irrev_MM\u001b[39m=\u001b[39monly_irrev_MM)\n\u001b[0;32m---> 79\u001b[0m \u001b[39mself\u001b[39;49m\u001b[39m.\u001b[39;49m_run_minimization(display_output)\n\u001b[1;32m     80\u001b[0m \u001b[39mself\u001b[39m\u001b[39m.\u001b[39m_calcualte_RMSD()\n\u001b[1;32m     82\u001b[0m \u001b[39mself\u001b[39m\u001b[39m.\u001b[39mresult_dict \u001b[39m=\u001b[39m \u001b[39mself\u001b[39m\u001b[39m.\u001b[39m_result_overview()\n",
      "File \u001b[0;32m~/code/EnzymePynetics/EnzymePynetics/tools/parameterestimator.py:570\u001b[0m, in \u001b[0;36mParameterEstimator._run_minimization\u001b[0;34m(self, display_output)\u001b[0m\n\u001b[1;32m    567\u001b[0m \u001b[39mif\u001b[39;00m display_output:\n\u001b[1;32m    568\u001b[0m     \u001b[39mprint\u001b[39m(\u001b[39mf\u001b[39m\u001b[39m\"\u001b[39m\u001b[39m - \u001b[39m\u001b[39m{\u001b[39;00mkineticmodel\u001b[39m.\u001b[39mname\u001b[39m}\u001b[39;00m\u001b[39m model\u001b[39m\u001b[39m\"\u001b[39m)\n\u001b[0;32m--> 570\u001b[0m kineticmodel\u001b[39m.\u001b[39mresult \u001b[39m=\u001b[39m minimize(residual, kineticmodel\u001b[39m.\u001b[39;49mparameters, args\u001b[39m=\u001b[39;49m(\n\u001b[1;32m    571\u001b[0m     \u001b[39mself\u001b[39;49m\u001b[39m.\u001b[39;49msubset_time, \u001b[39mself\u001b[39;49m\u001b[39m.\u001b[39;49msubset_substrate), method\u001b[39m=\u001b[39;49m\u001b[39m'\u001b[39;49m\u001b[39mleastsq\u001b[39;49m\u001b[39m'\u001b[39;49m, nan_policy\u001b[39m=\u001b[39;49m\u001b[39m'\u001b[39;49m\u001b[39momit\u001b[39;49m\u001b[39m'\u001b[39;49m)\n",
      "File \u001b[0;32m~/miniconda3/envs/kinetics/lib/python3.10/site-packages/lmfit/minimizer.py:2600\u001b[0m, in \u001b[0;36mminimize\u001b[0;34m(fcn, params, method, args, kws, iter_cb, scale_covar, nan_policy, reduce_fcn, calc_covar, max_nfev, **fit_kws)\u001b[0m\n\u001b[1;32m   2460\u001b[0m \u001b[39m\u001b[39m\u001b[39m\"\"\"Perform the minimization of the objective function.\u001b[39;00m\n\u001b[1;32m   2461\u001b[0m \n\u001b[1;32m   2462\u001b[0m \u001b[39mThe minimize function takes an objective function to be minimized,\u001b[39;00m\n\u001b[0;32m   (...)\u001b[0m\n\u001b[1;32m   2594\u001b[0m \n\u001b[1;32m   2595\u001b[0m \u001b[39m\"\"\"\u001b[39;00m\n\u001b[1;32m   2596\u001b[0m fitter \u001b[39m=\u001b[39m Minimizer(fcn, params, fcn_args\u001b[39m=\u001b[39margs, fcn_kws\u001b[39m=\u001b[39mkws,\n\u001b[1;32m   2597\u001b[0m                    iter_cb\u001b[39m=\u001b[39miter_cb, scale_covar\u001b[39m=\u001b[39mscale_covar,\n\u001b[1;32m   2598\u001b[0m                    nan_policy\u001b[39m=\u001b[39mnan_policy, reduce_fcn\u001b[39m=\u001b[39mreduce_fcn,\n\u001b[1;32m   2599\u001b[0m                    calc_covar\u001b[39m=\u001b[39mcalc_covar, max_nfev\u001b[39m=\u001b[39mmax_nfev, \u001b[39m*\u001b[39m\u001b[39m*\u001b[39mfit_kws)\n\u001b[0;32m-> 2600\u001b[0m \u001b[39mreturn\u001b[39;00m fitter\u001b[39m.\u001b[39;49mminimize(method\u001b[39m=\u001b[39;49mmethod)\n",
      "File \u001b[0;32m~/miniconda3/envs/kinetics/lib/python3.10/site-packages/lmfit/minimizer.py:2369\u001b[0m, in \u001b[0;36mMinimizer.minimize\u001b[0;34m(self, method, params, **kws)\u001b[0m\n\u001b[1;32m   2366\u001b[0m         \u001b[39mif\u001b[39;00m (key\u001b[39m.\u001b[39mlower()\u001b[39m.\u001b[39mstartswith(user_method) \u001b[39mor\u001b[39;00m\n\u001b[1;32m   2367\u001b[0m                 val\u001b[39m.\u001b[39mlower()\u001b[39m.\u001b[39mstartswith(user_method)):\n\u001b[1;32m   2368\u001b[0m             kwargs[\u001b[39m'\u001b[39m\u001b[39mmethod\u001b[39m\u001b[39m'\u001b[39m] \u001b[39m=\u001b[39m val\n\u001b[0;32m-> 2369\u001b[0m \u001b[39mreturn\u001b[39;00m function(\u001b[39m*\u001b[39;49m\u001b[39m*\u001b[39;49mkwargs)\n",
      "File \u001b[0;32m~/miniconda3/envs/kinetics/lib/python3.10/site-packages/lmfit/minimizer.py:1693\u001b[0m, in \u001b[0;36mMinimizer.leastsq\u001b[0;34m(self, params, max_nfev, **kws)\u001b[0m\n\u001b[1;32m   1691\u001b[0m result\u001b[39m.\u001b[39mcall_kws \u001b[39m=\u001b[39m lskws\n\u001b[1;32m   1692\u001b[0m \u001b[39mtry\u001b[39;00m:\n\u001b[0;32m-> 1693\u001b[0m     lsout \u001b[39m=\u001b[39m scipy_leastsq(\u001b[39mself\u001b[39;49m\u001b[39m.\u001b[39;49m__residual, variables, \u001b[39m*\u001b[39;49m\u001b[39m*\u001b[39;49mlskws)\n\u001b[1;32m   1694\u001b[0m \u001b[39mexcept\u001b[39;00m AbortFitException:\n\u001b[1;32m   1695\u001b[0m     \u001b[39mpass\u001b[39;00m\n",
      "File \u001b[0;32m~/miniconda3/envs/kinetics/lib/python3.10/site-packages/scipy/optimize/_minpack_py.py:413\u001b[0m, in \u001b[0;36mleastsq\u001b[0;34m(func, x0, args, Dfun, full_output, col_deriv, ftol, xtol, gtol, maxfev, epsfcn, factor, diag)\u001b[0m\n\u001b[1;32m    411\u001b[0m \u001b[39mif\u001b[39;00m \u001b[39mnot\u001b[39;00m \u001b[39misinstance\u001b[39m(args, \u001b[39mtuple\u001b[39m):\n\u001b[1;32m    412\u001b[0m     args \u001b[39m=\u001b[39m (args,)\n\u001b[0;32m--> 413\u001b[0m shape, dtype \u001b[39m=\u001b[39m _check_func(\u001b[39m'\u001b[39;49m\u001b[39mleastsq\u001b[39;49m\u001b[39m'\u001b[39;49m, \u001b[39m'\u001b[39;49m\u001b[39mfunc\u001b[39;49m\u001b[39m'\u001b[39;49m, func, x0, args, n)\n\u001b[1;32m    414\u001b[0m m \u001b[39m=\u001b[39m shape[\u001b[39m0\u001b[39m]\n\u001b[1;32m    416\u001b[0m \u001b[39mif\u001b[39;00m n \u001b[39m>\u001b[39m m:\n",
      "File \u001b[0;32m~/miniconda3/envs/kinetics/lib/python3.10/site-packages/scipy/optimize/_minpack_py.py:26\u001b[0m, in \u001b[0;36m_check_func\u001b[0;34m(checker, argname, thefunc, x0, args, numinputs, output_shape)\u001b[0m\n\u001b[1;32m     24\u001b[0m \u001b[39mdef\u001b[39;00m \u001b[39m_check_func\u001b[39m(checker, argname, thefunc, x0, args, numinputs,\n\u001b[1;32m     25\u001b[0m                 output_shape\u001b[39m=\u001b[39m\u001b[39mNone\u001b[39;00m):\n\u001b[0;32m---> 26\u001b[0m     res \u001b[39m=\u001b[39m atleast_1d(thefunc(\u001b[39m*\u001b[39;49m((x0[:numinputs],) \u001b[39m+\u001b[39;49m args)))\n\u001b[1;32m     27\u001b[0m     \u001b[39mif\u001b[39;00m (output_shape \u001b[39mis\u001b[39;00m \u001b[39mnot\u001b[39;00m \u001b[39mNone\u001b[39;00m) \u001b[39mand\u001b[39;00m (shape(res) \u001b[39m!=\u001b[39m output_shape):\n\u001b[1;32m     28\u001b[0m         \u001b[39mif\u001b[39;00m (output_shape[\u001b[39m0\u001b[39m] \u001b[39m!=\u001b[39m \u001b[39m1\u001b[39m):\n",
      "File \u001b[0;32m~/miniconda3/envs/kinetics/lib/python3.10/site-packages/lmfit/minimizer.py:586\u001b[0m, in \u001b[0;36mMinimizer.__residual\u001b[0;34m(self, fvars, apply_bounds_transformation)\u001b[0m\n\u001b[1;32m    583\u001b[0m     \u001b[39mself\u001b[39m\u001b[39m.\u001b[39mresult\u001b[39m.\u001b[39msuccess \u001b[39m=\u001b[39m \u001b[39mFalse\u001b[39;00m\n\u001b[1;32m    584\u001b[0m     \u001b[39mraise\u001b[39;00m AbortFitException(\u001b[39mf\u001b[39m\u001b[39m\"\u001b[39m\u001b[39mfit aborted: too many function evaluations \u001b[39m\u001b[39m{\u001b[39;00m\u001b[39mself\u001b[39m\u001b[39m.\u001b[39mmax_nfev\u001b[39m}\u001b[39;00m\u001b[39m\"\u001b[39m)\n\u001b[0;32m--> 586\u001b[0m out \u001b[39m=\u001b[39m \u001b[39mself\u001b[39;49m\u001b[39m.\u001b[39;49muserfcn(params, \u001b[39m*\u001b[39;49m\u001b[39mself\u001b[39;49m\u001b[39m.\u001b[39;49muserargs, \u001b[39m*\u001b[39;49m\u001b[39m*\u001b[39;49m\u001b[39mself\u001b[39;49m\u001b[39m.\u001b[39;49muserkws)\n\u001b[1;32m    588\u001b[0m \u001b[39mif\u001b[39;00m callable(\u001b[39mself\u001b[39m\u001b[39m.\u001b[39miter_cb):\n\u001b[1;32m    589\u001b[0m     abort \u001b[39m=\u001b[39m \u001b[39mself\u001b[39m\u001b[39m.\u001b[39miter_cb(params, \u001b[39mself\u001b[39m\u001b[39m.\u001b[39mresult\u001b[39m.\u001b[39mnfev, out,\n\u001b[1;32m    590\u001b[0m                          \u001b[39m*\u001b[39m\u001b[39mself\u001b[39m\u001b[39m.\u001b[39muserargs, \u001b[39m*\u001b[39m\u001b[39m*\u001b[39m\u001b[39mself\u001b[39m\u001b[39m.\u001b[39muserkws)\n",
      "File \u001b[0;32m~/code/EnzymePynetics/EnzymePynetics/tools/parameterestimator.py:549\u001b[0m, in \u001b[0;36mParameterEstimator._run_minimization.<locals>.residual\u001b[0;34m(params, time, substrate)\u001b[0m\n\u001b[1;32m    545\u001b[0m residuals \u001b[39m=\u001b[39m \u001b[39m0.0\u001b[39m \u001b[39m*\u001b[39m substrate\n\u001b[1;32m    546\u001b[0m \u001b[39mfor\u001b[39;00m i, measurement \u001b[39min\u001b[39;00m \u001b[39menumerate\u001b[39m(substrate):\n\u001b[1;32m    547\u001b[0m \n\u001b[1;32m    548\u001b[0m     \u001b[39m# Calculate residual for each measurement\u001b[39;00m\n\u001b[0;32m--> 549\u001b[0m     cS, cE, cP, cI, \u001b[39m=\u001b[39m kineticmodel\u001b[39m.\u001b[39mw0\u001b[39m.\u001b[39mvalues()\n\u001b[1;32m    550\u001b[0m     w0 \u001b[39m=\u001b[39m (cS[i], cE[i, \u001b[39m0\u001b[39m], \u001b[39m0\u001b[39m, cI[i, \u001b[39m0\u001b[39m])  \u001b[39m# cP[i, 0]\u001b[39;00m\n\u001b[1;32m    551\u001b[0m     \u001b[39m# TODO check data in model and measurement\u001b[39;00m\n",
      "\u001b[0;31mValueError\u001b[0m: too many values to unpack (expected 4)"
     ]
    }
   ],
   "source": [
    "pe = ParameterEstimator(enzymekinetics)\n",
    "\n",
    "pe.fit_models()"
   ]
  }
 ],
 "metadata": {
  "kernelspec": {
   "display_name": "kinetics",
   "language": "python",
   "name": "python3"
  },
  "language_info": {
   "codemirror_mode": {
    "name": "ipython",
    "version": 3
   },
   "file_extension": ".py",
   "mimetype": "text/x-python",
   "name": "python",
   "nbconvert_exporter": "python",
   "pygments_lexer": "ipython3",
   "version": "3.10.9"
  },
  "orig_nbformat": 4
 },
 "nbformat": 4,
 "nbformat_minor": 2
}
