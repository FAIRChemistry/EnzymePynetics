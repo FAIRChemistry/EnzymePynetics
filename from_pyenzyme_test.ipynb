{
 "cells": [
  {
   "cell_type": "code",
   "execution_count": 5,
   "metadata": {},
   "outputs": [
    {
     "name": "stdout",
     "output_type": "stream",
     "text": [
      "The autoreload extension is already loaded. To reload it, use:\n",
      "  %reload_ext autoreload\n"
     ]
    }
   ],
   "source": [
    "import pyenzyme as pe\n",
    "\n",
    "%load_ext autoreload\n",
    "%autoreload 2\n",
    "from EnzymePynetics.tools.parameterestimator import ParameterEstimator"
   ]
  },
  {
   "cell_type": "code",
   "execution_count": 6,
   "metadata": {},
   "outputs": [],
   "source": [
    "enzmldoc = pe.EnzymeMLDocument.fromFile(\n",
    "    \"/Users/max/Library/Mobile Documents/com~apple~CloudDocs/Documents/code/papers/MTP_inhibition/data/SLAC/ABTS_oxidation_pH_3.0_and_25.0°C.omex\"\n",
    ")"
   ]
  },
  {
   "cell_type": "code",
   "execution_count": 17,
   "metadata": {},
   "outputs": [
    {
     "data": {
      "text/plain": [
       "Species(id='s0', name='ABTS', conc_unit='umol / l', initial_conc=5.0, species_type='substrate', data=[Series(id='series168', values=[3.8293790478400576, 3.449368104805195, 3.15636042892964, 2.9042686245563765, 2.698335849751323, 2.497426418794816, 2.358262632768588, 2.260296792082816, 2.2190391548641544, 2.151984272681684, 2.0384750653795494], values_unit='umol / l', time=[0.0, 88.0, 175.0, 262.0, 350.0, 449.0, 539.0, 629.0, 719.0, 809.0, 899.0], time_unit='s'), Series(id='series169', values=[3.582934834377552, 3.269481846306085, 3.043200230106999, 2.775575813292571, 2.554105714482097, 2.363417910142409, 2.224196647064941, 2.151984272681684, 2.1107128148091645, 2.048795734257281, 1.9971890851943976], values_unit='umol / l', time=[0.0, 88.0, 175.0, 262.0, 350.0, 449.0, 539.0, 629.0, 719.0, 809.0, 899.0], time_unit='s'), Series(id='series170', values=[3.757518263580896, 3.3825646014061967, 3.0997851846605, 2.8579450305171625, 2.651983112013669, 2.456198914118458, 2.311861450351606, 2.203566185069122, 2.0952346582871657, 2.0178327364063806, 1.935250190737719], values_unit='umol / l', time=[0.0, 88.0, 175.0, 262.0, 350.0, 449.0, 539.0, 629.0, 719.0, 809.0, 899.0], time_unit='s')])"
      ]
     },
     "execution_count": 17,
     "metadata": {},
     "output_type": "execute_result"
    }
   ],
   "source": [
    "estimator = ParameterEstimator.from_EnzymeML(\n",
    "    enzmldoc=enzmldoc, measured_species_id=\"s0\"\n",
    ")\n",
    "\n",
    "estimator.data.measurements[0].species[0]"
   ]
  },
  {
   "cell_type": "code",
   "execution_count": 27,
   "metadata": {},
   "outputs": [
    {
     "data": {
      "text/plain": [
       "Float64Index([  5.0,   5.0,   5.0,   5.0,   5.0,   5.0,   5.0,   5.0,   5.0,\n",
       "                5.0,\n",
       "              ...\n",
       "              150.0, 150.0, 150.0, 150.0, 150.0, 150.0, 150.0, 150.0, 150.0,\n",
       "              150.0],\n",
       "             dtype='float64', name='init_substrate', length=264)"
      ]
     },
     "execution_count": 27,
     "metadata": {},
     "output_type": "execute_result"
    }
   ],
   "source": [
    "estimator.dframe.index.get_level_values(1)"
   ]
  },
  {
   "cell_type": "code",
   "execution_count": null,
   "metadata": {},
   "outputs": [
    {
     "name": "stdout",
     "output_type": "stream",
     "text": [
      "Fitting data to:\n",
      " - irreversible Michaelis Menten model\n",
      " -- Fitting succeeded: True\n",
      " - irreversible Michaelis Menten with enzyme inactivation model\n",
      " -- Fitting succeeded: True\n",
      " - competitive product inhibition model\n",
      " -- Fitting succeeded: True\n",
      " - competitive product inhibition with enzyme inactivation model\n",
      " -- Fitting succeeded: True\n",
      " - uncompetitive product inhibition model\n",
      " -- Fitting succeeded: True\n",
      " - uncompetitive product inhibition with enzyme inactivation model\n",
      " -- Fitting succeeded: True\n",
      " - non-competitive product inhibition model\n",
      " -- Fitting succeeded: False\n",
      " - non-competitive product inhibition with enzyme inactivation model\n",
      " -- Fitting succeeded: True\n",
      " - substrate inhibition model\n",
      " -- Fitting succeeded: True\n",
      " - substrate inhibition with enzyme inactivation model\n",
      " -- Fitting succeeded: True\n",
      "conc_unit: umol / l\n"
     ]
    },
    {
     "data": {
      "text/html": [
       "<style type=\"text/css\">\n",
       "#T_c912d_row0_col0, #T_c912d_row0_col1, #T_c912d_row1_col1 {\n",
       "  background-color: #f7fbff;\n",
       "  color: #000000;\n",
       "}\n",
       "#T_c912d_row1_col0 {\n",
       "  background-color: #f6faff;\n",
       "  color: #000000;\n",
       "}\n",
       "#T_c912d_row2_col0 {\n",
       "  background-color: #d9e8f5;\n",
       "  color: #000000;\n",
       "}\n",
       "#T_c912d_row2_col1, #T_c912d_row3_col1 {\n",
       "  background-color: #edf4fc;\n",
       "  color: #000000;\n",
       "}\n",
       "#T_c912d_row3_col0 {\n",
       "  background-color: #d9e7f5;\n",
       "  color: #000000;\n",
       "}\n",
       "#T_c912d_row4_col0, #T_c912d_row6_col1 {\n",
       "  background-color: #cddff1;\n",
       "  color: #000000;\n",
       "}\n",
       "#T_c912d_row4_col1 {\n",
       "  background-color: #e7f1fa;\n",
       "  color: #000000;\n",
       "}\n",
       "#T_c912d_row5_col0, #T_c912d_row6_col0 {\n",
       "  background-color: #84bcdb;\n",
       "  color: #000000;\n",
       "}\n",
       "#T_c912d_row5_col1 {\n",
       "  background-color: #cde0f1;\n",
       "  color: #000000;\n",
       "}\n",
       "#T_c912d_row7_col0 {\n",
       "  background-color: #7ab6d9;\n",
       "  color: #000000;\n",
       "}\n",
       "#T_c912d_row7_col1 {\n",
       "  background-color: #caddf0;\n",
       "  color: #000000;\n",
       "}\n",
       "#T_c912d_row8_col0, #T_c912d_row8_col1 {\n",
       "  background-color: #08306b;\n",
       "  color: #f1f1f1;\n",
       "}\n",
       "</style>\n",
       "<table id=\"T_c912d\">\n",
       "  <thead>\n",
       "    <tr>\n",
       "      <th class=\"blank level0\" >&nbsp;</th>\n",
       "      <th id=\"T_c912d_level0_col0\" class=\"col_heading level0 col0\" >AIC</th>\n",
       "      <th id=\"T_c912d_level0_col1\" class=\"col_heading level0 col1\" >RMSD</th>\n",
       "      <th id=\"T_c912d_level0_col2\" class=\"col_heading level0 col2\" >kcat [1/s]</th>\n",
       "      <th id=\"T_c912d_level0_col3\" class=\"col_heading level0 col3\" >Km [umol / l]</th>\n",
       "      <th id=\"T_c912d_level0_col4\" class=\"col_heading level0 col4\" >kcat / Km [1/s * 1/umol / l]</th>\n",
       "      <th id=\"T_c912d_level0_col5\" class=\"col_heading level0 col5\" >ki time-dep enzyme-inactiv. [1/s]</th>\n",
       "      <th id=\"T_c912d_level0_col6\" class=\"col_heading level0 col6\" >Ki competitive [umol / l]</th>\n",
       "      <th id=\"T_c912d_level0_col7\" class=\"col_heading level0 col7\" >Ki uncompetitive [umol / l]</th>\n",
       "    </tr>\n",
       "  </thead>\n",
       "  <tbody>\n",
       "    <tr>\n",
       "      <th id=\"T_c912d_level0_row0\" class=\"row_heading level0 row0\" >competitive product inhibition with enzyme inactivation</th>\n",
       "      <td id=\"T_c912d_row0_col0\" class=\"data row0 col0\" >-647</td>\n",
       "      <td id=\"T_c912d_row0_col1\" class=\"data row0 col1\" >0.289455</td>\n",
       "      <td id=\"T_c912d_row0_col2\" class=\"data row0 col2\" >0.8834 +/- 8.05%</td>\n",
       "      <td id=\"T_c912d_row0_col3\" class=\"data row0 col3\" >52.1943 +/- 6.89%</td>\n",
       "      <td id=\"T_c912d_row0_col4\" class=\"data row0 col4\" >0.017 +/- 10.59%</td>\n",
       "      <td id=\"T_c912d_row0_col5\" class=\"data row0 col5\" >0.0008 +/- 6.63%</td>\n",
       "      <td id=\"T_c912d_row0_col6\" class=\"data row0 col6\" >7.4803 +/- 10.53%</td>\n",
       "      <td id=\"T_c912d_row0_col7\" class=\"data row0 col7\" >-</td>\n",
       "    </tr>\n",
       "    <tr>\n",
       "      <th id=\"T_c912d_level0_row1\" class=\"row_heading level0 row1\" >non-competitive product inhibition with enzyme inactivation</th>\n",
       "      <td id=\"T_c912d_row1_col0\" class=\"data row1 col0\" >-640</td>\n",
       "      <td id=\"T_c912d_row1_col1\" class=\"data row1 col1\" >0.292072</td>\n",
       "      <td id=\"T_c912d_row1_col2\" class=\"data row1 col2\" >0.9235 +/- 8.67%</td>\n",
       "      <td id=\"T_c912d_row1_col3\" class=\"data row1 col3\" >54.7669 +/- 7.87%</td>\n",
       "      <td id=\"T_c912d_row1_col4\" class=\"data row1 col4\" >0.017 +/- 11.71%</td>\n",
       "      <td id=\"T_c912d_row1_col5\" class=\"data row1 col5\" >0.0008 +/- 7.22%</td>\n",
       "      <td id=\"T_c912d_row1_col6\" class=\"data row1 col6\" >7.3406 +/- 10.59%</td>\n",
       "      <td id=\"T_c912d_row1_col7\" class=\"data row1 col7\" >1000.0000 +/- 255.11%</td>\n",
       "    </tr>\n",
       "    <tr>\n",
       "      <th id=\"T_c912d_level0_row2\" class=\"row_heading level0 row2\" >competitive product inhibition</th>\n",
       "      <td id=\"T_c912d_row2_col0\" class=\"data row2 col0\" >-483</td>\n",
       "      <td id=\"T_c912d_row2_col1\" class=\"data row2 col1\" >0.396128</td>\n",
       "      <td id=\"T_c912d_row2_col2\" class=\"data row2 col2\" >3.0236 +/- 43.66%</td>\n",
       "      <td id=\"T_c912d_row2_col3\" class=\"data row2 col3\" >159.0945 +/- 3.45%</td>\n",
       "      <td id=\"T_c912d_row2_col4\" class=\"data row2 col4\" >0.019 +/- 43.79%</td>\n",
       "      <td id=\"T_c912d_row2_col5\" class=\"data row2 col5\" >-</td>\n",
       "      <td id=\"T_c912d_row2_col6\" class=\"data row2 col6\" >3.1493 +/- 10.44%</td>\n",
       "      <td id=\"T_c912d_row2_col7\" class=\"data row2 col7\" >-</td>\n",
       "    </tr>\n",
       "    <tr>\n",
       "      <th id=\"T_c912d_level0_row3\" class=\"row_heading level0 row3\" >irreversible Michaelis Menten with enzyme inactivation</th>\n",
       "      <td id=\"T_c912d_row3_col0\" class=\"data row3 col0\" >-476</td>\n",
       "      <td id=\"T_c912d_row3_col1\" class=\"data row3 col1\" >0.401024</td>\n",
       "      <td id=\"T_c912d_row3_col2\" class=\"data row3 col2\" >0.4600 +/- 1.95%</td>\n",
       "      <td id=\"T_c912d_row3_col3\" class=\"data row3 col3\" >35.1374 +/- 3.00%</td>\n",
       "      <td id=\"T_c912d_row3_col4\" class=\"data row3 col4\" >0.013 +/- 3.58%</td>\n",
       "      <td id=\"T_c912d_row3_col5\" class=\"data row3 col5\" >0.0013 +/- 4.47%</td>\n",
       "      <td id=\"T_c912d_row3_col6\" class=\"data row3 col6\" >-</td>\n",
       "      <td id=\"T_c912d_row3_col7\" class=\"data row3 col7\" >-</td>\n",
       "    </tr>\n",
       "    <tr>\n",
       "      <th id=\"T_c912d_level0_row4\" class=\"row_heading level0 row4\" >substrate inhibition with enzyme inactivation</th>\n",
       "      <td id=\"T_c912d_row4_col0\" class=\"data row4 col0\" >-410</td>\n",
       "      <td id=\"T_c912d_row4_col1\" class=\"data row4 col1\" >0.453232</td>\n",
       "      <td id=\"T_c912d_row4_col2\" class=\"data row4 col2\" >0.5232 +/- 4.50%</td>\n",
       "      <td id=\"T_c912d_row4_col3\" class=\"data row4 col3\" >43.2442 +/- 6.85%</td>\n",
       "      <td id=\"T_c912d_row4_col4\" class=\"data row4 col4\" >0.012 +/- 8.20%</td>\n",
       "      <td id=\"T_c912d_row4_col5\" class=\"data row4 col5\" >0.0013 +/- 5.05%</td>\n",
       "      <td id=\"T_c912d_row4_col6\" class=\"data row4 col6\" >-</td>\n",
       "      <td id=\"T_c912d_row4_col7\" class=\"data row4 col7\" >1000.0000 +/- 33.45%</td>\n",
       "    </tr>\n",
       "    <tr>\n",
       "      <th id=\"T_c912d_level0_row5\" class=\"row_heading level0 row5\" >uncompetitive product inhibition</th>\n",
       "      <td id=\"T_c912d_row5_col0\" class=\"data row5 col0\" >-164</td>\n",
       "      <td id=\"T_c912d_row5_col1\" class=\"data row5 col1\" >0.725067</td>\n",
       "      <td id=\"T_c912d_row5_col2\" class=\"data row5 col2\" >0.3773 +/- 11.04%</td>\n",
       "      <td id=\"T_c912d_row5_col3\" class=\"data row5 col3\" >47.3119 +/- 15.75%</td>\n",
       "      <td id=\"T_c912d_row5_col4\" class=\"data row5 col4\" >0.008 +/- 19.23%</td>\n",
       "      <td id=\"T_c912d_row5_col5\" class=\"data row5 col5\" >-</td>\n",
       "      <td id=\"T_c912d_row5_col6\" class=\"data row5 col6\" >-</td>\n",
       "      <td id=\"T_c912d_row5_col7\" class=\"data row5 col7\" >114.9252 +/- 59.90%</td>\n",
       "    </tr>\n",
       "    <tr>\n",
       "      <th id=\"T_c912d_level0_row6\" class=\"row_heading level0 row6\" >irreversible Michaelis Menten</th>\n",
       "      <td id=\"T_c912d_row6_col0\" class=\"data row6 col0\" >-162</td>\n",
       "      <td id=\"T_c912d_row6_col1\" class=\"data row6 col1\" >0.730161</td>\n",
       "      <td id=\"T_c912d_row6_col2\" class=\"data row6 col2\" >0.3084 +/- 2.07%</td>\n",
       "      <td id=\"T_c912d_row6_col3\" class=\"data row6 col3\" >35.4652 +/- 5.52%</td>\n",
       "      <td id=\"T_c912d_row6_col4\" class=\"data row6 col4\" >0.009 +/- 5.89%</td>\n",
       "      <td id=\"T_c912d_row6_col5\" class=\"data row6 col5\" >-</td>\n",
       "      <td id=\"T_c912d_row6_col6\" class=\"data row6 col6\" >-</td>\n",
       "      <td id=\"T_c912d_row6_col7\" class=\"data row6 col7\" >-</td>\n",
       "    </tr>\n",
       "    <tr>\n",
       "      <th id=\"T_c912d_level0_row7\" class=\"row_heading level0 row7\" >substrate inhibition</th>\n",
       "      <td id=\"T_c912d_row7_col0\" class=\"data row7 col0\" >-138</td>\n",
       "      <td id=\"T_c912d_row7_col1\" class=\"data row7 col1\" >0.761308</td>\n",
       "      <td id=\"T_c912d_row7_col2\" class=\"data row7 col2\" >0.3507 +/- 2.27%</td>\n",
       "      <td id=\"T_c912d_row7_col3\" class=\"data row7 col3\" >43.7210 +/- 5.61%</td>\n",
       "      <td id=\"T_c912d_row7_col4\" class=\"data row7 col4\" >0.008 +/- 6.05%</td>\n",
       "      <td id=\"T_c912d_row7_col5\" class=\"data row7 col5\" >-</td>\n",
       "      <td id=\"T_c912d_row7_col6\" class=\"data row7 col6\" >-</td>\n",
       "      <td id=\"T_c912d_row7_col7\" class=\"data row7 col7\" >999.9829 +/- 7.75%</td>\n",
       "    </tr>\n",
       "    <tr>\n",
       "      <th id=\"T_c912d_level0_row8\" class=\"row_heading level0 row8\" >uncompetitive product inhibition with enzyme inactivation</th>\n",
       "      <td id=\"T_c912d_row8_col0\" class=\"data row8 col0\" >455</td>\n",
       "      <td id=\"T_c912d_row8_col1\" class=\"data row8 col1\" >2.333152</td>\n",
       "      <td id=\"T_c912d_row8_col2\" class=\"data row8 col2\" >39.5741 +/- 251177.54%</td>\n",
       "      <td id=\"T_c912d_row8_col3\" class=\"data row8 col3\" >35.9746 +/- 48.39%</td>\n",
       "      <td id=\"T_c912d_row8_col4\" class=\"data row8 col4\" >1.100 +/- 251177.55%</td>\n",
       "      <td id=\"T_c912d_row8_col5\" class=\"data row8 col5\" >0.2469 +/- 250680.32%</td>\n",
       "      <td id=\"T_c912d_row8_col6\" class=\"data row8 col6\" >-</td>\n",
       "      <td id=\"T_c912d_row8_col7\" class=\"data row8 col7\" >999.9942 +/- 1332.37%</td>\n",
       "    </tr>\n",
       "  </tbody>\n",
       "</table>\n"
      ],
      "text/plain": [
       "<pandas.io.formats.style.Styler at 0x16d9ede40>"
      ]
     },
     "metadata": {},
     "output_type": "display_data"
    }
   ],
   "source": [
    "estimator.fit_models()"
   ]
  },
  {
   "cell_type": "code",
   "execution_count": null,
   "metadata": {},
   "outputs": [
    {
     "name": "stdout",
     "output_type": "stream",
     "text": [
      "\u001b[4mParameter\u001b[0m\n",
      "├── \u001b[94mid\u001b[0m = parameter8\n",
      "├── \u001b[94mname\u001b[0m = k_cat\n",
      "├── \u001b[94mvalue\u001b[0m = 0.8834405544247289\n",
      "├── \u001b[94munit\u001b[0m = 1 / s\n",
      "├── \u001b[94mstandard_deviation\u001b[0m = 0.0710800369910637\n",
      "├── \u001b[94mcorrelations\u001b[0m\n",
      "│   ├── 0\n",
      "│   │   └── \u001b[4mCorrelation\u001b[0m\n",
      "│   │       ├── \u001b[94mid\u001b[0m = correlation14\n",
      "│   │       ├── \u001b[94mparameter\u001b[0m = Km\n",
      "│   │       └── \u001b[94mvalue\u001b[0m = 0.9111374169126325\n",
      "│   ├── 1\n",
      "│   │   └── \u001b[4mCorrelation\u001b[0m\n",
      "│   │       ├── \u001b[94mid\u001b[0m = correlation15\n",
      "│   │       ├── \u001b[94mparameter\u001b[0m = K_ic\n",
      "│   │       └── \u001b[94mvalue\u001b[0m = -0.8929691332722997\n",
      "│   └── 2\n",
      "│       └── \u001b[4mCorrelation\u001b[0m\n",
      "│           ├── \u001b[94mid\u001b[0m = correlation16\n",
      "│           ├── \u001b[94mparameter\u001b[0m = K_ie\n",
      "│           └── \u001b[94mvalue\u001b[0m = -0.480531685576808\n",
      "├── \u001b[94mupper_limit\u001b[0m = 43.034139295716585\n",
      "└── \u001b[94mlower_limit\u001b[0m = 0.004303413929571658\n",
      "\n",
      "\u001b[4mParameter\u001b[0m\n",
      "├── \u001b[94mid\u001b[0m = parameter9\n",
      "├── \u001b[94mname\u001b[0m = Km\n",
      "├── \u001b[94mvalue\u001b[0m = 52.19433597412528\n",
      "├── \u001b[94munit\u001b[0m = umol / l\n",
      "├── \u001b[94mstandard_deviation\u001b[0m = 3.597513502751713\n",
      "├── \u001b[94mcorrelations\u001b[0m\n",
      "│   ├── 0\n",
      "│   │   └── \u001b[4mCorrelation\u001b[0m\n",
      "│   │       ├── \u001b[94mid\u001b[0m = correlation17\n",
      "│   │       ├── \u001b[94mparameter\u001b[0m = k_cat\n",
      "│   │       └── \u001b[94mvalue\u001b[0m = 0.9111374169126325\n",
      "│   ├── 1\n",
      "│   │   └── \u001b[4mCorrelation\u001b[0m\n",
      "│   │       ├── \u001b[94mid\u001b[0m = correlation18\n",
      "│   │       ├── \u001b[94mparameter\u001b[0m = K_ic\n",
      "│   │       └── \u001b[94mvalue\u001b[0m = -0.6694224634195621\n",
      "│   └── 2\n",
      "│       └── \u001b[4mCorrelation\u001b[0m\n",
      "│           ├── \u001b[94mid\u001b[0m = correlation19\n",
      "│           ├── \u001b[94mparameter\u001b[0m = K_ie\n",
      "│           └── \u001b[94mvalue\u001b[0m = -0.501153958426318\n",
      "├── \u001b[94mupper_limit\u001b[0m = 159.09447342499016\n",
      "└── \u001b[94mlower_limit\u001b[0m = 0.00015909447342499016\n",
      "\n",
      "\u001b[4mParameter\u001b[0m\n",
      "├── \u001b[94mid\u001b[0m = parameter10\n",
      "├── \u001b[94mname\u001b[0m = K_ic\n",
      "├── \u001b[94mvalue\u001b[0m = 7.48033588752398\n",
      "├── \u001b[94munit\u001b[0m = umol / l\n",
      "├── \u001b[94mstandard_deviation\u001b[0m = 0.7876093177138535\n",
      "├── \u001b[94mcorrelations\u001b[0m\n",
      "│   ├── 0\n",
      "│   │   └── \u001b[4mCorrelation\u001b[0m\n",
      "│   │       ├── \u001b[94mid\u001b[0m = correlation20\n",
      "│   │       ├── \u001b[94mparameter\u001b[0m = k_cat\n",
      "│   │       └── \u001b[94mvalue\u001b[0m = -0.8929691332722997\n",
      "│   ├── 1\n",
      "│   │   └── \u001b[4mCorrelation\u001b[0m\n",
      "│   │       ├── \u001b[94mid\u001b[0m = correlation21\n",
      "│   │       ├── \u001b[94mparameter\u001b[0m = Km\n",
      "│   │       └── \u001b[94mvalue\u001b[0m = -0.6694224634195621\n",
      "│   └── 2\n",
      "│       └── \u001b[4mCorrelation\u001b[0m\n",
      "│           ├── \u001b[94mid\u001b[0m = correlation22\n",
      "│           ├── \u001b[94mparameter\u001b[0m = K_ie\n",
      "│           └── \u001b[94mvalue\u001b[0m = 0.611626507561249\n",
      "├── \u001b[94mupper_limit\u001b[0m = 1000.0\n",
      "└── \u001b[94mlower_limit\u001b[0m = 0.0001\n",
      "\n",
      "\u001b[4mParameter\u001b[0m\n",
      "├── \u001b[94mid\u001b[0m = parameter11\n",
      "├── \u001b[94mname\u001b[0m = K_ie\n",
      "├── \u001b[94mvalue\u001b[0m = 0.0007943268535070496\n",
      "├── \u001b[94munit\u001b[0m = 1 / s\n",
      "├── \u001b[94mstandard_deviation\u001b[0m = 5.267179528675546e-05\n",
      "├── \u001b[94mcorrelations\u001b[0m\n",
      "│   ├── 0\n",
      "│   │   └── \u001b[4mCorrelation\u001b[0m\n",
      "│   │       ├── \u001b[94mid\u001b[0m = correlation23\n",
      "│   │       ├── \u001b[94mparameter\u001b[0m = k_cat\n",
      "│   │       └── \u001b[94mvalue\u001b[0m = -0.480531685576808\n",
      "│   ├── 1\n",
      "│   │   └── \u001b[4mCorrelation\u001b[0m\n",
      "│   │       ├── \u001b[94mid\u001b[0m = correlation24\n",
      "│   │       ├── \u001b[94mparameter\u001b[0m = Km\n",
      "│   │       └── \u001b[94mvalue\u001b[0m = -0.501153958426318\n",
      "│   └── 2\n",
      "│       └── \u001b[4mCorrelation\u001b[0m\n",
      "│           ├── \u001b[94mid\u001b[0m = correlation25\n",
      "│           ├── \u001b[94mparameter\u001b[0m = K_ic\n",
      "│           └── \u001b[94mvalue\u001b[0m = 0.611626507561249\n",
      "├── \u001b[94mupper_limit\u001b[0m = 0.9999\n",
      "└── \u001b[94mlower_limit\u001b[0m = 0.0001\n",
      "\n",
      "\u001b[4mParameter\u001b[0m\n",
      "├── \u001b[94mid\u001b[0m = parameter19\n",
      "├── \u001b[94mname\u001b[0m = k_cat\n",
      "├── \u001b[94mvalue\u001b[0m = 0.9234605862108316\n",
      "├── \u001b[94munit\u001b[0m = 1 / s\n",
      "├── \u001b[94mstandard_deviation\u001b[0m = 0.08007094884918327\n",
      "├── \u001b[94mcorrelations\u001b[0m\n",
      "│   ├── 0\n",
      "│   │   └── \u001b[4mCorrelation\u001b[0m\n",
      "│   │       ├── \u001b[94mid\u001b[0m = correlation44\n",
      "│   │       ├── \u001b[94mparameter\u001b[0m = Km\n",
      "│   │       └── \u001b[94mvalue\u001b[0m = 0.9097259254185625\n",
      "│   ├── 1\n",
      "│   │   └── \u001b[4mCorrelation\u001b[0m\n",
      "│   │       ├── \u001b[94mid\u001b[0m = correlation45\n",
      "│   │       ├── \u001b[94mparameter\u001b[0m = K_iu\n",
      "│   │       └── \u001b[94mvalue\u001b[0m = -0.26204100996144275\n",
      "│   ├── 2\n",
      "│   │   └── \u001b[4mCorrelation\u001b[0m\n",
      "│   │       ├── \u001b[94mid\u001b[0m = correlation46\n",
      "│   │       ├── \u001b[94mparameter\u001b[0m = K_ic\n",
      "│   │       └── \u001b[94mvalue\u001b[0m = -0.8436529321949194\n",
      "│   └── 3\n",
      "│       └── \u001b[4mCorrelation\u001b[0m\n",
      "│           ├── \u001b[94mid\u001b[0m = correlation47\n",
      "│           ├── \u001b[94mparameter\u001b[0m = K_ie\n",
      "│           └── \u001b[94mvalue\u001b[0m = -0.5232850823814329\n",
      "├── \u001b[94mupper_limit\u001b[0m = 43.034139295716585\n",
      "└── \u001b[94mlower_limit\u001b[0m = 0.004303413929571658\n",
      "\n",
      "\u001b[4mParameter\u001b[0m\n",
      "├── \u001b[94mid\u001b[0m = parameter20\n",
      "├── \u001b[94mname\u001b[0m = Km\n",
      "├── \u001b[94mvalue\u001b[0m = 54.766938029401906\n",
      "├── \u001b[94munit\u001b[0m = umol / l\n",
      "├── \u001b[94mstandard_deviation\u001b[0m = 4.312820746759713\n",
      "├── \u001b[94mcorrelations\u001b[0m\n",
      "│   ├── 0\n",
      "│   │   └── \u001b[4mCorrelation\u001b[0m\n",
      "│   │       ├── \u001b[94mid\u001b[0m = correlation48\n",
      "│   │       ├── \u001b[94mparameter\u001b[0m = k_cat\n",
      "│   │       └── \u001b[94mvalue\u001b[0m = 0.9097259254185625\n",
      "│   ├── 1\n",
      "│   │   └── \u001b[4mCorrelation\u001b[0m\n",
      "│   │       ├── \u001b[94mid\u001b[0m = correlation49\n",
      "│   │       ├── \u001b[94mparameter\u001b[0m = K_iu\n",
      "│   │       └── \u001b[94mvalue\u001b[0m = -0.4272610321170828\n",
      "│   ├── 2\n",
      "│   │   └── \u001b[4mCorrelation\u001b[0m\n",
      "│   │       ├── \u001b[94mid\u001b[0m = correlation50\n",
      "│   │       ├── \u001b[94mparameter\u001b[0m = K_ic\n",
      "│   │       └── \u001b[94mvalue\u001b[0m = -0.5809184049774871\n",
      "│   └── 3\n",
      "│       └── \u001b[4mCorrelation\u001b[0m\n",
      "│           ├── \u001b[94mid\u001b[0m = correlation51\n",
      "│           ├── \u001b[94mparameter\u001b[0m = K_ie\n",
      "│           └── \u001b[94mvalue\u001b[0m = -0.5699863486546619\n",
      "├── \u001b[94mupper_limit\u001b[0m = 159.09447342499016\n",
      "└── \u001b[94mlower_limit\u001b[0m = 0.00015909447342499016\n",
      "\n",
      "\u001b[4mParameter\u001b[0m\n",
      "├── \u001b[94mid\u001b[0m = parameter21\n",
      "├── \u001b[94mname\u001b[0m = K_iu\n",
      "├── \u001b[94mvalue\u001b[0m = 999.9999999905639\n",
      "├── \u001b[94munit\u001b[0m = umol / l\n",
      "├── \u001b[94mstandard_deviation\u001b[0m = 2551.058704748123\n",
      "├── \u001b[94mcorrelations\u001b[0m\n",
      "│   ├── 0\n",
      "│   │   └── \u001b[4mCorrelation\u001b[0m\n",
      "│   │       ├── \u001b[94mid\u001b[0m = correlation52\n",
      "│   │       ├── \u001b[94mparameter\u001b[0m = k_cat\n",
      "│   │       └── \u001b[94mvalue\u001b[0m = -0.26204100996144275\n",
      "│   ├── 1\n",
      "│   │   └── \u001b[4mCorrelation\u001b[0m\n",
      "│   │       ├── \u001b[94mid\u001b[0m = correlation53\n",
      "│   │       ├── \u001b[94mparameter\u001b[0m = Km\n",
      "│   │       └── \u001b[94mvalue\u001b[0m = -0.4272610321170828\n",
      "│   ├── 2\n",
      "│   │   └── \u001b[4mCorrelation\u001b[0m\n",
      "│   │       ├── \u001b[94mid\u001b[0m = correlation54\n",
      "│   │       ├── \u001b[94mparameter\u001b[0m = K_ic\n",
      "│   │       └── \u001b[94mvalue\u001b[0m = -0.06274297632161445\n",
      "│   └── 3\n",
      "│       └── \u001b[4mCorrelation\u001b[0m\n",
      "│           ├── \u001b[94mid\u001b[0m = correlation55\n",
      "│           ├── \u001b[94mparameter\u001b[0m = K_ie\n",
      "│           └── \u001b[94mvalue\u001b[0m = 0.3427771759565425\n",
      "├── \u001b[94mupper_limit\u001b[0m = 1000.0\n",
      "└── \u001b[94mlower_limit\u001b[0m = 0.0001\n",
      "\n",
      "\u001b[4mParameter\u001b[0m\n",
      "├── \u001b[94mid\u001b[0m = parameter22\n",
      "├── \u001b[94mname\u001b[0m = K_ic\n",
      "├── \u001b[94mvalue\u001b[0m = 7.34055029572744\n",
      "├── \u001b[94munit\u001b[0m = umol / l\n",
      "├── \u001b[94mstandard_deviation\u001b[0m = 0.7774910672851524\n",
      "├── \u001b[94mcorrelations\u001b[0m\n",
      "│   ├── 0\n",
      "│   │   └── \u001b[4mCorrelation\u001b[0m\n",
      "│   │       ├── \u001b[94mid\u001b[0m = correlation56\n",
      "│   │       ├── \u001b[94mparameter\u001b[0m = k_cat\n",
      "│   │       └── \u001b[94mvalue\u001b[0m = -0.8436529321949194\n",
      "│   ├── 1\n",
      "│   │   └── \u001b[4mCorrelation\u001b[0m\n",
      "│   │       ├── \u001b[94mid\u001b[0m = correlation57\n",
      "│   │       ├── \u001b[94mparameter\u001b[0m = Km\n",
      "│   │       └── \u001b[94mvalue\u001b[0m = -0.5809184049774871\n",
      "│   ├── 2\n",
      "│   │   └── \u001b[4mCorrelation\u001b[0m\n",
      "│   │       ├── \u001b[94mid\u001b[0m = correlation58\n",
      "│   │       ├── \u001b[94mparameter\u001b[0m = K_iu\n",
      "│   │       └── \u001b[94mvalue\u001b[0m = -0.06274297632161445\n",
      "│   └── 3\n",
      "│       └── \u001b[4mCorrelation\u001b[0m\n",
      "│           ├── \u001b[94mid\u001b[0m = correlation59\n",
      "│           ├── \u001b[94mparameter\u001b[0m = K_ie\n",
      "│           └── \u001b[94mvalue\u001b[0m = 0.5473019478775324\n",
      "├── \u001b[94mupper_limit\u001b[0m = 1000.0\n",
      "└── \u001b[94mlower_limit\u001b[0m = 0.0001\n",
      "\n",
      "\u001b[4mParameter\u001b[0m\n",
      "├── \u001b[94mid\u001b[0m = parameter23\n",
      "├── \u001b[94mname\u001b[0m = K_ie\n",
      "├── \u001b[94mvalue\u001b[0m = 0.0007811101101164435\n",
      "├── \u001b[94munit\u001b[0m = 1 / s\n",
      "├── \u001b[94mstandard_deviation\u001b[0m = 5.6403108597101406e-05\n",
      "├── \u001b[94mcorrelations\u001b[0m\n",
      "│   ├── 0\n",
      "│   │   └── \u001b[4mCorrelation\u001b[0m\n",
      "│   │       ├── \u001b[94mid\u001b[0m = correlation60\n",
      "│   │       ├── \u001b[94mparameter\u001b[0m = k_cat\n",
      "│   │       └── \u001b[94mvalue\u001b[0m = -0.5232850823814329\n",
      "│   ├── 1\n",
      "│   │   └── \u001b[4mCorrelation\u001b[0m\n",
      "│   │       ├── \u001b[94mid\u001b[0m = correlation61\n",
      "│   │       ├── \u001b[94mparameter\u001b[0m = Km\n",
      "│   │       └── \u001b[94mvalue\u001b[0m = -0.5699863486546619\n",
      "│   ├── 2\n",
      "│   │   └── \u001b[4mCorrelation\u001b[0m\n",
      "│   │       ├── \u001b[94mid\u001b[0m = correlation62\n",
      "│   │       ├── \u001b[94mparameter\u001b[0m = K_iu\n",
      "│   │       └── \u001b[94mvalue\u001b[0m = 0.3427771759565425\n",
      "│   └── 3\n",
      "│       └── \u001b[4mCorrelation\u001b[0m\n",
      "│           ├── \u001b[94mid\u001b[0m = correlation63\n",
      "│           ├── \u001b[94mparameter\u001b[0m = K_ic\n",
      "│           └── \u001b[94mvalue\u001b[0m = 0.5473019478775324\n",
      "├── \u001b[94mupper_limit\u001b[0m = 0.9999\n",
      "└── \u001b[94mlower_limit\u001b[0m = 0.0001\n",
      "\n",
      "\u001b[4mParameter\u001b[0m\n",
      "├── \u001b[94mid\u001b[0m = parameter5\n",
      "├── \u001b[94mname\u001b[0m = k_cat\n",
      "├── \u001b[94mvalue\u001b[0m = 3.023596881985607\n",
      "├── \u001b[94munit\u001b[0m = 1 / s\n",
      "├── \u001b[94mstandard_deviation\u001b[0m = 1.3200534801996548\n",
      "├── \u001b[94mcorrelations\u001b[0m\n",
      "│   ├── 0\n",
      "│   │   └── \u001b[4mCorrelation\u001b[0m\n",
      "│   │       ├── \u001b[94mid\u001b[0m = correlation8\n",
      "│   │       ├── \u001b[94mparameter\u001b[0m = Km\n",
      "│   │       └── \u001b[94mvalue\u001b[0m = -0.9902883382086846\n",
      "│   └── 1\n",
      "│       └── \u001b[4mCorrelation\u001b[0m\n",
      "│           ├── \u001b[94mid\u001b[0m = correlation9\n",
      "│           ├── \u001b[94mparameter\u001b[0m = K_ic\n",
      "│           └── \u001b[94mvalue\u001b[0m = -0.7552681206179701\n",
      "├── \u001b[94mupper_limit\u001b[0m = 43.034139295716585\n",
      "└── \u001b[94mlower_limit\u001b[0m = 0.004303413929571658\n",
      "\n",
      "\u001b[4mParameter\u001b[0m\n",
      "├── \u001b[94mid\u001b[0m = parameter6\n",
      "├── \u001b[94mname\u001b[0m = Km\n",
      "├── \u001b[94mvalue\u001b[0m = 159.09447326352398\n",
      "├── \u001b[94munit\u001b[0m = umol / l\n",
      "├── \u001b[94mstandard_deviation\u001b[0m = 5.496087118242356\n",
      "├── \u001b[94mcorrelations\u001b[0m\n",
      "│   ├── 0\n",
      "│   │   └── \u001b[4mCorrelation\u001b[0m\n",
      "│   │       ├── \u001b[94mid\u001b[0m = correlation10\n",
      "│   │       ├── \u001b[94mparameter\u001b[0m = k_cat\n",
      "│   │       └── \u001b[94mvalue\u001b[0m = -0.9902883382086846\n",
      "│   └── 1\n",
      "│       └── \u001b[4mCorrelation\u001b[0m\n",
      "│           ├── \u001b[94mid\u001b[0m = correlation11\n",
      "│           ├── \u001b[94mparameter\u001b[0m = K_ic\n",
      "│           └── \u001b[94mvalue\u001b[0m = 0.6572802106954148\n",
      "├── \u001b[94mupper_limit\u001b[0m = 159.09447342499016\n",
      "└── \u001b[94mlower_limit\u001b[0m = 0.00015909447342499016\n",
      "\n",
      "\u001b[4mParameter\u001b[0m\n",
      "├── \u001b[94mid\u001b[0m = parameter7\n",
      "├── \u001b[94mname\u001b[0m = K_ic\n",
      "├── \u001b[94mvalue\u001b[0m = 3.1493172958476006\n",
      "├── \u001b[94munit\u001b[0m = umol / l\n",
      "├── \u001b[94mstandard_deviation\u001b[0m = 0.32882075156545537\n",
      "├── \u001b[94mcorrelations\u001b[0m\n",
      "│   ├── 0\n",
      "│   │   └── \u001b[4mCorrelation\u001b[0m\n",
      "│   │       ├── \u001b[94mid\u001b[0m = correlation12\n",
      "│   │       ├── \u001b[94mparameter\u001b[0m = k_cat\n",
      "│   │       └── \u001b[94mvalue\u001b[0m = -0.7552681206179701\n",
      "│   └── 1\n",
      "│       └── \u001b[4mCorrelation\u001b[0m\n",
      "│           ├── \u001b[94mid\u001b[0m = correlation13\n",
      "│           ├── \u001b[94mparameter\u001b[0m = Km\n",
      "│           └── \u001b[94mvalue\u001b[0m = 0.6572802106954148\n",
      "├── \u001b[94mupper_limit\u001b[0m = 1000.0\n",
      "└── \u001b[94mlower_limit\u001b[0m = 0.0001\n",
      "\n",
      "\u001b[4mParameter\u001b[0m\n",
      "├── \u001b[94mid\u001b[0m = parameter2\n",
      "├── \u001b[94mname\u001b[0m = k_cat\n",
      "├── \u001b[94mvalue\u001b[0m = 0.4599621660575446\n",
      "├── \u001b[94munit\u001b[0m = 1 / s\n",
      "├── \u001b[94mstandard_deviation\u001b[0m = 0.008966238201878701\n",
      "├── \u001b[94mcorrelations\u001b[0m\n",
      "│   ├── 0\n",
      "│   │   └── \u001b[4mCorrelation\u001b[0m\n",
      "│   │       ├── \u001b[94mid\u001b[0m = correlation2\n",
      "│   │       ├── \u001b[94mparameter\u001b[0m = Km\n",
      "│   │       └── \u001b[94mvalue\u001b[0m = 0.5351464232932853\n",
      "│   └── 1\n",
      "│       └── \u001b[4mCorrelation\u001b[0m\n",
      "│           ├── \u001b[94mid\u001b[0m = correlation3\n",
      "│           ├── \u001b[94mparameter\u001b[0m = K_ie\n",
      "│           └── \u001b[94mvalue\u001b[0m = 0.8170078425859942\n",
      "├── \u001b[94mupper_limit\u001b[0m = 43.034139295716585\n",
      "└── \u001b[94mlower_limit\u001b[0m = 0.004303413929571658\n",
      "\n",
      "\u001b[4mParameter\u001b[0m\n",
      "├── \u001b[94mid\u001b[0m = parameter3\n",
      "├── \u001b[94mname\u001b[0m = Km\n",
      "├── \u001b[94mvalue\u001b[0m = 35.137441427243594\n",
      "├── \u001b[94munit\u001b[0m = umol / l\n",
      "├── \u001b[94mstandard_deviation\u001b[0m = 1.0539913111064672\n",
      "├── \u001b[94mcorrelations\u001b[0m\n",
      "│   ├── 0\n",
      "│   │   └── \u001b[4mCorrelation\u001b[0m\n",
      "│   │       ├── \u001b[94mid\u001b[0m = correlation4\n",
      "│   │       ├── \u001b[94mparameter\u001b[0m = k_cat\n",
      "│   │       └── \u001b[94mvalue\u001b[0m = 0.5351464232932853\n",
      "│   └── 1\n",
      "│       └── \u001b[4mCorrelation\u001b[0m\n",
      "│           ├── \u001b[94mid\u001b[0m = correlation5\n",
      "│           ├── \u001b[94mparameter\u001b[0m = K_ie\n",
      "│           └── \u001b[94mvalue\u001b[0m = 0.0021059696549017115\n",
      "├── \u001b[94mupper_limit\u001b[0m = 159.09447342499016\n",
      "└── \u001b[94mlower_limit\u001b[0m = 0.00015909447342499016\n",
      "\n",
      "\u001b[4mParameter\u001b[0m\n",
      "├── \u001b[94mid\u001b[0m = parameter4\n",
      "├── \u001b[94mname\u001b[0m = K_ie\n",
      "├── \u001b[94mvalue\u001b[0m = 0.001264004384262101\n",
      "├── \u001b[94munit\u001b[0m = 1 / s\n",
      "├── \u001b[94mstandard_deviation\u001b[0m = 5.650512704506157e-05\n",
      "├── \u001b[94mcorrelations\u001b[0m\n",
      "│   ├── 0\n",
      "│   │   └── \u001b[4mCorrelation\u001b[0m\n",
      "│   │       ├── \u001b[94mid\u001b[0m = correlation6\n",
      "│   │       ├── \u001b[94mparameter\u001b[0m = k_cat\n",
      "│   │       └── \u001b[94mvalue\u001b[0m = 0.8170078425859942\n",
      "│   └── 1\n",
      "│       └── \u001b[4mCorrelation\u001b[0m\n",
      "│           ├── \u001b[94mid\u001b[0m = correlation7\n",
      "│           ├── \u001b[94mparameter\u001b[0m = Km\n",
      "│           └── \u001b[94mvalue\u001b[0m = 0.0021059696549017115\n",
      "├── \u001b[94mupper_limit\u001b[0m = 0.9999\n",
      "└── \u001b[94mlower_limit\u001b[0m = 0.0001\n",
      "\n",
      "\u001b[4mParameter\u001b[0m\n",
      "├── \u001b[94mid\u001b[0m = parameter27\n",
      "├── \u001b[94mname\u001b[0m = k_cat\n",
      "├── \u001b[94mvalue\u001b[0m = 0.523210580504509\n",
      "├── \u001b[94munit\u001b[0m = 1 / s\n",
      "├── \u001b[94mstandard_deviation\u001b[0m = 0.023545038448273155\n",
      "├── \u001b[94mcorrelations\u001b[0m\n",
      "│   ├── 0\n",
      "│   │   └── \u001b[4mCorrelation\u001b[0m\n",
      "│   │       ├── \u001b[94mid\u001b[0m = correlation70\n",
      "│   │       ├── \u001b[94mparameter\u001b[0m = Km\n",
      "│   │       └── \u001b[94mvalue\u001b[0m = 0.8927301276676062\n",
      "│   ├── 1\n",
      "│   │   └── \u001b[4mCorrelation\u001b[0m\n",
      "│   │       ├── \u001b[94mid\u001b[0m = correlation71\n",
      "│   │       ├── \u001b[94mparameter\u001b[0m = K_iu\n",
      "│   │       └── \u001b[94mvalue\u001b[0m = -0.8678762489414367\n",
      "│   └── 2\n",
      "│       └── \u001b[4mCorrelation\u001b[0m\n",
      "│           ├── \u001b[94mid\u001b[0m = correlation72\n",
      "│           ├── \u001b[94mparameter\u001b[0m = K_ie\n",
      "│           └── \u001b[94mvalue\u001b[0m = 0.3683802837850699\n",
      "├── \u001b[94mupper_limit\u001b[0m = 43.034139295716585\n",
      "└── \u001b[94mlower_limit\u001b[0m = 0.004303413929571658\n",
      "\n",
      "\u001b[4mParameter\u001b[0m\n",
      "├── \u001b[94mid\u001b[0m = parameter28\n",
      "├── \u001b[94mname\u001b[0m = Km\n",
      "├── \u001b[94mvalue\u001b[0m = 43.244167880070165\n",
      "├── \u001b[94munit\u001b[0m = umol / l\n",
      "├── \u001b[94mstandard_deviation\u001b[0m = 2.9624152411858717\n",
      "├── \u001b[94mcorrelations\u001b[0m\n",
      "│   ├── 0\n",
      "│   │   └── \u001b[4mCorrelation\u001b[0m\n",
      "│   │       ├── \u001b[94mid\u001b[0m = correlation73\n",
      "│   │       ├── \u001b[94mparameter\u001b[0m = k_cat\n",
      "│   │       └── \u001b[94mvalue\u001b[0m = 0.8927301276676062\n",
      "│   ├── 1\n",
      "│   │   └── \u001b[4mCorrelation\u001b[0m\n",
      "│   │       ├── \u001b[94mid\u001b[0m = correlation74\n",
      "│   │       ├── \u001b[94mparameter\u001b[0m = K_iu\n",
      "│   │       └── \u001b[94mvalue\u001b[0m = -0.876992975442256\n",
      "│   └── 2\n",
      "│       └── \u001b[4mCorrelation\u001b[0m\n",
      "│           ├── \u001b[94mid\u001b[0m = correlation75\n",
      "│           ├── \u001b[94mparameter\u001b[0m = K_ie\n",
      "│           └── \u001b[94mvalue\u001b[0m = -0.03169827800540173\n",
      "├── \u001b[94mupper_limit\u001b[0m = 159.09447342499016\n",
      "└── \u001b[94mlower_limit\u001b[0m = 0.00015909447342499016\n",
      "\n",
      "\u001b[4mParameter\u001b[0m\n",
      "├── \u001b[94mid\u001b[0m = parameter29\n",
      "├── \u001b[94mname\u001b[0m = K_iu\n",
      "├── \u001b[94mvalue\u001b[0m = 999.9999999796054\n",
      "├── \u001b[94munit\u001b[0m = umol / l\n",
      "├── \u001b[94mstandard_deviation\u001b[0m = 334.52079417170984\n",
      "├── \u001b[94mcorrelations\u001b[0m\n",
      "│   ├── 0\n",
      "│   │   └── \u001b[4mCorrelation\u001b[0m\n",
      "│   │       ├── \u001b[94mid\u001b[0m = correlation76\n",
      "│   │       ├── \u001b[94mparameter\u001b[0m = k_cat\n",
      "│   │       └── \u001b[94mvalue\u001b[0m = -0.8678762489414367\n",
      "│   ├── 1\n",
      "│   │   └── \u001b[4mCorrelation\u001b[0m\n",
      "│   │       ├── \u001b[94mid\u001b[0m = correlation77\n",
      "│   │       ├── \u001b[94mparameter\u001b[0m = Km\n",
      "│   │       └── \u001b[94mvalue\u001b[0m = -0.876992975442256\n",
      "│   └── 2\n",
      "│       └── \u001b[4mCorrelation\u001b[0m\n",
      "│           ├── \u001b[94mid\u001b[0m = correlation78\n",
      "│           ├── \u001b[94mparameter\u001b[0m = K_ie\n",
      "│           └── \u001b[94mvalue\u001b[0m = 0.03690672491717172\n",
      "├── \u001b[94mupper_limit\u001b[0m = 1000.0\n",
      "└── \u001b[94mlower_limit\u001b[0m = 0.0001\n",
      "\n",
      "\u001b[4mParameter\u001b[0m\n",
      "├── \u001b[94mid\u001b[0m = parameter30\n",
      "├── \u001b[94mname\u001b[0m = K_ie\n",
      "├── \u001b[94mvalue\u001b[0m = 0.0012677013917485407\n",
      "├── \u001b[94munit\u001b[0m = 1 / s\n",
      "├── \u001b[94mstandard_deviation\u001b[0m = 6.407227509557851e-05\n",
      "├── \u001b[94mcorrelations\u001b[0m\n",
      "│   ├── 0\n",
      "│   │   └── \u001b[4mCorrelation\u001b[0m\n",
      "│   │       ├── \u001b[94mid\u001b[0m = correlation79\n",
      "│   │       ├── \u001b[94mparameter\u001b[0m = k_cat\n",
      "│   │       └── \u001b[94mvalue\u001b[0m = 0.3683802837850699\n",
      "│   ├── 1\n",
      "│   │   └── \u001b[4mCorrelation\u001b[0m\n",
      "│   │       ├── \u001b[94mid\u001b[0m = correlation80\n",
      "│   │       ├── \u001b[94mparameter\u001b[0m = Km\n",
      "│   │       └── \u001b[94mvalue\u001b[0m = -0.03169827800540173\n",
      "│   └── 2\n",
      "│       └── \u001b[4mCorrelation\u001b[0m\n",
      "│           ├── \u001b[94mid\u001b[0m = correlation81\n",
      "│           ├── \u001b[94mparameter\u001b[0m = K_iu\n",
      "│           └── \u001b[94mvalue\u001b[0m = 0.03690672491717172\n",
      "├── \u001b[94mupper_limit\u001b[0m = 0.9999\n",
      "└── \u001b[94mlower_limit\u001b[0m = 0.0001\n",
      "\n",
      "\u001b[4mParameter\u001b[0m\n",
      "├── \u001b[94mid\u001b[0m = parameter12\n",
      "├── \u001b[94mname\u001b[0m = k_cat\n",
      "├── \u001b[94mvalue\u001b[0m = 0.3773243236895679\n",
      "├── \u001b[94munit\u001b[0m = 1 / s\n",
      "├── \u001b[94mstandard_deviation\u001b[0m = 0.041659260819791495\n",
      "├── \u001b[94mcorrelations\u001b[0m\n",
      "│   ├── 0\n",
      "│   │   └── \u001b[4mCorrelation\u001b[0m\n",
      "│   │       ├── \u001b[94mid\u001b[0m = correlation26\n",
      "│   │       ├── \u001b[94mparameter\u001b[0m = Km\n",
      "│   │       └── \u001b[94mvalue\u001b[0m = 0.9848327921731785\n",
      "│   └── 1\n",
      "│       └── \u001b[4mCorrelation\u001b[0m\n",
      "│           ├── \u001b[94mid\u001b[0m = correlation27\n",
      "│           ├── \u001b[94mparameter\u001b[0m = K_iu\n",
      "│           └── \u001b[94mvalue\u001b[0m = -0.9803004993321883\n",
      "├── \u001b[94mupper_limit\u001b[0m = 43.034139295716585\n",
      "└── \u001b[94mlower_limit\u001b[0m = 0.004303413929571658\n",
      "\n",
      "\u001b[4mParameter\u001b[0m\n",
      "├── \u001b[94mid\u001b[0m = parameter13\n",
      "├── \u001b[94mname\u001b[0m = Km\n",
      "├── \u001b[94mvalue\u001b[0m = 47.31189059234249\n",
      "├── \u001b[94munit\u001b[0m = umol / l\n",
      "├── \u001b[94mstandard_deviation\u001b[0m = 7.451883344304221\n",
      "├── \u001b[94mcorrelations\u001b[0m\n",
      "│   ├── 0\n",
      "│   │   └── \u001b[4mCorrelation\u001b[0m\n",
      "│   │       ├── \u001b[94mid\u001b[0m = correlation28\n",
      "│   │       ├── \u001b[94mparameter\u001b[0m = k_cat\n",
      "│   │       └── \u001b[94mvalue\u001b[0m = 0.9848327921731785\n",
      "│   └── 1\n",
      "│       └── \u001b[4mCorrelation\u001b[0m\n",
      "│           ├── \u001b[94mid\u001b[0m = correlation29\n",
      "│           ├── \u001b[94mparameter\u001b[0m = K_iu\n",
      "│           └── \u001b[94mvalue\u001b[0m = -0.9413381459550435\n",
      "├── \u001b[94mupper_limit\u001b[0m = 159.09447342499016\n",
      "└── \u001b[94mlower_limit\u001b[0m = 0.00015909447342499016\n",
      "\n",
      "\u001b[4mParameter\u001b[0m\n",
      "├── \u001b[94mid\u001b[0m = parameter14\n",
      "├── \u001b[94mname\u001b[0m = K_iu\n",
      "├── \u001b[94mvalue\u001b[0m = 114.9252400292596\n",
      "├── \u001b[94munit\u001b[0m = umol / l\n",
      "├── \u001b[94mstandard_deviation\u001b[0m = 68.84343605548725\n",
      "├── \u001b[94mcorrelations\u001b[0m\n",
      "│   ├── 0\n",
      "│   │   └── \u001b[4mCorrelation\u001b[0m\n",
      "│   │       ├── \u001b[94mid\u001b[0m = correlation30\n",
      "│   │       ├── \u001b[94mparameter\u001b[0m = k_cat\n",
      "│   │       └── \u001b[94mvalue\u001b[0m = -0.9803004993321883\n",
      "│   └── 1\n",
      "│       └── \u001b[4mCorrelation\u001b[0m\n",
      "│           ├── \u001b[94mid\u001b[0m = correlation31\n",
      "│           ├── \u001b[94mparameter\u001b[0m = Km\n",
      "│           └── \u001b[94mvalue\u001b[0m = -0.9413381459550435\n",
      "├── \u001b[94mupper_limit\u001b[0m = 1000.0\n",
      "└── \u001b[94mlower_limit\u001b[0m = 0.0001\n",
      "\n",
      "\u001b[4mParameter\u001b[0m\n",
      "├── \u001b[94mid\u001b[0m = parameter0\n",
      "├── \u001b[94mname\u001b[0m = k_cat\n",
      "├── \u001b[94mvalue\u001b[0m = 0.3083588369585274\n",
      "├── \u001b[94munit\u001b[0m = 1 / s\n",
      "├── \u001b[94mstandard_deviation\u001b[0m = 0.00639476175404399\n",
      "├── \u001b[94mcorrelations\u001b[0m\n",
      "│   └── 0\n",
      "│       └── \u001b[4mCorrelation\u001b[0m\n",
      "│           ├── \u001b[94mid\u001b[0m = correlation0\n",
      "│           ├── \u001b[94mparameter\u001b[0m = Km\n",
      "│           └── \u001b[94mvalue\u001b[0m = 0.9263690138518773\n",
      "├── \u001b[94mupper_limit\u001b[0m = 43.034139295716585\n",
      "└── \u001b[94mlower_limit\u001b[0m = 0.004303413929571658\n",
      "\n",
      "\u001b[4mParameter\u001b[0m\n",
      "├── \u001b[94mid\u001b[0m = parameter1\n",
      "├── \u001b[94mname\u001b[0m = Km\n",
      "├── \u001b[94mvalue\u001b[0m = 35.46521576264442\n",
      "├── \u001b[94munit\u001b[0m = umol / l\n",
      "├── \u001b[94mstandard_deviation\u001b[0m = 1.9569256639452681\n",
      "├── \u001b[94mcorrelations\u001b[0m\n",
      "│   └── 0\n",
      "│       └── \u001b[4mCorrelation\u001b[0m\n",
      "│           ├── \u001b[94mid\u001b[0m = correlation1\n",
      "│           ├── \u001b[94mparameter\u001b[0m = k_cat\n",
      "│           └── \u001b[94mvalue\u001b[0m = 0.9263690138518773\n",
      "├── \u001b[94mupper_limit\u001b[0m = 159.09447342499016\n",
      "└── \u001b[94mlower_limit\u001b[0m = 0.00015909447342499016\n",
      "\n",
      "\u001b[4mParameter\u001b[0m\n",
      "├── \u001b[94mid\u001b[0m = parameter24\n",
      "├── \u001b[94mname\u001b[0m = k_cat\n",
      "├── \u001b[94mvalue\u001b[0m = 0.3506615317151979\n",
      "├── \u001b[94munit\u001b[0m = 1 / s\n",
      "├── \u001b[94mstandard_deviation\u001b[0m = 0.007945136577951251\n",
      "├── \u001b[94mcorrelations\u001b[0m\n",
      "│   ├── 0\n",
      "│   │   └── \u001b[4mCorrelation\u001b[0m\n",
      "│   │       ├── \u001b[94mid\u001b[0m = correlation64\n",
      "│   │       ├── \u001b[94mparameter\u001b[0m = Km\n",
      "│   │       └── \u001b[94mvalue\u001b[0m = 0.9324271429986977\n",
      "│   └── 1\n",
      "│       └── \u001b[4mCorrelation\u001b[0m\n",
      "│           ├── \u001b[94mid\u001b[0m = correlation65\n",
      "│           ├── \u001b[94mparameter\u001b[0m = K_iu\n",
      "│           └── \u001b[94mvalue\u001b[0m = -0.11366257749030802\n",
      "├── \u001b[94mupper_limit\u001b[0m = 43.034139295716585\n",
      "└── \u001b[94mlower_limit\u001b[0m = 0.004303413929571658\n",
      "\n",
      "\u001b[4mParameter\u001b[0m\n",
      "├── \u001b[94mid\u001b[0m = parameter25\n",
      "├── \u001b[94mname\u001b[0m = Km\n",
      "├── \u001b[94mvalue\u001b[0m = 43.72097569221252\n",
      "├── \u001b[94munit\u001b[0m = umol / l\n",
      "├── \u001b[94mstandard_deviation\u001b[0m = 2.451835869741498\n",
      "├── \u001b[94mcorrelations\u001b[0m\n",
      "│   ├── 0\n",
      "│   │   └── \u001b[4mCorrelation\u001b[0m\n",
      "│   │       ├── \u001b[94mid\u001b[0m = correlation66\n",
      "│   │       ├── \u001b[94mparameter\u001b[0m = k_cat\n",
      "│   │       └── \u001b[94mvalue\u001b[0m = 0.9324271429986977\n",
      "│   └── 1\n",
      "│       └── \u001b[4mCorrelation\u001b[0m\n",
      "│           ├── \u001b[94mid\u001b[0m = correlation67\n",
      "│           ├── \u001b[94mparameter\u001b[0m = K_iu\n",
      "│           └── \u001b[94mvalue\u001b[0m = -0.08814672967571201\n",
      "├── \u001b[94mupper_limit\u001b[0m = 159.09447342499016\n",
      "└── \u001b[94mlower_limit\u001b[0m = 0.00015909447342499016\n",
      "\n",
      "\u001b[4mParameter\u001b[0m\n",
      "├── \u001b[94mid\u001b[0m = parameter26\n",
      "├── \u001b[94mname\u001b[0m = K_iu\n",
      "├── \u001b[94mvalue\u001b[0m = 999.9828717974973\n",
      "├── \u001b[94munit\u001b[0m = umol / l\n",
      "├── \u001b[94mstandard_deviation\u001b[0m = 77.470904174959\n",
      "├── \u001b[94mcorrelations\u001b[0m\n",
      "│   ├── 0\n",
      "│   │   └── \u001b[4mCorrelation\u001b[0m\n",
      "│   │       ├── \u001b[94mid\u001b[0m = correlation68\n",
      "│   │       ├── \u001b[94mparameter\u001b[0m = k_cat\n",
      "│   │       └── \u001b[94mvalue\u001b[0m = -0.11366257749030802\n",
      "│   └── 1\n",
      "│       └── \u001b[4mCorrelation\u001b[0m\n",
      "│           ├── \u001b[94mid\u001b[0m = correlation69\n",
      "│           ├── \u001b[94mparameter\u001b[0m = Km\n",
      "│           └── \u001b[94mvalue\u001b[0m = -0.08814672967571201\n",
      "├── \u001b[94mupper_limit\u001b[0m = 1000.0\n",
      "└── \u001b[94mlower_limit\u001b[0m = 0.0001\n",
      "\n",
      "\u001b[4mParameter\u001b[0m\n",
      "├── \u001b[94mid\u001b[0m = parameter15\n",
      "├── \u001b[94mname\u001b[0m = k_cat\n",
      "├── \u001b[94mvalue\u001b[0m = 39.57405644135399\n",
      "├── \u001b[94munit\u001b[0m = 1 / s\n",
      "├── \u001b[94mstandard_deviation\u001b[0m = 99401.14196172533\n",
      "├── \u001b[94mcorrelations\u001b[0m\n",
      "│   ├── 0\n",
      "│   │   └── \u001b[4mCorrelation\u001b[0m\n",
      "│   │       ├── \u001b[94mid\u001b[0m = correlation32\n",
      "│   │       ├── \u001b[94mparameter\u001b[0m = Km\n",
      "│   │       └── \u001b[94mvalue\u001b[0m = 0.017094203810513013\n",
      "│   ├── 1\n",
      "│   │   └── \u001b[4mCorrelation\u001b[0m\n",
      "│   │       ├── \u001b[94mid\u001b[0m = correlation33\n",
      "│   │       ├── \u001b[94mparameter\u001b[0m = K_iu\n",
      "│   │       └── \u001b[94mvalue\u001b[0m = -0.0716007997250949\n",
      "│   └── 2\n",
      "│       └── \u001b[4mCorrelation\u001b[0m\n",
      "│           ├── \u001b[94mid\u001b[0m = correlation34\n",
      "│           ├── \u001b[94mparameter\u001b[0m = K_ie\n",
      "│           └── \u001b[94mvalue\u001b[0m = 0.9999999922552247\n",
      "├── \u001b[94mupper_limit\u001b[0m = 43.034139295716585\n",
      "└── \u001b[94mlower_limit\u001b[0m = 0.004303413929571658\n",
      "\n",
      "\u001b[4mParameter\u001b[0m\n",
      "├── \u001b[94mid\u001b[0m = parameter16\n",
      "├── \u001b[94mname\u001b[0m = Km\n",
      "├── \u001b[94mvalue\u001b[0m = 35.974558424421076\n",
      "├── \u001b[94munit\u001b[0m = umol / l\n",
      "├── \u001b[94mstandard_deviation\u001b[0m = 17.40652584649399\n",
      "├── \u001b[94mcorrelations\u001b[0m\n",
      "│   ├── 0\n",
      "│   │   └── \u001b[4mCorrelation\u001b[0m\n",
      "│   │       ├── \u001b[94mid\u001b[0m = correlation35\n",
      "│   │       ├── \u001b[94mparameter\u001b[0m = k_cat\n",
      "│   │       └── \u001b[94mvalue\u001b[0m = 0.017094203810513013\n",
      "│   ├── 1\n",
      "│   │   └── \u001b[4mCorrelation\u001b[0m\n",
      "│   │       ├── \u001b[94mid\u001b[0m = correlation36\n",
      "│   │       ├── \u001b[94mparameter\u001b[0m = K_iu\n",
      "│   │       └── \u001b[94mvalue\u001b[0m = -0.9232578638455291\n",
      "│   └── 2\n",
      "│       └── \u001b[4mCorrelation\u001b[0m\n",
      "│           ├── \u001b[94mid\u001b[0m = correlation37\n",
      "│           ├── \u001b[94mparameter\u001b[0m = K_ie\n",
      "│           └── \u001b[94mvalue\u001b[0m = 0.016972279204451806\n",
      "├── \u001b[94mupper_limit\u001b[0m = 159.09447342499016\n",
      "└── \u001b[94mlower_limit\u001b[0m = 0.00015909447342499016\n",
      "\n",
      "\u001b[4mParameter\u001b[0m\n",
      "├── \u001b[94mid\u001b[0m = parameter17\n",
      "├── \u001b[94mname\u001b[0m = K_iu\n",
      "├── \u001b[94mvalue\u001b[0m = 999.9941888087594\n",
      "├── \u001b[94munit\u001b[0m = umol / l\n",
      "├── \u001b[94mstandard_deviation\u001b[0m = 13323.645471258062\n",
      "├── \u001b[94mcorrelations\u001b[0m\n",
      "│   ├── 0\n",
      "│   │   └── \u001b[4mCorrelation\u001b[0m\n",
      "│   │       ├── \u001b[94mid\u001b[0m = correlation38\n",
      "│   │       ├── \u001b[94mparameter\u001b[0m = k_cat\n",
      "│   │       └── \u001b[94mvalue\u001b[0m = -0.0716007997250949\n",
      "│   ├── 1\n",
      "│   │   └── \u001b[4mCorrelation\u001b[0m\n",
      "│   │       ├── \u001b[94mid\u001b[0m = correlation39\n",
      "│   │       ├── \u001b[94mparameter\u001b[0m = Km\n",
      "│   │       └── \u001b[94mvalue\u001b[0m = -0.9232578638455291\n",
      "│   └── 2\n",
      "│       └── \u001b[4mCorrelation\u001b[0m\n",
      "│           ├── \u001b[94mid\u001b[0m = correlation40\n",
      "│           ├── \u001b[94mparameter\u001b[0m = K_ie\n",
      "│           └── \u001b[94mvalue\u001b[0m = -0.07147980452611219\n",
      "├── \u001b[94mupper_limit\u001b[0m = 1000.0\n",
      "└── \u001b[94mlower_limit\u001b[0m = 0.0001\n",
      "\n",
      "\u001b[4mParameter\u001b[0m\n",
      "├── \u001b[94mid\u001b[0m = parameter18\n",
      "├── \u001b[94mname\u001b[0m = K_ie\n",
      "├── \u001b[94mvalue\u001b[0m = 0.24692379140178364\n",
      "├── \u001b[94munit\u001b[0m = 1 / s\n",
      "├── \u001b[94mstandard_deviation\u001b[0m = 618.9893392456617\n",
      "├── \u001b[94mcorrelations\u001b[0m\n",
      "│   ├── 0\n",
      "│   │   └── \u001b[4mCorrelation\u001b[0m\n",
      "│   │       ├── \u001b[94mid\u001b[0m = correlation41\n",
      "│   │       ├── \u001b[94mparameter\u001b[0m = k_cat\n",
      "│   │       └── \u001b[94mvalue\u001b[0m = 0.9999999922552247\n",
      "│   ├── 1\n",
      "│   │   └── \u001b[4mCorrelation\u001b[0m\n",
      "│   │       ├── \u001b[94mid\u001b[0m = correlation42\n",
      "│   │       ├── \u001b[94mparameter\u001b[0m = Km\n",
      "│   │       └── \u001b[94mvalue\u001b[0m = 0.016972279204451806\n",
      "│   └── 2\n",
      "│       └── \u001b[4mCorrelation\u001b[0m\n",
      "│           ├── \u001b[94mid\u001b[0m = correlation43\n",
      "│           ├── \u001b[94mparameter\u001b[0m = K_iu\n",
      "│           └── \u001b[94mvalue\u001b[0m = -0.07147980452611219\n",
      "├── \u001b[94mupper_limit\u001b[0m = 0.9999\n",
      "└── \u001b[94mlower_limit\u001b[0m = 0.0001\n",
      "\n"
     ]
    },
    {
     "data": {
      "application/vnd.plotly.v1+json": {
       "config": {
        "plotlyServerURL": "https://plot.ly",
        "toImageButtonOptions": {
         "filename": "custom_image",
         "format": "svg",
         "scale": 1
        }
       },
       "data": [
        {
         "customdata": [
          "replicates"
         ],
         "hoverinfo": "skip",
         "marker": {
          "color": "rgba(0.7294117647058823, 0.6901960784313725, 0.6745098039215687, 1.0)"
         },
         "mode": "markers",
         "name": "5.0",
         "showlegend": true,
         "type": "scatter",
         "visible": false,
         "x": [
          0,
          88,
          175,
          262,
          350,
          449,
          539,
          629,
          719,
          809,
          899
         ],
         "y": [
          3.8293790478400576,
          3.449368104805195,
          3.15636042892964,
          2.9042686245563765,
          2.698335849751323,
          2.497426418794816,
          2.358262632768588,
          2.260296792082816,
          2.2190391548641544,
          2.151984272681684,
          2.0384750653795494
         ]
        },
        {
         "customdata": [
          "replicates"
         ],
         "hoverinfo": "skip",
         "marker": {
          "color": "rgba(0.7294117647058823, 0.6901960784313725, 0.6745098039215687, 1.0)"
         },
         "mode": "markers",
         "name": "5.0",
         "showlegend": false,
         "type": "scatter",
         "visible": false,
         "x": [
          0,
          88,
          175,
          262,
          350,
          449,
          539,
          629,
          719,
          809,
          899
         ],
         "y": [
          3.582934834377552,
          3.269481846306085,
          3.043200230106999,
          2.775575813292571,
          2.554105714482097,
          2.363417910142409,
          2.224196647064941,
          2.151984272681684,
          2.1107128148091645,
          2.048795734257281,
          1.9971890851943976
         ]
        },
        {
         "customdata": [
          "replicates"
         ],
         "hoverinfo": "skip",
         "marker": {
          "color": "rgba(0.7294117647058823, 0.6901960784313725, 0.6745098039215687, 1.0)"
         },
         "mode": "markers",
         "name": "5.0",
         "showlegend": false,
         "type": "scatter",
         "visible": false,
         "x": [
          0,
          88,
          175,
          262,
          350,
          449,
          539,
          629,
          719,
          809,
          899
         ],
         "y": [
          3.757518263580896,
          3.3825646014061967,
          3.0997851846605,
          2.8579450305171625,
          2.651983112013669,
          2.456198914118458,
          2.311861450351606,
          2.203566185069122,
          2.0952346582871657,
          2.0178327364063806,
          1.935250190737719
         ]
        },
        {
         "customdata": [
          "replicates"
         ],
         "hoverinfo": "skip",
         "marker": {
          "color": "rgba(0.615686274509804, 0.4588235294117647, 0.36470588235294116, 1.0)"
         },
         "mode": "markers",
         "name": "10.0",
         "showlegend": true,
         "type": "scatter",
         "visible": false,
         "x": [
          0,
          88,
          175,
          262,
          350,
          449,
          539,
          629,
          719,
          809,
          899
         ],
         "y": [
          7.814614526148763,
          7.118787108232309,
          6.747468651014332,
          6.385952207050519,
          5.835329807986487,
          5.503518905450905,
          5.2378417421928125,
          5.028221282831489,
          4.823590191914975,
          4.644437526524582,
          4.454945076764582
         ]
        },
        {
         "customdata": [
          "replicates"
         ],
         "hoverinfo": "skip",
         "marker": {
          "color": "rgba(0.615686274509804, 0.4588235294117647, 0.36470588235294116, 1.0)"
         },
         "mode": "markers",
         "name": "10.0",
         "showlegend": false,
         "type": "scatter",
         "visible": false,
         "x": [
          0,
          88,
          175,
          262,
          350,
          449,
          539,
          629,
          719,
          809,
          899
         ],
         "y": [
          7.733418722186945,
          7.088282279466712,
          6.543842662568508,
          6.131141553367712,
          5.876146273278559,
          5.758786087581094,
          5.43711872110488,
          5.048677681140798,
          5.099813352280734,
          4.751940405830573,
          4.577871128438974
         ]
        },
        {
         "customdata": [
          "replicates"
         ],
         "hoverinfo": "skip",
         "marker": {
          "color": "rgba(0.615686274509804, 0.4588235294117647, 0.36470588235294116, 1.0)"
         },
         "mode": "markers",
         "name": "10.0",
         "showlegend": false,
         "type": "scatter",
         "visible": false,
         "x": [
          0,
          88,
          175,
          262,
          350,
          449,
          539,
          629,
          719,
          809,
          899
         ],
         "y": [
          7.900865301689737,
          7.2661906879166756,
          6.727111290167502,
          6.273858182065473,
          5.988367025971992,
          5.901654146633119,
          5.43711872110488,
          5.166278367241303,
          5.161166129133377,
          4.849175763128708,
          4.6137161906655
         ]
        },
        {
         "customdata": [
          "replicates"
         ],
         "hoverinfo": "skip",
         "marker": {
          "color": "rgba(1.0, 0.615686274509804, 0.6509803921568628, 1.0)"
         },
         "mode": "markers",
         "name": "15.0",
         "showlegend": true,
         "type": "scatter",
         "visible": false,
         "x": [
          0,
          88,
          175,
          262,
          350,
          449,
          539,
          629,
          719,
          809,
          899
         ],
         "y": [
          12.549539803140268,
          11.746784347180126,
          11.088328880452744,
          10.584950437711246,
          10.146481493790832,
          9.74789907109388,
          9.424691706937752,
          9.14165906312271,
          8.898890267973494,
          8.65090133359249,
          8.448338912038714
         ]
        },
        {
         "customdata": [
          "replicates"
         ],
         "hoverinfo": "skip",
         "marker": {
          "color": "rgba(1.0, 0.615686274509804, 0.6509803921568628, 1.0)"
         },
         "mode": "markers",
         "name": "15.0",
         "showlegend": false,
         "type": "scatter",
         "visible": false,
         "x": [
          0,
          88,
          175,
          262,
          350,
          449,
          539,
          629,
          719,
          809,
          899
         ],
         "y": [
          12.093168287777962,
          11.183897895895624,
          10.504349664163897,
          9.954809989740996,
          9.510570464288518,
          9.045581844853276,
          8.752141203734961,
          8.397681024007708,
          8.113868453100544,
          7.855205660356146,
          7.616668065377879
         ]
        },
        {
         "customdata": [
          "replicates"
         ],
         "hoverinfo": "skip",
         "marker": {
          "color": "rgba(1.0, 0.615686274509804, 0.6509803921568628, 1.0)"
         },
         "mode": "markers",
         "name": "15.0",
         "showlegend": false,
         "type": "scatter",
         "visible": false,
         "x": [
          0,
          88,
          175,
          262,
          350,
          449,
          539,
          629,
          719,
          809,
          899
         ],
         "y": [
          12.133309473034126,
          11.289499910646114,
          10.584950437711246,
          10.035525426657616,
          9.576229351997693,
          9.318579306608692,
          8.762263679388786,
          8.473665259347554,
          8.174703822186432,
          7.921156647357795,
          7.697889874560596
         ]
        },
        {
         "customdata": [
          "replicates"
         ],
         "hoverinfo": "skip",
         "marker": {
          "color": "rgba(0.6980392156862745, 0.4745098039215686, 0.6352941176470588, 1.0)"
         },
         "mode": "markers",
         "name": "25.0",
         "showlegend": true,
         "type": "scatter",
         "visible": false,
         "x": [
          0,
          88,
          175,
          262,
          350,
          449,
          539,
          629,
          719,
          809,
          899
         ],
         "y": [
          20.66858619580004,
          19.446189019707862,
          18.52738269589156,
          17.76530733588424,
          17.121026607316832,
          16.49570417922088,
          16.00377071081158,
          15.571016329162635,
          15.147798916616358,
          14.77901562620264,
          14.444845071209189
         ]
        },
        {
         "customdata": [
          "replicates"
         ],
         "hoverinfo": "skip",
         "marker": {
          "color": "rgba(0.6980392156862745, 0.4745098039215686, 0.6352941176470588, 1.0)"
         },
         "mode": "markers",
         "name": "25.0",
         "showlegend": false,
         "type": "scatter",
         "visible": false,
         "x": [
          0,
          88,
          175,
          262,
          350,
          449,
          539,
          629,
          719,
          809,
          899
         ],
         "y": [
          20.59965962499317,
          19.372156434565543,
          18.44826327204078,
          17.68605960431258,
          17.071429198456674,
          16.44603841804992,
          15.934160606727104,
          15.506315431183133,
          15.073070884616165,
          14.71419687554864,
          14.369995055981205
         ]
        },
        {
         "customdata": [
          "replicates"
         ],
         "hoverinfo": "skip",
         "marker": {
          "color": "rgba(0.6980392156862745, 0.4745098039215686, 0.6352941176470588, 1.0)"
         },
         "mode": "markers",
         "name": "25.0",
         "showlegend": false,
         "type": "scatter",
         "visible": false,
         "x": [
          0,
          88,
          175,
          262,
          350,
          449,
          539,
          629,
          719,
          809,
          899
         ],
         "y": [
          20.481477842298123,
          19.50540699953644,
          18.581769666214026,
          17.854444931080373,
          17.309447867198994,
          16.619844657091303,
          16.11810654043583,
          15.675513078580805,
          15.272317147385992,
          14.90862392279522,
          14.569566002116778
         ]
        },
        {
         "customdata": [
          "replicates"
         ],
         "hoverinfo": "skip",
         "marker": {
          "color": "rgba(0.9333333333333333, 0.792156862745098, 0.23137254901960785, 1.0)"
         },
         "mode": "markers",
         "name": "50.0",
         "showlegend": true,
         "type": "scatter",
         "visible": false,
         "x": [
          0,
          88,
          175,
          262,
          350,
          449,
          539,
          629,
          719,
          809,
          899
         ],
         "y": [
          42.26619321208598,
          40.59777564024476,
          39.319669692606,
          38.21740678107762,
          37.2675001601044,
          36.35505622882387,
          35.59076345194066,
          34.91723624012725,
          34.272062510794086,
          33.70831776110316,
          33.153816599661205
         ]
        },
        {
         "customdata": [
          "replicates"
         ],
         "hoverinfo": "skip",
         "marker": {
          "color": "rgba(0.9333333333333333, 0.792156862745098, 0.23137254901960785, 1.0)"
         },
         "mode": "markers",
         "name": "50.0",
         "showlegend": false,
         "type": "scatter",
         "visible": false,
         "x": [
          0,
          88,
          175,
          262,
          350,
          449,
          539,
          629,
          719,
          809,
          899
         ],
         "y": [
          42.08942472047216,
          40.55471815541063,
          39.28614036371093,
          38.23658707760429,
          37.30109908955182,
          36.398298152483406,
          35.64846946056242,
          34.974988330024175,
          34.3443088199619,
          33.77579544743913,
          33.22616527969145
         ]
        },
        {
         "customdata": [
          "replicates"
         ],
         "hoverinfo": "skip",
         "marker": {
          "color": "rgba(0.9333333333333333, 0.792156862745098, 0.23137254901960785, 1.0)"
         },
         "mode": "markers",
         "name": "50.0",
         "showlegend": false,
         "type": "scatter",
         "visible": false,
         "x": [
          0,
          88,
          175,
          262,
          350,
          449,
          539,
          629,
          719,
          809,
          899
         ],
         "y": [
          46.98258269556885,
          44.88143147711217,
          43.32150254391284,
          42.15631313092645,
          41.08086193952306,
          39.95652126656552,
          39.12805872147719,
          38.45233938863173,
          37.85290862761729,
          37.373092696114895,
          36.76817119296808
         ]
        },
        {
         "customdata": [
          "replicates"
         ],
         "hoverinfo": "skip",
         "marker": {
          "color": "rgba(0.32941176470588235, 0.6352941176470588, 0.29411764705882354, 1.0)"
         },
         "mode": "markers",
         "name": "75.0",
         "showlegend": true,
         "type": "scatter",
         "visible": false,
         "x": [
          0,
          88,
          175,
          262,
          350,
          449,
          539,
          629,
          719,
          809,
          899
         ],
         "y": [
          64.33798186605122,
          62.38621643577556,
          60.76272538849871,
          59.405322772067706,
          58.290051975585165,
          57.18901367020973,
          56.26351841762059,
          55.40913469666743,
          54.6353489948211,
          53.899435628284586,
          53.23463467472956
         ]
        },
        {
         "customdata": [
          "replicates"
         ],
         "hoverinfo": "skip",
         "marker": {
          "color": "rgba(0.32941176470588235, 0.6352941176470588, 0.29411764705882354, 1.0)"
         },
         "mode": "markers",
         "name": "75.0",
         "showlegend": false,
         "type": "scatter",
         "visible": false,
         "x": [
          0,
          88,
          175,
          262,
          350,
          449,
          539,
          629,
          719,
          809,
          899
         ],
         "y": [
          64.59449564100417,
          62.8325237493924,
          61.29909614914261,
          60.02230444386344,
          58.87853150606615,
          57.75377522970496,
          56.82357007802056,
          55.99771999500696,
          55.24299277767636,
          54.48817517564876,
          53.83296028833824
         ]
        },
        {
         "customdata": [
          "replicates"
         ],
         "hoverinfo": "skip",
         "marker": {
          "color": "rgba(0.32941176470588235, 0.6352941176470588, 0.29411764705882354, 1.0)"
         },
         "mode": "markers",
         "name": "75.0",
         "showlegend": false,
         "type": "scatter",
         "visible": false,
         "x": [
          0,
          88,
          175,
          262,
          350,
          449,
          539,
          629,
          719,
          809,
          899
         ],
         "y": [
          64.64200044212612,
          62.92748840157299,
          61.50795957095352,
          60.197912202650535,
          59.082602554097136,
          57.89140432714823,
          56.95645974150827,
          56.14960578868031,
          55.41388154659737,
          54.6828235372392,
          53.99439866515274
         ]
        },
        {
         "customdata": [
          "replicates"
         ],
         "hoverinfo": "skip",
         "marker": {
          "color": "rgba(0.4470588235294118, 0.7176470588235294, 0.6980392156862745, 1.0)"
         },
         "mode": "markers",
         "name": "100.0",
         "showlegend": true,
         "type": "scatter",
         "visible": false,
         "x": [
          0,
          88,
          175,
          262,
          350,
          449,
          539,
          629,
          719,
          809,
          899
         ],
         "y": [
          86.91347080608217,
          84.11340807380235,
          82.36810330351003,
          80.84284370013255,
          79.52184360237744,
          78.26504796299207,
          77.15350321313339,
          76.15795460591613,
          75.42144768957714,
          74.48475410408186,
          73.64903009437585
         ]
        },
        {
         "customdata": [
          "replicates"
         ],
         "hoverinfo": "skip",
         "marker": {
          "color": "rgba(0.4470588235294118, 0.7176470588235294, 0.6980392156862745, 1.0)"
         },
         "mode": "markers",
         "name": "100.0",
         "showlegend": false,
         "type": "scatter",
         "visible": false,
         "x": [
          0,
          88,
          175,
          262,
          350,
          449,
          539,
          629,
          719,
          809,
          899
         ],
         "y": [
          87.51460529694592,
          85.3935965557842,
          83.72254335827205,
          82.30549808276193,
          80.99668843330603,
          79.69466447731443,
          78.68699348076952,
          77.74745271894837,
          76.842294540881,
          75.99530755588276,
          75.1967644551259
         ]
        },
        {
         "customdata": [
          "replicates"
         ],
         "hoverinfo": "skip",
         "marker": {
          "color": "rgba(0.4470588235294118, 0.7176470588235294, 0.6980392156862745, 1.0)"
         },
         "mode": "markers",
         "name": "100.0",
         "showlegend": false,
         "type": "scatter",
         "visible": false,
         "x": [
          0,
          88,
          175,
          262,
          350,
          449,
          539,
          629,
          719,
          809,
          899
         ],
         "y": [
          86.4436004389591,
          84.76530112243607,
          83.00406306894942,
          81.58828660485108,
          80.31901348426497,
          78.99877640851179,
          77.96787710185576,
          77.02900868307023,
          76.143602433084,
          75.27802782966319,
          74.51341749590193
         ]
        },
        {
         "customdata": [
          "replicates"
         ],
         "hoverinfo": "skip",
         "marker": {
          "color": "rgba(0.8941176470588236, 0.3411764705882353, 0.33725490196078434, 1.0)"
         },
         "mode": "markers",
         "name": "150.0",
         "showlegend": true,
         "type": "scatter",
         "visible": false,
         "x": [
          0,
          88,
          175,
          262,
          350,
          449,
          539,
          629,
          719,
          809,
          899
         ],
         "y": [
          132.70487573858807,
          130.75989708284925,
          128.76022202122812,
          126.20133466758232,
          124.70170482426464,
          123.06716838310034,
          121.88599137208897,
          120.4414761957512,
          119.20833682727368,
          117.88649205438404,
          117.00154281227806
         ]
        },
        {
         "customdata": [
          "replicates"
         ],
         "hoverinfo": "skip",
         "marker": {
          "color": "rgba(0.8941176470588236, 0.3411764705882353, 0.33725490196078434, 1.0)"
         },
         "mode": "markers",
         "name": "150.0",
         "showlegend": false,
         "type": "scatter",
         "visible": false,
         "x": [
          0,
          88,
          175,
          262,
          350,
          449,
          539,
          629,
          719,
          809,
          899
         ],
         "y": [
          130.79272843238314,
          129.2490768704999,
          127.1969635156574,
          124.99559746566104,
          123.4336771122488,
          122.02344786005804,
          120.57823217832834,
          119.28165462004628,
          118.27773362592472,
          117.08472298940852,
          116.01548349279246
         ]
        },
        {
         "customdata": [
          "replicates"
         ],
         "hoverinfo": "skip",
         "marker": {
          "color": "rgba(0.8941176470588236, 0.3411764705882353, 0.33725490196078434, 1.0)"
         },
         "mode": "markers",
         "name": "150.0",
         "showlegend": false,
         "type": "scatter",
         "visible": false,
         "x": [
          0,
          88,
          175,
          262,
          350,
          449,
          539,
          629,
          719,
          809,
          899
         ],
         "y": [
          132.34101232486202,
          130.13150500270447,
          127.75839182918122,
          125.75053833515248,
          124.27480594390636,
          122.65344569431124,
          121.2999155896422,
          120.17866665802116,
          119.11933262788988,
          118.08987419196689,
          117.00674091400536
         ]
        },
        {
         "customdata": [
          "mean"
         ],
         "hoverinfo": "skip",
         "marker": {
          "color": "rgba(0.7294117647058823, 0.6901960784313725, 0.6745098039215687, 1.0)"
         },
         "mode": "markers",
         "name": "5.0",
         "type": "scatter",
         "visible": true,
         "x": [
          0,
          88,
          175,
          262,
          350,
          449,
          539,
          629,
          719,
          809,
          899
         ],
         "y": [
          3.723277381932835,
          3.3671381841724926,
          3.0997819478990465,
          2.8459298227887033,
          2.6348082254156964,
          2.4390144143518944,
          2.2981069100617115,
          2.2052824166112073,
          2.141662209320162,
          2.0728709144484485,
          1.9903047804372218
         ]
        },
        {
         "customdata": [
          "std"
         ],
         "line": {
          "width": 0
         },
         "mode": "lines",
         "name": "5.0",
         "showlegend": false,
         "type": "scatter",
         "x": [
          0,
          88,
          175,
          262,
          350,
          449,
          539,
          629,
          719,
          809,
          899
         ],
         "y": [
          3.826760121457568,
          3.441382139081084,
          3.145979405673635,
          2.899150957878151,
          2.6949293006288846,
          2.4950563651386686,
          2.35369655336939,
          2.2495174672142806,
          2.196739652426019,
          2.130222865285271,
          2.0327263859796623
         ]
        },
        {
         "customdata": [
          "std"
         ],
         "fill": "tonexty",
         "fillcolor": "rgba(0.7294117647058823, 0.6901960784313725, 0.6745098039215687, 0.25)",
         "line": {
          "width": 0
         },
         "mode": "lines",
         "name": "5.0",
         "showlegend": false,
         "type": "scatter",
         "x": [
          0,
          88,
          175,
          262,
          350,
          449,
          539,
          629,
          719,
          809,
          899
         ],
         "y": [
          3.619794642408102,
          3.292894229263901,
          3.0535844901244578,
          2.7927086876992555,
          2.574687150202508,
          2.38297246356512,
          2.242517266754033,
          2.161047366008134,
          2.0865847662143047,
          2.015518963611626,
          1.9478831748947811
         ]
        },
        {
         "customdata": [
          "mean"
         ],
         "hoverinfo": "skip",
         "marker": {
          "color": "rgba(0.615686274509804, 0.4588235294117647, 0.36470588235294116, 1.0)"
         },
         "mode": "markers",
         "name": "10.0",
         "type": "scatter",
         "visible": true,
         "x": [
          0,
          88,
          175,
          262,
          350,
          449,
          539,
          629,
          719,
          809,
          899
         ],
         "y": [
          7.816299516675149,
          7.157753358538566,
          6.672807534583447,
          6.2636506474945675,
          5.899947702412347,
          5.721319713221706,
          5.370693061467524,
          5.081059110404531,
          5.028189891109695,
          4.748517898494621,
          4.5488441319563515
         ]
        },
        {
         "customdata": [
          "std"
         ],
         "line": {
          "width": 0
         },
         "mode": "lines",
         "name": "10.0",
         "showlegend": false,
         "type": "scatter",
         "x": [
          0,
          88,
          175,
          262,
          350,
          449,
          539,
          629,
          719,
          809,
          899
         ],
         "y": [
          7.88466967898592,
          7.23543487477204,
          6.764377395693365,
          6.367926763740737,
          5.964652048190117,
          5.886002670189598,
          5.464633130216251,
          5.1418941735386925,
          5.175015907173629,
          4.832136961509741,
          4.616834285880461
         ]
        },
        {
         "customdata": [
          "std"
         ],
         "fill": "tonexty",
         "fillcolor": "rgba(0.615686274509804, 0.4588235294117647, 0.36470588235294116, 0.25)",
         "line": {
          "width": 0
         },
         "mode": "lines",
         "name": "10.0",
         "showlegend": false,
         "type": "scatter",
         "x": [
          0,
          88,
          175,
          262,
          350,
          449,
          539,
          629,
          719,
          809,
          899
         ],
         "y": [
          7.747929354364378,
          7.080071842305093,
          6.58123767347353,
          6.159374531248398,
          5.835243356634577,
          5.5566367562538135,
          5.276752992718796,
          5.020224047270369,
          4.881363875045761,
          4.6648988354795,
          4.480853978032242
         ]
        },
        {
         "customdata": [
          "mean"
         ],
         "hoverinfo": "skip",
         "marker": {
          "color": "rgba(1.0, 0.615686274509804, 0.6509803921568628, 1.0)"
         },
         "mode": "markers",
         "name": "15.0",
         "type": "scatter",
         "visible": true,
         "x": [
          0,
          88,
          175,
          262,
          350,
          449,
          539,
          629,
          719,
          809,
          899
         ],
         "y": [
          12.258672521317452,
          11.406727384573955,
          10.725876327442629,
          10.191761951369953,
          9.744427103359014,
          9.37068674085195,
          8.979698863353834,
          8.671001782159324,
          8.39582084775349,
          8.14242121376881,
          7.92096561732573
         ]
        },
        {
         "customdata": [
          "std"
         ],
         "line": {
          "width": 0
         },
         "mode": "lines",
         "name": "15.0",
         "showlegend": false,
         "type": "scatter",
         "x": [
          0,
          88,
          175,
          262,
          350,
          449,
          539,
          629,
          719,
          809,
          899
         ],
         "y": [
          12.464998574632244,
          11.651018194528733,
          10.984272678115738,
          10.471734134253275,
          10.029983369890296,
          9.659764308407944,
          9.294383455984844,
          9.00524930331486,
          8.752410590271248,
          8.502977642420923,
          8.295346163075683
         ]
        },
        {
         "customdata": [
          "std"
         ],
         "fill": "tonexty",
         "fillcolor": "rgba(1.0, 0.615686274509804, 0.6509803921568628, 0.25)",
         "line": {
          "width": 0
         },
         "mode": "lines",
         "name": "15.0",
         "showlegend": false,
         "type": "scatter",
         "x": [
          0,
          88,
          175,
          262,
          350,
          449,
          539,
          629,
          719,
          809,
          899
         ],
         "y": [
          12.05234646800266,
          11.162436574619177,
          10.46747997676952,
          9.911789768486631,
          9.458870836827732,
          9.081609173295956,
          8.665014270722823,
          8.336754261003788,
          8.03923110523573,
          7.781864785116696,
          7.546585071575776
         ]
        },
        {
         "customdata": [
          "mean"
         ],
         "hoverinfo": "skip",
         "marker": {
          "color": "rgba(0.6980392156862745, 0.4745098039215686, 0.6352941176470588, 1.0)"
         },
         "mode": "markers",
         "name": "25.0",
         "type": "scatter",
         "visible": true,
         "x": [
          0,
          88,
          175,
          262,
          350,
          449,
          539,
          629,
          719,
          809,
          899
         ],
         "y": [
          20.583241221030445,
          19.441250817936616,
          18.519138544715457,
          17.7686039570924,
          17.167301224324166,
          16.52052908478737,
          16.018679285991507,
          15.584281612975524,
          15.164395649539506,
          14.8006121415155,
          14.461468709769058
         ]
        },
        {
         "customdata": [
          "std"
         ],
         "line": {
          "width": 0
         },
         "mode": "lines",
         "name": "25.0",
         "showlegend": false,
         "type": "scatter",
         "x": [
          0,
          88,
          175,
          262,
          350,
          449,
          539,
          629,
          719,
          809,
          899
         ],
         "y": [
          20.660505084852467,
          19.495762086764362,
          18.57395316467976,
          17.837386490491593,
          17.269833257698615,
          16.593624269921623,
          16.094511231073664,
          15.65399022931145,
          15.246579820621807,
          14.881442318555598,
          14.543786790628566
         ]
        },
        {
         "customdata": [
          "std"
         ],
         "fill": "tonexty",
         "fillcolor": "rgba(0.6980392156862745, 0.4745098039215686, 0.6352941176470588, 0.25)",
         "line": {
          "width": 0
         },
         "mode": "lines",
         "name": "25.0",
         "showlegend": false,
         "type": "scatter",
         "x": [
          0,
          88,
          175,
          262,
          350,
          449,
          539,
          629,
          719,
          809,
          899
         ],
         "y": [
          20.505977357208423,
          19.38673954910887,
          18.464323924751152,
          17.699821423693205,
          17.06476919094972,
          16.447433899653117,
          15.94284734090935,
          15.514572996639597,
          15.082211478457204,
          14.719781964475404,
          14.37915062890955
         ]
        },
        {
         "customdata": [
          "mean"
         ],
         "hoverinfo": "skip",
         "marker": {
          "color": "rgba(0.9333333333333333, 0.792156862745098, 0.23137254901960785, 1.0)"
         },
         "mode": "markers",
         "name": "50.0",
         "type": "scatter",
         "visible": true,
         "x": [
          0,
          88,
          175,
          262,
          350,
          449,
          539,
          629,
          719,
          809,
          899
         ],
         "y": [
          43.779400209375666,
          42.01130842425586,
          40.642437533409925,
          39.53676899653612,
          38.549820396393095,
          37.56995854929093,
          36.789097211326755,
          36.11485465292772,
          35.489759986124426,
          34.95240196821906,
          34.38271769077358
         ]
        },
        {
         "customdata": [
          "std"
         ],
         "line": {
          "width": 0
         },
         "mode": "lines",
         "name": "50.0",
         "showlegend": false,
         "type": "scatter",
         "x": [
          0,
          88,
          175,
          262,
          350,
          449,
          539,
          629,
          719,
          809,
          899
         ],
         "y": [
          46.045541614907386,
          44.04086802191131,
          42.53687202279364,
          41.38908296829465,
          40.3395895978643,
          39.25760556384586,
          38.44316053243061,
          37.76787411101218,
          37.16101869512976,
          36.664310456744644,
          36.06974661588118
         ]
        },
        {
         "customdata": [
          "std"
         ],
         "fill": "tonexty",
         "fillcolor": "rgba(0.9333333333333333, 0.792156862745098, 0.23137254901960785, 0.25)",
         "line": {
          "width": 0
         },
         "mode": "lines",
         "name": "50.0",
         "showlegend": false,
         "type": "scatter",
         "x": [
          0,
          88,
          175,
          262,
          350,
          449,
          539,
          629,
          719,
          809,
          899
         ],
         "y": [
          41.51325880384395,
          39.98174882660041,
          38.74800304402621,
          37.684455024777584,
          36.76005119492189,
          35.882311534736004,
          35.1350338902229,
          34.46183519484325,
          33.81850127711909,
          33.24049347969347,
          32.695688765665984
         ]
        },
        {
         "customdata": [
          "mean"
         ],
         "hoverinfo": "skip",
         "marker": {
          "color": "rgba(0.32941176470588235, 0.6352941176470588, 0.29411764705882354, 1.0)"
         },
         "mode": "markers",
         "name": "75.0",
         "type": "scatter",
         "visible": true,
         "x": [
          0,
          88,
          175,
          262,
          350,
          449,
          539,
          629,
          719,
          809,
          899
         ],
         "y": [
          64.52482598306051,
          62.71540952891365,
          61.18992703619828,
          59.8751798061939,
          58.75039534524948,
          57.611397742354306,
          56.68118274571648,
          55.85215349345157,
          55.09740777303161,
          54.35681144705751,
          53.68733120940684
         ]
        },
        {
         "customdata": [
          "std"
         ],
         "line": {
          "width": 0
         },
         "mode": "lines",
         "name": "75.0",
         "showlegend": false,
         "type": "scatter",
         "x": [
          0,
          88,
          175,
          262,
          350,
          449,
          539,
          629,
          719,
          809,
          899
         ],
         "y": [
          64.65836054682121,
          62.95139065911734,
          61.503808030728116,
          60.21506581220665,
          59.08639957305675,
          57.91530745528107,
          56.98145765740942,
          56.17149298292736,
          55.43149805895931,
          54.68984445429665,
          54.01415042728195
         ]
        },
        {
         "customdata": [
          "std"
         ],
         "fill": "tonexty",
         "fillcolor": "rgba(0.32941176470588235, 0.6352941176470588, 0.29411764705882354, 0.25)",
         "line": {
          "width": 0
         },
         "mode": "lines",
         "name": "75.0",
         "showlegend": false,
         "type": "scatter",
         "x": [
          0,
          88,
          175,
          262,
          350,
          449,
          539,
          629,
          719,
          809,
          899
         ],
         "y": [
          64.3912914192998,
          62.47942839870997,
          60.87604604166844,
          59.535293800181144,
          58.41439111744221,
          57.307488029427546,
          56.38090783402353,
          55.53281400397577,
          54.76331748710391,
          54.02377843981837,
          53.36051199153174
         ]
        },
        {
         "customdata": [
          "mean"
         ],
         "hoverinfo": "skip",
         "marker": {
          "color": "rgba(0.4470588235294118, 0.7176470588235294, 0.6980392156862745, 1.0)"
         },
         "mode": "markers",
         "name": "100.0",
         "type": "scatter",
         "visible": true,
         "x": [
          0,
          88,
          175,
          262,
          350,
          449,
          539,
          629,
          719,
          809,
          899
         ],
         "y": [
          86.95722551399574,
          84.75743525067422,
          83.03156991024383,
          81.57887612924851,
          80.27918183998281,
          78.9861629496061,
          77.93612459858622,
          76.97813866931158,
          76.13578155451405,
          75.25269649654261,
          74.45307068180124
         ]
        },
        {
         "customdata": [
          "std"
         ],
         "line": {
          "width": 0
         },
         "mode": "lines",
         "name": "100.0",
         "showlegend": false,
         "type": "scatter",
         "x": [
          0,
          88,
          175,
          262,
          350,
          449,
          539,
          629,
          719,
          809,
          899
         ],
         "y": [
          87.39555469570456,
          85.28009960524203,
          83.58485972894914,
          82.17603935570313,
          80.88194311873467,
          79.56986959340072,
          78.56257186496576,
          77.62804475563385,
          76.71586621403726,
          75.8696374391593,
          75.08636982982986
         ]
        },
        {
         "customdata": [
          "std"
         ],
         "fill": "tonexty",
         "fillcolor": "rgba(0.4470588235294118, 0.7176470588235294, 0.6980392156862745, 0.25)",
         "line": {
          "width": 0
         },
         "mode": "lines",
         "name": "100.0",
         "showlegend": false,
         "type": "scatter",
         "x": [
          0,
          88,
          175,
          262,
          350,
          449,
          539,
          629,
          719,
          809,
          899
         ],
         "y": [
          86.51889633228691,
          84.23477089610641,
          82.47828009153852,
          80.9817129027939,
          79.67642056123096,
          78.40245630581147,
          77.30967733220668,
          76.3282325829893,
          75.55569689499085,
          74.63575555392592,
          73.81977153377261
         ]
        },
        {
         "customdata": [
          "mean"
         ],
         "hoverinfo": "skip",
         "marker": {
          "color": "rgba(0.8941176470588236, 0.3411764705882353, 0.33725490196078434, 1.0)"
         },
         "mode": "markers",
         "name": "150.0",
         "type": "scatter",
         "visible": true,
         "x": [
          0,
          88,
          175,
          262,
          350,
          449,
          539,
          629,
          719,
          809,
          899
         ],
         "y": [
          131.94620549861108,
          130.04682631868454,
          127.90519245535558,
          125.64915682279862,
          124.13672929347327,
          122.58135397915653,
          121.2547130466865,
          119.96726582460622,
          118.8684676936961,
          117.68702974525314,
          116.67458907302529
         ]
        },
        {
         "customdata": [
          "std"
         ],
         "line": {
          "width": 0
         },
         "mode": "lines",
         "name": "150.0",
         "showlegend": false,
         "type": "scatter",
         "x": [
          0,
          88,
          175,
          262,
          350,
          449,
          539,
          629,
          719,
          809,
          899
         ],
         "y": [
          132.7752536084726,
          130.66651564308097,
          128.55177686938242,
          126.14658970491077,
          124.66352618074333,
          123.01048957862783,
          121.78955942938819,
          120.4637966267015,
          119.28775716490208,
          118.1209430580811,
          117.14065192964868
         ]
        },
        {
         "customdata": [
          "std"
         ],
         "fill": "tonexty",
         "fillcolor": "rgba(0.8941176470588236, 0.3411764705882353, 0.33725490196078434, 0.25)",
         "line": {
          "width": 0
         },
         "mode": "lines",
         "name": "150.0",
         "showlegend": false,
         "type": "scatter",
         "x": [
          0,
          88,
          175,
          262,
          350,
          449,
          539,
          629,
          719,
          809,
          899
         ],
         "y": [
          131.11715738874955,
          129.4271369942881,
          127.25860804132871,
          125.15172394068647,
          123.6099324062032,
          122.15221837968524,
          120.71986666398482,
          119.47073502251094,
          118.44917822249013,
          117.25311643242519,
          116.20852621640189
         ]
        },
        {
         "customdata": [
          "competitive product inhibition with enzyme inactivation"
         ],
         "hoverinfo": "name",
         "marker": {
          "color": "rgba(0.7294117647058823, 0.6901960784313725, 0.6745098039215687, 1.0)"
         },
         "mode": "lines",
         "name": "competitive product inhibition with enzyme inactivation",
         "showlegend": false,
         "type": "scatter",
         "visible": false,
         "x": [
          0,
          88,
          175,
          262,
          350,
          449,
          539,
          629,
          719,
          809,
          899
         ],
         "y": [
          3.723277381932835,
          3.4217487702914444,
          3.17138388367421,
          2.958503150267119,
          2.7738358995491206,
          2.595906437462131,
          2.456562336456175,
          2.3348484583519618,
          2.227938643126909,
          2.1335656006814956,
          2.049889503317754
         ]
        },
        {
         "customdata": [
          "competitive product inhibition with enzyme inactivation"
         ],
         "hoverinfo": "name",
         "marker": {
          "color": "rgba(0.615686274509804, 0.4588235294117647, 0.36470588235294116, 1.0)"
         },
         "mode": "lines",
         "name": "competitive product inhibition with enzyme inactivation",
         "showlegend": false,
         "type": "scatter",
         "visible": false,
         "x": [
          0,
          88,
          175,
          262,
          350,
          449,
          539,
          629,
          719,
          809,
          899
         ],
         "y": [
          7.816299516675149,
          7.271841452851195,
          6.82027031659578,
          6.435838524222937,
          6.101462758129113,
          5.778048600314066,
          5.523627962310996,
          5.30037689657941,
          5.103354053186436,
          4.928611124990179,
          4.772950177312092
         ]
        },
        {
         "customdata": [
          "competitive product inhibition with enzyme inactivation"
         ],
         "hoverinfo": "name",
         "marker": {
          "color": "rgba(1.0, 0.615686274509804, 0.6509803921568628, 1.0)"
         },
         "mode": "lines",
         "name": "competitive product inhibition with enzyme inactivation",
         "showlegend": false,
         "type": "scatter",
         "visible": false,
         "x": [
          0,
          88,
          175,
          262,
          350,
          449,
          539,
          629,
          719,
          809,
          899
         ],
         "y": [
          12.258672521317452,
          11.491417450474245,
          10.856467939987969,
          10.316096299185359,
          9.845703983944325,
          9.389991999559065,
          9.030736498373019,
          8.71477921185734,
          8.435274983257457,
          8.186774259197348,
          7.964872659158806
         ]
        },
        {
         "customdata": [
          "competitive product inhibition with enzyme inactivation"
         ],
         "hoverinfo": "name",
         "marker": {
          "color": "rgba(0.6980392156862745, 0.4745098039215686, 0.6352941176470588, 1.0)"
         },
         "mode": "lines",
         "name": "competitive product inhibition with enzyme inactivation",
         "showlegend": false,
         "type": "scatter",
         "visible": false,
         "x": [
          0,
          88,
          175,
          262,
          350,
          449,
          539,
          629,
          719,
          809,
          899
         ],
         "y": [
          20.583241221030445,
          19.54001165319578,
          18.67024417658866,
          17.924808633898117,
          17.27156406655454,
          16.634476035588413,
          16.129052600742334,
          15.68205294884385,
          15.284559182832323,
          14.929436096472834,
          14.610886531953303
         ]
        },
        {
         "customdata": [
          "competitive product inhibition with enzyme inactivation"
         ],
         "hoverinfo": "name",
         "marker": {
          "color": "rgba(0.9333333333333333, 0.792156862745098, 0.23137254901960785, 1.0)"
         },
         "mode": "lines",
         "name": "competitive product inhibition with enzyme inactivation",
         "showlegend": false,
         "type": "scatter",
         "visible": false,
         "x": [
          0,
          88,
          175,
          262,
          350,
          449,
          539,
          629,
          719,
          809,
          899
         ],
         "y": [
          43.779400209375666,
          42.12751973447959,
          40.74465318454914,
          39.55384529264491,
          38.50509509889435,
          37.47683486876561,
          36.65678142455279,
          35.928036481806835,
          35.277037512311075,
          34.692914218146385,
          34.16681100094765
         ]
        },
        {
         "customdata": [
          "competitive product inhibition with enzyme inactivation"
         ],
         "hoverinfo": "name",
         "marker": {
          "color": "rgba(0.32941176470588235, 0.6352941176470588, 0.29411764705882354, 1.0)"
         },
         "mode": "lines",
         "name": "competitive product inhibition with enzyme inactivation",
         "showlegend": false,
         "type": "scatter",
         "visible": false,
         "x": [
          0,
          88,
          175,
          262,
          350,
          449,
          539,
          629,
          719,
          809,
          899
         ],
         "y": [
          64.52482598306051,
          62.715843856189835,
          61.17074063810272,
          59.819465745604205,
          58.61438222252026,
          57.41981155686538,
          56.45820072692252,
          55.59719922315001,
          54.82301756322956,
          54.1243858022384,
          53.49196638479643
         ]
        },
        {
         "customdata": [
          "competitive product inhibition with enzyme inactivation"
         ],
         "hoverinfo": "name",
         "marker": {
          "color": "rgba(0.4470588235294118, 0.7176470588235294, 0.6980392156862745, 1.0)"
         },
         "mode": "lines",
         "name": "competitive product inhibition with enzyme inactivation",
         "showlegend": false,
         "type": "scatter",
         "visible": false,
         "x": [
          0,
          88,
          175,
          262,
          350,
          449,
          539,
          629,
          719,
          809,
          899
         ],
         "y": [
          86.95722551399574,
          84.93728245958366,
          83.19780790001101,
          81.6665211268795,
          80.29339778059536,
          78.92554579405153,
          77.81974395498433,
          76.82616481146114,
          75.93002368337173,
          75.11913069970922,
          74.38330731638744
         ]
        },
        {
         "customdata": [
          "competitive product inhibition with enzyme inactivation"
         ],
         "hoverinfo": "name",
         "marker": {
          "color": "rgba(0.8941176470588236, 0.3411764705882353, 0.33725490196078434, 1.0)"
         },
         "mode": "lines",
         "name": "competitive product inhibition with enzyme inactivation",
         "showlegend": false,
         "type": "scatter",
         "visible": false,
         "x": [
          0,
          88,
          175,
          262,
          350,
          449,
          539,
          629,
          719,
          809,
          899
         ],
         "y": [
          131.94620549861108,
          129.6552812374171,
          127.65783316119405,
          125.88180877990926,
          124.27591249411243,
          122.66421712813076,
          121.35287871587695,
          120.16840620449159,
          119.09516965586656,
          118.12008719635845,
          117.23209058234893
         ]
        },
        {
         "customdata": [
          "non-competitive product inhibition with enzyme inactivation"
         ],
         "hoverinfo": "name",
         "marker": {
          "color": "rgba(0.7294117647058823, 0.6901960784313725, 0.6745098039215687, 1.0)"
         },
         "mode": "lines",
         "name": "non-competitive product inhibition with enzyme inactivation",
         "showlegend": false,
         "type": "scatter",
         "visible": false,
         "x": [
          0,
          88,
          175,
          262,
          350,
          449,
          539,
          629,
          719,
          809,
          899
         ],
         "y": [
          3.723277381932835,
          3.4227861974324534,
          3.17309035301124,
          2.960605748737807,
          2.7761271533770304,
          2.598218607927108,
          2.4587628250337117,
          2.336845680568364,
          2.229665185029118,
          2.1349725688242067,
          2.0509422219407134
         ]
        },
        {
         "customdata": [
          "non-competitive product inhibition with enzyme inactivation"
         ],
         "hoverinfo": "name",
         "marker": {
          "color": "rgba(0.615686274509804, 0.4588235294117647, 0.36470588235294116, 1.0)"
         },
         "mode": "lines",
         "name": "non-competitive product inhibition with enzyme inactivation",
         "showlegend": false,
         "type": "scatter",
         "visible": false,
         "x": [
          0,
          88,
          175,
          262,
          350,
          449,
          539,
          629,
          719,
          809,
          899
         ],
         "y": [
          7.816299516675149,
          7.273435725922016,
          6.823045786829832,
          6.4394310616234804,
          6.105563904482094,
          5.782408180902531,
          5.527991124530297,
          5.3045694878686245,
          5.107238709097414,
          4.932080532434547,
          4.775921425811376
         ]
        },
        {
         "customdata": [
          "non-competitive product inhibition with enzyme inactivation"
         ],
         "hoverinfo": "name",
         "marker": {
          "color": "rgba(1.0, 0.615686274509804, 0.6509803921568628, 1.0)"
         },
         "mode": "lines",
         "name": "non-competitive product inhibition with enzyme inactivation",
         "showlegend": false,
         "type": "scatter",
         "visible": false,
         "x": [
          0,
          88,
          175,
          262,
          350,
          449,
          539,
          629,
          719,
          809,
          899
         ],
         "y": [
          12.258672521317452,
          11.492857295284667,
          10.85919001986638,
          10.319812835156647,
          9.850107980601688,
          9.39481338596378,
          9.03565298400187,
          8.719563707792487,
          8.439739801237456,
          8.190766465836322,
          7.968269178995106
         ]
        },
        {
         "customdata": [
          "non-competitive product inhibition with enzyme inactivation"
         ],
         "hoverinfo": "name",
         "marker": {
          "color": "rgba(0.6980392156862745, 0.4745098039215686, 0.6352941176470588, 1.0)"
         },
         "mode": "lines",
         "name": "non-competitive product inhibition with enzyme inactivation",
         "showlegend": false,
         "type": "scatter",
         "visible": false,
         "x": [
          0,
          88,
          175,
          262,
          350,
          449,
          539,
          629,
          719,
          809,
          899
         ],
         "y": [
          20.583241221030445,
          19.541434617622283,
          18.67321782251749,
          17.929123014729615,
          17.27690021910622,
          16.640534075936245,
          16.13539826880298,
          15.688375480657252,
          15.290590755213566,
          14.93495022741653,
          14.61569443301753
         ]
        },
        {
         "customdata": [
          "non-competitive product inhibition with enzyme inactivation"
         ],
         "hoverinfo": "name",
         "marker": {
          "color": "rgba(0.9333333333333333, 0.792156862745098, 0.23137254901960785, 1.0)"
         },
         "mode": "lines",
         "name": "non-competitive product inhibition with enzyme inactivation",
         "showlegend": false,
         "type": "scatter",
         "visible": false,
         "x": [
          0,
          88,
          175,
          262,
          350,
          449,
          539,
          629,
          719,
          809,
          899
         ],
         "y": [
          43.779400209375666,
          42.12396653323821,
          40.74009487197749,
          39.549259570189385,
          38.500766064177,
          37.47272412304159,
          36.65263533389589,
          35.92357226370629,
          35.27196367819995,
          34.68695410988337,
          34.159713830199124
         ]
        },
        {
         "customdata": [
          "non-competitive product inhibition with enzyme inactivation"
         ],
         "hoverinfo": "name",
         "marker": {
          "color": "rgba(0.32941176470588235, 0.6352941176470588, 0.29411764705882354, 1.0)"
         },
         "mode": "lines",
         "name": "non-competitive product inhibition with enzyme inactivation",
         "showlegend": false,
         "type": "scatter",
         "visible": false,
         "x": [
          0,
          88,
          175,
          262,
          350,
          449,
          539,
          629,
          719,
          809,
          899
         ],
         "y": [
          64.52482598306051,
          62.71445863647161,
          61.16961450325854,
          59.819145829530505,
          58.61490350087583,
          57.42099533879974,
          56.459601166292835,
          55.59841303789486,
          54.82364849697671,
          54.12406493778953,
          53.49036146155145
         ]
        },
        {
         "customdata": [
          "non-competitive product inhibition with enzyme inactivation"
         ],
         "hoverinfo": "name",
         "marker": {
          "color": "rgba(0.4470588235294118, 0.7176470588235294, 0.6980392156862745, 1.0)"
         },
         "mode": "lines",
         "name": "non-competitive product inhibition with enzyme inactivation",
         "showlegend": false,
         "type": "scatter",
         "visible": false,
         "x": [
          0,
          88,
          175,
          262,
          350,
          449,
          539,
          629,
          719,
          809,
          899
         ],
         "y": [
          86.95722551399574,
          84.93516884075612,
          83.19554300828025,
          81.66484854589564,
          80.29246309106107,
          78.92521846058638,
          77.81959421824104,
          76.82577320356556,
          75.92896278873684,
          75.11699245651229,
          74.37971714242343
         ]
        },
        {
         "customdata": [
          "non-competitive product inhibition with enzyme inactivation"
         ],
         "hoverinfo": "name",
         "marker": {
          "color": "rgba(0.8941176470588236, 0.3411764705882353, 0.33725490196078434, 1.0)"
         },
         "mode": "lines",
         "name": "non-competitive product inhibition with enzyme inactivation",
         "showlegend": false,
         "type": "scatter",
         "visible": false,
         "x": [
          0,
          88,
          175,
          262,
          350,
          449,
          539,
          629,
          719,
          809,
          899
         ],
         "y": [
          131.94620549861108,
          129.65404434912364,
          127.6572173802063,
          125.88251787222046,
          124.27805363258072,
          122.66766607670746,
          121.35704798251126,
          120.1727743455647,
          119.09920152646123,
          118.12326631014679,
          117.23393674982078
         ]
        },
        {
         "customdata": [
          "competitive product inhibition"
         ],
         "hoverinfo": "name",
         "marker": {
          "color": "rgba(0.7294117647058823, 0.6901960784313725, 0.6745098039215687, 1.0)"
         },
         "mode": "lines",
         "name": "competitive product inhibition",
         "showlegend": false,
         "type": "scatter",
         "visible": false,
         "x": [
          0,
          88,
          175,
          262,
          350,
          449,
          539,
          629,
          719,
          809,
          899
         ],
         "y": [
          3.723277381932835,
          3.4240559301941422,
          3.1663721905192577,
          2.9386533193187616,
          2.7331116997075773,
          2.5264745154375663,
          2.3575812761201282,
          2.204046199245862,
          2.063808086877075,
          1.9351976138886444,
          1.816841225046999
         ]
        },
        {
         "customdata": [
          "competitive product inhibition"
         ],
         "hoverinfo": "name",
         "marker": {
          "color": "rgba(0.615686274509804, 0.4588235294117647, 0.36470588235294116, 1.0)"
         },
         "mode": "lines",
         "name": "competitive product inhibition",
         "showlegend": false,
         "type": "scatter",
         "visible": false,
         "x": [
          0,
          88,
          175,
          262,
          350,
          449,
          539,
          629,
          719,
          809,
          899
         ],
         "y": [
          7.816299516675149,
          7.303734810589417,
          6.864501433009964,
          6.4762468907144095,
          6.12457510905961,
          5.76885621612861,
          5.475800121498333,
          5.207061668058306,
          4.959238031488137,
          4.729625525687324,
          4.516034328389073
         ]
        },
        {
         "customdata": [
          "competitive product inhibition"
         ],
         "hoverinfo": "name",
         "marker": {
          "color": "rgba(1.0, 0.615686274509804, 0.6509803921568628, 1.0)"
         },
         "mode": "lines",
         "name": "competitive product inhibition",
         "showlegend": false,
         "type": "scatter",
         "visible": false,
         "x": [
          0,
          88,
          175,
          262,
          350,
          449,
          539,
          629,
          719,
          809,
          899
         ],
         "y": [
          12.258672521317452,
          11.544380617108938,
          10.937809104624558,
          10.403801024113877,
          9.920678450877435,
          9.431634460325716,
          9.027893307381001,
          8.656584973553619,
          8.312974092701285,
          7.993351460613466,
          7.6947479865573
         ]
        },
        {
         "customdata": [
          "competitive product inhibition"
         ],
         "hoverinfo": "name",
         "marker": {
          "color": "rgba(0.6980392156862745, 0.4745098039215686, 0.6352941176470588, 1.0)"
         },
         "mode": "lines",
         "name": "competitive product inhibition",
         "showlegend": false,
         "type": "scatter",
         "visible": false,
         "x": [
          0,
          88,
          175,
          262,
          350,
          449,
          539,
          629,
          719,
          809,
          899
         ],
         "y": [
          20.583241221030445,
          19.654241606846092,
          18.855362374575382,
          18.14444722446814,
          17.494994436558233,
          16.831280793406517,
          16.278348516385282,
          15.765656983661646,
          15.287469494449324,
          14.839277093549143,
          14.417459963294393
         ]
        },
        {
         "customdata": [
          "competitive product inhibition"
         ],
         "hoverinfo": "name",
         "marker": {
          "color": "rgba(0.9333333333333333, 0.792156862745098, 0.23137254901960785, 1.0)"
         },
         "mode": "lines",
         "name": "competitive product inhibition",
         "showlegend": false,
         "type": "scatter",
         "visible": false,
         "x": [
          0,
          88,
          175,
          262,
          350,
          449,
          539,
          629,
          719,
          809,
          899
         ],
         "y": [
          43.779400209375666,
          42.25494766453234,
          40.959904728346174,
          39.813659263775875,
          38.76841846304259,
          37.69980314410569,
          36.80786333754674,
          35.978569979330615,
          35.20249332094549,
          34.472341844780125,
          33.782339867194935
         ]
        },
        {
         "customdata": [
          "competitive product inhibition"
         ],
         "hoverinfo": "name",
         "marker": {
          "color": "rgba(0.32941176470588235, 0.6352941176470588, 0.29411764705882354, 1.0)"
         },
         "mode": "lines",
         "name": "competitive product inhibition",
         "showlegend": false,
         "type": "scatter",
         "visible": false,
         "x": [
          0,
          88,
          175,
          262,
          350,
          449,
          539,
          629,
          719,
          809,
          899
         ],
         "y": [
          64.52482598306051,
          62.942051164002336,
          61.54402977802747,
          60.27294976685169,
          59.0902344362778,
          57.860571506823185,
          56.819936274365496,
          55.841715526771694,
          54.91757381167754,
          54.04087239119915,
          53.20622191915582
         ]
        },
        {
         "customdata": [
          "competitive product inhibition"
         ],
         "hoverinfo": "name",
         "marker": {
          "color": "rgba(0.4470588235294118, 0.7176470588235294, 0.6980392156862745, 1.0)"
         },
         "mode": "lines",
         "name": "competitive product inhibition",
         "showlegend": false,
         "type": "scatter",
         "visible": false,
         "x": [
          0,
          88,
          175,
          262,
          350,
          449,
          539,
          629,
          719,
          809,
          899
         ],
         "y": [
          86.95722551399574,
          85.17356762544274,
          83.58446368326864,
          82.1301028371579,
          80.76956840305586,
          79.34824242529159,
          78.1403804232797,
          77.00099295959619,
          75.92120803213034,
          74.89391179929324,
          73.91329670352182
         ]
        },
        {
         "customdata": [
          "competitive product inhibition"
         ],
         "hoverinfo": "name",
         "marker": {
          "color": "rgba(0.8941176470588236, 0.3411764705882353, 0.33725490196078434, 1.0)"
         },
         "mode": "lines",
         "name": "competitive product inhibition",
         "showlegend": false,
         "type": "scatter",
         "visible": false,
         "x": [
          0,
          88,
          175,
          262,
          350,
          449,
          539,
          629,
          719,
          809,
          899
         ],
         "y": [
          131.94620549861108,
          129.89240222382534,
          128.03558259161701,
          126.31709031502146,
          124.6948813149198,
          122.98666726786213,
          121.5250791731628,
          120.13860023238806,
          118.81811723032226,
          117.55621847727213,
          116.34677977793498
         ]
        },
        {
         "customdata": [
          "irreversible Michaelis Menten with enzyme inactivation"
         ],
         "hoverinfo": "name",
         "marker": {
          "color": "rgba(0.7294117647058823, 0.6901960784313725, 0.6745098039215687, 1.0)"
         },
         "mode": "lines",
         "name": "irreversible Michaelis Menten with enzyme inactivation",
         "showlegend": false,
         "type": "scatter",
         "visible": false,
         "x": [
          0,
          88,
          175,
          262,
          350,
          449,
          539,
          629,
          719,
          809,
          899
         ],
         "y": [
          3.723277381932835,
          3.460695465264556,
          3.24246382963977,
          3.057733198566548,
          2.898845770360657,
          2.7476546696602586,
          2.6310609418705178,
          2.5309077162768476,
          2.4445380619503028,
          2.369790282406471,
          2.3048933364691364
         ]
        },
        {
         "customdata": [
          "irreversible Michaelis Menten with enzyme inactivation"
         ],
         "hoverinfo": "name",
         "marker": {
          "color": "rgba(0.615686274509804, 0.4588235294117647, 0.36470588235294116, 1.0)"
         },
         "mode": "lines",
         "name": "irreversible Michaelis Menten with enzyme inactivation",
         "showlegend": false,
         "type": "scatter",
         "visible": false,
         "x": [
          0,
          88,
          175,
          262,
          350,
          449,
          539,
          629,
          719,
          809,
          899
         ],
         "y": [
          7.816299516675149,
          7.314656696071631,
          6.89315569653702,
          6.532976033372719,
          6.2206171855848735,
          5.921116456894487,
          5.688597241567148,
          5.487759147977572,
          5.313724804936242,
          5.162472551915732,
          5.030667867359807
         ]
        },
        {
         "customdata": [
          "irreversible Michaelis Menten with enzyme inactivation"
         ],
         "hoverinfo": "name",
         "marker": {
          "color": "rgba(1.0, 0.615686274509804, 0.6509803921568628, 1.0)"
         },
         "mode": "lines",
         "name": "irreversible Michaelis Menten with enzyme inactivation",
         "showlegend": false,
         "type": "scatter",
         "visible": false,
         "x": [
          0,
          88,
          175,
          262,
          350,
          449,
          539,
          629,
          719,
          809,
          899
         ],
         "y": [
          12.258672521317452,
          11.542257447874006,
          10.934847076373437,
          10.411668599707106,
          9.954734466560232,
          9.513694741912278,
          9.16925615402076,
          8.87027358866572,
          8.610060293907104,
          8.383037403520353,
          8.184529801962617
         ]
        },
        {
         "customdata": [
          "irreversible Michaelis Menten with enzyme inactivation"
         ],
         "hoverinfo": "name",
         "marker": {
          "color": "rgba(0.6980392156862745, 0.4745098039215686, 0.6352941176470588, 1.0)"
         },
         "mode": "lines",
         "name": "irreversible Michaelis Menten with enzyme inactivation",
         "showlegend": false,
         "type": "scatter",
         "visible": false,
         "x": [
          0,
          88,
          175,
          262,
          350,
          449,
          539,
          629,
          719,
          809,
          899
         ],
         "y": [
          20.583241221030445,
          19.553767412316272,
          18.670668759611797,
          17.90200470851525,
          17.224250100594276,
          16.564105064909793,
          16.04428989916801,
          15.589922254588881,
          15.192005908389117,
          14.842912021022855,
          14.536151332005653
         ]
        },
        {
         "customdata": [
          "irreversible Michaelis Menten with enzyme inactivation"
         ],
         "hoverinfo": "name",
         "marker": {
          "color": "rgba(0.9333333333333333, 0.792156862745098, 0.23137254901960785, 1.0)"
         },
         "mode": "lines",
         "name": "irreversible Michaelis Menten with enzyme inactivation",
         "showlegend": false,
         "type": "scatter",
         "visible": false,
         "x": [
          0,
          88,
          175,
          262,
          350,
          449,
          539,
          629,
          719,
          809,
          899
         ],
         "y": [
          43.779400209375666,
          42.22079859235016,
          40.862689052065875,
          39.66345462756677,
          38.59191498949113,
          37.53464850376584,
          36.692152068939116,
          35.94814725169809,
          35.290504553515305,
          34.70869147022037,
          34.19354734611063
         ]
        },
        {
         "customdata": [
          "irreversible Michaelis Menten with enzyme inactivation"
         ],
         "hoverinfo": "name",
         "marker": {
          "color": "rgba(0.32941176470588235, 0.6352941176470588, 0.29411764705882354, 1.0)"
         },
         "mode": "lines",
         "name": "irreversible Michaelis Menten with enzyme inactivation",
         "showlegend": false,
         "type": "scatter",
         "visible": false,
         "x": [
          0,
          88,
          175,
          262,
          350,
          449,
          539,
          629,
          719,
          809,
          899
         ],
         "y": [
          64.52482598306051,
          62.700333844077406,
          61.10118151451429,
          59.68140731937193,
          58.406361643187694,
          57.142020579067264,
          56.12983466637902,
          55.232378147642734,
          54.436179117269575,
          53.729428335781904,
          53.10176033557247
         ]
        },
        {
         "customdata": [
          "irreversible Michaelis Menten with enzyme inactivation"
         ],
         "hoverinfo": "name",
         "marker": {
          "color": "rgba(0.4470588235294118, 0.7176470588235294, 0.6980392156862745, 1.0)"
         },
         "mode": "lines",
         "name": "irreversible Michaelis Menten with enzyme inactivation",
         "showlegend": false,
         "type": "scatter",
         "visible": false,
         "x": [
          0,
          88,
          175,
          262,
          350,
          449,
          539,
          629,
          719,
          809,
          899
         ],
         "y": [
          86.95722551399574,
          84.94678720866314,
          83.17884804374171,
          81.6044292700889,
          80.18647729618858,
          78.77649660971974,
          77.6447774048979,
          76.63906839963923,
          75.74498848945386,
          74.94986004753892,
          74.24249567015414
         ]
        },
        {
         "customdata": [
          "irreversible Michaelis Menten with enzyme inactivation"
         ],
         "hoverinfo": "name",
         "marker": {
          "color": "rgba(0.8941176470588236, 0.3411764705882353, 0.33725490196078434, 1.0)"
         },
         "mode": "lines",
         "name": "irreversible Michaelis Menten with enzyme inactivation",
         "showlegend": false,
         "type": "scatter",
         "visible": false,
         "x": [
          0,
          88,
          175,
          262,
          350,
          449,
          539,
          629,
          719,
          809,
          899
         ],
         "y": [
          131.94620549861108,
          129.71351316458876,
          127.74413240979663,
          125.9853786489241,
          124.39725834608304,
          122.8140095583391,
          121.54018552728739,
          120.40585505777031,
          119.39553060868387,
          118.49548184794341,
          117.69353182268992
         ]
        },
        {
         "customdata": [
          "substrate inhibition with enzyme inactivation"
         ],
         "hoverinfo": "name",
         "marker": {
          "color": "rgba(0.7294117647058823, 0.6901960784313725, 0.6745098039215687, 1.0)"
         },
         "mode": "lines",
         "name": "substrate inhibition with enzyme inactivation",
         "showlegend": false,
         "type": "scatter",
         "visible": false,
         "x": [
          0,
          88,
          175,
          262,
          350,
          449,
          539,
          629,
          719,
          809,
          899
         ],
         "y": [
          3.723277381932835,
          3.4759027138018554,
          3.269787375660963,
          3.0948931739796386,
          2.944124032075994,
          2.800335976138258,
          2.6892194068068522,
          2.5935989590587267,
          2.511003845758186,
          2.439418030916512,
          2.377185071511909
         ]
        },
        {
         "customdata": [
          "substrate inhibition with enzyme inactivation"
         ],
         "hoverinfo": "name",
         "marker": {
          "color": "rgba(0.615686274509804, 0.4588235294117647, 0.36470588235294116, 1.0)"
         },
         "mode": "lines",
         "name": "substrate inhibition with enzyme inactivation",
         "showlegend": false,
         "type": "scatter",
         "visible": false,
         "x": [
          0,
          88,
          175,
          262,
          350,
          449,
          539,
          629,
          719,
          809,
          899
         ],
         "y": [
          7.816299516675149,
          7.3367346281956785,
          6.933551436857175,
          6.588789955272583,
          6.289580032654608,
          6.00245327888899,
          5.77935809645245,
          5.586515959457661,
          5.419292928960591,
          5.2738659092126685,
          5.147062579469477
         ]
        },
        {
         "customdata": [
          "substrate inhibition with enzyme inactivation"
         ],
         "hoverinfo": "name",
         "marker": {
          "color": "rgba(1.0, 0.615686274509804, 0.6509803921568628, 1.0)"
         },
         "mode": "lines",
         "name": "substrate inhibition with enzyme inactivation",
         "showlegend": false,
         "type": "scatter",
         "visible": false,
         "x": [
          0,
          88,
          175,
          262,
          350,
          449,
          539,
          629,
          719,
          809,
          899
         ],
         "y": [
          12.258672521317452,
          11.564919661130503,
          10.977097018604727,
          10.471012182036379,
          10.029136789599404,
          9.602712981634113,
          9.269723388881163,
          8.980690414717088,
          8.729137728030029,
          8.509667578364947,
          8.317759811336208
         ]
        },
        {
         "customdata": [
          "substrate inhibition with enzyme inactivation"
         ],
         "hoverinfo": "name",
         "marker": {
          "color": "rgba(0.6980392156862745, 0.4745098039215686, 0.6352941176470588, 1.0)"
         },
         "mode": "lines",
         "name": "substrate inhibition with enzyme inactivation",
         "showlegend": false,
         "type": "scatter",
         "visible": false,
         "x": [
          0,
          88,
          175,
          262,
          350,
          449,
          539,
          629,
          719,
          809,
          899
         ],
         "y": [
          20.583241221030445,
          19.568519696443076,
          18.699420285081885,
          17.94395863846158,
          17.278633908250704,
          16.631309835454296,
          16.122089611964146,
          15.67734715274269,
          15.288143522921203,
          14.946916070016652,
          14.647244910161875
         ]
        },
        {
         "customdata": [
          "substrate inhibition with enzyme inactivation"
         ],
         "hoverinfo": "name",
         "marker": {
          "color": "rgba(0.9333333333333333, 0.792156862745098, 0.23137254901960785, 1.0)"
         },
         "mode": "lines",
         "name": "substrate inhibition with enzyme inactivation",
         "showlegend": false,
         "type": "scatter",
         "visible": false,
         "x": [
          0,
          88,
          175,
          262,
          350,
          449,
          539,
          629,
          719,
          809,
          899
         ],
         "y": [
          43.779400209375666,
          42.207219117380305,
          40.838902417994674,
          39.63202880691096,
          38.5548432286203,
          37.493182419960725,
          36.64808221210796,
          35.902486478601205,
          35.244026676299015,
          34.66198077480194,
          34.14703864908128
         ]
        },
        {
         "customdata": [
          "substrate inhibition with enzyme inactivation"
         ],
         "hoverinfo": "name",
         "marker": {
          "color": "rgba(0.32941176470588235, 0.6352941176470588, 0.29411764705882354, 1.0)"
         },
         "mode": "lines",
         "name": "substrate inhibition with enzyme inactivation",
         "showlegend": false,
         "type": "scatter",
         "visible": false,
         "x": [
          0,
          88,
          175,
          262,
          350,
          449,
          539,
          629,
          719,
          809,
          899
         ],
         "y": [
          64.52482598306051,
          62.67729957467018,
          61.05862571905425,
          59.62216752096674,
          58.332759324390416,
          57.054854599799974,
          56.03237005565219,
          55.126254987995736,
          54.32279079963682,
          53.60995568210906,
          52.977202133262665
         ]
        },
        {
         "customdata": [
          "substrate inhibition with enzyme inactivation"
         ],
         "hoverinfo": "name",
         "marker": {
          "color": "rgba(0.4470588235294118, 0.7176470588235294, 0.6980392156862745, 1.0)"
         },
         "mode": "lines",
         "name": "substrate inhibition with enzyme inactivation",
         "showlegend": false,
         "type": "scatter",
         "visible": false,
         "x": [
          0,
          88,
          175,
          262,
          350,
          449,
          539,
          629,
          719,
          809,
          899
         ],
         "y": [
          86.95722551399574,
          84.9301455757903,
          83.14718734146172,
          81.55920052500906,
          80.12896431853663,
          78.70679965516277,
          77.56539340867025,
          76.55120052816055,
          75.64972141037103,
          74.8481633847312,
          74.13523011791041
         ]
        },
        {
         "customdata": [
          "substrate inhibition with enzyme inactivation"
         ],
         "hoverinfo": "name",
         "marker": {
          "color": "rgba(0.8941176470588236, 0.3411764705882353, 0.33725490196078434, 1.0)"
         },
         "mode": "lines",
         "name": "substrate inhibition with enzyme inactivation",
         "showlegend": false,
         "type": "scatter",
         "visible": false,
         "x": [
          0,
          88,
          175,
          262,
          350,
          449,
          539,
          629,
          719,
          809,
          899
         ],
         "y": [
          131.94620549861108,
          129.7418757483798,
          127.79575479544827,
          126.05645953270704,
          124.48491432256183,
          122.91732281808812,
          121.65552649095076,
          120.53152777087654,
          119.53014602269842,
          118.63789334687614,
          117.84278526231576
         ]
        },
        {
         "customdata": [
          "uncompetitive product inhibition"
         ],
         "hoverinfo": "name",
         "marker": {
          "color": "rgba(0.7294117647058823, 0.6901960784313725, 0.6745098039215687, 1.0)"
         },
         "mode": "lines",
         "name": "uncompetitive product inhibition",
         "showlegend": false,
         "type": "scatter",
         "visible": false,
         "x": [
          0,
          88,
          175,
          262,
          350,
          449,
          539,
          629,
          719,
          809,
          899
         ],
         "y": [
          3.723277381932835,
          3.5482541790301703,
          3.3827796849422898,
          3.224537769040525,
          3.0715533231371737,
          2.9076083963580026,
          2.7657568896179545,
          2.63046336421503,
          2.50145680268175,
          2.3784746237074,
          2.2612626735094032
         ]
        },
        {
         "customdata": [
          "uncompetitive product inhibition"
         ],
         "hoverinfo": "name",
         "marker": {
          "color": "rgba(0.615686274509804, 0.4588235294117647, 0.36470588235294116, 1.0)"
         },
         "mode": "lines",
         "name": "uncompetitive product inhibition",
         "showlegend": false,
         "type": "scatter",
         "visible": false,
         "x": [
          0,
          88,
          175,
          262,
          350,
          449,
          539,
          629,
          719,
          809,
          899
         ],
         "y": [
          7.816299516675149,
          7.475752148405041,
          7.151835300291151,
          6.840252822327793,
          6.537279484983884,
          6.210643339666411,
          5.92634607901378,
          5.653701465198328,
          5.39233637752742,
          5.14188230923571,
          4.9019759990670355
         ]
        },
        {
         "customdata": [
          "uncompetitive product inhibition"
         ],
         "hoverinfo": "name",
         "marker": {
          "color": "rgba(1.0, 0.615686274509804, 0.6509803921568628, 1.0)"
         },
         "mode": "lines",
         "name": "uncompetitive product inhibition",
         "showlegend": false,
         "type": "scatter",
         "visible": false,
         "x": [
          0,
          88,
          175,
          262,
          350,
          449,
          539,
          629,
          719,
          809,
          899
         ],
         "y": [
          12.258672521317452,
          11.764236446508674,
          11.291549947329353,
          10.834572619804648,
          10.387986549606726,
          9.9039571111207,
          9.48042024688805,
          9.072204883430466,
          8.67893903587277,
          8.300249803925473,
          7.935763955286019
         ]
        },
        {
         "customdata": [
          "uncompetitive product inhibition"
         ],
         "hoverinfo": "name",
         "marker": {
          "color": "rgba(0.6980392156862745, 0.4745098039215686, 0.6352941176470588, 1.0)"
         },
         "mode": "lines",
         "name": "uncompetitive product inhibition",
         "showlegend": false,
         "type": "scatter",
         "visible": false,
         "x": [
          0,
          88,
          175,
          262,
          350,
          449,
          539,
          629,
          719,
          809,
          899
         ],
         "y": [
          20.583241221030445,
          19.85723846220625,
          19.158426096522298,
          18.478195178315875,
          17.808793667614058,
          17.077813565058147,
          16.43328918951953,
          15.807525893523849,
          15.200241352055551,
          14.611150252405126,
          14.039964231489575
         ]
        },
        {
         "customdata": [
          "uncompetitive product inhibition"
         ],
         "hoverinfo": "name",
         "marker": {
          "color": "rgba(0.9333333333333333, 0.792156862745098, 0.23137254901960785, 1.0)"
         },
         "mode": "lines",
         "name": "uncompetitive product inhibition",
         "showlegend": false,
         "type": "scatter",
         "visible": false,
         "x": [
          0,
          88,
          175,
          262,
          350,
          449,
          539,
          629,
          719,
          809,
          899
         ],
         "y": [
          43.779400209375666,
          42.63966109498981,
          41.53291028811672,
          40.445804687361374,
          39.365923385111614,
          38.17444862946439,
          37.11250743079119,
          36.070525055003664,
          35.04827480052882,
          34.045541756512286,
          33.062122466667496
         ]
        },
        {
         "customdata": [
          "uncompetitive product inhibition"
         ],
         "hoverinfo": "name",
         "marker": {
          "color": "rgba(0.32941176470588235, 0.6352941176470588, 0.29411764705882354, 1.0)"
         },
         "mode": "lines",
         "name": "uncompetitive product inhibition",
         "showlegend": false,
         "type": "scatter",
         "visible": false,
         "x": [
          0,
          88,
          175,
          262,
          350,
          449,
          539,
          629,
          719,
          809,
          899
         ],
         "y": [
          64.52482598306051,
          63.189000884965694,
          61.88754320137638,
          60.60479664687591,
          59.325989537235834,
          57.90937669387266,
          56.64143968267734,
          55.39212162099379,
          54.16112601795365,
          52.948173722038895,
          51.753002423841885
         ]
        },
        {
         "customdata": [
          "uncompetitive product inhibition"
         ],
         "hoverinfo": "name",
         "marker": {
          "color": "rgba(0.4470588235294118, 0.7176470588235294, 0.6980392156862745, 1.0)"
         },
         "mode": "lines",
         "name": "uncompetitive product inhibition",
         "showlegend": false,
         "type": "scatter",
         "visible": false,
         "x": [
          0,
          88,
          175,
          262,
          350,
          449,
          539,
          629,
          719,
          809,
          899
         ],
         "y": [
          86.95722551399574,
          85.48589658329172,
          84.05026340730416,
          82.63304220317573,
          81.21782368555868,
          79.64717318382141,
          78.23858025231601,
          76.84792779766666,
          75.47483871974403,
          74.11895586378515,
          72.77994149189172
         ]
        },
        {
         "customdata": [
          "uncompetitive product inhibition"
         ],
         "hoverinfo": "name",
         "marker": {
          "color": "rgba(0.8941176470588236, 0.3411764705882353, 0.33725490196078434, 1.0)"
         },
         "mode": "lines",
         "name": "uncompetitive product inhibition",
         "showlegend": false,
         "type": "scatter",
         "visible": false,
         "x": [
          0,
          88,
          175,
          262,
          350,
          449,
          539,
          629,
          719,
          809,
          899
         ],
         "y": [
          131.94620549861108,
          130.3361674969066,
          128.76328050821576,
          127.20859766933312,
          125.65404059188855,
          123.92617410302766,
          122.37414235190414,
          120.83947472195278,
          119.32171388636122,
          117.82042480736447,
          116.33519360153085
         ]
        },
        {
         "customdata": [
          "irreversible Michaelis Menten"
         ],
         "hoverinfo": "name",
         "marker": {
          "color": "rgba(0.7294117647058823, 0.6901960784313725, 0.6745098039215687, 1.0)"
         },
         "mode": "lines",
         "name": "irreversible Michaelis Menten",
         "showlegend": false,
         "type": "scatter",
         "visible": false,
         "x": [
          0,
          88,
          175,
          262,
          350,
          449,
          539,
          629,
          719,
          809,
          899
         ],
         "y": [
          3.723277381932835,
          3.5370156788807883,
          3.3612389283091932,
          3.1934759491997786,
          3.0316304190256367,
          2.8586077788103337,
          2.709289306522271,
          2.5672438875544343,
          2.432167767675519,
          2.303765177347386,
          2.1817485225790905
         ]
        },
        {
         "customdata": [
          "irreversible Michaelis Menten"
         ],
         "hoverinfo": "name",
         "marker": {
          "color": "rgba(0.615686274509804, 0.4588235294117647, 0.36470588235294116, 1.0)"
         },
         "mode": "lines",
         "name": "irreversible Michaelis Menten",
         "showlegend": false,
         "type": "scatter",
         "visible": false,
         "x": [
          0,
          88,
          175,
          262,
          350,
          449,
          539,
          629,
          719,
          809,
          899
         ],
         "y": [
          7.816299516675149,
          7.460797458281262,
          7.122573228505122,
          6.797215487633615,
          6.480898837993035,
          6.140011336611561,
          5.843493209547351,
          5.55935384692009,
          5.287237971279242,
          5.026787735125098,
          4.777643958562631
         ]
        },
        {
         "customdata": [
          "irreversible Michaelis Menten"
         ],
         "hoverinfo": "name",
         "marker": {
          "color": "rgba(1.0, 0.615686274509804, 0.6509803921568628, 1.0)"
         },
         "mode": "lines",
         "name": "irreversible Michaelis Menten",
         "showlegend": false,
         "type": "scatter",
         "visible": false,
         "x": [
          0,
          88,
          175,
          262,
          350,
          449,
          539,
          629,
          719,
          809,
          899
         ],
         "y": [
          12.258672521317452,
          11.751327164705492,
          11.265413599974194,
          10.794903058580076,
          10.334461530600816,
          9.834809555914504,
          9.397176170138096,
          8.975083114534668,
          8.568259419586315,
          8.17642078572412,
          7.799270629583448
         ]
        },
        {
         "customdata": [
          "irreversible Michaelis Menten"
         ],
         "hoverinfo": "name",
         "marker": {
          "color": "rgba(0.6980392156862745, 0.4745098039215686, 0.6352941176470588, 1.0)"
         },
         "mode": "lines",
         "name": "irreversible Michaelis Menten",
         "showlegend": false,
         "type": "scatter",
         "visible": false,
         "x": [
          0,
          88,
          175,
          262,
          350,
          449,
          539,
          629,
          719,
          809,
          899
         ],
         "y": [
          20.583241221030445,
          19.85477602243478,
          19.151046529957124,
          18.463718926727736,
          17.7852009159081,
          17.04196633726714,
          16.384755972649298,
          15.745096579727136,
          15.122942878703277,
          14.518231189445451,
          13.930879105918935
         ]
        },
        {
         "customdata": [
          "irreversible Michaelis Menten"
         ],
         "hoverinfo": "name",
         "marker": {
          "color": "rgba(0.9333333333333333, 0.792156862745098, 0.23137254901960785, 1.0)"
         },
         "mode": "lines",
         "name": "irreversible Michaelis Menten",
         "showlegend": false,
         "type": "scatter",
         "visible": false,
         "x": [
          0,
          88,
          175,
          262,
          350,
          449,
          539,
          629,
          719,
          809,
          899
         ],
         "y": [
          43.779400209375666,
          42.677277930280255,
          41.60023114462312,
          40.535866988765605,
          39.4723772312837,
          38.291968278338885,
          37.23382464048156,
          36.19015171568026,
          35.16116748107405,
          34.14708707347435,
          33.14812235884314
         ]
        },
        {
         "customdata": [
          "irreversible Michaelis Menten"
         ],
         "hoverinfo": "name",
         "marker": {
          "color": "rgba(0.32941176470588235, 0.6352941176470588, 0.29411764705882354, 1.0)"
         },
         "mode": "lines",
         "name": "irreversible Michaelis Menten",
         "showlegend": false,
         "type": "scatter",
         "visible": false,
         "x": [
          0,
          88,
          175,
          262,
          350,
          449,
          539,
          629,
          719,
          809,
          899
         ],
         "y": [
          64.52482598306051,
          63.234726424704206,
          61.96851661905223,
          60.71165551840267,
          59.45003609862149,
          58.04258825155587,
          56.77421456418799,
          55.51664414377076,
          54.270081812778734,
          53.03473507262355,
          51.81081402670834
         ]
        },
        {
         "customdata": [
          "irreversible Michaelis Menten"
         ],
         "hoverinfo": "name",
         "marker": {
          "color": "rgba(0.4470588235294118, 0.7176470588235294, 0.6980392156862745, 1.0)"
         },
         "mode": "lines",
         "name": "irreversible Michaelis Menten",
         "showlegend": false,
         "type": "scatter",
         "visible": false,
         "x": [
          0,
          88,
          175,
          262,
          350,
          449,
          539,
          629,
          719,
          809,
          899
         ],
         "y": [
          86.95722551399574,
          85.5354956679489,
          84.13669750584924,
          82.7447619482014,
          81.34393879643181,
          79.77672947245436,
          78.36016175823,
          76.95152887133713,
          75.55098476119771,
          74.1586865791873,
          72.77479469664056
         ]
        },
        {
         "customdata": [
          "irreversible Michaelis Menten"
         ],
         "hoverinfo": "name",
         "marker": {
          "color": "rgba(0.8941176470588236, 0.3411764705882353, 0.33725490196078434, 1.0)"
         },
         "mode": "lines",
         "name": "irreversible Michaelis Menten",
         "showlegend": false,
         "type": "scatter",
         "visible": false,
         "x": [
          0,
          88,
          175,
          262,
          350,
          449,
          539,
          629,
          719,
          809,
          899
         ],
         "y": [
          131.94620549861108,
          130.36689287043194,
          128.80953811657795,
          127.25623835345196,
          125.68927766408892,
          123.93157540421264,
          122.33845984123329,
          120.74999335355994,
          119.16625707557391,
          117.58733382369898,
          116.0133083327924
         ]
        },
        {
         "customdata": [
          "substrate inhibition"
         ],
         "hoverinfo": "name",
         "marker": {
          "color": "rgba(0.7294117647058823, 0.6901960784313725, 0.6745098039215687, 1.0)"
         },
         "mode": "lines",
         "name": "substrate inhibition",
         "showlegend": false,
         "type": "scatter",
         "visible": false,
         "x": [
          0,
          88,
          175,
          262,
          350,
          449,
          539,
          629,
          719,
          809,
          899
         ],
         "y": [
          3.723277381932835,
          3.5481900594384927,
          3.382602183901068,
          3.224207735054046,
          3.0710384249392697,
          2.9068587920526854,
          2.764777285899426,
          2.6292443527569036,
          2.4999941757970476,
          2.376768556862172,
          2.2593169226811334
         ]
        },
        {
         "customdata": [
          "substrate inhibition"
         ],
         "hoverinfo": "name",
         "marker": {
          "color": "rgba(0.615686274509804, 0.4588235294117647, 0.36470588235294116, 1.0)"
         },
         "mode": "lines",
         "name": "substrate inhibition",
         "showlegend": false,
         "type": "scatter",
         "visible": false,
         "x": [
          0,
          88,
          175,
          262,
          350,
          449,
          539,
          629,
          719,
          809,
          899
         ],
         "y": [
          7.816299516675149,
          7.477086908516309,
          7.154138707065327,
          6.843225945790451,
          6.540671373777052,
          6.2142462084238685,
          5.929943456591048,
          5.657140546067793,
          5.395494018311732,
          5.144661630680797,
          4.90430252821461
         ]
        },
        {
         "customdata": [
          "substrate inhibition"
         ],
         "hoverinfo": "name",
         "marker": {
          "color": "rgba(1.0, 0.615686274509804, 0.6509803921568628, 1.0)"
         },
         "mode": "lines",
         "name": "substrate inhibition",
         "showlegend": false,
         "type": "scatter",
         "visible": false,
         "x": [
          0,
          88,
          175,
          262,
          350,
          449,
          539,
          629,
          719,
          809,
          899
         ],
         "y": [
          12.258672521317452,
          11.768198304168143,
          11.298544842365722,
          10.843833210407382,
          10.398861398119921,
          9.915951144416956,
          9.492889823273536,
          9.084718433832034,
          8.69113812715395,
          8.31184116206319,
          7.946511965101399
         ]
        },
        {
         "customdata": [
          "substrate inhibition"
         ],
         "hoverinfo": "name",
         "marker": {
          "color": "rgba(0.6980392156862745, 0.4745098039215686, 0.6352941176470588, 1.0)"
         },
         "mode": "lines",
         "name": "substrate inhibition",
         "showlegend": false,
         "type": "scatter",
         "visible": false,
         "x": [
          0,
          88,
          175,
          262,
          350,
          449,
          539,
          629,
          719,
          809,
          899
         ],
         "y": [
          20.583241221030445,
          19.866249413952872,
          19.174220613986094,
          18.498895836533396,
          17.832770164420147,
          17.103708416517378,
          16.459528440597325,
          15.83297458515231,
          15.22394013629715,
          14.632300766623784,
          14.05791471104511
         ]
        },
        {
         "customdata": [
          "substrate inhibition"
         ],
         "hoverinfo": "name",
         "marker": {
          "color": "rgba(0.9333333333333333, 0.792156862745098, 0.23137254901960785, 1.0)"
         },
         "mode": "lines",
         "name": "substrate inhibition",
         "showlegend": false,
         "type": "scatter",
         "visible": false,
         "x": [
          0,
          88,
          175,
          262,
          350,
          449,
          539,
          629,
          719,
          809,
          899
         ],
         "y": [
          43.779400209375666,
          42.66900198576061,
          41.58455025514715,
          40.51357470615383,
          39.444223442002105,
          38.258232704131345,
          37.19596000734658,
          36.14906900257351,
          35.11778434723096,
          34.102324395727656,
          33.10290070694055
         ]
        },
        {
         "customdata": [
          "substrate inhibition"
         ],
         "hoverinfo": "name",
         "marker": {
          "color": "rgba(0.32941176470588235, 0.6352941176470588, 0.29411764705882354, 1.0)"
         },
         "mode": "lines",
         "name": "substrate inhibition",
         "showlegend": false,
         "type": "scatter",
         "visible": false,
         "x": [
          0,
          88,
          175,
          262,
          350,
          449,
          539,
          629,
          719,
          809,
          899
         ],
         "y": [
          64.52482598306051,
          63.21985396666604,
          61.93912319278228,
          60.66796731109614,
          59.392163724141895,
          57.96914487138944,
          56.687021488015375,
          55.416135896559226,
          54.156738466460176,
          52.909081196043076,
          51.673417398887175
         ]
        },
        {
         "customdata": [
          "substrate inhibition"
         ],
         "hoverinfo": "name",
         "marker": {
          "color": "rgba(0.4470588235294118, 0.7176470588235294, 0.6980392156862745, 1.0)"
         },
         "mode": "lines",
         "name": "substrate inhibition",
         "showlegend": false,
         "type": "scatter",
         "visible": false,
         "x": [
          0,
          88,
          175,
          262,
          350,
          449,
          539,
          629,
          719,
          809,
          899
         ],
         "y": [
          86.95722551399574,
          85.52514265123067,
          84.11558983211492,
          82.7124243841873,
          81.29980145696375,
          79.71884172248282,
          78.28938762734259,
          76.86755021122264,
          75.45353185222577,
          74.04753854695332,
          72.64977986150184
         ]
        },
        {
         "customdata": [
          "substrate inhibition"
         ],
         "hoverinfo": "name",
         "marker": {
          "color": "rgba(0.8941176470588236, 0.3411764705882353, 0.33725490196078434, 1.0)"
         },
         "mode": "lines",
         "name": "substrate inhibition",
         "showlegend": false,
         "type": "scatter",
         "visible": false,
         "x": [
          0,
          88,
          175,
          262,
          350,
          449,
          539,
          629,
          719,
          809,
          899
         ],
         "y": [
          131.94620549861108,
          130.38825164619544,
          128.8505554273996,
          127.3154858781153,
          125.76553397835576,
          124.0252749848379,
          122.44648988552642,
          120.87092651325277,
          119.29869269681828,
          117.72989879519261,
          116.16465780044855
         ]
        },
        {
         "customdata": [
          "uncompetitive product inhibition with enzyme inactivation"
         ],
         "hoverinfo": "name",
         "marker": {
          "color": "rgba(0.7294117647058823, 0.6901960784313725, 0.6745098039215687, 1.0)"
         },
         "mode": "lines",
         "name": "uncompetitive product inhibition with enzyme inactivation",
         "showlegend": false,
         "type": "scatter",
         "visible": false,
         "x": [
          0,
          88,
          175,
          262,
          350,
          449,
          539,
          629,
          719,
          809,
          899
         ],
         "y": [
          3.723277381932835,
          2.7518019981671,
          2.7518019993150884,
          2.7518019994042535,
          2.751801999407408,
          2.7518019994084755,
          2.7518019994084857,
          2.751801999408496,
          2.7518019994085057,
          2.751801999408516,
          2.751801999408526
         ]
        },
        {
         "customdata": [
          "uncompetitive product inhibition with enzyme inactivation"
         ],
         "hoverinfo": "name",
         "marker": {
          "color": "rgba(0.615686274509804, 0.4588235294117647, 0.36470588235294116, 1.0)"
         },
         "mode": "lines",
         "name": "uncompetitive product inhibition with enzyme inactivation",
         "showlegend": false,
         "type": "scatter",
         "visible": false,
         "x": [
          0,
          88,
          175,
          262,
          350,
          449,
          539,
          629,
          719,
          809,
          899
         ],
         "y": [
          7.816299516675149,
          5.926870922555974,
          5.926870923518509,
          5.926870923634919,
          5.926870923639728,
          5.9268709236416885,
          5.926870923641698,
          5.926870923641708,
          5.926870923641719,
          5.9268709236417285,
          5.926870923641738
         ]
        },
        {
         "customdata": [
          "uncompetitive product inhibition with enzyme inactivation"
         ],
         "hoverinfo": "name",
         "marker": {
          "color": "rgba(1.0, 0.615686274509804, 0.6509803921568628, 1.0)"
         },
         "mode": "lines",
         "name": "uncompetitive product inhibition with enzyme inactivation",
         "showlegend": false,
         "type": "scatter",
         "visible": false,
         "x": [
          0,
          88,
          175,
          262,
          350,
          449,
          539,
          629,
          719,
          809,
          899
         ],
         "y": [
          12.258672521317452,
          9.519092987404719,
          9.519092988348604,
          9.519092988506063,
          9.519092988510696,
          9.519092988513211,
          9.519092988513226,
          9.51909298851324,
          9.519092988513252,
          9.519092988513266,
          9.51909298851328
         ]
        },
        {
         "customdata": [
          "uncompetitive product inhibition with enzyme inactivation"
         ],
         "hoverinfo": "name",
         "marker": {
          "color": "rgba(0.6980392156862745, 0.4745098039215686, 0.6352941176470588, 1.0)"
         },
         "mode": "lines",
         "name": "uncompetitive product inhibition with enzyme inactivation",
         "showlegend": false,
         "type": "scatter",
         "visible": false,
         "x": [
          0,
          88,
          175,
          262,
          350,
          449,
          539,
          629,
          719,
          809,
          899
         ],
         "y": [
          20.583241221030445,
          16.567254297835017,
          16.56725430012314,
          16.56725430040324,
          16.567254300414803,
          16.567254300416835,
          16.567254300416874,
          16.567254300416913,
          16.567254300416952,
          16.56725430041699,
          16.567254300417027
         ]
        },
        {
         "customdata": [
          "uncompetitive product inhibition with enzyme inactivation"
         ],
         "hoverinfo": "name",
         "marker": {
          "color": "rgba(0.9333333333333333, 0.792156862745098, 0.23137254901960785, 1.0)"
         },
         "mode": "lines",
         "name": "uncompetitive product inhibition with enzyme inactivation",
         "showlegend": false,
         "type": "scatter",
         "visible": false,
         "x": [
          0,
          88,
          175,
          262,
          350,
          449,
          539,
          629,
          719,
          809,
          899
         ],
         "y": [
          43.779400209375666,
          37.529325394899146,
          37.52932539785525,
          37.52932539828626,
          37.529325398305346,
          37.52932539830739,
          37.529325398307456,
          37.52932539830753,
          37.52932539830759,
          37.529325398307655,
          37.52932539830772
         ]
        },
        {
         "customdata": [
          "uncompetitive product inhibition with enzyme inactivation"
         ],
         "hoverinfo": "name",
         "marker": {
          "color": "rgba(0.32941176470588235, 0.6352941176470588, 0.29411764705882354, 1.0)"
         },
         "mode": "lines",
         "name": "uncompetitive product inhibition with enzyme inactivation",
         "showlegend": false,
         "type": "scatter",
         "visible": false,
         "x": [
          0,
          88,
          175,
          262,
          350,
          449,
          539,
          629,
          719,
          809,
          899
         ],
         "y": [
          64.52482598306051,
          57.147265178690546,
          57.147265182840925,
          57.14726518337366,
          57.14726518339383,
          57.14726518339915,
          57.14726518339921,
          57.14726518339928,
          57.14726518339935,
          57.14726518339941,
          57.147265183399476
         ]
        },
        {
         "customdata": [
          "uncompetitive product inhibition with enzyme inactivation"
         ],
         "hoverinfo": "name",
         "marker": {
          "color": "rgba(0.4470588235294118, 0.7176470588235294, 0.6980392156862745, 1.0)"
         },
         "mode": "lines",
         "name": "uncompetitive product inhibition with enzyme inactivation",
         "showlegend": false,
         "type": "scatter",
         "visible": false,
         "x": [
          0,
          88,
          175,
          262,
          350,
          449,
          539,
          629,
          719,
          809,
          899
         ],
         "y": [
          86.95722551399574,
          78.79355047947304,
          78.79355048345253,
          78.79355048399245,
          78.79355048400986,
          78.79355048401746,
          78.79355048401752,
          78.79355048401757,
          78.79355048401763,
          78.79355048401769,
          78.79355048401774
         ]
        },
        {
         "customdata": [
          "uncompetitive product inhibition with enzyme inactivation"
         ],
         "hoverinfo": "name",
         "marker": {
          "color": "rgba(0.8941176470588236, 0.3411764705882353, 0.33725490196078434, 1.0)"
         },
         "mode": "lines",
         "name": "uncompetitive product inhibition with enzyme inactivation",
         "showlegend": false,
         "type": "scatter",
         "visible": false,
         "x": [
          0,
          88,
          175,
          262,
          350,
          449,
          539,
          629,
          719,
          809,
          899
         ],
         "y": [
          131.94620549861108,
          122.86623849636369,
          122.86623850495486,
          122.8662385057564,
          122.86623850578842,
          122.86623850579517,
          122.86623850579527,
          122.86623850579537,
          122.86623850579548,
          122.86623850579558,
          122.86623850579569
         ]
        }
       ],
       "layout": {
        "sliders": [
         {
          "active": 0,
          "currentvalue": {
           "font": {
            "color": "black"
           },
           "prefix": ""
          },
          "font": {
           "color": "white"
          },
          "pad": {
           "t": 50
          },
          "steps": [
           {
            "args": [
             {
              "visible": [
               false,
               false,
               false,
               false,
               false,
               false,
               false,
               false,
               false,
               false,
               false,
               false,
               false,
               false,
               false,
               false,
               false,
               false,
               false,
               false,
               false,
               false,
               false,
               false,
               true,
               true,
               true,
               true,
               true,
               true,
               true,
               true,
               true,
               true,
               true,
               true,
               true,
               true,
               true,
               true,
               true,
               true,
               true,
               true,
               true,
               true,
               true,
               true,
               false,
               false,
               false,
               false,
               false,
               false,
               false,
               false,
               false,
               false,
               false,
               false,
               false,
               false,
               false,
               false,
               false,
               false,
               false,
               false,
               false,
               false,
               false,
               false,
               false,
               false,
               false,
               false,
               false,
               false,
               false,
               false,
               false,
               false,
               false,
               false,
               false,
               false,
               false,
               false,
               false,
               false,
               false,
               false,
               false,
               false,
               false,
               false,
               false,
               false,
               false,
               false,
               false,
               false,
               false,
               false,
               false,
               false,
               false,
               false,
               false,
               false,
               false,
               false,
               false,
               false,
               false,
               false,
               false,
               false,
               false,
               false
              ]
             },
             {
              "annotations": [
               {
                "font": {
                 "color": "white"
                },
                "showarrow": false,
                "text": "",
                "textangle": 0,
                "x": 0,
                "xanchor": "left",
                "xref": "x",
                "y": -0.55,
                "yref": "paper"
               }
              ],
              "title": "Measured data"
             }
            ],
            "label": "",
            "method": "update"
           },
           {
            "args": [
             {
              "visible": [
               false,
               false,
               false,
               false,
               false,
               false,
               false,
               false,
               false,
               false,
               false,
               false,
               false,
               false,
               false,
               false,
               false,
               false,
               false,
               false,
               false,
               false,
               false,
               false,
               true,
               true,
               true,
               true,
               true,
               true,
               true,
               true,
               true,
               true,
               true,
               true,
               true,
               true,
               true,
               true,
               true,
               true,
               true,
               true,
               true,
               true,
               true,
               true,
               true,
               true,
               true,
               true,
               true,
               true,
               true,
               true,
               false,
               false,
               false,
               false,
               false,
               false,
               false,
               false,
               false,
               false,
               false,
               false,
               false,
               false,
               false,
               false,
               false,
               false,
               false,
               false,
               false,
               false,
               false,
               false,
               false,
               false,
               false,
               false,
               false,
               false,
               false,
               false,
               false,
               false,
               false,
               false,
               false,
               false,
               false,
               false,
               false,
               false,
               false,
               false,
               false,
               false,
               false,
               false,
               false,
               false,
               false,
               false,
               false,
               false,
               false,
               false,
               false,
               false,
               false,
               false,
               false,
               false,
               false,
               false
              ]
             },
             {
              "annotations": [
               {
                "font": {
                 "color": "black",
                 "size": 10
                },
                "showarrow": false,
                "text": "<b>AIC:</b> -647\n\n <b><i>k</i><sub>cat</sub>:</b> 0.883 s<sup>-1</sup> \n\n<b><i>K</i><sub>M</sub>:</b> 52.194 µmol L<sup>-1</sup> \n\n<b><i>K</i><sub>ic</sub>:</b> 7.480 µmol L<sup>-1</sup> \n\n<b><i>K</i><sub>ie</sub>:</b> 0.001 s<sup>-1</sup> \n\n",
                "textangle": 0,
                "x": -44.95,
                "xanchor": "left",
                "xref": "x",
                "y": -0.55,
                "yref": "paper"
               }
              ],
              "title": "Data + Model"
             }
            ],
            "label": "competitive product inhibition with enzyme inactivation",
            "method": "update"
           },
           {
            "args": [
             {
              "visible": [
               false,
               false,
               false,
               false,
               false,
               false,
               false,
               false,
               false,
               false,
               false,
               false,
               false,
               false,
               false,
               false,
               false,
               false,
               false,
               false,
               false,
               false,
               false,
               false,
               true,
               true,
               true,
               true,
               true,
               true,
               true,
               true,
               true,
               true,
               true,
               true,
               true,
               true,
               true,
               true,
               true,
               true,
               true,
               true,
               true,
               true,
               true,
               true,
               false,
               false,
               false,
               false,
               false,
               false,
               false,
               false,
               true,
               true,
               true,
               true,
               true,
               true,
               true,
               true,
               false,
               false,
               false,
               false,
               false,
               false,
               false,
               false,
               false,
               false,
               false,
               false,
               false,
               false,
               false,
               false,
               false,
               false,
               false,
               false,
               false,
               false,
               false,
               false,
               false,
               false,
               false,
               false,
               false,
               false,
               false,
               false,
               false,
               false,
               false,
               false,
               false,
               false,
               false,
               false,
               false,
               false,
               false,
               false,
               false,
               false,
               false,
               false,
               false,
               false,
               false,
               false,
               false,
               false,
               false,
               false
              ]
             },
             {
              "annotations": [
               {
                "font": {
                 "color": "black",
                 "size": 10
                },
                "showarrow": false,
                "text": "<b>AIC:</b> -640\n\n <b><i>k</i><sub>cat</sub>:</b> 0.923 s<sup>-1</sup> \n\n<b><i>K</i><sub>M</sub>:</b> 54.767 µmol L<sup>-1</sup> \n\n<b><i>K</i><sub>iu</sub>:</b> 1000.000 µmol L<sup>-1</sup> \n\n<b><i>K</i><sub>ic</sub>:</b> 7.341 µmol L<sup>-1</sup> \n\n<b><i>K</i><sub>ie</sub>:</b> 0.001 s<sup>-1</sup> \n\n",
                "textangle": 0,
                "x": -44.95,
                "xanchor": "left",
                "xref": "x",
                "y": -0.55,
                "yref": "paper"
               }
              ],
              "title": "Data + Model"
             }
            ],
            "label": "non-competitive product inhibition with enzyme inactivation",
            "method": "update"
           },
           {
            "args": [
             {
              "visible": [
               false,
               false,
               false,
               false,
               false,
               false,
               false,
               false,
               false,
               false,
               false,
               false,
               false,
               false,
               false,
               false,
               false,
               false,
               false,
               false,
               false,
               false,
               false,
               false,
               true,
               true,
               true,
               true,
               true,
               true,
               true,
               true,
               true,
               true,
               true,
               true,
               true,
               true,
               true,
               true,
               true,
               true,
               true,
               true,
               true,
               true,
               true,
               true,
               false,
               false,
               false,
               false,
               false,
               false,
               false,
               false,
               false,
               false,
               false,
               false,
               false,
               false,
               false,
               false,
               true,
               true,
               true,
               true,
               true,
               true,
               true,
               true,
               false,
               false,
               false,
               false,
               false,
               false,
               false,
               false,
               false,
               false,
               false,
               false,
               false,
               false,
               false,
               false,
               false,
               false,
               false,
               false,
               false,
               false,
               false,
               false,
               false,
               false,
               false,
               false,
               false,
               false,
               false,
               false,
               false,
               false,
               false,
               false,
               false,
               false,
               false,
               false,
               false,
               false,
               false,
               false,
               false,
               false,
               false,
               false
              ]
             },
             {
              "annotations": [
               {
                "font": {
                 "color": "black",
                 "size": 10
                },
                "showarrow": false,
                "text": "<b>AIC:</b> -483\n\n <b><i>k</i><sub>cat</sub>:</b> 3.024 s<sup>-1</sup> \n\n<b><i>K</i><sub>M</sub>:</b> 159.094 µmol L<sup>-1</sup> \n\n<b><i>K</i><sub>ic</sub>:</b> 3.149 µmol L<sup>-1</sup> \n\n",
                "textangle": 0,
                "x": -44.95,
                "xanchor": "left",
                "xref": "x",
                "y": -0.55,
                "yref": "paper"
               }
              ],
              "title": "Data + Model"
             }
            ],
            "label": "competitive product inhibition",
            "method": "update"
           },
           {
            "args": [
             {
              "visible": [
               false,
               false,
               false,
               false,
               false,
               false,
               false,
               false,
               false,
               false,
               false,
               false,
               false,
               false,
               false,
               false,
               false,
               false,
               false,
               false,
               false,
               false,
               false,
               false,
               true,
               true,
               true,
               true,
               true,
               true,
               true,
               true,
               true,
               true,
               true,
               true,
               true,
               true,
               true,
               true,
               true,
               true,
               true,
               true,
               true,
               true,
               true,
               true,
               false,
               false,
               false,
               false,
               false,
               false,
               false,
               false,
               false,
               false,
               false,
               false,
               false,
               false,
               false,
               false,
               false,
               false,
               false,
               false,
               false,
               false,
               false,
               false,
               true,
               true,
               true,
               true,
               true,
               true,
               true,
               true,
               false,
               false,
               false,
               false,
               false,
               false,
               false,
               false,
               false,
               false,
               false,
               false,
               false,
               false,
               false,
               false,
               false,
               false,
               false,
               false,
               false,
               false,
               false,
               false,
               false,
               false,
               false,
               false,
               false,
               false,
               false,
               false,
               false,
               false,
               false,
               false,
               false,
               false,
               false,
               false
              ]
             },
             {
              "annotations": [
               {
                "font": {
                 "color": "black",
                 "size": 10
                },
                "showarrow": false,
                "text": "<b>AIC:</b> -476\n\n <b><i>k</i><sub>cat</sub>:</b> 0.460 s<sup>-1</sup> \n\n<b><i>K</i><sub>M</sub>:</b> 35.137 µmol L<sup>-1</sup> \n\n<b><i>K</i><sub>ie</sub>:</b> 0.001 s<sup>-1</sup> \n\n",
                "textangle": 0,
                "x": -44.95,
                "xanchor": "left",
                "xref": "x",
                "y": -0.55,
                "yref": "paper"
               }
              ],
              "title": "Data + Model"
             }
            ],
            "label": "irreversible Michaelis Menten with enzyme inactivation",
            "method": "update"
           },
           {
            "args": [
             {
              "visible": [
               false,
               false,
               false,
               false,
               false,
               false,
               false,
               false,
               false,
               false,
               false,
               false,
               false,
               false,
               false,
               false,
               false,
               false,
               false,
               false,
               false,
               false,
               false,
               false,
               true,
               true,
               true,
               true,
               true,
               true,
               true,
               true,
               true,
               true,
               true,
               true,
               true,
               true,
               true,
               true,
               true,
               true,
               true,
               true,
               true,
               true,
               true,
               true,
               false,
               false,
               false,
               false,
               false,
               false,
               false,
               false,
               false,
               false,
               false,
               false,
               false,
               false,
               false,
               false,
               false,
               false,
               false,
               false,
               false,
               false,
               false,
               false,
               false,
               false,
               false,
               false,
               false,
               false,
               false,
               false,
               true,
               true,
               true,
               true,
               true,
               true,
               true,
               true,
               false,
               false,
               false,
               false,
               false,
               false,
               false,
               false,
               false,
               false,
               false,
               false,
               false,
               false,
               false,
               false,
               false,
               false,
               false,
               false,
               false,
               false,
               false,
               false,
               false,
               false,
               false,
               false,
               false,
               false,
               false,
               false
              ]
             },
             {
              "annotations": [
               {
                "font": {
                 "color": "black",
                 "size": 10
                },
                "showarrow": false,
                "text": "<b>AIC:</b> -410\n\n <b><i>k</i><sub>cat</sub>:</b> 0.523 s<sup>-1</sup> \n\n<b><i>K</i><sub>M</sub>:</b> 43.244 µmol L<sup>-1</sup> \n\n<b><i>K</i><sub>iu</sub>:</b> 1000.000 µmol L<sup>-1</sup> \n\n<b><i>K</i><sub>ie</sub>:</b> 0.001 s<sup>-1</sup> \n\n",
                "textangle": 0,
                "x": -44.95,
                "xanchor": "left",
                "xref": "x",
                "y": -0.55,
                "yref": "paper"
               }
              ],
              "title": "Data + Model"
             }
            ],
            "label": "substrate inhibition with enzyme inactivation",
            "method": "update"
           },
           {
            "args": [
             {
              "visible": [
               false,
               false,
               false,
               false,
               false,
               false,
               false,
               false,
               false,
               false,
               false,
               false,
               false,
               false,
               false,
               false,
               false,
               false,
               false,
               false,
               false,
               false,
               false,
               false,
               true,
               true,
               true,
               true,
               true,
               true,
               true,
               true,
               true,
               true,
               true,
               true,
               true,
               true,
               true,
               true,
               true,
               true,
               true,
               true,
               true,
               true,
               true,
               true,
               false,
               false,
               false,
               false,
               false,
               false,
               false,
               false,
               false,
               false,
               false,
               false,
               false,
               false,
               false,
               false,
               false,
               false,
               false,
               false,
               false,
               false,
               false,
               false,
               false,
               false,
               false,
               false,
               false,
               false,
               false,
               false,
               false,
               false,
               false,
               false,
               false,
               false,
               false,
               false,
               true,
               true,
               true,
               true,
               true,
               true,
               true,
               true,
               false,
               false,
               false,
               false,
               false,
               false,
               false,
               false,
               false,
               false,
               false,
               false,
               false,
               false,
               false,
               false,
               false,
               false,
               false,
               false,
               false,
               false,
               false,
               false
              ]
             },
             {
              "annotations": [
               {
                "font": {
                 "color": "black",
                 "size": 10
                },
                "showarrow": false,
                "text": "<b>AIC:</b> -164\n\n <b><i>k</i><sub>cat</sub>:</b> 0.377 s<sup>-1</sup> \n\n<b><i>K</i><sub>M</sub>:</b> 47.312 µmol L<sup>-1</sup> \n\n<b><i>K</i><sub>iu</sub>:</b> 114.925 µmol L<sup>-1</sup> \n\n",
                "textangle": 0,
                "x": -44.95,
                "xanchor": "left",
                "xref": "x",
                "y": -0.55,
                "yref": "paper"
               }
              ],
              "title": "Data + Model"
             }
            ],
            "label": "uncompetitive product inhibition",
            "method": "update"
           },
           {
            "args": [
             {
              "visible": [
               false,
               false,
               false,
               false,
               false,
               false,
               false,
               false,
               false,
               false,
               false,
               false,
               false,
               false,
               false,
               false,
               false,
               false,
               false,
               false,
               false,
               false,
               false,
               false,
               true,
               true,
               true,
               true,
               true,
               true,
               true,
               true,
               true,
               true,
               true,
               true,
               true,
               true,
               true,
               true,
               true,
               true,
               true,
               true,
               true,
               true,
               true,
               true,
               false,
               false,
               false,
               false,
               false,
               false,
               false,
               false,
               false,
               false,
               false,
               false,
               false,
               false,
               false,
               false,
               false,
               false,
               false,
               false,
               false,
               false,
               false,
               false,
               false,
               false,
               false,
               false,
               false,
               false,
               false,
               false,
               false,
               false,
               false,
               false,
               false,
               false,
               false,
               false,
               false,
               false,
               false,
               false,
               false,
               false,
               false,
               false,
               true,
               true,
               true,
               true,
               true,
               true,
               true,
               true,
               false,
               false,
               false,
               false,
               false,
               false,
               false,
               false,
               false,
               false,
               false,
               false,
               false,
               false,
               false,
               false
              ]
             },
             {
              "annotations": [
               {
                "font": {
                 "color": "black",
                 "size": 10
                },
                "showarrow": false,
                "text": "<b>AIC:</b> -162\n\n <b><i>k</i><sub>cat</sub>:</b> 0.308 s<sup>-1</sup> \n\n<b><i>K</i><sub>M</sub>:</b> 35.465 µmol L<sup>-1</sup> \n\n",
                "textangle": 0,
                "x": -44.95,
                "xanchor": "left",
                "xref": "x",
                "y": -0.55,
                "yref": "paper"
               }
              ],
              "title": "Data + Model"
             }
            ],
            "label": "irreversible Michaelis Menten",
            "method": "update"
           },
           {
            "args": [
             {
              "visible": [
               false,
               false,
               false,
               false,
               false,
               false,
               false,
               false,
               false,
               false,
               false,
               false,
               false,
               false,
               false,
               false,
               false,
               false,
               false,
               false,
               false,
               false,
               false,
               false,
               true,
               true,
               true,
               true,
               true,
               true,
               true,
               true,
               true,
               true,
               true,
               true,
               true,
               true,
               true,
               true,
               true,
               true,
               true,
               true,
               true,
               true,
               true,
               true,
               false,
               false,
               false,
               false,
               false,
               false,
               false,
               false,
               false,
               false,
               false,
               false,
               false,
               false,
               false,
               false,
               false,
               false,
               false,
               false,
               false,
               false,
               false,
               false,
               false,
               false,
               false,
               false,
               false,
               false,
               false,
               false,
               false,
               false,
               false,
               false,
               false,
               false,
               false,
               false,
               false,
               false,
               false,
               false,
               false,
               false,
               false,
               false,
               false,
               false,
               false,
               false,
               false,
               false,
               false,
               false,
               true,
               true,
               true,
               true,
               true,
               true,
               true,
               true,
               false,
               false,
               false,
               false,
               false,
               false,
               false,
               false
              ]
             },
             {
              "annotations": [
               {
                "font": {
                 "color": "black",
                 "size": 10
                },
                "showarrow": false,
                "text": "<b>AIC:</b> -138\n\n <b><i>k</i><sub>cat</sub>:</b> 0.351 s<sup>-1</sup> \n\n<b><i>K</i><sub>M</sub>:</b> 43.721 µmol L<sup>-1</sup> \n\n<b><i>K</i><sub>iu</sub>:</b> 999.983 µmol L<sup>-1</sup> \n\n",
                "textangle": 0,
                "x": -44.95,
                "xanchor": "left",
                "xref": "x",
                "y": -0.55,
                "yref": "paper"
               }
              ],
              "title": "Data + Model"
             }
            ],
            "label": "substrate inhibition",
            "method": "update"
           },
           {
            "args": [
             {
              "visible": [
               false,
               false,
               false,
               false,
               false,
               false,
               false,
               false,
               false,
               false,
               false,
               false,
               false,
               false,
               false,
               false,
               false,
               false,
               false,
               false,
               false,
               false,
               false,
               false,
               true,
               true,
               true,
               true,
               true,
               true,
               true,
               true,
               true,
               true,
               true,
               true,
               true,
               true,
               true,
               true,
               true,
               true,
               true,
               true,
               true,
               true,
               true,
               true,
               false,
               false,
               false,
               false,
               false,
               false,
               false,
               false,
               false,
               false,
               false,
               false,
               false,
               false,
               false,
               false,
               false,
               false,
               false,
               false,
               false,
               false,
               false,
               false,
               false,
               false,
               false,
               false,
               false,
               false,
               false,
               false,
               false,
               false,
               false,
               false,
               false,
               false,
               false,
               false,
               false,
               false,
               false,
               false,
               false,
               false,
               false,
               false,
               false,
               false,
               false,
               false,
               false,
               false,
               false,
               false,
               false,
               false,
               false,
               false,
               false,
               false,
               false,
               false,
               true,
               true,
               true,
               true,
               true,
               true,
               true,
               true
              ]
             },
             {
              "annotations": [
               {
                "font": {
                 "color": "black",
                 "size": 10
                },
                "showarrow": false,
                "text": "<b>AIC:</b> 455\n\n <b><i>k</i><sub>cat</sub>:</b> 39.574 s<sup>-1</sup> \n\n<b><i>K</i><sub>M</sub>:</b> 35.975 µmol L<sup>-1</sup> \n\n<b><i>K</i><sub>iu</sub>:</b> 999.994 µmol L<sup>-1</sup> \n\n<b><i>K</i><sub>ie</sub>:</b> 0.247 s<sup>-1</sup> \n\n",
                "textangle": 0,
                "x": -44.95,
                "xanchor": "left",
                "xref": "x",
                "y": -0.55,
                "yref": "paper"
               }
              ],
              "title": "Data + Model"
             }
            ],
            "label": "uncompetitive product inhibition with enzyme inactivation",
            "method": "update"
           }
          ],
          "tickcolor": "white",
          "tickwidth": 0
         }
        ],
        "template": {
         "data": {
          "bar": [
           {
            "error_x": {
             "color": "#2a3f5f"
            },
            "error_y": {
             "color": "#2a3f5f"
            },
            "marker": {
             "line": {
              "color": "#E5ECF6",
              "width": 0.5
             },
             "pattern": {
              "fillmode": "overlay",
              "size": 10,
              "solidity": 0.2
             }
            },
            "type": "bar"
           }
          ],
          "barpolar": [
           {
            "marker": {
             "line": {
              "color": "#E5ECF6",
              "width": 0.5
             },
             "pattern": {
              "fillmode": "overlay",
              "size": 10,
              "solidity": 0.2
             }
            },
            "type": "barpolar"
           }
          ],
          "carpet": [
           {
            "aaxis": {
             "endlinecolor": "#2a3f5f",
             "gridcolor": "white",
             "linecolor": "white",
             "minorgridcolor": "white",
             "startlinecolor": "#2a3f5f"
            },
            "baxis": {
             "endlinecolor": "#2a3f5f",
             "gridcolor": "white",
             "linecolor": "white",
             "minorgridcolor": "white",
             "startlinecolor": "#2a3f5f"
            },
            "type": "carpet"
           }
          ],
          "choropleth": [
           {
            "colorbar": {
             "outlinewidth": 0,
             "ticks": ""
            },
            "type": "choropleth"
           }
          ],
          "contour": [
           {
            "colorbar": {
             "outlinewidth": 0,
             "ticks": ""
            },
            "colorscale": [
             [
              0,
              "#0d0887"
             ],
             [
              0.1111111111111111,
              "#46039f"
             ],
             [
              0.2222222222222222,
              "#7201a8"
             ],
             [
              0.3333333333333333,
              "#9c179e"
             ],
             [
              0.4444444444444444,
              "#bd3786"
             ],
             [
              0.5555555555555556,
              "#d8576b"
             ],
             [
              0.6666666666666666,
              "#ed7953"
             ],
             [
              0.7777777777777778,
              "#fb9f3a"
             ],
             [
              0.8888888888888888,
              "#fdca26"
             ],
             [
              1,
              "#f0f921"
             ]
            ],
            "type": "contour"
           }
          ],
          "contourcarpet": [
           {
            "colorbar": {
             "outlinewidth": 0,
             "ticks": ""
            },
            "type": "contourcarpet"
           }
          ],
          "heatmap": [
           {
            "colorbar": {
             "outlinewidth": 0,
             "ticks": ""
            },
            "colorscale": [
             [
              0,
              "#0d0887"
             ],
             [
              0.1111111111111111,
              "#46039f"
             ],
             [
              0.2222222222222222,
              "#7201a8"
             ],
             [
              0.3333333333333333,
              "#9c179e"
             ],
             [
              0.4444444444444444,
              "#bd3786"
             ],
             [
              0.5555555555555556,
              "#d8576b"
             ],
             [
              0.6666666666666666,
              "#ed7953"
             ],
             [
              0.7777777777777778,
              "#fb9f3a"
             ],
             [
              0.8888888888888888,
              "#fdca26"
             ],
             [
              1,
              "#f0f921"
             ]
            ],
            "type": "heatmap"
           }
          ],
          "heatmapgl": [
           {
            "colorbar": {
             "outlinewidth": 0,
             "ticks": ""
            },
            "colorscale": [
             [
              0,
              "#0d0887"
             ],
             [
              0.1111111111111111,
              "#46039f"
             ],
             [
              0.2222222222222222,
              "#7201a8"
             ],
             [
              0.3333333333333333,
              "#9c179e"
             ],
             [
              0.4444444444444444,
              "#bd3786"
             ],
             [
              0.5555555555555556,
              "#d8576b"
             ],
             [
              0.6666666666666666,
              "#ed7953"
             ],
             [
              0.7777777777777778,
              "#fb9f3a"
             ],
             [
              0.8888888888888888,
              "#fdca26"
             ],
             [
              1,
              "#f0f921"
             ]
            ],
            "type": "heatmapgl"
           }
          ],
          "histogram": [
           {
            "marker": {
             "pattern": {
              "fillmode": "overlay",
              "size": 10,
              "solidity": 0.2
             }
            },
            "type": "histogram"
           }
          ],
          "histogram2d": [
           {
            "colorbar": {
             "outlinewidth": 0,
             "ticks": ""
            },
            "colorscale": [
             [
              0,
              "#0d0887"
             ],
             [
              0.1111111111111111,
              "#46039f"
             ],
             [
              0.2222222222222222,
              "#7201a8"
             ],
             [
              0.3333333333333333,
              "#9c179e"
             ],
             [
              0.4444444444444444,
              "#bd3786"
             ],
             [
              0.5555555555555556,
              "#d8576b"
             ],
             [
              0.6666666666666666,
              "#ed7953"
             ],
             [
              0.7777777777777778,
              "#fb9f3a"
             ],
             [
              0.8888888888888888,
              "#fdca26"
             ],
             [
              1,
              "#f0f921"
             ]
            ],
            "type": "histogram2d"
           }
          ],
          "histogram2dcontour": [
           {
            "colorbar": {
             "outlinewidth": 0,
             "ticks": ""
            },
            "colorscale": [
             [
              0,
              "#0d0887"
             ],
             [
              0.1111111111111111,
              "#46039f"
             ],
             [
              0.2222222222222222,
              "#7201a8"
             ],
             [
              0.3333333333333333,
              "#9c179e"
             ],
             [
              0.4444444444444444,
              "#bd3786"
             ],
             [
              0.5555555555555556,
              "#d8576b"
             ],
             [
              0.6666666666666666,
              "#ed7953"
             ],
             [
              0.7777777777777778,
              "#fb9f3a"
             ],
             [
              0.8888888888888888,
              "#fdca26"
             ],
             [
              1,
              "#f0f921"
             ]
            ],
            "type": "histogram2dcontour"
           }
          ],
          "mesh3d": [
           {
            "colorbar": {
             "outlinewidth": 0,
             "ticks": ""
            },
            "type": "mesh3d"
           }
          ],
          "parcoords": [
           {
            "line": {
             "colorbar": {
              "outlinewidth": 0,
              "ticks": ""
             }
            },
            "type": "parcoords"
           }
          ],
          "pie": [
           {
            "automargin": true,
            "type": "pie"
           }
          ],
          "scatter": [
           {
            "fillpattern": {
             "fillmode": "overlay",
             "size": 10,
             "solidity": 0.2
            },
            "type": "scatter"
           }
          ],
          "scatter3d": [
           {
            "line": {
             "colorbar": {
              "outlinewidth": 0,
              "ticks": ""
             }
            },
            "marker": {
             "colorbar": {
              "outlinewidth": 0,
              "ticks": ""
             }
            },
            "type": "scatter3d"
           }
          ],
          "scattercarpet": [
           {
            "marker": {
             "colorbar": {
              "outlinewidth": 0,
              "ticks": ""
             }
            },
            "type": "scattercarpet"
           }
          ],
          "scattergeo": [
           {
            "marker": {
             "colorbar": {
              "outlinewidth": 0,
              "ticks": ""
             }
            },
            "type": "scattergeo"
           }
          ],
          "scattergl": [
           {
            "marker": {
             "colorbar": {
              "outlinewidth": 0,
              "ticks": ""
             }
            },
            "type": "scattergl"
           }
          ],
          "scattermapbox": [
           {
            "marker": {
             "colorbar": {
              "outlinewidth": 0,
              "ticks": ""
             }
            },
            "type": "scattermapbox"
           }
          ],
          "scatterpolar": [
           {
            "marker": {
             "colorbar": {
              "outlinewidth": 0,
              "ticks": ""
             }
            },
            "type": "scatterpolar"
           }
          ],
          "scatterpolargl": [
           {
            "marker": {
             "colorbar": {
              "outlinewidth": 0,
              "ticks": ""
             }
            },
            "type": "scatterpolargl"
           }
          ],
          "scatterternary": [
           {
            "marker": {
             "colorbar": {
              "outlinewidth": 0,
              "ticks": ""
             }
            },
            "type": "scatterternary"
           }
          ],
          "surface": [
           {
            "colorbar": {
             "outlinewidth": 0,
             "ticks": ""
            },
            "colorscale": [
             [
              0,
              "#0d0887"
             ],
             [
              0.1111111111111111,
              "#46039f"
             ],
             [
              0.2222222222222222,
              "#7201a8"
             ],
             [
              0.3333333333333333,
              "#9c179e"
             ],
             [
              0.4444444444444444,
              "#bd3786"
             ],
             [
              0.5555555555555556,
              "#d8576b"
             ],
             [
              0.6666666666666666,
              "#ed7953"
             ],
             [
              0.7777777777777778,
              "#fb9f3a"
             ],
             [
              0.8888888888888888,
              "#fdca26"
             ],
             [
              1,
              "#f0f921"
             ]
            ],
            "type": "surface"
           }
          ],
          "table": [
           {
            "cells": {
             "fill": {
              "color": "#EBF0F8"
             },
             "line": {
              "color": "white"
             }
            },
            "header": {
             "fill": {
              "color": "#C8D4E3"
             },
             "line": {
              "color": "white"
             }
            },
            "type": "table"
           }
          ]
         },
         "layout": {
          "annotationdefaults": {
           "arrowcolor": "#2a3f5f",
           "arrowhead": 0,
           "arrowwidth": 1
          },
          "autotypenumbers": "strict",
          "coloraxis": {
           "colorbar": {
            "outlinewidth": 0,
            "ticks": ""
           }
          },
          "colorscale": {
           "diverging": [
            [
             0,
             "#8e0152"
            ],
            [
             0.1,
             "#c51b7d"
            ],
            [
             0.2,
             "#de77ae"
            ],
            [
             0.3,
             "#f1b6da"
            ],
            [
             0.4,
             "#fde0ef"
            ],
            [
             0.5,
             "#f7f7f7"
            ],
            [
             0.6,
             "#e6f5d0"
            ],
            [
             0.7,
             "#b8e186"
            ],
            [
             0.8,
             "#7fbc41"
            ],
            [
             0.9,
             "#4d9221"
            ],
            [
             1,
             "#276419"
            ]
           ],
           "sequential": [
            [
             0,
             "#0d0887"
            ],
            [
             0.1111111111111111,
             "#46039f"
            ],
            [
             0.2222222222222222,
             "#7201a8"
            ],
            [
             0.3333333333333333,
             "#9c179e"
            ],
            [
             0.4444444444444444,
             "#bd3786"
            ],
            [
             0.5555555555555556,
             "#d8576b"
            ],
            [
             0.6666666666666666,
             "#ed7953"
            ],
            [
             0.7777777777777778,
             "#fb9f3a"
            ],
            [
             0.8888888888888888,
             "#fdca26"
            ],
            [
             1,
             "#f0f921"
            ]
           ],
           "sequentialminus": [
            [
             0,
             "#0d0887"
            ],
            [
             0.1111111111111111,
             "#46039f"
            ],
            [
             0.2222222222222222,
             "#7201a8"
            ],
            [
             0.3333333333333333,
             "#9c179e"
            ],
            [
             0.4444444444444444,
             "#bd3786"
            ],
            [
             0.5555555555555556,
             "#d8576b"
            ],
            [
             0.6666666666666666,
             "#ed7953"
            ],
            [
             0.7777777777777778,
             "#fb9f3a"
            ],
            [
             0.8888888888888888,
             "#fdca26"
            ],
            [
             1,
             "#f0f921"
            ]
           ]
          },
          "colorway": [
           "#636efa",
           "#EF553B",
           "#00cc96",
           "#ab63fa",
           "#FFA15A",
           "#19d3f3",
           "#FF6692",
           "#B6E880",
           "#FF97FF",
           "#FECB52"
          ],
          "font": {
           "color": "#2a3f5f"
          },
          "geo": {
           "bgcolor": "white",
           "lakecolor": "white",
           "landcolor": "#E5ECF6",
           "showlakes": true,
           "showland": true,
           "subunitcolor": "white"
          },
          "hoverlabel": {
           "align": "left"
          },
          "hovermode": "closest",
          "mapbox": {
           "style": "light"
          },
          "paper_bgcolor": "white",
          "plot_bgcolor": "#E5ECF6",
          "polar": {
           "angularaxis": {
            "gridcolor": "white",
            "linecolor": "white",
            "ticks": ""
           },
           "bgcolor": "#E5ECF6",
           "radialaxis": {
            "gridcolor": "white",
            "linecolor": "white",
            "ticks": ""
           }
          },
          "scene": {
           "xaxis": {
            "backgroundcolor": "#E5ECF6",
            "gridcolor": "white",
            "gridwidth": 2,
            "linecolor": "white",
            "showbackground": true,
            "ticks": "",
            "zerolinecolor": "white"
           },
           "yaxis": {
            "backgroundcolor": "#E5ECF6",
            "gridcolor": "white",
            "gridwidth": 2,
            "linecolor": "white",
            "showbackground": true,
            "ticks": "",
            "zerolinecolor": "white"
           },
           "zaxis": {
            "backgroundcolor": "#E5ECF6",
            "gridcolor": "white",
            "gridwidth": 2,
            "linecolor": "white",
            "showbackground": true,
            "ticks": "",
            "zerolinecolor": "white"
           }
          },
          "shapedefaults": {
           "line": {
            "color": "#2a3f5f"
           }
          },
          "ternary": {
           "aaxis": {
            "gridcolor": "white",
            "linecolor": "white",
            "ticks": ""
           },
           "baxis": {
            "gridcolor": "white",
            "linecolor": "white",
            "ticks": ""
           },
           "bgcolor": "#E5ECF6",
           "caxis": {
            "gridcolor": "white",
            "linecolor": "white",
            "ticks": ""
           }
          },
          "title": {
           "x": 0.05
          },
          "xaxis": {
           "automargin": true,
           "gridcolor": "white",
           "linecolor": "white",
           "ticks": "",
           "title": {
            "standoff": 15
           },
           "zerolinecolor": "white",
           "zerolinewidth": 2
          },
          "yaxis": {
           "automargin": true,
           "gridcolor": "white",
           "linecolor": "white",
           "ticks": "",
           "title": {
            "standoff": 15
           },
           "zerolinecolor": "white",
           "zerolinewidth": 2
          }
         }
        },
        "updatemenus": [
         {
          "direction": "right",
          "showactive": true,
          "type": "buttons",
          "x": 0.7,
          "y": 1.3
         }
        ],
        "xaxis": {
         "range": [
          -44.95,
          943.95
         ]
        },
        "yaxis": {
         "range": [
          -6.638762680423631,
          139.41401628889625
         ]
        }
       }
      }
     },
     "metadata": {},
     "output_type": "display_data"
    }
   ],
   "source": [
    "estimator.visualize_model_overview()"
   ]
  },
  {
   "cell_type": "code",
   "execution_count": null,
   "metadata": {},
   "outputs": [
    {
     "ename": "AttributeError",
     "evalue": "'ParameterEstimator' object has no attribute '_get_visualization_data'",
     "output_type": "error",
     "traceback": [
      "\u001b[0;31m---------------------------------------------------------------------------\u001b[0m",
      "\u001b[0;31mAttributeError\u001b[0m                            Traceback (most recent call last)",
      "Cell \u001b[0;32mIn[6], line 4\u001b[0m\n\u001b[1;32m      1\u001b[0m \u001b[39mfrom\u001b[39;00m \u001b[39mEnzymePynetics\u001b[39;00m\u001b[39m.\u001b[39;00m\u001b[39mcore\u001b[39;00m\u001b[39m.\u001b[39;00m\u001b[39mspeciestypes\u001b[39;00m \u001b[39mimport\u001b[39;00m SpeciesTypes\n\u001b[0;32m----> 4\u001b[0m estimator\u001b[39m.\u001b[39;49m_get_visualization_data(SpeciesTypes\u001b[39m.\u001b[39mSUBSTRATE)\n",
      "\u001b[0;31mAttributeError\u001b[0m: 'ParameterEstimator' object has no attribute '_get_visualization_data'"
     ]
    }
   ],
   "source": [
    "from EnzymePynetics.core.speciestypes import SpeciesTypes\n",
    "\n",
    "\n",
    "estimator._get_visualization_data(SpeciesTypes.SUBSTRATE)"
   ]
  },
  {
   "cell_type": "code",
   "execution_count": null,
   "metadata": {},
   "outputs": [
    {
     "name": "stdout",
     "output_type": "stream",
     "text": [
      "yess\n"
     ]
    }
   ],
   "source": [
    "a = [1, 2, 3]\n",
    "\n",
    "\n",
    "if a:\n",
    "    print(\"yess\")"
   ]
  },
  {
   "cell_type": "code",
   "execution_count": null,
   "metadata": {},
   "outputs": [],
   "source": [
    "from EnzymePynetics.core.speciestypes import SpeciesTypes\n",
    "\n",
    "import numpy as np"
   ]
  },
  {
   "cell_type": "code",
   "execution_count": null,
   "metadata": {},
   "outputs": [],
   "source": [
    "data, time = estimator._get_timecourse_data(SpeciesTypes.SUBSTRATE)"
   ]
  },
  {
   "cell_type": "code",
   "execution_count": null,
   "metadata": {},
   "outputs": [
    {
     "data": {
      "text/plain": [
       "True"
      ]
     },
     "execution_count": 13,
     "metadata": {},
     "output_type": "execute_result"
    }
   ],
   "source": [
    "any(len(meas) > 1 for meas in data)"
   ]
  },
  {
   "cell_type": "code",
   "execution_count": null,
   "metadata": {},
   "outputs": [
    {
     "data": {
      "text/plain": [
       "array([[  3.82937905,   3.4493681 ,   3.15636043,   2.90426862,\n",
       "          2.69833585,   2.49742642,   2.35826263,   2.26029679,\n",
       "          2.21903915,   2.15198427,   2.03847507],\n",
       "       [  7.81461453,   7.11878711,   6.74746865,   6.38595221,\n",
       "          5.83532981,   5.50351891,   5.23784174,   5.02822128,\n",
       "          4.82359019,   4.64443753,   4.45494508],\n",
       "       [ 12.5495398 ,  11.74678435,  11.08832888,  10.58495044,\n",
       "         10.14648149,   9.74789907,   9.42469171,   9.14165906,\n",
       "          8.89889027,   8.65090133,   8.44833891],\n",
       "       [ 20.6685862 ,  19.44618902,  18.5273827 ,  17.76530734,\n",
       "         17.12102661,  16.49570418,  16.00377071,  15.57101633,\n",
       "         15.14779892,  14.77901563,  14.44484507],\n",
       "       [ 42.26619321,  40.59777564,  39.31966969,  38.21740678,\n",
       "         37.26750016,  36.35505623,  35.59076345,  34.91723624,\n",
       "         34.27206251,  33.70831776,  33.1538166 ],\n",
       "       [ 64.33798187,  62.38621644,  60.76272539,  59.40532277,\n",
       "         58.29005198,  57.18901367,  56.26351842,  55.4091347 ,\n",
       "         54.63534899,  53.89943563,  53.23463467],\n",
       "       [ 86.91347081,  84.11340807,  82.3681033 ,  80.8428437 ,\n",
       "         79.5218436 ,  78.26504796,  77.15350321,  76.15795461,\n",
       "         75.42144769,  74.4847541 ,  73.64903009],\n",
       "       [132.70487574, 130.75989708, 128.76022202, 126.20133467,\n",
       "        124.70170482, 123.06716838, 121.88599137, 120.4414762 ,\n",
       "        119.20833683, 117.88649205, 117.00154281]])"
      ]
     },
     "execution_count": 17,
     "metadata": {},
     "output_type": "execute_result"
    }
   ],
   "source": [
    "np.array(data)[:, 0, :]"
   ]
  },
  {
   "cell_type": "code",
   "execution_count": null,
   "metadata": {},
   "outputs": [
    {
     "name": "stdout",
     "output_type": "stream",
     "text": [
      "[3.72327738 3.36713818 3.09978195 2.84592982 2.63480823 2.43901441\n",
      " 2.29810691 2.20528242 2.14166221 2.07287091 1.99030478]\n",
      "[7.81629952 7.15775336 6.67280753 6.26365065 5.8999477  5.72131971\n",
      " 5.37069306 5.08105911 5.02818989 4.7485179  4.54884413]\n",
      "[12.25867252 11.40672738 10.72587633 10.19176195  9.7444271   9.37068674\n",
      "  8.97969886  8.67100178  8.39582085  8.14242121  7.92096562]\n",
      "[20.58324122 19.44125082 18.51913854 17.76860396 17.16730122 16.52052908\n",
      " 16.01867929 15.58428161 15.16439565 14.80061214 14.46146871]\n",
      "[43.77940021 42.01130842 40.64243753 39.536769   38.5498204  37.56995855\n",
      " 36.78909721 36.11485465 35.48975999 34.95240197 34.38271769]\n",
      "[64.52482598 62.71540953 61.18992704 59.87517981 58.75039535 57.61139774\n",
      " 56.68118275 55.85215349 55.09740777 54.35681145 53.68733121]\n",
      "[86.95722551 84.75743525 83.03156991 81.57887613 80.27918184 78.98616295\n",
      " 77.9361246  76.97813867 76.13578155 75.2526965  74.45307068]\n",
      "[131.9462055  130.04682632 127.90519246 125.64915682 124.13672929\n",
      " 122.58135398 121.25471305 119.96726582 118.86846769 117.68702975\n",
      " 116.67458907]\n"
     ]
    }
   ],
   "source": [
    "for d in data:\n",
    "    print(np.mean(d, axis=0))"
   ]
  },
  {
   "cell_type": "code",
   "execution_count": null,
   "metadata": {},
   "outputs": [],
   "source": [
    "from itertools import groupby"
   ]
  },
  {
   "cell_type": "code",
   "execution_count": null,
   "metadata": {},
   "outputs": [],
   "source": [
    "def all_equal(iterable):\n",
    "    g = groupby(iterable)\n",
    "    return next(g, True) and not next(g, False)"
   ]
  },
  {
   "cell_type": "code",
   "execution_count": null,
   "metadata": {},
   "outputs": [],
   "source": [
    "all_equal([1, 1, 1, 1, 1, 1, 1])"
   ]
  },
  {
   "cell_type": "code",
   "execution_count": null,
   "metadata": {},
   "outputs": [],
   "source": []
  }
 ],
 "metadata": {
  "kernelspec": {
   "display_name": "msc",
   "language": "python",
   "name": "python3"
  },
  "language_info": {
   "codemirror_mode": {
    "name": "ipython",
    "version": 3
   },
   "file_extension": ".py",
   "mimetype": "text/x-python",
   "name": "python",
   "nbconvert_exporter": "python",
   "pygments_lexer": "ipython3",
   "version": "3.10.9"
  },
  "orig_nbformat": 4
 },
 "nbformat": 4,
 "nbformat_minor": 2
}
