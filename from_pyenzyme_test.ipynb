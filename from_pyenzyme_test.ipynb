{
 "cells": [
  {
   "cell_type": "code",
   "execution_count": 1,
   "metadata": {},
   "outputs": [],
   "source": [
    "import pyenzyme as pe\n",
    "\n",
    "%load_ext autoreload\n",
    "%autoreload 2\n",
    "from EnzymePynetics.tools.parameterestimator import ParameterEstimator"
   ]
  },
  {
   "cell_type": "code",
   "execution_count": 2,
   "metadata": {},
   "outputs": [],
   "source": [
    "enzmldoc = pe.EnzymeMLDocument.fromFile(\n",
    "    \"/Users/max/Library/Mobile Documents/com~apple~CloudDocs/Documents/code/papers/MTP_inhibition/data/SLAC/ABTS_oxidation_pH_3.0_and_25.0°C.omex\"\n",
    ")"
   ]
  },
  {
   "cell_type": "code",
   "execution_count": 3,
   "metadata": {},
   "outputs": [],
   "source": [
    "estimator = ParameterEstimator.from_EnzymeML(\n",
    "    enzmldoc=enzmldoc, measured_species_id=\"s0\"\n",
    ")"
   ]
  },
  {
   "cell_type": "code",
   "execution_count": 4,
   "metadata": {},
   "outputs": [
    {
     "name": "stdout",
     "output_type": "stream",
     "text": [
      "Fitting data to:\n",
      " - irreversible Michaelis Menten model\n",
      "-k_cat * enzyme * substrate / (K_m + substrate)\n",
      " -- Fitting succeeded: True\n",
      " - irreversible Michaelis Menten with enzyme inactivation model\n",
      "-k_cat * enzyme * substrate / (K_m + substrate)\n",
      " -- Fitting succeeded: True\n"
     ]
    },
    {
     "data": {
      "text/html": [
       "<style type=\"text/css\">\n",
       "#T_a0ae7_row0_col0, #T_a0ae7_row0_col1 {\n",
       "  background-color: #f7fbff;\n",
       "  color: #000000;\n",
       "}\n",
       "#T_a0ae7_row1_col0, #T_a0ae7_row1_col1 {\n",
       "  background-color: #08306b;\n",
       "  color: #f1f1f1;\n",
       "}\n",
       "</style>\n",
       "<table id=\"T_a0ae7\">\n",
       "  <thead>\n",
       "    <tr>\n",
       "      <th class=\"blank level0\" >&nbsp;</th>\n",
       "      <th id=\"T_a0ae7_level0_col0\" class=\"col_heading level0 col0\" >AIC</th>\n",
       "      <th id=\"T_a0ae7_level0_col1\" class=\"col_heading level0 col1\" >RMSD</th>\n",
       "      <th id=\"T_a0ae7_level0_col2\" class=\"col_heading level0 col2\" >k_cat [1/s]</th>\n",
       "      <th id=\"T_a0ae7_level0_col3\" class=\"col_heading level0 col3\" >K_m [umol / l]</th>\n",
       "      <th id=\"T_a0ae7_level0_col4\" class=\"col_heading level0 col4\" >k_cat / K_m [1/s * 1/umol / l]</th>\n",
       "      <th id=\"T_a0ae7_level0_col5\" class=\"col_heading level0 col5\" >time-dep. enzyme-inactiv. [1/s]</th>\n",
       "    </tr>\n",
       "  </thead>\n",
       "  <tbody>\n",
       "    <tr>\n",
       "      <th id=\"T_a0ae7_level0_row0\" class=\"row_heading level0 row0\" >irreversible Michaelis Menten with enzyme inactivation</th>\n",
       "      <td id=\"T_a0ae7_row0_col0\" class=\"data row0 col0\" >-472</td>\n",
       "      <td id=\"T_a0ae7_row0_col1\" class=\"data row0 col1\" >0.404208</td>\n",
       "      <td id=\"T_a0ae7_row0_col2\" class=\"data row0 col2\" >0.4705 +/- 1.99%</td>\n",
       "      <td id=\"T_a0ae7_row0_col3\" class=\"data row0 col3\" >37.5000 +/- 0.42%</td>\n",
       "      <td id=\"T_a0ae7_row0_col4\" class=\"data row0 col4\" >0.013 +/- 2.03%</td>\n",
       "      <td id=\"T_a0ae7_row0_col5\" class=\"data row0 col5\" >0.0013 +/- 4.51%</td>\n",
       "    </tr>\n",
       "    <tr>\n",
       "      <th id=\"T_a0ae7_level0_row1\" class=\"row_heading level0 row1\" >irreversible Michaelis Menten</th>\n",
       "      <td id=\"T_a0ae7_row1_col0\" class=\"data row1 col0\" >-161</td>\n",
       "      <td id=\"T_a0ae7_row1_col1\" class=\"data row1 col1\" >0.731394</td>\n",
       "      <td id=\"T_a0ae7_row1_col2\" class=\"data row1 col2\" >0.3145 +/- 2.42%</td>\n",
       "      <td id=\"T_a0ae7_row1_col3\" class=\"data row1 col3\" >37.5000 +/- 3.83%</td>\n",
       "      <td id=\"T_a0ae7_row1_col4\" class=\"data row1 col4\" >0.008 +/- 4.53%</td>\n",
       "      <td id=\"T_a0ae7_row1_col5\" class=\"data row1 col5\" >-</td>\n",
       "    </tr>\n",
       "  </tbody>\n",
       "</table>\n"
      ],
      "text/plain": [
       "<pandas.io.formats.style.Styler at 0x28bd07220>"
      ]
     },
     "metadata": {},
     "output_type": "display_data"
    }
   ],
   "source": [
    "estimator.fit_models(only_irrev_MM=True)"
   ]
  },
  {
   "cell_type": "code",
   "execution_count": 5,
   "metadata": {},
   "outputs": [],
   "source": [
    "model = estimator.models[\"irreversible Michaelis Menten with enzyme inactivation\"]"
   ]
  },
  {
   "cell_type": "code",
   "execution_count": 6,
   "metadata": {},
   "outputs": [
    {
     "data": {
      "text/plain": [
       "{'r0': EnzymeReaction(name='ABTS oxidation', reversible=False, temperature=25.0, temperature_unit='K', ph=3.0, ontology=<SBOTerm.BIOCHEMICAL_REACTION: 'SBO:0000176'>, meta_id='METAID_R0', id='r0', uri=None, creator_id=None, model=KineticModel(name='irreversible Michaelis Menten with enzyme inactivation', equation='-k_cat * p0 * s0 / (K_m + s0)', parameters=[KineticParameter(name='k_cat', value=0.4704605451342153, unit='1 / s', initial_value=None, upper=21.517069647858293, lower=0.008606827859143316, is_global=False, stdev=0.009347875459141081, constant=True, ontology=None), KineticParameter(name='K_m', value=37.50000001236387, unit='umole / l', initial_value=None, upper=375000.0, lower=37.5, is_global=False, stdev=0.15601170384584206, constant=True, ontology=None)], ontology=None), educts=[ReactionElement(species_id='s0', stoichiometry=1.0, constant=False, ontology=<SBOTerm.SUBSTRATE: 'SBO:0000015'>)], products=[ReactionElement(species_id='s0', stoichiometry=1.0, constant=False, ontology=<SBOTerm.PRODUCT: 'SBO:0000011'>), ReactionElement(species_id='s1', stoichiometry=1.0, constant=False, ontology=<SBOTerm.PRODUCT: 'SBO:0000011'>)], modifiers=[ReactionElement(species_id='p0', stoichiometry=1.0, constant=True, ontology=<SBOTerm.CATALYST: 'SBO:0000013'>)]),\n",
       " 'r1': EnzymeReaction(name='Time-dependent enzyme inactivation', reversible=False, temperature=25.0, temperature_unit='K', ph=3.0, ontology=<SBOTerm.BIOCHEMICAL_REACTION: 'SBO:0000176'>, meta_id='METAID_R1', id='r1', uri=None, creator_id=None, model=KineticModel(name='irreversible Michaelis Menten with enzyme inactivation', equation='-k_ie * p0', parameters=[KineticParameter(name='k_ie', value=0.001262711130446277, unit='1 / s', initial_value=None, upper=0.9999, lower=1e-05, is_global=False, stdev=5.696252226450642e-05, constant=True, ontology=None)], ontology=None), educts=[ReactionElement(species_id='p0', stoichiometry=1.0, constant=False, ontology=<SBOTerm.SUBSTRATE: 'SBO:0000015'>)], products=[ReactionElement(species_id='p1', stoichiometry=1.0, constant=False, ontology=<SBOTerm.PRODUCT: 'SBO:0000011'>)], modifiers=[])}"
      ]
     },
     "execution_count": 6,
     "metadata": {},
     "output_type": "execute_result"
    }
   ],
   "source": [
    "r = estimator.to_pyenzyme(\n",
    "    enzmldoc=enzmldoc,\n",
    "    kinetic_model=model)\n",
    "r.reaction_dict"
   ]
  }
 ],
 "metadata": {
  "kernelspec": {
   "display_name": "msc",
   "language": "python",
   "name": "python3"
  },
  "language_info": {
   "codemirror_mode": {
    "name": "ipython",
    "version": 3
   },
   "file_extension": ".py",
   "mimetype": "text/x-python",
   "name": "python",
   "nbconvert_exporter": "python",
   "pygments_lexer": "ipython3",
   "version": "3.10.9"
  },
  "orig_nbformat": 4
 },
 "nbformat": 4,
 "nbformat_minor": 2
}
