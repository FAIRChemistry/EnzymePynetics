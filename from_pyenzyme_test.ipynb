{
 "cells": [
  {
   "cell_type": "code",
   "execution_count": 1,
   "metadata": {},
   "outputs": [],
   "source": [
    "import pyenzyme as pe\n",
    "\n",
    "%load_ext autoreload\n",
    "%autoreload 2\n",
    "from EnzymePynetics.tools.parameterestimator import ParameterEstimator"
   ]
  },
  {
   "cell_type": "code",
   "execution_count": 2,
   "metadata": {},
   "outputs": [],
   "source": [
    "enzmldoc = pe.EnzymeMLDocument.fromFile(\n",
    "    \"/Users/max/Library/Mobile Documents/com~apple~CloudDocs/Documents/code/papers/MTP_inhibition/data/SLAC/ABTS_oxidation_pH_3.0_and_25.0°C.omex\"\n",
    ")"
   ]
  },
  {
   "cell_type": "code",
   "execution_count": 24,
   "metadata": {},
   "outputs": [],
   "source": [
    "estimator = ParameterEstimator.from_EnzymeML(\n",
    "    enzmldoc=enzmldoc, measured_species_id=\"s0\"\n",
    ")"
   ]
  },
  {
   "cell_type": "code",
   "execution_count": 29,
   "metadata": {},
   "outputs": [
    {
     "name": "stdout",
     "output_type": "stream",
     "text": [
      "Fitting data to:\n",
      " - irreversible Michaelis Menten model\n",
      " -- Fitting succeeded: True\n",
      " - irreversible Michaelis Menten with enzyme inactivation model\n",
      " -- Fitting succeeded: True\n",
      " - competitive product inhibition model\n",
      " -- Fitting succeeded: True\n",
      " - competitive product inhibition with enzyme inactivation model\n",
      " -- Fitting succeeded: True\n",
      " - uncompetitive product inhibition model\n",
      " -- Fitting succeeded: True\n",
      " - uncompetitive product inhibition with enzyme inactivation model\n",
      " -- Fitting succeeded: True\n",
      " - non-competitive product inhibition model\n",
      " -- Fitting succeeded: False\n",
      " - non-competitive product inhibition with enzyme inactivation model\n",
      " -- Fitting succeeded: True\n",
      " - substrate inhibition model\n",
      " -- Fitting succeeded: True\n",
      " - substrate inhibition with enzyme inactivation model\n",
      " -- Fitting succeeded: True\n"
     ]
    },
    {
     "data": {
      "text/html": [
       "<style type=\"text/css\">\n",
       "#T_dbddc_row0_col0, #T_dbddc_row0_col1, #T_dbddc_row1_col1 {\n",
       "  background-color: #f7fbff;\n",
       "  color: #000000;\n",
       "}\n",
       "#T_dbddc_row1_col0 {\n",
       "  background-color: #f6faff;\n",
       "  color: #000000;\n",
       "}\n",
       "#T_dbddc_row2_col0 {\n",
       "  background-color: #d9e8f5;\n",
       "  color: #000000;\n",
       "}\n",
       "#T_dbddc_row2_col1, #T_dbddc_row3_col1 {\n",
       "  background-color: #edf4fc;\n",
       "  color: #000000;\n",
       "}\n",
       "#T_dbddc_row3_col0 {\n",
       "  background-color: #d9e7f5;\n",
       "  color: #000000;\n",
       "}\n",
       "#T_dbddc_row4_col0, #T_dbddc_row6_col1 {\n",
       "  background-color: #cddff1;\n",
       "  color: #000000;\n",
       "}\n",
       "#T_dbddc_row4_col1 {\n",
       "  background-color: #e7f1fa;\n",
       "  color: #000000;\n",
       "}\n",
       "#T_dbddc_row5_col0, #T_dbddc_row6_col0 {\n",
       "  background-color: #84bcdb;\n",
       "  color: #000000;\n",
       "}\n",
       "#T_dbddc_row5_col1 {\n",
       "  background-color: #cde0f1;\n",
       "  color: #000000;\n",
       "}\n",
       "#T_dbddc_row7_col0 {\n",
       "  background-color: #7ab6d9;\n",
       "  color: #000000;\n",
       "}\n",
       "#T_dbddc_row7_col1 {\n",
       "  background-color: #caddf0;\n",
       "  color: #000000;\n",
       "}\n",
       "#T_dbddc_row8_col0, #T_dbddc_row8_col1 {\n",
       "  background-color: #08306b;\n",
       "  color: #f1f1f1;\n",
       "}\n",
       "</style>\n",
       "<table id=\"T_dbddc\">\n",
       "  <thead>\n",
       "    <tr>\n",
       "      <th class=\"blank level0\" >&nbsp;</th>\n",
       "      <th id=\"T_dbddc_level0_col0\" class=\"col_heading level0 col0\" >AIC</th>\n",
       "      <th id=\"T_dbddc_level0_col1\" class=\"col_heading level0 col1\" >RMSD</th>\n",
       "      <th id=\"T_dbddc_level0_col2\" class=\"col_heading level0 col2\" >kcat [1/s]</th>\n",
       "      <th id=\"T_dbddc_level0_col3\" class=\"col_heading level0 col3\" >Km [None]</th>\n",
       "      <th id=\"T_dbddc_level0_col4\" class=\"col_heading level0 col4\" >kcat / Km [1/s * 1/None]</th>\n",
       "      <th id=\"T_dbddc_level0_col5\" class=\"col_heading level0 col5\" >ki time-dep enzyme-inactiv. [1/s]</th>\n",
       "      <th id=\"T_dbddc_level0_col6\" class=\"col_heading level0 col6\" >Ki competitive [None]</th>\n",
       "      <th id=\"T_dbddc_level0_col7\" class=\"col_heading level0 col7\" >Ki uncompetitive [None]</th>\n",
       "    </tr>\n",
       "  </thead>\n",
       "  <tbody>\n",
       "    <tr>\n",
       "      <th id=\"T_dbddc_level0_row0\" class=\"row_heading level0 row0\" >competitive product inhibition with enzyme inactivation</th>\n",
       "      <td id=\"T_dbddc_row0_col0\" class=\"data row0 col0\" >-647</td>\n",
       "      <td id=\"T_dbddc_row0_col1\" class=\"data row0 col1\" >0.289455</td>\n",
       "      <td id=\"T_dbddc_row0_col2\" class=\"data row0 col2\" >0.8834 +/- 8.05%</td>\n",
       "      <td id=\"T_dbddc_row0_col3\" class=\"data row0 col3\" >52.1943 +/- 6.89%</td>\n",
       "      <td id=\"T_dbddc_row0_col4\" class=\"data row0 col4\" >0.017 +/- 10.59%</td>\n",
       "      <td id=\"T_dbddc_row0_col5\" class=\"data row0 col5\" >0.0008 +/- 6.63%</td>\n",
       "      <td id=\"T_dbddc_row0_col6\" class=\"data row0 col6\" >7.4803 +/- 10.53%</td>\n",
       "      <td id=\"T_dbddc_row0_col7\" class=\"data row0 col7\" >-</td>\n",
       "    </tr>\n",
       "    <tr>\n",
       "      <th id=\"T_dbddc_level0_row1\" class=\"row_heading level0 row1\" >non-competitive product inhibition with enzyme inactivation</th>\n",
       "      <td id=\"T_dbddc_row1_col0\" class=\"data row1 col0\" >-640</td>\n",
       "      <td id=\"T_dbddc_row1_col1\" class=\"data row1 col1\" >0.292072</td>\n",
       "      <td id=\"T_dbddc_row1_col2\" class=\"data row1 col2\" >0.9235 +/- 8.67%</td>\n",
       "      <td id=\"T_dbddc_row1_col3\" class=\"data row1 col3\" >54.7669 +/- 7.87%</td>\n",
       "      <td id=\"T_dbddc_row1_col4\" class=\"data row1 col4\" >0.017 +/- 11.71%</td>\n",
       "      <td id=\"T_dbddc_row1_col5\" class=\"data row1 col5\" >0.0008 +/- 7.22%</td>\n",
       "      <td id=\"T_dbddc_row1_col6\" class=\"data row1 col6\" >7.3406 +/- 10.59%</td>\n",
       "      <td id=\"T_dbddc_row1_col7\" class=\"data row1 col7\" >1000.0000 +/- 255.11%</td>\n",
       "    </tr>\n",
       "    <tr>\n",
       "      <th id=\"T_dbddc_level0_row2\" class=\"row_heading level0 row2\" >competitive product inhibition</th>\n",
       "      <td id=\"T_dbddc_row2_col0\" class=\"data row2 col0\" >-483</td>\n",
       "      <td id=\"T_dbddc_row2_col1\" class=\"data row2 col1\" >0.396128</td>\n",
       "      <td id=\"T_dbddc_row2_col2\" class=\"data row2 col2\" >3.0236 +/- 43.66%</td>\n",
       "      <td id=\"T_dbddc_row2_col3\" class=\"data row2 col3\" >159.0945 +/- 3.45%</td>\n",
       "      <td id=\"T_dbddc_row2_col4\" class=\"data row2 col4\" >0.019 +/- 43.79%</td>\n",
       "      <td id=\"T_dbddc_row2_col5\" class=\"data row2 col5\" >-</td>\n",
       "      <td id=\"T_dbddc_row2_col6\" class=\"data row2 col6\" >3.1493 +/- 10.44%</td>\n",
       "      <td id=\"T_dbddc_row2_col7\" class=\"data row2 col7\" >-</td>\n",
       "    </tr>\n",
       "    <tr>\n",
       "      <th id=\"T_dbddc_level0_row3\" class=\"row_heading level0 row3\" >irreversible Michaelis Menten with enzyme inactivation</th>\n",
       "      <td id=\"T_dbddc_row3_col0\" class=\"data row3 col0\" >-476</td>\n",
       "      <td id=\"T_dbddc_row3_col1\" class=\"data row3 col1\" >0.401024</td>\n",
       "      <td id=\"T_dbddc_row3_col2\" class=\"data row3 col2\" >0.4600 +/- 1.95%</td>\n",
       "      <td id=\"T_dbddc_row3_col3\" class=\"data row3 col3\" >35.1374 +/- 3.00%</td>\n",
       "      <td id=\"T_dbddc_row3_col4\" class=\"data row3 col4\" >0.013 +/- 3.58%</td>\n",
       "      <td id=\"T_dbddc_row3_col5\" class=\"data row3 col5\" >0.0013 +/- 4.47%</td>\n",
       "      <td id=\"T_dbddc_row3_col6\" class=\"data row3 col6\" >-</td>\n",
       "      <td id=\"T_dbddc_row3_col7\" class=\"data row3 col7\" >-</td>\n",
       "    </tr>\n",
       "    <tr>\n",
       "      <th id=\"T_dbddc_level0_row4\" class=\"row_heading level0 row4\" >substrate inhibition with enzyme inactivation</th>\n",
       "      <td id=\"T_dbddc_row4_col0\" class=\"data row4 col0\" >-410</td>\n",
       "      <td id=\"T_dbddc_row4_col1\" class=\"data row4 col1\" >0.453232</td>\n",
       "      <td id=\"T_dbddc_row4_col2\" class=\"data row4 col2\" >0.5232 +/- 4.50%</td>\n",
       "      <td id=\"T_dbddc_row4_col3\" class=\"data row4 col3\" >43.2442 +/- 6.85%</td>\n",
       "      <td id=\"T_dbddc_row4_col4\" class=\"data row4 col4\" >0.012 +/- 8.20%</td>\n",
       "      <td id=\"T_dbddc_row4_col5\" class=\"data row4 col5\" >0.0013 +/- 5.05%</td>\n",
       "      <td id=\"T_dbddc_row4_col6\" class=\"data row4 col6\" >-</td>\n",
       "      <td id=\"T_dbddc_row4_col7\" class=\"data row4 col7\" >1000.0000 +/- 33.45%</td>\n",
       "    </tr>\n",
       "    <tr>\n",
       "      <th id=\"T_dbddc_level0_row5\" class=\"row_heading level0 row5\" >uncompetitive product inhibition</th>\n",
       "      <td id=\"T_dbddc_row5_col0\" class=\"data row5 col0\" >-164</td>\n",
       "      <td id=\"T_dbddc_row5_col1\" class=\"data row5 col1\" >0.725067</td>\n",
       "      <td id=\"T_dbddc_row5_col2\" class=\"data row5 col2\" >0.3773 +/- 11.04%</td>\n",
       "      <td id=\"T_dbddc_row5_col3\" class=\"data row5 col3\" >47.3119 +/- 15.75%</td>\n",
       "      <td id=\"T_dbddc_row5_col4\" class=\"data row5 col4\" >0.008 +/- 19.23%</td>\n",
       "      <td id=\"T_dbddc_row5_col5\" class=\"data row5 col5\" >-</td>\n",
       "      <td id=\"T_dbddc_row5_col6\" class=\"data row5 col6\" >-</td>\n",
       "      <td id=\"T_dbddc_row5_col7\" class=\"data row5 col7\" >114.9252 +/- 59.90%</td>\n",
       "    </tr>\n",
       "    <tr>\n",
       "      <th id=\"T_dbddc_level0_row6\" class=\"row_heading level0 row6\" >irreversible Michaelis Menten</th>\n",
       "      <td id=\"T_dbddc_row6_col0\" class=\"data row6 col0\" >-162</td>\n",
       "      <td id=\"T_dbddc_row6_col1\" class=\"data row6 col1\" >0.730161</td>\n",
       "      <td id=\"T_dbddc_row6_col2\" class=\"data row6 col2\" >0.3084 +/- 2.07%</td>\n",
       "      <td id=\"T_dbddc_row6_col3\" class=\"data row6 col3\" >35.4652 +/- 5.52%</td>\n",
       "      <td id=\"T_dbddc_row6_col4\" class=\"data row6 col4\" >0.009 +/- 5.89%</td>\n",
       "      <td id=\"T_dbddc_row6_col5\" class=\"data row6 col5\" >-</td>\n",
       "      <td id=\"T_dbddc_row6_col6\" class=\"data row6 col6\" >-</td>\n",
       "      <td id=\"T_dbddc_row6_col7\" class=\"data row6 col7\" >-</td>\n",
       "    </tr>\n",
       "    <tr>\n",
       "      <th id=\"T_dbddc_level0_row7\" class=\"row_heading level0 row7\" >substrate inhibition</th>\n",
       "      <td id=\"T_dbddc_row7_col0\" class=\"data row7 col0\" >-138</td>\n",
       "      <td id=\"T_dbddc_row7_col1\" class=\"data row7 col1\" >0.761308</td>\n",
       "      <td id=\"T_dbddc_row7_col2\" class=\"data row7 col2\" >0.3507 +/- 2.27%</td>\n",
       "      <td id=\"T_dbddc_row7_col3\" class=\"data row7 col3\" >43.7210 +/- 5.61%</td>\n",
       "      <td id=\"T_dbddc_row7_col4\" class=\"data row7 col4\" >0.008 +/- 6.05%</td>\n",
       "      <td id=\"T_dbddc_row7_col5\" class=\"data row7 col5\" >-</td>\n",
       "      <td id=\"T_dbddc_row7_col6\" class=\"data row7 col6\" >-</td>\n",
       "      <td id=\"T_dbddc_row7_col7\" class=\"data row7 col7\" >999.9829 +/- 7.75%</td>\n",
       "    </tr>\n",
       "    <tr>\n",
       "      <th id=\"T_dbddc_level0_row8\" class=\"row_heading level0 row8\" >uncompetitive product inhibition with enzyme inactivation</th>\n",
       "      <td id=\"T_dbddc_row8_col0\" class=\"data row8 col0\" >455</td>\n",
       "      <td id=\"T_dbddc_row8_col1\" class=\"data row8 col1\" >2.333152</td>\n",
       "      <td id=\"T_dbddc_row8_col2\" class=\"data row8 col2\" >39.5741 +/- 251177.54%</td>\n",
       "      <td id=\"T_dbddc_row8_col3\" class=\"data row8 col3\" >35.9746 +/- 48.39%</td>\n",
       "      <td id=\"T_dbddc_row8_col4\" class=\"data row8 col4\" >1.100 +/- 251177.55%</td>\n",
       "      <td id=\"T_dbddc_row8_col5\" class=\"data row8 col5\" >0.2469 +/- 250680.32%</td>\n",
       "      <td id=\"T_dbddc_row8_col6\" class=\"data row8 col6\" >-</td>\n",
       "      <td id=\"T_dbddc_row8_col7\" class=\"data row8 col7\" >999.9942 +/- 1332.37%</td>\n",
       "    </tr>\n",
       "  </tbody>\n",
       "</table>\n"
      ],
      "text/plain": [
       "<pandas.io.formats.style.Styler at 0x281b0c7f0>"
      ]
     },
     "metadata": {},
     "output_type": "display_data"
    }
   ],
   "source": [
    "estimator.fit_models()"
   ]
  },
  {
   "cell_type": "code",
   "execution_count": 35,
   "metadata": {},
   "outputs": [
    {
     "name": "stdout",
     "output_type": "stream",
     "text": [
      "\u001b[4mParameter\u001b[0m\n",
      "├── \u001b[94mid\u001b[0m = parameter101\n",
      "├── \u001b[94mname\u001b[0m = k_cat\n",
      "├── \u001b[94mvalue\u001b[0m = 0.8834405544247289\n",
      "├── \u001b[94munit\u001b[0m = 1 / s\n",
      "├── \u001b[94mstandard_deviation\u001b[0m = 0.0710800369910637\n",
      "├── \u001b[94mcorrelations\u001b[0m\n",
      "│   ├── 0\n",
      "│   │   └── \u001b[4mCorrelation\u001b[0m\n",
      "│   │       ├── \u001b[94mid\u001b[0m = correlation260\n",
      "│   │       ├── \u001b[94mparameter\u001b[0m = Km\n",
      "│   │       └── \u001b[94mvalue\u001b[0m = 0.9111374169126325\n",
      "│   ├── 1\n",
      "│   │   └── \u001b[4mCorrelation\u001b[0m\n",
      "│   │       ├── \u001b[94mid\u001b[0m = correlation261\n",
      "│   │       ├── \u001b[94mparameter\u001b[0m = K_ic\n",
      "│   │       └── \u001b[94mvalue\u001b[0m = -0.8929691332722997\n",
      "│   └── 2\n",
      "│       └── \u001b[4mCorrelation\u001b[0m\n",
      "│           ├── \u001b[94mid\u001b[0m = correlation262\n",
      "│           ├── \u001b[94mparameter\u001b[0m = K_ie\n",
      "│           └── \u001b[94mvalue\u001b[0m = -0.480531685576808\n",
      "├── \u001b[94mupper_limit\u001b[0m = 43.034139295716585\n",
      "└── \u001b[94mlower_limit\u001b[0m = 0.004303413929571658\n",
      "\n",
      "\u001b[4mParameter\u001b[0m\n",
      "├── \u001b[94mid\u001b[0m = parameter102\n",
      "├── \u001b[94mname\u001b[0m = Km\n",
      "├── \u001b[94mvalue\u001b[0m = 52.19433597412528\n",
      "├── \u001b[94mstandard_deviation\u001b[0m = 3.597513502751713\n",
      "├── \u001b[94mcorrelations\u001b[0m\n",
      "│   ├── 0\n",
      "│   │   └── \u001b[4mCorrelation\u001b[0m\n",
      "│   │       ├── \u001b[94mid\u001b[0m = correlation263\n",
      "│   │       ├── \u001b[94mparameter\u001b[0m = k_cat\n",
      "│   │       └── \u001b[94mvalue\u001b[0m = 0.9111374169126325\n",
      "│   ├── 1\n",
      "│   │   └── \u001b[4mCorrelation\u001b[0m\n",
      "│   │       ├── \u001b[94mid\u001b[0m = correlation264\n",
      "│   │       ├── \u001b[94mparameter\u001b[0m = K_ic\n",
      "│   │       └── \u001b[94mvalue\u001b[0m = -0.6694224634195621\n",
      "│   └── 2\n",
      "│       └── \u001b[4mCorrelation\u001b[0m\n",
      "│           ├── \u001b[94mid\u001b[0m = correlation265\n",
      "│           ├── \u001b[94mparameter\u001b[0m = K_ie\n",
      "│           └── \u001b[94mvalue\u001b[0m = -0.501153958426318\n",
      "├── \u001b[94mupper_limit\u001b[0m = 159.09447342499016\n",
      "└── \u001b[94mlower_limit\u001b[0m = 0.00015909447342499016\n",
      "\n"
     ]
    },
    {
     "ename": "AttributeError",
     "evalue": "'NoneType' object has no attribute 'replace'",
     "output_type": "error",
     "traceback": [
      "\u001b[0;31m---------------------------------------------------------------------------\u001b[0m",
      "\u001b[0;31mAttributeError\u001b[0m                            Traceback (most recent call last)",
      "Cell \u001b[0;32mIn[35], line 1\u001b[0m\n\u001b[0;32m----> 1\u001b[0m estimator\u001b[39m.\u001b[39;49mvisualize_model_overview()\n",
      "File \u001b[0;32m~/code/EnzymePynetics/EnzymePynetics/tools/parameterestimator.py:1110\u001b[0m, in \u001b[0;36mParameterEstimator.visualize_model_overview\u001b[0;34m(self, visualized_species, save_path)\u001b[0m\n\u001b[1;32m   1104\u001b[0m         \u001b[39mfor\u001b[39;00m parameter \u001b[39min\u001b[39;00m model\u001b[39m.\u001b[39mresult\u001b[39m.\u001b[39mparameters:\n\u001b[1;32m   1105\u001b[0m             \u001b[39mprint\u001b[39m(parameter)\n\u001b[1;32m   1106\u001b[0m             params \u001b[39m=\u001b[39m (\n\u001b[1;32m   1107\u001b[0m                 params\n\u001b[1;32m   1108\u001b[0m                 \u001b[39m+\u001b[39m \u001b[39mf\u001b[39m\u001b[39m\"\u001b[39m\u001b[39m{\u001b[39;00mparam_name_map[parameter\u001b[39m.\u001b[39mname]\u001b[39m}\u001b[39;00m\u001b[39m \u001b[39m\u001b[39m\"\u001b[39m\n\u001b[1;32m   1109\u001b[0m                 \u001b[39m+\u001b[39m \u001b[39mf\u001b[39m\u001b[39m\"\u001b[39m\u001b[39m{\u001b[39;00mparameter\u001b[39m.\u001b[39mvalue\u001b[39m:\u001b[39;00m\u001b[39m.3f\u001b[39m\u001b[39m}\u001b[39;00m\u001b[39m \u001b[39m\u001b[39m\"\u001b[39m\n\u001b[0;32m-> 1110\u001b[0m                 \u001b[39m+\u001b[39m \u001b[39mf\u001b[39m\u001b[39m\"\u001b[39m\u001b[39m{\u001b[39;00m\u001b[39mself\u001b[39;49m\u001b[39m.\u001b[39;49m_format_unit(parameter\u001b[39m.\u001b[39;49munit)\u001b[39m}\u001b[39;00m\u001b[39m \u001b[39m\u001b[39m\\n\u001b[39;00m\u001b[39m\\n\u001b[39;00m\u001b[39m\"\u001b[39m\n\u001b[1;32m   1111\u001b[0m             )\n\u001b[1;32m   1112\u001b[0m         annotations\u001b[39m.\u001b[39mappend(\n\u001b[1;32m   1113\u001b[0m             go\u001b[39m.\u001b[39mlayout\u001b[39m.\u001b[39mAnnotation(\n\u001b[1;32m   1114\u001b[0m                 font\u001b[39m=\u001b[39m\u001b[39mdict\u001b[39m(color\u001b[39m=\u001b[39m\u001b[39m\"\u001b[39m\u001b[39mblack\u001b[39m\u001b[39m\"\u001b[39m, size\u001b[39m=\u001b[39m\u001b[39m10\u001b[39m),\n\u001b[0;32m   (...)\u001b[0m\n\u001b[1;32m   1123\u001b[0m             )\n\u001b[1;32m   1124\u001b[0m         )\n\u001b[1;32m   1126\u001b[0m empty_annotation \u001b[39m=\u001b[39m go\u001b[39m.\u001b[39mlayout\u001b[39m.\u001b[39mAnnotation(\n\u001b[1;32m   1127\u001b[0m     font\u001b[39m=\u001b[39m\u001b[39mdict\u001b[39m(color\u001b[39m=\u001b[39m\u001b[39m\"\u001b[39m\u001b[39mwhite\u001b[39m\u001b[39m\"\u001b[39m),\n\u001b[1;32m   1128\u001b[0m     x\u001b[39m=\u001b[39m\u001b[39m0\u001b[39m,\n\u001b[0;32m   (...)\u001b[0m\n\u001b[1;32m   1135\u001b[0m     xanchor\u001b[39m=\u001b[39m\u001b[39m\"\u001b[39m\u001b[39mleft\u001b[39m\u001b[39m\"\u001b[39m,\n\u001b[1;32m   1136\u001b[0m )\n",
      "File \u001b[0;32m~/code/EnzymePynetics/EnzymePynetics/tools/parameterestimator.py:700\u001b[0m, in \u001b[0;36mParameterEstimator._format_unit\u001b[0;34m(unit)\u001b[0m\n\u001b[1;32m    698\u001b[0m \u001b[39m@staticmethod\u001b[39m\n\u001b[1;32m    699\u001b[0m \u001b[39mdef\u001b[39;00m \u001b[39m_format_unit\u001b[39m(unit: \u001b[39mstr\u001b[39m) \u001b[39m-\u001b[39m\u001b[39m>\u001b[39m \u001b[39mstr\u001b[39m:\n\u001b[0;32m--> 700\u001b[0m     unit \u001b[39m=\u001b[39m unit\u001b[39m.\u001b[39;49mreplace(\u001b[39m\"\u001b[39m\u001b[39m / l\u001b[39m\u001b[39m\"\u001b[39m, \u001b[39m\"\u001b[39m\u001b[39m L<sup>-1</sup>\u001b[39m\u001b[39m\"\u001b[39m)\n\u001b[1;32m    701\u001b[0m     unit \u001b[39m=\u001b[39m unit\u001b[39m.\u001b[39mreplace(\u001b[39m\"\u001b[39m\u001b[39m1 / s\u001b[39m\u001b[39m\"\u001b[39m, \u001b[39m\"\u001b[39m\u001b[39ms<sup>-1</sup>\u001b[39m\u001b[39m\"\u001b[39m)\n\u001b[1;32m    702\u001b[0m     unit \u001b[39m=\u001b[39m unit\u001b[39m.\u001b[39mreplace(\u001b[39m\"\u001b[39m\u001b[39m1 / min\u001b[39m\u001b[39m\"\u001b[39m, \u001b[39m\"\u001b[39m\u001b[39mmin<sup>-1</sup>\u001b[39m\u001b[39m\"\u001b[39m)\n",
      "\u001b[0;31mAttributeError\u001b[0m: 'NoneType' object has no attribute 'replace'"
     ]
    }
   ],
   "source": [
    "estimator.visualize_model_overview()"
   ]
  },
  {
   "cell_type": "code",
   "execution_count": null,
   "metadata": {},
   "outputs": [
    {
     "data": {
      "text/plain": [
       "[1, 2, 3, 4]"
      ]
     },
     "execution_count": 18,
     "metadata": {},
     "output_type": "execute_result"
    }
   ],
   "source": [
    "a = [1, 2, 3, 4]\n",
    "a"
   ]
  },
  {
   "cell_type": "code",
   "execution_count": null,
   "metadata": {},
   "outputs": [],
   "source": [
    "a[2] = 66"
   ]
  },
  {
   "cell_type": "code",
   "execution_count": null,
   "metadata": {},
   "outputs": [],
   "source": [
    "import numpy as np"
   ]
  },
  {
   "cell_type": "code",
   "execution_count": null,
   "metadata": {},
   "outputs": [
    {
     "ename": "ValueError",
     "evalue": "cannot reshape array of size 10 into shape (4)",
     "output_type": "error",
     "traceback": [
      "\u001b[0;31m---------------------------------------------------------------------------\u001b[0m",
      "\u001b[0;31mValueError\u001b[0m                                Traceback (most recent call last)",
      "Cell \u001b[0;32mIn[23], line 8\u001b[0m\n\u001b[1;32m      5\u001b[0m repeated_array \u001b[39m=\u001b[39m np\u001b[39m.\u001b[39mrepeat(array1, array2)\n\u001b[1;32m      7\u001b[0m \u001b[39m# Reshape the repeated array to a 2D array\u001b[39;00m\n\u001b[0;32m----> 8\u001b[0m repeated_array_2d \u001b[39m=\u001b[39m repeated_array\u001b[39m.\u001b[39;49mreshape(\u001b[39m-\u001b[39;49m\u001b[39m1\u001b[39;49m, np\u001b[39m.\u001b[39;49mmax(array2))\n\u001b[1;32m     10\u001b[0m \u001b[39mprint\u001b[39m(repeated_array_2d)\n",
      "\u001b[0;31mValueError\u001b[0m: cannot reshape array of size 10 into shape (4)"
     ]
    }
   ],
   "source": [
    "array1 = np.array([1, 2, 3, 4, 5])\n",
    "array2 = np.array([2, 1, 3, 0, 4])"
   ]
  },
  {
   "cell_type": "code",
   "execution_count": null,
   "metadata": {},
   "outputs": [
    {
     "data": {
      "text/plain": [
       "\"['sdgs']\""
      ]
     },
     "execution_count": 4,
     "metadata": {},
     "output_type": "execute_result"
    }
   ],
   "source": [
    "val = [\"sdgs\"]\n",
    "str(val)"
   ]
  },
  {
   "cell_type": "code",
   "execution_count": 13,
   "metadata": {},
   "outputs": [
    {
     "data": {
      "text/plain": [
       "True"
      ]
     },
     "execution_count": 13,
     "metadata": {},
     "output_type": "execute_result"
    }
   ],
   "source": [
    "l = [0, 0, 0.0, 0, 0]\n",
    "\n",
    "all(i == 0 for i in l)"
   ]
  },
  {
   "cell_type": "code",
   "execution_count": null,
   "metadata": {},
   "outputs": [
    {
     "data": {
      "text/plain": [
       "False"
      ]
     },
     "execution_count": 11,
     "metadata": {},
     "output_type": "execute_result"
    }
   ],
   "source": []
  },
  {
   "cell_type": "code",
   "execution_count": null,
   "metadata": {},
   "outputs": [],
   "source": []
  }
 ],
 "metadata": {
  "kernelspec": {
   "display_name": "msc",
   "language": "python",
   "name": "python3"
  },
  "language_info": {
   "codemirror_mode": {
    "name": "ipython",
    "version": 3
   },
   "file_extension": ".py",
   "mimetype": "text/x-python",
   "name": "python",
   "nbconvert_exporter": "python",
   "pygments_lexer": "ipython3",
   "version": "3.10.9"
  },
  "orig_nbformat": 4
 },
 "nbformat": 4,
 "nbformat_minor": 2
}
