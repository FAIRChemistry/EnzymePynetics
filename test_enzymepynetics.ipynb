{
 "cells": [
  {
   "cell_type": "code",
   "execution_count": 1,
   "metadata": {},
   "outputs": [],
   "source": [
    "from sdRDM.generator import generate_python_api"
   ]
  },
  {
   "cell_type": "code",
   "execution_count": 2,
   "metadata": {},
   "outputs": [],
   "source": [
    "# generate_python_api(\"specifications/enzymepynetics.md\", \"\", \"EnzymePynetics\")"
   ]
  },
  {
   "cell_type": "code",
   "execution_count": 3,
   "metadata": {},
   "outputs": [],
   "source": [
    "%reload_ext autoreload\n",
    "%autoreload 2\n",
    "\n",
    "from EnzymePynetics import Estimator"
   ]
  },
  {
   "cell_type": "markdown",
   "metadata": {},
   "source": [
    "## Initialize the Estimator from an EnzymeML document"
   ]
  },
  {
   "cell_type": "code",
   "execution_count": 4,
   "metadata": {},
   "outputs": [
    {
     "name": "stdout",
     "output_type": "stream",
     "text": [
      "{'id': 'estimator0', 'name': None, 'measured_reactant': None, 'species': [], 'reactions': [], 'models': [], 'measurements': []}\n"
     ]
    }
   ],
   "source": [
    "e = Estimator.from_enzymeml(\n",
    "    enzymeml_doc=\"/Users/max/Documents/GitHub/MTPHandler/enzymeml_doc.json\",\n",
    "    measured_reactant=\"ABTS\",\n",
    ")\n",
    "\n",
    "abts, abts_radical = e.reactants\n",
    "slac = e.enzymes[0]"
   ]
  },
  {
   "cell_type": "code",
   "execution_count": 5,
   "metadata": {},
   "outputs": [
    {
     "data": {
      "text/plain": [
       "Reactant(id='s0', name='ABTS', vessel_id='plate0', init_conc=None, constant=False, unit=None, uri=None, creator_id=None, smiles=None, inchi=None, chebi_id=None, ontology='SBO:0000247')"
      ]
     },
     "execution_count": 5,
     "metadata": {},
     "output_type": "execute_result"
    }
   ],
   "source": [
    "e.measured_reactant"
   ]
  },
  {
   "cell_type": "markdown",
   "metadata": {},
   "source": [
    "## Define the reaction"
   ]
  },
  {
   "cell_type": "code",
   "execution_count": 6,
   "metadata": {},
   "outputs": [],
   "source": [
    "oxidation = e.add_reaction(\n",
    "    id=\"r1\", name=\"Oxidation\", educt=abts, product=abts_radical, enzyme=slac\n",
    ")"
   ]
  },
  {
   "cell_type": "markdown",
   "metadata": {},
   "source": [
    "## Add a kinetic model"
   ]
  },
  {
   "cell_type": "code",
   "execution_count": 7,
   "metadata": {},
   "outputs": [],
   "source": [
    "michaelis = e.add_model(\n",
    "    id=\"model1\",\n",
    "    name=\"Michaelis-Menten\",\n",
    "    equation=\"substrate = -substrate * enzyme * k_cat / (K_m + substrate)\",\n",
    ")\n",
    "\n",
    "enzyme_inactivation = e.add_model(\n",
    "    id=\"model2\",\n",
    "    name=\"Enzyme Inactivation\",\n",
    "    equation=\"enzyme = -enzyme * k_ie\",\n",
    ")\n",
    "\n",
    "competitive_product = e.add_model(\n",
    "    id=\"model3\",\n",
    "    name=\"Competitive Product Inhibition\",\n",
    "    equation=\"substrate = -substrate * enzyme * k_cat / K_m * (1 + product / K_ic) + substrate\",\n",
    ")\n",
    "\n",
    "enzyme_constant = e.add_model(\n",
    "    id=\"model4\",\n",
    "    name=\"Enzyme Constant\",\n",
    "    equation=\"enzyme = enzyme\",\n",
    ")"
   ]
  },
  {
   "cell_type": "markdown",
   "metadata": {},
   "source": [
    "## Next steps:\n",
    "\n",
    "- init estimation for $k_{cat}$ and $K_m$\n",
    "- model callable\n",
    "- model combinations\n",
    "- fitting\n",
    "- visualization"
   ]
  },
  {
   "cell_type": "code",
   "execution_count": null,
   "metadata": {},
   "outputs": [],
   "source": []
  }
 ],
 "metadata": {
  "kernelspec": {
   "display_name": "sdrdm_example",
   "language": "python",
   "name": "python3"
  },
  "language_info": {
   "codemirror_mode": {
    "name": "ipython",
    "version": 3
   },
   "file_extension": ".py",
   "mimetype": "text/x-python",
   "name": "python",
   "nbconvert_exporter": "python",
   "pygments_lexer": "ipython3",
   "version": "3.11.3"
  },
  "orig_nbformat": 4
 },
 "nbformat": 4,
 "nbformat_minor": 2
}
