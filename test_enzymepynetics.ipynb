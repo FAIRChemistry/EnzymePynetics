{
 "cells": [
  {
   "cell_type": "code",
   "execution_count": 1,
   "metadata": {},
   "outputs": [],
   "source": [
    "from sdRDM.generator import generate_python_api"
   ]
  },
  {
   "cell_type": "code",
   "execution_count": 2,
   "metadata": {},
   "outputs": [],
   "source": [
    "# generate_python_api(\"specifications/enzymepynetics.md\", \"\", \"EnzymePynetics\")"
   ]
  },
  {
   "cell_type": "code",
   "execution_count": 3,
   "metadata": {},
   "outputs": [],
   "source": [
    "%reload_ext autoreload\n",
    "%autoreload 2\n",
    "\n",
    "from EnzymePynetics import Estimator"
   ]
  },
  {
   "cell_type": "markdown",
   "metadata": {},
   "source": [
    "## Initialize the Estimator from an EnzymeML document"
   ]
  },
  {
   "cell_type": "code",
   "execution_count": 4,
   "metadata": {},
   "outputs": [],
   "source": [
    "e = Estimator.from_enzymeml(\n",
    "    \"/Users/max/Documents/GitHub/MTPHandler/enzymeml_doc.json\")\n",
    "\n",
    "abts, abts_radical = e.reactants\n",
    "slac = e.enzymes[0]"
   ]
  },
  {
   "cell_type": "code",
   "execution_count": 5,
   "metadata": {},
   "outputs": [
    {
     "data": {
      "text/plain": [
       "Protein(id='p0', name='SLAC', vessel_id='plate0', init_conc=None, constant=True, unit=None, uri=None, creator_id=None, sequence='MSSKSKPKDVKV', ecnumber=None, organism=None, organism_tax_id=None, uniprotid=None, ontology='SBO:0000013')"
      ]
     },
     "execution_count": 5,
     "metadata": {},
     "output_type": "execute_result"
    }
   ],
   "source": [
    "slac"
   ]
  },
  {
   "cell_type": "markdown",
   "metadata": {},
   "source": [
    "## Define the reaction"
   ]
  },
  {
   "cell_type": "code",
   "execution_count": 21,
   "metadata": {},
   "outputs": [],
   "source": [
    "oxidation = e.add_reaction(\n",
    "    id=\"r1\",\n",
    "    name=\"Oxidation\",\n",
    "    educt=abts,\n",
    "    product=abts_radical,\n",
    "    enzyme=slac\n",
    ")"
   ]
  },
  {
   "cell_type": "markdown",
   "metadata": {},
   "source": [
    "## Add a kinetic model"
   ]
  },
  {
   "cell_type": "code",
   "execution_count": 29,
   "metadata": {},
   "outputs": [
    {
     "name": "stdout",
     "output_type": "stream",
     "text": [
      "['Km', 'kcat']\n"
     ]
    },
    {
     "name": "stderr",
     "output_type": "stream",
     "text": [
      "[autoreload of EnzymePynetics.modified.estimator failed: Traceback (most recent call last):\n",
      "  File \"/Users/max/miniconda3/envs/sdrdm_example/lib/python3.11/site-packages/IPython/extensions/autoreload.py\", line 276, in check\n",
      "    superreload(m, reload, self.old_objects)\n",
      "  File \"/Users/max/miniconda3/envs/sdrdm_example/lib/python3.11/site-packages/IPython/extensions/autoreload.py\", line 475, in superreload\n",
      "    module = reload(module)\n",
      "             ^^^^^^^^^^^^^^\n",
      "  File \"/Users/max/miniconda3/envs/sdrdm_example/lib/python3.11/importlib/__init__.py\", line 169, in reload\n",
      "    _bootstrap._exec(spec, module)\n",
      "  File \"<frozen importlib._bootstrap>\", line 621, in _exec\n",
      "  File \"<frozen importlib._bootstrap_external>\", line 940, in exec_module\n",
      "  File \"<frozen importlib._bootstrap>\", line 241, in _call_with_frames_removed\n",
      "  File \"/Users/max/code/EnzymePynetics/EnzymePynetics/modified/estimator.py\", line 20, in <module>\n",
      "    from EnzymePynetics.models import K_CAT, K_M, K_IC, K_IU\n",
      "  File \"/Users/max/code/EnzymePynetics/EnzymePynetics/models/__init__.py\", line 1, in <module>\n",
      "    from .parameters import K_CAT, K_M, K_IC, K_IU\n",
      "  File \"/Users/max/code/EnzymePynetics/EnzymePynetics/models/parameters.py\", line 3, in <module>\n",
      "    K_CAT = KineticParameter(\n",
      "            ^^^^^^^^^^^^^^^^^\n",
      "  File \"/Users/max/Documents/GitHub/software-driven-rdm/sdRDM/base/datamodel.py\", line 90, in __init__\n",
      "    super().__init__(**data)\n",
      "pydantic.error_wrappers.ValidationError: 2 validation errors for KineticParameter\n",
      "value\n",
      "  field required (type=value_error.missing)\n",
      "unit\n",
      "  field required (type=value_error.missing)\n",
      "]\n"
     ]
    },
    {
     "ename": "NameError",
     "evalue": "name 're' is not defined",
     "output_type": "error",
     "traceback": [
      "\u001b[0;31m---------------------------------------------------------------------------\u001b[0m",
      "\u001b[0;31mNameError\u001b[0m                                 Traceback (most recent call last)",
      "\u001b[1;32m/Users/max/code/EnzymePynetics/test_enzymepynetics.ipynb Cell 10\u001b[0m line \u001b[0;36m1\n\u001b[0;32m----> <a href='vscode-notebook-cell:/Users/max/code/EnzymePynetics/test_enzymepynetics.ipynb#X22sZmlsZQ%3D%3D?line=0'>1</a>\u001b[0m michaelis \u001b[39m=\u001b[39m e\u001b[39m.\u001b[39;49madd_model(\n\u001b[1;32m      <a href='vscode-notebook-cell:/Users/max/code/EnzymePynetics/test_enzymepynetics.ipynb#X22sZmlsZQ%3D%3D?line=1'>2</a>\u001b[0m     name\u001b[39m=\u001b[39;49m\u001b[39m\"\u001b[39;49m\u001b[39mMichaelis-Menten\u001b[39;49m\u001b[39m\"\u001b[39;49m,\n\u001b[1;32m      <a href='vscode-notebook-cell:/Users/max/code/EnzymePynetics/test_enzymepynetics.ipynb#X22sZmlsZQ%3D%3D?line=2'>3</a>\u001b[0m     equation\u001b[39m=\u001b[39;49m\u001b[39m\"\u001b[39;49m\u001b[39msubstrate * enzyme * kcat / (Km + substrate)\u001b[39;49m\u001b[39m\"\u001b[39;49m,\n\u001b[1;32m      <a href='vscode-notebook-cell:/Users/max/code/EnzymePynetics/test_enzymepynetics.ipynb#X22sZmlsZQ%3D%3D?line=3'>4</a>\u001b[0m )\n",
      "File \u001b[0;32m~/code/EnzymePynetics/EnzymePynetics/modified/estimator.py:265\u001b[0m, in \u001b[0;36mEstimator.add_model\u001b[0;34m(self, name, equation, parameters, ontology, id)\u001b[0m\n\u001b[1;32m    253\u001b[0m \u001b[39m\u001b[39m\u001b[39m\"\"\"\u001b[39;00m\n\u001b[1;32m    254\u001b[0m \u001b[39mThis method adds an object of type 'KineticModel' to attribute models\u001b[39;00m\n\u001b[1;32m    255\u001b[0m \n\u001b[0;32m   (...)\u001b[0m\n\u001b[1;32m    261\u001b[0m \u001b[39m    ontology (): Type of the estimated parameter.. Defaults to None\u001b[39;00m\n\u001b[1;32m    262\u001b[0m \u001b[39m\"\"\"\u001b[39;00m\n\u001b[1;32m    264\u001b[0m \u001b[39mif\u001b[39;00m \u001b[39mnot\u001b[39;00m parameters:\n\u001b[0;32m--> 265\u001b[0m     \u001b[39mself\u001b[39;49m\u001b[39m.\u001b[39;49m_extract_parameters(equation)\n\u001b[1;32m    267\u001b[0m params \u001b[39m=\u001b[39m {\n\u001b[1;32m    268\u001b[0m     \u001b[39m\"\u001b[39m\u001b[39mname\u001b[39m\u001b[39m\"\u001b[39m: name,\n\u001b[1;32m    269\u001b[0m     \u001b[39m\"\u001b[39m\u001b[39mequation\u001b[39m\u001b[39m\"\u001b[39m: equation,\n\u001b[1;32m    270\u001b[0m     \u001b[39m\"\u001b[39m\u001b[39mparameters\u001b[39m\u001b[39m\"\u001b[39m: parameters,\n\u001b[1;32m    271\u001b[0m     \u001b[39m\"\u001b[39m\u001b[39montology\u001b[39m\u001b[39m\"\u001b[39m: ontology,\n\u001b[1;32m    272\u001b[0m }\n\u001b[1;32m    274\u001b[0m \u001b[39mif\u001b[39;00m \u001b[39mid\u001b[39m \u001b[39mis\u001b[39;00m \u001b[39mnot\u001b[39;00m \u001b[39mNone\u001b[39;00m:\n",
      "File \u001b[0;32m~/code/EnzymePynetics/EnzymePynetics/modified/estimator.py:294\u001b[0m, in \u001b[0;36mEstimator._extract_parameters\u001b[0;34m(self, equation)\u001b[0m\n\u001b[1;32m    291\u001b[0m \u001b[39mprint\u001b[39m(param_names)\n\u001b[1;32m    293\u001b[0m parameters \u001b[39m=\u001b[39m []\n\u001b[0;32m--> 294\u001b[0m \u001b[39mfor\u001b[39;00m parameter \u001b[39min\u001b[39;00m re\u001b[39m.\u001b[39mfindall(\u001b[39mr\u001b[39m\u001b[39m\"\u001b[39m\u001b[39m([a-zA-Z]+)\u001b[39m\u001b[39m\"\u001b[39m, equation):\n\u001b[1;32m    295\u001b[0m     \u001b[39mif\u001b[39;00m parameter \u001b[39mnot\u001b[39;00m \u001b[39min\u001b[39;00m parameters:\n\u001b[1;32m    296\u001b[0m         parameters\u001b[39m.\u001b[39mappend(parameter)\n",
      "\u001b[0;31mNameError\u001b[0m: name 're' is not defined"
     ]
    }
   ],
   "source": [
    "michaelis = e.add_model(\n",
    "    name=\"Michaelis-Menten\",\n",
    "    equation=\"substrate * enzyme * kcat / (Km + substrate)\",\n",
    ")"
   ]
  },
  {
   "cell_type": "code",
   "execution_count": 19,
   "metadata": {},
   "outputs": [
    {
     "data": {
      "text/plain": [
       "[Reaction(id='r1', name='Oxidation', reversible=False, temperature=35.0, temperature_unit='C', ph=3.5, ontology='SBO:0000176', uri=None, creator_id=None, model=None, educts=[ReactionElement(id='reactionelement18', species_id='s0', stoichiometry=1.0, constant=False, ontology='SBO:0000015')], products=[ReactionElement(id='reactionelement19', species_id='s2', stoichiometry=1.0, constant=False, ontology='SBO:0000011')], modifiers=[ReactionElement(id='reactionelement20', species_id='p0', stoichiometry=1.0, constant=True, ontology='SBO:0000013')])]"
      ]
     },
     "execution_count": 19,
     "metadata": {},
     "output_type": "execute_result"
    }
   ],
   "source": [
    "e.reactions"
   ]
  },
  {
   "cell_type": "code",
   "execution_count": 8,
   "metadata": {},
   "outputs": [
    {
     "ename": "AttributeError",
     "evalue": "'Reaction' object has no attribute 'constant'",
     "output_type": "error",
     "traceback": [
      "\u001b[0;31m---------------------------------------------------------------------------\u001b[0m",
      "\u001b[0;31mAttributeError\u001b[0m                            Traceback (most recent call last)",
      "\u001b[1;32m/Users/max/code/EnzymePynetics/test_enzymepynetics.ipynb Cell 10\u001b[0m line \u001b[0;36m2\n\u001b[1;32m      <a href='vscode-notebook-cell:/Users/max/code/EnzymePynetics/test_enzymepynetics.ipynb#W4sZmlsZQ%3D%3D?line=0'>1</a>\u001b[0m \u001b[39m# Organize species of the reaction\u001b[39;00m\n\u001b[0;32m----> <a href='vscode-notebook-cell:/Users/max/code/EnzymePynetics/test_enzymepynetics.ipynb#W4sZmlsZQ%3D%3D?line=1'>2</a>\u001b[0m abts, abts_radical \u001b[39m=\u001b[39m e\u001b[39m.\u001b[39;49mreactants\n\u001b[1;32m      <a href='vscode-notebook-cell:/Users/max/code/EnzymePynetics/test_enzymepynetics.ipynb#W4sZmlsZQ%3D%3D?line=2'>3</a>\u001b[0m slac \u001b[39m=\u001b[39m e\u001b[39m.\u001b[39mcatalysts[\u001b[39m0\u001b[39m]\n",
      "File \u001b[0;32m~/code/EnzymePynetics/EnzymePynetics/modified/estimator.py:345\u001b[0m, in \u001b[0;36mEstimator.reactants\u001b[0;34m(self)\u001b[0m\n\u001b[1;32m    343\u001b[0m \u001b[39m@property\u001b[39m\n\u001b[1;32m    344\u001b[0m \u001b[39mdef\u001b[39;00m \u001b[39mreactants\u001b[39m(\u001b[39mself\u001b[39m):\n\u001b[0;32m--> 345\u001b[0m     \u001b[39mreturn\u001b[39;00m [species \u001b[39mfor\u001b[39;49;00m species \u001b[39min\u001b[39;49;00m \u001b[39mself\u001b[39;49m\u001b[39m.\u001b[39;49mspecies \u001b[39mif\u001b[39;49;00m species\u001b[39m.\u001b[39;49mconstant \u001b[39m==\u001b[39;49m \u001b[39mFalse\u001b[39;49;00m]\n",
      "File \u001b[0;32m~/code/EnzymePynetics/EnzymePynetics/modified/estimator.py:345\u001b[0m, in \u001b[0;36m<listcomp>\u001b[0;34m(.0)\u001b[0m\n\u001b[1;32m    343\u001b[0m \u001b[39m@property\u001b[39m\n\u001b[1;32m    344\u001b[0m \u001b[39mdef\u001b[39;00m \u001b[39mreactants\u001b[39m(\u001b[39mself\u001b[39m):\n\u001b[0;32m--> 345\u001b[0m     \u001b[39mreturn\u001b[39;00m [species \u001b[39mfor\u001b[39;00m species \u001b[39min\u001b[39;00m \u001b[39mself\u001b[39m\u001b[39m.\u001b[39mspecies \u001b[39mif\u001b[39;00m species\u001b[39m.\u001b[39;49mconstant \u001b[39m==\u001b[39m \u001b[39mFalse\u001b[39;00m]\n",
      "\u001b[0;31mAttributeError\u001b[0m: 'Reaction' object has no attribute 'constant'"
     ]
    }
   ],
   "source": [
    "# Organize species of the reaction\n",
    "abts, abts_radical = e.reactants\n",
    "slac = e.catalysts[0]"
   ]
  },
  {
   "cell_type": "code",
   "execution_count": null,
   "metadata": {},
   "outputs": [
    {
     "data": {
      "text/plain": [
       "[Protein(id='p0', name='SLAC', vessel_id='plate0', init_conc=None, constant=True, unit=None, uri=None, creator_id=None, sequence='MSSKSKPKDVKV', ecnumber=None, organism=None, organism_tax_id=None, uniprotid=None, ontology='SBO:0000013')]"
      ]
     },
     "execution_count": 9,
     "metadata": {},
     "output_type": "execute_result"
    }
   ],
   "source": [
    "e.catalysts"
   ]
  },
  {
   "cell_type": "code",
   "execution_count": null,
   "metadata": {},
   "outputs": [],
   "source": [
    "from EnzymePynetics.modified import AbstractSpecies, Protein, Reactant"
   ]
  },
  {
   "cell_type": "code",
   "execution_count": null,
   "metadata": {},
   "outputs": [],
   "source": [
    "pro = Protein(name=\"Protein\", sequence=\"MAG\", constant=True, vessel_id=\"we\")\n",
    "sub = Reactant(name=\"Substrate\", constant=True, vessel_id=\"we\")"
   ]
  },
  {
   "cell_type": "code",
   "execution_count": null,
   "metadata": {},
   "outputs": [],
   "source": [
    "es = Estimator()\n",
    "es.species = [pro, sub]"
   ]
  },
  {
   "cell_type": "code",
   "execution_count": null,
   "metadata": {},
   "outputs": [
    {
     "data": {
      "text/plain": [
       "EnzymePynetics.modified.protein.Protein"
      ]
     },
     "execution_count": 10,
     "metadata": {},
     "output_type": "execute_result"
    }
   ],
   "source": []
  }
 ],
 "metadata": {
  "kernelspec": {
   "display_name": "sdrdm_example",
   "language": "python",
   "name": "python3"
  },
  "language_info": {
   "codemirror_mode": {
    "name": "ipython",
    "version": 3
   },
   "file_extension": ".py",
   "mimetype": "text/x-python",
   "name": "python",
   "nbconvert_exporter": "python",
   "pygments_lexer": "ipython3",
   "version": "3.11.3"
  },
  "orig_nbformat": 4
 },
 "nbformat": 4,
 "nbformat_minor": 2
}
