{
 "cells": [
  {
   "cell_type": "code",
   "execution_count": 1,
   "metadata": {},
   "outputs": [],
   "source": [
    "# from sdRDM.generator import generate_python_api"
   ]
  },
  {
   "cell_type": "code",
   "execution_count": 2,
   "metadata": {},
   "outputs": [],
   "source": [
    "# generate_python_api(\"specifications/enzymepynetics.md\", \"\", \"EnzymePynetics\")"
   ]
  },
  {
   "cell_type": "code",
   "execution_count": 2,
   "metadata": {},
   "outputs": [],
   "source": [
    "%reload_ext autoreload\n",
    "%autoreload 2\n",
    "\n",
    "from EnzymePynetics import Estimator"
   ]
  },
  {
   "cell_type": "markdown",
   "metadata": {},
   "source": [
    "## Initialize the Estimator from an EnzymeML document"
   ]
  },
  {
   "cell_type": "code",
   "execution_count": 3,
   "metadata": {},
   "outputs": [],
   "source": [
    "e = Estimator.from_enzymeml(\n",
    "    enzymeml_doc=\"/Users/max/Documents/GitHub/MTPHandler/SLAC_kinetic_assay.json\",\n",
    "    measured_reactant=\"ABTS\",\n",
    ")\n",
    "\n",
    "abts, abts_radical = e.reactants\n",
    "slac = e.enzymes[0]"
   ]
  },
  {
   "cell_type": "markdown",
   "metadata": {},
   "source": [
    "## Define the reaction"
   ]
  },
  {
   "cell_type": "code",
   "execution_count": 4,
   "metadata": {},
   "outputs": [],
   "source": [
    "oxidation = e.add_reaction(\n",
    "    id=\"r1\", name=\"Oxidation\", educt=abts, product=abts_radical, enzyme=slac\n",
    ")"
   ]
  },
  {
   "cell_type": "markdown",
   "metadata": {},
   "source": [
    "## Add a kinetic models"
   ]
  },
  {
   "cell_type": "code",
   "execution_count": 5,
   "metadata": {},
   "outputs": [],
   "source": [
    "michaelis = e.add_model(\n",
    "    id=\"model1\",\n",
    "    name=\"michaelis-menten\",\n",
    "    equation=\"substrate = -substrate * enzyme * k_cat / (K_m + substrate)\",\n",
    ")\n",
    "\n",
    "enzyme_inactivation = e.add_model(\n",
    "    id=\"model2\",\n",
    "    name=\"enzyme inactivation\",\n",
    "    equation=\"enzyme = -enzyme * k_ie\",\n",
    ")\n",
    "\n",
    "competitive_product = e.add_model(\n",
    "    id=\"model3\",\n",
    "    name=\"competitive product inhibition\",\n",
    "    equation=\"substrate = -substrate * enzyme * k_cat / K_m * (1 + product / K_ic) + substrate\",\n",
    ")"
   ]
  },
  {
   "cell_type": "code",
   "execution_count": 48,
   "metadata": {},
   "outputs": [],
   "source": [
    "sys2 = e.reaction_systems[1]"
   ]
  },
  {
   "cell_type": "code",
   "execution_count": 49,
   "metadata": {},
   "outputs": [
    {
     "name": "stdout",
     "output_type": "stream",
     "text": [
      "we startin\n",
      "1.3098478952870691\n",
      "0.7178072017469643\n",
      "0.7701635328794881\n"
     ]
    },
    {
     "data": {
      "text/html": [
       "<h2>Fit Statistics</h2><table><tr><td>fitting method</td><td>leastsq</td><td></td></tr><tr><td># function evals</td><td>78</td><td></td></tr><tr><td># data points</td><td>63</td><td></td></tr><tr><td># variables</td><td>3</td><td></td></tr><tr><td>chi-square</td><td> 202.899715</td><td></td></tr><tr><td>reduced chi-square</td><td> 3.38166192</td><td></td></tr><tr><td>Akaike info crit.</td><td> 79.6833584</td><td></td></tr><tr><td>Bayesian info crit.</td><td> 86.1127626</td><td></td></tr></table><h2>Variables</h2><table><tr><th> name </th><th> value </th><th> standard error </th><th> relative error </th><th> initial value </th><th> min </th><th> max </th><th> vary </th></tr><tr><td> K_m </td><td>  1.30984790 </td><td>  4.98068623 </td><td> (380.25%) </td><td> 100.0 </td><td>  0.10000000 </td><td>  10000.0000 </td><td> True </td></tr><tr><td> k_cat </td><td>  0.71780720 </td><td>  0.16885187 </td><td> (23.52%) </td><td> 8.756705705198392 </td><td>  0.00875671 </td><td>  875.670571 </td><td> True </td></tr><tr><td> k_ie </td><td>  0.77016353 </td><td>  0.05450033 </td><td> (7.08%) </td><td> 0.007701635339554948 </td><td>  7.7016e-06 </td><td>  0.77016353 </td><td> True </td></tr></table><h2>Correlations (unreported correlations are < 0.100)</h2><table><tr><td>k_cat</td><td>k_ie</td><td>-0.9447</td></tr><tr><td>K_m</td><td>k_cat</td><td>+0.2321</td></tr></table>"
      ],
      "text/plain": [
       "<lmfit.minimizer.MinimizerResult at 0x28c68cb10>"
      ]
     },
     "execution_count": 49,
     "metadata": {},
     "output_type": "execute_result"
    }
   ],
   "source": [
    "sys2.fit(\n",
    "    e.substrate_data[:, :3],\n",
    "    e.product_data[:, :3],\n",
    "    e.enzyme_data[:, :3],\n",
    "    e.time_data[:, :3]\n",
    ")"
   ]
  },
  {
   "cell_type": "code",
   "execution_count": 44,
   "metadata": {},
   "outputs": [
    {
     "name": "stdout",
     "output_type": "stream",
     "text": [
      "we startin\n",
      "8.420560451942784\n",
      "0.49187890798916195\n",
      "0.2189262082552705\n"
     ]
    }
   ],
   "source": [
    "res = sys2.fit(\n",
    "    e.substrate_data,\n",
    "    e.product_data,\n",
    "    e.enzyme_data,\n",
    "    e.time_data,\n",
    ")"
   ]
  },
  {
   "cell_type": "code",
   "execution_count": 46,
   "metadata": {},
   "outputs": [
    {
     "data": {
      "text/plain": [
       "[KineticParameter(id='kineticparameter2', name='k_ie', value=0.2189262082552705, unit='min', initial_value=0.007701635339554948, upper=0.7701635339554948, lower=7.701635339554948e-06, is_global=False, stdev=0.02406250441552234, constant=False, ontology=None)]"
      ]
     },
     "execution_count": 46,
     "metadata": {},
     "output_type": "execute_result"
    }
   ],
   "source": [
    "sys2.reactions[1].model.parameters"
   ]
  },
  {
   "cell_type": "code",
   "execution_count": 37,
   "metadata": {},
   "outputs": [
    {
     "data": {
      "text/html": [
       "<h2>Fit Statistics</h2><table><tr><td>fitting method</td><td>leastsq</td><td></td></tr><tr><td># function evals</td><td>69</td><td></td></tr><tr><td># data points</td><td>625</td><td></td></tr><tr><td># variables</td><td>3</td><td></td></tr><tr><td>chi-square</td><td> 53728.2581</td><td></td></tr><tr><td>reduced chi-square</td><td> 86.3798362</td><td></td></tr><tr><td>Akaike info crit.</td><td> 2789.71420</td><td></td></tr><tr><td>Bayesian info crit.</td><td> 2803.02745</td><td></td></tr></table><h2>Variables</h2><table><tr><th> name </th><th> value </th><th> standard error </th><th> relative error </th><th> initial value </th><th> min </th><th> max </th><th> vary </th></tr><tr><td> K_m </td><td>  8.42056045 </td><td>  4.75732002 </td><td> (56.50%) </td><td> 100.0 </td><td>  0.10000000 </td><td>  10000.0000 </td><td> True </td></tr><tr><td> k_cat </td><td>  0.49187891 </td><td>  0.04391960 </td><td> (8.93%) </td><td> 8.756705705198392 </td><td>  0.00875671 </td><td>  875.670571 </td><td> True </td></tr><tr><td> k_ie </td><td>  0.21892621 </td><td>  0.02406250 </td><td> (10.99%) </td><td> 0.007701635339554948 </td><td>  7.7016e-06 </td><td>  0.77016353 </td><td> True </td></tr></table><h2>Correlations (unreported correlations are < 0.100)</h2><table><tr><td>k_cat</td><td>k_ie</td><td>+0.7588</td></tr><tr><td>K_m</td><td>k_cat</td><td>+0.5145</td></tr><tr><td>K_m</td><td>k_ie</td><td>-0.1292</td></tr></table>"
      ],
      "text/plain": [
       "<lmfit.minimizer.MinimizerResult at 0x28a0c3010>"
      ]
     },
     "execution_count": 37,
     "metadata": {},
     "output_type": "execute_result"
    }
   ],
   "source": [
    "res"
   ]
  },
  {
   "cell_type": "markdown",
   "metadata": {},
   "source": [
    "## Next steps:\n",
    "\n",
    "- write back results to DM\n",
    "- write back results to EnzymeML\n",
    "- visualization"
   ]
  },
  {
   "cell_type": "code",
   "execution_count": 10,
   "metadata": {},
   "outputs": [
    {
     "name": "stdout",
     "output_type": "stream",
     "text": [
      "\u001b[4mKineticModel\u001b[0m\n",
      "├── \u001b[94mid\u001b[0m = model3\n",
      "├── \u001b[94mname\u001b[0m = competitive product inhibition\n",
      "├── \u001b[94mequation\u001b[0m = substrate = -substrate * enzyme * k_cat / K_m * (1 + product / K_ic) + substrate\n",
      "└── \u001b[94mparameters\u001b[0m\n",
      "    ├── 0\n",
      "    │   └── \u001b[4mKineticParameter\u001b[0m\n",
      "    │       ├── \u001b[94mid\u001b[0m = kineticparameter3\n",
      "    │       ├── \u001b[94mname\u001b[0m = K_m\n",
      "    │       ├── \u001b[94mvalue\u001b[0m = nan\n",
      "    │       ├── \u001b[94munit\u001b[0m = umol / l\n",
      "    │       ├── \u001b[94minitial_value\u001b[0m = 100.0\n",
      "    │       ├── \u001b[94mupper\u001b[0m = 10000.0\n",
      "    │       ├── \u001b[94mlower\u001b[0m = 0.1\n",
      "    │       ├── \u001b[94mis_global\u001b[0m = False\n",
      "    │       ├── \u001b[94mconstant\u001b[0m = False\n",
      "    │       └── \u001b[94montology\u001b[0m = SBO:0000027\n",
      "    ├── 1\n",
      "    │   └── \u001b[4mKineticParameter\u001b[0m\n",
      "    │       ├── \u001b[94mid\u001b[0m = kineticparameter4\n",
      "    │       ├── \u001b[94mname\u001b[0m = K_ic\n",
      "    │       ├── \u001b[94mvalue\u001b[0m = nan\n",
      "    │       ├── \u001b[94munit\u001b[0m = umol / l\n",
      "    │       ├── \u001b[94minitial_value\u001b[0m = 100.0\n",
      "    │       ├── \u001b[94mupper\u001b[0m = 10000.0\n",
      "    │       ├── \u001b[94mlower\u001b[0m = 0.1\n",
      "    │       ├── \u001b[94mis_global\u001b[0m = False\n",
      "    │       └── \u001b[94mconstant\u001b[0m = False\n",
      "    └── 2\n",
      "        └── \u001b[4mKineticParameter\u001b[0m\n",
      "            ├── \u001b[94mid\u001b[0m = kineticparameter5\n",
      "            ├── \u001b[94mname\u001b[0m = k_cat\n",
      "            ├── \u001b[94mvalue\u001b[0m = nan\n",
      "            ├── \u001b[94munit\u001b[0m = 1 / min\n",
      "            ├── \u001b[94minitial_value\u001b[0m = 8.756705705198392\n",
      "            ├── \u001b[94mupper\u001b[0m = 875.6705705198392\n",
      "            ├── \u001b[94mlower\u001b[0m = 0.008756705705198393\n",
      "            ├── \u001b[94mis_global\u001b[0m = False\n",
      "            ├── \u001b[94mconstant\u001b[0m = False\n",
      "            └── \u001b[94montology\u001b[0m = SBO:0000025\n",
      "\n"
     ]
    }
   ],
   "source": [
    "print(competitive_product)"
   ]
  },
  {
   "cell_type": "code",
   "execution_count": null,
   "metadata": {},
   "outputs": [],
   "source": []
  },
  {
   "cell_type": "code",
   "execution_count": 11,
   "metadata": {},
   "outputs": [],
   "source": [
    "from scipy.integrate import odeint\n",
    "from lmfit import Model, Parameters"
   ]
  },
  {
   "cell_type": "code",
   "execution_count": 12,
   "metadata": {},
   "outputs": [
    {
     "data": {
      "text/plain": [
       "['k_cat']"
      ]
     },
     "execution_count": 12,
     "metadata": {},
     "output_type": "execute_result"
    }
   ],
   "source": [
    "m = Model(michaelis.function)\n",
    "m.param_names\n",
    "m.independent_vars"
   ]
  },
  {
   "cell_type": "code",
   "execution_count": 13,
   "metadata": {},
   "outputs": [],
   "source": [
    "moodels = [michaelis, enzyme_inactivation]"
   ]
  },
  {
   "cell_type": "code",
   "execution_count": 14,
   "metadata": {},
   "outputs": [],
   "source": [
    "lmfit_params = Parameters()\n",
    "\n",
    "for model in moodels:\n",
    "    for param in model.parameters:\n",
    "        lmfit_params.add(\n",
    "            name=param.name, value=param.initial_value, min=param.lower, max=param.upper\n",
    "        )"
   ]
  },
  {
   "cell_type": "code",
   "execution_count": 15,
   "metadata": {},
   "outputs": [
    {
     "data": {
      "text/plain": [
       "('k_cat', 'substrate', 'K_m', 'enzyme')"
      ]
     },
     "execution_count": 15,
     "metadata": {},
     "output_type": "execute_result"
    }
   ],
   "source": [
    "michaelis.function.__code__.co_varnames"
   ]
  },
  {
   "cell_type": "code",
   "execution_count": 16,
   "metadata": {},
   "outputs": [
    {
     "data": {
      "text/html": [
       "<table><tr><th> name </th><th> value </th><th> initial value </th><th> min </th><th> max </th><th> vary </th></tr><tr><td> K_m </td><td>  100.000000 </td><td> 100.0 </td><td>  0.10000000 </td><td>  10000.0000 </td><td> True </td></tr><tr><td> k_cat </td><td>  8.75670571 </td><td> 8.756705705198392 </td><td>  0.00875671 </td><td>  875.670571 </td><td> True </td></tr><tr><td> k_ie </td><td>  0.00770164 </td><td> 0.007701635339554948 </td><td>  7.7016e-06 </td><td>  0.77016353 </td><td> True </td></tr></table>"
      ],
      "text/plain": [
       "Parameters([('K_m', <Parameter 'K_m', value=100.0, bounds=[0.1:10000.0]>), ('k_cat', <Parameter 'k_cat', value=8.756705705198392, bounds=[0.008756705705198393:875.6705705198392]>), ('k_ie', <Parameter 'k_ie', value=0.007701635339554948, bounds=[7.701635339554948e-06:0.7701635339554948]>)])"
      ]
     },
     "execution_count": 16,
     "metadata": {},
     "output_type": "execute_result"
    }
   ],
   "source": [
    "lmfit_params"
   ]
  },
  {
   "cell_type": "code",
   "execution_count": 17,
   "metadata": {},
   "outputs": [],
   "source": [
    "enzyme_eq = enzyme_inactivation.function\n",
    "substrate_eq = michaelis.function"
   ]
  },
  {
   "cell_type": "code",
   "execution_count": 18,
   "metadata": {},
   "outputs": [],
   "source": [
    "def DS(\n",
    "    substrate,\n",
    "    enzyme,\n",
    "    k_cat,\n",
    "    K_m,\n",
    "):\n",
    "    return -substrate * enzyme * k_cat / (K_m + substrate)\n",
    "\n",
    "\n",
    "def DE(enzyme, k_ie):\n",
    "    return -enzyme * k_ie"
   ]
  },
  {
   "cell_type": "code",
   "execution_count": 19,
   "metadata": {},
   "outputs": [],
   "source": [
    "def model(\n",
    "    species,\n",
    "    time,\n",
    "    params,\n",
    "):\n",
    "    species_dict = dict(zip([\"substrate\", \"enzyme\", \"product\"], species))\n",
    "    params_dict = params.valuesdict()\n",
    "    combined_dict = species_dict | params_dict\n",
    "\n",
    "    subtrate_args = substrate_eq.__code__.co_varnames\n",
    "    substrate_dict = {k: combined_dict[k] for k in subtrate_args}\n",
    "\n",
    "    enzyme_args = enzyme_eq.__code__.co_varnames\n",
    "    enzyme_dict = {k: combined_dict[k] for k in enzyme_args}\n",
    "\n",
    "    d_substrate = substrate_eq(**substrate_dict)\n",
    "    d_enzyme = enzyme_eq(**enzyme_dict)\n",
    "    d_product = -d_substrate\n",
    "\n",
    "    return [d_substrate, d_enzyme, d_product]"
   ]
  },
  {
   "cell_type": "code",
   "execution_count": 20,
   "metadata": {},
   "outputs": [],
   "source": [
    "def alternate_model(species, time, params):\n",
    "    params = params.valuesdict()\n",
    "\n",
    "    substrate, enzyme, product = species\n",
    "\n",
    "    d_substrate = -substrate * enzyme * params[\"k_cat\"] / (params[\"K_m\"] + substrate)\n",
    "    d_enzyme = -enzyme * params[\"k_ie\"]\n",
    "\n",
    "    return np.array([d_substrate, d_enzyme, -d_substrate])"
   ]
  },
  {
   "cell_type": "code",
   "execution_count": 21,
   "metadata": {},
   "outputs": [
    {
     "ename": "NameError",
     "evalue": "name 'np' is not defined",
     "output_type": "error",
     "traceback": [
      "\u001b[0;31m---------------------------------------------------------------------------\u001b[0m",
      "\u001b[0;31mNameError\u001b[0m                                 Traceback (most recent call last)",
      "\u001b[1;32m/Users/max/code/EnzymePynetics/test_enzymepynetics.ipynb Cell 26\u001b[0m line \u001b[0;36m1\n\u001b[0;32m----> <a href='vscode-notebook-cell:/Users/max/code/EnzymePynetics/test_enzymepynetics.ipynb#X33sZmlsZQ%3D%3D?line=0'>1</a>\u001b[0m get_ipython()\u001b[39m.\u001b[39;49mrun_cell_magic(\u001b[39m'\u001b[39;49m\u001b[39mtimeit\u001b[39;49m\u001b[39m'\u001b[39;49m, \u001b[39m'\u001b[39;49m\u001b[39m'\u001b[39;49m, \u001b[39m'\u001b[39;49m\u001b[39malternate_model(\u001b[39;49m\u001b[39m\\n\u001b[39;49;00m\u001b[39m    [e.substrate_data, e.enzyme_data, e.product_data], e.time_data, lmfit_params\u001b[39;49m\u001b[39m\\n\u001b[39;49;00m\u001b[39m)\u001b[39;49m\u001b[39m\\n\u001b[39;49;00m\u001b[39m'\u001b[39;49m)\n",
      "File \u001b[0;32m~/miniconda3/envs/sdrdm_example/lib/python3.11/site-packages/IPython/core/interactiveshell.py:2478\u001b[0m, in \u001b[0;36mInteractiveShell.run_cell_magic\u001b[0;34m(self, magic_name, line, cell)\u001b[0m\n\u001b[1;32m   2476\u001b[0m \u001b[39mwith\u001b[39;00m \u001b[39mself\u001b[39m\u001b[39m.\u001b[39mbuiltin_trap:\n\u001b[1;32m   2477\u001b[0m     args \u001b[39m=\u001b[39m (magic_arg_s, cell)\n\u001b[0;32m-> 2478\u001b[0m     result \u001b[39m=\u001b[39m fn(\u001b[39m*\u001b[39;49margs, \u001b[39m*\u001b[39;49m\u001b[39m*\u001b[39;49mkwargs)\n\u001b[1;32m   2480\u001b[0m \u001b[39m# The code below prevents the output from being displayed\u001b[39;00m\n\u001b[1;32m   2481\u001b[0m \u001b[39m# when using magics with decodator @output_can_be_silenced\u001b[39;00m\n\u001b[1;32m   2482\u001b[0m \u001b[39m# when the last Python token in the expression is a ';'.\u001b[39;00m\n\u001b[1;32m   2483\u001b[0m \u001b[39mif\u001b[39;00m \u001b[39mgetattr\u001b[39m(fn, magic\u001b[39m.\u001b[39mMAGIC_OUTPUT_CAN_BE_SILENCED, \u001b[39mFalse\u001b[39;00m):\n",
      "File \u001b[0;32m~/miniconda3/envs/sdrdm_example/lib/python3.11/site-packages/IPython/core/magics/execution.py:1170\u001b[0m, in \u001b[0;36mExecutionMagics.timeit\u001b[0;34m(self, line, cell, local_ns)\u001b[0m\n\u001b[1;32m   1168\u001b[0m \u001b[39mfor\u001b[39;00m index \u001b[39min\u001b[39;00m \u001b[39mrange\u001b[39m(\u001b[39m0\u001b[39m, \u001b[39m10\u001b[39m):\n\u001b[1;32m   1169\u001b[0m     number \u001b[39m=\u001b[39m \u001b[39m10\u001b[39m \u001b[39m*\u001b[39m\u001b[39m*\u001b[39m index\n\u001b[0;32m-> 1170\u001b[0m     time_number \u001b[39m=\u001b[39m timer\u001b[39m.\u001b[39;49mtimeit(number)\n\u001b[1;32m   1171\u001b[0m     \u001b[39mif\u001b[39;00m time_number \u001b[39m>\u001b[39m\u001b[39m=\u001b[39m \u001b[39m0.2\u001b[39m:\n\u001b[1;32m   1172\u001b[0m         \u001b[39mbreak\u001b[39;00m\n",
      "File \u001b[0;32m~/miniconda3/envs/sdrdm_example/lib/python3.11/site-packages/IPython/core/magics/execution.py:158\u001b[0m, in \u001b[0;36mTimer.timeit\u001b[0;34m(self, number)\u001b[0m\n\u001b[1;32m    156\u001b[0m gc\u001b[39m.\u001b[39mdisable()\n\u001b[1;32m    157\u001b[0m \u001b[39mtry\u001b[39;00m:\n\u001b[0;32m--> 158\u001b[0m     timing \u001b[39m=\u001b[39m \u001b[39mself\u001b[39;49m\u001b[39m.\u001b[39;49minner(it, \u001b[39mself\u001b[39;49m\u001b[39m.\u001b[39;49mtimer)\n\u001b[1;32m    159\u001b[0m \u001b[39mfinally\u001b[39;00m:\n\u001b[1;32m    160\u001b[0m     \u001b[39mif\u001b[39;00m gcold:\n",
      "File \u001b[0;32m<magic-timeit>:1\u001b[0m, in \u001b[0;36minner\u001b[0;34m(_it, _timer)\u001b[0m\n",
      "\u001b[1;32m/Users/max/code/EnzymePynetics/test_enzymepynetics.ipynb Cell 26\u001b[0m line \u001b[0;36m1\n\u001b[1;32m      <a href='vscode-notebook-cell:/Users/max/code/EnzymePynetics/test_enzymepynetics.ipynb#X33sZmlsZQ%3D%3D?line=5'>6</a>\u001b[0m d_substrate \u001b[39m=\u001b[39m \u001b[39m-\u001b[39msubstrate \u001b[39m*\u001b[39m enzyme \u001b[39m*\u001b[39m \\\n\u001b[1;32m      <a href='vscode-notebook-cell:/Users/max/code/EnzymePynetics/test_enzymepynetics.ipynb#X33sZmlsZQ%3D%3D?line=6'>7</a>\u001b[0m     params[\u001b[39m\"\u001b[39m\u001b[39mk_cat\u001b[39m\u001b[39m\"\u001b[39m] \u001b[39m/\u001b[39m (params[\u001b[39m\"\u001b[39m\u001b[39mK_m\u001b[39m\u001b[39m\"\u001b[39m] \u001b[39m+\u001b[39m substrate)\n\u001b[1;32m      <a href='vscode-notebook-cell:/Users/max/code/EnzymePynetics/test_enzymepynetics.ipynb#X33sZmlsZQ%3D%3D?line=7'>8</a>\u001b[0m d_enzyme \u001b[39m=\u001b[39m \u001b[39m-\u001b[39menzyme \u001b[39m*\u001b[39m params[\u001b[39m\"\u001b[39m\u001b[39mk_ie\u001b[39m\u001b[39m\"\u001b[39m]\n\u001b[0;32m---> <a href='vscode-notebook-cell:/Users/max/code/EnzymePynetics/test_enzymepynetics.ipynb#X33sZmlsZQ%3D%3D?line=9'>10</a>\u001b[0m \u001b[39mreturn\u001b[39;00m np\u001b[39m.\u001b[39marray([d_substrate, d_enzyme, \u001b[39m-\u001b[39md_substrate])\n",
      "\u001b[0;31mNameError\u001b[0m: name 'np' is not defined"
     ]
    }
   ],
   "source": [
    "%%timeit\n",
    "alternate_model(\n",
    "    [e.substrate_data, e.enzyme_data, e.product_data], e.time_data, lmfit_params\n",
    ")"
   ]
  },
  {
   "cell_type": "code",
   "execution_count": null,
   "metadata": {},
   "outputs": [
    {
     "name": "stdout",
     "output_type": "stream",
     "text": [
      "1.05 ms ± 5.32 µs per loop (mean ± std. dev. of 7 runs, 1,000 loops each)\n"
     ]
    }
   ],
   "source": [
    "%%timeit\n",
    "model([e.substrate_data, e.enzyme_data, e.product_data], e.time_data, lmfit_params)"
   ]
  },
  {
   "cell_type": "code",
   "execution_count": null,
   "metadata": {},
   "outputs": [],
   "source": [
    "def simulate(times, init_conditions, params):\n",
    "    return np.array(\n",
    "        [\n",
    "            odeint(\n",
    "                func=model,\n",
    "                y0=init_condition,\n",
    "                t=time,\n",
    "                args=(params,),\n",
    "            )\n",
    "            for init_condition, time in zip(init_conditions, times)\n",
    "        ]\n",
    "    )"
   ]
  },
  {
   "cell_type": "code",
   "execution_count": null,
   "metadata": {},
   "outputs": [
    {
     "data": {
      "text/plain": [
       "array([nan,  4., nan])"
      ]
     },
     "execution_count": 40,
     "metadata": {},
     "output_type": "execute_result"
    }
   ],
   "source": [
    "np.array([e.substrate_data[:, 0], e.enzyme_data[:, 0], e.product_data[:, 0]]).T[0]"
   ]
  },
  {
   "cell_type": "code",
   "execution_count": null,
   "metadata": {},
   "outputs": [],
   "source": []
  },
  {
   "cell_type": "code",
   "execution_count": null,
   "metadata": {},
   "outputs": [
    {
     "name": "stdout",
     "output_type": "stream",
     "text": [
      "6.64 ms ± 90.7 µs per loop (mean ± std. dev. of 7 runs, 100 loops each)\n"
     ]
    }
   ],
   "source": [
    "%%timeit\n",
    "r = simulate(\n",
    "    e.time_data,\n",
    "    np.array([e.substrate_data[:, 0], e.enzyme_data[:, 0], e.product_data[:, 0]]).T,\n",
    "    lmfit_params,\n",
    ")\n",
    "\n"
   ]
  },
  {
   "cell_type": "code",
   "execution_count": null,
   "metadata": {},
   "outputs": [
    {
     "ename": "IndexError",
     "evalue": "only integers, slices (`:`), ellipsis (`...`), numpy.newaxis (`None`) and integer or boolean arrays are valid indices",
     "output_type": "error",
     "traceback": [
      "\u001b[0;31m---------------------------------------------------------------------------\u001b[0m",
      "\u001b[0;31mIndexError\u001b[0m                                Traceback (most recent call last)",
      "\u001b[1;32m/Users/max/code/EnzymePynetics/test_enzymepynetics.ipynb Cell 18\u001b[0m line \u001b[0;36m4\n\u001b[1;32m     <a href='vscode-notebook-cell:/Users/max/code/EnzymePynetics/test_enzymepynetics.ipynb#X43sZmlsZQ%3D%3D?line=35'>36</a>\u001b[0m     \u001b[39mreturn\u001b[39;00m model_data \u001b[39m-\u001b[39m data\n\u001b[1;32m     <a href='vscode-notebook-cell:/Users/max/code/EnzymePynetics/test_enzymepynetics.ipynb#X43sZmlsZQ%3D%3D?line=38'>39</a>\u001b[0m \u001b[39m# Perform the fitting\u001b[39;00m\n\u001b[0;32m---> <a href='vscode-notebook-cell:/Users/max/code/EnzymePynetics/test_enzymepynetics.ipynb#X43sZmlsZQ%3D%3D?line=39'>40</a>\u001b[0m result \u001b[39m=\u001b[39m minimize(residual, params, args\u001b[39m=\u001b[39;49m(t, data))\n\u001b[1;32m     <a href='vscode-notebook-cell:/Users/max/code/EnzymePynetics/test_enzymepynetics.ipynb#X43sZmlsZQ%3D%3D?line=41'>42</a>\u001b[0m \u001b[39m# Print the fitted parameter values\u001b[39;00m\n\u001b[1;32m     <a href='vscode-notebook-cell:/Users/max/code/EnzymePynetics/test_enzymepynetics.ipynb#X43sZmlsZQ%3D%3D?line=42'>43</a>\u001b[0m \u001b[39mprint\u001b[39m(\u001b[39m\"\u001b[39m\u001b[39mFitted Parameters:\u001b[39m\u001b[39m\"\u001b[39m)\n",
      "File \u001b[0;32m~/miniconda3/envs/sdrdm_example/lib/python3.11/site-packages/lmfit/minimizer.py:2610\u001b[0m, in \u001b[0;36mminimize\u001b[0;34m(fcn, params, method, args, kws, iter_cb, scale_covar, nan_policy, reduce_fcn, calc_covar, max_nfev, **fit_kws)\u001b[0m\n\u001b[1;32m   2470\u001b[0m \u001b[39m\u001b[39m\u001b[39m\"\"\"Perform the minimization of the objective function.\u001b[39;00m\n\u001b[1;32m   2471\u001b[0m \n\u001b[1;32m   2472\u001b[0m \u001b[39mThe minimize function takes an objective function to be minimized,\u001b[39;00m\n\u001b[0;32m   (...)\u001b[0m\n\u001b[1;32m   2604\u001b[0m \n\u001b[1;32m   2605\u001b[0m \u001b[39m\"\"\"\u001b[39;00m\n\u001b[1;32m   2606\u001b[0m fitter \u001b[39m=\u001b[39m Minimizer(fcn, params, fcn_args\u001b[39m=\u001b[39margs, fcn_kws\u001b[39m=\u001b[39mkws,\n\u001b[1;32m   2607\u001b[0m                    iter_cb\u001b[39m=\u001b[39miter_cb, scale_covar\u001b[39m=\u001b[39mscale_covar,\n\u001b[1;32m   2608\u001b[0m                    nan_policy\u001b[39m=\u001b[39mnan_policy, reduce_fcn\u001b[39m=\u001b[39mreduce_fcn,\n\u001b[1;32m   2609\u001b[0m                    calc_covar\u001b[39m=\u001b[39mcalc_covar, max_nfev\u001b[39m=\u001b[39mmax_nfev, \u001b[39m*\u001b[39m\u001b[39m*\u001b[39mfit_kws)\n\u001b[0;32m-> 2610\u001b[0m \u001b[39mreturn\u001b[39;00m fitter\u001b[39m.\u001b[39;49mminimize(method\u001b[39m=\u001b[39;49mmethod)\n",
      "File \u001b[0;32m~/miniconda3/envs/sdrdm_example/lib/python3.11/site-packages/lmfit/minimizer.py:2379\u001b[0m, in \u001b[0;36mMinimizer.minimize\u001b[0;34m(self, method, params, **kws)\u001b[0m\n\u001b[1;32m   2376\u001b[0m         \u001b[39mif\u001b[39;00m (key\u001b[39m.\u001b[39mlower()\u001b[39m.\u001b[39mstartswith(user_method) \u001b[39mor\u001b[39;00m\n\u001b[1;32m   2377\u001b[0m                 val\u001b[39m.\u001b[39mlower()\u001b[39m.\u001b[39mstartswith(user_method)):\n\u001b[1;32m   2378\u001b[0m             kwargs[\u001b[39m'\u001b[39m\u001b[39mmethod\u001b[39m\u001b[39m'\u001b[39m] \u001b[39m=\u001b[39m val\n\u001b[0;32m-> 2379\u001b[0m \u001b[39mreturn\u001b[39;00m function(\u001b[39m*\u001b[39;49m\u001b[39m*\u001b[39;49mkwargs)\n",
      "File \u001b[0;32m~/miniconda3/envs/sdrdm_example/lib/python3.11/site-packages/lmfit/minimizer.py:1703\u001b[0m, in \u001b[0;36mMinimizer.leastsq\u001b[0;34m(self, params, max_nfev, **kws)\u001b[0m\n\u001b[1;32m   1701\u001b[0m result\u001b[39m.\u001b[39mcall_kws \u001b[39m=\u001b[39m lskws\n\u001b[1;32m   1702\u001b[0m \u001b[39mtry\u001b[39;00m:\n\u001b[0;32m-> 1703\u001b[0m     lsout \u001b[39m=\u001b[39m scipy_leastsq(\u001b[39mself\u001b[39;49m\u001b[39m.\u001b[39;49m__residual, variables, \u001b[39m*\u001b[39;49m\u001b[39m*\u001b[39;49mlskws)\n\u001b[1;32m   1704\u001b[0m \u001b[39mexcept\u001b[39;00m AbortFitException:\n\u001b[1;32m   1705\u001b[0m     \u001b[39mpass\u001b[39;00m\n",
      "File \u001b[0;32m~/miniconda3/envs/sdrdm_example/lib/python3.11/site-packages/scipy/optimize/_minpack_py.py:413\u001b[0m, in \u001b[0;36mleastsq\u001b[0;34m(func, x0, args, Dfun, full_output, col_deriv, ftol, xtol, gtol, maxfev, epsfcn, factor, diag)\u001b[0m\n\u001b[1;32m    411\u001b[0m \u001b[39mif\u001b[39;00m \u001b[39mnot\u001b[39;00m \u001b[39misinstance\u001b[39m(args, \u001b[39mtuple\u001b[39m):\n\u001b[1;32m    412\u001b[0m     args \u001b[39m=\u001b[39m (args,)\n\u001b[0;32m--> 413\u001b[0m shape, dtype \u001b[39m=\u001b[39m _check_func(\u001b[39m'\u001b[39;49m\u001b[39mleastsq\u001b[39;49m\u001b[39m'\u001b[39;49m, \u001b[39m'\u001b[39;49m\u001b[39mfunc\u001b[39;49m\u001b[39m'\u001b[39;49m, func, x0, args, n)\n\u001b[1;32m    414\u001b[0m m \u001b[39m=\u001b[39m shape[\u001b[39m0\u001b[39m]\n\u001b[1;32m    416\u001b[0m \u001b[39mif\u001b[39;00m n \u001b[39m>\u001b[39m m:\n",
      "File \u001b[0;32m~/miniconda3/envs/sdrdm_example/lib/python3.11/site-packages/scipy/optimize/_minpack_py.py:26\u001b[0m, in \u001b[0;36m_check_func\u001b[0;34m(checker, argname, thefunc, x0, args, numinputs, output_shape)\u001b[0m\n\u001b[1;32m     24\u001b[0m \u001b[39mdef\u001b[39;00m \u001b[39m_check_func\u001b[39m(checker, argname, thefunc, x0, args, numinputs,\n\u001b[1;32m     25\u001b[0m                 output_shape\u001b[39m=\u001b[39m\u001b[39mNone\u001b[39;00m):\n\u001b[0;32m---> 26\u001b[0m     res \u001b[39m=\u001b[39m atleast_1d(thefunc(\u001b[39m*\u001b[39;49m((x0[:numinputs],) \u001b[39m+\u001b[39;49m args)))\n\u001b[1;32m     27\u001b[0m     \u001b[39mif\u001b[39;00m (output_shape \u001b[39mis\u001b[39;00m \u001b[39mnot\u001b[39;00m \u001b[39mNone\u001b[39;00m) \u001b[39mand\u001b[39;00m (shape(res) \u001b[39m!=\u001b[39m output_shape):\n\u001b[1;32m     28\u001b[0m         \u001b[39mif\u001b[39;00m (output_shape[\u001b[39m0\u001b[39m] \u001b[39m!=\u001b[39m \u001b[39m1\u001b[39m):\n",
      "File \u001b[0;32m~/miniconda3/envs/sdrdm_example/lib/python3.11/site-packages/lmfit/minimizer.py:590\u001b[0m, in \u001b[0;36mMinimizer.__residual\u001b[0;34m(self, fvars, apply_bounds_transformation)\u001b[0m\n\u001b[1;32m    587\u001b[0m     \u001b[39mself\u001b[39m\u001b[39m.\u001b[39mresult\u001b[39m.\u001b[39msuccess \u001b[39m=\u001b[39m \u001b[39mFalse\u001b[39;00m\n\u001b[1;32m    588\u001b[0m     \u001b[39mraise\u001b[39;00m AbortFitException(\u001b[39mf\u001b[39m\u001b[39m\"\u001b[39m\u001b[39mfit aborted: too many function evaluations \u001b[39m\u001b[39m{\u001b[39;00m\u001b[39mself\u001b[39m\u001b[39m.\u001b[39mmax_nfev\u001b[39m}\u001b[39;00m\u001b[39m\"\u001b[39m)\n\u001b[0;32m--> 590\u001b[0m out \u001b[39m=\u001b[39m \u001b[39mself\u001b[39;49m\u001b[39m.\u001b[39;49muserfcn(params, \u001b[39m*\u001b[39;49m\u001b[39mself\u001b[39;49m\u001b[39m.\u001b[39;49muserargs, \u001b[39m*\u001b[39;49m\u001b[39m*\u001b[39;49m\u001b[39mself\u001b[39;49m\u001b[39m.\u001b[39;49muserkws)\n\u001b[1;32m    592\u001b[0m \u001b[39mif\u001b[39;00m \u001b[39mcallable\u001b[39m(\u001b[39mself\u001b[39m\u001b[39m.\u001b[39miter_cb):\n\u001b[1;32m    593\u001b[0m     abort \u001b[39m=\u001b[39m \u001b[39mself\u001b[39m\u001b[39m.\u001b[39miter_cb(params, \u001b[39mself\u001b[39m\u001b[39m.\u001b[39mresult\u001b[39m.\u001b[39mnfev, out,\n\u001b[1;32m    594\u001b[0m                          \u001b[39m*\u001b[39m\u001b[39mself\u001b[39m\u001b[39m.\u001b[39muserargs, \u001b[39m*\u001b[39m\u001b[39m*\u001b[39m\u001b[39mself\u001b[39m\u001b[39m.\u001b[39muserkws)\n",
      "\u001b[1;32m/Users/max/code/EnzymePynetics/test_enzymepynetics.ipynb Cell 18\u001b[0m line \u001b[0;36m3\n\u001b[1;32m     <a href='vscode-notebook-cell:/Users/max/code/EnzymePynetics/test_enzymepynetics.ipynb#X43sZmlsZQ%3D%3D?line=30'>31</a>\u001b[0m \u001b[39mdef\u001b[39;00m \u001b[39mresidual\u001b[39m(params, t, data):\n\u001b[1;32m     <a href='vscode-notebook-cell:/Users/max/code/EnzymePynetics/test_enzymepynetics.ipynb#X43sZmlsZQ%3D%3D?line=31'>32</a>\u001b[0m     y0 \u001b[39m=\u001b[39m [\u001b[39m1.0\u001b[39m, \u001b[39m0.0\u001b[39m]  \u001b[39m# Initial conditions\u001b[39;00m\n\u001b[0;32m---> <a href='vscode-notebook-cell:/Users/max/code/EnzymePynetics/test_enzymepynetics.ipynb#X43sZmlsZQ%3D%3D?line=32'>33</a>\u001b[0m     model_result \u001b[39m=\u001b[39m odeint(ode_model, y0, t, args\u001b[39m=\u001b[39;49m(params,))\n\u001b[1;32m     <a href='vscode-notebook-cell:/Users/max/code/EnzymePynetics/test_enzymepynetics.ipynb#X43sZmlsZQ%3D%3D?line=33'>34</a>\u001b[0m     \u001b[39m# Extract the second component of the solution\u001b[39;00m\n\u001b[1;32m     <a href='vscode-notebook-cell:/Users/max/code/EnzymePynetics/test_enzymepynetics.ipynb#X43sZmlsZQ%3D%3D?line=34'>35</a>\u001b[0m     model_data \u001b[39m=\u001b[39m model_result[:, \u001b[39m1\u001b[39m]\n",
      "File \u001b[0;32m~/miniconda3/envs/sdrdm_example/lib/python3.11/site-packages/scipy/integrate/_odepack_py.py:242\u001b[0m, in \u001b[0;36modeint\u001b[0;34m(func, y0, t, args, Dfun, col_deriv, full_output, ml, mu, rtol, atol, tcrit, h0, hmax, hmin, ixpr, mxstep, mxhnil, mxordn, mxords, printmessg, tfirst)\u001b[0m\n\u001b[1;32m    240\u001b[0m t \u001b[39m=\u001b[39m copy(t)\n\u001b[1;32m    241\u001b[0m y0 \u001b[39m=\u001b[39m copy(y0)\n\u001b[0;32m--> 242\u001b[0m output \u001b[39m=\u001b[39m _odepack\u001b[39m.\u001b[39;49modeint(func, y0, t, args, Dfun, col_deriv, ml, mu,\n\u001b[1;32m    243\u001b[0m                          full_output, rtol, atol, tcrit, h0, hmax, hmin,\n\u001b[1;32m    244\u001b[0m                          ixpr, mxstep, mxhnil, mxordn, mxords,\n\u001b[1;32m    245\u001b[0m                          \u001b[39mint\u001b[39;49m(\u001b[39mbool\u001b[39;49m(tfirst)))\n\u001b[1;32m    246\u001b[0m \u001b[39mif\u001b[39;00m output[\u001b[39m-\u001b[39m\u001b[39m1\u001b[39m] \u001b[39m<\u001b[39m \u001b[39m0\u001b[39m:\n\u001b[1;32m    247\u001b[0m     warning_msg \u001b[39m=\u001b[39m _msgs[output[\u001b[39m-\u001b[39m\u001b[39m1\u001b[39m]] \u001b[39m+\u001b[39m \u001b[39m\"\u001b[39m\u001b[39m Run with full_output = 1 to get quantitative information.\u001b[39m\u001b[39m\"\u001b[39m\n",
      "\u001b[1;32m/Users/max/code/EnzymePynetics/test_enzymepynetics.ipynb Cell 18\u001b[0m line \u001b[0;36m9\n\u001b[1;32m      <a href='vscode-notebook-cell:/Users/max/code/EnzymePynetics/test_enzymepynetics.ipynb#X43sZmlsZQ%3D%3D?line=7'>8</a>\u001b[0m \u001b[39mdef\u001b[39;00m \u001b[39mode_model\u001b[39m(params, t, y):\n\u001b[0;32m----> <a href='vscode-notebook-cell:/Users/max/code/EnzymePynetics/test_enzymepynetics.ipynb#X43sZmlsZQ%3D%3D?line=8'>9</a>\u001b[0m     k1 \u001b[39m=\u001b[39m params[\u001b[39m'\u001b[39;49m\u001b[39mk1\u001b[39;49m\u001b[39m'\u001b[39;49m]\u001b[39m.\u001b[39mvalue\n\u001b[1;32m     <a href='vscode-notebook-cell:/Users/max/code/EnzymePynetics/test_enzymepynetics.ipynb#X43sZmlsZQ%3D%3D?line=9'>10</a>\u001b[0m     k2 \u001b[39m=\u001b[39m params[\u001b[39m'\u001b[39m\u001b[39mk2\u001b[39m\u001b[39m'\u001b[39m]\u001b[39m.\u001b[39mvalue\n\u001b[1;32m     <a href='vscode-notebook-cell:/Users/max/code/EnzymePynetics/test_enzymepynetics.ipynb#X43sZmlsZQ%3D%3D?line=11'>12</a>\u001b[0m     dydt \u001b[39m=\u001b[39m np\u001b[39m.\u001b[39mzeros_like(y)\n",
      "\u001b[0;31mIndexError\u001b[0m: only integers, slices (`:`), ellipsis (`...`), numpy.newaxis (`None`) and integer or boolean arrays are valid indices"
     ]
    }
   ],
   "source": [
    "import numpy as np\n",
    "from lmfit import Parameters, minimize\n",
    "from scipy.integrate import odeint\n",
    "\n",
    "# Define your ODE model function\n",
    "\n",
    "\n",
    "def ode_model(params, t, y):\n",
    "    k1 = params[\"k1\"].value\n",
    "    k2 = params[\"k2\"].value\n",
    "\n",
    "    dydt = np.zeros_like(y)\n",
    "    dydt[0] = -k1 * y[0]\n",
    "    dydt[1] = k1 * y[0] - k2 * y[1]\n",
    "\n",
    "    return dydt\n",
    "\n",
    "\n",
    "# Create a Parameters object and set initial guess values\n",
    "params = Parameters()\n",
    "params.add(\"k1\", value=0.1)\n",
    "params.add(\"k2\", value=0.2)\n",
    "\n",
    "# Define the time points and experimental data\n",
    "t = np.array([0.0, 1.0, 2.0, 3.0, 4.0])\n",
    "data = np.array([1.0, 0.5, 0.3, 0.2, 0.1])\n",
    "\n",
    "# Define the residual function\n",
    "\n",
    "\n",
    "def residual(params, t, data):\n",
    "    y0 = [1.0, 0.0]  # Initial conditions\n",
    "    model_result = odeint(ode_model, y0, t, args=(params,))\n",
    "    # Extract the second component of the solution\n",
    "    model_data = model_result[:, 1]\n",
    "    return model_data - data\n",
    "\n",
    "\n",
    "# Perform the fitting\n",
    "result = minimize(residual, params, args=(t, data))\n",
    "\n",
    "# Print the fitted parameter values\n",
    "print(\"Fitted Parameters:\")\n",
    "print(result.params)"
   ]
  },
  {
   "cell_type": "code",
   "execution_count": null,
   "metadata": {},
   "outputs": [
    {
     "name": "stdout",
     "output_type": "stream",
     "text": [
      "[ 78 222 366]\n"
     ]
    }
   ],
   "source": [
    "import numpy as np\n",
    "\n",
    "# Create a NumPy array with shape (3, 12)\n",
    "arr = np.array(\n",
    "    [\n",
    "        [1, 2, 3, 4, 5, 6, 7, 8, 9, 10, 11, 12],\n",
    "        [13, 14, 15, 16, 17, 18, 19, 20, 21, 22, 23, 24],\n",
    "        [25, 26, 27, 28, 29, 30, 31, 32, 33, 34, 35, 36],\n",
    "    ]\n",
    ")\n",
    "\n",
    "# Define a function to calculate row sums\n",
    "\n",
    "\n",
    "def row_sum(row):\n",
    "    return np.sum(row)\n",
    "\n",
    "\n",
    "# Use np.vectorize to apply the row_sum function row-wise (axis=1)\n",
    "vectorized_row_sum = np.vectorize(row_sum, signature=\"(n)->()\")\n",
    "\n",
    "# Apply the vectorized function to the entire array row-wise\n",
    "row_sums = vectorized_row_sum(arr)\n",
    "\n",
    "# Print the row sums\n",
    "print(row_sums)"
   ]
  },
  {
   "cell_type": "code",
   "execution_count": null,
   "metadata": {},
   "outputs": [],
   "source": [
    "from sdRDM import DataModel\n",
    "\n",
    "EnzymeML = DataModel.from_git(\"https://github.com/EnzymeML/enzymeml-specifications.git\")"
   ]
  },
  {
   "cell_type": "code",
   "execution_count": null,
   "metadata": {},
   "outputs": [],
   "source": [
    "from EnzymePynetics.modified.reactionsystem import ReactionSystem"
   ]
  },
  {
   "cell_type": "code",
   "execution_count": null,
   "metadata": {},
   "outputs": [
    {
     "data": {
      "text/plain": [
       "ReactionSystem(id='reactionsystem1', name='sdfadf', reactions=[Reaction(id='r1', name='Oxidation', reversible=False, temperature=35.0, temperature_unit='C', ph=3.5, ontology='SBO:0000176', uri=None, creator_id=None, model=None, educts=[ReactionElement(id='reactionelement0', species_id='s0', stoichiometry=1.0, constant=False, ontology='SBO:0000015')], products=[ReactionElement(id='reactionelement1', species_id='s2', stoichiometry=1.0, constant=False, ontology='SBO:0000011')], modifiers=[ReactionElement(id='reactionelement2', species_id='p0', stoichiometry=1.0, constant=True, ontology='SBO:0000013')])], result=ModelResult(id='modelresult0', equations=[], parameters=[], fit_success=None, AIC=None, BIC=None, RMSD=None))"
      ]
     },
     "execution_count": 11,
     "metadata": {},
     "output_type": "execute_result"
    }
   ],
   "source": [
    "ReactionSystem(name=\"sdfadf\", reactions=e.reactions)"
   ]
  },
  {
   "cell_type": "code",
   "execution_count": 10,
   "metadata": {},
   "outputs": [],
   "source": [
    "import numpy as np"
   ]
  },
  {
   "cell_type": "code",
   "execution_count": 19,
   "metadata": {},
   "outputs": [
    {
     "data": {
      "text/plain": [
       "array([[1, 2, 3],\n",
       "       [1, 2, 3]])"
      ]
     },
     "execution_count": 19,
     "metadata": {},
     "output_type": "execute_result"
    }
   ],
   "source": [
    "e1 = np.repeat(1, 10).reshape(2, 5)\n",
    "e2 = np.repeat(2, 10).reshape(2, 5)\n",
    "e3 = np.repeat(3, 10).reshape(2, 5)\n",
    "\n",
    "\n",
    "np.zeros(e1.shape)\n",
    "\n",
    "np.array([e1[:, 0], e2[:, 0], e3[:, 0]]).T"
   ]
  }
 ],
 "metadata": {
  "kernelspec": {
   "display_name": "sdrdm_example",
   "language": "python",
   "name": "python3"
  },
  "language_info": {
   "codemirror_mode": {
    "name": "ipython",
    "version": 3
   },
   "file_extension": ".py",
   "mimetype": "text/x-python",
   "name": "python",
   "nbconvert_exporter": "python",
   "pygments_lexer": "ipython3",
   "version": "3.11.3"
  },
  "orig_nbformat": 4
 },
 "nbformat": 4,
 "nbformat_minor": 2
}
