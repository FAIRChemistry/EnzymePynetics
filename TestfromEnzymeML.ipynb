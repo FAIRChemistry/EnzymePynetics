{
 "cells": [
  {
   "cell_type": "code",
   "execution_count": 1,
   "metadata": {},
   "outputs": [],
   "source": [
    "%reload_ext autoreload\n",
    "%autoreload 2\n",
    "from EnzymePynetics.core import EnzymeKinetics\n",
    "from EnzymePynetics.tools import ParameterEstimator"
   ]
  },
  {
   "cell_type": "code",
   "execution_count": 2,
   "metadata": {},
   "outputs": [],
   "source": [
    "import pyenzyme as pe\n",
    "from pathlib import Path"
   ]
  },
  {
   "cell_type": "code",
   "execution_count": 3,
   "metadata": {},
   "outputs": [],
   "source": [
    "path = \"/Users/max/code/EnzymePynetics/a-glucosidase.omex\"\n",
    "estimator = ParameterEstimator.from_EnzymeML(enzmldoc=path, measured_species_id=\"s1\")"
   ]
  },
  {
   "cell_type": "code",
   "execution_count": 4,
   "metadata": {},
   "outputs": [
    {
     "name": "stdout",
     "output_type": "stream",
     "text": [
      "Fitting data to:\n",
      " - irreversible Michaelis Menten model\n",
      " -- Fitting succeeded: True\n",
      " - irreversible Michaelis Menten with enzyme inactivation model\n",
      " -- Fitting succeeded: True\n",
      " - competitive product inhibition model\n",
      " -- Fitting succeeded: True\n",
      " - competitive product inhibition with enzyme inactivation model\n",
      " -- Fitting succeeded: True\n",
      " - uncompetitive product inhibition model\n",
      " -- Fitting succeeded: True\n",
      " - uncompetitive product inhibition with enzyme inactivation model\n",
      " -- Fitting succeeded: True\n",
      " - non-competitive product inhibition model\n",
      " -- Fitting succeeded: True\n",
      " - non-competitive product inhibition with enzyme inactivation model\n",
      " -- Fitting succeeded: True\n",
      " - substrate inhibition model\n",
      " -- Fitting succeeded: True\n",
      " - substrate inhibition with enzyme inactivation model\n",
      " -- Fitting succeeded: True\n"
     ]
    },
    {
     "data": {
      "text/html": [
       "<style type=\"text/css\">\n",
       "#T_11577_row0_col0, #T_11577_row0_col1 {\n",
       "  background-color: #f7fbff;\n",
       "  color: #000000;\n",
       "}\n",
       "#T_11577_row1_col0 {\n",
       "  background-color: #56a0ce;\n",
       "  color: #f1f1f1;\n",
       "}\n",
       "#T_11577_row1_col1, #T_11577_row2_col1 {\n",
       "  background-color: #7cb7da;\n",
       "  color: #000000;\n",
       "}\n",
       "#T_11577_row2_col0 {\n",
       "  background-color: #549fcd;\n",
       "  color: #f1f1f1;\n",
       "}\n",
       "#T_11577_row3_col0 {\n",
       "  background-color: #519ccc;\n",
       "  color: #f1f1f1;\n",
       "}\n",
       "#T_11577_row3_col1, #T_11577_row4_col1 {\n",
       "  background-color: #72b2d8;\n",
       "  color: #f1f1f1;\n",
       "}\n",
       "#T_11577_row4_col0 {\n",
       "  background-color: #4f9bcb;\n",
       "  color: #f1f1f1;\n",
       "}\n",
       "#T_11577_row5_col0 {\n",
       "  background-color: #4d99ca;\n",
       "  color: #f1f1f1;\n",
       "}\n",
       "#T_11577_row5_col1, #T_11577_row6_col1 {\n",
       "  background-color: #6dafd7;\n",
       "  color: #f1f1f1;\n",
       "}\n",
       "#T_11577_row6_col0 {\n",
       "  background-color: #4a98c9;\n",
       "  color: #f1f1f1;\n",
       "}\n",
       "#T_11577_row7_col0 {\n",
       "  background-color: #1c6ab0;\n",
       "  color: #f1f1f1;\n",
       "}\n",
       "#T_11577_row7_col1 {\n",
       "  background-color: #2f7fbc;\n",
       "  color: #f1f1f1;\n",
       "}\n",
       "#T_11577_row8_col0 {\n",
       "  background-color: #08316d;\n",
       "  color: #f1f1f1;\n",
       "}\n",
       "#T_11577_row8_col1 {\n",
       "  background-color: #083573;\n",
       "  color: #f1f1f1;\n",
       "}\n",
       "#T_11577_row9_col0, #T_11577_row9_col1 {\n",
       "  background-color: #08306b;\n",
       "  color: #f1f1f1;\n",
       "}\n",
       "</style>\n",
       "<table id=\"T_11577\">\n",
       "  <thead>\n",
       "    <tr>\n",
       "      <th class=\"blank level0\" >&nbsp;</th>\n",
       "      <th id=\"T_11577_level0_col0\" class=\"col_heading level0 col0\" >AIC</th>\n",
       "      <th id=\"T_11577_level0_col1\" class=\"col_heading level0 col1\" >RMSD</th>\n",
       "      <th id=\"T_11577_level0_col2\" class=\"col_heading level0 col2\" >kcat [1/min]</th>\n",
       "      <th id=\"T_11577_level0_col3\" class=\"col_heading level0 col3\" >Km [mmol / l]</th>\n",
       "      <th id=\"T_11577_level0_col4\" class=\"col_heading level0 col4\" >kcat / Km [1/min * 1/mmol / l]</th>\n",
       "      <th id=\"T_11577_level0_col5\" class=\"col_heading level0 col5\" >ki time-dep enzyme-inactiv. [1/min]</th>\n",
       "      <th id=\"T_11577_level0_col6\" class=\"col_heading level0 col6\" >Ki competitive [mmol / l]</th>\n",
       "      <th id=\"T_11577_level0_col7\" class=\"col_heading level0 col7\" >Ki uncompetitive [mmol / l]</th>\n",
       "    </tr>\n",
       "  </thead>\n",
       "  <tbody>\n",
       "    <tr>\n",
       "      <th id=\"T_11577_level0_row0\" class=\"row_heading level0 row0\" >substrate inhibition with enzyme inactivation</th>\n",
       "      <td id=\"T_11577_row0_col0\" class=\"data row0 col0\" >-2737</td>\n",
       "      <td id=\"T_11577_row0_col1\" class=\"data row0 col1\" >0.004310</td>\n",
       "      <td id=\"T_11577_row0_col2\" class=\"data row0 col2\" >3.0858 +/- 2.30%</td>\n",
       "      <td id=\"T_11577_row0_col3\" class=\"data row0 col3\" >1.1009 +/- 3.39%</td>\n",
       "      <td id=\"T_11577_row0_col4\" class=\"data row0 col4\" >2.803 +/- 4.10%</td>\n",
       "      <td id=\"T_11577_row0_col5\" class=\"data row0 col5\" >0.0325 +/- 4.37%</td>\n",
       "      <td id=\"T_11577_row0_col6\" class=\"data row0 col6\" >-</td>\n",
       "      <td id=\"T_11577_row0_col7\" class=\"data row0 col7\" >11.9412 +/- 7.27%</td>\n",
       "    </tr>\n",
       "    <tr>\n",
       "      <th id=\"T_11577_level0_row1\" class=\"row_heading level0 row1\" >uncompetitive product inhibition with enzyme inactivation</th>\n",
       "      <td id=\"T_11577_row1_col0\" class=\"data row1 col0\" >-2517</td>\n",
       "      <td id=\"T_11577_row1_col1\" class=\"data row1 col1\" >0.006669</td>\n",
       "      <td id=\"T_11577_row1_col2\" class=\"data row1 col2\" >2.5702 +/- 6.56%</td>\n",
       "      <td id=\"T_11577_row1_col3\" class=\"data row1 col3\" >0.8822 +/- 12.57%</td>\n",
       "      <td id=\"T_11577_row1_col4\" class=\"data row1 col4\" >2.913 +/- 14.18%</td>\n",
       "      <td id=\"T_11577_row1_col5\" class=\"data row1 col5\" >0.0189 +/- 28.94%</td>\n",
       "      <td id=\"T_11577_row1_col6\" class=\"data row1 col6\" >-</td>\n",
       "      <td id=\"T_11577_row1_col7\" class=\"data row1 col7\" >0.5227 +/- 47.78%</td>\n",
       "    </tr>\n",
       "    <tr>\n",
       "      <th id=\"T_11577_level0_row2\" class=\"row_heading level0 row2\" >non-competitive product inhibition with enzyme inactivation</th>\n",
       "      <td id=\"T_11577_row2_col0\" class=\"data row2 col0\" >-2515</td>\n",
       "      <td id=\"T_11577_row2_col1\" class=\"data row2 col1\" >0.006669</td>\n",
       "      <td id=\"T_11577_row2_col2\" class=\"data row2 col2\" >2.5704 +/- 6.62%</td>\n",
       "      <td id=\"T_11577_row2_col3\" class=\"data row2 col3\" >0.8823 +/- 12.77%</td>\n",
       "      <td id=\"T_11577_row2_col4\" class=\"data row2 col4\" >2.913 +/- 14.38%</td>\n",
       "      <td id=\"T_11577_row2_col5\" class=\"data row2 col5\" >0.0189 +/- 29.08%</td>\n",
       "      <td id=\"T_11577_row2_col6\" class=\"data row2 col6\" >999.9847 +/- 270.94%</td>\n",
       "      <td id=\"T_11577_row2_col7\" class=\"data row2 col7\" >0.5223 +/- 48.03%</td>\n",
       "    </tr>\n",
       "    <tr>\n",
       "      <th id=\"T_11577_level0_row3\" class=\"row_heading level0 row3\" >irreversible Michaelis Menten with enzyme inactivation</th>\n",
       "      <td id=\"T_11577_row3_col0\" class=\"data row3 col0\" >-2510</td>\n",
       "      <td id=\"T_11577_row3_col1\" class=\"data row3 col1\" >0.006788</td>\n",
       "      <td id=\"T_11577_row3_col2\" class=\"data row3 col2\" >2.2355 +/- 1.68%</td>\n",
       "      <td id=\"T_11577_row3_col3\" class=\"data row3 col3\" >0.6498 +/- 2.34%</td>\n",
       "      <td id=\"T_11577_row3_col4\" class=\"data row3 col4\" >3.440 +/- 2.88%</td>\n",
       "      <td id=\"T_11577_row3_col5\" class=\"data row3 col5\" >0.0324 +/- 6.91%</td>\n",
       "      <td id=\"T_11577_row3_col6\" class=\"data row3 col6\" >-</td>\n",
       "      <td id=\"T_11577_row3_col7\" class=\"data row3 col7\" >-</td>\n",
       "    </tr>\n",
       "    <tr>\n",
       "      <th id=\"T_11577_level0_row4\" class=\"row_heading level0 row4\" >competitive product inhibition with enzyme inactivation</th>\n",
       "      <td id=\"T_11577_row4_col0\" class=\"data row4 col0\" >-2508</td>\n",
       "      <td id=\"T_11577_row4_col1\" class=\"data row4 col1\" >0.006788</td>\n",
       "      <td id=\"T_11577_row4_col2\" class=\"data row4 col2\" >2.2355 +/- 1.70%</td>\n",
       "      <td id=\"T_11577_row4_col3\" class=\"data row4 col3\" >0.6497 +/- 2.53%</td>\n",
       "      <td id=\"T_11577_row4_col4\" class=\"data row4 col4\" >3.441 +/- 3.05%</td>\n",
       "      <td id=\"T_11577_row4_col5\" class=\"data row4 col5\" >0.0324 +/- 6.94%</td>\n",
       "      <td id=\"T_11577_row4_col6\" class=\"data row4 col6\" >983.1988 +/- 4125.10%</td>\n",
       "      <td id=\"T_11577_row4_col7\" class=\"data row4 col7\" >-</td>\n",
       "    </tr>\n",
       "    <tr>\n",
       "      <th id=\"T_11577_level0_row5\" class=\"row_heading level0 row5\" >uncompetitive product inhibition</th>\n",
       "      <td id=\"T_11577_row5_col0\" class=\"data row5 col0\" >-2505</td>\n",
       "      <td id=\"T_11577_row5_col1\" class=\"data row5 col1\" >0.006853</td>\n",
       "      <td id=\"T_11577_row5_col2\" class=\"data row5 col2\" >3.2530 +/- 6.22%</td>\n",
       "      <td id=\"T_11577_row5_col3\" class=\"data row5 col3\" >1.3846 +/- 7.59%</td>\n",
       "      <td id=\"T_11577_row5_col4\" class=\"data row5 col4\" >2.349 +/- 9.82%</td>\n",
       "      <td id=\"T_11577_row5_col5\" class=\"data row5 col5\" >-</td>\n",
       "      <td id=\"T_11577_row5_col6\" class=\"data row5 col6\" >-</td>\n",
       "      <td id=\"T_11577_row5_col7\" class=\"data row5 col7\" >0.1638 +/- 13.72%</td>\n",
       "    </tr>\n",
       "    <tr>\n",
       "      <th id=\"T_11577_level0_row6\" class=\"row_heading level0 row6\" >non-competitive product inhibition</th>\n",
       "      <td id=\"T_11577_row6_col0\" class=\"data row6 col0\" >-2503</td>\n",
       "      <td id=\"T_11577_row6_col1\" class=\"data row6 col1\" >0.006853</td>\n",
       "      <td id=\"T_11577_row6_col2\" class=\"data row6 col2\" >3.2527 +/- 6.24%</td>\n",
       "      <td id=\"T_11577_row6_col3\" class=\"data row6 col3\" >1.3843 +/- 7.62%</td>\n",
       "      <td id=\"T_11577_row6_col4\" class=\"data row6 col4\" >2.350 +/- 9.85%</td>\n",
       "      <td id=\"T_11577_row6_col5\" class=\"data row6 col5\" >-</td>\n",
       "      <td id=\"T_11577_row6_col6\" class=\"data row6 col6\" >509.0032 +/- 42.49%</td>\n",
       "      <td id=\"T_11577_row6_col7\" class=\"data row6 col7\" >0.1639 +/- 13.76%</td>\n",
       "    </tr>\n",
       "    <tr>\n",
       "      <th id=\"T_11577_level0_row7\" class=\"row_heading level0 row7\" >substrate inhibition</th>\n",
       "      <td id=\"T_11577_row7_col0\" class=\"data row7 col0\" >-2434</td>\n",
       "      <td id=\"T_11577_row7_col1\" class=\"data row7 col1\" >0.007892</td>\n",
       "      <td id=\"T_11577_row7_col2\" class=\"data row7 col2\" >2.4262 +/- 3.81%</td>\n",
       "      <td id=\"T_11577_row7_col3\" class=\"data row7 col3\" >1.0912 +/- 6.23%</td>\n",
       "      <td id=\"T_11577_row7_col4\" class=\"data row7 col4\" >2.223 +/- 7.30%</td>\n",
       "      <td id=\"T_11577_row7_col5\" class=\"data row7 col5\" >-</td>\n",
       "      <td id=\"T_11577_row7_col6\" class=\"data row7 col6\" >-</td>\n",
       "      <td id=\"T_11577_row7_col7\" class=\"data row7 col7\" >12.0827 +/- 13.43%</td>\n",
       "    </tr>\n",
       "    <tr>\n",
       "      <th id=\"T_11577_level0_row8\" class=\"row_heading level0 row8\" >competitive product inhibition</th>\n",
       "      <td id=\"T_11577_row8_col0\" class=\"data row8 col0\" >-2349</td>\n",
       "      <td id=\"T_11577_row8_col1\" class=\"data row8 col1\" >0.009347</td>\n",
       "      <td id=\"T_11577_row8_col2\" class=\"data row8 col2\" >1.8118 +/- 1.52%</td>\n",
       "      <td id=\"T_11577_row8_col3\" class=\"data row8 col3\" >0.5983 +/- 5.00%</td>\n",
       "      <td id=\"T_11577_row8_col4\" class=\"data row8 col4\" >3.028 +/- 5.22%</td>\n",
       "      <td id=\"T_11577_row8_col5\" class=\"data row8 col5\" >-</td>\n",
       "      <td id=\"T_11577_row8_col6\" class=\"data row8 col6\" >0.5276 +/- 47.82%</td>\n",
       "      <td id=\"T_11577_row8_col7\" class=\"data row8 col7\" >-</td>\n",
       "    </tr>\n",
       "    <tr>\n",
       "      <th id=\"T_11577_level0_row9\" class=\"row_heading level0 row9\" >irreversible Michaelis Menten</th>\n",
       "      <td id=\"T_11577_row9_col0\" class=\"data row9 col0\" >-2346</td>\n",
       "      <td id=\"T_11577_row9_col1\" class=\"data row9 col1\" >0.009447</td>\n",
       "      <td id=\"T_11577_row9_col2\" class=\"data row9 col2\" >1.7658 +/- 1.00%</td>\n",
       "      <td id=\"T_11577_row9_col3\" class=\"data row9 col3\" >0.6473 +/- 3.26%</td>\n",
       "      <td id=\"T_11577_row9_col4\" class=\"data row9 col4\" >2.728 +/- 3.41%</td>\n",
       "      <td id=\"T_11577_row9_col5\" class=\"data row9 col5\" >-</td>\n",
       "      <td id=\"T_11577_row9_col6\" class=\"data row9 col6\" >-</td>\n",
       "      <td id=\"T_11577_row9_col7\" class=\"data row9 col7\" >-</td>\n",
       "    </tr>\n",
       "  </tbody>\n",
       "</table>\n"
      ],
      "text/plain": [
       "<pandas.io.formats.style.Styler at 0x154dff970>"
      ]
     },
     "metadata": {},
     "output_type": "display_data"
    }
   ],
   "source": [
    "estimator.fit_models()"
   ]
  },
  {
   "cell_type": "code",
   "execution_count": 5,
   "metadata": {},
   "outputs": [
    {
     "name": "stdout",
     "output_type": "stream",
     "text": [
      "y\n",
      "0.1\n",
      "0.25\n",
      "0.5\n",
      "1.0\n",
      "2.5\n",
      "5.0\n",
      "y\n",
      "0.1\n",
      "0.25\n",
      "0.5\n",
      "1.0\n",
      "2.5\n",
      "5.0\n",
      "y\n",
      "0.1\n",
      "0.25\n",
      "0.5\n",
      "1.0\n",
      "2.5\n",
      "5.0\n",
      "y\n",
      "0.1\n",
      "0.25\n",
      "0.5\n",
      "1.0\n",
      "2.5\n",
      "5.0\n",
      "y\n",
      "0.1\n",
      "0.25\n",
      "0.5\n",
      "1.0\n",
      "2.5\n",
      "5.0\n",
      "y\n",
      "0.1\n",
      "0.25\n",
      "0.5\n",
      "1.0\n",
      "2.5\n",
      "5.0\n",
      "y\n",
      "0.1\n",
      "0.25\n",
      "0.5\n",
      "1.0\n",
      "2.5\n",
      "5.0\n",
      "y\n",
      "0.1\n",
      "0.25\n",
      "0.5\n",
      "1.0\n",
      "2.5\n",
      "5.0\n",
      "y\n",
      "0.1\n",
      "0.25\n",
      "0.5\n",
      "1.0\n",
      "2.5\n",
      "5.0\n",
      "y\n",
      "0.1\n",
      "0.25\n",
      "0.5\n",
      "1.0\n",
      "2.5\n",
      "5.0\n"
     ]
    },
    {
     "data": {
      "application/vnd.plotly.v1+json": {
       "config": {
        "plotlyServerURL": "https://plot.ly"
       },
       "data": [
        {
         "customdata": [
          "replicates"
         ],
         "hoverinfo": "skip",
         "marker": {
          "color": "rgba(0.38823529411764707, 0.43137254901960786, 0.9803921568627451, 1.0)"
         },
         "mode": "markers",
         "name": "0.1",
         "showlegend": true,
         "type": "scatter",
         "visible": false,
         "x": [
          0,
          1,
          2,
          3,
          4,
          5,
          6,
          7,
          8,
          9,
          10,
          11,
          12,
          13,
          14,
          15,
          16,
          17,
          18,
          19,
          20
         ],
         "y": [
          0.0055238679168713,
          0.0080894446979112,
          0.0105233614732951,
          0.0128250839190488,
          0.0148584636153568,
          0.0167583625643257,
          0.0186602742887078,
          0.0204281430341262,
          0.0221977579711534,
          0.0236964921867349,
          0.0253329087927503,
          0.0265612055055927,
          0.0280636055457637,
          0.0292937837137333,
          0.0303879885077198,
          0.0316197727285893,
          0.0325784166316252,
          0.0336746424478319,
          0.0346343946622681,
          0.035457452092545,
          0.0362808910127382
         ]
        },
        {
         "customdata": [
          "replicates"
         ],
         "hoverinfo": "skip",
         "marker": {
          "color": "rgba(0.38823529411764707, 0.43137254901960786, 0.9803921568627451, 1.0)"
         },
         "mode": "markers",
         "name": "0.1",
         "showlegend": false,
         "type": "scatter",
         "visible": false,
         "x": [
          0,
          1,
          2,
          3,
          4,
          5,
          6,
          7,
          8,
          9,
          10,
          11,
          12,
          13,
          14,
          15,
          16,
          17,
          18,
          19,
          20
         ],
         "y": [
          0.0059287166970757,
          0.0084948693919919,
          0.0110646785700165,
          0.0133670937381416,
          0.015672459969543,
          0.01770906642972,
          0.0197479871491116,
          0.0216530747715511,
          0.0234239016460444,
          0.0251964835011086,
          0.026697735082855,
          0.0282002501138883,
          0.0295672719395071,
          0.0307984886001435,
          0.0320305568956231,
          0.0332634785956266,
          0.0343601268694526,
          0.0353202493761314,
          0.036143624677833,
          0.0369673819118302,
          0.0380663199270555
         ]
        },
        {
         "customdata": [
          "replicates"
         ],
         "hoverinfo": "skip",
         "marker": {
          "color": "rgba(0.9372549019607843, 0.3333333333333333, 0.23137254901960785, 1.0)"
         },
         "mode": "markers",
         "name": "0.25",
         "showlegend": true,
         "type": "scatter",
         "visible": false,
         "x": [
          0,
          1,
          2,
          3,
          4,
          5,
          6,
          7,
          8,
          9,
          10,
          11,
          12,
          13,
          14,
          15,
          16,
          17,
          18,
          19,
          20
         ],
         "y": [
          0.0091707798205771,
          0.0141804148511252,
          0.019475997056625,
          0.0234239016460444,
          0.0284735706569278,
          0.0317566902524667,
          0.036143624677833,
          0.0404038265892048,
          0.0441226895799587,
          0.0475730699755393,
          0.0508917949268102,
          0.0540781187942364,
          0.0569924232564427,
          0.0596333511619914,
          0.0621389594346985,
          0.0647876663080285,
          0.0674403945929953,
          0.0695375064368366,
          0.0721974768788491,
          0.0743003296738884,
          0.0762652907833926
         ]
        },
        {
         "customdata": [
          "replicates"
         ],
         "hoverinfo": "skip",
         "marker": {
          "color": "rgba(0.9372549019607843, 0.3333333333333333, 0.23137254901960785, 1.0)"
         },
         "mode": "markers",
         "name": "0.25",
         "showlegend": false,
         "type": "scatter",
         "visible": false,
         "x": [
          0,
          1,
          2,
          3,
          4,
          5,
          6,
          7,
          8,
          9,
          10,
          11,
          12,
          13,
          14,
          15,
          16,
          17,
          18,
          19,
          20
         ],
         "y": [
          0.0098469437525292,
          0.0159438740679276,
          0.0197479871491116,
          0.0236964921867349,
          0.0272439578330746,
          0.0313459692640893,
          0.0351830572542023,
          0.0386160443058873,
          0.0419179757719321,
          0.0450881169234291,
          0.0481257571805142,
          0.0508917949268102,
          0.0536621838868759,
          0.0562981024709658,
          0.0586599149307927,
          0.0610249131099721,
          0.0631143321007255,
          0.0652062503212486,
          0.0673006767613118,
          0.06911788220251,
          0.0710769939692237
         ]
        },
        {
         "customdata": [
          "replicates"
         ],
         "hoverinfo": "skip",
         "marker": {
          "color": "rgba(0.0, 0.8, 0.5882352941176471, 1.0)"
         },
         "mode": "markers",
         "name": "0.5",
         "showlegend": true,
         "type": "scatter",
         "visible": false,
         "x": [
          0,
          1,
          2,
          3,
          4,
          5,
          6,
          7,
          8,
          9,
          10,
          11,
          12,
          13,
          14,
          15,
          16,
          17,
          18,
          19,
          20
         ],
         "y": [
          0.0143321464081854,
          0.0223501692565257,
          0.0306779351114683,
          0.0384949594246151,
          0.0452425028565138,
          0.051462006664558,
          0.05909359015401,
          0.0659207325168274,
          0.0716538191826161,
          0.0765629022271271,
          0.0824721944265751,
          0.0879775304211802,
          0.0929332276029675,
          0.0980454647179324,
          0.102602510554526,
          0.106885801962455,
          0.1111798801660603,
          0.1151974908173678,
          0.1193686405654296,
          0.1231170503246435,
          0.1268737980006321
         ]
        },
        {
         "customdata": [
          "replicates"
         ],
         "hoverinfo": "skip",
         "marker": {
          "color": "rgba(0.0, 0.8, 0.5882352941176471, 1.0)"
         },
         "mode": "markers",
         "name": "0.5",
         "showlegend": false,
         "type": "scatter",
         "visible": false,
         "x": [
          0,
          1,
          2,
          3,
          4,
          5,
          6,
          7,
          8,
          9,
          10,
          11,
          12,
          13,
          14,
          15,
          16,
          17,
          18,
          19,
          20
         ],
         "y": [
          0.0160957546143531,
          0.0241216865724253,
          0.0324577425641273,
          0.039732378209926,
          0.0473132352331743,
          0.0543719734028116,
          0.0606238973555187,
          0.0667585444493167,
          0.0724943923662453,
          0.0783898164277351,
          0.0836000645225586,
          0.0888260663226004,
          0.0942098605506824,
          0.0986144326256265,
          0.1030303566026405,
          0.1074577207085524,
          0.1114665375771243,
          0.1156285134514109,
          0.1195126566642711,
          0.1231170503246435,
          0.1267291528541844
         ]
        },
        {
         "customdata": [
          "replicates"
         ],
         "hoverinfo": "skip",
         "marker": {
          "color": "rgba(0.6705882352941176, 0.38823529411764707, 0.9803921568627451, 1.0)"
         },
         "mode": "markers",
         "name": "1.0",
         "showlegend": true,
         "type": "scatter",
         "visible": false,
         "x": [
          0,
          1,
          2,
          3,
          4,
          5,
          6,
          7,
          8,
          9,
          10,
          11,
          12,
          13,
          14,
          15,
          16,
          17,
          18,
          19,
          20
         ],
         "y": [
          0.0216465914458523,
          0.0343535971996617,
          0.0457714590865514,
          0.0572636135736553,
          0.0685518825797475,
          0.0792102116784427,
          0.0889439515800233,
          0.0985907218573415,
          0.1075768946021395,
          0.115891970093381,
          0.1254038170459226,
          0.1339524733218372,
          0.1421069330961702,
          0.1497147491921827,
          0.1566211268704121,
          0.1637043161668606,
          0.170521053204267,
          0.177217104216084,
          0.1837909802394311,
          0.1894898530391246,
          0.1955103713383605
         ]
        },
        {
         "customdata": [
          "replicates"
         ],
         "hoverinfo": "skip",
         "marker": {
          "color": "rgba(0.6705882352941176, 0.38823529411764707, 0.9803921568627451, 1.0)"
         },
         "mode": "markers",
         "name": "1.0",
         "showlegend": false,
         "type": "scatter",
         "visible": false,
         "x": [
          0,
          1,
          2,
          3,
          4,
          5,
          6,
          7,
          8,
          9,
          10,
          11,
          12,
          13,
          14,
          15,
          16,
          17,
          18,
          19,
          20
         ],
         "y": [
          0.0239626325608631,
          0.0370981721870535,
          0.0504700229660005,
          0.0619930320615968,
          0.0741533811144534,
          0.0868232494088266,
          0.0973108272581334,
          0.1077199142744315,
          0.1166106962903388,
          0.1265604158725135,
          0.1367147161745448,
          0.1456139169022985,
          0.1536787271688382,
          0.1628172538083968,
          0.1708180753470395,
          0.1791566311249457,
          0.1860381492029845,
          0.1937018640741932,
          0.200796778874318,
          0.2077711213992405,
          0.2143181465044851
         ]
        },
        {
         "customdata": [
          "replicates"
         ],
         "hoverinfo": "skip",
         "marker": {
          "color": "rgba(1.0, 0.6313725490196078, 0.35294117647058826, 1.0)"
         },
         "mode": "markers",
         "name": "2.5",
         "showlegend": true,
         "type": "scatter",
         "visible": false,
         "x": [
          0,
          1,
          2,
          3,
          4,
          5,
          6,
          7,
          8,
          9,
          10,
          11,
          12,
          13,
          14,
          15,
          16,
          17,
          18,
          19,
          20
         ],
         "y": [
          0.0274650955256476,
          0.043243099272469,
          0.0608326792228647,
          0.0746677554504309,
          0.0874827439551233,
          0.1038150193453329,
          0.1169941415401806,
          0.130566453407036,
          0.1439569224079735,
          0.1559831632812279,
          0.1678008504579098,
          0.1792561561481309,
          0.1901910952279353,
          0.201351597056241,
          0.2119804752360062,
          0.2219137633837749,
          0.2314467627917528,
          0.2407273134664359,
          0.2492829004980126,
          0.2572583311150852,
          0.2668516352211736
         ]
        },
        {
         "customdata": [
          "replicates"
         ],
         "hoverinfo": "skip",
         "marker": {
          "color": "rgba(1.0, 0.6313725490196078, 0.35294117647058826, 1.0)"
         },
         "mode": "markers",
         "name": "2.5",
         "showlegend": false,
         "type": "scatter",
         "visible": false,
         "x": [
          0,
          1,
          2,
          3,
          4,
          5,
          6,
          7,
          8,
          9,
          10,
          11,
          12,
          13,
          14,
          15,
          16,
          17,
          18,
          19,
          20
         ],
         "y": [
          0.0299254747507152,
          0.0465536846851822,
          0.0625038311194178,
          0.0774761188008425,
          0.0925787755566153,
          0.1079583070693883,
          0.1236222794741531,
          0.1391414914375735,
          0.1539237277114632,
          0.1673561547180323,
          0.1807497601509543,
          0.1928987314806697,
          0.2052912581283563,
          0.217933020353305,
          0.2289811380608839,
          0.2404170788345638,
          0.2506873691219354,
          0.2610256655270649,
          0.2703261624223318,
          0.2800012938566283,
          0.2886174381663109
         ]
        },
        {
         "customdata": [
          "replicates"
         ],
         "hoverinfo": "skip",
         "marker": {
          "color": "rgba(0.09803921568627451, 0.8274509803921568, 0.9529411764705882, 1.0)"
         },
         "mode": "markers",
         "name": "5.0",
         "showlegend": true,
         "type": "scatter",
         "visible": false,
         "x": [
          0,
          1,
          2,
          3,
          4,
          5,
          6,
          7,
          8,
          9,
          10,
          11,
          12,
          13,
          14,
          15,
          16,
          17,
          18,
          19,
          20
         ],
         "y": [
          0.0269058002321838,
          0.0486127918083396,
          0.0570651775208341,
          0.0721307612699774,
          0.0860563993507712,
          0.1020899154386897,
          0.1156866756838968,
          0.1282347591208553,
          0.1433585812004192,
          0.1567052722863977,
          0.1698635525015123,
          0.1819313870297373,
          0.1933361024972297,
          0.2058837634719966,
          0.2171540757326574,
          0.2274274202619372,
          0.2373033516406013,
          0.2472416129861795,
          0.2566164036600217,
          0.2658903769746039,
          0.2750617079298444
         ]
        },
        {
         "customdata": [
          "replicates"
         ],
         "hoverinfo": "skip",
         "marker": {
          "color": "rgba(0.09803921568627451, 0.8274509803921568, 0.9529411764705882, 1.0)"
         },
         "mode": "markers",
         "name": "5.0",
         "showlegend": false,
         "type": "scatter",
         "visible": false,
         "x": [
          0,
          1,
          2,
          3,
          4,
          5,
          6,
          7,
          8,
          9,
          10,
          11,
          12,
          13,
          14,
          15,
          16,
          17,
          18,
          19,
          20
         ],
         "y": [
          0.0284084905381707,
          0.0462644180372154,
          0.0624905617249054,
          0.0821064659663118,
          0.0992411933292677,
          0.1146810920041611,
          0.1279452474645986,
          0.1433585812004192,
          0.1565580206152338,
          0.1706059111891491,
          0.1832777769441517,
          0.1952949667705759,
          0.2067946247253788,
          0.2170012434071864,
          0.2278889791466628,
          0.239471979354451,
          0.2503602900819831,
          0.2616394707258066,
          0.2726845734776525,
          0.2825339867745513,
          0.2926076611985762
         ]
        },
        {
         "customdata": [
          "mean"
         ],
         "hoverinfo": "skip",
         "marker": {
          "color": "rgba(0.38823529411764707, 0.43137254901960786, 0.9803921568627451, 1.0)"
         },
         "mode": "markers",
         "name": "0.1",
         "type": "scatter",
         "visible": true,
         "x": [
          0,
          1,
          2,
          3,
          4,
          5,
          6,
          7,
          8,
          9,
          10,
          11,
          12,
          13,
          14,
          15,
          16,
          17,
          18,
          19,
          20
         ],
         "y": [
          0.0057262923069735,
          0.00829215704495155,
          0.0107940200216558,
          0.0130960888285952,
          0.015265461792449902,
          0.01723371449702285,
          0.019204130718909702,
          0.02104060890283865,
          0.0228108298085989,
          0.02444648784392175,
          0.02601532193780265,
          0.0273807278097405,
          0.0288154387426354,
          0.0300461361569384,
          0.03120927270167145,
          0.032441625662107954,
          0.033469271750538904,
          0.03449744591198165,
          0.03538900967005055,
          0.0362124170021876,
          0.037173605469896856
         ]
        },
        {
         "customdata": [
          "std"
         ],
         "line": {
          "width": 0
         },
         "mode": "lines",
         "name": "0.1",
         "showlegend": false,
         "type": "scatter",
         "x": [
          0,
          1,
          2,
          3,
          4,
          5,
          6,
          7,
          8,
          9,
          10,
          11,
          12,
          13,
          14,
          15,
          16,
          17,
          18,
          19,
          20
         ],
         "y": [
          0.0059287166970757,
          0.0084948693919919,
          0.0110646785700165,
          0.0133670937381416,
          0.015672459969543,
          0.01770906642972,
          0.0197479871491116,
          0.0216530747715511,
          0.023423901646044402,
          0.0251964835011086,
          0.026697735082855,
          0.0282002501138883,
          0.0295672719395071,
          0.030798488600143503,
          0.0320305568956231,
          0.0332634785956266,
          0.0343601268694526,
          0.0353202493761314,
          0.036143624677833,
          0.0369673819118302,
          0.0380663199270555
         ]
        },
        {
         "customdata": [
          "std"
         ],
         "fill": "tonexty",
         "fillcolor": "rgba(0.38823529411764707, 0.43137254901960786, 0.9803921568627451, 0.25)",
         "line": {
          "width": 0
         },
         "mode": "lines",
         "name": "0.1",
         "showlegend": false,
         "type": "scatter",
         "x": [
          0,
          1,
          2,
          3,
          4,
          5,
          6,
          7,
          8,
          9,
          10,
          11,
          12,
          13,
          14,
          15,
          16,
          17,
          18,
          19,
          20
         ],
         "y": [
          0.005523867916871299,
          0.008089444697911202,
          0.0105233614732951,
          0.0128250839190488,
          0.014858463615356803,
          0.0167583625643257,
          0.018660274288707805,
          0.0204281430341262,
          0.0221977579711534,
          0.0236964921867349,
          0.025332908792750297,
          0.0265612055055927,
          0.0280636055457637,
          0.0292937837137333,
          0.0303879885077198,
          0.031619772728589304,
          0.03257841663162521,
          0.0336746424478319,
          0.0346343946622681,
          0.035457452092545,
          0.03628089101273821
         ]
        },
        {
         "customdata": [
          "mean"
         ],
         "hoverinfo": "skip",
         "marker": {
          "color": "rgba(0.9372549019607843, 0.3333333333333333, 0.23137254901960785, 1.0)"
         },
         "mode": "markers",
         "name": "0.25",
         "type": "scatter",
         "visible": true,
         "x": [
          0,
          1,
          2,
          3,
          4,
          5,
          6,
          7,
          8,
          9,
          10,
          11,
          12,
          13,
          14,
          15,
          16,
          17,
          18,
          19,
          20
         ],
         "y": [
          0.00950886178655315,
          0.0150621444595264,
          0.0196119921028683,
          0.02356019691638965,
          0.0278587642450012,
          0.031551329758278,
          0.03566334096601765,
          0.03950993544754605,
          0.0430203326759454,
          0.0463305934494842,
          0.049508776053662204,
          0.052484956860523305,
          0.0553273035716593,
          0.0579657268164786,
          0.0603994371827456,
          0.06290628970900031,
          0.0652773633468604,
          0.0673718783790426,
          0.06974907682008044,
          0.07170910593819921,
          0.07367114237630815
         ]
        },
        {
         "customdata": [
          "std"
         ],
         "line": {
          "width": 0
         },
         "mode": "lines",
         "name": "0.25",
         "showlegend": false,
         "type": "scatter",
         "x": [
          0,
          1,
          2,
          3,
          4,
          5,
          6,
          7,
          8,
          9,
          10,
          11,
          12,
          13,
          14,
          15,
          16,
          17,
          18,
          19,
          20
         ],
         "y": [
          0.009846943752529199,
          0.0159438740679276,
          0.0197479871491116,
          0.0236964921867349,
          0.0284735706569278,
          0.0317566902524667,
          0.036143624677833,
          0.0404038265892048,
          0.0441226895799587,
          0.0475730699755393,
          0.0508917949268102,
          0.05407811879423641,
          0.0569924232564427,
          0.05963335116199141,
          0.06213895943469849,
          0.06478766630802851,
          0.0674403945929953,
          0.0695375064368366,
          0.07219747687884909,
          0.07430032967388842,
          0.07626529078339259
         ]
        },
        {
         "customdata": [
          "std"
         ],
         "fill": "tonexty",
         "fillcolor": "rgba(0.9372549019607843, 0.3333333333333333, 0.23137254901960785, 0.25)",
         "line": {
          "width": 0
         },
         "mode": "lines",
         "name": "0.25",
         "showlegend": false,
         "type": "scatter",
         "x": [
          0,
          1,
          2,
          3,
          4,
          5,
          6,
          7,
          8,
          9,
          10,
          11,
          12,
          13,
          14,
          15,
          16,
          17,
          18,
          19,
          20
         ],
         "y": [
          0.0091707798205771,
          0.0141804148511252,
          0.019475997056624998,
          0.0234239016460444,
          0.0272439578330746,
          0.0313459692640893,
          0.0351830572542023,
          0.038616044305887304,
          0.0419179757719321,
          0.04508811692342911,
          0.048125757180514206,
          0.0508917949268102,
          0.053662183886875894,
          0.0562981024709658,
          0.0586599149307927,
          0.06102491310997211,
          0.0631143321007255,
          0.0652062503212486,
          0.0673006767613118,
          0.06911788220251,
          0.0710769939692237
         ]
        },
        {
         "customdata": [
          "mean"
         ],
         "hoverinfo": "skip",
         "marker": {
          "color": "rgba(0.0, 0.8, 0.5882352941176471, 1.0)"
         },
         "mode": "markers",
         "name": "0.5",
         "type": "scatter",
         "visible": true,
         "x": [
          0,
          1,
          2,
          3,
          4,
          5,
          6,
          7,
          8,
          9,
          10,
          11,
          12,
          13,
          14,
          15,
          16,
          17,
          18,
          19,
          20
         ],
         "y": [
          0.01521395051126925,
          0.0232359279144755,
          0.0315678388377978,
          0.03911366881727055,
          0.04627786904484405,
          0.0529169900336848,
          0.059858743754764354,
          0.06633963848307205,
          0.0720741057744307,
          0.0774763593274311,
          0.08303612947456684,
          0.0884017983718903,
          0.09357154407682494,
          0.09832994867177945,
          0.10281643357858325,
          0.1071717613355037,
          0.1113232088715923,
          0.11541300213438935,
          0.11944064861485035,
          0.1231170503246435,
          0.12680147542740824
         ]
        },
        {
         "customdata": [
          "std"
         ],
         "line": {
          "width": 0
         },
         "mode": "lines",
         "name": "0.5",
         "showlegend": false,
         "type": "scatter",
         "x": [
          0,
          1,
          2,
          3,
          4,
          5,
          6,
          7,
          8,
          9,
          10,
          11,
          12,
          13,
          14,
          15,
          16,
          17,
          18,
          19,
          20
         ],
         "y": [
          0.0160957546143531,
          0.024121686572425298,
          0.0324577425641273,
          0.03973237820992599,
          0.0473132352331743,
          0.05437197340281161,
          0.06062389735551871,
          0.0667585444493167,
          0.0724943923662453,
          0.0783898164277351,
          0.0836000645225586,
          0.0888260663226004,
          0.0942098605506824,
          0.0986144326256265,
          0.1030303566026405,
          0.1074577207085524,
          0.1114665375771243,
          0.1156285134514109,
          0.1195126566642711,
          0.1231170503246435,
          0.1268737980006321
         ]
        },
        {
         "customdata": [
          "std"
         ],
         "fill": "tonexty",
         "fillcolor": "rgba(0.0, 0.8, 0.5882352941176471, 0.25)",
         "line": {
          "width": 0
         },
         "mode": "lines",
         "name": "0.5",
         "showlegend": false,
         "type": "scatter",
         "x": [
          0,
          1,
          2,
          3,
          4,
          5,
          6,
          7,
          8,
          9,
          10,
          11,
          12,
          13,
          14,
          15,
          16,
          17,
          18,
          19,
          20
         ],
         "y": [
          0.0143321464081854,
          0.0223501692565257,
          0.030677935111468296,
          0.0384949594246151,
          0.0452425028565138,
          0.051462006664558,
          0.05909359015401,
          0.0659207325168274,
          0.0716538191826161,
          0.07656290222712711,
          0.0824721944265751,
          0.0879775304211802,
          0.09293322760296749,
          0.0980454647179324,
          0.102602510554526,
          0.106885801962455,
          0.11117988016606031,
          0.1151974908173678,
          0.11936864056542959,
          0.1231170503246435,
          0.1267291528541844
         ]
        },
        {
         "customdata": [
          "mean"
         ],
         "hoverinfo": "skip",
         "marker": {
          "color": "rgba(0.6705882352941176, 0.38823529411764707, 0.9803921568627451, 1.0)"
         },
         "mode": "markers",
         "name": "1.0",
         "type": "scatter",
         "visible": true,
         "x": [
          0,
          1,
          2,
          3,
          4,
          5,
          6,
          7,
          8,
          9,
          10,
          11,
          12,
          13,
          14,
          15,
          16,
          17,
          18,
          19,
          20
         ],
         "y": [
          0.022804612003357698,
          0.03572588469335761,
          0.04812074102627595,
          0.05962832281762605,
          0.07135263184710045,
          0.08301673054363465,
          0.09312738941907836,
          0.1031553180658865,
          0.11209379544623915,
          0.12122619298294723,
          0.1310592666102337,
          0.13978319511206785,
          0.1478928301325042,
          0.15626600150028974,
          0.1637196011087258,
          0.17143047364590314,
          0.17827960120362574,
          0.1854594841451386,
          0.19229387955687455,
          0.19863048721918256,
          0.2049142589214228
         ]
        },
        {
         "customdata": [
          "std"
         ],
         "line": {
          "width": 0
         },
         "mode": "lines",
         "name": "1.0",
         "showlegend": false,
         "type": "scatter",
         "x": [
          0,
          1,
          2,
          3,
          4,
          5,
          6,
          7,
          8,
          9,
          10,
          11,
          12,
          13,
          14,
          15,
          16,
          17,
          18,
          19,
          20
         ],
         "y": [
          0.023962632560863097,
          0.03709817218705351,
          0.0504700229660005,
          0.0619930320615968,
          0.0741533811144534,
          0.0868232494088266,
          0.09731082725813342,
          0.1077199142744315,
          0.1166106962903388,
          0.1265604158725135,
          0.1367147161745448,
          0.1456139169022985,
          0.1536787271688382,
          0.1628172538083968,
          0.1708180753470395,
          0.17915663112494568,
          0.1860381492029845,
          0.1937018640741932,
          0.200796778874318,
          0.2077711213992405,
          0.2143181465044851
         ]
        },
        {
         "customdata": [
          "std"
         ],
         "fill": "tonexty",
         "fillcolor": "rgba(0.6705882352941176, 0.38823529411764707, 0.9803921568627451, 0.25)",
         "line": {
          "width": 0
         },
         "mode": "lines",
         "name": "1.0",
         "showlegend": false,
         "type": "scatter",
         "x": [
          0,
          1,
          2,
          3,
          4,
          5,
          6,
          7,
          8,
          9,
          10,
          11,
          12,
          13,
          14,
          15,
          16,
          17,
          18,
          19,
          20
         ],
         "y": [
          0.0216465914458523,
          0.0343535971996617,
          0.0457714590865514,
          0.057263613573655295,
          0.0685518825797475,
          0.0792102116784427,
          0.0889439515800233,
          0.0985907218573415,
          0.10757689460213951,
          0.11589197009338098,
          0.1254038170459226,
          0.1339524733218372,
          0.1421069330961702,
          0.1497147491921827,
          0.1566211268704121,
          0.1637043161668606,
          0.17052105320426697,
          0.177217104216084,
          0.1837909802394311,
          0.1894898530391246,
          0.19551037133836047
         ]
        },
        {
         "customdata": [
          "mean"
         ],
         "hoverinfo": "skip",
         "marker": {
          "color": "rgba(1.0, 0.6313725490196078, 0.35294117647058826, 1.0)"
         },
         "mode": "markers",
         "name": "2.5",
         "type": "scatter",
         "visible": true,
         "x": [
          0,
          1,
          2,
          3,
          4,
          5,
          6,
          7,
          8,
          9,
          10,
          11,
          12,
          13,
          14,
          15,
          16,
          17,
          18,
          19,
          20
         ],
         "y": [
          0.028695285138181398,
          0.0448983919788256,
          0.06166825517114125,
          0.0760719371256367,
          0.0900307597558693,
          0.10588666320736059,
          0.12030821050716685,
          0.13485397242230474,
          0.14894032505971835,
          0.1616696589996301,
          0.17427530530443203,
          0.18607744381440028,
          0.19774117667814578,
          0.20964230870477302,
          0.22048080664844505,
          0.23116542110916935,
          0.2410670659568441,
          0.2508764894967504,
          0.25980453146017224,
          0.26862981248585677,
          0.27773453669374226
         ]
        },
        {
         "customdata": [
          "std"
         ],
         "line": {
          "width": 0
         },
         "mode": "lines",
         "name": "2.5",
         "showlegend": false,
         "type": "scatter",
         "x": [
          0,
          1,
          2,
          3,
          4,
          5,
          6,
          7,
          8,
          9,
          10,
          11,
          12,
          13,
          14,
          15,
          16,
          17,
          18,
          19,
          20
         ],
         "y": [
          0.0299254747507152,
          0.0465536846851822,
          0.0625038311194178,
          0.0774761188008425,
          0.0925787755566153,
          0.1079583070693883,
          0.1236222794741531,
          0.13914149143757348,
          0.1539237277114632,
          0.16735615471803228,
          0.1807497601509543,
          0.19289873148066966,
          0.2052912581283563,
          0.21793302035330503,
          0.2289811380608839,
          0.2404170788345638,
          0.2506873691219354,
          0.2610256655270649,
          0.2703261624223319,
          0.2800012938566283,
          0.2886174381663109
         ]
        },
        {
         "customdata": [
          "std"
         ],
         "fill": "tonexty",
         "fillcolor": "rgba(1.0, 0.6313725490196078, 0.35294117647058826, 0.25)",
         "line": {
          "width": 0
         },
         "mode": "lines",
         "name": "2.5",
         "showlegend": false,
         "type": "scatter",
         "x": [
          0,
          1,
          2,
          3,
          4,
          5,
          6,
          7,
          8,
          9,
          10,
          11,
          12,
          13,
          14,
          15,
          16,
          17,
          18,
          19,
          20
         ],
         "y": [
          0.027465095525647597,
          0.043243099272469,
          0.0608326792228647,
          0.0746677554504309,
          0.0874827439551233,
          0.10381501934533288,
          0.1169941415401806,
          0.130566453407036,
          0.1439569224079735,
          0.1559831632812279,
          0.16780085045790977,
          0.1792561561481309,
          0.19019109522793526,
          0.201351597056241,
          0.2119804752360062,
          0.2219137633837749,
          0.2314467627917528,
          0.2407273134664359,
          0.24928290049801263,
          0.2572583311150852,
          0.2668516352211736
         ]
        },
        {
         "customdata": [
          "mean"
         ],
         "hoverinfo": "skip",
         "marker": {
          "color": "rgba(0.09803921568627451, 0.8274509803921568, 0.9529411764705882, 1.0)"
         },
         "mode": "markers",
         "name": "5.0",
         "type": "scatter",
         "visible": true,
         "x": [
          0,
          1,
          2,
          3,
          4,
          5,
          6,
          7,
          8,
          9,
          10,
          11,
          12,
          13,
          14,
          15,
          16,
          17,
          18,
          19,
          20
         ],
         "y": [
          0.027657145385177252,
          0.0474386049227775,
          0.05977786962286975,
          0.0771186136181446,
          0.09264879634001945,
          0.1083855037214254,
          0.1218159615742477,
          0.13579667016063723,
          0.1499583009078265,
          0.1636555917377734,
          0.176570664722832,
          0.1886131769001566,
          0.20006536361130425,
          0.2114425034395915,
          0.2225215274396601,
          0.2334496998081941,
          0.24383182086129218,
          0.2544405418559931,
          0.2646504885688371,
          0.27421218187457763,
          0.2838346845642103
         ]
        },
        {
         "customdata": [
          "std"
         ],
         "line": {
          "width": 0
         },
         "mode": "lines",
         "name": "5.0",
         "showlegend": false,
         "type": "scatter",
         "x": [
          0,
          1,
          2,
          3,
          4,
          5,
          6,
          7,
          8,
          9,
          10,
          11,
          12,
          13,
          14,
          15,
          16,
          17,
          18,
          19,
          20
         ],
         "y": [
          0.028408490538170704,
          0.048612791808339606,
          0.0624905617249054,
          0.0821064659663118,
          0.0992411933292677,
          0.1146810920041611,
          0.1279452474645986,
          0.14335858120041917,
          0.1565580206152338,
          0.1706059111891491,
          0.1832777769441517,
          0.19529496677057592,
          0.2067946247253788,
          0.2170012434071864,
          0.2278889791466628,
          0.239471979354451,
          0.2503602900819831,
          0.2616394707258066,
          0.2726845734776525,
          0.2825339867745513,
          0.2926076611985762
         ]
        },
        {
         "customdata": [
          "std"
         ],
         "fill": "tonexty",
         "fillcolor": "rgba(0.09803921568627451, 0.8274509803921568, 0.9529411764705882, 0.25)",
         "line": {
          "width": 0
         },
         "mode": "lines",
         "name": "5.0",
         "showlegend": false,
         "type": "scatter",
         "x": [
          0,
          1,
          2,
          3,
          4,
          5,
          6,
          7,
          8,
          9,
          10,
          11,
          12,
          13,
          14,
          15,
          16,
          17,
          18,
          19,
          20
         ],
         "y": [
          0.0269058002321838,
          0.0462644180372154,
          0.05706517752083411,
          0.07213076126997739,
          0.0860563993507712,
          0.1020899154386897,
          0.11568667568389682,
          0.1282347591208553,
          0.1433585812004192,
          0.15670527228639766,
          0.1698635525015123,
          0.1819313870297373,
          0.1933361024972297,
          0.2058837634719966,
          0.2171540757326574,
          0.2274274202619372,
          0.2373033516406013,
          0.24724161298617953,
          0.2566164036600217,
          0.26589037697460394,
          0.2750617079298444
         ]
        },
        {
         "customdata": [
          "irreversible Michaelis Menten"
         ],
         "hoverinfo": "name",
         "marker": {
          "color": "rgba(0.38823529411764707, 0.43137254901960786, 0.9803921568627451, 1.0)"
         },
         "name": "irreversible Michaelis Menten",
         "showlegend": false,
         "type": "scatter",
         "visible": false,
         "x": [
          0,
          1,
          2,
          3,
          4,
          5,
          6,
          7,
          8,
          9,
          10,
          11,
          12,
          13,
          14,
          15,
          16,
          17,
          18,
          19,
          20
         ],
         "y": [
          0.0057262923069735,
          0.007769761789418142,
          0.009774368290124864,
          0.011740620005924227,
          0.013669064238138724,
          0.015560234668047158,
          0.01741466440692215,
          0.01923288560421636,
          0.021015427709647774,
          0.02276282075339636,
          0.024475595285037732,
          0.026154279400929265,
          0.027799391792440384,
          0.029411456216300747,
          0.030990997162882346,
          0.03253853199875565,
          0.03405456933559914,
          0.035539623846538235,
          0.036994202270189507,
          0.03841880588719579,
          0.039813940616379384
         ]
        },
        {
         "customdata": [
          "irreversible Michaelis Menten"
         ],
         "hoverinfo": "name",
         "marker": {
          "color": "rgba(0.9372549019607843, 0.3333333333333333, 0.23137254901960785, 1.0)"
         },
         "name": "irreversible Michaelis Menten",
         "showlegend": false,
         "type": "scatter",
         "visible": false,
         "x": [
          0,
          1,
          2,
          3,
          4,
          5,
          6,
          7,
          8,
          9,
          10,
          11,
          12,
          13,
          14,
          15,
          16,
          17,
          18,
          19,
          20
         ],
         "y": [
          0.00950886178655315,
          0.013875757534327935,
          0.01818426855886929,
          0.02243459514492126,
          0.026626988101959154,
          0.03076169421971049,
          0.034838957489164026,
          0.03885904555896962,
          0.04282223267113834,
          0.046728806923421545,
          0.05057906582469905,
          0.05437331896321182,
          0.058111888225005764,
          0.061795103629089965,
          0.06542330527704357,
          0.06899684844269491,
          0.07251609550224393,
          0.07598141481929165,
          0.07939318778124327,
          0.08275180475377568,
          0.08605766406779508
         ]
        },
        {
         "customdata": [
          "irreversible Michaelis Menten"
         ],
         "hoverinfo": "name",
         "marker": {
          "color": "rgba(0.0, 0.8, 0.5882352941176471, 1.0)"
         },
         "name": "irreversible Michaelis Menten",
         "showlegend": false,
         "type": "scatter",
         "visible": false,
         "x": [
          0,
          1,
          2,
          3,
          4,
          5,
          6,
          7,
          8,
          9,
          10,
          11,
          12,
          13,
          14,
          15,
          16,
          17,
          18,
          19,
          20
         ],
         "y": [
          0.01521395051126925,
          0.022135005603122183,
          0.02899886826054333,
          0.03580533697201709,
          0.042554171407109834,
          0.04924515187422991,
          0.05587808896844795,
          0.06245278874329983,
          0.06896906202258998,
          0.0754267314777456,
          0.08182562169994814,
          0.08816557190088703,
          0.094446426967699,
          0.10066803955522687,
          0.10683027222277576,
          0.11293299584952897,
          0.11897609156228382,
          0.1249594510819873,
          0.13088297442346403,
          0.13674657022581868,
          0.14255015736214366
         ]
        },
        {
         "customdata": [
          "irreversible Michaelis Menten"
         ],
         "hoverinfo": "name",
         "marker": {
          "color": "rgba(0.6705882352941176, 0.38823529411764707, 0.9803921568627451, 1.0)"
         },
         "name": "irreversible Michaelis Menten",
         "showlegend": false,
         "type": "scatter",
         "visible": false,
         "x": [
          0,
          1,
          2,
          3,
          4,
          5,
          6,
          7,
          8,
          9,
          10,
          11,
          12,
          13,
          14,
          15,
          16,
          17,
          18,
          19,
          20
         ],
         "y": [
          0.022804612003357698,
          0.03254748988803866,
          0.04225119586015107,
          0.05191543574516542,
          0.06153985917643905,
          0.07112414851772357,
          0.0806679945445493,
          0.09017107641357998,
          0.09963307245103052,
          0.10905366025814535,
          0.1184325151450622,
          0.1277693121653255,
          0.13706372512112364,
          0.146315426474507,
          0.15552408741431756,
          0.16468937994880387,
          0.17381097425165187,
          0.18288853909615066,
          0.19192174265031434,
          0.20091025465729348,
          0.20985374326695122
         ]
        },
        {
         "customdata": [
          "irreversible Michaelis Menten"
         ],
         "hoverinfo": "name",
         "marker": {
          "color": "rgba(1.0, 0.6313725490196078, 0.35294117647058826, 1.0)"
         },
         "name": "irreversible Michaelis Menten",
         "showlegend": false,
         "type": "scatter",
         "visible": false,
         "x": [
          0,
          1,
          2,
          3,
          4,
          5,
          6,
          7,
          8,
          9,
          10,
          11,
          12,
          13,
          14,
          15,
          16,
          17,
          18,
          19,
          20
         ],
         "y": [
          0.028695285138181398,
          0.041548969674656,
          0.05438866522931989,
          0.06721426381823076,
          0.08002568510683768,
          0.09282280589557636,
          0.10560551585365316,
          0.11837371838721919,
          0.13112730884661564,
          0.1438661793593006,
          0.15659022240714232,
          0.16929932912075135,
          0.181993389429935,
          0.194672292598433,
          0.20733592613887544,
          0.21998417689768734,
          0.23261693084696627,
          0.2452340725657433,
          0.25783548531085165,
          0.270421051855237,
          0.2829906534709169
         ]
        },
        {
         "customdata": [
          "irreversible Michaelis Menten"
         ],
         "hoverinfo": "name",
         "marker": {
          "color": "rgba(0.09803921568627451, 0.8274509803921568, 0.9529411764705882, 1.0)"
         },
         "name": "irreversible Michaelis Menten",
         "showlegend": false,
         "type": "scatter",
         "visible": false,
         "x": [
          0,
          1,
          2,
          3,
          4,
          5,
          6,
          7,
          8,
          9,
          10,
          11,
          12,
          13,
          14,
          15,
          16,
          17,
          18,
          19,
          20
         ],
         "y": [
          0.027657145385177252,
          0.04201465812347654,
          0.05636737130027445,
          0.07071526273897671,
          0.08505830663115421,
          0.09939648802145827,
          0.11372977908470061,
          0.12805815353490255,
          0.14238158508608545,
          0.15670004775134994,
          0.17101351974730547,
          0.18532197789536659,
          0.19962539797157958,
          0.21392375575199085,
          0.22821702689203416,
          0.24250518530337678,
          0.2567882054648874,
          0.2710660622958146,
          0.2853387307154069,
          0.2996061819416128,
          0.3138683983212538
         ]
        },
        {
         "customdata": [
          "irreversible Michaelis Menten with enzyme inactivation"
         ],
         "hoverinfo": "name",
         "marker": {
          "color": "rgba(0.38823529411764707, 0.43137254901960786, 0.9803921568627451, 1.0)"
         },
         "name": "irreversible Michaelis Menten with enzyme inactivation",
         "showlegend": false,
         "type": "scatter",
         "visible": false,
         "x": [
          0,
          1,
          2,
          3,
          4,
          5,
          6,
          7,
          8,
          9,
          10,
          11,
          12,
          13,
          14,
          15,
          16,
          17,
          18,
          19,
          20
         ],
         "y": [
          0.0057262923069735,
          0.008257705583756903,
          0.01065148047746488,
          0.012916463594621891,
          0.015060857646662913,
          0.017092271406954147,
          0.019017758367724572,
          0.020843879038426386,
          0.02257672550991304,
          0.024221962269235908,
          0.02578485154891146,
          0.027270287173640585,
          0.028682844120587695,
          0.030026772917191812,
          0.031306036245305785,
          0.03252432997187968,
          0.033685106126871575,
          0.03479158665017047,
          0.03584678465458673,
          0.03685351590898471,
          0.03781441609028088
         ]
        },
        {
         "customdata": [
          "irreversible Michaelis Menten with enzyme inactivation"
         ],
         "hoverinfo": "name",
         "marker": {
          "color": "rgba(0.9372549019607843, 0.3333333333333333, 0.23137254901960785, 1.0)"
         },
         "name": "irreversible Michaelis Menten with enzyme inactivation",
         "showlegend": false,
         "type": "scatter",
         "visible": false,
         "x": [
          0,
          1,
          2,
          3,
          4,
          5,
          6,
          7,
          8,
          9,
          10,
          11,
          12,
          13,
          14,
          15,
          16,
          17,
          18,
          19,
          20
         ],
         "y": [
          0.00950886178655315,
          0.014925098400886749,
          0.02008283731479124,
          0.02499605911530125,
          0.02967794849713156,
          0.034140908918175644,
          0.038396614822495796,
          0.042456063897574725,
          0.04632961081209069,
          0.05002700537865585,
          0.0535574148200932,
          0.05692948994096881,
          0.06015139478976542,
          0.06323079812935019,
          0.06617494031644165,
          0.0689906420960845,
          0.07168434052554123,
          0.0742621043285244,
          0.07672966359307523,
          0.07909242371736862,
          0.0813554913211248
         ]
        },
        {
         "customdata": [
          "irreversible Michaelis Menten with enzyme inactivation"
         ],
         "hoverinfo": "name",
         "marker": {
          "color": "rgba(0.0, 0.8, 0.5882352941176471, 1.0)"
         },
         "name": "irreversible Michaelis Menten with enzyme inactivation",
         "showlegend": false,
         "type": "scatter",
         "visible": false,
         "x": [
          0,
          1,
          2,
          3,
          4,
          5,
          6,
          7,
          8,
          9,
          10,
          11,
          12,
          13,
          14,
          15,
          16,
          17,
          18,
          19,
          20
         ],
         "y": [
          0.01521395051126925,
          0.02380852026563932,
          0.03204471923754827,
          0.039938900333049976,
          0.04750663715324443,
          0.05476274313523947,
          0.061721329799397213,
          0.06839582600272849,
          0.07479901779995159,
          0.0809430675013391,
          0.0868395355115407,
          0.09249944138108926,
          0.0979332916840857,
          0.103151069971716,
          0.10816226759580937,
          0.11297593015701113,
          0.11760067511685449,
          0.12204470277992482,
          0.1263158234317683,
          0.13042147525060988,
          0.1343687451509503
         ]
        },
        {
         "customdata": [
          "irreversible Michaelis Menten with enzyme inactivation"
         ],
         "hoverinfo": "name",
         "marker": {
          "color": "rgba(0.6705882352941176, 0.38823529411764707, 0.9803921568627451, 1.0)"
         },
         "name": "irreversible Michaelis Menten with enzyme inactivation",
         "showlegend": false,
         "type": "scatter",
         "visible": false,
         "x": [
          0,
          1,
          2,
          3,
          4,
          5,
          6,
          7,
          8,
          9,
          10,
          11,
          12,
          13,
          14,
          15,
          16,
          17,
          18,
          19,
          20
         ],
         "y": [
          0.022804612003357698,
          0.03491743980987014,
          0.046586163524472785,
          0.05782804924682239,
          0.06865967023702192,
          0.0790969174678564,
          0.08915504699611362,
          0.09884869378346849,
          0.10819190354772026,
          0.11719814824657843,
          0.12588033483996625,
          0.1342508566946712,
          0.14232161951562866,
          0.15010405985943043,
          0.15760912135616822,
          0.16484730336847567,
          0.17182869272575696,
          0.17856297428831538,
          0.18505943737361602,
          0.19132699857350263,
          0.19737421717631976
         ]
        },
        {
         "customdata": [
          "irreversible Michaelis Menten with enzyme inactivation"
         ],
         "hoverinfo": "name",
         "marker": {
          "color": "rgba(1.0, 0.6313725490196078, 0.35294117647058826, 1.0)"
         },
         "name": "irreversible Michaelis Menten with enzyme inactivation",
         "showlegend": false,
         "type": "scatter",
         "visible": false,
         "x": [
          0,
          1,
          2,
          3,
          4,
          5,
          6,
          7,
          8,
          9,
          10,
          11,
          12,
          13,
          14,
          15,
          16,
          17,
          18,
          19,
          20
         ],
         "y": [
          0.028695285138181398,
          0.04469281281460333,
          0.06015963278631723,
          0.07511378934739672,
          0.0895727026610183,
          0.10355317391276168,
          0.11707142531193995,
          0.13014311080546073,
          0.14278334152475916,
          0.1550066999747851,
          0.1668272439670419,
          0.17825854745453704,
          0.18931372576327443,
          0.20000545186032545,
          0.21034593970274054,
          0.2203469698663255,
          0.23001992240946478,
          0.2393757912403425,
          0.24842518969798555,
          0.25717836003868233,
          0.2656451946691425
         ]
        },
        {
         "customdata": [
          "irreversible Michaelis Menten with enzyme inactivation"
         ],
         "hoverinfo": "name",
         "marker": {
          "color": "rgba(0.09803921568627451, 0.8274509803921568, 0.9529411764705882, 1.0)"
         },
         "name": "irreversible Michaelis Menten with enzyme inactivation",
         "showlegend": false,
         "type": "scatter",
         "visible": false,
         "x": [
          0,
          1,
          2,
          3,
          4,
          5,
          6,
          7,
          8,
          9,
          10,
          11,
          12,
          13,
          14,
          15,
          16,
          17,
          18,
          19,
          20
         ],
         "y": [
          0.027657145385177252,
          0.04553417544717132,
          0.06283421190159871,
          0.0795760493737258,
          0.09577786994562237,
          0.1114572458690239,
          0.1266311781893686,
          0.14131610532171038,
          0.1555279280059435,
          0.16928202080024213,
          0.1825932359478704,
          0.19547594092030907,
          0.2079440443550346,
          0.22001100985763464,
          0.2316898480786055,
          0.2429931243189336,
          0.25393299706058897,
          0.26452123631564406,
          0.27476922712060636,
          0.2846879754562675,
          0.29428812918129543
         ]
        },
        {
         "customdata": [
          "competitive product inhibition"
         ],
         "hoverinfo": "name",
         "marker": {
          "color": "rgba(0.38823529411764707, 0.43137254901960786, 0.9803921568627451, 1.0)"
         },
         "name": "competitive product inhibition",
         "showlegend": false,
         "type": "scatter",
         "visible": false,
         "x": [
          0,
          1,
          2,
          3,
          4,
          5,
          6,
          7,
          8,
          9,
          10,
          11,
          12,
          13,
          14,
          15,
          16,
          17,
          18,
          19,
          20
         ],
         "y": [
          0.0057262923069735,
          0.007944968391846361,
          0.010110492957110277,
          0.012224237262255251,
          0.014287462189574822,
          0.016301412545975023,
          0.018267302617656005,
          0.02018631482491856,
          0.022059599064951016,
          0.02388827872117692,
          0.025673441090732524,
          0.02741615210544114,
          0.029117448975194502,
          0.030778342235735473,
          0.032399815673033634,
          0.033982829032826574,
          0.035528316480104793,
          0.03703719010004665,
          0.03851033856953299,
          0.03994862600921455,
          0.04135289413583435
         ]
        },
        {
         "customdata": [
          "competitive product inhibition"
         ],
         "hoverinfo": "name",
         "marker": {
          "color": "rgba(0.9372549019607843, 0.3333333333333333, 0.23137254901960785, 1.0)"
         },
         "name": "competitive product inhibition",
         "showlegend": false,
         "type": "scatter",
         "visible": false,
         "x": [
          0,
          1,
          2,
          3,
          4,
          5,
          6,
          7,
          8,
          9,
          10,
          11,
          12,
          13,
          14,
          15,
          16,
          17,
          18,
          19,
          20
         ],
         "y": [
          0.00950886178655315,
          0.014175090841495297,
          0.01874744083249702,
          0.02322799495426209,
          0.02761869835438595,
          0.031921474934396725,
          0.03613820096940285,
          0.040270707686719434,
          0.04432078483582298,
          0.04829017352287981,
          0.052180580591535054,
          0.055993671330513674,
          0.059731072482445816,
          0.06339437186755018,
          0.0669851217159117,
          0.0705048381438752,
          0.07395500385358147,
          0.07733706479226901,
          0.08065243315590721,
          0.083902489042416,
          0.08708858331583802
         ]
        },
        {
         "customdata": [
          "competitive product inhibition"
         ],
         "hoverinfo": "name",
         "marker": {
          "color": "rgba(0.0, 0.8, 0.5882352941176471, 1.0)"
         },
         "name": "competitive product inhibition",
         "showlegend": false,
         "type": "scatter",
         "visible": false,
         "x": [
          0,
          1,
          2,
          3,
          4,
          5,
          6,
          7,
          8,
          9,
          10,
          11,
          12,
          13,
          14,
          15,
          16,
          17,
          18,
          19,
          20
         ],
         "y": [
          0.01521395051126925,
          0.02249221203979787,
          0.029654907814080294,
          0.03670413501040412,
          0.04364185620524329,
          0.05047002062178068,
          0.057190534979544294,
          0.06380526779056185,
          0.07031605081764875,
          0.0767246740288308,
          0.08303289558221694,
          0.08924243870626133,
          0.09535499192148393,
          0.10137220944088843,
          0.10729571383365051,
          0.11312709505758031,
          0.11886791394633087,
          0.12451969863391806,
          0.1300839466639833,
          0.13556212624645778,
          0.14095567862498154
         ]
        },
        {
         "customdata": [
          "competitive product inhibition"
         ],
         "hoverinfo": "name",
         "marker": {
          "color": "rgba(0.6705882352941176, 0.38823529411764707, 0.9803921568627451, 1.0)"
         },
         "name": "competitive product inhibition",
         "showlegend": false,
         "type": "scatter",
         "visible": false,
         "x": [
          0,
          1,
          2,
          3,
          4,
          5,
          6,
          7,
          8,
          9,
          10,
          11,
          12,
          13,
          14,
          15,
          16,
          17,
          18,
          19,
          20
         ],
         "y": [
          0.022804612003357698,
          0.03290955018020493,
          0.04290159323418752,
          0.052782250768487006,
          0.06255292461606947,
          0.07221501377578958,
          0.08176989748683282,
          0.0912189336083018,
          0.10056345791325685,
          0.10980478733600212,
          0.11894421522685023,
          0.12798301647155322,
          0.13692244900602304,
          0.14576374993055766,
          0.1545081382250733,
          0.1631568138301248,
          0.17171095959278512,
          0.18017174000417346,
          0.18854030385802123,
          0.19681778156023225,
          0.20500528618711272
         ]
        },
        {
         "customdata": [
          "competitive product inhibition"
         ],
         "hoverinfo": "name",
         "marker": {
          "color": "rgba(1.0, 0.6313725490196078, 0.35294117647058826, 1.0)"
         },
         "name": "competitive product inhibition",
         "showlegend": false,
         "type": "scatter",
         "visible": false,
         "x": [
          0,
          1,
          2,
          3,
          4,
          5,
          6,
          7,
          8,
          9,
          10,
          11,
          12,
          13,
          14,
          15,
          16,
          17,
          18,
          19,
          20
         ],
         "y": [
          0.028695285138181398,
          0.04192212636033576,
          0.05507070720662529,
          0.06814154383650692,
          0.08113523214837598,
          0.0940522928638519,
          0.1068932618735968,
          0.11965867157321038,
          0.13234904863282326,
          0.14496491559574615,
          0.15750679023727063,
          0.16997518518532473,
          0.1823706092753658,
          0.1946935670262507,
          0.20694455664927414,
          0.21912407285991767,
          0.23123260781861016,
          0.24327064808711787,
          0.255238676031883,
          0.26713717016114186,
          0.2789666045431308
         ]
        },
        {
         "customdata": [
          "competitive product inhibition"
         ],
         "hoverinfo": "name",
         "marker": {
          "color": "rgba(0.09803921568627451, 0.8274509803921568, 0.9529411764705882, 1.0)"
         },
         "name": "competitive product inhibition",
         "showlegend": false,
         "type": "scatter",
         "visible": false,
         "x": [
          0,
          1,
          2,
          3,
          4,
          5,
          6,
          7,
          8,
          9,
          10,
          11,
          12,
          13,
          14,
          15,
          16,
          17,
          18,
          19,
          20
         ],
         "y": [
          0.027657145385177252,
          0.042413461547499365,
          0.0571208079512142,
          0.07177936162094999,
          0.08638933063700302,
          0.10095093205499525,
          0.11546434564794165,
          0.12992976299436415,
          0.1443473751522521,
          0.15871737228857472,
          0.17303994687627616,
          0.18731528477820594,
          0.2015435751841827,
          0.2157250044859522,
          0.22985975880489876,
          0.24394802299791432,
          0.2579899806499344,
          0.27198581519205595,
          0.2859357089073574,
          0.2998398426296086,
          0.3136983960761941
         ]
        },
        {
         "customdata": [
          "competitive product inhibition with enzyme inactivation"
         ],
         "hoverinfo": "name",
         "marker": {
          "color": "rgba(0.38823529411764707, 0.43137254901960786, 0.9803921568627451, 1.0)"
         },
         "name": "competitive product inhibition with enzyme inactivation",
         "showlegend": false,
         "type": "scatter",
         "visible": false,
         "x": [
          0,
          1,
          2,
          3,
          4,
          5,
          6,
          7,
          8,
          9,
          10,
          11,
          12,
          13,
          14,
          15,
          16,
          17,
          18,
          19,
          20
         ],
         "y": [
          0.0057262923069735,
          0.008257791242805021,
          0.010651645920172492,
          0.012916703614211981,
          0.01506116762498237,
          0.017092647235149378,
          0.01901819638213908,
          0.02084437596378608,
          0.022577278408987073,
          0.024222568502340173,
          0.025785508730694056,
          0.027270993150160645,
          0.028683596943258022,
          0.03002757080168535,
          0.03130687756703513,
          0.032525213240038785,
          0.033686029971536795,
          0.03479254980745411,
          0.03584778595360599,
          0.036854554263728134,
          0.03781549048546401
         ]
        },
        {
         "customdata": [
          "competitive product inhibition with enzyme inactivation"
         ],
         "hoverinfo": "name",
         "marker": {
          "color": "rgba(0.9372549019607843, 0.3333333333333333, 0.23137254901960785, 1.0)"
         },
         "name": "competitive product inhibition with enzyme inactivation",
         "showlegend": false,
         "type": "scatter",
         "visible": false,
         "x": [
          0,
          1,
          2,
          3,
          4,
          5,
          6,
          7,
          8,
          9,
          10,
          11,
          12,
          13,
          14,
          15,
          16,
          17,
          18,
          19,
          20
         ],
         "y": [
          0.00950886178655315,
          0.014925229350846279,
          0.02008308360454213,
          0.024996407161658286,
          0.0296783865142642,
          0.034141426697148994,
          0.03839720355119742,
          0.0424567159874377,
          0.046330319752850874,
          0.05002776559313235,
          0.05355822155805009,
          0.05693033919547405,
          0.06015228316975014,
          0.06323172278513249,
          0.06617589887949477,
          0.06899163261013902,
          0.0716853613916247,
          0.07426315425584959,
          0.07673074155510688,
          0.07909352891329342,
          0.08135662314164094
         ]
        },
        {
         "customdata": [
          "competitive product inhibition with enzyme inactivation"
         ],
         "hoverinfo": "name",
         "marker": {
          "color": "rgba(0.0, 0.8, 0.5882352941176471, 1.0)"
         },
         "name": "competitive product inhibition with enzyme inactivation",
         "showlegend": false,
         "type": "scatter",
         "visible": false,
         "x": [
          0,
          1,
          2,
          3,
          4,
          5,
          6,
          7,
          8,
          9,
          10,
          11,
          12,
          13,
          14,
          15,
          16,
          17,
          18,
          19,
          20
         ],
         "y": [
          0.01521395051126925,
          0.02380864314999729,
          0.03204493856920164,
          0.03993919292032108,
          0.04750698273449943,
          0.05476312408497494,
          0.06172173087384788,
          0.06839623409215138,
          0.07479942171367204,
          0.08094345774225167,
          0.0868399041230815,
          0.09249978180178851,
          0.09793359859015119,
          0.10315133903536035,
          0.10816249547103152,
          0.11297611436808365,
          0.11760081392560875,
          0.12204479508325777,
          0.12631586870420974,
          0.13042147345960436,
          0.1343686966939612
         ]
        },
        {
         "customdata": [
          "competitive product inhibition with enzyme inactivation"
         ],
         "hoverinfo": "name",
         "marker": {
          "color": "rgba(0.6705882352941176, 0.38823529411764707, 0.9803921568627451, 1.0)"
         },
         "name": "competitive product inhibition with enzyme inactivation",
         "showlegend": false,
         "type": "scatter",
         "visible": false,
         "x": [
          0,
          1,
          2,
          3,
          4,
          5,
          6,
          7,
          8,
          9,
          10,
          11,
          12,
          13,
          14,
          15,
          16,
          17,
          18,
          19,
          20
         ],
         "y": [
          0.022804612003357698,
          0.0349175062054124,
          0.04658626509499542,
          0.0578281583296345,
          0.06865976243457256,
          0.07909697136877064,
          0.08915504393101295,
          0.09884861758169278,
          0.10819174032342499,
          0.11719788616890932,
          0.12587996396348983,
          0.1342503688258876,
          0.1423210080457527,
          0.15010331955172532,
          0.15760824815222135,
          0.1648462943917267,
          0.17182754616187104,
          0.17856168922379642,
          0.18505801367585434,
          0.191325436849305,
          0.19737251866204156
         ]
        },
        {
         "customdata": [
          "competitive product inhibition with enzyme inactivation"
         ],
         "hoverinfo": "name",
         "marker": {
          "color": "rgba(1.0, 0.6313725490196078, 0.35294117647058826, 1.0)"
         },
         "name": "competitive product inhibition with enzyme inactivation",
         "showlegend": false,
         "type": "scatter",
         "visible": false,
         "x": [
          0,
          1,
          2,
          3,
          4,
          5,
          6,
          7,
          8,
          9,
          10,
          11,
          12,
          13,
          14,
          15,
          16,
          17,
          18,
          19,
          20
         ],
         "y": [
          0.028695285138181398,
          0.04469281390247905,
          0.06015962002432761,
          0.07511374997852632,
          0.08957262592387617,
          0.10355305086372284,
          0.1170712486697419,
          0.13014287479599015,
          0.14278304174046527,
          0.15500633322870014,
          0.16682680818485723,
          0.17825804160626263,
          0.18931314973714414,
          0.20000480635635542,
          0.21034522599812122,
          0.22034618991230465,
          0.23001907877133773,
          0.23937488696190615,
          0.24842422819731474,
          0.25717734510712464,
          0.26564413039941853
         ]
        },
        {
         "customdata": [
          "competitive product inhibition with enzyme inactivation"
         ],
         "hoverinfo": "name",
         "marker": {
          "color": "rgba(0.09803921568627451, 0.8274509803921568, 0.9529411764705882, 1.0)"
         },
         "name": "competitive product inhibition with enzyme inactivation",
         "showlegend": false,
         "type": "scatter",
         "visible": false,
         "x": [
          0,
          1,
          2,
          3,
          4,
          5,
          6,
          7,
          8,
          9,
          10,
          11,
          12,
          13,
          14,
          15,
          16,
          17,
          18,
          19,
          20
         ],
         "y": [
          0.027657145385177252,
          0.04553415754991533,
          0.06283418200510593,
          0.07957601392433573,
          0.09577783584844081,
          0.11145722040509365,
          0.126631168943877,
          0.1413161201144602,
          0.15552797484113376,
          0.16928210780709502,
          0.18259337131230155,
          0.19547613280481757,
          0.20794430089262786,
          0.22001133910319368,
          0.2316902581494508,
          0.24299362315679512,
          0.25393359239425417,
          0.26452193570386084,
          0.2747700379545473,
          0.28468890493194393,
          0.29428918425514367
         ]
        },
        {
         "customdata": [
          "uncompetitive product inhibition"
         ],
         "hoverinfo": "name",
         "marker": {
          "color": "rgba(0.38823529411764707, 0.43137254901960786, 0.9803921568627451, 1.0)"
         },
         "name": "uncompetitive product inhibition",
         "showlegend": false,
         "type": "scatter",
         "visible": false,
         "x": [
          0,
          1,
          2,
          3,
          4,
          5,
          6,
          7,
          8,
          9,
          10,
          11,
          12,
          13,
          14,
          15,
          16,
          17,
          18,
          19,
          20
         ],
         "y": [
          0.0057262923069735,
          0.00760952777818494,
          0.00945624087635752,
          0.011267144823938285,
          0.013042972983688577,
          0.014784383918556344,
          0.01649204545787079,
          0.018166607914570292,
          0.019808707421527356,
          0.02141896621173539,
          0.022997992027581182,
          0.024546379680735916,
          0.026064711819811584,
          0.027553555124619822,
          0.029013469666831434,
          0.030445001660246225,
          0.0318486866221478,
          0.03322504898875366,
          0.03457460236062985,
          0.0358978509753147,
          0.037195288178906154
         ]
        },
        {
         "customdata": [
          "uncompetitive product inhibition"
         ],
         "hoverinfo": "name",
         "marker": {
          "color": "rgba(0.9372549019607843, 0.3333333333333333, 0.23137254901960785, 1.0)"
         },
         "name": "uncompetitive product inhibition",
         "showlegend": false,
         "type": "scatter",
         "visible": false,
         "x": [
          0,
          1,
          2,
          3,
          4,
          5,
          6,
          7,
          8,
          9,
          10,
          11,
          12,
          13,
          14,
          15,
          16,
          17,
          18,
          19,
          20
         ],
         "y": [
          0.00950886178655315,
          0.013853801338221053,
          0.0181162396687696,
          0.022298513819812793,
          0.026402748269469176,
          0.03043099167616785,
          0.0343851939181253,
          0.038267210529862115,
          0.04207881307216052,
          0.04582168968430983,
          0.04949746072090318,
          0.05310767540864299,
          0.05665381835245098,
          0.060137312662415614,
          0.06355952679322494,
          0.06692177280302183,
          0.07022531243430584,
          0.07347136303014437,
          0.07666110276663053,
          0.07979566103050674,
          0.08287612889533502
         ]
        },
        {
         "customdata": [
          "uncompetitive product inhibition"
         ],
         "hoverinfo": "name",
         "marker": {
          "color": "rgba(0.0, 0.8, 0.5882352941176471, 1.0)"
         },
         "name": "uncompetitive product inhibition",
         "showlegend": false,
         "type": "scatter",
         "visible": false,
         "x": [
          0,
          1,
          2,
          3,
          4,
          5,
          6,
          7,
          8,
          9,
          10,
          11,
          12,
          13,
          14,
          15,
          16,
          17,
          18,
          19,
          20
         ],
         "y": [
          0.01521395051126925,
          0.022699693176880056,
          0.030020151378943576,
          0.037183467388500355,
          0.04419708947876428,
          0.05106785099479558,
          0.057802032754576085,
          0.06440544092119502,
          0.07088344277822962,
          0.0772410145261823,
          0.08348277426023096,
          0.08961302377919521,
          0.0956357869232313,
          0.10155481013200938,
          0.10737360496331957,
          0.11309546447072952,
          0.1187234803926655,
          0.12426056131552121,
          0.12970944636163387,
          0.1350727173652362,
          0.14035281715001852
         ]
        },
        {
         "customdata": [
          "uncompetitive product inhibition"
         ],
         "hoverinfo": "name",
         "marker": {
          "color": "rgba(0.6705882352941176, 0.38823529411764707, 0.9803921568627451, 1.0)"
         },
         "name": "uncompetitive product inhibition",
         "showlegend": false,
         "type": "scatter",
         "visible": false,
         "x": [
          0,
          1,
          2,
          3,
          4,
          5,
          6,
          7,
          8,
          9,
          10,
          11,
          12,
          13,
          14,
          15,
          16,
          17,
          18,
          19,
          20
         ],
         "y": [
          0.022804612003357698,
          0.034305800750215346,
          0.04543917601244342,
          0.05623646180183564,
          0.06672499947849117,
          0.07692860835846171,
          0.08686815833447135,
          0.09656205400132323,
          0.10602665238042626,
          0.11527653294629994,
          0.12432477495402068,
          0.13318316159678298,
          0.14186235058152072,
          0.1503720275933919,
          0.1587210150211377,
          0.1669173803273622,
          0.17496852421162276,
          0.1828812545707722,
          0.19066184925247964,
          0.19831611350854877,
          0.20584942649107205
         ]
        },
        {
         "customdata": [
          "uncompetitive product inhibition"
         ],
         "hoverinfo": "name",
         "marker": {
          "color": "rgba(1.0, 0.6313725490196078, 0.35294117647058826, 1.0)"
         },
         "name": "uncompetitive product inhibition",
         "showlegend": false,
         "type": "scatter",
         "visible": false,
         "x": [
          0,
          1,
          2,
          3,
          4,
          5,
          6,
          7,
          8,
          9,
          10,
          11,
          12,
          13,
          14,
          15,
          16,
          17,
          18,
          19,
          20
         ],
         "y": [
          0.028695285138181398,
          0.04541374507857789,
          0.061221663530336354,
          0.0762529884908093,
          0.09061174921968249,
          0.10438064464373961,
          0.11762668353383307,
          0.1304050682364758,
          0.14276192580416291,
          0.154736259610731,
          0.16636140349785333,
          0.17766611093696427,
          0.1886753903657423,
          0.19941116165254988,
          0.20989275576318434,
          0.22013732802806135,
          0.2301601854966585,
          0.239975054320096,
          0.24959429617576173,
          0.2590291020598406,
          0.26828962774885134
         ]
        },
        {
         "customdata": [
          "uncompetitive product inhibition"
         ],
         "hoverinfo": "name",
         "marker": {
          "color": "rgba(0.09803921568627451, 0.8274509803921568, 0.9529411764705882, 1.0)"
         },
         "name": "uncompetitive product inhibition",
         "showlegend": false,
         "type": "scatter",
         "visible": false,
         "x": [
          0,
          1,
          2,
          3,
          4,
          5,
          6,
          7,
          8,
          9,
          10,
          11,
          12,
          13,
          14,
          15,
          16,
          17,
          18,
          19,
          20
         ],
         "y": [
          0.027657145385177252,
          0.04747935154726897,
          0.06586674224797615,
          0.08309192798885102,
          0.09935081854763482,
          0.11478976542479848,
          0.12952153454617005,
          0.14363519394945665,
          0.15720254801576208,
          0.1702824866768351,
          0.1829240303715647,
          0.19516849186944438,
          0.20705107516119603,
          0.21860206946212848,
          0.2298477623178194,
          0.24081114295708764,
          0.2515124502756425,
          0.26196961495674936,
          0.27219861163744546,
          0.28221374432857504,
          0.2920278820126781
         ]
        },
        {
         "customdata": [
          "uncompetitive product inhibition with enzyme inactivation"
         ],
         "hoverinfo": "name",
         "marker": {
          "color": "rgba(0.38823529411764707, 0.43137254901960786, 0.9803921568627451, 1.0)"
         },
         "name": "uncompetitive product inhibition with enzyme inactivation",
         "showlegend": false,
         "type": "scatter",
         "visible": false,
         "x": [
          0,
          1,
          2,
          3,
          4,
          5,
          6,
          7,
          8,
          9,
          10,
          11,
          12,
          13,
          14,
          15,
          16,
          17,
          18,
          19,
          20
         ],
         "y": [
          0.0057262923069735,
          0.007958464933110025,
          0.010101424079726732,
          0.012159496386674103,
          0.014136704533941903,
          0.016036873240505005,
          0.017863615405885044,
          0.0196203456858869,
          0.021310298538304642,
          0.022936537520226504,
          0.0245019632567361,
          0.026009323325845213,
          0.027461223233626778,
          0.028860126689050004,
          0.030208372591348783,
          0.03150818763877329,
          0.032761683989478624,
          0.03397085816153648,
          0.03513761280464207,
          0.036263752302360286,
          0.03735099354977187
         ]
        },
        {
         "customdata": [
          "uncompetitive product inhibition with enzyme inactivation"
         ],
         "hoverinfo": "name",
         "marker": {
          "color": "rgba(0.9372549019607843, 0.3333333333333333, 0.23137254901960785, 1.0)"
         },
         "name": "uncompetitive product inhibition with enzyme inactivation",
         "showlegend": false,
         "type": "scatter",
         "visible": false,
         "x": [
          0,
          1,
          2,
          3,
          4,
          5,
          6,
          7,
          8,
          9,
          10,
          11,
          12,
          13,
          14,
          15,
          16,
          17,
          18,
          19,
          20
         ],
         "y": [
          0.00950886178655315,
          0.014456723948621374,
          0.019224749847233272,
          0.023820991634776495,
          0.0282530428933082,
          0.03252809282632051,
          0.036652940174729275,
          0.04063402996711179,
          0.04447747370932116,
          0.04818906813883554,
          0.051774317581966045,
          0.05523844248891012,
          0.058586407022357,
          0.06182294401874722,
          0.06495254479457183,
          0.06797948666297375,
          0.07090784268554612,
          0.07374149504218977,
          0.07648414334198651,
          0.07913931680513739,
          0.08171038156857155
         ]
        },
        {
         "customdata": [
          "uncompetitive product inhibition with enzyme inactivation"
         ],
         "hoverinfo": "name",
         "marker": {
          "color": "rgba(0.0, 0.8, 0.5882352941176471, 1.0)"
         },
         "name": "uncompetitive product inhibition with enzyme inactivation",
         "showlegend": false,
         "type": "scatter",
         "visible": false,
         "x": [
          0,
          1,
          2,
          3,
          4,
          5,
          6,
          7,
          8,
          9,
          10,
          11,
          12,
          13,
          14,
          15,
          16,
          17,
          18,
          19,
          20
         ],
         "y": [
          0.01521395051126925,
          0.023361558865822755,
          0.031229550483975733,
          0.03883087967640374,
          0.0461776818527437,
          0.053281317758533536,
          0.06015244671467696,
          0.06680109414889426,
          0.07323669530888739,
          0.07946814152655873,
          0.08550381705219386,
          0.09135166311895906,
          0.0970191804987976,
          0.10251347468497955,
          0.10784128106323174,
          0.11300899274455121,
          0.11802268263847503,
          0.12288812355336813,
          0.12761080896183782,
          0.13219596946599427,
          0.13664859305144247
         ]
        },
        {
         "customdata": [
          "uncompetitive product inhibition with enzyme inactivation"
         ],
         "hoverinfo": "name",
         "marker": {
          "color": "rgba(0.6705882352941176, 0.38823529411764707, 0.9803921568627451, 1.0)"
         },
         "name": "uncompetitive product inhibition with enzyme inactivation",
         "showlegend": false,
         "type": "scatter",
         "visible": false,
         "x": [
          0,
          1,
          2,
          3,
          4,
          5,
          6,
          7,
          8,
          9,
          10,
          11,
          12,
          13,
          14,
          15,
          16,
          17,
          18,
          19,
          20
         ],
         "y": [
          0.022804612003357698,
          0.03472350801462462,
          0.04622320254097351,
          0.05732650924379793,
          0.06805433850199892,
          0.07842590129514958,
          0.088458918912144,
          0.09816977490170288,
          0.10757364143547284,
          0.11668463667495665,
          0.12551589948565717,
          0.13407969020243396,
          0.1423874753394376,
          0.15044999790866437,
          0.15827734063410465,
          0.16587898172047208,
          0.17326385007085449,
          0.1804403635593442,
          0.187416465364421,
          0.19419967423729545,
          0.20079710429912015
         ]
        },
        {
         "customdata": [
          "uncompetitive product inhibition with enzyme inactivation"
         ],
         "hoverinfo": "name",
         "marker": {
          "color": "rgba(1.0, 0.6313725490196078, 0.35294117647058826, 1.0)"
         },
         "name": "uncompetitive product inhibition with enzyme inactivation",
         "showlegend": false,
         "type": "scatter",
         "visible": false,
         "x": [
          0,
          1,
          2,
          3,
          4,
          5,
          6,
          7,
          8,
          9,
          10,
          11,
          12,
          13,
          14,
          15,
          16,
          17,
          18,
          19,
          20
         ],
         "y": [
          0.028695285138181398,
          0.045074381640085946,
          0.06078361526005076,
          0.0758712122974871,
          0.09037981578595146,
          0.10434740062143787,
          0.1178079463482625,
          0.13079204114770746,
          0.14332733472947257,
          0.15543892643434315,
          0.1671496976101969,
          0.17848058145901582,
          0.18945079816522606,
          0.20007804617965197,
          0.2103786659539906,
          0.22036779432071968,
          0.230059486020771,
          0.23946682011513193,
          0.24860199563222815,
          0.2574764146732377,
          0.26610075575390946
         ]
        },
        {
         "customdata": [
          "uncompetitive product inhibition with enzyme inactivation"
         ],
         "hoverinfo": "name",
         "marker": {
          "color": "rgba(0.09803921568627451, 0.8274509803921568, 0.9529411764705882, 1.0)"
         },
         "name": "uncompetitive product inhibition with enzyme inactivation",
         "showlegend": false,
         "type": "scatter",
         "visible": false,
         "x": [
          0,
          1,
          2,
          3,
          4,
          5,
          6,
          7,
          8,
          9,
          10,
          11,
          12,
          13,
          14,
          15,
          16,
          17,
          18,
          19,
          20
         ],
         "y": [
          0.027657145385177252,
          0.04639930512438687,
          0.0642796014259727,
          0.08137160777644982,
          0.09773879165593068,
          0.11343640695720704,
          0.12851292906981934,
          0.14301120066206735,
          0.15696930823587563,
          0.17042131939093422,
          0.18339786538237549,
          0.19592662347277842,
          0.20803269720474693,
          0.21973896341223811,
          0.23106634209603807,
          0.2420340282438993,
          0.25265969086251505,
          0.26295964283723344,
          0.2729489875993248,
          0.2826417384600631,
          0.2920509390287317
         ]
        },
        {
         "customdata": [
          "non-competitive product inhibition"
         ],
         "hoverinfo": "name",
         "marker": {
          "color": "rgba(0.38823529411764707, 0.43137254901960786, 0.9803921568627451, 1.0)"
         },
         "name": "non-competitive product inhibition",
         "showlegend": false,
         "type": "scatter",
         "visible": false,
         "x": [
          0,
          1,
          2,
          3,
          4,
          5,
          6,
          7,
          8,
          9,
          10,
          11,
          12,
          13,
          14,
          15,
          16,
          17,
          18,
          19,
          20
         ],
         "y": [
          0.0057262923069735,
          0.00760975327472057,
          0.009456677398847356,
          0.011267778706533307,
          0.013043791116319921,
          0.014785373845859864,
          0.016493195323631672,
          0.018167906434681455,
          0.01981014385630708,
          0.021420530345077494,
          0.02299967413364874,
          0.024548170531538446,
          0.026066602618134337,
          0.027555537519680907,
          0.029015535738666717,
          0.03044714387813837,
          0.031850897846470674,
          0.03322732243814403,
          0.03457693161324038,
          0.03590022993919655,
          0.03719771108694742
         ]
        },
        {
         "customdata": [
          "non-competitive product inhibition"
         ],
         "hoverinfo": "name",
         "marker": {
          "color": "rgba(0.9372549019607843, 0.3333333333333333, 0.23137254901960785, 1.0)"
         },
         "name": "non-competitive product inhibition",
         "showlegend": false,
         "type": "scatter",
         "visible": false,
         "x": [
          0,
          1,
          2,
          3,
          4,
          5,
          6,
          7,
          8,
          9,
          10,
          11,
          12,
          13,
          14,
          15,
          16,
          17,
          18,
          19,
          20
         ],
         "y": [
          0.00950886178655315,
          0.013854203174360667,
          0.018117001612252152,
          0.022299596709644813,
          0.026404115376990556,
          0.03043260852060353,
          0.03438702812787986,
          0.03826923170036876,
          0.042080992624564585,
          0.04582400080802353,
          0.04949987821569896,
          0.053110175612569185,
          0.056656379047430615,
          0.060139912996590765,
          0.06356214720247139,
          0.06692439492575127,
          0.07022791906463745,
          0.07347393808442751,
          0.07666363121081934,
          0.07979812875203358,
          0.08287852275694002
         ]
        },
        {
         "customdata": [
          "non-competitive product inhibition"
         ],
         "hoverinfo": "name",
         "marker": {
          "color": "rgba(0.0, 0.8, 0.5882352941176471, 1.0)"
         },
         "name": "non-competitive product inhibition",
         "showlegend": false,
         "type": "scatter",
         "visible": false,
         "x": [
          0,
          1,
          2,
          3,
          4,
          5,
          6,
          7,
          8,
          9,
          10,
          11,
          12,
          13,
          14,
          15,
          16,
          17,
          18,
          19,
          20
         ],
         "y": [
          0.01521395051126925,
          0.02270013890906489,
          0.030020962269961475,
          0.037184569864254224,
          0.0441984162147213,
          0.051069340195894056,
          0.05780362757022593,
          0.06440708892689923,
          0.07088509552280733,
          0.07724262715782085,
          0.08348430514897154,
          0.08961443431016464,
          0.09563704112628166,
          0.10155587452107911,
          0.1073744482985035,
          0.11309605759527833,
          0.11872379606636566,
          0.12426057406100746,
          0.12970913234391956,
          0.13507205427327176,
          0.14035178412019206
         ]
        },
        {
         "customdata": [
          "non-competitive product inhibition"
         ],
         "hoverinfo": "name",
         "marker": {
          "color": "rgba(0.6705882352941176, 0.38823529411764707, 0.9803921568627451, 1.0)"
         },
         "name": "non-competitive product inhibition",
         "showlegend": false,
         "type": "scatter",
         "visible": false,
         "x": [
          0,
          1,
          2,
          3,
          4,
          5,
          6,
          7,
          8,
          9,
          10,
          11,
          12,
          13,
          14,
          15,
          16,
          17,
          18,
          19,
          20
         ],
         "y": [
          0.022804612003357698,
          0.034306072134169946,
          0.04543962146785262,
          0.05623699758164589,
          0.06672555285505667,
          0.07692911563535827,
          0.08686856330946187,
          0.09656230675628577,
          0.10602670828196128,
          0.11527635186742051,
          0.12432432062654507,
          0.1331824010753811,
          0.14186125381756773,
          0.15037056703547508,
          0.15871916534269187,
          0.16691511813652898,
          0.17496582782730966,
          0.18287810384373235,
          0.19065822539660893,
          0.19831199895124654,
          0.2058448047395873
         ]
        },
        {
         "customdata": [
          "non-competitive product inhibition"
         ],
         "hoverinfo": "name",
         "marker": {
          "color": "rgba(1.0, 0.6313725490196078, 0.35294117647058826, 1.0)"
         },
         "name": "non-competitive product inhibition",
         "showlegend": false,
         "type": "scatter",
         "visible": false,
         "x": [
          0,
          1,
          2,
          3,
          4,
          5,
          6,
          7,
          8,
          9,
          10,
          11,
          12,
          13,
          14,
          15,
          16,
          17,
          18,
          19,
          20
         ],
         "y": [
          0.028695285138181398,
          0.04541358688820506,
          0.06122137706185103,
          0.07625259479094114,
          0.09061126333908562,
          0.1043800774443928,
          0.1176260428793174,
          0.13040435979532455,
          0.14276115360771952,
          0.15473542645204694,
          0.16636051122212767,
          0.1776651606569992,
          0.18867438261661168,
          0.19941009651958136,
          0.20989163297329955,
          0.2201361470232275,
          0.23015894549113292,
          0.23997375434633003,
          0.24959293512010813,
          0.259027678690042,
          0.2682881407387682
         ]
        },
        {
         "customdata": [
          "non-competitive product inhibition"
         ],
         "hoverinfo": "name",
         "marker": {
          "color": "rgba(0.09803921568627451, 0.8274509803921568, 0.9529411764705882, 1.0)"
         },
         "name": "non-competitive product inhibition",
         "showlegend": false,
         "type": "scatter",
         "visible": false,
         "x": [
          0,
          1,
          2,
          3,
          4,
          5,
          6,
          7,
          8,
          9,
          10,
          11,
          12,
          13,
          14,
          15,
          16,
          17,
          18,
          19,
          20
         ],
         "y": [
          0.027657145385177252,
          0.047478863324167536,
          0.0658659874750349,
          0.08309105444994812,
          0.09934992888699085,
          0.11478893317613578,
          0.1295208136438276,
          0.14363462466199464,
          0.15720216083619487,
          0.17028230492684096,
          0.182924072002922,
          0.19516877075610753,
          0.207051602045025,
          0.21860285263226326,
          0.2298488081075556,
          0.24081245617476466,
          0.2515140344906334,
          0.2619714727400926,
          0.27220074474831446,
          0.2822161538714861,
          0.29203056852375
         ]
        },
        {
         "customdata": [
          "non-competitive product inhibition with enzyme inactivation"
         ],
         "hoverinfo": "name",
         "marker": {
          "color": "rgba(0.38823529411764707, 0.43137254901960786, 0.9803921568627451, 1.0)"
         },
         "name": "non-competitive product inhibition with enzyme inactivation",
         "showlegend": false,
         "type": "scatter",
         "visible": false,
         "x": [
          0,
          1,
          2,
          3,
          4,
          5,
          6,
          7,
          8,
          9,
          10,
          11,
          12,
          13,
          14,
          15,
          16,
          17,
          18,
          19,
          20
         ],
         "y": [
          0.0057262923069735,
          0.00795838083241096,
          0.01010127791792382,
          0.012159308416161644,
          0.01413649331392574,
          0.016036655773202863,
          0.01786340724613524,
          0.019620161058291424,
          0.021310150415465676,
          0.022936437728523093,
          0.0245019225613046,
          0.026009351503288192,
          0.027461329157812926,
          0.02886031839948414,
          0.030208657341500397,
          0.0315085719434979,
          0.03276217373658323,
          0.033971458610197756,
          0.035138328651448295,
          0.036264587727924555,
          0.037351952249903064
         ]
        },
        {
         "customdata": [
          "non-competitive product inhibition with enzyme inactivation"
         ],
         "hoverinfo": "name",
         "marker": {
          "color": "rgba(0.9372549019607843, 0.3333333333333333, 0.23137254901960785, 1.0)"
         },
         "name": "non-competitive product inhibition with enzyme inactivation",
         "showlegend": false,
         "type": "scatter",
         "visible": false,
         "x": [
          0,
          1,
          2,
          3,
          4,
          5,
          6,
          7,
          8,
          9,
          10,
          11,
          12,
          13,
          14,
          15,
          16,
          17,
          18,
          19,
          20
         ],
         "y": [
          0.00950886178655315,
          0.0144565892762449,
          0.019224511522234027,
          0.0238206791192208,
          0.028252684108619027,
          0.032527714188375634,
          0.03665256663510556,
          0.040633685052925105,
          0.04447717957292861,
          0.04818884560528782,
          0.05177418619925635,
          0.05523842058203066,
          0.058586511740980764,
          0.06182319138829212,
          0.06495294976704537,
          0.06798006316828696,
          0.07090860367855141,
          0.0737424525518122,
          0.07648530851590367,
          0.07914069995627683,
          0.08171199221645492
         ]
        },
        {
         "customdata": [
          "non-competitive product inhibition with enzyme inactivation"
         ],
         "hoverinfo": "name",
         "marker": {
          "color": "rgba(0.0, 0.8, 0.5882352941176471, 1.0)"
         },
         "name": "non-competitive product inhibition with enzyme inactivation",
         "showlegend": false,
         "type": "scatter",
         "visible": false,
         "x": [
          0,
          1,
          2,
          3,
          4,
          5,
          6,
          7,
          8,
          9,
          10,
          11,
          12,
          13,
          14,
          15,
          16,
          17,
          18,
          19,
          20
         ],
         "y": [
          0.01521395051126925,
          0.023361427289079417,
          0.03122930665622201,
          0.03883054437589134,
          0.04617727691496081,
          0.053280865728027864,
          0.060151970579526384,
          0.06680061710158437,
          0.07323624055850017,
          0.07946773212810553,
          0.08550347579308389,
          0.09135141242442969,
          0.09701904230283767,
          0.10251347039285569,
          0.10784143149311007,
          0.11300931807713509,
          0.1180232023945148,
          0.12288885656419331,
          0.12761177334968687,
          0.13219718265017372,
          0.13665007173604302
         ]
        },
        {
         "customdata": [
          "non-competitive product inhibition with enzyme inactivation"
         ],
         "hoverinfo": "name",
         "marker": {
          "color": "rgba(0.6705882352941176, 0.38823529411764707, 0.9803921568627451, 1.0)"
         },
         "name": "non-competitive product inhibition with enzyme inactivation",
         "showlegend": false,
         "type": "scatter",
         "visible": false,
         "x": [
          0,
          1,
          2,
          3,
          4,
          5,
          6,
          7,
          8,
          9,
          10,
          11,
          12,
          13,
          14,
          15,
          16,
          17,
          18,
          19,
          20
         ],
         "y": [
          0.022804612003357698,
          0.03472346121534548,
          0.046223085213015186,
          0.057326307523293214,
          0.0680540466128304,
          0.07842552007102338,
          0.08845845459160565,
          0.09816923811991941,
          0.1075730463664167,
          0.11668400041072788,
          0.12551524134319111,
          0.13407903129076604,
          0.14238683813384595,
          0.1504494059124765,
          0.15827681807424998,
          0.16587855330449175,
          0.1732635408013791,
          0.18044019850157464,
          0.18741646954496827,
          0.19419987251700352,
          0.2007975212705127
         ]
        },
        {
         "customdata": [
          "non-competitive product inhibition with enzyme inactivation"
         ],
         "hoverinfo": "name",
         "marker": {
          "color": "rgba(1.0, 0.6313725490196078, 0.35294117647058826, 1.0)"
         },
         "name": "non-competitive product inhibition with enzyme inactivation",
         "showlegend": false,
         "type": "scatter",
         "visible": false,
         "x": [
          0,
          1,
          2,
          3,
          4,
          5,
          6,
          7,
          8,
          9,
          10,
          11,
          12,
          13,
          14,
          15,
          16,
          17,
          18,
          19,
          20
         ],
         "y": [
          0.028695285138181398,
          0.04507460589679643,
          0.060783939829644806,
          0.07587154627782401,
          0.09038009447035467,
          0.10434758017293722,
          0.1178079995652846,
          0.1307919542943861,
          0.14332710472465685,
          0.15543855881397953,
          0.1671492047974334,
          0.17847998135696586,
          0.1894501130706831,
          0.20007730172974156,
          0.2103778904887785,
          0.22036701816640752,
          0.2300587409982058,
          0.23946613909468412,
          0.24860141217548123,
          0.2574759627275883,
          0.2661004694134922
         ]
        },
        {
         "customdata": [
          "non-competitive product inhibition with enzyme inactivation"
         ],
         "hoverinfo": "name",
         "marker": {
          "color": "rgba(0.09803921568627451, 0.8274509803921568, 0.9529411764705882, 1.0)"
         },
         "name": "non-competitive product inhibition with enzyme inactivation",
         "showlegend": false,
         "type": "scatter",
         "visible": false,
         "x": [
          0,
          1,
          2,
          3,
          4,
          5,
          6,
          7,
          8,
          9,
          10,
          11,
          12,
          13,
          14,
          15,
          16,
          17,
          18,
          19,
          20
         ],
         "y": [
          0.027657145385177252,
          0.04639981172062354,
          0.06428040259674776,
          0.08137254835251165,
          0.09773976007914464,
          0.11343732534463193,
          0.1285137459011468,
          0.1430118849074308,
          0.15696984502955635,
          0.17042170658589578,
          0.1833981108739801,
          0.19592674295980442,
          0.20803271256944753,
          0.21973890130869767,
          0.2310662328357411,
          0.24203390490121715,
          0.2526595885448775,
          0.2629595980988556,
          0.27294903792985575,
          0.2826419219039489,
          0.29205129384618356
         ]
        },
        {
         "customdata": [
          "substrate inhibition"
         ],
         "hoverinfo": "name",
         "marker": {
          "color": "rgba(0.38823529411764707, 0.43137254901960786, 0.9803921568627451, 1.0)"
         },
         "name": "substrate inhibition",
         "showlegend": false,
         "type": "scatter",
         "visible": false,
         "x": [
          0,
          1,
          2,
          3,
          4,
          5,
          6,
          7,
          8,
          9,
          10,
          11,
          12,
          13,
          14,
          15,
          16,
          17,
          18,
          19,
          20
         ],
         "y": [
          0.0057262923069735,
          0.007483355833835262,
          0.009210214929379248,
          0.010907286264347619,
          0.012575042114567458,
          0.014213888342507867,
          0.015824242521548026,
          0.01740652344615623,
          0.018961144947002944,
          0.020488517860438767,
          0.021989049120848998,
          0.023463141955279054,
          0.024911195971834714,
          0.02633360709079603,
          0.02773076726285763,
          0.029103063827292743,
          0.03045088116197377,
          0.03177459988279836,
          0.03307459646660531,
          0.034351243217866055,
          0.0356049085190286
         ]
        },
        {
         "customdata": [
          "substrate inhibition"
         ],
         "hoverinfo": "name",
         "marker": {
          "color": "rgba(0.9372549019607843, 0.3333333333333333, 0.23137254901960785, 1.0)"
         },
         "name": "substrate inhibition",
         "showlegend": false,
         "type": "scatter",
         "visible": false,
         "x": [
          0,
          1,
          2,
          3,
          4,
          5,
          6,
          7,
          8,
          9,
          10,
          11,
          12,
          13,
          14,
          15,
          16,
          17,
          18,
          19,
          20
         ],
         "y": [
          0.00950886178655315,
          0.013494477017684683,
          0.017426051478365217,
          0.021303971145550448,
          0.025128677816549233,
          0.028900565715251035,
          0.03262004866146105,
          0.03628754600877328,
          0.03990348253342477,
          0.043468286669843,
          0.046982391574760696,
          0.05044623515720308,
          0.05386025881142253,
          0.05722490587861479,
          0.0605406262467303,
          0.06380787264169388,
          0.06702709740484186,
          0.07019875806082614,
          0.07332331495603438,
          0.07640122927095828,
          0.07943296554659011
         ]
        },
        {
         "customdata": [
          "substrate inhibition"
         ],
         "hoverinfo": "name",
         "marker": {
          "color": "rgba(0.0, 0.8, 0.5882352941176471, 1.0)"
         },
         "name": "substrate inhibition",
         "showlegend": false,
         "type": "scatter",
         "visible": false,
         "x": [
          0,
          1,
          2,
          3,
          4,
          5,
          6,
          7,
          8,
          9,
          10,
          11,
          12,
          13,
          14,
          15,
          16,
          17,
          18,
          19,
          20
         ],
         "y": [
          0.01521395051126925,
          0.021958137647636114,
          0.028638691728629997,
          0.03525560849482451,
          0.04180889476213483,
          0.048298573751302115,
          0.05472465891980387,
          0.06108719420312592,
          0.06738622758998511,
          0.07362180884052272,
          0.0797940094387656,
          0.08590289499814271,
          0.09194859307242108,
          0.09793114175309427,
          0.10385068394428679,
          0.10970734061547634,
          0.11550123247767101,
          0.12123250080281019,
          0.12690129129598687,
          0.13250776355697214,
          0.13805208389806953
         ]
        },
        {
         "customdata": [
          "substrate inhibition"
         ],
         "hoverinfo": "name",
         "marker": {
          "color": "rgba(0.6705882352941176, 0.38823529411764707, 0.9803921568627451, 1.0)"
         },
         "name": "substrate inhibition",
         "showlegend": false,
         "type": "scatter",
         "visible": false,
         "x": [
          0,
          1,
          2,
          3,
          4,
          5,
          6,
          7,
          8,
          9,
          10,
          11,
          12,
          13,
          14,
          15,
          16,
          17,
          18,
          19,
          20
         ],
         "y": [
          0.022804612003357698,
          0.03292730420970662,
          0.042999954529723966,
          0.05302220215064424,
          0.06299362677267101,
          0.07291386316032661,
          0.08278254699548832,
          0.0925993069128625,
          0.1023637759994724,
          0.11207558965094984,
          0.1217343868226914,
          0.13133980980014284,
          0.1408915039478345,
          0.15038911811314942,
          0.15983230513410795,
          0.16922072193543575,
          0.1785540295813085,
          0.1878318932013136,
          0.19705398200591492,
          0.20621996931248282,
          0.21532953379663144
         ]
        },
        {
         "customdata": [
          "substrate inhibition"
         ],
         "hoverinfo": "name",
         "marker": {
          "color": "rgba(1.0, 0.6313725490196078, 0.35294117647058826, 1.0)"
         },
         "name": "substrate inhibition",
         "showlegend": false,
         "type": "scatter",
         "visible": false,
         "x": [
          0,
          1,
          2,
          3,
          4,
          5,
          6,
          7,
          8,
          9,
          10,
          11,
          12,
          13,
          14,
          15,
          16,
          17,
          18,
          19,
          20
         ],
         "y": [
          0.028695285138181398,
          0.04223696613217121,
          0.0557677599099185,
          0.06928748900958337,
          0.08279594130233801,
          0.09629290016780967,
          0.10977817570733978,
          0.12325156506333798,
          0.13671286106626357,
          0.15016185629090756,
          0.1635983400142332,
          0.17702210042554567,
          0.19043292236836182,
          0.20383058963445722,
          0.21721488337994743,
          0.23058558235130078,
          0.24394246413554616,
          0.25728530317939585,
          0.27061387133730563,
          0.2839279382375033,
          0.2972272726713712
         ]
        },
        {
         "customdata": [
          "substrate inhibition"
         ],
         "hoverinfo": "name",
         "marker": {
          "color": "rgba(0.09803921568627451, 0.8274509803921568, 0.9529411764705882, 1.0)"
         },
         "name": "substrate inhibition",
         "showlegend": false,
         "type": "scatter",
         "visible": false,
         "x": [
          0,
          1,
          2,
          3,
          4,
          5,
          6,
          7,
          8,
          9,
          10,
          11,
          12,
          13,
          14,
          15,
          16,
          17,
          18,
          19,
          20
         ],
         "y": [
          0.027657145385177252,
          0.041331776953416596,
          0.055010812826397325,
          0.06869422994708839,
          0.08238200128428974,
          0.09607411065720389,
          0.10977052813317634,
          0.12347122542405344,
          0.13717617428968834,
          0.1508853498615235,
          0.1645987275214783,
          0.17831628118421314,
          0.19203798476438835,
          0.20576381059651802,
          0.21949372973487039,
          0.2332277146300786,
          0.24696573773702174,
          0.2607077683631722,
          0.2744537815793376,
          0.2882037433735151,
          0.301957625380664
         ]
        },
        {
         "customdata": [
          "substrate inhibition with enzyme inactivation"
         ],
         "hoverinfo": "name",
         "marker": {
          "color": "rgba(0.38823529411764707, 0.43137254901960786, 0.9803921568627451, 1.0)"
         },
         "name": "substrate inhibition with enzyme inactivation",
         "showlegend": false,
         "type": "scatter",
         "visible": false,
         "x": [
          0,
          1,
          2,
          3,
          4,
          5,
          6,
          7,
          8,
          9,
          10,
          11,
          12,
          13,
          14,
          15,
          16,
          17,
          18,
          19,
          20
         ],
         "y": [
          0.0057262923069735,
          0.007902537803709293,
          0.009964902119362587,
          0.01192054066701306,
          0.013776071748492269,
          0.015537640612829319,
          0.017210944210947706,
          0.018801282144155832,
          0.0203135816792581,
          0.021752426622009692,
          0.023122085601950657,
          0.02442652674034115,
          0.02566945750069783,
          0.02685434732240744,
          0.027984419141196315,
          0.029062691827141246,
          0.030091985414765397,
          0.031074940215047468,
          0.032014027548835665,
          0.03291156340568908,
          0.03376971892296224
         ]
        },
        {
         "customdata": [
          "substrate inhibition with enzyme inactivation"
         ],
         "hoverinfo": "name",
         "marker": {
          "color": "rgba(0.9372549019607843, 0.3333333333333333, 0.23137254901960785, 1.0)"
         },
         "name": "substrate inhibition with enzyme inactivation",
         "showlegend": false,
         "type": "scatter",
         "visible": false,
         "x": [
          0,
          1,
          2,
          3,
          4,
          5,
          6,
          7,
          8,
          9,
          10,
          11,
          12,
          13,
          14,
          15,
          16,
          17,
          18,
          19,
          20
         ],
         "y": [
          0.00950886178655315,
          0.014451819277226191,
          0.019157104528439196,
          0.02363798563787013,
          0.027906918009572863,
          0.03197556904403225,
          0.03585487658708683,
          0.03955510709288165,
          0.04308589291371404,
          0.046456274228733004,
          0.04967472722162788,
          0.052749231938333224,
          0.05568729114615019,
          0.058495943369556734,
          0.06118181561068619,
          0.06375114242766251,
          0.06620979300426587,
          0.06856329589082755,
          0.07081685898202511,
          0.07297539283614903,
          0.07504352622832028
         ]
        },
        {
         "customdata": [
          "substrate inhibition with enzyme inactivation"
         ],
         "hoverinfo": "name",
         "marker": {
          "color": "rgba(0.0, 0.8, 0.5882352941176471, 1.0)"
         },
         "name": "substrate inhibition with enzyme inactivation",
         "showlegend": false,
         "type": "scatter",
         "visible": false,
         "x": [
          0,
          1,
          2,
          3,
          4,
          5,
          6,
          7,
          8,
          9,
          10,
          11,
          12,
          13,
          14,
          15,
          16,
          17,
          18,
          19,
          20
         ],
         "y": [
          0.01521395051126925,
          0.023591284215311994,
          0.031606393948047526,
          0.039276805306350845,
          0.046619131093286637,
          0.05364910242412412,
          0.06038164136628151,
          0.0668308865587162,
          0.07301024406890508,
          0.07893240710625836,
          0.08460940649175458,
          0.09005267210741455,
          0.09527303917053263,
          0.1002807682061376,
          0.1050856030882716,
          0.10969678382971418,
          0.11412308363511972,
          0.11837282668033255,
          0.12245392004479654,
          0.12637386912479082,
          0.13013980665373306
         ]
        },
        {
         "customdata": [
          "substrate inhibition with enzyme inactivation"
         ],
         "hoverinfo": "name",
         "marker": {
          "color": "rgba(0.6705882352941176, 0.38823529411764707, 0.9803921568627451, 1.0)"
         },
         "name": "substrate inhibition with enzyme inactivation",
         "showlegend": false,
         "type": "scatter",
         "visible": false,
         "x": [
          0,
          1,
          2,
          3,
          4,
          5,
          6,
          7,
          8,
          9,
          10,
          11,
          12,
          13,
          14,
          15,
          16,
          17,
          18,
          19,
          20
         ],
         "y": [
          0.022804612003357698,
          0.035401534325614874,
          0.0475207796706468,
          0.05918169203320844,
          0.07040281019328128,
          0.08120188192140079,
          0.09159591893358698,
          0.10160121117632291,
          0.11123336985860101,
          0.12050733082032933,
          0.12943737745894474,
          0.13803720360827723,
          0.14631993896229512,
          0.15429817685770744,
          0.1619839464574124,
          0.1693887490617824,
          0.17652361598361216,
          0.18339912614899082,
          0.1900254060260702,
          0.19641215113145571,
          0.20256865265431365
         ]
        },
        {
         "customdata": [
          "substrate inhibition with enzyme inactivation"
         ],
         "hoverinfo": "name",
         "marker": {
          "color": "rgba(1.0, 0.6313725490196078, 0.35294117647058826, 1.0)"
         },
         "name": "substrate inhibition with enzyme inactivation",
         "showlegend": false,
         "type": "scatter",
         "visible": false,
         "x": [
          0,
          1,
          2,
          3,
          4,
          5,
          6,
          7,
          8,
          9,
          10,
          11,
          12,
          13,
          14,
          15,
          16,
          17,
          18,
          19,
          20
         ],
         "y": [
          0.028695285138181398,
          0.04557423996539937,
          0.06189649494498485,
          0.07768056089985365,
          0.0929443483608498,
          0.10770516813953672,
          0.1219797668711145,
          0.13578433475253127,
          0.14913452688017606,
          0.16204547596529764,
          0.17453179650585118,
          0.18660762175024626,
          0.1982866226962924,
          0.20958202003133578,
          0.2205065696879611,
          0.23107260781536826,
          0.24129205858653327,
          0.2511764406954836,
          0.26073689009051104,
          0.2699841661267321,
          0.27892866621771367
         ]
        },
        {
         "customdata": [
          "substrate inhibition with enzyme inactivation"
         ],
         "hoverinfo": "name",
         "marker": {
          "color": "rgba(0.09803921568627451, 0.8274509803921568, 0.9529411764705882, 1.0)"
         },
         "name": "substrate inhibition with enzyme inactivation",
         "showlegend": false,
         "type": "scatter",
         "visible": false,
         "x": [
          0,
          1,
          2,
          3,
          4,
          5,
          6,
          7,
          8,
          9,
          10,
          11,
          12,
          13,
          14,
          15,
          16,
          17,
          18,
          19,
          20
         ],
         "y": [
          0.027657145385177252,
          0.04469878639470864,
          0.06120131817791868,
          0.07718154232282129,
          0.09265576151301062,
          0.10763978107258572,
          0.12214893146266076,
          0.13619807971441406,
          0.14980164031789037,
          0.16297359071778958,
          0.17572747106297834,
          0.18807640778079135,
          0.20003313409394477,
          0.21160999851576645,
          0.22281895560734785,
          0.23367159359395945,
          0.24417914619321363,
          0.25435249616752853,
          0.26420219204033835,
          0.27373845407803676,
          0.2829711851306693
         ]
        }
       ],
       "layout": {
        "annotations": [
         {
          "font": {
           "color": "black"
          },
          "showarrow": false,
          "text": "Today",
          "textangle": 0,
          "x": 10,
          "xref": "x",
          "y": 1.1,
          "yref": "paper"
         }
        ],
        "hoverlabel": {
         "namelength": -1
        },
        "hovermode": "closest",
        "legend": {
         "title": {
          "text": "Initial p-PNPG (mmol / l)"
         }
        },
        "showlegend": true,
        "sliders": [
         {
          "active": 0,
          "currentvalue": {
           "font": {
            "color": "black"
           },
           "prefix": "Model: "
          },
          "font": {
           "color": "white"
          },
          "pad": {
           "t": 50
          },
          "steps": [
           {
            "args": [
             {
              "visible": [
               false,
               false,
               false,
               false,
               false,
               false,
               false,
               false,
               false,
               false,
               false,
               false,
               true,
               true,
               true,
               true,
               true,
               true,
               true,
               true,
               true,
               true,
               true,
               true,
               true,
               true,
               true,
               true,
               true,
               true,
               true,
               true,
               true,
               true,
               true,
               true,
               false,
               false,
               false,
               false,
               false,
               false,
               false,
               false,
               false,
               false,
               false,
               false,
               false,
               false,
               false,
               false,
               false,
               false,
               false,
               false,
               false,
               false,
               false,
               false,
               false,
               false,
               false,
               false,
               false,
               false,
               false,
               false,
               false,
               false,
               false,
               false,
               false,
               false,
               false,
               false,
               false,
               false,
               false,
               false,
               false,
               false,
               false,
               false,
               false,
               false,
               false,
               false,
               false,
               false
              ]
             },
             {
              "title": "Data + Model"
             }
            ],
            "label": "irreversible Michaelis Menten",
            "method": "update"
           },
           {
            "args": [
             {
              "visible": [
               false,
               false,
               false,
               false,
               false,
               false,
               false,
               false,
               false,
               false,
               false,
               false,
               true,
               true,
               true,
               true,
               true,
               true,
               true,
               true,
               true,
               true,
               true,
               true,
               true,
               true,
               true,
               true,
               true,
               true,
               false,
               false,
               false,
               false,
               false,
               false,
               true,
               true,
               true,
               true,
               true,
               true,
               false,
               false,
               false,
               false,
               false,
               false,
               false,
               false,
               false,
               false,
               false,
               false,
               false,
               false,
               false,
               false,
               false,
               false,
               false,
               false,
               false,
               false,
               false,
               false,
               false,
               false,
               false,
               false,
               false,
               false,
               false,
               false,
               false,
               false,
               false,
               false,
               false,
               false,
               false,
               false,
               false,
               false,
               false,
               false,
               false,
               false,
               false,
               false
              ]
             },
             {
              "title": "Data + Model"
             }
            ],
            "label": "irreversible Michaelis Menten with enzyme inactivation",
            "method": "update"
           },
           {
            "args": [
             {
              "visible": [
               false,
               false,
               false,
               false,
               false,
               false,
               false,
               false,
               false,
               false,
               false,
               false,
               true,
               true,
               true,
               true,
               true,
               true,
               true,
               true,
               true,
               true,
               true,
               true,
               true,
               true,
               true,
               true,
               true,
               true,
               false,
               false,
               false,
               false,
               false,
               false,
               false,
               false,
               false,
               false,
               false,
               false,
               true,
               true,
               true,
               true,
               true,
               true,
               false,
               false,
               false,
               false,
               false,
               false,
               false,
               false,
               false,
               false,
               false,
               false,
               false,
               false,
               false,
               false,
               false,
               false,
               false,
               false,
               false,
               false,
               false,
               false,
               false,
               false,
               false,
               false,
               false,
               false,
               false,
               false,
               false,
               false,
               false,
               false,
               false,
               false,
               false,
               false,
               false,
               false
              ]
             },
             {
              "title": "Data + Model"
             }
            ],
            "label": "competitive product inhibition",
            "method": "update"
           },
           {
            "args": [
             {
              "visible": [
               false,
               false,
               false,
               false,
               false,
               false,
               false,
               false,
               false,
               false,
               false,
               false,
               true,
               true,
               true,
               true,
               true,
               true,
               true,
               true,
               true,
               true,
               true,
               true,
               true,
               true,
               true,
               true,
               true,
               true,
               false,
               false,
               false,
               false,
               false,
               false,
               false,
               false,
               false,
               false,
               false,
               false,
               false,
               false,
               false,
               false,
               false,
               false,
               true,
               true,
               true,
               true,
               true,
               true,
               false,
               false,
               false,
               false,
               false,
               false,
               false,
               false,
               false,
               false,
               false,
               false,
               false,
               false,
               false,
               false,
               false,
               false,
               false,
               false,
               false,
               false,
               false,
               false,
               false,
               false,
               false,
               false,
               false,
               false,
               false,
               false,
               false,
               false,
               false,
               false
              ]
             },
             {
              "title": "Data + Model"
             }
            ],
            "label": "competitive product inhibition with enzyme inactivation",
            "method": "update"
           },
           {
            "args": [
             {
              "visible": [
               false,
               false,
               false,
               false,
               false,
               false,
               false,
               false,
               false,
               false,
               false,
               false,
               true,
               true,
               true,
               true,
               true,
               true,
               true,
               true,
               true,
               true,
               true,
               true,
               true,
               true,
               true,
               true,
               true,
               true,
               false,
               false,
               false,
               false,
               false,
               false,
               false,
               false,
               false,
               false,
               false,
               false,
               false,
               false,
               false,
               false,
               false,
               false,
               false,
               false,
               false,
               false,
               false,
               false,
               true,
               true,
               true,
               true,
               true,
               true,
               false,
               false,
               false,
               false,
               false,
               false,
               false,
               false,
               false,
               false,
               false,
               false,
               false,
               false,
               false,
               false,
               false,
               false,
               false,
               false,
               false,
               false,
               false,
               false,
               false,
               false,
               false,
               false,
               false,
               false
              ]
             },
             {
              "title": "Data + Model"
             }
            ],
            "label": "uncompetitive product inhibition",
            "method": "update"
           },
           {
            "args": [
             {
              "visible": [
               false,
               false,
               false,
               false,
               false,
               false,
               false,
               false,
               false,
               false,
               false,
               false,
               true,
               true,
               true,
               true,
               true,
               true,
               true,
               true,
               true,
               true,
               true,
               true,
               true,
               true,
               true,
               true,
               true,
               true,
               false,
               false,
               false,
               false,
               false,
               false,
               false,
               false,
               false,
               false,
               false,
               false,
               false,
               false,
               false,
               false,
               false,
               false,
               false,
               false,
               false,
               false,
               false,
               false,
               false,
               false,
               false,
               false,
               false,
               false,
               true,
               true,
               true,
               true,
               true,
               true,
               false,
               false,
               false,
               false,
               false,
               false,
               false,
               false,
               false,
               false,
               false,
               false,
               false,
               false,
               false,
               false,
               false,
               false,
               false,
               false,
               false,
               false,
               false,
               false
              ]
             },
             {
              "title": "Data + Model"
             }
            ],
            "label": "uncompetitive product inhibition with enzyme inactivation",
            "method": "update"
           },
           {
            "args": [
             {
              "visible": [
               false,
               false,
               false,
               false,
               false,
               false,
               false,
               false,
               false,
               false,
               false,
               false,
               true,
               true,
               true,
               true,
               true,
               true,
               true,
               true,
               true,
               true,
               true,
               true,
               true,
               true,
               true,
               true,
               true,
               true,
               false,
               false,
               false,
               false,
               false,
               false,
               false,
               false,
               false,
               false,
               false,
               false,
               false,
               false,
               false,
               false,
               false,
               false,
               false,
               false,
               false,
               false,
               false,
               false,
               false,
               false,
               false,
               false,
               false,
               false,
               false,
               false,
               false,
               false,
               false,
               false,
               true,
               true,
               true,
               true,
               true,
               true,
               false,
               false,
               false,
               false,
               false,
               false,
               false,
               false,
               false,
               false,
               false,
               false,
               false,
               false,
               false,
               false,
               false,
               false
              ]
             },
             {
              "title": "Data + Model"
             }
            ],
            "label": "non-competitive product inhibition",
            "method": "update"
           },
           {
            "args": [
             {
              "visible": [
               false,
               false,
               false,
               false,
               false,
               false,
               false,
               false,
               false,
               false,
               false,
               false,
               true,
               true,
               true,
               true,
               true,
               true,
               true,
               true,
               true,
               true,
               true,
               true,
               true,
               true,
               true,
               true,
               true,
               true,
               false,
               false,
               false,
               false,
               false,
               false,
               false,
               false,
               false,
               false,
               false,
               false,
               false,
               false,
               false,
               false,
               false,
               false,
               false,
               false,
               false,
               false,
               false,
               false,
               false,
               false,
               false,
               false,
               false,
               false,
               false,
               false,
               false,
               false,
               false,
               false,
               false,
               false,
               false,
               false,
               false,
               false,
               true,
               true,
               true,
               true,
               true,
               true,
               false,
               false,
               false,
               false,
               false,
               false,
               false,
               false,
               false,
               false,
               false,
               false
              ]
             },
             {
              "title": "Data + Model"
             }
            ],
            "label": "non-competitive product inhibition with enzyme inactivation",
            "method": "update"
           },
           {
            "args": [
             {
              "visible": [
               false,
               false,
               false,
               false,
               false,
               false,
               false,
               false,
               false,
               false,
               false,
               false,
               true,
               true,
               true,
               true,
               true,
               true,
               true,
               true,
               true,
               true,
               true,
               true,
               true,
               true,
               true,
               true,
               true,
               true,
               false,
               false,
               false,
               false,
               false,
               false,
               false,
               false,
               false,
               false,
               false,
               false,
               false,
               false,
               false,
               false,
               false,
               false,
               false,
               false,
               false,
               false,
               false,
               false,
               false,
               false,
               false,
               false,
               false,
               false,
               false,
               false,
               false,
               false,
               false,
               false,
               false,
               false,
               false,
               false,
               false,
               false,
               false,
               false,
               false,
               false,
               false,
               false,
               true,
               true,
               true,
               true,
               true,
               true,
               false,
               false,
               false,
               false,
               false,
               false
              ]
             },
             {
              "title": "Data + Model"
             }
            ],
            "label": "substrate inhibition",
            "method": "update"
           },
           {
            "args": [
             {
              "visible": [
               false,
               false,
               false,
               false,
               false,
               false,
               false,
               false,
               false,
               false,
               false,
               false,
               true,
               true,
               true,
               true,
               true,
               true,
               true,
               true,
               true,
               true,
               true,
               true,
               true,
               true,
               true,
               true,
               true,
               true,
               false,
               false,
               false,
               false,
               false,
               false,
               false,
               false,
               false,
               false,
               false,
               false,
               false,
               false,
               false,
               false,
               false,
               false,
               false,
               false,
               false,
               false,
               false,
               false,
               false,
               false,
               false,
               false,
               false,
               false,
               false,
               false,
               false,
               false,
               false,
               false,
               false,
               false,
               false,
               false,
               false,
               false,
               false,
               false,
               false,
               false,
               false,
               false,
               false,
               false,
               false,
               false,
               false,
               false,
               true,
               true,
               true,
               true,
               true,
               true
              ]
             },
             {
              "title": "Data + Model"
             }
            ],
            "label": "substrate inhibition with enzyme inactivation",
            "method": "update"
           }
          ],
          "tickcolor": "white",
          "tickwidth": 0
         }
        ],
        "template": {
         "data": {
          "bar": [
           {
            "error_x": {
             "color": "#2a3f5f"
            },
            "error_y": {
             "color": "#2a3f5f"
            },
            "marker": {
             "line": {
              "color": "#E5ECF6",
              "width": 0.5
             },
             "pattern": {
              "fillmode": "overlay",
              "size": 10,
              "solidity": 0.2
             }
            },
            "type": "bar"
           }
          ],
          "barpolar": [
           {
            "marker": {
             "line": {
              "color": "#E5ECF6",
              "width": 0.5
             },
             "pattern": {
              "fillmode": "overlay",
              "size": 10,
              "solidity": 0.2
             }
            },
            "type": "barpolar"
           }
          ],
          "carpet": [
           {
            "aaxis": {
             "endlinecolor": "#2a3f5f",
             "gridcolor": "white",
             "linecolor": "white",
             "minorgridcolor": "white",
             "startlinecolor": "#2a3f5f"
            },
            "baxis": {
             "endlinecolor": "#2a3f5f",
             "gridcolor": "white",
             "linecolor": "white",
             "minorgridcolor": "white",
             "startlinecolor": "#2a3f5f"
            },
            "type": "carpet"
           }
          ],
          "choropleth": [
           {
            "colorbar": {
             "outlinewidth": 0,
             "ticks": ""
            },
            "type": "choropleth"
           }
          ],
          "contour": [
           {
            "colorbar": {
             "outlinewidth": 0,
             "ticks": ""
            },
            "colorscale": [
             [
              0,
              "#0d0887"
             ],
             [
              0.1111111111111111,
              "#46039f"
             ],
             [
              0.2222222222222222,
              "#7201a8"
             ],
             [
              0.3333333333333333,
              "#9c179e"
             ],
             [
              0.4444444444444444,
              "#bd3786"
             ],
             [
              0.5555555555555556,
              "#d8576b"
             ],
             [
              0.6666666666666666,
              "#ed7953"
             ],
             [
              0.7777777777777778,
              "#fb9f3a"
             ],
             [
              0.8888888888888888,
              "#fdca26"
             ],
             [
              1,
              "#f0f921"
             ]
            ],
            "type": "contour"
           }
          ],
          "contourcarpet": [
           {
            "colorbar": {
             "outlinewidth": 0,
             "ticks": ""
            },
            "type": "contourcarpet"
           }
          ],
          "heatmap": [
           {
            "colorbar": {
             "outlinewidth": 0,
             "ticks": ""
            },
            "colorscale": [
             [
              0,
              "#0d0887"
             ],
             [
              0.1111111111111111,
              "#46039f"
             ],
             [
              0.2222222222222222,
              "#7201a8"
             ],
             [
              0.3333333333333333,
              "#9c179e"
             ],
             [
              0.4444444444444444,
              "#bd3786"
             ],
             [
              0.5555555555555556,
              "#d8576b"
             ],
             [
              0.6666666666666666,
              "#ed7953"
             ],
             [
              0.7777777777777778,
              "#fb9f3a"
             ],
             [
              0.8888888888888888,
              "#fdca26"
             ],
             [
              1,
              "#f0f921"
             ]
            ],
            "type": "heatmap"
           }
          ],
          "heatmapgl": [
           {
            "colorbar": {
             "outlinewidth": 0,
             "ticks": ""
            },
            "colorscale": [
             [
              0,
              "#0d0887"
             ],
             [
              0.1111111111111111,
              "#46039f"
             ],
             [
              0.2222222222222222,
              "#7201a8"
             ],
             [
              0.3333333333333333,
              "#9c179e"
             ],
             [
              0.4444444444444444,
              "#bd3786"
             ],
             [
              0.5555555555555556,
              "#d8576b"
             ],
             [
              0.6666666666666666,
              "#ed7953"
             ],
             [
              0.7777777777777778,
              "#fb9f3a"
             ],
             [
              0.8888888888888888,
              "#fdca26"
             ],
             [
              1,
              "#f0f921"
             ]
            ],
            "type": "heatmapgl"
           }
          ],
          "histogram": [
           {
            "marker": {
             "pattern": {
              "fillmode": "overlay",
              "size": 10,
              "solidity": 0.2
             }
            },
            "type": "histogram"
           }
          ],
          "histogram2d": [
           {
            "colorbar": {
             "outlinewidth": 0,
             "ticks": ""
            },
            "colorscale": [
             [
              0,
              "#0d0887"
             ],
             [
              0.1111111111111111,
              "#46039f"
             ],
             [
              0.2222222222222222,
              "#7201a8"
             ],
             [
              0.3333333333333333,
              "#9c179e"
             ],
             [
              0.4444444444444444,
              "#bd3786"
             ],
             [
              0.5555555555555556,
              "#d8576b"
             ],
             [
              0.6666666666666666,
              "#ed7953"
             ],
             [
              0.7777777777777778,
              "#fb9f3a"
             ],
             [
              0.8888888888888888,
              "#fdca26"
             ],
             [
              1,
              "#f0f921"
             ]
            ],
            "type": "histogram2d"
           }
          ],
          "histogram2dcontour": [
           {
            "colorbar": {
             "outlinewidth": 0,
             "ticks": ""
            },
            "colorscale": [
             [
              0,
              "#0d0887"
             ],
             [
              0.1111111111111111,
              "#46039f"
             ],
             [
              0.2222222222222222,
              "#7201a8"
             ],
             [
              0.3333333333333333,
              "#9c179e"
             ],
             [
              0.4444444444444444,
              "#bd3786"
             ],
             [
              0.5555555555555556,
              "#d8576b"
             ],
             [
              0.6666666666666666,
              "#ed7953"
             ],
             [
              0.7777777777777778,
              "#fb9f3a"
             ],
             [
              0.8888888888888888,
              "#fdca26"
             ],
             [
              1,
              "#f0f921"
             ]
            ],
            "type": "histogram2dcontour"
           }
          ],
          "mesh3d": [
           {
            "colorbar": {
             "outlinewidth": 0,
             "ticks": ""
            },
            "type": "mesh3d"
           }
          ],
          "parcoords": [
           {
            "line": {
             "colorbar": {
              "outlinewidth": 0,
              "ticks": ""
             }
            },
            "type": "parcoords"
           }
          ],
          "pie": [
           {
            "automargin": true,
            "type": "pie"
           }
          ],
          "scatter": [
           {
            "fillpattern": {
             "fillmode": "overlay",
             "size": 10,
             "solidity": 0.2
            },
            "type": "scatter"
           }
          ],
          "scatter3d": [
           {
            "line": {
             "colorbar": {
              "outlinewidth": 0,
              "ticks": ""
             }
            },
            "marker": {
             "colorbar": {
              "outlinewidth": 0,
              "ticks": ""
             }
            },
            "type": "scatter3d"
           }
          ],
          "scattercarpet": [
           {
            "marker": {
             "colorbar": {
              "outlinewidth": 0,
              "ticks": ""
             }
            },
            "type": "scattercarpet"
           }
          ],
          "scattergeo": [
           {
            "marker": {
             "colorbar": {
              "outlinewidth": 0,
              "ticks": ""
             }
            },
            "type": "scattergeo"
           }
          ],
          "scattergl": [
           {
            "marker": {
             "colorbar": {
              "outlinewidth": 0,
              "ticks": ""
             }
            },
            "type": "scattergl"
           }
          ],
          "scattermapbox": [
           {
            "marker": {
             "colorbar": {
              "outlinewidth": 0,
              "ticks": ""
             }
            },
            "type": "scattermapbox"
           }
          ],
          "scatterpolar": [
           {
            "marker": {
             "colorbar": {
              "outlinewidth": 0,
              "ticks": ""
             }
            },
            "type": "scatterpolar"
           }
          ],
          "scatterpolargl": [
           {
            "marker": {
             "colorbar": {
              "outlinewidth": 0,
              "ticks": ""
             }
            },
            "type": "scatterpolargl"
           }
          ],
          "scatterternary": [
           {
            "marker": {
             "colorbar": {
              "outlinewidth": 0,
              "ticks": ""
             }
            },
            "type": "scatterternary"
           }
          ],
          "surface": [
           {
            "colorbar": {
             "outlinewidth": 0,
             "ticks": ""
            },
            "colorscale": [
             [
              0,
              "#0d0887"
             ],
             [
              0.1111111111111111,
              "#46039f"
             ],
             [
              0.2222222222222222,
              "#7201a8"
             ],
             [
              0.3333333333333333,
              "#9c179e"
             ],
             [
              0.4444444444444444,
              "#bd3786"
             ],
             [
              0.5555555555555556,
              "#d8576b"
             ],
             [
              0.6666666666666666,
              "#ed7953"
             ],
             [
              0.7777777777777778,
              "#fb9f3a"
             ],
             [
              0.8888888888888888,
              "#fdca26"
             ],
             [
              1,
              "#f0f921"
             ]
            ],
            "type": "surface"
           }
          ],
          "table": [
           {
            "cells": {
             "fill": {
              "color": "#EBF0F8"
             },
             "line": {
              "color": "white"
             }
            },
            "header": {
             "fill": {
              "color": "#C8D4E3"
             },
             "line": {
              "color": "white"
             }
            },
            "type": "table"
           }
          ]
         },
         "layout": {
          "annotationdefaults": {
           "arrowcolor": "#2a3f5f",
           "arrowhead": 0,
           "arrowwidth": 1
          },
          "autotypenumbers": "strict",
          "coloraxis": {
           "colorbar": {
            "outlinewidth": 0,
            "ticks": ""
           }
          },
          "colorscale": {
           "diverging": [
            [
             0,
             "#8e0152"
            ],
            [
             0.1,
             "#c51b7d"
            ],
            [
             0.2,
             "#de77ae"
            ],
            [
             0.3,
             "#f1b6da"
            ],
            [
             0.4,
             "#fde0ef"
            ],
            [
             0.5,
             "#f7f7f7"
            ],
            [
             0.6,
             "#e6f5d0"
            ],
            [
             0.7,
             "#b8e186"
            ],
            [
             0.8,
             "#7fbc41"
            ],
            [
             0.9,
             "#4d9221"
            ],
            [
             1,
             "#276419"
            ]
           ],
           "sequential": [
            [
             0,
             "#0d0887"
            ],
            [
             0.1111111111111111,
             "#46039f"
            ],
            [
             0.2222222222222222,
             "#7201a8"
            ],
            [
             0.3333333333333333,
             "#9c179e"
            ],
            [
             0.4444444444444444,
             "#bd3786"
            ],
            [
             0.5555555555555556,
             "#d8576b"
            ],
            [
             0.6666666666666666,
             "#ed7953"
            ],
            [
             0.7777777777777778,
             "#fb9f3a"
            ],
            [
             0.8888888888888888,
             "#fdca26"
            ],
            [
             1,
             "#f0f921"
            ]
           ],
           "sequentialminus": [
            [
             0,
             "#0d0887"
            ],
            [
             0.1111111111111111,
             "#46039f"
            ],
            [
             0.2222222222222222,
             "#7201a8"
            ],
            [
             0.3333333333333333,
             "#9c179e"
            ],
            [
             0.4444444444444444,
             "#bd3786"
            ],
            [
             0.5555555555555556,
             "#d8576b"
            ],
            [
             0.6666666666666666,
             "#ed7953"
            ],
            [
             0.7777777777777778,
             "#fb9f3a"
            ],
            [
             0.8888888888888888,
             "#fdca26"
            ],
            [
             1,
             "#f0f921"
            ]
           ]
          },
          "colorway": [
           "#636efa",
           "#EF553B",
           "#00cc96",
           "#ab63fa",
           "#FFA15A",
           "#19d3f3",
           "#FF6692",
           "#B6E880",
           "#FF97FF",
           "#FECB52"
          ],
          "font": {
           "color": "#2a3f5f"
          },
          "geo": {
           "bgcolor": "white",
           "lakecolor": "white",
           "landcolor": "#E5ECF6",
           "showlakes": true,
           "showland": true,
           "subunitcolor": "white"
          },
          "hoverlabel": {
           "align": "left"
          },
          "hovermode": "closest",
          "mapbox": {
           "style": "light"
          },
          "paper_bgcolor": "white",
          "plot_bgcolor": "#E5ECF6",
          "polar": {
           "angularaxis": {
            "gridcolor": "white",
            "linecolor": "white",
            "ticks": ""
           },
           "bgcolor": "#E5ECF6",
           "radialaxis": {
            "gridcolor": "white",
            "linecolor": "white",
            "ticks": ""
           }
          },
          "scene": {
           "xaxis": {
            "backgroundcolor": "#E5ECF6",
            "gridcolor": "white",
            "gridwidth": 2,
            "linecolor": "white",
            "showbackground": true,
            "ticks": "",
            "zerolinecolor": "white"
           },
           "yaxis": {
            "backgroundcolor": "#E5ECF6",
            "gridcolor": "white",
            "gridwidth": 2,
            "linecolor": "white",
            "showbackground": true,
            "ticks": "",
            "zerolinecolor": "white"
           },
           "zaxis": {
            "backgroundcolor": "#E5ECF6",
            "gridcolor": "white",
            "gridwidth": 2,
            "linecolor": "white",
            "showbackground": true,
            "ticks": "",
            "zerolinecolor": "white"
           }
          },
          "shapedefaults": {
           "line": {
            "color": "#2a3f5f"
           }
          },
          "ternary": {
           "aaxis": {
            "gridcolor": "white",
            "linecolor": "white",
            "ticks": ""
           },
           "baxis": {
            "gridcolor": "white",
            "linecolor": "white",
            "ticks": ""
           },
           "bgcolor": "#E5ECF6",
           "caxis": {
            "gridcolor": "white",
            "linecolor": "white",
            "ticks": ""
           }
          },
          "title": {
           "x": 0.05
          },
          "xaxis": {
           "automargin": true,
           "gridcolor": "white",
           "linecolor": "white",
           "ticks": "",
           "title": {
            "standoff": 15
           },
           "zerolinecolor": "white",
           "zerolinewidth": 2
          },
          "yaxis": {
           "automargin": true,
           "gridcolor": "white",
           "linecolor": "white",
           "ticks": "",
           "title": {
            "standoff": 15
           },
           "zerolinecolor": "white",
           "zerolinewidth": 2
          }
         }
        },
        "title": {
         "text": "Measured data"
        },
        "updatemenus": [
         {
          "buttons": [
           {
            "args": [
             {
              "visible": [
               false,
               false,
               false,
               false,
               false,
               false,
               false,
               false,
               false,
               false,
               false,
               false,
               true,
               true,
               true,
               true,
               true,
               true,
               true,
               true,
               true,
               true,
               true,
               true,
               true,
               true,
               true,
               true,
               true,
               true,
               false,
               false,
               false,
               false,
               false,
               false,
               false,
               false,
               false,
               false,
               false,
               false,
               false,
               false,
               false,
               false,
               false,
               false,
               false,
               false,
               false,
               false,
               false,
               false,
               false,
               false,
               false,
               false,
               false,
               false,
               false,
               false,
               false,
               false,
               false,
               false,
               false,
               false,
               false,
               false,
               false,
               false,
               false,
               false,
               false,
               false,
               false,
               false,
               false,
               false,
               false,
               false,
               false,
               false,
               true,
               true,
               true,
               true,
               true,
               true
              ]
             }
            ],
            "args2": [
             {
              "visible": [
               true,
               true,
               true,
               true,
               true,
               true,
               true,
               true,
               true,
               true,
               true,
               true,
               false,
               false,
               false,
               false,
               false,
               false,
               false,
               false,
               false,
               false,
               false,
               false,
               false,
               false,
               false,
               false,
               false,
               false,
               false,
               false,
               false,
               false,
               false,
               false,
               false,
               false,
               false,
               false,
               false,
               false,
               false,
               false,
               false,
               false,
               false,
               false,
               false,
               false,
               false,
               false,
               false,
               false,
               false,
               false,
               false,
               false,
               false,
               false,
               false,
               false,
               false,
               false,
               false,
               false,
               false,
               false,
               false,
               false,
               false,
               false,
               false,
               false,
               false,
               false,
               false,
               false,
               false,
               false,
               false,
               false,
               false,
               false,
               true,
               true,
               true,
               true,
               true,
               true
              ]
             }
            ],
            "label": "Averages",
            "method": "restyle",
            "visible": true
           }
          ],
          "direction": "right",
          "showactive": true,
          "type": "buttons",
          "x": 0.7,
          "y": 1.3
         }
        ],
        "xaxis": {
         "title": {
          "text": "time (min)"
         }
        },
        "yaxis": {
         "range": [
          -0.01569341991606269,
          0.3295618182373165
         ],
         "title": {
          "text": "p-NP (mmol / l)"
         }
        }
       }
      }
     },
     "metadata": {},
     "output_type": "display_data"
    }
   ],
   "source": [
    "estimator.visualize_model_overview()"
   ]
  }
 ],
 "metadata": {
  "kernelspec": {
   "display_name": "kinetics",
   "language": "python",
   "name": "python3"
  },
  "language_info": {
   "codemirror_mode": {
    "name": "ipython",
    "version": 3
   },
   "file_extension": ".py",
   "mimetype": "text/x-python",
   "name": "python",
   "nbconvert_exporter": "python",
   "pygments_lexer": "ipython3",
   "version": "3.10.9"
  },
  "orig_nbformat": 4
 },
 "nbformat": 4,
 "nbformat_minor": 2
}
