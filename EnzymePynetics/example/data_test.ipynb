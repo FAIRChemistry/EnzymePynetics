{
 "cells": [
  {
   "cell_type": "code",
   "execution_count": 8,
   "metadata": {},
   "outputs": [],
   "source": [
    "from sdRDM import DataModel\n",
    "from scipy.integrate import odeint\n",
    "from matplotlib import pyplot as plt\n",
    "import numpy as np"
   ]
  },
  {
   "cell_type": "code",
   "execution_count": 9,
   "metadata": {},
   "outputs": [],
   "source": [
    "params = dict(K_m=17, k_cat=12, k_ie=0.1, K_ic=10)\n",
    "\n",
    "\n",
    "enzyme_conc = 1\n",
    "init_substrates = np.linspace(10, 60, 3)\n",
    "init_enzymes = np.repeat(enzyme_conc, 3)\n",
    "init_product = np.zeros(3)\n",
    "\n",
    "w0s = np.append(init_substrates, init_enzymes).reshape(2, 3)\n",
    "w0s = np.append(w0s, init_product).reshape(3, 3).T\n",
    "time = np.linspace(0, 10, 20)\n",
    "\n",
    "\n",
    "def model(w0, t, params):\n",
    "    s, e, p = w0\n",
    "    ds = -s * e * params[\"k_cat\"] / \\\n",
    "        (params[\"K_m\"] * (1 + (p / params[\"K_ic\"])) + s)\n",
    "    de = -params[\"k_ie\"] * e\n",
    "\n",
    "    return [ds, de, -ds]\n",
    "\n",
    "\n",
    "def simulate(w0s, t, **params):\n",
    "    return np.array([odeint(model, w0, t, args=(params,)) for w0 in w0s])\n",
    "\n",
    "\n",
    "sim_substrate = simulate(w0s, time, **params)[:, :, 0]"
   ]
  },
  {
   "cell_type": "code",
   "execution_count": 10,
   "metadata": {},
   "outputs": [
    {
     "data": {
      "image/png": "[encoded data removed]",
      "text/plain": [
       "<Figure size 640x480 with 1 Axes>"
      ]
     },
     "metadata": {},
     "output_type": "display_data"
    }
   ],
   "source": [
    "for substrate in sim_substrate:\n",
    "    plt.plot(time, substrate)"
   ]
  },
  {
   "cell_type": "code",
   "execution_count": 11,
   "metadata": {},
   "outputs": [],
   "source": [
    "pe = DataModel.from_git(\n",
    "    \"https://github.com/EnzymeML/enzymeml-specifications.git\")"
   ]
  },
  {
   "cell_type": "code",
   "execution_count": 12,
   "metadata": {},
   "outputs": [],
   "source": [
    "unit = \"mmol / l\""
   ]
  },
  {
   "cell_type": "code",
   "execution_count": 13,
   "metadata": {},
   "outputs": [
    {
     "name": "stdout",
     "output_type": "stream",
     "text": [
      "\u001b[4mMeasurement\u001b[0m\n",
      "├── \u001b[94mid\u001b[0m = measurement5\n",
      "├── \u001b[94mname\u001b[0m = measurement\n",
      "├── \u001b[94mtemperature\u001b[0m = 30.0\n",
      "├── \u001b[94mtemperature_unit\u001b[0m = C\n",
      "├── \u001b[94mph\u001b[0m = 4.0\n",
      "├── \u001b[94mspecies\u001b[0m\n",
      "│   ├── 0\n",
      "│   │   └── \u001b[4mMeasurementData\u001b[0m\n",
      "│   │       ├── \u001b[94mid\u001b[0m = measurementdata15\n",
      "│   │       ├── \u001b[94minit_conc\u001b[0m = 60.0\n",
      "│   │       ├── \u001b[94munit\u001b[0m = mmol / l\n",
      "│   │       ├── \u001b[94mmeasurement_id\u001b[0m = measurement5\n",
      "│   │       ├── \u001b[94mspecies_id\u001b[0m = reactant2\n",
      "│   │       └── \u001b[94mreplicates\u001b[0m\n",
      "│   │           └── 0\n",
      "│   │               └── \u001b[4mReplicate\u001b[0m\n",
      "│   │                   ├── \u001b[94mid\u001b[0m = replicate5\n",
      "│   │                   ├── \u001b[94mspecies_id\u001b[0m = reactant2\n",
      "│   │                   ├── \u001b[94mmeasurement_id\u001b[0m = measurement5\n",
      "│   │                   ├── \u001b[94mdata_type\u001b[0m = conc\n",
      "│   │                   ├── \u001b[94mdata_unit\u001b[0m = mmol / l\n",
      "│   │                   ├── \u001b[94mtime_unit\u001b[0m = min\n",
      "│   │                   ├── \u001b[94mtime\u001b[0m = [0.0, 0.5263157894736842, 1.0526315789473684, 1.5789473684210527, 2.1052631578947367, ...]\n",
      "│   │                   ├── \u001b[94mdata\u001b[0m = [60.0, 55.48266578195172, 51.64886832746787, 48.35413508035812, 45.49382121145668, ...]\n",
      "│   │                   └── \u001b[94mis_calculated\u001b[0m = False\n",
      "│   ├── 1\n",
      "│   │   └── \u001b[4mMeasurementData\u001b[0m\n",
      "│   │       ├── \u001b[94mid\u001b[0m = measurementdata16\n",
      "│   │       ├── \u001b[94minit_conc\u001b[0m = 0.0\n",
      "│   │       ├── \u001b[94munit\u001b[0m = mmol / l\n",
      "│   │       ├── \u001b[94mmeasurement_id\u001b[0m = measurement5\n",
      "│   │       └── \u001b[94mspecies_id\u001b[0m = reactant3\n",
      "│   └── 2\n",
      "│       └── \u001b[4mMeasurementData\u001b[0m\n",
      "│           ├── \u001b[94mid\u001b[0m = measurementdata17\n",
      "│           ├── \u001b[94minit_conc\u001b[0m = 1.0\n",
      "│           ├── \u001b[94munit\u001b[0m = mmol / l\n",
      "│           ├── \u001b[94mmeasurement_id\u001b[0m = measurement5\n",
      "│           └── \u001b[94mspecies_id\u001b[0m = p0\n",
      "└── \u001b[94mglobal_time_unit\u001b[0m = min\n",
      "\n"
     ]
    }
   ],
   "source": [
    "doc = pe.EnzymeMLDocument(name=\"simulated data\")\n",
    "\n",
    "vessel = doc.add_to_vessels(name=\"vessel\", volume=1, unit=\"litre\")\n",
    "\n",
    "substrate = doc.add_to_reactants(\n",
    "    name=\"substrate\", vessel_id=vessel.id, constant=False)\n",
    "\n",
    "product = doc.add_to_reactants(\n",
    "    name=\"product\", vessel_id=vessel.id, constant=False)\n",
    "\n",
    "enzyme = doc.add_to_proteins(\n",
    "    id=\"p0\", name=\"enzyme\", vessel_id=vessel.id, sequence=\"MSDGJSDGSDFGBSFBS\", constant=False\n",
    ")\n",
    "\n",
    "for data, init_conc in zip(sim_substrate, init_substrates):\n",
    "    measurement = doc.add_to_measurements(\n",
    "        name=\"measurement\",\n",
    "        ph=4,\n",
    "        temperature=30,\n",
    "        temperature_unit=\"C\",\n",
    "        global_time_unit=\"min\",\n",
    "    )\n",
    "\n",
    "    # Substrate\n",
    "    sub = measurement.add_to_species(\n",
    "        init_conc=init_conc,\n",
    "        species_id=substrate.id,\n",
    "        unit=unit,\n",
    "        measurement_id=measurement.id,\n",
    "    )\n",
    "    sub.add_to_replicates(\n",
    "        species_id=substrate.id,\n",
    "        measurement_id=measurement.id,\n",
    "        time=time,\n",
    "        data=data,\n",
    "        data_unit=unit,\n",
    "        time_unit=\"min\",\n",
    "    )\n",
    "\n",
    "    # Product\n",
    "    prod = measurement.add_to_species(\n",
    "        init_conc=0,\n",
    "        unit=unit,\n",
    "        species_id=product.id,\n",
    "        measurement_id=measurement.id,\n",
    "    )\n",
    "\n",
    "    # Enzyme\n",
    "    enz = measurement.add_to_species(\n",
    "        init_conc=enzyme_conc,\n",
    "        unit=unit,\n",
    "        species_id=enzyme.id,\n",
    "        measurement_id=measurement.id,\n",
    "    )\n",
    "\n",
    "print(measurement)"
   ]
  },
  {
   "cell_type": "code",
   "execution_count": 14,
   "metadata": {},
   "outputs": [],
   "source": [
    "with open(\"simulated_enzymeML.json\", \"w\") as f:\n",
    "    f.write(doc.json())"
   ]
  }
 ],
 "metadata": {
  "kernelspec": {
   "display_name": "sdrdm_example",
   "language": "python",
   "name": "python3"
  },
  "language_info": {
   "codemirror_mode": {
    "name": "ipython",
    "version": 3
   },
   "file_extension": ".py",
   "mimetype": "text/x-python",
   "name": "python",
   "nbconvert_exporter": "python",
   "pygments_lexer": "ipython3",
   "version": "3.11.3"
  },
  "orig_nbformat": 4
 },
 "nbformat": 4,
 "nbformat_minor": 2
}
