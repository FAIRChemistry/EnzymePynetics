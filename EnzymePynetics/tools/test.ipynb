{
 "cells": [
  {
   "cell_type": "code",
   "execution_count": 1,
   "metadata": {},
   "outputs": [],
   "source": [
    "import pyenzyme as pe\n",
    "\n",
    "from parameterestimator import ParameterEstimator\n"
   ]
  },
  {
   "cell_type": "code",
   "execution_count": 2,
   "metadata": {},
   "outputs": [],
   "source": [
    "enzmldoc = pe.EnzymeMLDocument.fromFile(\n",
    "    \"/Users/maxhaussler/Documents/code/papers/MTP_inhibition/data/SLAC/ABTS_oxidation_pH_3.0_and_25.0°C.omex\"\n",
    ")"
   ]
  },
  {
   "cell_type": "code",
   "execution_count": 3,
   "metadata": {},
   "outputs": [
    {
     "ename": "UnboundLocalError",
     "evalue": "local variable 'kineticmodel' referenced before assignment",
     "output_type": "error",
     "traceback": [
      "\u001b[0;31m---------------------------------------------------------------------------\u001b[0m",
      "\u001b[0;31mUnboundLocalError\u001b[0m                         Traceback (most recent call last)",
      "Cell \u001b[0;32mIn [3], line 4\u001b[0m\n\u001b[1;32m      1\u001b[0m slac_parameters \u001b[39m=\u001b[39m ParameterEstimator\u001b[39m.\u001b[39mfrom_EnzymeML(enzmldoc\u001b[39m=\u001b[39menzmldoc, \n\u001b[1;32m      2\u001b[0m                                                           reactant_id\u001b[39m=\u001b[39m\u001b[39m\"\u001b[39m\u001b[39ms0\u001b[39m\u001b[39m\"\u001b[39m,\n\u001b[1;32m      3\u001b[0m                                                           measured_species\u001b[39m=\u001b[39m\u001b[39m\"\u001b[39m\u001b[39msubstrate\u001b[39m\u001b[39m\"\u001b[39m)\n\u001b[0;32m----> 4\u001b[0m slac_parameters\u001b[39m.\u001b[39;49mfit_models(enzyme_inactivation\u001b[39m=\u001b[39;49m\u001b[39mTrue\u001b[39;49;00m)\n\u001b[1;32m      5\u001b[0m slac_parameters\u001b[39m.\u001b[39mvisualize()\n",
      "File \u001b[0;32m~/Dropbox/master_thesis/code/EnzymePynetics/EnzymePynetics/tools/parameterestimator.py:76\u001b[0m, in \u001b[0;36mParameterEstimator.fit_models\u001b[0;34m(self, initial_substrate_concs, start_time_index, stop_time_index, enzyme_inactivation, only_irrev_MM, display_output)\u001b[0m\n\u001b[1;32m     67\u001b[0m \u001b[39m# Initialize kinetics models\u001b[39;00m\n\u001b[1;32m     68\u001b[0m \u001b[39mself\u001b[39m\u001b[39m.\u001b[39mmodels \u001b[39m=\u001b[39m \u001b[39mself\u001b[39m\u001b[39m.\u001b[39m_initialize_models(\n\u001b[1;32m     69\u001b[0m     substrate\u001b[39m=\u001b[39m\u001b[39mself\u001b[39m\u001b[39m.\u001b[39msubset_substrate,\n\u001b[1;32m     70\u001b[0m     product\u001b[39m=\u001b[39m\u001b[39mself\u001b[39m\u001b[39m.\u001b[39msubset_product,\n\u001b[0;32m   (...)\u001b[0m\n\u001b[1;32m     73\u001b[0m     initial_substrate\u001b[39m=\u001b[39m\u001b[39mself\u001b[39m\u001b[39m.\u001b[39msubset_initial_substrate,\n\u001b[1;32m     74\u001b[0m     only_irrev_MM\u001b[39m=\u001b[39monly_irrev_MM)\n\u001b[0;32m---> 76\u001b[0m \u001b[39mself\u001b[39;49m\u001b[39m.\u001b[39;49m_run_minimization(display_output)\n\u001b[1;32m     78\u001b[0m \u001b[39mself\u001b[39m\u001b[39m.\u001b[39mresult_dict \u001b[39m=\u001b[39m \u001b[39mself\u001b[39m\u001b[39m.\u001b[39m_result_overview()\n\u001b[1;32m     79\u001b[0m \u001b[39mif\u001b[39;00m display_output:\n",
      "File \u001b[0;32m~/Dropbox/master_thesis/code/EnzymePynetics/EnzymePynetics/tools/parameterestimator.py:488\u001b[0m, in \u001b[0;36mParameterEstimator._run_minimization\u001b[0;34m(self, display_output)\u001b[0m\n\u001b[1;32m    480\u001b[0m \u001b[39mdef\u001b[39;00m \u001b[39m_run_minimization\u001b[39m(\u001b[39mself\u001b[39m, display_output: \u001b[39mbool\u001b[39m) \u001b[39m-\u001b[39m\u001b[39m>\u001b[39m DataFrame:\n\u001b[1;32m    481\u001b[0m     \u001b[39m\"\"\"Performs non-linear least-squared minimization to fit the data to the kinetic \u001b[39;00m\n\u001b[1;32m    482\u001b[0m \u001b[39m    models by adjusting the kinetic parameters of the models.\u001b[39;00m\n\u001b[1;32m    483\u001b[0m \n\u001b[1;32m    484\u001b[0m \u001b[39m    Returns:\u001b[39;00m\n\u001b[1;32m    485\u001b[0m \u001b[39m        DataFrame: Overview of the kinetic parameters of all kinetic models.\u001b[39;00m\n\u001b[1;32m    486\u001b[0m \u001b[39m    \"\"\"\u001b[39;00m\n\u001b[0;32m--> 488\u001b[0m     \u001b[39mprint\u001b[39m(kineticmodel\u001b[39m.\u001b[39mw0\u001b[39m.\u001b[39mvalues())\n\u001b[1;32m    490\u001b[0m     \u001b[39mif\u001b[39;00m display_output:\n\u001b[1;32m    491\u001b[0m         \u001b[39mprint\u001b[39m(\u001b[39m\"\u001b[39m\u001b[39mFitting data to:\u001b[39m\u001b[39m\"\u001b[39m)\n",
      "\u001b[0;31mUnboundLocalError\u001b[0m: local variable 'kineticmodel' referenced before assignment"
     ]
    }
   ],
   "source": [
    "slac_parameters = ParameterEstimator.from_EnzymeML(enzmldoc=enzmldoc, \n",
    "                                                          reactant_id=\"s0\",\n",
    "                                                          measured_species=\"substrate\")\n",
    "slac_parameters.fit_models(enzyme_inactivation=True)\n",
    "slac_parameters.visualize()"
   ]
  }
 ],
 "metadata": {
  "kernelspec": {
   "display_name": "sdRDMexample",
   "language": "python",
   "name": "python3"
  },
  "language_info": {
   "codemirror_mode": {
    "name": "ipython",
    "version": 3
   },
   "file_extension": ".py",
   "mimetype": "text/x-python",
   "name": "python",
   "nbconvert_exporter": "python",
   "pygments_lexer": "ipython3",
   "version": "3.10.6"
  },
  "orig_nbformat": 4,
  "vscode": {
   "interpreter": {
    "hash": "cb7e5706ff0a183b663cca8033cb86dc614d7d001b1ce03ac799750a4e1b000f"
   }
  }
 },
 "nbformat": 4,
 "nbformat_minor": 2
}
