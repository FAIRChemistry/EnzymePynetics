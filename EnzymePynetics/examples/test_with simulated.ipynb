{
 "cells": [
  {
   "cell_type": "code",
   "execution_count": 1,
   "metadata": {},
   "outputs": [],
   "source": [
    "%reload_ext autoreload\n",
    "%autoreload 2\n",
    "from EnzymePynetics import Estimator"
   ]
  },
  {
   "cell_type": "code",
   "execution_count": 2,
   "metadata": {},
   "outputs": [],
   "source": [
    "estimator, enzymeml = Estimator.from_enzymeml(\n",
    "    enzymeml=\"simulated_enzymeML.json\",\n",
    "    measured_reactant=\"substrate\",\n",
    ")"
   ]
  },
  {
   "cell_type": "code",
   "execution_count": 3,
   "metadata": {},
   "outputs": [],
   "source": [
    "substrate, product = estimator.reactants\n",
    "enzyme = estimator.enzymes[0]"
   ]
  },
  {
   "cell_type": "code",
   "execution_count": 4,
   "metadata": {},
   "outputs": [],
   "source": [
    "# Define Reaction\n",
    "oxidation = estimator.add_reaction(\n",
    "    id=\"r1\", name=\"Oxidation\", educt=substrate, product=product, enzyme=enzyme\n",
    ")"
   ]
  },
  {
   "cell_type": "code",
   "execution_count": null,
   "metadata": {},
   "outputs": [],
   "source": []
  },
  {
   "cell_type": "code",
   "execution_count": 5,
   "metadata": {},
   "outputs": [],
   "source": [
    "# Define potential substrate rate-laws\n",
    "michaelis = estimator.add_model(\n",
    "    id=\"model1\",\n",
    "    name=\"michaelis-menten\",\n",
    "    equation=\"substrate = -substrate * enzyme * k_cat / (K_m + substrate)\",\n",
    ")\n",
    "\n",
    "competitive_product = estimator.add_model(\n",
    "    id=\"model3\",\n",
    "    name=\"competitive product inhibition\",\n",
    "    equation=\"substrate = -substrate * enzyme * k_cat / (K_m * (1 + product / K_ic) + substrate)\",\n",
    ")\n",
    "\n",
    "substrate_inhibition = estimator.add_model(\n",
    "    id=\"model4\",\n",
    "    name=\"substrate inhibition\",\n",
    "    equation=\"substrate = -k_cat * enzyme * substrate / (K_m + ((1+(substrate/K_iu))*substrate))\",\n",
    ")\n",
    "\n",
    "# Define potential enzyme rate-laws\n",
    "enzyme_inactivation = estimator.add_model(\n",
    "    id=\"model2\",\n",
    "    name=\"enzyme inactivation\",\n",
    "    equation=\"enzyme = -k_ie * enzyme\",\n",
    ")"
   ]
  },
  {
   "cell_type": "code",
   "execution_count": 6,
   "metadata": {},
   "outputs": [
    {
     "name": "stderr",
     "output_type": "stream",
     "text": [
      "/Users/max/miniconda3/envs/pynetics/lib/python3.11/site-packages/sdRDM/base/datamodel.py:326: UserWarning: No 'URL' and 'Commit' specified. This model might not be re-usable.\n",
      "  warnings.warn(\n"
     ]
    },
    {
     "name": "stdout",
     "output_type": "stream",
     "text": [
      "Reactant\n",
      "├── id\n",
      "├── name\n",
      "├── vessel_id\n",
      "├── init_conc\n",
      "├── constant\n",
      "├── unit\n",
      "├── uri\n",
      "├── creator_id\n",
      "├── smiles\n",
      "├── inchi\n",
      "├── chebi_id\n",
      "└── ontology\n"
     ]
    },
    {
     "ename": "TypeError",
     "evalue": "Can't compare 'Reactant' to type ''",
     "output_type": "error",
     "traceback": [
      "\u001b[0;31m---------------------------------------------------------------------------\u001b[0m",
      "\u001b[0;31mTypeError\u001b[0m                                 Traceback (most recent call last)",
      "File \u001b[0;32m~/miniconda3/envs/pynetics/lib/python3.11/site-packages/sdRDM/base/datamodel.py:1037\u001b[0m, in \u001b[0;36mDataModel.__eq__\u001b[0;34m(self, _DataModel__value)\u001b[0m\n\u001b[1;32m   1036\u001b[0m \u001b[39mtry\u001b[39;00m:\n\u001b[0;32m-> 1037\u001b[0m     hashlib\u001b[39m.\u001b[39;49mmd5(__value)\n\u001b[1;32m   1038\u001b[0m \u001b[39mexcept\u001b[39;00m \u001b[39mTypeError\u001b[39;00m:\n",
      "\u001b[0;31mTypeError\u001b[0m: object supporting the buffer API required",
      "\nDuring handling of the above exception, another exception occurred:\n",
      "\u001b[0;31mTypeError\u001b[0m                                 Traceback (most recent call last)",
      "\u001b[1;32m/Users/max/code/EnzymePynetics/EnzymePynetics/examples/test_with simulated.ipynb Cell 7\u001b[0m line \u001b[0;36m1\n\u001b[0;32m----> <a href='vscode-notebook-cell:/Users/max/code/EnzymePynetics/EnzymePynetics/examples/test_with%20simulated.ipynb#W6sZmlsZQ%3D%3D?line=0'>1</a>\u001b[0m estimator\u001b[39m.\u001b[39;49mfit_models()\n",
      "File \u001b[0;32m~/code/EnzymePynetics/EnzymePynetics/core/estimator.py:342\u001b[0m, in \u001b[0;36mEstimator.fit_models\u001b[0;34m(self, max_time, n_jobs)\u001b[0m\n\u001b[1;32m    339\u001b[0m \u001b[39mdef\u001b[39;00m \u001b[39mfit_models\u001b[39m(\u001b[39mself\u001b[39m, max_time: \u001b[39mfloat\u001b[39m \u001b[39m=\u001b[39m \u001b[39mNone\u001b[39;00m, n_jobs: \u001b[39mint\u001b[39m \u001b[39m=\u001b[39m \u001b[39m-\u001b[39m\u001b[39m1\u001b[39m):\n\u001b[1;32m    340\u001b[0m     \u001b[39mself\u001b[39m\u001b[39m.\u001b[39m_create_model_combinations()\n\u001b[0;32m--> 342\u001b[0m     substrate, enzyme, product, time \u001b[39m=\u001b[39m \u001b[39mself\u001b[39;49m\u001b[39m.\u001b[39;49m_remove_nans()\n\u001b[1;32m    344\u001b[0m     \u001b[39mif\u001b[39;00m max_time:\n\u001b[1;32m    345\u001b[0m         substrate, enzyme, product, time \u001b[39m=\u001b[39m \u001b[39mself\u001b[39m\u001b[39m.\u001b[39m_subset_time(\n\u001b[1;32m    346\u001b[0m             max_time, substrate, enzyme, product, time\n\u001b[1;32m    347\u001b[0m         )\n",
      "File \u001b[0;32m~/code/EnzymePynetics/EnzymePynetics/core/estimator.py:316\u001b[0m, in \u001b[0;36mEstimator._remove_nans\u001b[0;34m(self)\u001b[0m\n\u001b[1;32m    313\u001b[0m nan_mask \u001b[39m=\u001b[39m np\u001b[39m.\u001b[39misnan(\u001b[39mself\u001b[39m\u001b[39m.\u001b[39msubstrate_data)\u001b[39m.\u001b[39many(axis\u001b[39m=\u001b[39m\u001b[39m1\u001b[39m)\n\u001b[1;32m    315\u001b[0m substrate_data \u001b[39m=\u001b[39m \u001b[39mself\u001b[39m\u001b[39m.\u001b[39msubstrate_data[\u001b[39m~\u001b[39mnan_mask]\n\u001b[0;32m--> 316\u001b[0m product_data \u001b[39m=\u001b[39m \u001b[39mself\u001b[39;49m\u001b[39m.\u001b[39;49mproduct_data[\u001b[39m~\u001b[39mnan_mask]\n\u001b[1;32m    317\u001b[0m enzyme_data \u001b[39m=\u001b[39m \u001b[39mself\u001b[39m\u001b[39m.\u001b[39menzyme_data[\u001b[39m~\u001b[39mnan_mask]\n\u001b[1;32m    318\u001b[0m time_data \u001b[39m=\u001b[39m \u001b[39mself\u001b[39m\u001b[39m.\u001b[39mtime_data[\u001b[39m~\u001b[39mnan_mask]\n",
      "File \u001b[0;32m~/code/EnzymePynetics/EnzymePynetics/core/estimator.py:818\u001b[0m, in \u001b[0;36mEstimator.product_data\u001b[0;34m(self)\u001b[0m\n\u001b[1;32m    816\u001b[0m     \u001b[39mreturn\u001b[39;00m \u001b[39mself\u001b[39m\u001b[39m.\u001b[39m_get_measured_data(\u001b[39mself\u001b[39m\u001b[39m.\u001b[39mproduct)\n\u001b[1;32m    817\u001b[0m \u001b[39melse\u001b[39;00m:\n\u001b[0;32m--> 818\u001b[0m     \u001b[39mreturn\u001b[39;00m \u001b[39mself\u001b[39;49m\u001b[39m.\u001b[39;49m_calculate_missing_reactant(\u001b[39mself\u001b[39;49m\u001b[39m.\u001b[39;49msubstrate)\n",
      "File \u001b[0;32m~/code/EnzymePynetics/EnzymePynetics/core/estimator.py:830\u001b[0m, in \u001b[0;36mEstimator._calculate_missing_reactant\u001b[0;34m(self, existing_reactant)\u001b[0m\n\u001b[1;32m    828\u001b[0m \u001b[39mdef\u001b[39;00m \u001b[39m_calculate_missing_reactant\u001b[39m(\u001b[39mself\u001b[39m, existing_reactant: Reactant):\n\u001b[1;32m    829\u001b[0m     \u001b[39m# calculate_product\u001b[39;00m\n\u001b[0;32m--> 830\u001b[0m     \u001b[39mif\u001b[39;00m existing_reactant \u001b[39m==\u001b[39;49m \u001b[39mself\u001b[39;49m\u001b[39m.\u001b[39;49msubstrate:\n\u001b[1;32m    831\u001b[0m         \u001b[39mreturn\u001b[39;00m \u001b[39mself\u001b[39m\u001b[39m.\u001b[39minit_substrate_data[:, \u001b[39mNone\u001b[39;00m] \u001b[39m-\u001b[39m \u001b[39mself\u001b[39m\u001b[39m.\u001b[39msubstrate_data\n\u001b[1;32m    833\u001b[0m     \u001b[39m# calculate substrate\u001b[39;00m\n\u001b[1;32m    834\u001b[0m     \u001b[39melse\u001b[39;00m:\n",
      "File \u001b[0;32m~/miniconda3/envs/pynetics/lib/python3.11/site-packages/sdRDM/base/datamodel.py:1039\u001b[0m, in \u001b[0;36mDataModel.__eq__\u001b[0;34m(self, _DataModel__value)\u001b[0m\n\u001b[1;32m   1037\u001b[0m     hashlib\u001b[39m.\u001b[39mmd5(__value)\n\u001b[1;32m   1038\u001b[0m \u001b[39mexcept\u001b[39;00m \u001b[39mTypeError\u001b[39;00m:\n\u001b[0;32m-> 1039\u001b[0m     \u001b[39mraise\u001b[39;00m \u001b[39mTypeError\u001b[39;00m(\n\u001b[1;32m   1040\u001b[0m         \u001b[39mf\u001b[39m\u001b[39m\"\u001b[39m\u001b[39mCan\u001b[39m\u001b[39m'\u001b[39m\u001b[39mt compare \u001b[39m\u001b[39m'\u001b[39m\u001b[39m{\u001b[39;00m\u001b[39mself\u001b[39m\u001b[39m.\u001b[39m\u001b[39m__class__\u001b[39m\u001b[39m.\u001b[39m\u001b[39m__name__\u001b[39m\u001b[39m}\u001b[39;00m\u001b[39m'\u001b[39m\u001b[39m to type \u001b[39m\u001b[39m'\u001b[39m\u001b[39m{\u001b[39;00m\u001b[39mtype\u001b[39m(__value)\u001b[39m}\u001b[39;00m\u001b[39m'\u001b[39m\u001b[39m\"\u001b[39m\n\u001b[1;32m   1041\u001b[0m     )\n\u001b[1;32m   1042\u001b[0m \u001b[39mreturn\u001b[39;00m hashlib\u001b[39m.\u001b[39mmd5(\u001b[39mself\u001b[39m) \u001b[39m==\u001b[39m hashlib\u001b[39m.\u001b[39mmd5(__value)\n",
      "\u001b[0;31mTypeError\u001b[0m: Can't compare 'Reactant' to type ''"
     ]
    }
   ],
   "source": [
    "estimator.fit_models()"
   ]
  },
  {
   "cell_type": "code",
   "execution_count": null,
   "metadata": {},
   "outputs": [
    {
     "ename": "",
     "evalue": "",
     "output_type": "error",
     "traceback": [
      "\u001b[1;31mRunning cells with 'pynetics' requires the ipykernel package.\n",
      "\u001b[1;31mRun the following command to install 'ipykernel' into the Python environment. \n",
      "\u001b[1;31mCommand: 'conda install -n pynetics ipykernel --update-deps --force-reinstall'"
     ]
    }
   ],
   "source": [
    "estimator.visualize()"
   ]
  },
  {
   "cell_type": "code",
   "execution_count": null,
   "metadata": {},
   "outputs": [
    {
     "ename": "",
     "evalue": "",
     "output_type": "error",
     "traceback": [
      "\u001b[1;31mRunning cells with 'pynetics' requires the ipykernel package.\n",
      "\u001b[1;31mRun the following command to install 'ipykernel' into the Python environment. \n",
      "\u001b[1;31mCommand: 'conda install -n pynetics ipykernel --update-deps --force-reinstall'"
     ]
    }
   ],
   "source": [
    "# Get the best model system\n",
    "model_system = estimator.get_reaction_system(\n",
    "    \"competitive product inhibition with enzyme inactivation\"\n",
    ")\n",
    "\n",
    "# Safe the model system to the EnzymeML document\n",
    "enzymeml_with_kinetic_model = estimator.to_enzymeml(enzymeml, model_system)"
   ]
  },
  {
   "cell_type": "code",
   "execution_count": null,
   "metadata": {},
   "outputs": [
    {
     "ename": "",
     "evalue": "",
     "output_type": "error",
     "traceback": [
      "\u001b[1;31mRunning cells with 'pynetics' requires the ipykernel package.\n",
      "\u001b[1;31mRun the following command to install 'ipykernel' into the Python environment. \n",
      "\u001b[1;31mCommand: 'conda install -n pynetics ipykernel --update-deps --force-reinstall'"
     ]
    }
   ],
   "source": [
    "for reaction in enzymeml_with_kinetic_model.reactions:\n",
    "    print(reaction)"
   ]
  }
 ],
 "metadata": {
  "kernelspec": {
   "display_name": "sdrdm_example",
   "language": "python",
   "name": "python3"
  },
  "language_info": {
   "codemirror_mode": {
    "name": "ipython",
    "version": 3
   },
   "file_extension": ".py",
   "mimetype": "text/x-python",
   "name": "python",
   "nbconvert_exporter": "python",
   "pygments_lexer": "ipython3",
   "version": "3.11.5"
  },
  "orig_nbformat": 4
 },
 "nbformat": 4,
 "nbformat_minor": 2
}
