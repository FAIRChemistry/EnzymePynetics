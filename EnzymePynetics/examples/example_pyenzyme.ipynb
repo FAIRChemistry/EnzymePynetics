{
 "cells": [
  {
   "cell_type": "code",
   "execution_count": 1,
   "metadata": {},
   "outputs": [],
   "source": [
    "import pyenzyme as pe"
   ]
  },
  {
   "cell_type": "code",
   "execution_count": 27,
   "metadata": {},
   "outputs": [],
   "source": [
    "doc = pe.EnzymeMLDocument(name=\"test\")\n",
    "\n",
    "vessel = doc.addVessel(pe.Vessel(name=\"vessle\"))\n",
    "\n",
    "substrate = doc.addReactant(pe.Reactant(name=\"abts\", vessel_id=vessel))\n",
    "\n",
    "product = doc.addReactant(pe.Reactant(name=\"radical\", vessel_id=vessel))\n",
    "\n",
    "protein = doc.addProtein(pe.Protein(name=\"slac\", vessel_id=vessel))"
   ]
  },
  {
   "cell_type": "code",
   "execution_count": 29,
   "metadata": {},
   "outputs": [
    {
     "ename": "ModuleNotFoundError",
     "evalue": "No module named 'pyenzyme.models'",
     "output_type": "error",
     "traceback": [
      "\u001b[0;31m---------------------------------------------------------------------------\u001b[0m",
      "\u001b[0;31mModuleNotFoundError\u001b[0m                       Traceback (most recent call last)",
      "\u001b[1;32m/Users/max/code/EnzymePynetics/EnzymePynetics/examples/example_pyenzyme.ipynb Cell 3\u001b[0m line \u001b[0;36m1\n\u001b[0;32m----> <a href='vscode-notebook-cell:/Users/max/code/EnzymePynetics/EnzymePynetics/examples/example_pyenzyme.ipynb#W3sZmlsZQ%3D%3D?line=0'>1</a>\u001b[0m \u001b[39mfrom\u001b[39;00m \u001b[39mpyenzyme\u001b[39;00m\u001b[39m.\u001b[39;00m\u001b[39mmodels\u001b[39;00m\u001b[39m.\u001b[39;00m\u001b[39mmichaelismenten\u001b[39;00m \u001b[39mimport\u001b[39;00m MichaelisMentenKCat\n",
      "\u001b[0;31mModuleNotFoundError\u001b[0m: No module named 'pyenzyme.models'"
     ]
    }
   ],
   "source": [
    "from pyenzyme import "
   ]
  },
  {
   "cell_type": "code",
   "execution_count": 26,
   "metadata": {},
   "outputs": [
    {
     "name": "stdout",
     "output_type": "stream",
     "text": [
      "name='my reaction' equation='sdfgsd = wef * 2' parameters=[] ontology=None\n"
     ]
    }
   ],
   "source": [
    "reaction = pe.EnzymeReaction(name=\"reaction\", vessel_id=vessel, reversible=False)\n",
    "\n",
    "reaction.addEduct(species_id=substrate, stoichiometry=1, enzmldoc=doc)\n",
    "\n",
    "reaction.addProduct(species_id=product, stoichiometry=1, enzmldoc=doc)\n",
    "\n",
    "reaction.addModifier(species_id=protein, stoichiometry=1, constant=True, enzmldoc=doc)\n",
    "\n",
    "# reaction.model = pe.KineticModel(name=\"my reaction\", equation=\"sdfgsd = wef * 2\")\n",
    "example_gen = pe.KineticModel.createGenerator(\n",
    "    name=\"Example-Model\", equation=\"param * substrate\", param={\"unit\": \"1 / s\"}\n",
    ")\n",
    "\n",
    "print(reaction.model)"
   ]
  },
  {
   "cell_type": "code",
   "execution_count": 33,
   "metadata": {},
   "outputs": [],
   "source": [
    "doc = pe.EnzymeMLDocument.fromFile(\"Model_4.omex\")\n",
    "\n",
    "with open(\"model.xml\", \"w\") as f:\n",
    "    f.write(doc.toXMLString())"
   ]
  },
  {
   "cell_type": "code",
   "execution_count": 42,
   "metadata": {},
   "outputs": [
    {
     "data": {
      "text/plain": [
       "[ReactionElement(species_id='c0', stoichiometry=1.0, constant=False, ontology=<SBOTerm.SUBSTRATE: 'SBO:0000015'>)]"
      ]
     },
     "execution_count": 42,
     "metadata": {},
     "output_type": "execute_result"
    }
   ],
   "source": [
    "doc.reaction_dict[\"r1\"].educts"
   ]
  }
 ],
 "metadata": {
  "kernelspec": {
   "display_name": "sdrdm_example",
   "language": "python",
   "name": "python3"
  },
  "language_info": {
   "codemirror_mode": {
    "name": "ipython",
    "version": 3
   },
   "file_extension": ".py",
   "mimetype": "text/x-python",
   "name": "python",
   "nbconvert_exporter": "python",
   "pygments_lexer": "ipython3",
   "version": "3.11.3"
  }
 },
 "nbformat": 4,
 "nbformat_minor": 2
}
