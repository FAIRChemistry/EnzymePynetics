{
 "cells": [
  {
   "attachments": {},
   "cell_type": "markdown",
   "metadata": {},
   "source": [
    "# Generate test data"
   ]
  },
  {
   "cell_type": "code",
   "execution_count": 296,
   "metadata": {},
   "outputs": [],
   "source": [
    "from lmfit import Parameters, report_fit, minimize\n",
    "from scipy.integrate import odeint\n",
    "import numpy as np\n",
    "import matplotlib.pyplot as plt\n",
    "\n",
    "\n",
    "%pwd\n",
    "from EnzymePynetics.core.measurement import Measurement\n",
    "from EnzymePynetics.core.enzymekinetics import EnzymeKinetics\n",
    "from EnzymePynetics.core.species import Species\n",
    "from EnzymePynetics.core.series import Series\n"
   ]
  },
  {
   "attachments": {},
   "cell_type": "markdown",
   "metadata": {},
   "source": [
    "## Irreversible MM"
   ]
  },
  {
   "cell_type": "code",
   "execution_count": 297,
   "metadata": {},
   "outputs": [],
   "source": [
    "# Parameters of test reaction system\n",
    "KM = 4\n",
    "KCAT = 12\n",
    "\n",
    "init_sub = [0.5, 2, 8, 15, 30]\n",
    "enzyme = 0.01"
   ]
  },
  {
   "cell_type": "code",
   "execution_count": 298,
   "metadata": {},
   "outputs": [],
   "source": [
    "# Parameters for data generation\n",
    "params = Parameters()\n",
    "params.add(\"k_cat\", value=KCAT, min=0.01*KCAT, max=100*KCAT)\n",
    "params.add(\"K_m\", value=KM, min=0.01*KM, max=100*KM)"
   ]
  },
  {
   "cell_type": "code",
   "execution_count": 299,
   "metadata": {},
   "outputs": [],
   "source": [
    "# Kinetic model\n",
    "def menten_irrev(w0: tuple, t, params):\n",
    "    cS, cE, cP, cI = w0\n",
    "\n",
    "    k_cat = params['k_cat'].value\n",
    "    K_m = params['K_m'].value\n",
    "\n",
    "    dc_S = -k_cat * cE * cS / (K_m+cS)\n",
    "    dc_E = 0\n",
    "    dc_P = -dc_S\n",
    "    dc_I = 0\n",
    "\n",
    "    return (dc_S, dc_E, dc_P, dc_I)\n",
    "\n",
    "# Integrator for MM rate equation\n",
    "def g(t, w0, params):\n",
    "    '''\n",
    "    Solution to the ODE w'(t)=f(t,w,p) with initial condition w(0)= w0 (= [S0])\n",
    "    '''\n",
    "    w = odeint(menten_irrev, w0, t, args=(params,))\n",
    "    return w"
   ]
  },
  {
   "cell_type": "code",
   "execution_count": 300,
   "metadata": {},
   "outputs": [],
   "source": [
    "# Generate time-course data\n",
    "time = np.arange(21)\n",
    "\n",
    "substrate = np.empty((len(init_sub), len(time)))\n",
    "for i, conc in enumerate(init_sub):\n",
    "    substrate[i] = g(t=time, w0=(conc, enzyme, 0, 0), params=params).T[0]"
   ]
  },
  {
   "cell_type": "code",
   "execution_count": 301,
   "metadata": {},
   "outputs": [
    {
     "data": {
      "image/png": "[encoded data removed]",
      "text/plain": [
       "<Figure size 640x480 with 1 Axes>"
      ]
     },
     "metadata": {},
     "output_type": "display_data"
    }
   ],
   "source": [
    "for conc in substrate:\n",
    "    plt.scatter(time, conc)\n",
    "plt.show()    "
   ]
  },
  {
   "cell_type": "code",
   "execution_count": 302,
   "metadata": {},
   "outputs": [],
   "source": [
    "# Write data to json\n",
    "measurements=[]\n",
    "\n",
    "for init_substrate, sub in zip(init_sub, substrate):\n",
    "\n",
    "    species = Species(name=\"test substrate\",\n",
    "                      reactant_type=\"substrate\",\n",
    "                      conc_unit=\"mmole / l\",\n",
    "                      initial_conc=init_substrate,\n",
    "                      data=[Series(values=sub.tolist())])\n",
    "\n",
    "\n",
    "    measurements.append(Measurement(time_unit=\"min\", \n",
    "                                    time=time.tolist(),\n",
    "                                    enzyme_conc=enzyme,\n",
    "                                    temperature=37,\n",
    "                                    temperature_unit=\"C\",\n",
    "                                    pH=7,\n",
    "                                    species=[species]))\n",
    "    \n",
    "enzyme_kinetics = EnzymeKinetics(title=\"test irreversible MM\",\n",
    "                                 measurements=measurements)\n",
    "\n",
    "with open(\"irrev_MM.json\", \"w\") as f:\n",
    "    f.write(enzyme_kinetics.json())"
   ]
  },
  {
   "attachments": {},
   "cell_type": "markdown",
   "metadata": {},
   "source": [
    "## Irreversible MM - integrated form"
   ]
  },
  {
   "cell_type": "code",
   "execution_count": 303,
   "metadata": {},
   "outputs": [
    {
     "data": {
      "text/plain": [
       "(5, 21)"
      ]
     },
     "execution_count": 303,
     "metadata": {},
     "output_type": "execute_result"
    }
   ],
   "source": [
    "substrate.shape"
   ]
  },
  {
   "cell_type": "code",
   "execution_count": 304,
   "metadata": {},
   "outputs": [
    {
     "data": {
      "image/png": "[encoded data removed]",
      "text/plain": [
       "<Figure size 640x480 with 1 Axes>"
      ]
     },
     "metadata": {},
     "output_type": "display_data"
    }
   ],
   "source": [
    "time = np.arange(23)\n",
    "\n",
    "substrate = np.empty((len(init_sub), len(time)))\n",
    "for i, conc in enumerate(init_sub):\n",
    "    substrate[i] = g(t=time, w0=(conc, enzyme, 0, 0), params=params).T[0]\n",
    "\n",
    "substrate = substrate[:,2:]\n",
    "time = time[:-2]\n",
    "for conc in substrate:\n",
    "    plt.scatter(time, conc)\n",
    "plt.show()  "
   ]
  },
  {
   "cell_type": "code",
   "execution_count": 305,
   "metadata": {},
   "outputs": [],
   "source": [
    "measurements=[]\n",
    "\n",
    "for init_substrate, sub in zip(init_sub, substrate):\n",
    "\n",
    "    species = Species(name=\"test substrate\",\n",
    "                      reactant_type=\"substrate\",\n",
    "                      conc_unit=\"mmole / l\",\n",
    "                      initial_conc=init_substrate,\n",
    "                      data=[Series(values=sub.tolist())])\n",
    "\n",
    "\n",
    "    measurements.append(Measurement(time_unit=\"min\", \n",
    "                                    time=time.tolist(),\n",
    "                                    enzyme_conc=enzyme,\n",
    "                                    temperature=37,\n",
    "                                    temperature_unit=\"C\",\n",
    "                                    pH=7,\n",
    "                                    species=[species]))\n",
    "    \n",
    "enzyme_kinetics = EnzymeKinetics(title=\"test irreversible MM\",\n",
    "                                 measurements=measurements)\n",
    "\n",
    "with open(\"irrev_MM_with_2min_delay.json\", \"w\") as f:\n",
    "    f.write(enzyme_kinetics.json())"
   ]
  },
  {
   "cell_type": "code",
   "execution_count": 306,
   "metadata": {},
   "outputs": [
    {
     "name": "stdout",
     "output_type": "stream",
     "text": [
      "[ 0.26014118  0.08667707  0.72170611  0.05659842  0.73830837  1.05355014\n",
      "  1.68030537  0.76909493  1.71641344  1.60567945  2.14710609  2.29871153\n",
      "  2.41806595  3.01687871  3.01948499  3.12542233  3.02571726  3.6223418\n",
      "  4.16219481  4.33864585  4.45195189  5.04449088  4.77637707  5.35031457\n",
      "  5.38020171  6.27865982  5.83781325  6.16641856  6.09050207  6.58088285\n",
      "  7.19262603  7.15424597  7.27915315  7.52323985  8.22619613  8.68660715\n",
      "  8.92338255  9.12478259  9.90022874  9.76733329 10.247028   11.15540394\n",
      " 11.38612339 11.37105032 12.16912288 12.46331515 13.48441422 13.3766771\n",
      " 14.47358399 15.26215677]\n"
     ]
    },
    {
     "data": {
      "text/plain": [
       "<matplotlib.collections.PathCollection at 0x159bf31f0>"
      ]
     },
     "execution_count": 306,
     "metadata": {},
     "output_type": "execute_result"
    },
    {
     "data": {
      "image/png": "[encoded data removed]",
      "text/plain": [
       "<Figure size 640x480 with 1 Axes>"
      ]
     },
     "metadata": {},
     "output_type": "display_data"
    }
   ],
   "source": [
    "concentration = np.linspace(10,1)\n",
    "s0 = 10\n",
    "km = 5\n",
    "kcat = 34\n",
    "t0 = 0\n",
    "e = 0.04\n",
    "\n",
    "def irrev_mm(st: float):\n",
    "    return -1/(kcat*e)*(km* np.log(st/s0) + (st-s0)) + t0\n",
    "\n",
    "def iMM(s):\n",
    "    pass \n",
    "\n",
    "time = [irrev_mm(x) for x in concentration]\n",
    "time = np.random.normal(0,0.3, size=concentration.size) +time\n",
    "\n",
    "\n",
    "print(time)\n",
    "\n",
    "\n",
    "plt.scatter(time, concentration)"
   ]
  },
  {
   "cell_type": "code",
   "execution_count": null,
   "metadata": {},
   "outputs": [],
   "source": []
  },
  {
   "cell_type": "code",
   "execution_count": 307,
   "metadata": {},
   "outputs": [
    {
     "data": {
      "text/plain": [
       "1"
      ]
     },
     "execution_count": 307,
     "metadata": {},
     "output_type": "execute_result"
    }
   ],
   "source": [
    "# params\n",
    "params = Parameters()\n",
    "params.add(\"k_cat\", value=1, min=0.01*KCAT, max=100*KCAT)\n",
    "params.add(\"K_m\", value=1, min=0.01*KM, max=100*KM)\n",
    "params.add(\"t_0\", value=0, min=-10, max=10)\n",
    "\n",
    "params.valuesdict()[\"K_m\"]"
   ]
  },
  {
   "cell_type": "code",
   "execution_count": 308,
   "metadata": {},
   "outputs": [
    {
     "ename": "ValueError",
     "evalue": "operands could not be broadcast together with shapes (21,) (50,) ",
     "output_type": "error",
     "traceback": [
      "\u001b[0;31m---------------------------------------------------------------------------\u001b[0m",
      "\u001b[0;31mValueError\u001b[0m                                Traceback (most recent call last)",
      "Cell \u001b[0;32mIn[308], line 37\u001b[0m\n\u001b[1;32m     32\u001b[0m         residuals \u001b[39m=\u001b[39m model \u001b[39m-\u001b[39m time\n\u001b[1;32m     33\u001b[0m     \u001b[39mreturn\u001b[39;00m residuals\u001b[39m.\u001b[39mflatten()\n\u001b[0;32m---> 37\u001b[0m result \u001b[39m=\u001b[39m minimize(residuals, params, args\u001b[39m=\u001b[39;49m(time, substrate, init_sub, enzyme))\n\u001b[1;32m     38\u001b[0m report_fit(result)\n",
      "File \u001b[0;32m~/miniconda3/envs/kinetics/lib/python3.10/site-packages/lmfit/minimizer.py:2600\u001b[0m, in \u001b[0;36mminimize\u001b[0;34m(fcn, params, method, args, kws, iter_cb, scale_covar, nan_policy, reduce_fcn, calc_covar, max_nfev, **fit_kws)\u001b[0m\n\u001b[1;32m   2460\u001b[0m \u001b[39m\u001b[39m\u001b[39m\"\"\"Perform the minimization of the objective function.\u001b[39;00m\n\u001b[1;32m   2461\u001b[0m \n\u001b[1;32m   2462\u001b[0m \u001b[39mThe minimize function takes an objective function to be minimized,\u001b[39;00m\n\u001b[0;32m   (...)\u001b[0m\n\u001b[1;32m   2594\u001b[0m \n\u001b[1;32m   2595\u001b[0m \u001b[39m\"\"\"\u001b[39;00m\n\u001b[1;32m   2596\u001b[0m fitter \u001b[39m=\u001b[39m Minimizer(fcn, params, fcn_args\u001b[39m=\u001b[39margs, fcn_kws\u001b[39m=\u001b[39mkws,\n\u001b[1;32m   2597\u001b[0m                    iter_cb\u001b[39m=\u001b[39miter_cb, scale_covar\u001b[39m=\u001b[39mscale_covar,\n\u001b[1;32m   2598\u001b[0m                    nan_policy\u001b[39m=\u001b[39mnan_policy, reduce_fcn\u001b[39m=\u001b[39mreduce_fcn,\n\u001b[1;32m   2599\u001b[0m                    calc_covar\u001b[39m=\u001b[39mcalc_covar, max_nfev\u001b[39m=\u001b[39mmax_nfev, \u001b[39m*\u001b[39m\u001b[39m*\u001b[39mfit_kws)\n\u001b[0;32m-> 2600\u001b[0m \u001b[39mreturn\u001b[39;00m fitter\u001b[39m.\u001b[39;49mminimize(method\u001b[39m=\u001b[39;49mmethod)\n",
      "File \u001b[0;32m~/miniconda3/envs/kinetics/lib/python3.10/site-packages/lmfit/minimizer.py:2369\u001b[0m, in \u001b[0;36mMinimizer.minimize\u001b[0;34m(self, method, params, **kws)\u001b[0m\n\u001b[1;32m   2366\u001b[0m         \u001b[39mif\u001b[39;00m (key\u001b[39m.\u001b[39mlower()\u001b[39m.\u001b[39mstartswith(user_method) \u001b[39mor\u001b[39;00m\n\u001b[1;32m   2367\u001b[0m                 val\u001b[39m.\u001b[39mlower()\u001b[39m.\u001b[39mstartswith(user_method)):\n\u001b[1;32m   2368\u001b[0m             kwargs[\u001b[39m'\u001b[39m\u001b[39mmethod\u001b[39m\u001b[39m'\u001b[39m] \u001b[39m=\u001b[39m val\n\u001b[0;32m-> 2369\u001b[0m \u001b[39mreturn\u001b[39;00m function(\u001b[39m*\u001b[39;49m\u001b[39m*\u001b[39;49mkwargs)\n",
      "File \u001b[0;32m~/miniconda3/envs/kinetics/lib/python3.10/site-packages/lmfit/minimizer.py:1693\u001b[0m, in \u001b[0;36mMinimizer.leastsq\u001b[0;34m(self, params, max_nfev, **kws)\u001b[0m\n\u001b[1;32m   1691\u001b[0m result\u001b[39m.\u001b[39mcall_kws \u001b[39m=\u001b[39m lskws\n\u001b[1;32m   1692\u001b[0m \u001b[39mtry\u001b[39;00m:\n\u001b[0;32m-> 1693\u001b[0m     lsout \u001b[39m=\u001b[39m scipy_leastsq(\u001b[39mself\u001b[39;49m\u001b[39m.\u001b[39;49m__residual, variables, \u001b[39m*\u001b[39;49m\u001b[39m*\u001b[39;49mlskws)\n\u001b[1;32m   1694\u001b[0m \u001b[39mexcept\u001b[39;00m AbortFitException:\n\u001b[1;32m   1695\u001b[0m     \u001b[39mpass\u001b[39;00m\n",
      "File \u001b[0;32m~/miniconda3/envs/kinetics/lib/python3.10/site-packages/scipy/optimize/_minpack_py.py:413\u001b[0m, in \u001b[0;36mleastsq\u001b[0;34m(func, x0, args, Dfun, full_output, col_deriv, ftol, xtol, gtol, maxfev, epsfcn, factor, diag)\u001b[0m\n\u001b[1;32m    411\u001b[0m \u001b[39mif\u001b[39;00m \u001b[39mnot\u001b[39;00m \u001b[39misinstance\u001b[39m(args, \u001b[39mtuple\u001b[39m):\n\u001b[1;32m    412\u001b[0m     args \u001b[39m=\u001b[39m (args,)\n\u001b[0;32m--> 413\u001b[0m shape, dtype \u001b[39m=\u001b[39m _check_func(\u001b[39m'\u001b[39;49m\u001b[39mleastsq\u001b[39;49m\u001b[39m'\u001b[39;49m, \u001b[39m'\u001b[39;49m\u001b[39mfunc\u001b[39;49m\u001b[39m'\u001b[39;49m, func, x0, args, n)\n\u001b[1;32m    414\u001b[0m m \u001b[39m=\u001b[39m shape[\u001b[39m0\u001b[39m]\n\u001b[1;32m    416\u001b[0m \u001b[39mif\u001b[39;00m n \u001b[39m>\u001b[39m m:\n",
      "File \u001b[0;32m~/miniconda3/envs/kinetics/lib/python3.10/site-packages/scipy/optimize/_minpack_py.py:26\u001b[0m, in \u001b[0;36m_check_func\u001b[0;34m(checker, argname, thefunc, x0, args, numinputs, output_shape)\u001b[0m\n\u001b[1;32m     24\u001b[0m \u001b[39mdef\u001b[39;00m \u001b[39m_check_func\u001b[39m(checker, argname, thefunc, x0, args, numinputs,\n\u001b[1;32m     25\u001b[0m                 output_shape\u001b[39m=\u001b[39m\u001b[39mNone\u001b[39;00m):\n\u001b[0;32m---> 26\u001b[0m     res \u001b[39m=\u001b[39m atleast_1d(thefunc(\u001b[39m*\u001b[39;49m((x0[:numinputs],) \u001b[39m+\u001b[39;49m args)))\n\u001b[1;32m     27\u001b[0m     \u001b[39mif\u001b[39;00m (output_shape \u001b[39mis\u001b[39;00m \u001b[39mnot\u001b[39;00m \u001b[39mNone\u001b[39;00m) \u001b[39mand\u001b[39;00m (shape(res) \u001b[39m!=\u001b[39m output_shape):\n\u001b[1;32m     28\u001b[0m         \u001b[39mif\u001b[39;00m (output_shape[\u001b[39m0\u001b[39m] \u001b[39m!=\u001b[39m \u001b[39m1\u001b[39m):\n",
      "File \u001b[0;32m~/miniconda3/envs/kinetics/lib/python3.10/site-packages/lmfit/minimizer.py:586\u001b[0m, in \u001b[0;36mMinimizer.__residual\u001b[0;34m(self, fvars, apply_bounds_transformation)\u001b[0m\n\u001b[1;32m    583\u001b[0m     \u001b[39mself\u001b[39m\u001b[39m.\u001b[39mresult\u001b[39m.\u001b[39msuccess \u001b[39m=\u001b[39m \u001b[39mFalse\u001b[39;00m\n\u001b[1;32m    584\u001b[0m     \u001b[39mraise\u001b[39;00m AbortFitException(\u001b[39mf\u001b[39m\u001b[39m\"\u001b[39m\u001b[39mfit aborted: too many function evaluations \u001b[39m\u001b[39m{\u001b[39;00m\u001b[39mself\u001b[39m\u001b[39m.\u001b[39mmax_nfev\u001b[39m}\u001b[39;00m\u001b[39m\"\u001b[39m)\n\u001b[0;32m--> 586\u001b[0m out \u001b[39m=\u001b[39m \u001b[39mself\u001b[39;49m\u001b[39m.\u001b[39;49muserfcn(params, \u001b[39m*\u001b[39;49m\u001b[39mself\u001b[39;49m\u001b[39m.\u001b[39;49muserargs, \u001b[39m*\u001b[39;49m\u001b[39m*\u001b[39;49m\u001b[39mself\u001b[39;49m\u001b[39m.\u001b[39;49muserkws)\n\u001b[1;32m    588\u001b[0m \u001b[39mif\u001b[39;00m callable(\u001b[39mself\u001b[39m\u001b[39m.\u001b[39miter_cb):\n\u001b[1;32m    589\u001b[0m     abort \u001b[39m=\u001b[39m \u001b[39mself\u001b[39m\u001b[39m.\u001b[39miter_cb(params, \u001b[39mself\u001b[39m\u001b[39m.\u001b[39mresult\u001b[39m.\u001b[39mnfev, out,\n\u001b[1;32m    590\u001b[0m                          \u001b[39m*\u001b[39m\u001b[39mself\u001b[39m\u001b[39m.\u001b[39muserargs, \u001b[39m*\u001b[39m\u001b[39m*\u001b[39m\u001b[39mself\u001b[39m\u001b[39m.\u001b[39muserkws)\n",
      "Cell \u001b[0;32mIn[308], line 32\u001b[0m, in \u001b[0;36mresiduals\u001b[0;34m(params, time, substrate, s0, enzyme)\u001b[0m\n\u001b[1;32m     23\u001b[0m \u001b[39mfor\u001b[39;00m init_S, s \u001b[39min\u001b[39;00m \u001b[39mzip\u001b[39m(init_sub, substrate):\n\u001b[1;32m     25\u001b[0m     model \u001b[39m=\u001b[39m integrated_MM(k_cat\u001b[39m=\u001b[39mkcat,\n\u001b[1;32m     26\u001b[0m                           K_m\u001b[39m=\u001b[39mkm,\n\u001b[1;32m     27\u001b[0m                           enzyme\u001b[39m=\u001b[39menzyme,\n\u001b[1;32m     28\u001b[0m                           substrate\u001b[39m=\u001b[39ms,\n\u001b[1;32m     29\u001b[0m                           init_substrate\u001b[39m=\u001b[39minit_S,\n\u001b[1;32m     30\u001b[0m                           t_0\u001b[39m=\u001b[39mt0)\n\u001b[0;32m---> 32\u001b[0m     residuals \u001b[39m=\u001b[39m model \u001b[39m-\u001b[39;49m time\n\u001b[1;32m     33\u001b[0m \u001b[39mreturn\u001b[39;00m residuals\u001b[39m.\u001b[39mflatten()\n",
      "\u001b[0;31mValueError\u001b[0m: operands could not be broadcast together with shapes (21,) (50,) "
     ]
    }
   ],
   "source": [
    "def integrated_MM(k_cat: float,\n",
    "                  K_m: float,\n",
    "                  enzyme: float,\n",
    "                  substrate: float,\n",
    "                  init_substrate: float,\n",
    "                  t_0: float,\n",
    "                  k_inactivation: float = None,\n",
    "                  enzyme_inactivation: bool = False,\n",
    "                  ) -> float:\n",
    "    \n",
    "    if enzyme_inactivation:\n",
    "        enzyme = np.exp(-k_inactivation * enzyme)\n",
    "    \n",
    "    return -1/(k_cat*enzyme)*(K_m* np.log(substrate/init_substrate) + (substrate-init_substrate)) + t_0\n",
    "\n",
    "def residuals(params: Parameters, time, substrate, s0, enzyme):\n",
    "    param_values = params.valuesdict()\n",
    "    km = param_values[\"K_m\"]\n",
    "    t0 = param_values[\"t_0\"]\n",
    "    kcat = param_values[\"k_cat\"]\n",
    "\n",
    "    residuals = substrate * 0.0\n",
    "    for init_S, s in zip(init_sub, substrate):\n",
    "    \n",
    "        model = integrated_MM(k_cat=kcat,\n",
    "                              K_m=km,\n",
    "                              enzyme=enzyme,\n",
    "                              substrate=s,\n",
    "                              init_substrate=init_S,\n",
    "                              t_0=t0)\n",
    "\n",
    "        residuals = model - time\n",
    "    return residuals.flatten()\n",
    "\n",
    "\n",
    "\n",
    "result = minimize(residuals, params, args=(time, substrate, init_sub, enzyme))\n",
    "report_fit(result)"
   ]
  },
  {
   "cell_type": "code",
   "execution_count": null,
   "metadata": {},
   "outputs": [
    {
     "name": "stdout",
     "output_type": "stream",
     "text": [
      "[0.5        0.48682374 0.47395794 0.46139699 0.44913533 0.43716741\n",
      " 0.42548774 0.41409084 0.40297127 0.39212363 0.38154257 0.37122279\n",
      " 0.36115901 0.35134603 0.34177869 0.33245188 0.32336055 0.31449971\n",
      " 0.30586443 0.29744984 0.28925113]\n",
      "bobo\n",
      "[2.         1.96026665 1.92106655 1.88239947 1.84426507 1.80666284\n",
      " 1.76959214 1.73305212 1.69704186 1.66156023 1.62660597 1.59217768\n",
      " 1.55827379 1.52489258 1.49203218 1.45969057 1.42786557 1.39655487\n",
      " 1.365756   1.33546633 1.3056831 ]\n",
      "bobo\n",
      "[8.         7.92013379 7.84053689 7.76121208 7.68216205 7.60338957\n",
      " 7.52489743 7.44668844 7.36876543 7.29113128 7.21378888 7.13674115\n",
      " 7.05999103 6.98354149 6.90739553 6.83155618 6.75602647 6.68080949\n",
      " 6.60590833 6.53132611 6.45706599]\n",
      "bobo\n",
      "[15.         14.90532634 14.8107797  14.71636125 14.6220721  14.52791336\n",
      " 14.4338862  14.33999176 14.24623121 14.15260576 14.05911658 13.96576491\n",
      " 13.87255196 13.77947897 13.68654721 13.59375794 13.50111245 13.40861204\n",
      " 13.31625801 13.22405171 13.13199448]\n",
      "bobo\n",
      "[30.         29.89413968 29.78832358 29.68255194 29.57682505 29.47114317\n",
      " 29.36550656 29.25991549 29.15437023 29.04887104 28.94341821 28.83801201\n",
      " 28.73265272 28.62734061 28.52207599 28.41685912 28.3116903  28.20656982\n",
      " 28.10149798 27.99647507 27.89150139]\n",
      "bobo\n"
     ]
    }
   ],
   "source": [
    "for s in substrate:\n",
    "    print(s)\n",
    "    print(\"bobo\")"
   ]
  },
  {
   "cell_type": "code",
   "execution_count": null,
   "metadata": {},
   "outputs": [
    {
     "data": {
      "text/plain": [
       "array([ 0,  1,  2,  3,  4,  5,  6,  7,  8,  9, 10, 11, 12, 13, 14, 15, 16,\n",
       "       17, 18, 19, 20])"
      ]
     },
     "execution_count": 268,
     "metadata": {},
     "output_type": "execute_result"
    }
   ],
   "source": [
    "time"
   ]
  },
  {
   "cell_type": "code",
   "execution_count": null,
   "metadata": {},
   "outputs": [
    {
     "name": "stdout",
     "output_type": "stream",
     "text": [
      "[[Fit Statistics]]\n",
      "    # fitting method   = leastsq\n",
      "    # function evals   = 33\n",
      "    # data points      = 21\n",
      "    # variables        = 3\n",
      "    chi-square         = 3.9334e-14\n",
      "    reduced chi-square = 2.1852e-15\n",
      "    Akaike info crit   = -706.135183\n",
      "    Bayesian info crit = -703.001616\n",
      "[[Variables]]\n",
      "    k_cat:  12.0000035 +/- 2.3272e-06 (0.00%) (init = 1)\n",
      "    K_m:    4.00000944 +/- 6.3464e-06 (0.00%) (init = 1)\n",
      "    t_0:    1.99999996 +/- 3.9959e-08 (0.00%) (init = 0)\n",
      "[[Correlations]] (unreported correlations are < 0.100)\n",
      "    C(k_cat, K_m) = 1.000\n",
      "    C(k_cat, t_0) = -0.828\n",
      "    C(K_m, t_0)   = -0.824\n"
     ]
    }
   ],
   "source": [
    "#for concentration, s0 in zip(substrate, init_sub):\n",
    "result = minimize(residuals, params, args=(time, substrate[-1], init_sub[-1], enzyme))\n",
    "report_fit(result)"
   ]
  },
  {
   "cell_type": "code",
   "execution_count": null,
   "metadata": {},
   "outputs": [],
   "source": []
  },
  {
   "attachments": {},
   "cell_type": "markdown",
   "metadata": {},
   "source": [
    "## Run old solver"
   ]
  },
  {
   "cell_type": "code",
   "execution_count": null,
   "metadata": {},
   "outputs": [
    {
     "ename": "NameError",
     "evalue": "name 'kineticmodel' is not defined",
     "output_type": "error",
     "traceback": [
      "\u001b[0;31m---------------------------------------------------------------------------\u001b[0m",
      "\u001b[0;31mNameError\u001b[0m                                 Traceback (most recent call last)",
      "Cell \u001b[0;32mIn[279], line 31\u001b[0m\n\u001b[1;32m     28\u001b[0m     \u001b[39mself\u001b[39m\u001b[39m.\u001b[39mresiduals\u001b[39m=\u001b[39mresiduals\n\u001b[1;32m     29\u001b[0m     \u001b[39mreturn\u001b[39;00m residuals\u001b[39m.\u001b[39mflatten()\n\u001b[0;32m---> 31\u001b[0m minimize(residual, params, args\u001b[39m=\u001b[39;49m(time, substrate), method\u001b[39m=\u001b[39;49m\u001b[39m'\u001b[39;49m\u001b[39mleastsq\u001b[39;49m\u001b[39m'\u001b[39;49m, nan_policy\u001b[39m=\u001b[39;49m\u001b[39m'\u001b[39;49m\u001b[39momit\u001b[39;49m\u001b[39m'\u001b[39;49m)\n",
      "File \u001b[0;32m~/miniconda3/envs/kinetics/lib/python3.10/site-packages/lmfit/minimizer.py:2600\u001b[0m, in \u001b[0;36mminimize\u001b[0;34m(fcn, params, method, args, kws, iter_cb, scale_covar, nan_policy, reduce_fcn, calc_covar, max_nfev, **fit_kws)\u001b[0m\n\u001b[1;32m   2460\u001b[0m \u001b[39m\u001b[39m\u001b[39m\"\"\"Perform the minimization of the objective function.\u001b[39;00m\n\u001b[1;32m   2461\u001b[0m \n\u001b[1;32m   2462\u001b[0m \u001b[39mThe minimize function takes an objective function to be minimized,\u001b[39;00m\n\u001b[0;32m   (...)\u001b[0m\n\u001b[1;32m   2594\u001b[0m \n\u001b[1;32m   2595\u001b[0m \u001b[39m\"\"\"\u001b[39;00m\n\u001b[1;32m   2596\u001b[0m fitter \u001b[39m=\u001b[39m Minimizer(fcn, params, fcn_args\u001b[39m=\u001b[39margs, fcn_kws\u001b[39m=\u001b[39mkws,\n\u001b[1;32m   2597\u001b[0m                    iter_cb\u001b[39m=\u001b[39miter_cb, scale_covar\u001b[39m=\u001b[39mscale_covar,\n\u001b[1;32m   2598\u001b[0m                    nan_policy\u001b[39m=\u001b[39mnan_policy, reduce_fcn\u001b[39m=\u001b[39mreduce_fcn,\n\u001b[1;32m   2599\u001b[0m                    calc_covar\u001b[39m=\u001b[39mcalc_covar, max_nfev\u001b[39m=\u001b[39mmax_nfev, \u001b[39m*\u001b[39m\u001b[39m*\u001b[39mfit_kws)\n\u001b[0;32m-> 2600\u001b[0m \u001b[39mreturn\u001b[39;00m fitter\u001b[39m.\u001b[39;49mminimize(method\u001b[39m=\u001b[39;49mmethod)\n",
      "File \u001b[0;32m~/miniconda3/envs/kinetics/lib/python3.10/site-packages/lmfit/minimizer.py:2369\u001b[0m, in \u001b[0;36mMinimizer.minimize\u001b[0;34m(self, method, params, **kws)\u001b[0m\n\u001b[1;32m   2366\u001b[0m         \u001b[39mif\u001b[39;00m (key\u001b[39m.\u001b[39mlower()\u001b[39m.\u001b[39mstartswith(user_method) \u001b[39mor\u001b[39;00m\n\u001b[1;32m   2367\u001b[0m                 val\u001b[39m.\u001b[39mlower()\u001b[39m.\u001b[39mstartswith(user_method)):\n\u001b[1;32m   2368\u001b[0m             kwargs[\u001b[39m'\u001b[39m\u001b[39mmethod\u001b[39m\u001b[39m'\u001b[39m] \u001b[39m=\u001b[39m val\n\u001b[0;32m-> 2369\u001b[0m \u001b[39mreturn\u001b[39;00m function(\u001b[39m*\u001b[39;49m\u001b[39m*\u001b[39;49mkwargs)\n",
      "File \u001b[0;32m~/miniconda3/envs/kinetics/lib/python3.10/site-packages/lmfit/minimizer.py:1693\u001b[0m, in \u001b[0;36mMinimizer.leastsq\u001b[0;34m(self, params, max_nfev, **kws)\u001b[0m\n\u001b[1;32m   1691\u001b[0m result\u001b[39m.\u001b[39mcall_kws \u001b[39m=\u001b[39m lskws\n\u001b[1;32m   1692\u001b[0m \u001b[39mtry\u001b[39;00m:\n\u001b[0;32m-> 1693\u001b[0m     lsout \u001b[39m=\u001b[39m scipy_leastsq(\u001b[39mself\u001b[39;49m\u001b[39m.\u001b[39;49m__residual, variables, \u001b[39m*\u001b[39;49m\u001b[39m*\u001b[39;49mlskws)\n\u001b[1;32m   1694\u001b[0m \u001b[39mexcept\u001b[39;00m AbortFitException:\n\u001b[1;32m   1695\u001b[0m     \u001b[39mpass\u001b[39;00m\n",
      "File \u001b[0;32m~/miniconda3/envs/kinetics/lib/python3.10/site-packages/scipy/optimize/_minpack_py.py:413\u001b[0m, in \u001b[0;36mleastsq\u001b[0;34m(func, x0, args, Dfun, full_output, col_deriv, ftol, xtol, gtol, maxfev, epsfcn, factor, diag)\u001b[0m\n\u001b[1;32m    411\u001b[0m \u001b[39mif\u001b[39;00m \u001b[39mnot\u001b[39;00m \u001b[39misinstance\u001b[39m(args, \u001b[39mtuple\u001b[39m):\n\u001b[1;32m    412\u001b[0m     args \u001b[39m=\u001b[39m (args,)\n\u001b[0;32m--> 413\u001b[0m shape, dtype \u001b[39m=\u001b[39m _check_func(\u001b[39m'\u001b[39;49m\u001b[39mleastsq\u001b[39;49m\u001b[39m'\u001b[39;49m, \u001b[39m'\u001b[39;49m\u001b[39mfunc\u001b[39;49m\u001b[39m'\u001b[39;49m, func, x0, args, n)\n\u001b[1;32m    414\u001b[0m m \u001b[39m=\u001b[39m shape[\u001b[39m0\u001b[39m]\n\u001b[1;32m    416\u001b[0m \u001b[39mif\u001b[39;00m n \u001b[39m>\u001b[39m m:\n",
      "File \u001b[0;32m~/miniconda3/envs/kinetics/lib/python3.10/site-packages/scipy/optimize/_minpack_py.py:26\u001b[0m, in \u001b[0;36m_check_func\u001b[0;34m(checker, argname, thefunc, x0, args, numinputs, output_shape)\u001b[0m\n\u001b[1;32m     24\u001b[0m \u001b[39mdef\u001b[39;00m \u001b[39m_check_func\u001b[39m(checker, argname, thefunc, x0, args, numinputs,\n\u001b[1;32m     25\u001b[0m                 output_shape\u001b[39m=\u001b[39m\u001b[39mNone\u001b[39;00m):\n\u001b[0;32m---> 26\u001b[0m     res \u001b[39m=\u001b[39m atleast_1d(thefunc(\u001b[39m*\u001b[39;49m((x0[:numinputs],) \u001b[39m+\u001b[39;49m args)))\n\u001b[1;32m     27\u001b[0m     \u001b[39mif\u001b[39;00m (output_shape \u001b[39mis\u001b[39;00m \u001b[39mnot\u001b[39;00m \u001b[39mNone\u001b[39;00m) \u001b[39mand\u001b[39;00m (shape(res) \u001b[39m!=\u001b[39m output_shape):\n\u001b[1;32m     28\u001b[0m         \u001b[39mif\u001b[39;00m (output_shape[\u001b[39m0\u001b[39m] \u001b[39m!=\u001b[39m \u001b[39m1\u001b[39m):\n",
      "File \u001b[0;32m~/miniconda3/envs/kinetics/lib/python3.10/site-packages/lmfit/minimizer.py:586\u001b[0m, in \u001b[0;36mMinimizer.__residual\u001b[0;34m(self, fvars, apply_bounds_transformation)\u001b[0m\n\u001b[1;32m    583\u001b[0m     \u001b[39mself\u001b[39m\u001b[39m.\u001b[39mresult\u001b[39m.\u001b[39msuccess \u001b[39m=\u001b[39m \u001b[39mFalse\u001b[39;00m\n\u001b[1;32m    584\u001b[0m     \u001b[39mraise\u001b[39;00m AbortFitException(\u001b[39mf\u001b[39m\u001b[39m\"\u001b[39m\u001b[39mfit aborted: too many function evaluations \u001b[39m\u001b[39m{\u001b[39;00m\u001b[39mself\u001b[39m\u001b[39m.\u001b[39mmax_nfev\u001b[39m}\u001b[39;00m\u001b[39m\"\u001b[39m)\n\u001b[0;32m--> 586\u001b[0m out \u001b[39m=\u001b[39m \u001b[39mself\u001b[39;49m\u001b[39m.\u001b[39;49muserfcn(params, \u001b[39m*\u001b[39;49m\u001b[39mself\u001b[39;49m\u001b[39m.\u001b[39;49muserargs, \u001b[39m*\u001b[39;49m\u001b[39m*\u001b[39;49m\u001b[39mself\u001b[39;49m\u001b[39m.\u001b[39;49muserkws)\n\u001b[1;32m    588\u001b[0m \u001b[39mif\u001b[39;00m callable(\u001b[39mself\u001b[39m\u001b[39m.\u001b[39miter_cb):\n\u001b[1;32m    589\u001b[0m     abort \u001b[39m=\u001b[39m \u001b[39mself\u001b[39m\u001b[39m.\u001b[39miter_cb(params, \u001b[39mself\u001b[39m\u001b[39m.\u001b[39mresult\u001b[39m.\u001b[39mnfev, out,\n\u001b[1;32m    590\u001b[0m                          \u001b[39m*\u001b[39m\u001b[39mself\u001b[39m\u001b[39m.\u001b[39muserargs, \u001b[39m*\u001b[39m\u001b[39m*\u001b[39m\u001b[39mself\u001b[39m\u001b[39m.\u001b[39muserkws)\n",
      "Cell \u001b[0;32mIn[279], line 16\u001b[0m, in \u001b[0;36mresidual\u001b[0;34m(params, time, substrate)\u001b[0m\n\u001b[1;32m     12\u001b[0m residuals \u001b[39m=\u001b[39m \u001b[39m0.0\u001b[39m \u001b[39m*\u001b[39m substrate\n\u001b[1;32m     13\u001b[0m \u001b[39mfor\u001b[39;00m i, measurement \u001b[39min\u001b[39;00m \u001b[39menumerate\u001b[39m(substrate):\n\u001b[1;32m     14\u001b[0m \n\u001b[1;32m     15\u001b[0m \u001b[39m# Calculate residual for each measurement\u001b[39;00m\n\u001b[0;32m---> 16\u001b[0m     cS, cE, cP, cI, \u001b[39m=\u001b[39m kineticmodel\u001b[39m.\u001b[39mw0\u001b[39m.\u001b[39mvalues()\n\u001b[1;32m     17\u001b[0m     w0 \u001b[39m=\u001b[39m (cS[i], cE[i, \u001b[39m0\u001b[39m], \u001b[39m0\u001b[39m, cI[i, \u001b[39m0\u001b[39m]) \u001b[39m#cP[i, 0]\u001b[39;00m\n\u001b[1;32m     18\u001b[0m     \u001b[39m# TODO check data in model and measurement \u001b[39;00m\n",
      "\u001b[0;31mNameError\u001b[0m: name 'kineticmodel' is not defined"
     ]
    }
   ],
   "source": [
    "def g(time: np.ndarray, w0: tuple, params):\n",
    "            '''\n",
    "            Solution to the ODE w'(t)=f(t,w,p) with initial condition w(0)= w0 (= [S0])\n",
    "            '''\n",
    "            w = odeint(kineticmodel.model, w0, time, args=(params, self.enzyme_inactivation,))\n",
    "            return w\n",
    "\n",
    "def residual(params, time: np.ndarray, substrate: np.ndarray):\n",
    "    \"\"\"\n",
    "    Calculated the distance between measured and modeled data.\n",
    "    \"\"\"\n",
    "    residuals = 0.0 * substrate\n",
    "    for i, measurement in enumerate(substrate):\n",
    "\n",
    "    # Calculate residual for each measurement\n",
    "        cS, cE, cP, cI, = kineticmodel.w0.values()\n",
    "        w0 = (cS[i], cE[i, 0], 0, cI[i, 0]) #cP[i, 0]\n",
    "        # TODO check data in model and measurement \n",
    "\n",
    "        model = g(time, w0, params)  # solve the ODE with sfb.\n",
    "\n",
    "        # get modeled substrate\n",
    "        model = model[:, 0]\n",
    "\n",
    "        # compute distance to measured data\n",
    "        residuals[i] = measurement-model\n",
    "\n",
    "    self.residuals=residuals\n",
    "    return residuals.flatten()\n",
    "\n",
    "minimize(residual, params, args=(time, substrate), method='leastsq', nan_policy='omit')\n",
    "\n"
   ]
  }
 ],
 "metadata": {
  "kernelspec": {
   "display_name": "kinetics",
   "language": "python",
   "name": "python3"
  },
  "language_info": {
   "codemirror_mode": {
    "name": "ipython",
    "version": 3
   },
   "file_extension": ".py",
   "mimetype": "text/x-python",
   "name": "python",
   "nbconvert_exporter": "python",
   "pygments_lexer": "ipython3",
   "version": "3.10.9"
  },
  "orig_nbformat": 4,
  "vscode": {
   "interpreter": {
    "hash": "e4d7a3c53b4561fea128f1dd6b93a2d65a9c987f991bd8663d1fd9fa97d4c9c7"
   }
  }
 },
 "nbformat": 4,
 "nbformat_minor": 2
}
