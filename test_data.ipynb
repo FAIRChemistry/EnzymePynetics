{
 "cells": [
  {
   "attachments": {},
   "cell_type": "markdown",
   "metadata": {},
   "source": [
    "# Generate test data"
   ]
  },
  {
   "cell_type": "code",
   "execution_count": 1,
   "metadata": {},
   "outputs": [
    {
     "data": {
      "text/plain": [
       "'/Users/max/code/EnzymePynetics'"
      ]
     },
     "execution_count": 1,
     "metadata": {},
     "output_type": "execute_result"
    }
   ],
   "source": [
    "from EnzymePynetics.core.series import Series\n",
    "from EnzymePynetics.core.species import Species\n",
    "from EnzymePynetics.core.enzymekinetics import EnzymeKinetics\n",
    "from EnzymePynetics.core.measurement import Measurement\n",
    "from lmfit import Parameters, report_fit, minimize\n",
    "from scipy.integrate import odeint\n",
    "from scipy.stats import linregress\n",
    "import numpy as np\n",
    "import matplotlib.pyplot as plt\n",
    "\n",
    "\n",
    "%pwd\n"
   ]
  },
  {
   "attachments": {},
   "cell_type": "markdown",
   "metadata": {},
   "source": [
    "## Irreversible MM"
   ]
  },
  {
   "cell_type": "code",
   "execution_count": 2,
   "metadata": {},
   "outputs": [],
   "source": [
    "# Parameters of test reaction system\n",
    "KM = 4\n",
    "KCAT = 140\n",
    "# k_inact = 0.1\n",
    "\n",
    "init_sub = [0.5, 2, 4, 10, 15, 30]\n",
    "ENZYME = 0.01"
   ]
  },
  {
   "cell_type": "code",
   "execution_count": 3,
   "metadata": {},
   "outputs": [],
   "source": [
    "# Parameters for data generation\n",
    "params = Parameters()\n",
    "params.add(\"k_cat\", value=KCAT, min=0.01 * KCAT, max=100 * KCAT)\n",
    "params.add(\"K_m\", value=KM, min=0.01 * KM, max=100 * KM)\n",
    "# params.add(\"k_inact\", value=0.12, min=0.0001, max=0.5)"
   ]
  },
  {
   "cell_type": "code",
   "execution_count": 4,
   "metadata": {},
   "outputs": [],
   "source": [
    "# Kinetic model\n",
    "def menten_irrev(w0: tuple, t, params):\n",
    "    cS, cE, cP, cI = w0\n",
    "\n",
    "    k_cat = params[\"k_cat\"].value\n",
    "    K_m = params[\"K_m\"].value\n",
    "    # k_inact = params['k_inact'].value\n",
    "\n",
    "    dc_S = -k_cat * cE * cS / (K_m + cS)\n",
    "    # dc_E = -cE * k_inact\n",
    "    dc_E = 0\n",
    "    dc_P = -dc_S\n",
    "    dc_I = 0\n",
    "\n",
    "    return (dc_S, dc_E, dc_P, dc_I)\n",
    "\n",
    "\n",
    "# Integrator for MM rate equation\n",
    "def g(t, w0, params):\n",
    "    return odeint(menten_irrev, w0, t, args=(params,))"
   ]
  },
  {
   "cell_type": "code",
   "execution_count": 5,
   "metadata": {},
   "outputs": [],
   "source": [
    "# Generate time-course data\n",
    "time = np.arange(21)\n",
    "\n",
    "substrate = np.empty((len(init_sub), len(time)))\n",
    "for i, conc in enumerate(init_sub):\n",
    "    substrate[i] = g(t=time, w0=(conc, ENZYME, 0, 0), params=params).T[0]"
   ]
  },
  {
   "cell_type": "code",
   "execution_count": 6,
   "metadata": {},
   "outputs": [
    {
     "data": {
      "image/png": "[encoded data removed]",
      "text/plain": [
       "<Figure size 640x480 with 1 Axes>"
      ]
     },
     "metadata": {},
     "output_type": "display_data"
    }
   ],
   "source": [
    "for conc, init_s in zip(substrate, init_sub):\n",
    "    plt.scatter(time, conc, label=f\"{init_s}\")\n",
    "\n",
    "plt.legend(title=\"initial substrate [mM]\")\n",
    "plt.ylabel(\"substrate [mM]\")\n",
    "plt.xlabel(\"time [min]\")\n",
    "plt.show()"
   ]
  },
  {
   "cell_type": "code",
   "execution_count": 7,
   "metadata": {},
   "outputs": [],
   "source": [
    "def add_substrate(initial_conc, data): return Species(\n",
    "    species_type=\"substrate\",\n",
    "    conc_unit=\"mmol / l\",\n",
    "    initial_conc=initial_conc,\n",
    "    data=[Series(values=data)],\n",
    ")\n",
    "\n",
    "\n",
    "def add_enzyme(initial_conc): return Species(\n",
    "    species_type=\"enzyme\",\n",
    "    conc_unit=\"mmol / l\",\n",
    "    initial_conc=initial_conc,\n",
    ")"
   ]
  },
  {
   "cell_type": "code",
   "execution_count": 8,
   "metadata": {},
   "outputs": [
    {
     "name": "stdout",
     "output_type": "stream",
     "text": [
      "[ 0  1  2  3  4  5  6  7  8  9 10 11 12 13 14 15 16 17 18 19 20]\n"
     ]
    }
   ],
   "source": [
    "# Write data to json\n",
    "measurements = []\n",
    "print(time)\n",
    "\n",
    "for init_substrate, sub in zip(init_sub, substrate):\n",
    "    substrate = add_substrate(initial_conc=init_substrate, data=sub.tolist())\n",
    "    enzyme = add_enzyme(ENZYME)\n",
    "\n",
    "    measurements.append(\n",
    "        Measurement(\n",
    "            time_unit=\"min\",\n",
    "            time=time.tolist(),\n",
    "            temperature=37,\n",
    "            temperature_unit=\"C\",\n",
    "            pH=7,\n",
    "            species=[substrate, enzyme],\n",
    "        )\n",
    "    )\n",
    "\n",
    "enzyme_kinetics = EnzymeKinetics(\n",
    "    title=\"test irreversible MM\", measurements=measurements\n",
    ")\n",
    "\n",
    "with open(\"irrev_MM_enzyme.json\", \"w\") as f:\n",
    "    f.write(enzyme_kinetics.json())"
   ]
  },
  {
   "cell_type": "code",
   "execution_count": 1,
   "metadata": {},
   "outputs": [],
   "source": [
    "from itertools import groupby\n",
    "\n",
    "\n",
    "def all_equal(iterable):\n",
    "    g = groupby(iterable)\n",
    "    return next(g, True) and not next(g, False)"
   ]
  },
  {
   "cell_type": "code",
   "execution_count": 3,
   "metadata": {},
   "outputs": [
    {
     "data": {
      "text/plain": [
       "False"
      ]
     },
     "execution_count": 3,
     "metadata": {},
     "output_type": "execute_result"
    }
   ],
   "source": [
    "all_equal([1, 1, 1, 2, 1])"
   ]
  },
  {
   "cell_type": "code",
   "execution_count": 4,
   "metadata": {},
   "outputs": [],
   "source": [
    "a, s, d = 1, 1, 1"
   ]
  },
  {
   "cell_type": "code",
   "execution_count": 5,
   "metadata": {},
   "outputs": [
    {
     "data": {
      "text/plain": [
       "True"
      ]
     },
     "execution_count": 5,
     "metadata": {},
     "output_type": "execute_result"
    }
   ],
   "source": [
    "a == s == d"
   ]
  },
  {
   "cell_type": "code",
   "execution_count": null,
   "metadata": {},
   "outputs": [],
   "source": []
  }
 ],
 "metadata": {
  "kernelspec": {
   "display_name": "kinetics",
   "language": "python",
   "name": "python3"
  },
  "language_info": {
   "codemirror_mode": {
    "name": "ipython",
    "version": 3
   },
   "file_extension": ".py",
   "mimetype": "text/x-python",
   "name": "python",
   "nbconvert_exporter": "python",
   "pygments_lexer": "ipython3",
   "version": "3.10.9"
  },
  "orig_nbformat": 4,
  "vscode": {
   "interpreter": {
    "hash": "e4d7a3c53b4561fea128f1dd6b93a2d65a9c987f991bd8663d1fd9fa97d4c9c7"
   }
  }
 },
 "nbformat": 4,
 "nbformat_minor": 2
}
