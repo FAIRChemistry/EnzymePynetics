{
 "cells": [
  {
   "cell_type": "code",
   "execution_count": 55,
   "metadata": {},
   "outputs": [
    {
     "ename": "ModuleNotFoundError",
     "evalue": "No module named 'EnzymePynetics'",
     "output_type": "error",
     "traceback": [
      "\u001b[0;31m---------------------------------------------------------------------------\u001b[0m",
      "\u001b[0;31mModuleNotFoundError\u001b[0m                       Traceback (most recent call last)",
      "Cell \u001b[0;32mIn[55], line 6\u001b[0m\n\u001b[1;32m      3\u001b[0m \u001b[39mimport\u001b[39;00m \u001b[39mnumpy\u001b[39;00m \u001b[39mas\u001b[39;00m \u001b[39mnp\u001b[39;00m\n\u001b[1;32m      4\u001b[0m \u001b[39mimport\u001b[39;00m \u001b[39mmatplotlib\u001b[39;00m\u001b[39m.\u001b[39;00m\u001b[39mpyplot\u001b[39;00m \u001b[39mas\u001b[39;00m \u001b[39mplt\u001b[39;00m\n\u001b[0;32m----> 6\u001b[0m \u001b[39mfrom\u001b[39;00m \u001b[39mEnzymePynetics\u001b[39;00m\u001b[39m.\u001b[39;00m\u001b[39mcore\u001b[39;00m\u001b[39m.\u001b[39;00m\u001b[39mmeasurement\u001b[39;00m \u001b[39mimport\u001b[39;00m Measurement\n",
      "\u001b[0;31mModuleNotFoundError\u001b[0m: No module named 'EnzymePynetics'"
     ]
    }
   ],
   "source": [
    "from lmfit import Parameters, fit_report, minimize\n",
    "from scipy.integrate import odeint\n",
    "import numpy as np\n",
    "import matplotlib.pyplot as plt\n",
    "\n",
    "from EnzymePynetics.core.measurement import Measurement"
   ]
  },
  {
   "cell_type": "code",
   "execution_count": 25,
   "metadata": {},
   "outputs": [],
   "source": [
    "KM = 4\n",
    "KCAT = 12\n",
    "\n",
    "init_sub = [0.5, 2, 8, 15, 30]\n",
    "enzyme = 0.1"
   ]
  },
  {
   "cell_type": "code",
   "execution_count": 7,
   "metadata": {},
   "outputs": [],
   "source": [
    "params = Parameters()\n",
    "params.add(\"k_cat\", value=KCAT, min=0.01*KCAT, max=100*KCAT)\n",
    "params.add(\"K_m\", value=KM, min=0.01*KM, max=100*KM)"
   ]
  },
  {
   "cell_type": "code",
   "execution_count": 26,
   "metadata": {},
   "outputs": [],
   "source": [
    "def menten_irrev(w0: tuple, t, params):\n",
    "    cS, cE, cP, cI = w0\n",
    "\n",
    "    k_cat = params['k_cat'].value\n",
    "    K_m = params['K_m'].value\n",
    "\n",
    "    dc_S = -k_cat * cE * cS / (K_m+cS)\n",
    "    dc_E = 0\n",
    "    dc_P = -dc_S\n",
    "    dc_I = 0\n",
    "\n",
    "    return (dc_S, dc_E, dc_P, dc_I)\n",
    "\n",
    "\n",
    "def g(t, w0, params):\n",
    "    '''\n",
    "    Solution to the ODE w'(t)=f(t,w,p) with initial condition w(0)= w0 (= [S0])\n",
    "    '''\n",
    "    w = odeint(menten_irrev, w0, t, args=(params,))\n",
    "    return w"
   ]
  },
  {
   "cell_type": "code",
   "execution_count": 32,
   "metadata": {},
   "outputs": [],
   "source": [
    "time = np.arange(21)\n",
    "\n",
    "substrate = np.empty((len(init_sub), len(time)))\n",
    "for i, conc in enumerate(init_sub):\n",
    "    substrate[i] = g(t=time, w0=(conc, enzyme, 0, 0), params=params).T[0]\n",
    "\n",
    "\n"
   ]
  },
  {
   "cell_type": "code",
   "execution_count": 35,
   "metadata": {},
   "outputs": [
    {
     "data": {
      "image/png": "[encoded data removed]",
      "text/plain": [
       "<Figure size 640x480 with 1 Axes>"
      ]
     },
     "metadata": {},
     "output_type": "display_data"
    }
   ],
   "source": [
    "for conc in substrate:\n",
    "    plt.scatter(time, conc)\n",
    "plt.show()    "
   ]
  },
  {
   "cell_type": "code",
   "execution_count": 36,
   "metadata": {},
   "outputs": [
    {
     "ename": "NameError",
     "evalue": "name 'Measurement' is not defined",
     "output_type": "error",
     "traceback": [
      "\u001b[0;31m---------------------------------------------------------------------------\u001b[0m",
      "\u001b[0;31mNameError\u001b[0m                                 Traceback (most recent call last)",
      "Cell \u001b[0;32mIn[36], line 1\u001b[0m\n\u001b[0;32m----> 1\u001b[0m measurement \u001b[39m=\u001b[39m Measurement()\n",
      "\u001b[0;31mNameError\u001b[0m: name 'Measurement' is not defined"
     ]
    }
   ],
   "source": [
    "measurement = Measurement()"
   ]
  }
 ],
 "metadata": {
  "kernelspec": {
   "display_name": "kinetics",
   "language": "python",
   "name": "python3"
  },
  "language_info": {
   "codemirror_mode": {
    "name": "ipython",
    "version": 3
   },
   "file_extension": ".py",
   "mimetype": "text/x-python",
   "name": "python",
   "nbconvert_exporter": "python",
   "pygments_lexer": "ipython3",
   "version": "3.10.9"
  },
  "orig_nbformat": 4,
  "vscode": {
   "interpreter": {
    "hash": "e4d7a3c53b4561fea128f1dd6b93a2d65a9c987f991bd8663d1fd9fa97d4c9c7"
   }
  }
 },
 "nbformat": 4,
 "nbformat_minor": 2
}
