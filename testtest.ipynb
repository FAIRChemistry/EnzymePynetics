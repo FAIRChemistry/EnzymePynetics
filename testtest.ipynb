{
 "cells": [
  {
   "cell_type": "code",
   "execution_count": 9,
   "metadata": {},
   "outputs": [],
   "source": [
    "# !{sys.executable} -m pip install CaliPytion\n",
    "\n",
    "from CaliPytion.core.calibration import Calibration\n",
    "import sdRDM"
   ]
  },
  {
   "cell_type": "code",
   "execution_count": 3,
   "metadata": {},
   "outputs": [],
   "source": [
    "# instance of sdRDM class \n",
    "calibration = Calibration(reactant_id=\"test\", pH=4.2)"
   ]
  },
  {
   "cell_type": "code",
   "execution_count": 4,
   "metadata": {},
   "outputs": [
    {
     "data": {
      "text/plain": [
       "'git://github.com/FAIRChemistry/CaliPytion.git'"
      ]
     },
     "execution_count": 4,
     "metadata": {},
     "output_type": "execute_result"
    }
   ],
   "source": [
    "# repo over here already starts with 'git'\n",
    "calibration.__repo__"
   ]
  },
  {
   "cell_type": "code",
   "execution_count": 5,
   "metadata": {},
   "outputs": [],
   "source": [
    "# serialize calibration instance as json\n",
    "with open(\"serialized_instance.json\", \"w\") as f:\n",
    "    f.write(calibration.json())"
   ]
  },
  {
   "cell_type": "code",
   "execution_count": 13,
   "metadata": {},
   "outputs": [
    {
     "ename": "ValueError",
     "evalue": "Given URL 'git://github.com/FAIRChemistry/CaliPytion.git' is not a valid URL.",
     "output_type": "error",
     "traceback": [
      "\u001b[0;31m---------------------------------------------------------------------------\u001b[0m",
      "\u001b[0;31mValueError\u001b[0m                                Traceback (most recent call last)",
      "Cell \u001b[0;32mIn[13], line 3\u001b[0m\n\u001b[1;32m      1\u001b[0m \u001b[39m# Read in json\u001b[39;00m\n\u001b[0;32m----> 3\u001b[0m dataset, lib \u001b[39m=\u001b[39m sdRDM\u001b[39m.\u001b[39;49mDataModel\u001b[39m.\u001b[39;49mparse(path\u001b[39m=\u001b[39;49m\u001b[39m\"\u001b[39;49m\u001b[39mserialized_instance.json\u001b[39;49m\u001b[39m\"\u001b[39;49m)\n",
      "File \u001b[0;32m~/miniconda3/envs/msc/lib/python3.10/site-packages/sdRDM/base/datamodel.py:391\u001b[0m, in \u001b[0;36mDataModel.parse\u001b[0;34m(cls, path, data, root_name, attr_replace)\u001b[0m\n\u001b[1;32m    389\u001b[0m commit \u001b[39m=\u001b[39m dataset\u001b[39m.\u001b[39mget(\u001b[39m\"\u001b[39m\u001b[39m__source__\u001b[39m\u001b[39m\"\u001b[39m)[\u001b[39m\"\u001b[39m\u001b[39mcommit\u001b[39m\u001b[39m\"\u001b[39m]\n\u001b[1;32m    390\u001b[0m root \u001b[39m=\u001b[39m dataset\u001b[39m.\u001b[39mget(\u001b[39m\"\u001b[39m\u001b[39m__source__\u001b[39m\u001b[39m\"\u001b[39m)[\u001b[39m\"\u001b[39m\u001b[39mroot\u001b[39m\u001b[39m\"\u001b[39m]\n\u001b[0;32m--> 391\u001b[0m lib \u001b[39m=\u001b[39m \u001b[39mcls\u001b[39;49m\u001b[39m.\u001b[39;49mfrom_git(url\u001b[39m=\u001b[39;49murl, commit\u001b[39m=\u001b[39;49mcommit)\n\u001b[1;32m    393\u001b[0m \u001b[39m# Use the internal librar to parse the file\u001b[39;00m\n\u001b[1;32m    394\u001b[0m \u001b[39mreturn\u001b[39;00m \u001b[39mgetattr\u001b[39m(lib, root)\u001b[39m.\u001b[39mfrom_dict(dataset), lib\n",
      "File \u001b[0;32m~/miniconda3/envs/msc/lib/python3.10/site-packages/sdRDM/base/datamodel.py:470\u001b[0m, in \u001b[0;36mDataModel.from_git\u001b[0;34m(cls, url, commit, tag, only_classes)\u001b[0m\n\u001b[1;32m    457\u001b[0m \u001b[39m\u001b[39m\u001b[39m\"\"\"Fetches a Markdown specification from a git repository and builds the library accordingly.\u001b[39;00m\n\u001b[1;32m    458\u001b[0m \n\u001b[1;32m    459\u001b[0m \u001b[39mThis function will clone the repository into a temporary directory and\u001b[39;00m\n\u001b[0;32m   (...)\u001b[0m\n\u001b[1;32m    466\u001b[0m \u001b[39m    tag (Optional[str], optional): Tag of the release or branch to fetch from. Defaults to None.\u001b[39;00m\n\u001b[1;32m    467\u001b[0m \u001b[39m\"\"\"\u001b[39;00m\n\u001b[1;32m    469\u001b[0m \u001b[39mif\u001b[39;00m \u001b[39mnot\u001b[39;00m validators\u001b[39m.\u001b[39murl(url):\n\u001b[0;32m--> 470\u001b[0m     \u001b[39mraise\u001b[39;00m \u001b[39mValueError\u001b[39;00m(\u001b[39mf\u001b[39m\u001b[39m\"\u001b[39m\u001b[39mGiven URL \u001b[39m\u001b[39m'\u001b[39m\u001b[39m{\u001b[39;00murl\u001b[39m}\u001b[39;00m\u001b[39m'\u001b[39m\u001b[39m is not a valid URL.\u001b[39m\u001b[39m\"\u001b[39m)\n\u001b[1;32m    472\u001b[0m \u001b[39m# Build and import the library\u001b[39;00m\n\u001b[1;32m    473\u001b[0m lib, links \u001b[39m=\u001b[39m build_library_from_git_specs(\n\u001b[1;32m    474\u001b[0m     url\u001b[39m=\u001b[39murl, commit\u001b[39m=\u001b[39mcommit, tag\u001b[39m=\u001b[39mtag, only_classes\u001b[39m=\u001b[39monly_classes\n\u001b[1;32m    475\u001b[0m )\n",
      "\u001b[0;31mValueError\u001b[0m: Given URL 'git://github.com/FAIRChemistry/CaliPytion.git' is not a valid URL."
     ]
    }
   ],
   "source": [
    "# Read in json to recreate datamodel\n",
    "dataset, lib = sdRDM.DataModel.parse(path=\"serialized_instance.json\")"
   ]
  }
 ],
 "metadata": {
  "kernelspec": {
   "display_name": "msc",
   "language": "python",
   "name": "python3"
  },
  "language_info": {
   "codemirror_mode": {
    "name": "ipython",
    "version": 3
   },
   "file_extension": ".py",
   "mimetype": "text/x-python",
   "name": "python",
   "nbconvert_exporter": "python",
   "pygments_lexer": "ipython3",
   "version": "3.10.9"
  },
  "orig_nbformat": 4
 },
 "nbformat": 4,
 "nbformat_minor": 2
}
