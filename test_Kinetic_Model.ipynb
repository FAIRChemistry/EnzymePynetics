{
 "cells": [
  {
   "cell_type": "code",
   "execution_count": null,
   "metadata": {},
   "outputs": [],
   "source": [
    "%reload_ext autoreload\n",
    "%autoreload 2\n",
    "\n",
    "from EnzymePynetics.tools.kineticmodel import KineticModel"
   ]
  },
  {
   "cell_type": "code",
   "execution_count": null,
   "metadata": {},
   "outputs": [],
   "source": [
    "model = KineticModel(\n",
    "    name=\"test\",\n",
    "    substrate_rate_law=\"-k_cat * enzyme * substrate / (K_m + substrate)\",\n",
    "    enzyme_rate_law=\"-k_ie * enzyme\",\n",
    "    params=[\"k_cat\", \"K_m\", \"k_ie\"],\n",
    "    kcat_initial=0.14,\n",
    "    Km_initial=33,\n",
    "    y0=[(100, 0.004, 0, 0)]\n",
    ")"
   ]
  },
  {
   "cell_type": "code",
   "execution_count": null,
   "metadata": {},
   "outputs": [
    {
     "data": {
      "text/plain": [
       "(100, 0.004, 0, 0)"
      ]
     },
     "execution_count": 76,
     "metadata": {},
     "output_type": "execute_result"
    }
   ],
   "source": [
    "model.y0[0]"
   ]
  },
  {
   "cell_type": "code",
   "execution_count": null,
   "metadata": {},
   "outputs": [
    {
     "data": {
      "text/plain": [
       "(-0.000421052631578947, 0, 0.000421052631578947, 0)"
      ]
     },
     "execution_count": 77,
     "metadata": {},
     "output_type": "execute_result"
    }
   ],
   "source": [
    "model.model(model.y0[0], 1, model.parameters, model.substrate_rate_law)"
   ]
  },
  {
   "cell_type": "code",
   "execution_count": null,
   "metadata": {},
   "outputs": [],
   "source": [
    "import sympy as s"
   ]
  },
  {
   "cell_type": "code",
   "execution_count": null,
   "metadata": {},
   "outputs": [
    {
     "data": {
      "text/plain": [
       "sympy.core.mul.Mul"
      ]
     },
     "execution_count": 79,
     "metadata": {},
     "output_type": "execute_result"
    }
   ],
   "source": [
    "type(ds.subs(params))"
   ]
  },
  {
   "cell_type": "code",
   "execution_count": null,
   "metadata": {},
   "outputs": [
    {
     "data": {
      "text/plain": [
       "array([[[1.10000000e+01, 4.00000000e-02, 0.00000000e+00, 0.00000000e+00],\n",
       "        [1.09986070e+01, 3.96019916e-02, 1.39296358e-03, 0.00000000e+00],\n",
       "        [1.09972281e+01, 3.92079432e-02, 2.77193714e-03, 0.00000000e+00]]])"
      ]
     },
     "execution_count": 80,
     "metadata": {},
     "output_type": "execute_result"
    }
   ],
   "source": [
    "model.integrate(model.parameters, [[0, 1, 2]], [(11, 0.04, 0, 0)])"
   ]
  },
  {
   "cell_type": "code",
   "execution_count": null,
   "metadata": {},
   "outputs": [],
   "source": [
    "model.fit([[100, 99, 98]], [[0, 1, 2]])"
   ]
  },
  {
   "cell_type": "code",
   "execution_count": null,
   "metadata": {},
   "outputs": [
    {
     "data": {
      "text/plain": [
       "ModelResult(id='modelresult1', name='test', equations=['-k_cat * enzyme * substrate / (K_m + substrate)', '-k_ie * enzyme'], parameters=[Parameter(id='parameter3', name='k_cat', value=13.999999397707992, unit=None, standard_deviation=3.885180643472347e+18, correlations=[Correlation(id='correlation6', parameter='K_m', value=-1.0000000000000002), Correlation(id='correlation7', parameter='k_ie', value=-1.0000000000000002)], upper_limit=14.000000000000002, lower_limit=0.0014000000000000002), Parameter(id='parameter4', name='K_m', value=0.33000000694277276, unit=None, standard_deviation=8.488314696333461e+19, correlations=[Correlation(id='correlation8', parameter='k_cat', value=-1.0000000000000002), Correlation(id='correlation9', parameter='k_ie', value=1.0)], upper_limit=330000.0, lower_limit=0.33), Parameter(id='parameter5', name='k_ie', value=0.00010002009219184191, unit=None, standard_deviation=1.936725553971695e+17, correlations=[Correlation(id='correlation10', parameter='k_cat', value=-1.0000000000000002), Correlation(id='correlation11', parameter='K_m', value=1.0)], upper_limit=0.9999, lower_limit=0.0001)], fit_success=True, AIC=7.18790532086026, BIC=4.483742186864589, RMSD=1.2189431589216013)"
      ]
     },
     "execution_count": 82,
     "metadata": {},
     "output_type": "execute_result"
    }
   ],
   "source": [
    "model.result"
   ]
  }
 ],
 "metadata": {
  "kernelspec": {
   "display_name": "kinetics",
   "language": "python",
   "name": "python3"
  },
  "language_info": {
   "codemirror_mode": {
    "name": "ipython",
    "version": 3
   },
   "file_extension": ".py",
   "mimetype": "text/x-python",
   "name": "python",
   "nbconvert_exporter": "python",
   "pygments_lexer": "ipython3",
   "version": "3.10.9"
  },
  "orig_nbformat": 4
 },
 "nbformat": 4,
 "nbformat_minor": 2
}
