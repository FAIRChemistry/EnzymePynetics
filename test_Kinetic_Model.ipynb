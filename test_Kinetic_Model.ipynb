{
 "cells": [
  {
   "cell_type": "code",
   "execution_count": 3,
   "metadata": {},
   "outputs": [],
   "source": [
    "%reload_ext autoreload\n",
    "%autoreload 2\n",
    "\n",
    "from EnzymePynetics.tools.kineticmodel import KineticModel"
   ]
  },
  {
   "cell_type": "code",
   "execution_count": 40,
   "metadata": {},
   "outputs": [],
   "source": [
    "model = KineticModel(\n",
    "    name=\"test\",\n",
    "    substrate_rate_law=\"-k_cat * enzyme * substrate / (K_m + substrate)\",\n",
    "    enzyme_rate_law=\"-k_ie * enzyme\",\n",
    "    params=[\"k_cat\", \"K_m\", \"k_ie\"],\n",
    "    kcat_initial=0.14,\n",
    "    Km_initial=33,\n",
    "    y0=[(100, 0.004, 0, 0)]\n",
    ")"
   ]
  },
  {
   "cell_type": "code",
   "execution_count": 41,
   "metadata": {},
   "outputs": [
    {
     "data": {
      "text/plain": [
       "(100, 0.004, 0, 0)"
      ]
     },
     "execution_count": 41,
     "metadata": {},
     "output_type": "execute_result"
    }
   ],
   "source": [
    "model.y0[0]"
   ]
  },
  {
   "cell_type": "code",
   "execution_count": 42,
   "metadata": {},
   "outputs": [
    {
     "name": "stdout",
     "output_type": "stream",
     "text": [
      "{'k_cat': 0.14, 'K_m': 33, 'K_ie': 0.01, 'substrate': 100, 'enzyme': 0.004, 'product': 0, 'inhibitor': 0}\n"
     ]
    },
    {
     "data": {
      "text/plain": [
       "(-0.000421052631578947, 0, 0.000421052631578947, 0)"
      ]
     },
     "execution_count": 42,
     "metadata": {},
     "output_type": "execute_result"
    }
   ],
   "source": [
    "model.model(model.y0[0], 1, model.parameters, model.substrate_rate_law)"
   ]
  },
  {
   "cell_type": "code",
   "execution_count": 7,
   "metadata": {},
   "outputs": [],
   "source": [
    "import sympy as s"
   ]
  },
  {
   "cell_type": "code",
   "execution_count": 33,
   "metadata": {},
   "outputs": [],
   "source": [
    "substrate_rate_law = \"-k_cat * substrate / (K_m + substrate)\"\n",
    "params = {\"k_cat\": 12, \"K_m\": 1, \"sussbstrate\": 3.3}\n",
    "r2 = '2/3 + 5/2'\n",
    "ds = s.sympify(substrate_rate_law)"
   ]
  },
  {
   "cell_type": "code",
   "execution_count": 34,
   "metadata": {},
   "outputs": [
    {
     "data": {
      "text/plain": [
       "sympy.core.mul.Mul"
      ]
     },
     "execution_count": 34,
     "metadata": {},
     "output_type": "execute_result"
    }
   ],
   "source": [
    "type(ds.subs(params))"
   ]
  },
  {
   "cell_type": "code",
   "execution_count": 49,
   "metadata": {},
   "outputs": [
    {
     "name": "stdout",
     "output_type": "stream",
     "text": [
      "{'k_cat': 0.14, 'K_m': 33, 'K_ie': 0.01, 'substrate': 11.0, 'enzyme': 0.04, 'product': 0.0, 'inhibitor': 0.0}\n",
      "-0.00140000000000000 -E*k_ie\n"
     ]
    },
    {
     "ename": "TypeError",
     "evalue": "Cannot convert expression to float",
     "output_type": "error",
     "traceback": [
      "\u001b[0;31m---------------------------------------------------------------------------\u001b[0m",
      "\u001b[0;31mTypeError\u001b[0m                                 Traceback (most recent call last)",
      "Cell \u001b[0;32mIn[49], line 1\u001b[0m\n\u001b[0;32m----> 1\u001b[0m model\u001b[39m.\u001b[39;49mintegrate(model\u001b[39m.\u001b[39;49mparameters, [[\u001b[39m0\u001b[39;49m, \u001b[39m1\u001b[39;49m, \u001b[39m2\u001b[39;49m]], [(\u001b[39m11\u001b[39;49m, \u001b[39m0.04\u001b[39;49m, \u001b[39m0\u001b[39;49m, \u001b[39m0\u001b[39;49m)])\n",
      "File \u001b[0;32m~/code/EnzymePynetics/EnzymePynetics/tools/kineticmodel.py:113\u001b[0m, in \u001b[0;36mKineticModel.integrate\u001b[0;34m(self, parameters, time, y0)\u001b[0m\n\u001b[1;32m     99\u001b[0m \u001b[39mdef\u001b[39;00m \u001b[39mintegrate\u001b[39m(\n\u001b[1;32m    100\u001b[0m     \u001b[39mself\u001b[39m, parameters: Parameters, time: \u001b[39mlist\u001b[39m, y0: \u001b[39mtuple\u001b[39m\n\u001b[1;32m    101\u001b[0m ) \u001b[39m-\u001b[39m\u001b[39m>\u001b[39m np\u001b[39m.\u001b[39mndarray:\n\u001b[1;32m    102\u001b[0m \u001b[39m    \u001b[39m\u001b[39m\"\"\"Integrates model based on parameters for a given time array and initial conditions.\u001b[39;00m\n\u001b[1;32m    103\u001b[0m \n\u001b[1;32m    104\u001b[0m \u001b[39m    Args:\u001b[39;00m\n\u001b[0;32m   (...)\u001b[0m\n\u001b[1;32m    110\u001b[0m \u001b[39m        result (np.ndarray): integrated model over given time.\u001b[39;00m\n\u001b[1;32m    111\u001b[0m \u001b[39m    \"\"\"\u001b[39;00m\n\u001b[0;32m--> 113\u001b[0m     result \u001b[39m=\u001b[39m np\u001b[39m.\u001b[39marray([odeint(func\u001b[39m=\u001b[39m\u001b[39mself\u001b[39m\u001b[39m.\u001b[39mmodel, y0\u001b[39m=\u001b[39my, t\u001b[39m=\u001b[39mt, args\u001b[39m=\u001b[39m(\n\u001b[1;32m    114\u001b[0m         parameters, \u001b[39mself\u001b[39m\u001b[39m.\u001b[39msubstrate_rate_law, \u001b[39mself\u001b[39m\u001b[39m.\u001b[39menzyme_rate_law)) \u001b[39mfor\u001b[39;00m y, t \u001b[39min\u001b[39;00m \u001b[39mzip\u001b[39m(y0, time)])\n\u001b[1;32m    115\u001b[0m     \u001b[39mreturn\u001b[39;00m result\n",
      "File \u001b[0;32m~/code/EnzymePynetics/EnzymePynetics/tools/kineticmodel.py:113\u001b[0m, in \u001b[0;36m<listcomp>\u001b[0;34m(.0)\u001b[0m\n\u001b[1;32m     99\u001b[0m \u001b[39mdef\u001b[39;00m \u001b[39mintegrate\u001b[39m(\n\u001b[1;32m    100\u001b[0m     \u001b[39mself\u001b[39m, parameters: Parameters, time: \u001b[39mlist\u001b[39m, y0: \u001b[39mtuple\u001b[39m\n\u001b[1;32m    101\u001b[0m ) \u001b[39m-\u001b[39m\u001b[39m>\u001b[39m np\u001b[39m.\u001b[39mndarray:\n\u001b[1;32m    102\u001b[0m \u001b[39m    \u001b[39m\u001b[39m\"\"\"Integrates model based on parameters for a given time array and initial conditions.\u001b[39;00m\n\u001b[1;32m    103\u001b[0m \n\u001b[1;32m    104\u001b[0m \u001b[39m    Args:\u001b[39;00m\n\u001b[0;32m   (...)\u001b[0m\n\u001b[1;32m    110\u001b[0m \u001b[39m        result (np.ndarray): integrated model over given time.\u001b[39;00m\n\u001b[1;32m    111\u001b[0m \u001b[39m    \"\"\"\u001b[39;00m\n\u001b[0;32m--> 113\u001b[0m     result \u001b[39m=\u001b[39m np\u001b[39m.\u001b[39marray([odeint(func\u001b[39m=\u001b[39;49m\u001b[39mself\u001b[39;49m\u001b[39m.\u001b[39;49mmodel, y0\u001b[39m=\u001b[39;49my, t\u001b[39m=\u001b[39;49mt, args\u001b[39m=\u001b[39;49m(\n\u001b[1;32m    114\u001b[0m         parameters, \u001b[39mself\u001b[39;49m\u001b[39m.\u001b[39;49msubstrate_rate_law, \u001b[39mself\u001b[39;49m\u001b[39m.\u001b[39;49menzyme_rate_law)) \u001b[39mfor\u001b[39;00m y, t \u001b[39min\u001b[39;00m \u001b[39mzip\u001b[39m(y0, time)])\n\u001b[1;32m    115\u001b[0m     \u001b[39mreturn\u001b[39;00m result\n",
      "File \u001b[0;32m~/miniconda3/envs/kinetics/lib/python3.10/site-packages/scipy/integrate/_odepack_py.py:242\u001b[0m, in \u001b[0;36modeint\u001b[0;34m(func, y0, t, args, Dfun, col_deriv, full_output, ml, mu, rtol, atol, tcrit, h0, hmax, hmin, ixpr, mxstep, mxhnil, mxordn, mxords, printmessg, tfirst)\u001b[0m\n\u001b[1;32m    240\u001b[0m t \u001b[39m=\u001b[39m copy(t)\n\u001b[1;32m    241\u001b[0m y0 \u001b[39m=\u001b[39m copy(y0)\n\u001b[0;32m--> 242\u001b[0m output \u001b[39m=\u001b[39m _odepack\u001b[39m.\u001b[39;49modeint(func, y0, t, args, Dfun, col_deriv, ml, mu,\n\u001b[1;32m    243\u001b[0m                          full_output, rtol, atol, tcrit, h0, hmax, hmin,\n\u001b[1;32m    244\u001b[0m                          ixpr, mxstep, mxhnil, mxordn, mxords,\n\u001b[1;32m    245\u001b[0m                          \u001b[39mint\u001b[39;49m(\u001b[39mbool\u001b[39;49m(tfirst)))\n\u001b[1;32m    246\u001b[0m \u001b[39mif\u001b[39;00m output[\u001b[39m-\u001b[39m\u001b[39m1\u001b[39m] \u001b[39m<\u001b[39m \u001b[39m0\u001b[39m:\n\u001b[1;32m    247\u001b[0m     warning_msg \u001b[39m=\u001b[39m _msgs[output[\u001b[39m-\u001b[39m\u001b[39m1\u001b[39m]] \u001b[39m+\u001b[39m \u001b[39m\"\u001b[39m\u001b[39m Run with full_output = 1 to get quantitative information.\u001b[39m\u001b[39m\"\u001b[39m\n",
      "File \u001b[0;32m~/miniconda3/envs/kinetics/lib/python3.10/site-packages/sympy/core/expr.py:351\u001b[0m, in \u001b[0;36mExpr.__float__\u001b[0;34m(self)\u001b[0m\n\u001b[1;32m    349\u001b[0m \u001b[39mif\u001b[39;00m result\u001b[39m.\u001b[39mis_number \u001b[39mand\u001b[39;00m result\u001b[39m.\u001b[39mas_real_imag()[\u001b[39m1\u001b[39m]:\n\u001b[1;32m    350\u001b[0m     \u001b[39mraise\u001b[39;00m \u001b[39mTypeError\u001b[39;00m(\u001b[39m\"\u001b[39m\u001b[39mCannot convert complex to float\u001b[39m\u001b[39m\"\u001b[39m)\n\u001b[0;32m--> 351\u001b[0m \u001b[39mraise\u001b[39;00m \u001b[39mTypeError\u001b[39;00m(\u001b[39m\"\u001b[39m\u001b[39mCannot convert expression to float\u001b[39m\u001b[39m\"\u001b[39m)\n",
      "\u001b[0;31mTypeError\u001b[0m: Cannot convert expression to float"
     ]
    }
   ],
   "source": [
    "model.integrate(model.parameters, [[0, 1, 2]], [(11, 0.04, 0, 0)])"
   ]
  }
 ],
 "metadata": {
  "kernelspec": {
   "display_name": "kinetics",
   "language": "python",
   "name": "python3"
  },
  "language_info": {
   "codemirror_mode": {
    "name": "ipython",
    "version": 3
   },
   "file_extension": ".py",
   "mimetype": "text/x-python",
   "name": "python",
   "nbconvert_exporter": "python",
   "pygments_lexer": "ipython3",
   "version": "3.10.9"
  },
  "orig_nbformat": 4
 },
 "nbformat": 4,
 "nbformat_minor": 2
}
