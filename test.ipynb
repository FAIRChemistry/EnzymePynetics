{
 "cells": [
  {
   "cell_type": "code",
   "execution_count": 124,
   "metadata": {},
   "outputs": [
    {
     "name": "stdout",
     "output_type": "stream",
     "text": [
      "The autoreload extension is already loaded. To reload it, use:\n",
      "  %reload_ext autoreload\n"
     ]
    }
   ],
   "source": [
    "import matplotlib.pyplot as plt\n",
    "\n",
    "%load_ext autoreload\n",
    "%autoreload 2\n",
    "from EnzymePynetics.tools.parameterestimator import ParameterEstimator, KineticModel\n",
    "import numpy as np"
   ]
  },
  {
   "cell_type": "code",
   "execution_count": null,
   "metadata": {},
   "outputs": [],
   "source": []
  },
  {
   "cell_type": "code",
   "execution_count": 125,
   "metadata": {},
   "outputs": [
    {
     "name": "stdout",
     "output_type": "stream",
     "text": [
      "0.0011\n",
      "(1, 31) (1, 4)\n"
     ]
    },
    {
     "data": {
      "text/plain": [
       "<matplotlib.collections.PathCollection at 0x28d99c520>"
      ]
     },
     "execution_count": 125,
     "metadata": {},
     "output_type": "execute_result"
    },
    {
     "data": {
      "image/png": "[encoded data removed]",
      "text/plain": [
       "<Figure size 640x480 with 1 Axes>"
      ]
     },
     "metadata": {},
     "output_type": "display_data"
    }
   ],
   "source": [
    "model = KineticModel(\n",
    "    name=\"Michaelis-Menten\",\n",
    "    substrate_rate_law=\"-k_cat * enzyme * substrate / (K_m + substrate)\",\n",
    "    enzyme_rate_law=\"-k_ie * enzyme\",\n",
    "    params=[\"k_cat\", \"K_m\"],\n",
    "    Km_initial=50,\n",
    "    kcat_initial=20,\n",
    ")\n",
    "\n",
    "model.parameters[\"k_ie\"].value = 0.0011\n",
    "print(model.parameters[\"k_ie\"].value)\n",
    "\n",
    "time = np.linspace(0, 15*60, 31).reshape(1, 31)\n",
    "init_conditions = np.array([100, 6, 0, 0]).reshape(1, 4)\n",
    "print(time.shape, init_conditions.shape)\n",
    "resu = model.integrate(model.parameters, time, init_conditions)\n",
    "\n",
    "plt.scatter(np.linspace(0, 15*60, 31), resu[0][:, 0])"
   ]
  },
  {
   "cell_type": "code",
   "execution_count": 122,
   "metadata": {},
   "outputs": [],
   "source": [
    "import matplotlib.pyplot as plt"
   ]
  },
  {
   "cell_type": "code",
   "execution_count": 123,
   "metadata": {},
   "outputs": [
    {
     "data": {
      "text/plain": [
       "array([ 1.00000000e+02, -5.85866697e-12,  1.39455712e-14, -8.11737164e-14,\n",
       "        8.13581960e-14, -7.25652056e-14,  3.90546441e-14, -1.23373319e-14,\n",
       "        1.15551021e-14,  1.12278241e-13,  5.44503315e-14,  1.25883338e-13,\n",
       "        5.13518326e-14,  3.47210790e-14, -4.58090955e-13, -1.09503808e-12,\n",
       "       -3.09993198e-13,  2.35653255e-12,  3.37013331e-12, -1.90976335e-12,\n",
       "       -1.28382290e-11, -1.39693563e-11,  1.61918292e-11,  6.29032882e-11,\n",
       "        7.76094349e-11, -2.94148268e-11, -2.48952284e-10, -3.76693153e-10,\n",
       "       -7.17421072e-11,  8.76346434e-10,  1.84188709e-09])"
      ]
     },
     "execution_count": 123,
     "metadata": {},
     "output_type": "execute_result"
    }
   ],
   "source": [
    "resu[0][:, 0]"
   ]
  },
  {
   "cell_type": "code",
   "execution_count": null,
   "metadata": {},
   "outputs": [],
   "source": [
    "import sdRDM"
   ]
  },
  {
   "cell_type": "code",
   "execution_count": null,
   "metadata": {},
   "outputs": [],
   "source": []
  }
 ],
 "metadata": {
  "kernelspec": {
   "display_name": "kinetics",
   "language": "python",
   "name": "python3"
  },
  "language_info": {
   "codemirror_mode": {
    "name": "ipython",
    "version": 3
   },
   "file_extension": ".py",
   "mimetype": "text/x-python",
   "name": "python",
   "nbconvert_exporter": "python",
   "pygments_lexer": "ipython3",
   "version": "3.10.9"
  },
  "orig_nbformat": 4
 },
 "nbformat": 4,
 "nbformat_minor": 2
}
